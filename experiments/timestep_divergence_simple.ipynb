{
 "metadata": {
  "name": "",
  "signature": "sha256:36473fc1c24311677ee00a493d71c1c0ed1b5796e7e066f9bbcecfd9a8a99a68"
 },
 "nbformat": 3,
 "nbformat_minor": 0,
 "worksheets": [
  {
   "cells": [
    {
     "cell_type": "code",
     "collapsed": false,
     "input": [
      "import numpy as np\n",
      "from collections import defaultdict\n",
      "\n",
      "from spectral_dagger.utils.math import p_sequence\n",
      "from spectral_dagger.mdp import MDPPolicy\n",
      "from spectral_dagger.dagger_example import BadExampleMDP\n",
      "from spectral_dagger.mdp import TimeDependentRewardMDP\n",
      "from spectral_dagger.function_approximation import IdentityFeatureExtractor\n",
      "from spectral_dagger.function_approximation import StateActionFeatureExtractor\n",
      "from spectral_dagger.mdp import REINFORCE\n",
      "from spectral_dagger.mdp import LinearGibbsPolicy\n",
      "\n",
      "from sklearn.neighbors import KernelDensity\n",
      "from sklearn.linear_model import LogisticRegression\n",
      "\n",
      "%matplotlib inline\n",
      "\n",
      "\n",
      "n_expert_trajectories = 5\n",
      "n_samples_per_gradient = 10\n",
      "horizon = 10\n",
      "smoothing = 1.0\n",
      "threshold = 0.001\n",
      "lmbda = 0.5\n",
      "delta = 0.1\n",
      "gamma = 0.99\n",
      "_alpha = p_sequence(start=3., p=.6)"
     ],
     "language": "python",
     "metadata": {},
     "outputs": [],
     "prompt_number": 8
    },
    {
     "cell_type": "code",
     "collapsed": false,
     "input": [
      "mdp = BadExampleMDP(0.1)\n",
      "bad_mapping = {0: 1, 1: 0, 2: 1, 3: 0, 4: 1}\n",
      "bad_mapping = {\n",
      "    s: BadExampleMDP.actions[a] for s, a in bad_mapping.iteritems()}\n",
      "expert = MDPPolicy(bad_mapping)\n",
      "\n",
      "for i in range(1):\n",
      "    mdp.sample_trajectory(expert, horizon, reset=True, display=0.01)"
     ],
     "language": "python",
     "metadata": {},
     "outputs": []
    },
    {
     "cell_type": "code",
     "collapsed": false,
     "input": [
      "# sample expert trajectories\n",
      "expert_action_data = defaultdict(list)\n",
      "\n",
      "expert_step_wise_states = [[] for i in range(horizon)]\n",
      "expert_examples = []\n",
      "expert_actions = []\n",
      "\n",
      "expert_trajectories = []\n",
      "for n in range(n_expert_trajectories):\n",
      "    trajectory = mdp.sample_trajectory(\n",
      "        expert, horizon=horizon, display=False)\n",
      "    expert_trajectories.append(trajectory)\n",
      "\n",
      "    for t, (s, a, r) in enumerate(trajectory):\n",
      "        expert_examples.append(np.array(s))\n",
      "        expert_actions.append(a.name)\n",
      "        expert_step_wise_states[t].append(np.array(s))\n",
      "        \n",
      "expert_classifier = LogisticRegression().fit(expert_examples, expert_actions)\n",
      "\n",
      "expert_step_wise_dists = []\n",
      "for d in expert_step_wise_states:\n",
      "    kde = KernelDensity(\n",
      "        bandwidth=0.04, kernel='gaussian', algorithm='ball_tree')\n",
      "    kde.fit(d)\n",
      "    expert_step_wise_dists.append(kde)"
     ],
     "language": "python",
     "metadata": {},
     "outputs": [],
     "prompt_number": 3
    },
    {
     "cell_type": "code",
     "collapsed": false,
     "input": [
      "# define alternate mdp\n",
      "def make_get_reward(\n",
      "        expert_step_wise_dists, expert_classifier, lmbda):\n",
      "    \n",
      "    def get_reward(action, cur_state, next_state, t):\n",
      "        dist = expert_step_wise_dists[t]\n",
      "        state_reward = dist.score_samples(\n",
      "            [np.array(cur_state)])[0]\n",
      "        action_reward = expert_classifier.predict_log_proba(\n",
      "            [np.array(cur_state)])[0][action]\n",
      "        \n",
      "        return (1 - lmbda) * state_reward + lmbda * action_reward\n",
      "    \n",
      "    return get_reward\n",
      "        \n",
      "get_reward = make_get_reward(\n",
      "    expert_step_wise_dists, expert_classifier, lmbda=0.5)\n",
      "tdr_mdp = TimeDependentRewardMDP(mdp, get_reward)"
     ],
     "language": "python",
     "metadata": {},
     "outputs": [],
     "prompt_number": 4
    },
    {
     "cell_type": "code",
     "collapsed": false,
     "input": [
      "# train agent\n",
      "learner = REINFORCE(LinearGibbsPolicy)\n",
      "state_feature_extractor = IdentityFeatureExtractor(2)\n",
      "feature_extractor = StateActionFeatureExtractor(\n",
      "    state_feature_extractor, mdp.n_actions)\n",
      "\n",
      "agent = learner.fit(\n",
      "    tdr_mdp, horizon=horizon, feature_extractor=feature_extractor,\n",
      "    alpha=p_sequence(start=3.0, p=0.6),\n",
      "    n_samples=2, max_steps=300)\n",
      "for i in range(10):\n",
      "    mdp.sample_trajectory(agent, horizon, reset=True, display=0.01)\n"
     ],
     "language": "python",
     "metadata": {},
     "outputs": [
      {
       "output_type": "stream",
       "stream": "stderr",
       "text": [
        "INFO:REINFORCE:********************Iteration: 0\n"
       ]
      },
      {
       "output_type": "stream",
       "stream": "stderr",
       "text": [
        "INFO:REINFORCE:Gradient step\n"
       ]
      },
      {
       "output_type": "stream",
       "stream": "stderr",
       "text": [
        "INFO:REINFORCE:Step norm: 1.0\n"
       ]
      },
      {
       "output_type": "stream",
       "stream": "stderr",
       "text": [
        "INFO:REINFORCE:Alpha: 0.435275281648\n"
       ]
      },
      {
       "output_type": "stream",
       "stream": "stderr",
       "text": [
        "INFO:REINFORCE:Return from iter 0:  18.624976\n"
       ]
      },
      {
       "output_type": "stream",
       "stream": "stderr",
       "text": [
        "INFO:REINFORCE:Return from iter 1:  -295.063092\n"
       ]
      },
      {
       "output_type": "stream",
       "stream": "stderr",
       "text": [
        "INFO:REINFORCE:********************Iteration: 1\n"
       ]
      },
      {
       "output_type": "stream",
       "stream": "stderr",
       "text": [
        "INFO:REINFORCE:Gradient step\n"
       ]
      },
      {
       "output_type": "stream",
       "stream": "stderr",
       "text": [
        "INFO:REINFORCE:Step norm: 1.0\n"
       ]
      },
      {
       "output_type": "stream",
       "stream": "stderr",
       "text": [
        "INFO:REINFORCE:Alpha: 0.380730787743\n"
       ]
      },
      {
       "output_type": "stream",
       "stream": "stderr",
       "text": [
        "INFO:REINFORCE:Return from iter 0:  14.504447\n"
       ]
      },
      {
       "output_type": "stream",
       "stream": "stderr",
       "text": [
        "INFO:REINFORCE:Return from iter 1:  -4672.997451\n"
       ]
      },
      {
       "output_type": "stream",
       "stream": "stderr",
       "text": [
        "INFO:REINFORCE:********************Iteration: 2\n"
       ]
      },
      {
       "output_type": "stream",
       "stream": "stderr",
       "text": [
        "INFO:REINFORCE:Gradient step\n"
       ]
      },
      {
       "output_type": "stream",
       "stream": "stderr",
       "text": [
        "INFO:REINFORCE:Step norm: 1.0\n"
       ]
      },
      {
       "output_type": "stream",
       "stream": "stderr",
       "text": [
        "INFO:REINFORCE:Alpha: 0.341278751847\n"
       ]
      },
      {
       "output_type": "stream",
       "stream": "stderr",
       "text": [
        "INFO:REINFORCE:Return from iter 0:  -8110.655754\n"
       ]
      },
      {
       "output_type": "stream",
       "stream": "stderr",
       "text": [
        "INFO:REINFORCE:Return from iter 1:  -8110.888167\n"
       ]
      },
      {
       "output_type": "stream",
       "stream": "stderr",
       "text": [
        "INFO:REINFORCE:********************Iteration: 3\n"
       ]
      },
      {
       "output_type": "stream",
       "stream": "stderr",
       "text": [
        "INFO:REINFORCE:Gradient step\n"
       ]
      },
      {
       "output_type": "stream",
       "stream": "stderr",
       "text": [
        "INFO:REINFORCE:Step norm: 1.0\n"
       ]
      },
      {
       "output_type": "stream",
       "stream": "stderr",
       "text": [
        "INFO:REINFORCE:Alpha: 0.311129489212\n"
       ]
      },
      {
       "output_type": "stream",
       "stream": "stderr",
       "text": [
        "INFO:REINFORCE:Return from iter 0:  18.975737\n"
       ]
      },
      {
       "output_type": "stream",
       "stream": "stderr",
       "text": [
        "INFO:REINFORCE:Return from iter 1:  -8111.120580\n"
       ]
      },
      {
       "output_type": "stream",
       "stream": "stderr",
       "text": [
        "INFO:REINFORCE:********************Iteration: 4\n"
       ]
      },
      {
       "output_type": "stream",
       "stream": "stderr",
       "text": [
        "INFO:REINFORCE:Gradient step\n"
       ]
      },
      {
       "output_type": "stream",
       "stream": "stderr",
       "text": [
        "INFO:REINFORCE:Step norm: 1.0\n"
       ]
      },
      {
       "output_type": "stream",
       "stream": "stderr",
       "text": [
        "INFO:REINFORCE:Alpha: 0.287174588749\n"
       ]
      },
      {
       "output_type": "stream",
       "stream": "stderr",
       "text": [
        "INFO:REINFORCE:Return from iter 0:  -4046.038851\n"
       ]
      },
      {
       "output_type": "stream",
       "stream": "stderr",
       "text": [
        "INFO:REINFORCE:Return from iter 1:  -4673.694690\n"
       ]
      },
      {
       "output_type": "stream",
       "stream": "stdout",
       "text": [
        "Return from iter 0:  18.624976\n",
        "Return from iter 1:  -295.063092\n",
        "Updated theta with alpha: 0.435275281648, theta norm: 1.0\n",
        "Return from iter 0:  14.504447\n",
        "Return from iter 1:  -4672.997451\n",
        "Updated theta with alpha: 0.380730787743, theta norm: 1.0\n",
        "Return from iter 0:  -8110.655754\n",
        "Return from iter 1:  -8110.888167\n",
        "Updated theta with alpha: 0.341278751847, theta norm: 1.0\n",
        "Return from iter 0:  18.975737\n",
        "Return from iter 1:  -8111.120580\n",
        "Updated theta with alpha: 0.311129489212, theta norm: 1.0\n",
        "Return from iter 0:  -4046.038851\n",
        "Return from iter 1:  -4673.694690\n",
        "Updated theta with alpha: 0.287174588749, theta norm: 1.0\n",
        "Return from iter 0:  18.956013"
       ]
      },
      {
       "output_type": "stream",
       "stream": "stderr",
       "text": [
        "INFO:REINFORCE:********************Iteration: 5\n"
       ]
      },
      {
       "output_type": "stream",
       "stream": "stderr",
       "text": [
        "INFO:REINFORCE:Gradient step\n"
       ]
      },
      {
       "output_type": "stream",
       "stream": "stderr",
       "text": [
        "INFO:REINFORCE:Step norm: 1.0\n"
       ]
      },
      {
       "output_type": "stream",
       "stream": "stderr",
       "text": [
        "INFO:REINFORCE:Alpha: 0.267580520587\n"
       ]
      },
      {
       "output_type": "stream",
       "stream": "stderr",
       "text": [
        "INFO:REINFORCE:Return from iter 0:  18.956013\n"
       ]
      },
      {
       "output_type": "stream",
       "stream": "stderr",
       "text": [
        "INFO:REINFORCE:Return from iter 1:  -298.044988\n"
       ]
      },
      {
       "output_type": "stream",
       "stream": "stderr",
       "text": [
        "INFO:REINFORCE:********************Iteration: 6\n"
       ]
      },
      {
       "output_type": "stream",
       "stream": "stderr",
       "text": [
        "INFO:REINFORCE:Gradient step\n"
       ]
      },
      {
       "output_type": "stream",
       "stream": "stderr",
       "text": [
        "INFO:REINFORCE:Step norm: 1.0\n"
       ]
      },
      {
       "output_type": "stream",
       "stream": "stderr",
       "text": [
        "INFO:REINFORCE:Alpha: 0.251188643151\n"
       ]
      },
      {
       "output_type": "stream",
       "stream": "stderr",
       "text": [
        "INFO:REINFORCE:Return from iter 0:  18.975737\n"
       ]
      },
      {
       "output_type": "stream",
       "stream": "stderr",
       "text": [
        "INFO:REINFORCE:Return from iter 1:  -294.673659\n"
       ]
      },
      {
       "output_type": "stream",
       "stream": "stderr",
       "text": [
        "INFO:REINFORCE:********************Iteration: 7\n"
       ]
      },
      {
       "output_type": "stream",
       "stream": "stderr",
       "text": [
        "INFO:REINFORCE:Gradient step\n"
       ]
      },
      {
       "output_type": "stream",
       "stream": "stderr",
       "text": [
        "INFO:REINFORCE:Step norm: 1.0\n"
       ]
      },
      {
       "output_type": "stream",
       "stream": "stderr",
       "text": [
        "INFO:REINFORCE:Alpha: 0.237227148662\n"
       ]
      },
      {
       "output_type": "stream",
       "stream": "stderr",
       "text": [
        "INFO:REINFORCE:Return from iter 0:  18.267735\n"
       ]
      },
      {
       "output_type": "stream",
       "stream": "stderr",
       "text": [
        "INFO:REINFORCE:Return from iter 1:  14.484722\n"
       ]
      },
      {
       "output_type": "stream",
       "stream": "stderr",
       "text": [
        "INFO:REINFORCE:********************Iteration: 8\n"
       ]
      },
      {
       "output_type": "stream",
       "stream": "stderr",
       "text": [
        "INFO:REINFORCE:Gradient step\n"
       ]
      },
      {
       "output_type": "stream",
       "stream": "stderr",
       "text": [
        "INFO:REINFORCE:Step norm: 1.0\n"
       ]
      },
      {
       "output_type": "stream",
       "stream": "stderr",
       "text": [
        "INFO:REINFORCE:Alpha: 0.22516000642\n"
       ]
      },
      {
       "output_type": "stream",
       "stream": "stderr",
       "text": [
        "INFO:REINFORCE:Return from iter 0:  -7798.620580\n"
       ]
      },
      {
       "output_type": "stream",
       "stream": "stderr",
       "text": [
        "INFO:REINFORCE:Return from iter 1:  -8110.888167\n"
       ]
      },
      {
       "output_type": "stream",
       "stream": "stderr",
       "text": [
        "INFO:REINFORCE:********************Iteration: 9\n"
       ]
      },
      {
       "output_type": "stream",
       "stream": "stderr",
       "text": [
        "INFO:REINFORCE:Gradient step\n"
       ]
      },
      {
       "output_type": "stream",
       "stream": "stderr",
       "text": [
        "INFO:REINFORCE:Step norm: 0.0\n"
       ]
      },
      {
       "output_type": "stream",
       "stream": "stderr",
       "text": [
        "INFO:REINFORCE:Alpha: 0.214602110453\n"
       ]
      },
      {
       "output_type": "stream",
       "stream": "stderr",
       "text": [
        "INFO:REINFORCE:Return from iter 0:  -8111.120580\n"
       ]
      },
      {
       "output_type": "stream",
       "stream": "stderr",
       "text": [
        "INFO:REINFORCE:Return from iter 1:  -8111.120580\n"
       ]
      },
      {
       "output_type": "stream",
       "stream": "stdout",
       "text": [
        "\n",
        "Return from iter 1:  -298.044988\n",
        "Updated theta with alpha: 0.267580520587, theta norm: 1.0\n",
        "Return from iter 0:  18.975737\n",
        "Return from iter 1:  -294.673659\n",
        "Updated theta with alpha: 0.251188643151, theta norm: 1.0\n",
        "Return from iter 0:  18.267735\n",
        "Return from iter 1:  14.484722\n",
        "Updated theta with alpha: 0.237227148662, theta norm: 1.0\n",
        "Return from iter 0:  -7798.620580\n",
        "Return from iter 1:  -8110.888167\n",
        "Updated theta with alpha: 0.22516000642, theta norm: 1.0\n",
        "Return from iter 0:  -8111.120580\n",
        "Return from iter 1:  -8111.120580\n",
        "Updated theta with alpha: 0.214602110453, theta norm: 0.0\n",
        "Return from iter 0:  -8111.120580"
       ]
      },
      {
       "output_type": "stream",
       "stream": "stderr",
       "text": [
        "INFO:REINFORCE:********************Iteration: 10\n"
       ]
      },
      {
       "output_type": "stream",
       "stream": "stderr",
       "text": [
        "INFO:REINFORCE:Gradient step\n"
       ]
      },
      {
       "output_type": "stream",
       "stream": "stderr",
       "text": [
        "INFO:REINFORCE:Step norm: 0.0\n"
       ]
      },
      {
       "output_type": "stream",
       "stream": "stderr",
       "text": [
        "INFO:REINFORCE:Alpha: 0.205268911145\n"
       ]
      },
      {
       "output_type": "stream",
       "stream": "stderr",
       "text": [
        "INFO:REINFORCE:Return from iter 0:  -8111.120580\n"
       ]
      },
      {
       "output_type": "stream",
       "stream": "stderr",
       "text": [
        "INFO:REINFORCE:Return from iter 1:  -8111.120580\n"
       ]
      },
      {
       "output_type": "stream",
       "stream": "stderr",
       "text": [
        "INFO:REINFORCE:********************Iteration: 11\n"
       ]
      },
      {
       "output_type": "stream",
       "stream": "stderr",
       "text": [
        "INFO:REINFORCE:Gradient step\n"
       ]
      },
      {
       "output_type": "stream",
       "stream": "stderr",
       "text": [
        "INFO:REINFORCE:Step norm: 1.0\n"
       ]
      },
      {
       "output_type": "stream",
       "stream": "stderr",
       "text": [
        "INFO:REINFORCE:Alpha: 0.196945129271\n"
       ]
      },
      {
       "output_type": "stream",
       "stream": "stderr",
       "text": [
        "INFO:REINFORCE:Return from iter 0:  18.975737\n"
       ]
      },
      {
       "output_type": "stream",
       "stream": "stderr",
       "text": [
        "INFO:REINFORCE:Return from iter 1:  -294.227779\n"
       ]
      },
      {
       "output_type": "stream",
       "stream": "stderr",
       "text": [
        "INFO:REINFORCE:********************Iteration: 12\n"
       ]
      },
      {
       "output_type": "stream",
       "stream": "stderr",
       "text": [
        "INFO:REINFORCE:Gradient step\n"
       ]
      },
      {
       "output_type": "stream",
       "stream": "stderr",
       "text": [
        "INFO:REINFORCE:Step norm: 1.0\n"
       ]
      },
      {
       "output_type": "stream",
       "stream": "stderr",
       "text": [
        "INFO:REINFORCE:Alpha: 0.189464570814\n"
       ]
      },
      {
       "output_type": "stream",
       "stream": "stderr",
       "text": [
        "INFO:REINFORCE:Return from iter 0:  18.975737\n"
       ]
      },
      {
       "output_type": "stream",
       "stream": "stderr",
       "text": [
        "INFO:REINFORCE:Return from iter 1:  -4047.312881\n"
       ]
      },
      {
       "output_type": "stream",
       "stream": "stderr",
       "text": [
        "INFO:REINFORCE:********************Iteration: 13\n"
       ]
      },
      {
       "output_type": "stream",
       "stream": "stderr",
       "text": [
        "INFO:REINFORCE:Gradient step\n"
       ]
      },
      {
       "output_type": "stream",
       "stream": "stderr",
       "text": [
        "INFO:REINFORCE:Step norm: 1.0\n"
       ]
      },
      {
       "output_type": "stream",
       "stream": "stderr",
       "text": [
        "INFO:REINFORCE:Alpha: 0.182696676565\n"
       ]
      },
      {
       "output_type": "stream",
       "stream": "stderr",
       "text": [
        "INFO:REINFORCE:Return from iter 0:  -7798.155754\n"
       ]
      },
      {
       "output_type": "stream",
       "stream": "stderr",
       "text": [
        "INFO:REINFORCE:Return from iter 1:  -2173.629445\n"
       ]
      },
      {
       "output_type": "stream",
       "stream": "stderr",
       "text": [
        "INFO:REINFORCE:********************Iteration: 14\n"
       ]
      },
      {
       "output_type": "stream",
       "stream": "stderr",
       "text": [
        "INFO:REINFORCE:Gradient step\n"
       ]
      },
      {
       "output_type": "stream",
       "stream": "stderr",
       "text": [
        "INFO:REINFORCE:Step norm: 1.0\n"
       ]
      },
      {
       "output_type": "stream",
       "stream": "stderr",
       "text": [
        "INFO:REINFORCE:Alpha: 0.176537306841\n"
       ]
      },
      {
       "output_type": "stream",
       "stream": "stderr",
       "text": [
        "INFO:REINFORCE:Return from iter 0:  -8110.655754\n"
       ]
      },
      {
       "output_type": "stream",
       "stream": "stderr",
       "text": [
        "INFO:REINFORCE:Return from iter 1:  -5923.694690\n"
       ]
      },
      {
       "output_type": "stream",
       "stream": "stderr",
       "text": [
        "INFO:REINFORCE:********************Iteration: 15\n"
       ]
      },
      {
       "output_type": "stream",
       "stream": "stderr",
       "text": [
        "INFO:REINFORCE:Gradient step\n"
       ]
      },
      {
       "output_type": "stream",
       "stream": "stderr",
       "text": [
        "INFO:REINFORCE:Step norm: 1.0\n"
       ]
      },
      {
       "output_type": "stream",
       "stream": "stderr",
       "text": [
        "INFO:REINFORCE:Alpha: 0.170902273218\n"
       ]
      },
      {
       "output_type": "stream",
       "stream": "stderr",
       "text": [
        "INFO:REINFORCE:Return from iter 0:  -8111.120580\n"
       ]
      },
      {
       "output_type": "stream",
       "stream": "stderr",
       "text": [
        "INFO:REINFORCE:Return from iter 1:  -2173.183566\n"
       ]
      },
      {
       "output_type": "stream",
       "stream": "stdout",
       "text": [
        "\n",
        "Return from iter 1:  -8111.120580\n",
        "Updated theta with alpha: 0.205268911145, theta norm: 0.0\n",
        "Return from iter 0:  18.975737\n",
        "Return from iter 1:  -294.227779\n",
        "Updated theta with alpha: 0.196945129271, theta norm: 1.0\n",
        "Return from iter 0:  18.975737\n",
        "Return from iter 1:  -4047.312881\n",
        "Updated theta with alpha: 0.189464570814, theta norm: 1.0\n",
        "Return from iter 0:  -7798.155754\n",
        "Return from iter 1:  -2173.629445\n",
        "Updated theta with alpha: 0.182696676565, theta norm: 1.0\n",
        "Return from iter 0:  -8110.655754\n",
        "Return from iter 1:  -5923.694690\n",
        "Updated theta with alpha: 0.176537306841, theta norm: 1.0\n",
        "Return from iter 0:  -8111.120580\n",
        "Return from iter 1:  -2173.183566\n",
        "Updated theta with alpha: 0.170902273218, theta norm: 1.0\n",
        "Return from iter 0:  -294.139207"
       ]
      },
      {
       "output_type": "stream",
       "stream": "stderr",
       "text": [
        "INFO:REINFORCE:********************Iteration: 16\n"
       ]
      },
      {
       "output_type": "stream",
       "stream": "stderr",
       "text": [
        "INFO:REINFORCE:Gradient step\n"
       ]
      },
      {
       "output_type": "stream",
       "stream": "stderr",
       "text": [
        "INFO:REINFORCE:Step norm: 1.0\n"
       ]
      },
      {
       "output_type": "stream",
       "stream": "stderr",
       "text": [
        "INFO:REINFORCE:Alpha: 0.165722700867\n"
       ]
      },
      {
       "output_type": "stream",
       "stream": "stderr",
       "text": [
        "INFO:REINFORCE:Return from iter 0:  -294.139207\n"
       ]
      },
      {
       "output_type": "stream",
       "stream": "stderr",
       "text": [
        "INFO:REINFORCE:Return from iter 1:  18.975737\n"
       ]
      },
      {
       "output_type": "stream",
       "stream": "stderr",
       "text": [
        "INFO:REINFORCE:********************Iteration: 17\n"
       ]
      },
      {
       "output_type": "stream",
       "stream": "stderr",
       "text": [
        "INFO:REINFORCE:Gradient step\n"
       ]
      },
      {
       "output_type": "stream",
       "stream": "stderr",
       "text": [
        "INFO:REINFORCE:Step norm: 1.0\n"
       ]
      },
      {
       "output_type": "stream",
       "stream": "stderr",
       "text": [
        "INFO:REINFORCE:Alpha: 0.160941640249\n"
       ]
      },
      {
       "output_type": "stream",
       "stream": "stderr",
       "text": [
        "INFO:REINFORCE:Return from iter 0:  -294.673659\n"
       ]
      },
      {
       "output_type": "stream",
       "stream": "stderr",
       "text": [
        "INFO:REINFORCE:Return from iter 1:  18.975737\n"
       ]
      },
      {
       "output_type": "stream",
       "stream": "stderr",
       "text": [
        "INFO:REINFORCE:********************Iteration: 18\n"
       ]
      },
      {
       "output_type": "stream",
       "stream": "stderr",
       "text": [
        "INFO:REINFORCE:Gradient step\n"
       ]
      },
      {
       "output_type": "stream",
       "stream": "stderr",
       "text": [
        "INFO:REINFORCE:Step norm: 1.0\n"
       ]
      },
      {
       "output_type": "stream",
       "stream": "stderr",
       "text": [
        "INFO:REINFORCE:Alpha: 0.156511549655\n"
       ]
      },
      {
       "output_type": "stream",
       "stream": "stderr",
       "text": [
        "INFO:REINFORCE:Return from iter 0:  -296.178235\n"
       ]
      },
      {
       "output_type": "stream",
       "stream": "stderr",
       "text": [
        "INFO:REINFORCE:Return from iter 1:  -294.796425\n"
       ]
      },
      {
       "output_type": "stream",
       "stream": "stderr",
       "text": [
        "INFO:REINFORCE:********************Iteration: 19\n"
       ]
      },
      {
       "output_type": "stream",
       "stream": "stderr",
       "text": [
        "INFO:REINFORCE:Gradient step\n"
       ]
      },
      {
       "output_type": "stream",
       "stream": "stderr",
       "text": [
        "INFO:REINFORCE:Step norm: 1.0\n"
       ]
      },
      {
       "output_type": "stream",
       "stream": "stderr",
       "text": [
        "INFO:REINFORCE:Alpha: 0.15239239637\n"
       ]
      },
      {
       "output_type": "stream",
       "stream": "stderr",
       "text": [
        "INFO:REINFORCE:Return from iter 0:  -4985.888167\n"
       ]
      },
      {
       "output_type": "stream",
       "stream": "stderr",
       "text": [
        "INFO:REINFORCE:Return from iter 1:  18.411576\n"
       ]
      },
      {
       "output_type": "stream",
       "stream": "stderr",
       "text": [
        "INFO:REINFORCE:********************Iteration: 20\n"
       ]
      },
      {
       "output_type": "stream",
       "stream": "stderr",
       "text": [
        "INFO:REINFORCE:Gradient step\n"
       ]
      },
      {
       "output_type": "stream",
       "stream": "stderr",
       "text": [
        "INFO:REINFORCE:Step norm: 1.0\n"
       ]
      },
      {
       "output_type": "stream",
       "stream": "stderr",
       "text": [
        "INFO:REINFORCE:Alpha: 0.148550204831\n"
       ]
      },
      {
       "output_type": "stream",
       "stream": "stderr",
       "text": [
        "INFO:REINFORCE:Return from iter 0:  -8111.120580\n"
       ]
      },
      {
       "output_type": "stream",
       "stream": "stderr",
       "text": [
        "INFO:REINFORCE:Return from iter 1:  18.975737\n"
       ]
      },
      {
       "output_type": "stream",
       "stream": "stderr",
       "text": [
        "INFO:REINFORCE:********************Iteration: 21\n"
       ]
      },
      {
       "output_type": "stream",
       "stream": "stderr",
       "text": [
        "INFO:REINFORCE:Gradient step\n"
       ]
      },
      {
       "output_type": "stream",
       "stream": "stderr",
       "text": [
        "INFO:REINFORCE:Step norm: 1.0\n"
       ]
      },
      {
       "output_type": "stream",
       "stream": "stderr",
       "text": [
        "INFO:REINFORCE:Alpha: 0.144955932736\n"
       ]
      },
      {
       "output_type": "stream",
       "stream": "stderr",
       "text": [
        "INFO:REINFORCE:Return from iter 0:  -1233.919485\n"
       ]
      },
      {
       "output_type": "stream",
       "stream": "stderr",
       "text": [
        "INFO:REINFORCE:Return from iter 1:  18.956013\n"
       ]
      },
      {
       "output_type": "stream",
       "stream": "stdout",
       "text": [
        "\n",
        "Return from iter 1:  18.975737\n",
        "Updated theta with alpha: 0.165722700867, theta norm: 1.0\n",
        "Return from iter 0:  -294.673659\n",
        "Return from iter 1:  18.975737\n",
        "Updated theta with alpha: 0.160941640249, theta norm: 1.0\n",
        "Return from iter 0:  -296.178235\n",
        "Return from iter 1:  -294.796425\n",
        "Updated theta with alpha: 0.156511549655, theta norm: 1.0\n",
        "Return from iter 0:  -4985.888167\n",
        "Return from iter 1:  18.411576\n",
        "Updated theta with alpha: 0.15239239637, theta norm: 1.0\n",
        "Return from iter 0:  -8111.120580\n",
        "Return from iter 1:  18.975737\n",
        "Updated theta with alpha: 0.148550204831, theta norm: 1.0\n",
        "Return from iter 0:  -1233.919485\n",
        "Return from iter 1:  18.956013\n",
        "Updated theta with alpha: 0.144955932736, theta norm: 1.0\n",
        "Return from iter 0:  -922.190835"
       ]
      },
      {
       "output_type": "stream",
       "stream": "stderr",
       "text": [
        "INFO:REINFORCE:********************Iteration: 22\n"
       ]
      },
      {
       "output_type": "stream",
       "stream": "stderr",
       "text": [
        "INFO:REINFORCE:Gradient step\n"
       ]
      },
      {
       "output_type": "stream",
       "stream": "stderr",
       "text": [
        "INFO:REINFORCE:Step norm: 1.0\n"
       ]
      },
      {
       "output_type": "stream",
       "stream": "stderr",
       "text": [
        "INFO:REINFORCE:Alpha: 0.141584591206\n"
       ]
      },
      {
       "output_type": "stream",
       "stream": "stderr",
       "text": [
        "INFO:REINFORCE:Return from iter 0:  -922.190835\n"
       ]
      },
      {
       "output_type": "stream",
       "stream": "stderr",
       "text": [
        "INFO:REINFORCE:Return from iter 1:  18.975737\n"
       ]
      },
      {
       "output_type": "stream",
       "stream": "stderr",
       "text": [
        "INFO:REINFORCE:********************Iteration: 23\n"
       ]
      },
      {
       "output_type": "stream",
       "stream": "stderr",
       "text": [
        "INFO:REINFORCE:Gradient step\n"
       ]
      },
      {
       "output_type": "stream",
       "stream": "stderr",
       "text": [
        "INFO:REINFORCE:Step norm: 1.0\n"
       ]
      },
      {
       "output_type": "stream",
       "stream": "stderr",
       "text": [
        "INFO:REINFORCE:Alpha: 0.138414548846\n"
       ]
      },
      {
       "output_type": "stream",
       "stream": "stderr",
       "text": [
        "INFO:REINFORCE:Return from iter 0:  18.975737\n"
       ]
      },
      {
       "output_type": "stream",
       "stream": "stderr",
       "text": [
        "INFO:REINFORCE:Return from iter 1:  14.484722\n"
       ]
      },
      {
       "output_type": "stream",
       "stream": "stderr",
       "text": [
        "INFO:REINFORCE:********************Iteration: 24\n"
       ]
      },
      {
       "output_type": "stream",
       "stream": "stderr",
       "text": [
        "INFO:REINFORCE:Gradient step\n"
       ]
      },
      {
       "output_type": "stream",
       "stream": "stderr",
       "text": [
        "INFO:REINFORCE:Step norm: 1.0\n"
       ]
      },
      {
       "output_type": "stream",
       "stream": "stderr",
       "text": [
        "INFO:REINFORCE:Alpha: 0.135426976046\n"
       ]
      },
      {
       "output_type": "stream",
       "stream": "stderr",
       "text": [
        "INFO:REINFORCE:Return from iter 0:  18.267735\n"
       ]
      },
      {
       "output_type": "stream",
       "stream": "stderr",
       "text": [
        "INFO:REINFORCE:Return from iter 1:  -296.059953\n"
       ]
      },
      {
       "output_type": "stream",
       "stream": "stderr",
       "text": [
        "INFO:REINFORCE:********************Iteration: 25\n"
       ]
      },
      {
       "output_type": "stream",
       "stream": "stderr",
       "text": [
        "INFO:REINFORCE:Gradient step\n"
       ]
      },
      {
       "output_type": "stream",
       "stream": "stderr",
       "text": [
        "INFO:REINFORCE:Step norm: 1.0\n"
       ]
      },
      {
       "output_type": "stream",
       "stream": "stderr",
       "text": [
        "INFO:REINFORCE:Alpha: 0.132605397359\n"
       ]
      },
      {
       "output_type": "stream",
       "stream": "stderr",
       "text": [
        "INFO:REINFORCE:Return from iter 0:  -294.673659\n"
       ]
      },
      {
       "output_type": "stream",
       "stream": "stderr",
       "text": [
        "INFO:REINFORCE:Return from iter 1:  -606.960192\n"
       ]
      },
      {
       "output_type": "stream",
       "stream": "stderr",
       "text": [
        "INFO:REINFORCE:********************Iteration: 26\n"
       ]
      },
      {
       "output_type": "stream",
       "stream": "stderr",
       "text": [
        "INFO:REINFORCE:Gradient step\n"
       ]
      },
      {
       "output_type": "stream",
       "stream": "stderr",
       "text": [
        "INFO:REINFORCE:Step norm: 1.0\n"
       ]
      },
      {
       "output_type": "stream",
       "stream": "stderr",
       "text": [
        "INFO:REINFORCE:Alpha: 0.129935328031\n"
       ]
      },
      {
       "output_type": "stream",
       "stream": "stderr",
       "text": [
        "INFO:REINFORCE:Return from iter 0:  18.975737\n"
       ]
      },
      {
       "output_type": "stream",
       "stream": "stderr",
       "text": [
        "INFO:REINFORCE:Return from iter 1:  18.411576\n"
       ]
      },
      {
       "output_type": "stream",
       "stream": "stderr",
       "text": [
        "INFO:REINFORCE:********************Iteration: 27\n"
       ]
      },
      {
       "output_type": "stream",
       "stream": "stderr",
       "text": [
        "INFO:REINFORCE:Gradient step\n"
       ]
      },
      {
       "output_type": "stream",
       "stream": "stderr",
       "text": [
        "INFO:REINFORCE:Step norm: 1.0\n"
       ]
      },
      {
       "output_type": "stream",
       "stream": "stderr",
       "text": [
        "INFO:REINFORCE:Alpha: 0.127403976618\n"
       ]
      },
      {
       "output_type": "stream",
       "stream": "stderr",
       "text": [
        "INFO:REINFORCE:Return from iter 0:  18.975737\n"
       ]
      },
      {
       "output_type": "stream",
       "stream": "stderr",
       "text": [
        "INFO:REINFORCE:Return from iter 1:  18.411576\n"
       ]
      },
      {
       "output_type": "stream",
       "stream": "stdout",
       "text": [
        "\n",
        "Return from iter 1:  18.975737\n",
        "Updated theta with alpha: 0.141584591206, theta norm: 1.0\n",
        "Return from iter 0:  18.975737\n",
        "Return from iter 1:  14.484722\n",
        "Updated theta with alpha: 0.138414548846, theta norm: 1.0\n",
        "Return from iter 0:  18.267735\n",
        "Return from iter 1:  -296.059953\n",
        "Updated theta with alpha: 0.135426976046, theta norm: 1.0\n",
        "Return from iter 0:  -294.673659\n",
        "Return from iter 1:  -606.960192\n",
        "Updated theta with alpha: 0.132605397359, theta norm: 1.0\n",
        "Return from iter 0:  18.975737\n",
        "Return from iter 1:  18.411576\n",
        "Updated theta with alpha: 0.129935328031, theta norm: 1.0\n",
        "Return from iter 0:  18.975737\n",
        "Return from iter 1:  18.411576\n",
        "Updated theta with alpha: 0.127403976618, theta norm: 1.0\n",
        "Return from iter 0:  18.956013"
       ]
      },
      {
       "output_type": "stream",
       "stream": "stderr",
       "text": [
        "INFO:REINFORCE:********************Iteration: 28\n"
       ]
      },
      {
       "output_type": "stream",
       "stream": "stderr",
       "text": [
        "INFO:REINFORCE:Gradient step\n"
       ]
      },
      {
       "output_type": "stream",
       "stream": "stderr",
       "text": [
        "INFO:REINFORCE:Step norm: 1.0\n"
       ]
      },
      {
       "output_type": "stream",
       "stream": "stderr",
       "text": [
        "INFO:REINFORCE:Alpha: 0.125\n"
       ]
      },
      {
       "output_type": "stream",
       "stream": "stderr",
       "text": [
        "INFO:REINFORCE:Return from iter 0:  18.956013\n"
       ]
      },
      {
       "output_type": "stream",
       "stream": "stderr",
       "text": [
        "INFO:REINFORCE:Return from iter 1:  -293.431205\n"
       ]
      },
      {
       "output_type": "stream",
       "stream": "stderr",
       "text": [
        "INFO:REINFORCE:********************Iteration: 29\n"
       ]
      },
      {
       "output_type": "stream",
       "stream": "stderr",
       "text": [
        "INFO:REINFORCE:Gradient step\n"
       ]
      },
      {
       "output_type": "stream",
       "stream": "stderr",
       "text": [
        "INFO:REINFORCE:Step norm: 1.0\n"
       ]
      },
      {
       "output_type": "stream",
       "stream": "stderr",
       "text": [
        "INFO:REINFORCE:Alpha: 0.122713300221\n"
       ]
      },
      {
       "output_type": "stream",
       "stream": "stderr",
       "text": [
        "INFO:REINFORCE:Return from iter 0:  -294.232265\n"
       ]
      },
      {
       "output_type": "stream",
       "stream": "stderr",
       "text": [
        "INFO:REINFORCE:Return from iter 1:  18.975737\n"
       ]
      },
      {
       "output_type": "stream",
       "stream": "stderr",
       "text": [
        "INFO:REINFORCE:********************Iteration: 30\n"
       ]
      },
      {
       "output_type": "stream",
       "stream": "stderr",
       "text": [
        "INFO:REINFORCE:Gradient step\n"
       ]
      },
      {
       "output_type": "stream",
       "stream": "stderr",
       "text": [
        "INFO:REINFORCE:Step norm: 1.0\n"
       ]
      },
      {
       "output_type": "stream",
       "stream": "stderr",
       "text": [
        "INFO:REINFORCE:Alpha: 0.120534854999\n"
       ]
      },
      {
       "output_type": "stream",
       "stream": "stderr",
       "text": [
        "INFO:REINFORCE:Return from iter 0:  -606.960192\n"
       ]
      },
      {
       "output_type": "stream",
       "stream": "stderr",
       "text": [
        "INFO:REINFORCE:Return from iter 1:  -8110.888167\n"
       ]
      },
      {
       "output_type": "stream",
       "stream": "stderr",
       "text": [
        "INFO:REINFORCE:********************Iteration: 31\n"
       ]
      },
      {
       "output_type": "stream",
       "stream": "stderr",
       "text": [
        "INFO:REINFORCE:Gradient step\n"
       ]
      },
      {
       "output_type": "stream",
       "stream": "stderr",
       "text": [
        "INFO:REINFORCE:Step norm: 1.0\n"
       ]
      },
      {
       "output_type": "stream",
       "stream": "stderr",
       "text": [
        "INFO:REINFORCE:Alpha: 0.118456575518\n"
       ]
      },
      {
       "output_type": "stream",
       "stream": "stderr",
       "text": [
        "INFO:REINFORCE:Return from iter 0:  -294.940266\n"
       ]
      },
      {
       "output_type": "stream",
       "stream": "stderr",
       "text": [
        "INFO:REINFORCE:Return from iter 1:  -293.450930\n"
       ]
      },
      {
       "output_type": "stream",
       "stream": "stderr",
       "text": [
        "INFO:REINFORCE:********************Iteration: 32\n"
       ]
      },
      {
       "output_type": "stream",
       "stream": "stderr",
       "text": [
        "INFO:REINFORCE:Gradient step\n"
       ]
      },
      {
       "output_type": "stream",
       "stream": "stderr",
       "text": [
        "INFO:REINFORCE:Step norm: 1.0\n"
       ]
      },
      {
       "output_type": "stream",
       "stream": "stderr",
       "text": [
        "INFO:REINFORCE:Alpha: 0.116471186462\n"
       ]
      },
      {
       "output_type": "stream",
       "stream": "stderr",
       "text": [
        "INFO:REINFORCE:Return from iter 0:  18.975737\n"
       ]
      },
      {
       "output_type": "stream",
       "stream": "stderr",
       "text": [
        "INFO:REINFORCE:Return from iter 1:  -294.940266\n"
       ]
      },
      {
       "output_type": "stream",
       "stream": "stderr",
       "text": [
        "INFO:REINFORCE:********************Iteration: 33\n"
       ]
      },
      {
       "output_type": "stream",
       "stream": "stderr",
       "text": [
        "INFO:REINFORCE:Gradient step\n"
       ]
      },
      {
       "output_type": "stream",
       "stream": "stderr",
       "text": [
        "INFO:REINFORCE:Step norm: 1.0\n"
       ]
      },
      {
       "output_type": "stream",
       "stream": "stderr",
       "text": [
        "INFO:REINFORCE:Alpha: 0.114572124318\n"
       ]
      },
      {
       "output_type": "stream",
       "stream": "stderr",
       "text": [
        "INFO:REINFORCE:Return from iter 0:  18.411576\n"
       ]
      },
      {
       "output_type": "stream",
       "stream": "stderr",
       "text": [
        "INFO:REINFORCE:Return from iter 1:  18.975737\n"
       ]
      },
      {
       "output_type": "stream",
       "stream": "stdout",
       "text": [
        "\n",
        "Return from iter 1:  -293.431205\n",
        "Updated theta with alpha: 0.125, theta norm: 1.0\n",
        "Return from iter 0:  -294.232265\n",
        "Return from iter 1:  18.975737\n",
        "Updated theta with alpha: 0.122713300221, theta norm: 1.0\n",
        "Return from iter 0:  -606.960192\n",
        "Return from iter 1:  -8110.888167\n",
        "Updated theta with alpha: 0.120534854999, theta norm: 1.0\n",
        "Return from iter 0:  -294.940266\n",
        "Return from iter 1:  -293.450930\n",
        "Updated theta with alpha: 0.118456575518, theta norm: 1.0\n",
        "Return from iter 0:  18.975737\n",
        "Return from iter 1:  -294.940266\n",
        "Updated theta with alpha: 0.116471186462, theta norm: 1.0\n",
        "Return from iter 0:  18.411576\n",
        "Return from iter 1:  18.975737\n",
        "Updated theta with alpha: 0.114572124318, theta norm: 1.0\n",
        "Return from iter 0:  -8110.190927"
       ]
      },
      {
       "output_type": "stream",
       "stream": "stderr",
       "text": [
        "INFO:REINFORCE:********************Iteration: 34\n"
       ]
      },
      {
       "output_type": "stream",
       "stream": "stderr",
       "text": [
        "INFO:REINFORCE:Gradient step\n"
       ]
      },
      {
       "output_type": "stream",
       "stream": "stderr",
       "text": [
        "INFO:REINFORCE:Step norm: 1.0\n"
       ]
      },
      {
       "output_type": "stream",
       "stream": "stderr",
       "text": [
        "INFO:REINFORCE:Alpha: 0.11275345074\n"
       ]
      },
      {
       "output_type": "stream",
       "stream": "stderr",
       "text": [
        "INFO:REINFORCE:Return from iter 0:  -8110.190927\n"
       ]
      },
      {
       "output_type": "stream",
       "stream": "stderr",
       "text": [
        "INFO:REINFORCE:Return from iter 1:  18.975737\n"
       ]
      },
      {
       "output_type": "stream",
       "stream": "stderr",
       "text": [
        "INFO:REINFORCE:********************Iteration: 35\n"
       ]
      },
      {
       "output_type": "stream",
       "stream": "stderr",
       "text": [
        "INFO:REINFORCE:Gradient step\n"
       ]
      },
      {
       "output_type": "stream",
       "stream": "stderr",
       "text": [
        "INFO:REINFORCE:Step norm: 1.0\n"
       ]
      },
      {
       "output_type": "stream",
       "stream": "stderr",
       "text": [
        "INFO:REINFORCE:Alpha: 0.11100977842\n"
       ]
      },
      {
       "output_type": "stream",
       "stream": "stderr",
       "text": [
        "INFO:REINFORCE:Return from iter 0:  18.975737\n"
       ]
      },
      {
       "output_type": "stream",
       "stream": "stderr",
       "text": [
        "INFO:REINFORCE:Return from iter 1:  -922.423248\n"
       ]
      },
      {
       "output_type": "stream",
       "stream": "stderr",
       "text": [
        "INFO:REINFORCE:********************Iteration: 36\n"
       ]
      },
      {
       "output_type": "stream",
       "stream": "stderr",
       "text": [
        "INFO:REINFORCE:Gradient step\n"
       ]
      },
      {
       "output_type": "stream",
       "stream": "stderr",
       "text": [
        "INFO:REINFORCE:Step norm: 1.0\n"
       ]
      },
      {
       "output_type": "stream",
       "stream": "stderr",
       "text": [
        "INFO:REINFORCE:Alpha: 0.109336207394\n"
       ]
      },
      {
       "output_type": "stream",
       "stream": "stderr",
       "text": [
        "INFO:REINFORCE:Return from iter 0:  18.975737\n"
       ]
      },
      {
       "output_type": "stream",
       "stream": "stderr",
       "text": [
        "INFO:REINFORCE:Return from iter 1:  -293.995366\n"
       ]
      },
      {
       "output_type": "stream",
       "stream": "stderr",
       "text": [
        "INFO:REINFORCE:********************Iteration: 37\n"
       ]
      },
      {
       "output_type": "stream",
       "stream": "stderr",
       "text": [
        "INFO:REINFORCE:Gradient step\n"
       ]
      },
      {
       "output_type": "stream",
       "stream": "stderr",
       "text": [
        "INFO:REINFORCE:Step norm: 1.0\n"
       ]
      },
      {
       "output_type": "stream",
       "stream": "stderr",
       "text": [
        "INFO:REINFORCE:Alpha: 0.107728270091\n"
       ]
      },
      {
       "output_type": "stream",
       "stream": "stderr",
       "text": [
        "INFO:REINFORCE:Return from iter 0:  -293.995366\n"
       ]
      },
      {
       "output_type": "stream",
       "stream": "stderr",
       "text": [
        "INFO:REINFORCE:Return from iter 1:  -921.512542\n"
       ]
      },
      {
       "output_type": "stream",
       "stream": "stderr",
       "text": [
        "INFO:REINFORCE:********************Iteration: 38\n"
       ]
      },
      {
       "output_type": "stream",
       "stream": "stderr",
       "text": [
        "INFO:REINFORCE:Gradient step\n"
       ]
      },
      {
       "output_type": "stream",
       "stream": "stderr",
       "text": [
        "INFO:REINFORCE:Step norm: 1.0\n"
       ]
      },
      {
       "output_type": "stream",
       "stream": "stderr",
       "text": [
        "INFO:REINFORCE:Alpha: 0.106181883741\n"
       ]
      },
      {
       "output_type": "stream",
       "stream": "stderr",
       "text": [
        "INFO:REINFORCE:Return from iter 0:  18.956013\n"
       ]
      },
      {
       "output_type": "stream",
       "stream": "stderr",
       "text": [
        "INFO:REINFORCE:Return from iter 1:  14.484722\n"
       ]
      },
      {
       "output_type": "stream",
       "stream": "stderr",
       "text": [
        "INFO:REINFORCE:********************Iteration: 39\n"
       ]
      },
      {
       "output_type": "stream",
       "stream": "stderr",
       "text": [
        "INFO:REINFORCE:Gradient step\n"
       ]
      },
      {
       "output_type": "stream",
       "stream": "stderr",
       "text": [
        "INFO:REINFORCE:Step norm: 1.0\n"
       ]
      },
      {
       "output_type": "stream",
       "stream": "stderr",
       "text": [
        "INFO:REINFORCE:Alpha: 0.104693309014\n"
       ]
      },
      {
       "output_type": "stream",
       "stream": "stderr",
       "text": [
        "INFO:REINFORCE:Return from iter 0:  -295.237819\n"
       ]
      },
      {
       "output_type": "stream",
       "stream": "stderr",
       "text": [
        "INFO:REINFORCE:Return from iter 1:  -294.796425\n"
       ]
      },
      {
       "output_type": "stream",
       "stream": "stdout",
       "text": [
        "\n",
        "Return from iter 1:  18.975737\n",
        "Updated theta with alpha: 0.11275345074, theta norm: 1.0\n",
        "Return from iter 0:  18.975737\n",
        "Return from iter 1:  -922.423248\n",
        "Updated theta with alpha: 0.11100977842, theta norm: 1.0\n",
        "Return from iter 0:  18.975737\n",
        "Return from iter 1:  -293.995366\n",
        "Updated theta with alpha: 0.109336207394, theta norm: 1.0\n",
        "Return from iter 0:  -293.995366\n",
        "Return from iter 1:  -921.512542\n",
        "Updated theta with alpha: 0.107728270091, theta norm: 1.0\n",
        "Return from iter 0:  18.956013\n",
        "Return from iter 1:  14.484722\n",
        "Updated theta with alpha: 0.106181883741, theta norm: 1.0\n",
        "Return from iter 0:  -295.237819\n",
        "Return from iter 1:  -294.796425\n",
        "Updated theta with alpha: 0.104693309014, theta norm: 1.0\n",
        "Return from iter 0:  18.391852"
       ]
      },
      {
       "output_type": "stream",
       "stream": "stderr",
       "text": [
        "INFO:REINFORCE:********************Iteration: 40\n"
       ]
      },
      {
       "output_type": "stream",
       "stream": "stderr",
       "text": [
        "INFO:REINFORCE:Gradient step\n"
       ]
      },
      {
       "output_type": "stream",
       "stream": "stderr",
       "text": [
        "INFO:REINFORCE:Step norm: 1.0\n"
       ]
      },
      {
       "output_type": "stream",
       "stream": "stderr",
       "text": [
        "INFO:REINFORCE:Alpha: 0.103259113948\n"
       ]
      },
      {
       "output_type": "stream",
       "stream": "stderr",
       "text": [
        "INFO:REINFORCE:Return from iter 0:  18.391852\n"
       ]
      },
      {
       "output_type": "stream",
       "stream": "stderr",
       "text": [
        "INFO:REINFORCE:Return from iter 1:  -296.059953\n"
       ]
      },
      {
       "output_type": "stream",
       "stream": "stderr",
       "text": [
        "INFO:REINFORCE:********************Iteration: 41\n"
       ]
      },
      {
       "output_type": "stream",
       "stream": "stderr",
       "text": [
        "INFO:REINFORCE:Gradient step\n"
       ]
      },
      {
       "output_type": "stream",
       "stream": "stderr",
       "text": [
        "INFO:REINFORCE:Step norm: 1.0\n"
       ]
      },
      {
       "output_type": "stream",
       "stream": "stderr",
       "text": [
        "INFO:REINFORCE:Alpha: 0.101876142388\n"
       ]
      },
      {
       "output_type": "stream",
       "stream": "stderr",
       "text": [
        "INFO:REINFORCE:Return from iter 0:  -4672.183895\n"
       ]
      },
      {
       "output_type": "stream",
       "stream": "stderr",
       "text": [
        "INFO:REINFORCE:Return from iter 1:  18.975737\n"
       ]
      },
      {
       "output_type": "stream",
       "stream": "stderr",
       "text": [
        "INFO:REINFORCE:********************Iteration: 42\n"
       ]
      },
      {
       "output_type": "stream",
       "stream": "stderr",
       "text": [
        "INFO:REINFORCE:Gradient step\n"
       ]
      },
      {
       "output_type": "stream",
       "stream": "stderr",
       "text": [
        "INFO:REINFORCE:Step norm: 1.0\n"
       ]
      },
      {
       "output_type": "stream",
       "stream": "stderr",
       "text": [
        "INFO:REINFORCE:Alpha: 0.100541486276\n"
       ]
      },
      {
       "output_type": "stream",
       "stream": "stderr",
       "text": [
        "INFO:REINFORCE:Return from iter 0:  18.975737\n"
       ]
      },
      {
       "output_type": "stream",
       "stream": "stderr",
       "text": [
        "INFO:REINFORCE:Return from iter 1:  18.956013\n"
       ]
      },
      {
       "output_type": "stream",
       "stream": "stderr",
       "text": [
        "INFO:REINFORCE:********************Iteration: 43\n"
       ]
      },
      {
       "output_type": "stream",
       "stream": "stderr",
       "text": [
        "INFO:REINFORCE:Gradient step\n"
       ]
      },
      {
       "output_type": "stream",
       "stream": "stderr",
       "text": [
        "INFO:REINFORCE:Step norm: 1.0\n"
       ]
      },
      {
       "output_type": "stream",
       "stream": "stderr",
       "text": [
        "INFO:REINFORCE:Alpha: 0.0992524612706\n"
       ]
      },
      {
       "output_type": "stream",
       "stream": "stderr",
       "text": [
        "INFO:REINFORCE:Return from iter 0:  18.936288\n"
       ]
      },
      {
       "output_type": "stream",
       "stream": "stderr",
       "text": [
        "INFO:REINFORCE:Return from iter 1:  18.975737\n"
       ]
      },
      {
       "output_type": "stream",
       "stream": "stderr",
       "text": [
        "INFO:REINFORCE:********************Iteration: 44\n"
       ]
      },
      {
       "output_type": "stream",
       "stream": "stderr",
       "text": [
        "INFO:REINFORCE:Gradient step\n"
       ]
      },
      {
       "output_type": "stream",
       "stream": "stderr",
       "text": [
        "INFO:REINFORCE:Step norm: 1.0\n"
       ]
      },
      {
       "output_type": "stream",
       "stream": "stderr",
       "text": [
        "INFO:REINFORCE:Alpha: 0.0980065852104\n"
       ]
      },
      {
       "output_type": "stream",
       "stream": "stderr",
       "text": [
        "INFO:REINFORCE:Return from iter 0:  18.975737\n"
       ]
      },
      {
       "output_type": "stream",
       "stream": "stderr",
       "text": [
        "INFO:REINFORCE:Return from iter 1:  -295.257544\n"
       ]
      },
      {
       "output_type": "stream",
       "stream": "stderr",
       "text": [
        "INFO:REINFORCE:********************Iteration: 45\n"
       ]
      },
      {
       "output_type": "stream",
       "stream": "stderr",
       "text": [
        "INFO:REINFORCE:Gradient step\n"
       ]
      },
      {
       "output_type": "stream",
       "stream": "stderr",
       "text": [
        "INFO:REINFORCE:Step norm: 1.0\n"
       ]
      },
      {
       "output_type": "stream",
       "stream": "stderr",
       "text": [
        "INFO:REINFORCE:Alpha: 0.0968015590572\n"
       ]
      },
      {
       "output_type": "stream",
       "stream": "stderr",
       "text": [
        "INFO:REINFORCE:Return from iter 0:  18.248011\n"
       ]
      },
      {
       "output_type": "stream",
       "stream": "stderr",
       "text": [
        "INFO:REINFORCE:Return from iter 1:  18.975737\n"
       ]
      },
      {
       "output_type": "stream",
       "stream": "stdout",
       "text": [
        "\n",
        "Return from iter 1:  -296.059953\n",
        "Updated theta with alpha: 0.103259113948, theta norm: 1.0\n",
        "Return from iter 0:  -4672.183895\n",
        "Return from iter 1:  18.975737\n",
        "Updated theta with alpha: 0.101876142388, theta norm: 1.0\n",
        "Return from iter 0:  18.975737\n",
        "Return from iter 1:  18.956013\n",
        "Updated theta with alpha: 0.100541486276, theta norm: 1.0\n",
        "Return from iter 0:  18.936288\n",
        "Return from iter 1:  18.975737\n",
        "Updated theta with alpha: 0.0992524612706, theta norm: 1.0\n",
        "Return from iter 0:  18.975737\n",
        "Return from iter 1:  -295.257544\n",
        "Updated theta with alpha: 0.0980065852104, theta norm: 1.0\n",
        "Return from iter 0:  18.248011\n",
        "Return from iter 1:  18.975737\n",
        "Updated theta with alpha: 0.0968015590572, theta norm: 1.0\n",
        "Return from iter 0:  18.975737"
       ]
      },
      {
       "output_type": "stream",
       "stream": "stderr",
       "text": [
        "INFO:REINFORCE:********************Iteration: 46\n"
       ]
      },
      {
       "output_type": "stream",
       "stream": "stderr",
       "text": [
        "INFO:REINFORCE:Gradient step\n"
       ]
      },
      {
       "output_type": "stream",
       "stream": "stderr",
       "text": [
        "INFO:REINFORCE:Step norm: 1.0\n"
       ]
      },
      {
       "output_type": "stream",
       "stream": "stderr",
       "text": [
        "INFO:REINFORCE:Alpha: 0.095635249979\n"
       ]
      },
      {
       "output_type": "stream",
       "stream": "stderr",
       "text": [
        "INFO:REINFORCE:Return from iter 0:  18.975737\n"
       ]
      },
      {
       "output_type": "stream",
       "stream": "stderr",
       "text": [
        "INFO:REINFORCE:Return from iter 1:  -294.796425\n"
       ]
      },
      {
       "output_type": "stream",
       "stream": "stderr",
       "text": [
        "INFO:REINFORCE:********************Iteration: 47\n"
       ]
      },
      {
       "output_type": "stream",
       "stream": "stderr",
       "text": [
        "INFO:REINFORCE:Gradient step\n"
       ]
      },
      {
       "output_type": "stream",
       "stream": "stderr",
       "text": [
        "INFO:REINFORCE:Step norm: 1.0\n"
       ]
      },
      {
       "output_type": "stream",
       "stream": "stderr",
       "text": [
        "INFO:REINFORCE:Alpha: 0.0945056762986\n"
       ]
      },
      {
       "output_type": "stream",
       "stream": "stderr",
       "text": [
        "INFO:REINFORCE:Return from iter 0:  -1231.290737\n"
       ]
      },
      {
       "output_type": "stream",
       "stream": "stderr",
       "text": [
        "INFO:REINFORCE:Return from iter 1:  18.267735\n"
       ]
      },
      {
       "output_type": "stream",
       "stream": "stderr",
       "text": [
        "INFO:REINFORCE:********************Iteration: 48\n"
       ]
      },
      {
       "output_type": "stream",
       "stream": "stderr",
       "text": [
        "INFO:REINFORCE:Gradient step\n"
       ]
      },
      {
       "output_type": "stream",
       "stream": "stderr",
       "text": [
        "INFO:REINFORCE:Step norm: 1.0\n"
       ]
      },
      {
       "output_type": "stream",
       "stream": "stderr",
       "text": [
        "INFO:REINFORCE:Alpha: 0.0934109940697\n"
       ]
      },
      {
       "output_type": "stream",
       "stream": "stderr",
       "text": [
        "INFO:REINFORCE:Return from iter 0:  18.267735\n"
       ]
      },
      {
       "output_type": "stream",
       "stream": "stderr",
       "text": [
        "INFO:REINFORCE:Return from iter 1:  -294.796425\n"
       ]
      },
      {
       "output_type": "stream",
       "stream": "stderr",
       "text": [
        "INFO:REINFORCE:********************Iteration: 49\n"
       ]
      },
      {
       "output_type": "stream",
       "stream": "stderr",
       "text": [
        "INFO:REINFORCE:Gradient step\n"
       ]
      },
      {
       "output_type": "stream",
       "stream": "stderr",
       "text": [
        "INFO:REINFORCE:Step norm: 1.0\n"
       ]
      },
      {
       "output_type": "stream",
       "stream": "stderr",
       "text": [
        "INFO:REINFORCE:Alpha: 0.0923494850768\n"
       ]
      },
      {
       "output_type": "stream",
       "stream": "stderr",
       "text": [
        "INFO:REINFORCE:Return from iter 0:  18.975737\n"
       ]
      },
      {
       "output_type": "stream",
       "stream": "stderr",
       "text": [
        "INFO:REINFORCE:Return from iter 1:  -1233.353974\n"
       ]
      },
      {
       "output_type": "stream",
       "stream": "stderr",
       "text": [
        "INFO:REINFORCE:********************Iteration: 50\n"
       ]
      },
      {
       "output_type": "stream",
       "stream": "stderr",
       "text": [
        "INFO:REINFORCE:Gradient step\n"
       ]
      },
      {
       "output_type": "stream",
       "stream": "stderr",
       "text": [
        "INFO:REINFORCE:Step norm: 1.0\n"
       ]
      },
      {
       "output_type": "stream",
       "stream": "stderr",
       "text": [
        "INFO:REINFORCE:Alpha: 0.0913195460843\n"
       ]
      },
      {
       "output_type": "stream",
       "stream": "stderr",
       "text": [
        "INFO:REINFORCE:Return from iter 0:  18.975737\n"
       ]
      },
      {
       "output_type": "stream",
       "stream": "stderr",
       "text": [
        "INFO:REINFORCE:Return from iter 1:  18.391852\n"
       ]
      },
      {
       "output_type": "stream",
       "stream": "stderr",
       "text": [
        "INFO:REINFORCE:********************Iteration: 51\n"
       ]
      },
      {
       "output_type": "stream",
       "stream": "stderr",
       "text": [
        "INFO:REINFORCE:Gradient step\n"
       ]
      },
      {
       "output_type": "stream",
       "stream": "stderr",
       "text": [
        "INFO:REINFORCE:Step norm: 1.0\n"
       ]
      },
      {
       "output_type": "stream",
       "stream": "stderr",
       "text": [
        "INFO:REINFORCE:Alpha: 0.090319679184\n"
       ]
      },
      {
       "output_type": "stream",
       "stream": "stderr",
       "text": [
        "INFO:REINFORCE:Return from iter 0:  -294.673659\n"
       ]
      },
      {
       "output_type": "stream",
       "stream": "stderr",
       "text": [
        "INFO:REINFORCE:Return from iter 1:  18.975737\n"
       ]
      },
      {
       "output_type": "stream",
       "stream": "stdout",
       "text": [
        "\n",
        "Return from iter 1:  -294.796425\n",
        "Updated theta with alpha: 0.095635249979, theta norm: 1.0\n",
        "Return from iter 0:  -1231.290737\n",
        "Return from iter 1:  18.267735\n",
        "Updated theta with alpha: 0.0945056762986, theta norm: 1.0\n",
        "Return from iter 0:  18.267735\n",
        "Return from iter 1:  -294.796425\n",
        "Updated theta with alpha: 0.0934109940697, theta norm: 1.0\n",
        "Return from iter 0:  18.975737\n",
        "Return from iter 1:  -1233.353974\n",
        "Updated theta with alpha: 0.0923494850768, theta norm: 1.0\n",
        "Return from iter 0:  18.975737\n",
        "Return from iter 1:  18.391852\n",
        "Updated theta with alpha: 0.0913195460843, theta norm: 1.0\n",
        "Return from iter 0:  -294.673659\n",
        "Return from iter 1:  18.975737\n",
        "Updated theta with alpha: 0.090319679184, theta norm: 1.0\n",
        "Return from iter 0:  18.267735"
       ]
      },
      {
       "output_type": "stream",
       "stream": "stderr",
       "text": [
        "INFO:REINFORCE:********************Iteration: 52\n"
       ]
      },
      {
       "output_type": "stream",
       "stream": "stderr",
       "text": [
        "INFO:REINFORCE:Gradient step\n"
       ]
      },
      {
       "output_type": "stream",
       "stream": "stderr",
       "text": [
        "INFO:REINFORCE:Step norm: 1.0\n"
       ]
      },
      {
       "output_type": "stream",
       "stream": "stderr",
       "text": [
        "INFO:REINFORCE:Alpha: 0.0893484831122\n"
       ]
      },
      {
       "output_type": "stream",
       "stream": "stderr",
       "text": [
        "INFO:REINFORCE:Return from iter 0:  18.267735\n"
       ]
      },
      {
       "output_type": "stream",
       "stream": "stderr",
       "text": [
        "INFO:REINFORCE:Return from iter 1:  18.975737\n"
       ]
      },
      {
       "output_type": "stream",
       "stream": "stderr",
       "text": [
        "INFO:REINFORCE:********************Iteration: 53\n"
       ]
      },
      {
       "output_type": "stream",
       "stream": "stderr",
       "text": [
        "INFO:REINFORCE:Gradient step\n"
       ]
      },
      {
       "output_type": "stream",
       "stream": "stderr",
       "text": [
        "INFO:REINFORCE:Step norm: 1.0\n"
       ]
      },
      {
       "output_type": "stream",
       "stream": "stderr",
       "text": [
        "INFO:REINFORCE:Alpha: 0.0884046454216\n"
       ]
      },
      {
       "output_type": "stream",
       "stream": "stderr",
       "text": [
        "INFO:REINFORCE:Return from iter 0:  15.163014\n"
       ]
      },
      {
       "output_type": "stream",
       "stream": "stderr",
       "text": [
        "INFO:REINFORCE:Return from iter 1:  -607.881661\n"
       ]
      },
      {
       "output_type": "stream",
       "stream": "stderr",
       "text": [
        "INFO:REINFORCE:********************Iteration: 54\n"
       ]
      },
      {
       "output_type": "stream",
       "stream": "stderr",
       "text": [
        "INFO:REINFORCE:Gradient step\n"
       ]
      },
      {
       "output_type": "stream",
       "stream": "stderr",
       "text": [
        "INFO:REINFORCE:Step norm: 1.0\n"
       ]
      },
      {
       "output_type": "stream",
       "stream": "stderr",
       "text": [
        "INFO:REINFORCE:Alpha: 0.0874869354134\n"
       ]
      },
      {
       "output_type": "stream",
       "stream": "stderr",
       "text": [
        "INFO:REINFORCE:Return from iter 0:  -294.232265\n"
       ]
      },
      {
       "output_type": "stream",
       "stream": "stderr",
       "text": [
        "INFO:REINFORCE:Return from iter 1:  18.975737\n"
       ]
      },
      {
       "output_type": "stream",
       "stream": "stderr",
       "text": [
        "INFO:REINFORCE:********************Iteration: 55\n"
       ]
      },
      {
       "output_type": "stream",
       "stream": "stderr",
       "text": [
        "INFO:REINFORCE:Gradient step\n"
       ]
      },
      {
       "output_type": "stream",
       "stream": "stderr",
       "text": [
        "INFO:REINFORCE:Step norm: 1.0\n"
       ]
      },
      {
       "output_type": "stream",
       "stream": "stderr",
       "text": [
        "INFO:REINFORCE:Alpha: 0.0865941977407\n"
       ]
      },
      {
       "output_type": "stream",
       "stream": "stderr",
       "text": [
        "INFO:REINFORCE:Return from iter 0:  18.267735\n"
       ]
      },
      {
       "output_type": "stream",
       "stream": "stderr",
       "text": [
        "INFO:REINFORCE:Return from iter 1:  18.975737\n"
       ]
      },
      {
       "output_type": "stream",
       "stream": "stderr",
       "text": [
        "INFO:REINFORCE:********************Iteration: 56\n"
       ]
      },
      {
       "output_type": "stream",
       "stream": "stderr",
       "text": [
        "INFO:REINFORCE:Gradient step\n"
       ]
      },
      {
       "output_type": "stream",
       "stream": "stderr",
       "text": [
        "INFO:REINFORCE:Step norm: 1.0\n"
       ]
      },
      {
       "output_type": "stream",
       "stream": "stderr",
       "text": [
        "INFO:REINFORCE:Alpha: 0.0857253466126\n"
       ]
      },
      {
       "output_type": "stream",
       "stream": "stderr",
       "text": [
        "INFO:REINFORCE:Return from iter 0:  18.975737\n"
       ]
      },
      {
       "output_type": "stream",
       "stream": "stderr",
       "text": [
        "INFO:REINFORCE:Return from iter 1:  17.847416\n"
       ]
      },
      {
       "output_type": "stream",
       "stream": "stderr",
       "text": [
        "INFO:REINFORCE:********************Iteration: 57\n"
       ]
      },
      {
       "output_type": "stream",
       "stream": "stderr",
       "text": [
        "INFO:REINFORCE:Gradient step\n"
       ]
      },
      {
       "output_type": "stream",
       "stream": "stderr",
       "text": [
        "INFO:REINFORCE:Step norm: 1.0\n"
       ]
      },
      {
       "output_type": "stream",
       "stream": "stderr",
       "text": [
        "INFO:REINFORCE:Alpha: 0.0848793605311\n"
       ]
      },
      {
       "output_type": "stream",
       "stream": "stderr",
       "text": [
        "INFO:REINFORCE:Return from iter 0:  -294.940266\n"
       ]
      },
      {
       "output_type": "stream",
       "stream": "stderr",
       "text": [
        "INFO:REINFORCE:Return from iter 1:  18.975737\n"
       ]
      },
      {
       "output_type": "stream",
       "stream": "stderr",
       "text": [
        "INFO:REINFORCE:********************Iteration: 58\n"
       ]
      },
      {
       "output_type": "stream",
       "stream": "stderr",
       "text": [
        "INFO:REINFORCE:Gradient step\n"
       ]
      },
      {
       "output_type": "stream",
       "stream": "stderr",
       "text": [
        "INFO:REINFORCE:Step norm: 1.0\n"
       ]
      },
      {
       "output_type": "stream",
       "stream": "stderr",
       "text": [
        "INFO:REINFORCE:Alpha: 0.0840552775055\n"
       ]
      },
      {
       "output_type": "stream",
       "stream": "stderr",
       "text": [
        "INFO:REINFORCE:Return from iter 0:  18.975737\n"
       ]
      },
      {
       "output_type": "stream",
       "stream": "stderr",
       "text": [
        "INFO:REINFORCE:Return from iter 1:  14.504447\n"
       ]
      },
      {
       "output_type": "stream",
       "stream": "stderr",
       "text": [
        "INFO:REINFORCE:********************Iteration: 59\n"
       ]
      },
      {
       "output_type": "stream",
       "stream": "stderr",
       "text": [
        "INFO:REINFORCE:Gradient step\n"
       ]
      },
      {
       "output_type": "stream",
       "stream": "stderr",
       "text": [
        "INFO:REINFORCE:Step norm: 1.0\n"
       ]
      },
      {
       "output_type": "stream",
       "stream": "stderr",
       "text": [
        "INFO:REINFORCE:Alpha: 0.0832521906932\n"
       ]
      },
      {
       "output_type": "stream",
       "stream": "stderr",
       "text": [
        "INFO:REINFORCE:Return from iter 0:  -2171.233110\n"
       ]
      },
      {
       "output_type": "stream",
       "stream": "stderr",
       "text": [
        "INFO:REINFORCE:Return from iter 1:  -3108.179319\n"
       ]
      },
      {
       "output_type": "stream",
       "stream": "stderr",
       "text": [
        "INFO:REINFORCE:********************Iteration: 60\n"
       ]
      },
      {
       "output_type": "stream",
       "stream": "stderr",
       "text": [
        "INFO:REINFORCE:Gradient step\n"
       ]
      },
      {
       "output_type": "stream",
       "stream": "stderr",
       "text": [
        "INFO:REINFORCE:Step norm: 1.0\n"
       ]
      },
      {
       "output_type": "stream",
       "stream": "stderr",
       "text": [
        "INFO:REINFORCE:Alpha: 0.0824692444233\n"
       ]
      },
      {
       "output_type": "stream",
       "stream": "stderr",
       "text": [
        "INFO:REINFORCE:Return from iter 0:  18.391852\n"
       ]
      },
      {
       "output_type": "stream",
       "stream": "stderr",
       "text": [
        "INFO:REINFORCE:Return from iter 1:  -296.059953\n"
       ]
      },
      {
       "output_type": "stream",
       "stream": "stdout",
       "text": [
        "\n",
        "Return from iter 1:  18.975737\n",
        "Updated theta with alpha: 0.0893484831122, theta norm: 1.0\n",
        "Return from iter 0:  15.163014\n",
        "Return from iter 1:  -607.881661\n",
        "Updated theta with alpha: 0.0884046454216, theta norm: 1.0\n",
        "Return from iter 0:  -294.232265\n",
        "Return from iter 1:  18.975737\n",
        "Updated theta with alpha: 0.0874869354134, theta norm: 1.0\n",
        "Return from iter 0:  18.267735\n",
        "Return from iter 1:  18.975737\n",
        "Updated theta with alpha: 0.0865941977407, theta norm: 1.0\n",
        "Return from iter 0:  18.975737\n",
        "Return from iter 1:  17.847416\n",
        "Updated theta with alpha: 0.0857253466126, theta norm: 1.0\n",
        "Return from iter 0:  -294.940266\n",
        "Return from iter 1:  18.975737\n",
        "Updated theta with alpha: 0.0848793605311, theta norm: 1.0\n",
        "Return from iter 0:  18.975737\n",
        "Return from iter 1:  14.504447\n",
        "Updated theta with alpha: 0.0840552775055, theta norm: 1.0\n",
        "Return from iter 0:  -2171.233110\n",
        "Return from iter 1:  -3108.179319\n",
        "Updated theta with alpha: 0.0832521906932, theta norm: 1.0\n",
        "Return from iter 0:  18.391852\n",
        "Return from iter 1:  -296.059953\n",
        "Updated theta with alpha: 0.0824692444233, theta norm: 1.0\n",
        "Return from iter 0:  -607.347209"
       ]
      },
      {
       "output_type": "stream",
       "stream": "stderr",
       "text": [
        "INFO:REINFORCE:********************Iteration: 61\n"
       ]
      },
      {
       "output_type": "stream",
       "stream": "stderr",
       "text": [
        "INFO:REINFORCE:Gradient step\n"
       ]
      },
      {
       "output_type": "stream",
       "stream": "stderr",
       "text": [
        "INFO:REINFORCE:Step norm: 1.0\n"
       ]
      },
      {
       "output_type": "stream",
       "stream": "stderr",
       "text": [
        "INFO:REINFORCE:Alpha: 0.0817056305641\n"
       ]
      },
      {
       "output_type": "stream",
       "stream": "stderr",
       "text": [
        "INFO:REINFORCE:Return from iter 0:  -607.347209\n"
       ]
      },
      {
       "output_type": "stream",
       "stream": "stderr",
       "text": [
        "INFO:REINFORCE:Return from iter 1:  18.975737\n"
       ]
      },
      {
       "output_type": "stream",
       "stream": "stderr",
       "text": [
        "INFO:REINFORCE:********************Iteration: 62\n"
       ]
      },
      {
       "output_type": "stream",
       "stream": "stderr",
       "text": [
        "INFO:REINFORCE:Gradient step\n"
       ]
      },
      {
       "output_type": "stream",
       "stream": "stderr",
       "text": [
        "INFO:REINFORCE:Step norm: 0.0\n"
       ]
      },
      {
       "output_type": "stream",
       "stream": "stderr",
       "text": [
        "INFO:REINFORCE:Alpha: 0.0809605851994\n"
       ]
      },
      {
       "output_type": "stream",
       "stream": "stderr",
       "text": [
        "INFO:REINFORCE:Return from iter 0:  -296.059953\n"
       ]
      },
      {
       "output_type": "stream",
       "stream": "stderr",
       "text": [
        "INFO:REINFORCE:Return from iter 1:  -296.059953\n"
       ]
      },
      {
       "output_type": "stream",
       "stream": "stderr",
       "text": [
        "INFO:REINFORCE:********************Iteration: 63\n"
       ]
      },
      {
       "output_type": "stream",
       "stream": "stderr",
       "text": [
        "INFO:REINFORCE:Gradient step\n"
       ]
      },
      {
       "output_type": "stream",
       "stream": "stderr",
       "text": [
        "INFO:REINFORCE:Step norm: 1.0\n"
       ]
      },
      {
       "output_type": "stream",
       "stream": "stderr",
       "text": [
        "INFO:REINFORCE:Alpha: 0.0802333855834\n"
       ]
      },
      {
       "output_type": "stream",
       "stream": "stderr",
       "text": [
        "INFO:REINFORCE:Return from iter 0:  -8111.120580\n"
       ]
      },
      {
       "output_type": "stream",
       "stream": "stderr",
       "text": [
        "INFO:REINFORCE:Return from iter 1:  -2169.599548\n"
       ]
      },
      {
       "output_type": "stream",
       "stream": "stderr",
       "text": [
        "INFO:REINFORCE:********************Iteration: 64\n"
       ]
      },
      {
       "output_type": "stream",
       "stream": "stderr",
       "text": [
        "INFO:REINFORCE:Gradient step\n"
       ]
      },
      {
       "output_type": "stream",
       "stream": "stderr",
       "text": [
        "INFO:REINFORCE:Step norm: 1.0\n"
       ]
      },
      {
       "output_type": "stream",
       "stream": "stderr",
       "text": [
        "INFO:REINFORCE:Alpha: 0.0795233473478\n"
       ]
      },
      {
       "output_type": "stream",
       "stream": "stderr",
       "text": [
        "INFO:REINFORCE:Return from iter 0:  -294.232265\n"
       ]
      },
      {
       "output_type": "stream",
       "stream": "stderr",
       "text": [
        "INFO:REINFORCE:Return from iter 1:  18.975737\n"
       ]
      },
      {
       "output_type": "stream",
       "stream": "stderr",
       "text": [
        "INFO:REINFORCE:********************Iteration: 65\n"
       ]
      },
      {
       "output_type": "stream",
       "stream": "stderr",
       "text": [
        "INFO:REINFORCE:Gradient step\n"
       ]
      },
      {
       "output_type": "stream",
       "stream": "stderr",
       "text": [
        "INFO:REINFORCE:Step norm: 0.0\n"
       ]
      },
      {
       "output_type": "stream",
       "stream": "stderr",
       "text": [
        "INFO:REINFORCE:Alpha: 0.0788298219352\n"
       ]
      },
      {
       "output_type": "stream",
       "stream": "stderr",
       "text": [
        "INFO:REINFORCE:Return from iter 0:  18.975737\n"
       ]
      },
      {
       "output_type": "stream",
       "stream": "stderr",
       "text": [
        "INFO:REINFORCE:Return from iter 1:  18.975737\n"
       ]
      },
      {
       "output_type": "stream",
       "stream": "stderr",
       "text": [
        "INFO:REINFORCE:********************Iteration: 66\n"
       ]
      },
      {
       "output_type": "stream",
       "stream": "stderr",
       "text": [
        "INFO:REINFORCE:Gradient step\n"
       ]
      },
      {
       "output_type": "stream",
       "stream": "stderr",
       "text": [
        "INFO:REINFORCE:Step norm: 1.0\n"
       ]
      },
      {
       "output_type": "stream",
       "stream": "stderr",
       "text": [
        "INFO:REINFORCE:Alpha: 0.0781521942394\n"
       ]
      },
      {
       "output_type": "stream",
       "stream": "stderr",
       "text": [
        "INFO:REINFORCE:Return from iter 0:  -4359.812881\n"
       ]
      },
      {
       "output_type": "stream",
       "stream": "stderr",
       "text": [
        "INFO:REINFORCE:Return from iter 1:  18.975737\n"
       ]
      },
      {
       "output_type": "stream",
       "stream": "stderr",
       "text": [
        "INFO:REINFORCE:********************Iteration: 67\n"
       ]
      },
      {
       "output_type": "stream",
       "stream": "stderr",
       "text": [
        "INFO:REINFORCE:Gradient step\n"
       ]
      },
      {
       "output_type": "stream",
       "stream": "stderr",
       "text": [
        "INFO:REINFORCE:Step norm: 1.0\n"
       ]
      },
      {
       "output_type": "stream",
       "stream": "stderr",
       "text": [
        "INFO:REINFORCE:Alpha: 0.0774898804316\n"
       ]
      },
      {
       "output_type": "stream",
       "stream": "stderr",
       "text": [
        "INFO:REINFORCE:Return from iter 0:  18.975737\n"
       ]
      },
      {
       "output_type": "stream",
       "stream": "stderr",
       "text": [
        "INFO:REINFORCE:Return from iter 1:  -294.232265\n"
       ]
      },
      {
       "output_type": "stream",
       "stream": "stderr",
       "text": [
        "INFO:REINFORCE:********************Iteration: 68\n"
       ]
      },
      {
       "output_type": "stream",
       "stream": "stderr",
       "text": [
        "INFO:REINFORCE:Gradient step\n"
       ]
      },
      {
       "output_type": "stream",
       "stream": "stderr",
       "text": [
        "INFO:REINFORCE:Step norm: 1.0\n"
       ]
      },
      {
       "output_type": "stream",
       "stream": "stderr",
       "text": [
        "INFO:REINFORCE:Alpha: 0.0768423259568\n"
       ]
      },
      {
       "output_type": "stream",
       "stream": "stderr",
       "text": [
        "INFO:REINFORCE:Return from iter 0:  -2169.599548\n"
       ]
      },
      {
       "output_type": "stream",
       "stream": "stderr",
       "text": [
        "INFO:REINFORCE:Return from iter 1:  -606.960192\n"
       ]
      },
      {
       "output_type": "stream",
       "stream": "stderr",
       "text": [
        "INFO:REINFORCE:********************Iteration: 69\n"
       ]
      },
      {
       "output_type": "stream",
       "stream": "stderr",
       "text": [
        "INFO:REINFORCE:Gradient step\n"
       ]
      },
      {
       "output_type": "stream",
       "stream": "stderr",
       "text": [
        "INFO:REINFORCE:Step norm: 1.0\n"
       ]
      },
      {
       "output_type": "stream",
       "stream": "stderr",
       "text": [
        "INFO:REINFORCE:Alpha: 0.0762090036838\n"
       ]
      },
      {
       "output_type": "stream",
       "stream": "stderr",
       "text": [
        "INFO:REINFORCE:Return from iter 0:  -294.673659\n"
       ]
      },
      {
       "output_type": "stream",
       "stream": "stderr",
       "text": [
        "INFO:REINFORCE:Return from iter 1:  -607.104033\n"
       ]
      },
      {
       "output_type": "stream",
       "stream": "stdout",
       "text": [
        "\n",
        "Return from iter 1:  18.975737\n",
        "Updated theta with alpha: 0.0817056305641, theta norm: 1.0\n",
        "Return from iter 0:  -296.059953\n",
        "Return from iter 1:  -296.059953\n",
        "Updated theta with alpha: 0.0809605851994, theta norm: 0.0\n",
        "Return from iter 0:  -8111.120580\n",
        "Return from iter 1:  -2169.599548\n",
        "Updated theta with alpha: 0.0802333855834, theta norm: 1.0\n",
        "Return from iter 0:  -294.232265\n",
        "Return from iter 1:  18.975737\n",
        "Updated theta with alpha: 0.0795233473478, theta norm: 1.0\n",
        "Return from iter 0:  18.975737\n",
        "Return from iter 1:  18.975737\n",
        "Updated theta with alpha: 0.0788298219352, theta norm: 0.0\n",
        "Return from iter 0:  -4359.812881\n",
        "Return from iter 1:  18.975737\n",
        "Updated theta with alpha: 0.0781521942394, theta norm: 1.0\n",
        "Return from iter 0:  18.975737\n",
        "Return from iter 1:  -294.232265\n",
        "Updated theta with alpha: 0.0774898804316, theta norm: 1.0\n",
        "Return from iter 0:  -2169.599548\n",
        "Return from iter 1:  -606.960192\n",
        "Updated theta with alpha: 0.0768423259568, theta norm: 1.0\n",
        "Return from iter 0:  -294.673659\n",
        "Return from iter 1:  -607.104033\n",
        "Updated theta with alpha: 0.0762090036838, theta norm: 1.0\n",
        "Return from iter 0:  18.975737"
       ]
      },
      {
       "output_type": "stream",
       "stream": "stderr",
       "text": [
        "INFO:REINFORCE:********************Iteration: 70\n"
       ]
      },
      {
       "output_type": "stream",
       "stream": "stderr",
       "text": [
        "INFO:REINFORCE:Gradient step\n"
       ]
      },
      {
       "output_type": "stream",
       "stream": "stderr",
       "text": [
        "INFO:REINFORCE:Step norm: 1.0\n"
       ]
      },
      {
       "output_type": "stream",
       "stream": "stderr",
       "text": [
        "INFO:REINFORCE:Alpha: 0.075589412196\n"
       ]
      },
      {
       "output_type": "stream",
       "stream": "stderr",
       "text": [
        "INFO:REINFORCE:Return from iter 0:  18.975737\n"
       ]
      },
      {
       "output_type": "stream",
       "stream": "stderr",
       "text": [
        "INFO:REINFORCE:Return from iter 1:  -294.816150\n"
       ]
      },
      {
       "output_type": "stream",
       "stream": "stderr",
       "text": [
        "INFO:REINFORCE:********************Iteration: 71\n"
       ]
      },
      {
       "output_type": "stream",
       "stream": "stderr",
       "text": [
        "INFO:REINFORCE:Gradient step\n"
       ]
      },
      {
       "output_type": "stream",
       "stream": "stderr",
       "text": [
        "INFO:REINFORCE:Step norm: 1.0\n"
       ]
      },
      {
       "output_type": "stream",
       "stream": "stderr",
       "text": [
        "INFO:REINFORCE:Alpha: 0.0749830742095\n"
       ]
      },
      {
       "output_type": "stream",
       "stream": "stderr",
       "text": [
        "INFO:REINFORCE:Return from iter 0:  -607.203368\n"
       ]
      },
      {
       "output_type": "stream",
       "stream": "stderr",
       "text": [
        "INFO:REINFORCE:Return from iter 1:  -4671.475893\n"
       ]
      },
      {
       "output_type": "stream",
       "stream": "stderr",
       "text": [
        "INFO:REINFORCE:********************Iteration: 72\n"
       ]
      },
      {
       "output_type": "stream",
       "stream": "stderr",
       "text": [
        "INFO:REINFORCE:Gradient step\n"
       ]
      },
      {
       "output_type": "stream",
       "stream": "stderr",
       "text": [
        "INFO:REINFORCE:Step norm: 1.0\n"
       ]
      },
      {
       "output_type": "stream",
       "stream": "stderr",
       "text": [
        "INFO:REINFORCE:Alpha: 0.0743895351091\n"
       ]
      },
      {
       "output_type": "stream",
       "stream": "stderr",
       "text": [
        "INFO:REINFORCE:Return from iter 0:  -293.431205\n"
       ]
      },
      {
       "output_type": "stream",
       "stream": "stderr",
       "text": [
        "INFO:REINFORCE:Return from iter 1:  -294.232265\n"
       ]
      },
      {
       "output_type": "stream",
       "stream": "stderr",
       "text": [
        "INFO:REINFORCE:********************Iteration: 73\n"
       ]
      },
      {
       "output_type": "stream",
       "stream": "stderr",
       "text": [
        "INFO:REINFORCE:Gradient step\n"
       ]
      },
      {
       "output_type": "stream",
       "stream": "stderr",
       "text": [
        "INFO:REINFORCE:Step norm: 1.0\n"
       ]
      },
      {
       "output_type": "stream",
       "stream": "stderr",
       "text": [
        "INFO:REINFORCE:Alpha: 0.0738083615903\n"
       ]
      },
      {
       "output_type": "stream",
       "stream": "stderr",
       "text": [
        "INFO:REINFORCE:Return from iter 0:  18.975737\n"
       ]
      },
      {
       "output_type": "stream",
       "stream": "stderr",
       "text": [
        "INFO:REINFORCE:Return from iter 1:  15.182739\n"
       ]
      },
      {
       "output_type": "stream",
       "stream": "stderr",
       "text": [
        "INFO:REINFORCE:********************Iteration: 74\n"
       ]
      },
      {
       "output_type": "stream",
       "stream": "stderr",
       "text": [
        "INFO:REINFORCE:Gradient step\n"
       ]
      },
      {
       "output_type": "stream",
       "stream": "stderr",
       "text": [
        "INFO:REINFORCE:Step norm: 1.0\n"
       ]
      },
      {
       "output_type": "stream",
       "stream": "stderr",
       "text": [
        "INFO:REINFORCE:Alpha: 0.073239140399\n"
       ]
      },
      {
       "output_type": "stream",
       "stream": "stderr",
       "text": [
        "INFO:REINFORCE:Return from iter 0:  18.411576\n"
       ]
      },
      {
       "output_type": "stream",
       "stream": "stderr",
       "text": [
        "INFO:REINFORCE:Return from iter 1:  18.975737\n"
       ]
      },
      {
       "output_type": "stream",
       "stream": "stderr",
       "text": [
        "INFO:REINFORCE:********************Iteration: 75\n"
       ]
      },
      {
       "output_type": "stream",
       "stream": "stderr",
       "text": [
        "INFO:REINFORCE:Gradient step\n"
       ]
      },
      {
       "output_type": "stream",
       "stream": "stderr",
       "text": [
        "INFO:REINFORCE:Step norm: 0.0\n"
       ]
      },
      {
       "output_type": "stream",
       "stream": "stderr",
       "text": [
        "INFO:REINFORCE:Alpha: 0.0726814771614\n"
       ]
      },
      {
       "output_type": "stream",
       "stream": "stderr",
       "text": [
        "INFO:REINFORCE:Return from iter 0:  18.975737\n"
       ]
      },
      {
       "output_type": "stream",
       "stream": "stderr",
       "text": [
        "INFO:REINFORCE:Return from iter 1:  18.975737\n"
       ]
      },
      {
       "output_type": "stream",
       "stream": "stderr",
       "text": [
        "INFO:REINFORCE:********************Iteration: 76\n"
       ]
      },
      {
       "output_type": "stream",
       "stream": "stderr",
       "text": [
        "INFO:REINFORCE:Gradient step\n"
       ]
      },
      {
       "output_type": "stream",
       "stream": "stderr",
       "text": [
        "INFO:REINFORCE:Step norm: 1.0\n"
       ]
      },
      {
       "output_type": "stream",
       "stream": "stderr",
       "text": [
        "INFO:REINFORCE:Alpha: 0.0721349952954\n"
       ]
      },
      {
       "output_type": "stream",
       "stream": "stderr",
       "text": [
        "INFO:REINFORCE:Return from iter 0:  -294.139207\n"
       ]
      },
      {
       "output_type": "stream",
       "stream": "stderr",
       "text": [
        "INFO:REINFORCE:Return from iter 1:  -920.168194\n"
       ]
      },
      {
       "output_type": "stream",
       "stream": "stderr",
       "text": [
        "INFO:REINFORCE:********************Iteration: 77\n"
       ]
      },
      {
       "output_type": "stream",
       "stream": "stderr",
       "text": [
        "INFO:REINFORCE:Gradient step\n"
       ]
      },
      {
       "output_type": "stream",
       "stream": "stderr",
       "text": [
        "INFO:REINFORCE:Step norm: 1.0\n"
       ]
      },
      {
       "output_type": "stream",
       "stream": "stderr",
       "text": [
        "INFO:REINFORCE:Alpha: 0.0715993349975\n"
       ]
      },
      {
       "output_type": "stream",
       "stream": "stderr",
       "text": [
        "INFO:REINFORCE:Return from iter 0:  -296.059953\n"
       ]
      },
      {
       "output_type": "stream",
       "stream": "stderr",
       "text": [
        "INFO:REINFORCE:Return from iter 1:  18.975737\n"
       ]
      },
      {
       "output_type": "stream",
       "stream": "stderr",
       "text": [
        "INFO:REINFORCE:********************Iteration: 78\n"
       ]
      },
      {
       "output_type": "stream",
       "stream": "stderr",
       "text": [
        "INFO:REINFORCE:Gradient step\n"
       ]
      },
      {
       "output_type": "stream",
       "stream": "stderr",
       "text": [
        "INFO:REINFORCE:Step norm: 1.0\n"
       ]
      },
      {
       "output_type": "stream",
       "stream": "stderr",
       "text": [
        "INFO:REINFORCE:Alpha: 0.0710741522997\n"
       ]
      },
      {
       "output_type": "stream",
       "stream": "stderr",
       "text": [
        "INFO:REINFORCE:Return from iter 0:  18.975737\n"
       ]
      },
      {
       "output_type": "stream",
       "stream": "stderr",
       "text": [
        "INFO:REINFORCE:Return from iter 1:  18.391852\n"
       ]
      },
      {
       "output_type": "stream",
       "stream": "stdout",
       "text": [
        "\n",
        "Return from iter 1:  -294.816150\n",
        "Updated theta with alpha: 0.075589412196, theta norm: 1.0\n",
        "Return from iter 0:  -607.203368\n",
        "Return from iter 1:  -4671.475893\n",
        "Updated theta with alpha: 0.0749830742095, theta norm: 1.0\n",
        "Return from iter 0:  -293.431205\n",
        "Return from iter 1:  -294.232265\n",
        "Updated theta with alpha: 0.0743895351091, theta norm: 1.0\n",
        "Return from iter 0:  18.975737\n",
        "Return from iter 1:  15.182739\n",
        "Updated theta with alpha: 0.0738083615903, theta norm: 1.0\n",
        "Return from iter 0:  18.411576\n",
        "Return from iter 1:  18.975737\n",
        "Updated theta with alpha: 0.073239140399, theta norm: 1.0\n",
        "Return from iter 0:  18.975737\n",
        "Return from iter 1:  18.975737\n",
        "Updated theta with alpha: 0.0726814771614, theta norm: 0.0\n",
        "Return from iter 0:  -294.139207\n",
        "Return from iter 1:  -920.168194\n",
        "Updated theta with alpha: 0.0721349952954, theta norm: 1.0\n",
        "Return from iter 0:  -296.059953\n",
        "Return from iter 1:  18.975737\n",
        "Updated theta with alpha: 0.0715993349975, theta norm: 1.0\n",
        "Return from iter 0:  18.975737\n",
        "Return from iter 1:  18.391852\n",
        "Updated theta with alpha: 0.0710741522997, theta norm: 1.0\n",
        "Return from iter 0:  -295.396515"
       ]
      },
      {
       "output_type": "stream",
       "stream": "stderr",
       "text": [
        "INFO:REINFORCE:********************Iteration: 79\n"
       ]
      },
      {
       "output_type": "stream",
       "stream": "stderr",
       "text": [
        "INFO:REINFORCE:Gradient step\n"
       ]
      },
      {
       "output_type": "stream",
       "stream": "stderr",
       "text": [
        "INFO:REINFORCE:Step norm: 1.0\n"
       ]
      },
      {
       "output_type": "stream",
       "stream": "stderr",
       "text": [
        "INFO:REINFORCE:Alpha: 0.0705591181894\n"
       ]
      },
      {
       "output_type": "stream",
       "stream": "stderr",
       "text": [
        "INFO:REINFORCE:Return from iter 0:  -295.396515\n"
       ]
      },
      {
       "output_type": "stream",
       "stream": "stderr",
       "text": [
        "INFO:REINFORCE:Return from iter 1:  18.411576\n"
       ]
      },
      {
       "output_type": "stream",
       "stream": "stderr",
       "text": [
        "INFO:REINFORCE:********************Iteration: 80\n"
       ]
      },
      {
       "output_type": "stream",
       "stream": "stderr",
       "text": [
        "INFO:REINFORCE:Gradient step\n"
       ]
      },
      {
       "output_type": "stream",
       "stream": "stderr",
       "text": [
        "INFO:REINFORCE:Step norm: 1.0\n"
       ]
      },
      {
       "output_type": "stream",
       "stream": "stderr",
       "text": [
        "INFO:REINFORCE:Alpha: 0.0700539177884\n"
       ]
      },
      {
       "output_type": "stream",
       "stream": "stderr",
       "text": [
        "INFO:REINFORCE:Return from iter 0:  -4672.183895\n"
       ]
      },
      {
       "output_type": "stream",
       "stream": "stderr",
       "text": [
        "INFO:REINFORCE:Return from iter 1:  18.975737\n"
       ]
      },
      {
       "output_type": "stream",
       "stream": "stderr",
       "text": [
        "INFO:REINFORCE:********************Iteration: 81\n"
       ]
      },
      {
       "output_type": "stream",
       "stream": "stderr",
       "text": [
        "INFO:REINFORCE:Gradient step\n"
       ]
      },
      {
       "output_type": "stream",
       "stream": "stderr",
       "text": [
        "INFO:REINFORCE:Step norm: 1.0\n"
       ]
      },
      {
       "output_type": "stream",
       "stream": "stderr",
       "text": [
        "INFO:REINFORCE:Alpha: 0.0695582495865\n"
       ]
      },
      {
       "output_type": "stream",
       "stream": "stderr",
       "text": [
        "INFO:REINFORCE:Return from iter 0:  -5922.075983\n"
       ]
      },
      {
       "output_type": "stream",
       "stream": "stderr",
       "text": [
        "INFO:REINFORCE:Return from iter 1:  18.267735\n"
       ]
      },
      {
       "output_type": "stream",
       "stream": "stderr",
       "text": [
        "INFO:REINFORCE:********************Iteration: 82\n"
       ]
      },
      {
       "output_type": "stream",
       "stream": "stderr",
       "text": [
        "INFO:REINFORCE:Gradient step\n"
       ]
      },
      {
       "output_type": "stream",
       "stream": "stderr",
       "text": [
        "INFO:REINFORCE:Step norm: 1.0\n"
       ]
      },
      {
       "output_type": "stream",
       "stream": "stderr",
       "text": [
        "INFO:REINFORCE:Alpha: 0.0690718247243\n"
       ]
      },
      {
       "output_type": "stream",
       "stream": "stderr",
       "text": [
        "INFO:REINFORCE:Return from iter 0:  -2795.307550\n"
       ]
      },
      {
       "output_type": "stream",
       "stream": "stderr",
       "text": [
        "INFO:REINFORCE:Return from iter 1:  18.975737\n"
       ]
      },
      {
       "output_type": "stream",
       "stream": "stderr",
       "text": [
        "INFO:REINFORCE:********************Iteration: 83\n"
       ]
      },
      {
       "output_type": "stream",
       "stream": "stderr",
       "text": [
        "INFO:REINFORCE:Gradient step\n"
       ]
      },
      {
       "output_type": "stream",
       "stream": "stderr",
       "text": [
        "INFO:REINFORCE:Step norm: 1.0\n"
       ]
      },
      {
       "output_type": "stream",
       "stream": "stderr",
       "text": [
        "INFO:REINFORCE:Alpha: 0.0685943663231\n"
       ]
      },
      {
       "output_type": "stream",
       "stream": "stderr",
       "text": [
        "INFO:REINFORCE:Return from iter 0:  18.975737\n"
       ]
      },
      {
       "output_type": "stream",
       "stream": "stderr",
       "text": [
        "INFO:REINFORCE:Return from iter 1:  18.411576\n"
       ]
      },
      {
       "output_type": "stream",
       "stream": "stderr",
       "text": [
        "INFO:REINFORCE:********************Iteration: 84\n"
       ]
      },
      {
       "output_type": "stream",
       "stream": "stderr",
       "text": [
        "INFO:REINFORCE:Gradient step\n"
       ]
      },
      {
       "output_type": "stream",
       "stream": "stderr",
       "text": [
        "INFO:REINFORCE:Step norm: 1.0\n"
       ]
      },
      {
       "output_type": "stream",
       "stream": "stderr",
       "text": [
        "INFO:REINFORCE:Alpha: 0.0681256088571\n"
       ]
      },
      {
       "output_type": "stream",
       "stream": "stderr",
       "text": [
        "INFO:REINFORCE:Return from iter 0:  -293.995366\n"
       ]
      },
      {
       "output_type": "stream",
       "stream": "stderr",
       "text": [
        "INFO:REINFORCE:Return from iter 1:  -294.693383\n"
       ]
      },
      {
       "output_type": "stream",
       "stream": "stderr",
       "text": [
        "INFO:REINFORCE:********************Iteration: 85\n"
       ]
      },
      {
       "output_type": "stream",
       "stream": "stderr",
       "text": [
        "INFO:REINFORCE:Gradient step\n"
       ]
      },
      {
       "output_type": "stream",
       "stream": "stderr",
       "text": [
        "INFO:REINFORCE:Step norm: 1.0\n"
       ]
      },
      {
       "output_type": "stream",
       "stream": "stderr",
       "text": [
        "INFO:REINFORCE:Alpha: 0.0676652975652\n"
       ]
      },
      {
       "output_type": "stream",
       "stream": "stderr",
       "text": [
        "INFO:REINFORCE:Return from iter 0:  18.391852\n"
       ]
      },
      {
       "output_type": "stream",
       "stream": "stderr",
       "text": [
        "INFO:REINFORCE:Return from iter 1:  18.975737\n"
       ]
      },
      {
       "output_type": "stream",
       "stream": "stderr",
       "text": [
        "INFO:REINFORCE:********************Iteration: 86\n"
       ]
      },
      {
       "output_type": "stream",
       "stream": "stderr",
       "text": [
        "INFO:REINFORCE:Gradient step\n"
       ]
      },
      {
       "output_type": "stream",
       "stream": "stderr",
       "text": [
        "INFO:REINFORCE:Step norm: 1.0\n"
       ]
      },
      {
       "output_type": "stream",
       "stream": "stderr",
       "text": [
        "INFO:REINFORCE:Alpha: 0.0672131878998\n"
       ]
      },
      {
       "output_type": "stream",
       "stream": "stderr",
       "text": [
        "INFO:REINFORCE:Return from iter 0:  18.975737\n"
       ]
      },
      {
       "output_type": "stream",
       "stream": "stderr",
       "text": [
        "INFO:REINFORCE:Return from iter 1:  18.411576\n"
       ]
      },
      {
       "output_type": "stream",
       "stream": "stderr",
       "text": [
        "INFO:REINFORCE:********************Iteration: 87\n"
       ]
      },
      {
       "output_type": "stream",
       "stream": "stderr",
       "text": [
        "INFO:REINFORCE:Gradient step\n"
       ]
      },
      {
       "output_type": "stream",
       "stream": "stderr",
       "text": [
        "INFO:REINFORCE:Step norm: 1.0\n"
       ]
      },
      {
       "output_type": "stream",
       "stream": "stderr",
       "text": [
        "INFO:REINFORCE:Alpha: 0.066769045009\n"
       ]
      },
      {
       "output_type": "stream",
       "stream": "stderr",
       "text": [
        "INFO:REINFORCE:Return from iter 0:  18.411576\n"
       ]
      },
      {
       "output_type": "stream",
       "stream": "stderr",
       "text": [
        "INFO:REINFORCE:Return from iter 1:  18.411576\n"
       ]
      },
      {
       "output_type": "stream",
       "stream": "stdout",
       "text": [
        "\n",
        "Return from iter 1:  18.411576\n",
        "Updated theta with alpha: 0.0705591181894, theta norm: 1.0\n",
        "Return from iter 0:  -4672.183895\n",
        "Return from iter 1:  18.975737\n",
        "Updated theta with alpha: 0.0700539177884, theta norm: 1.0\n",
        "Return from iter 0:  -5922.075983\n",
        "Return from iter 1:  18.267735\n",
        "Updated theta with alpha: 0.0695582495865, theta norm: 1.0\n",
        "Return from iter 0:  -2795.307550\n",
        "Return from iter 1:  18.975737\n",
        "Updated theta with alpha: 0.0690718247243, theta norm: 1.0\n",
        "Return from iter 0:  18.975737\n",
        "Return from iter 1:  18.411576\n",
        "Updated theta with alpha: 0.0685943663231, theta norm: 1.0\n",
        "Return from iter 0:  -293.995366\n",
        "Return from iter 1:  -294.693383\n",
        "Updated theta with alpha: 0.0681256088571, theta norm: 1.0\n",
        "Return from iter 0:  18.391852\n",
        "Return from iter 1:  18.975737\n",
        "Updated theta with alpha: 0.0676652975652, theta norm: 1.0\n",
        "Return from iter 0:  18.975737\n",
        "Return from iter 1:  18.411576\n",
        "Updated theta with alpha: 0.0672131878998, theta norm: 1.0\n",
        "Return from iter 0:  18.411576\n",
        "Return from iter 1:  18.411576\n",
        "Updated theta with alpha: 0.066769045009, theta norm: 1.0\n",
        "Return from iter 0:  18.975737"
       ]
      },
      {
       "output_type": "stream",
       "stream": "stderr",
       "text": [
        "INFO:REINFORCE:********************Iteration: 88\n"
       ]
      },
      {
       "output_type": "stream",
       "stream": "stderr",
       "text": [
        "INFO:REINFORCE:Gradient step\n"
       ]
      },
      {
       "output_type": "stream",
       "stream": "stderr",
       "text": [
        "INFO:REINFORCE:Step norm: 1.0\n"
       ]
      },
      {
       "output_type": "stream",
       "stream": "stderr",
       "text": [
        "INFO:REINFORCE:Alpha: 0.0663326432511\n"
       ]
      },
      {
       "output_type": "stream",
       "stream": "stderr",
       "text": [
        "INFO:REINFORCE:Return from iter 0:  18.975737\n"
       ]
      },
      {
       "output_type": "stream",
       "stream": "stderr",
       "text": [
        "INFO:REINFORCE:Return from iter 1:  18.267735\n"
       ]
      },
      {
       "output_type": "stream",
       "stream": "stderr",
       "text": [
        "INFO:REINFORCE:********************Iteration: 89\n"
       ]
      },
      {
       "output_type": "stream",
       "stream": "stderr",
       "text": [
        "INFO:REINFORCE:Gradient step\n"
       ]
      },
      {
       "output_type": "stream",
       "stream": "stderr",
       "text": [
        "INFO:REINFORCE:Step norm: 1.0\n"
       ]
      },
      {
       "output_type": "stream",
       "stream": "stderr",
       "text": [
        "INFO:REINFORCE:Alpha: 0.0659037657378\n"
       ]
      },
      {
       "output_type": "stream",
       "stream": "stderr",
       "text": [
        "INFO:REINFORCE:Return from iter 0:  -607.881661\n"
       ]
      },
      {
       "output_type": "stream",
       "stream": "stderr",
       "text": [
        "INFO:REINFORCE:Return from iter 1:  18.411576\n"
       ]
      },
      {
       "output_type": "stream",
       "stream": "stderr",
       "text": [
        "INFO:REINFORCE:********************Iteration: 90\n"
       ]
      },
      {
       "output_type": "stream",
       "stream": "stderr",
       "text": [
        "INFO:REINFORCE:Gradient step\n"
       ]
      },
      {
       "output_type": "stream",
       "stream": "stderr",
       "text": [
        "INFO:REINFORCE:Step norm: 1.0\n"
       ]
      },
      {
       "output_type": "stream",
       "stream": "stderr",
       "text": [
        "INFO:REINFORCE:Alpha: 0.0654822039051\n"
       ]
      },
      {
       "output_type": "stream",
       "stream": "stderr",
       "text": [
        "INFO:REINFORCE:Return from iter 0:  -298.025263\n"
       ]
      },
      {
       "output_type": "stream",
       "stream": "stderr",
       "text": [
        "INFO:REINFORCE:Return from iter 1:  -295.381661\n"
       ]
      },
      {
       "output_type": "stream",
       "stream": "stderr",
       "text": [
        "INFO:REINFORCE:********************Iteration: 91\n"
       ]
      },
      {
       "output_type": "stream",
       "stream": "stderr",
       "text": [
        "INFO:REINFORCE:Gradient step\n"
       ]
      },
      {
       "output_type": "stream",
       "stream": "stderr",
       "text": [
        "INFO:REINFORCE:Step norm: 1.0\n"
       ]
      },
      {
       "output_type": "stream",
       "stream": "stderr",
       "text": [
        "INFO:REINFORCE:Alpha: 0.0650677571093\n"
       ]
      },
      {
       "output_type": "stream",
       "stream": "stderr",
       "text": [
        "INFO:REINFORCE:Return from iter 0:  -296.624114\n"
       ]
      },
      {
       "output_type": "stream",
       "stream": "stderr",
       "text": [
        "INFO:REINFORCE:Return from iter 1:  -294.232265\n"
       ]
      },
      {
       "output_type": "stream",
       "stream": "stderr",
       "text": [
        "INFO:REINFORCE:********************Iteration: 92\n"
       ]
      },
      {
       "output_type": "stream",
       "stream": "stderr",
       "text": [
        "INFO:REINFORCE:Gradient step\n"
       ]
      },
      {
       "output_type": "stream",
       "stream": "stderr",
       "text": [
        "INFO:REINFORCE:Step norm: 1.0\n"
       ]
      },
      {
       "output_type": "stream",
       "stream": "stderr",
       "text": [
        "INFO:REINFORCE:Alpha: 0.0646602322465\n"
       ]
      },
      {
       "output_type": "stream",
       "stream": "stderr",
       "text": [
        "INFO:REINFORCE:Return from iter 0:  18.975737\n"
       ]
      },
      {
       "output_type": "stream",
       "stream": "stderr",
       "text": [
        "INFO:REINFORCE:Return from iter 1:  18.956013\n"
       ]
      },
      {
       "output_type": "stream",
       "stream": "stderr",
       "text": [
        "INFO:REINFORCE:********************Iteration: 93\n"
       ]
      },
      {
       "output_type": "stream",
       "stream": "stderr",
       "text": [
        "INFO:REINFORCE:Gradient step\n"
       ]
      },
      {
       "output_type": "stream",
       "stream": "stderr",
       "text": [
        "INFO:REINFORCE:Step norm: 1.0\n"
       ]
      },
      {
       "output_type": "stream",
       "stream": "stderr",
       "text": [
        "INFO:REINFORCE:Alpha: 0.0642594433947\n"
       ]
      },
      {
       "output_type": "stream",
       "stream": "stderr",
       "text": [
        "INFO:REINFORCE:Return from iter 0:  -294.232265\n"
       ]
      },
      {
       "output_type": "stream",
       "stream": "stderr",
       "text": [
        "INFO:REINFORCE:Return from iter 1:  -920.411370\n"
       ]
      },
      {
       "output_type": "stream",
       "stream": "stderr",
       "text": [
        "INFO:REINFORCE:********************Iteration: 94\n"
       ]
      },
      {
       "output_type": "stream",
       "stream": "stderr",
       "text": [
        "INFO:REINFORCE:Gradient step\n"
       ]
      },
      {
       "output_type": "stream",
       "stream": "stderr",
       "text": [
        "INFO:REINFORCE:Step norm: 1.0\n"
       ]
      },
      {
       "output_type": "stream",
       "stream": "stderr",
       "text": [
        "INFO:REINFORCE:Alpha: 0.0638652114756\n"
       ]
      },
      {
       "output_type": "stream",
       "stream": "stderr",
       "text": [
        "INFO:REINFORCE:Return from iter 0:  -8110.655754\n"
       ]
      },
      {
       "output_type": "stream",
       "stream": "stderr",
       "text": [
        "INFO:REINFORCE:Return from iter 1:  14.484722\n"
       ]
      },
      {
       "output_type": "stream",
       "stream": "stderr",
       "text": [
        "INFO:REINFORCE:********************Iteration: 95\n"
       ]
      },
      {
       "output_type": "stream",
       "stream": "stderr",
       "text": [
        "INFO:REINFORCE:Gradient step\n"
       ]
      },
      {
       "output_type": "stream",
       "stream": "stderr",
       "text": [
        "INFO:REINFORCE:Step norm: 1.0\n"
       ]
      },
      {
       "output_type": "stream",
       "stream": "stderr",
       "text": [
        "INFO:REINFORCE:Alpha: 0.0634773639362\n"
       ]
      },
      {
       "output_type": "stream",
       "stream": "stderr",
       "text": [
        "INFO:REINFORCE:Return from iter 0:  -294.232265\n"
       ]
      },
      {
       "output_type": "stream",
       "stream": "stderr",
       "text": [
        "INFO:REINFORCE:Return from iter 1:  18.411576\n"
       ]
      },
      {
       "output_type": "stream",
       "stream": "stderr",
       "text": [
        "INFO:REINFORCE:********************Iteration: 96\n"
       ]
      },
      {
       "output_type": "stream",
       "stream": "stderr",
       "text": [
        "INFO:REINFORCE:Gradient step\n"
       ]
      },
      {
       "output_type": "stream",
       "stream": "stderr",
       "text": [
        "INFO:REINFORCE:Step norm: 1.0\n"
       ]
      },
      {
       "output_type": "stream",
       "stream": "stderr",
       "text": [
        "INFO:REINFORCE:Alpha: 0.063095734448\n"
       ]
      },
      {
       "output_type": "stream",
       "stream": "stderr",
       "text": [
        "INFO:REINFORCE:Return from iter 0:  -918.903519\n"
       ]
      },
      {
       "output_type": "stream",
       "stream": "stderr",
       "text": [
        "INFO:REINFORCE:Return from iter 1:  17.847416\n"
       ]
      },
      {
       "output_type": "stream",
       "stream": "stdout",
       "text": [
        "\n",
        "Return from iter 1:  18.267735\n",
        "Updated theta with alpha: 0.0663326432511, theta norm: 1.0\n",
        "Return from iter 0:  -607.881661\n",
        "Return from iter 1:  18.411576\n",
        "Updated theta with alpha: 0.0659037657378, theta norm: 1.0\n",
        "Return from iter 0:  -298.025263\n",
        "Return from iter 1:  -295.381661\n",
        "Updated theta with alpha: 0.0654822039051, theta norm: 1.0\n",
        "Return from iter 0:  -296.624114\n",
        "Return from iter 1:  -294.232265\n",
        "Updated theta with alpha: 0.0650677571093, theta norm: 1.0\n",
        "Return from iter 0:  18.975737\n",
        "Return from iter 1:  18.956013\n",
        "Updated theta with alpha: 0.0646602322465, theta norm: 1.0\n",
        "Return from iter 0:  -294.232265\n",
        "Return from iter 1:  -920.411370\n",
        "Updated theta with alpha: 0.0642594433947, theta norm: 1.0\n",
        "Return from iter 0:  -8110.655754\n",
        "Return from iter 1:  14.484722\n",
        "Updated theta with alpha: 0.0638652114756, theta norm: 1.0\n",
        "Return from iter 0:  -294.232265\n",
        "Return from iter 1:  18.411576\n",
        "Updated theta with alpha: 0.0634773639362, theta norm: 1.0\n",
        "Return from iter 0:  -918.903519\n",
        "Return from iter 1:  17.847416\n",
        "Updated theta with alpha: 0.063095734448, theta norm: 1.0\n",
        "Return from iter 0:  -294.835875"
       ]
      },
      {
       "output_type": "stream",
       "stream": "stderr",
       "text": [
        "INFO:REINFORCE:********************Iteration: 97\n"
       ]
      },
      {
       "output_type": "stream",
       "stream": "stderr",
       "text": [
        "INFO:REINFORCE:Gradient step\n"
       ]
      },
      {
       "output_type": "stream",
       "stream": "stderr",
       "text": [
        "INFO:REINFORCE:Step norm: 1.0\n"
       ]
      },
      {
       "output_type": "stream",
       "stream": "stderr",
       "text": [
        "INFO:REINFORCE:Alpha: 0.0627201626228\n"
       ]
      },
      {
       "output_type": "stream",
       "stream": "stderr",
       "text": [
        "INFO:REINFORCE:Return from iter 0:  -294.835875\n"
       ]
      },
      {
       "output_type": "stream",
       "stream": "stderr",
       "text": [
        "INFO:REINFORCE:Return from iter 1:  14.504447\n"
       ]
      },
      {
       "output_type": "stream",
       "stream": "stderr",
       "text": [
        "INFO:REINFORCE:********************Iteration: 98\n"
       ]
      },
      {
       "output_type": "stream",
       "stream": "stderr",
       "text": [
        "INFO:REINFORCE:Gradient step\n"
       ]
      },
      {
       "output_type": "stream",
       "stream": "stderr",
       "text": [
        "INFO:REINFORCE:Step norm: 1.0\n"
       ]
      },
      {
       "output_type": "stream",
       "stream": "stderr",
       "text": [
        "INFO:REINFORCE:Alpha: 0.0623504937445\n"
       ]
      },
      {
       "output_type": "stream",
       "stream": "stderr",
       "text": [
        "INFO:REINFORCE:Return from iter 0:  -297.317261\n"
       ]
      },
      {
       "output_type": "stream",
       "stream": "stderr",
       "text": [
        "INFO:REINFORCE:Return from iter 1:  -294.673659\n"
       ]
      },
      {
       "output_type": "stream",
       "stream": "stderr",
       "text": [
        "INFO:REINFORCE:********************Iteration: 99\n"
       ]
      },
      {
       "output_type": "stream",
       "stream": "stderr",
       "text": [
        "INFO:REINFORCE:Gradient step\n"
       ]
      },
      {
       "output_type": "stream",
       "stream": "stderr",
       "text": [
        "INFO:REINFORCE:Step norm: 1.0\n"
       ]
      },
      {
       "output_type": "stream",
       "stream": "stderr",
       "text": [
        "INFO:REINFORCE:Alpha: 0.0619865785149\n"
       ]
      },
      {
       "output_type": "stream",
       "stream": "stderr",
       "text": [
        "INFO:REINFORCE:Return from iter 0:  -296.059953\n"
       ]
      },
      {
       "output_type": "stream",
       "stream": "stderr",
       "text": [
        "INFO:REINFORCE:Return from iter 1:  18.975737\n"
       ]
      },
      {
       "output_type": "stream",
       "stream": "stderr",
       "text": [
        "INFO:REINFORCE:********************Iteration: 100\n"
       ]
      },
      {
       "output_type": "stream",
       "stream": "stderr",
       "text": [
        "INFO:REINFORCE:Gradient step\n"
       ]
      },
      {
       "output_type": "stream",
       "stream": "stderr",
       "text": [
        "INFO:REINFORCE:Step norm: 1.0\n"
       ]
      },
      {
       "output_type": "stream",
       "stream": "stderr",
       "text": [
        "INFO:REINFORCE:Alpha: 0.0616282728141\n"
       ]
      },
      {
       "output_type": "stream",
       "stream": "stderr",
       "text": [
        "INFO:REINFORCE:Return from iter 0:  18.411576\n"
       ]
      },
      {
       "output_type": "stream",
       "stream": "stderr",
       "text": [
        "INFO:REINFORCE:Return from iter 1:  18.411576\n"
       ]
      },
      {
       "output_type": "stream",
       "stream": "stderr",
       "text": [
        "INFO:REINFORCE:********************Iteration: 101\n"
       ]
      },
      {
       "output_type": "stream",
       "stream": "stderr",
       "text": [
        "INFO:REINFORCE:Gradient step\n"
       ]
      },
      {
       "output_type": "stream",
       "stream": "stderr",
       "text": [
        "INFO:REINFORCE:Step norm: 1.0\n"
       ]
      },
      {
       "output_type": "stream",
       "stream": "stderr",
       "text": [
        "INFO:REINFORCE:Alpha: 0.0612754374728\n"
       ]
      },
      {
       "output_type": "stream",
       "stream": "stderr",
       "text": [
        "INFO:REINFORCE:Return from iter 0:  -294.723093\n"
       ]
      },
      {
       "output_type": "stream",
       "stream": "stderr",
       "text": [
        "INFO:REINFORCE:Return from iter 1:  18.975737\n"
       ]
      },
      {
       "output_type": "stream",
       "stream": "stderr",
       "text": [
        "INFO:REINFORCE:********************Iteration: 102\n"
       ]
      },
      {
       "output_type": "stream",
       "stream": "stderr",
       "text": [
        "INFO:REINFORCE:Gradient step\n"
       ]
      },
      {
       "output_type": "stream",
       "stream": "stderr",
       "text": [
        "INFO:REINFORCE:Step norm: 1.0\n"
       ]
      },
      {
       "output_type": "stream",
       "stream": "stderr",
       "text": [
        "INFO:REINFORCE:Alpha: 0.0609279380573\n"
       ]
      },
      {
       "output_type": "stream",
       "stream": "stderr",
       "text": [
        "INFO:REINFORCE:Return from iter 0:  -294.673659\n"
       ]
      },
      {
       "output_type": "stream",
       "stream": "stderr",
       "text": [
        "INFO:REINFORCE:Return from iter 1:  17.811487\n"
       ]
      },
      {
       "output_type": "stream",
       "stream": "stderr",
       "text": [
        "INFO:REINFORCE:********************Iteration: 103\n"
       ]
      },
      {
       "output_type": "stream",
       "stream": "stderr",
       "text": [
        "INFO:REINFORCE:Gradient step\n"
       ]
      },
      {
       "output_type": "stream",
       "stream": "stderr",
       "text": [
        "INFO:REINFORCE:Step norm: 1.0\n"
       ]
      },
      {
       "output_type": "stream",
       "stream": "stderr",
       "text": [
        "INFO:REINFORCE:Alpha: 0.0605856446655\n"
       ]
      },
      {
       "output_type": "stream",
       "stream": "stderr",
       "text": [
        "INFO:REINFORCE:Return from iter 0:  14.504447\n"
       ]
      },
      {
       "output_type": "stream",
       "stream": "stderr",
       "text": [
        "INFO:REINFORCE:Return from iter 1:  -294.673659\n"
       ]
      },
      {
       "output_type": "stream",
       "stream": "stderr",
       "text": [
        "INFO:REINFORCE:********************Iteration: 104\n"
       ]
      },
      {
       "output_type": "stream",
       "stream": "stderr",
       "text": [
        "INFO:REINFORCE:Gradient step\n"
       ]
      },
      {
       "output_type": "stream",
       "stream": "stderr",
       "text": [
        "INFO:REINFORCE:Step norm: 1.0\n"
       ]
      },
      {
       "output_type": "stream",
       "stream": "stderr",
       "text": [
        "INFO:REINFORCE:Alpha: 0.0602484317332\n"
       ]
      },
      {
       "output_type": "stream",
       "stream": "stderr",
       "text": [
        "INFO:REINFORCE:Return from iter 0:  18.975737\n"
       ]
      },
      {
       "output_type": "stream",
       "stream": "stderr",
       "text": [
        "INFO:REINFORCE:Return from iter 1:  -293.431205\n"
       ]
      },
      {
       "output_type": "stream",
       "stream": "stderr",
       "text": [
        "INFO:REINFORCE:********************Iteration: 105\n"
       ]
      },
      {
       "output_type": "stream",
       "stream": "stderr",
       "text": [
        "INFO:REINFORCE:Gradient step\n"
       ]
      },
      {
       "output_type": "stream",
       "stream": "stderr",
       "text": [
        "INFO:REINFORCE:Step norm: 1.0\n"
       ]
      },
      {
       "output_type": "stream",
       "stream": "stderr",
       "text": [
        "INFO:REINFORCE:Alpha: 0.0599161778512\n"
       ]
      },
      {
       "output_type": "stream",
       "stream": "stderr",
       "text": [
        "INFO:REINFORCE:Return from iter 0:  -922.190835\n"
       ]
      },
      {
       "output_type": "stream",
       "stream": "stderr",
       "text": [
        "INFO:REINFORCE:Return from iter 1:  18.267735\n"
       ]
      },
      {
       "output_type": "stream",
       "stream": "stdout",
       "text": [
        "\n",
        "Return from iter 1:  14.504447\n",
        "Updated theta with alpha: 0.0627201626228, theta norm: 1.0\n",
        "Return from iter 0:  -297.317261\n",
        "Return from iter 1:  -294.673659\n",
        "Updated theta with alpha: 0.0623504937445, theta norm: 1.0\n",
        "Return from iter 0:  -296.059953\n",
        "Return from iter 1:  18.975737\n",
        "Updated theta with alpha: 0.0619865785149, theta norm: 1.0\n",
        "Return from iter 0:  18.411576\n",
        "Return from iter 1:  18.411576\n",
        "Updated theta with alpha: 0.0616282728141, theta norm: 1.0\n",
        "Return from iter 0:  -294.723093\n",
        "Return from iter 1:  18.975737\n",
        "Updated theta with alpha: 0.0612754374728, theta norm: 1.0\n",
        "Return from iter 0:  -294.673659\n",
        "Return from iter 1:  17.811487\n",
        "Updated theta with alpha: 0.0609279380573, theta norm: 1.0\n",
        "Return from iter 0:  14.504447\n",
        "Return from iter 1:  -294.673659\n",
        "Updated theta with alpha: 0.0605856446655, theta norm: 1.0\n",
        "Return from iter 0:  18.975737\n",
        "Return from iter 1:  -293.431205\n",
        "Updated theta with alpha: 0.0602484317332, theta norm: 1.0\n",
        "Return from iter 0:  -922.190835\n",
        "Return from iter 1:  18.267735\n",
        "Updated theta with alpha: 0.0599161778512, theta norm: 1.0\n",
        "Return from iter 0:  18.975737"
       ]
      },
      {
       "output_type": "stream",
       "stream": "stderr",
       "text": [
        "INFO:REINFORCE:********************Iteration: 106\n"
       ]
      },
      {
       "output_type": "stream",
       "stream": "stderr",
       "text": [
        "INFO:REINFORCE:Gradient step\n"
       ]
      },
      {
       "output_type": "stream",
       "stream": "stderr",
       "text": [
        "INFO:REINFORCE:Step norm: 1.0\n"
       ]
      },
      {
       "output_type": "stream",
       "stream": "stderr",
       "text": [
        "INFO:REINFORCE:Alpha: 0.0595887655909\n"
       ]
      },
      {
       "output_type": "stream",
       "stream": "stderr",
       "text": [
        "INFO:REINFORCE:Return from iter 0:  18.975737\n"
       ]
      },
      {
       "output_type": "stream",
       "stream": "stderr",
       "text": [
        "INFO:REINFORCE:Return from iter 1:  18.411576\n"
       ]
      },
      {
       "output_type": "stream",
       "stream": "stderr",
       "text": [
        "INFO:REINFORCE:********************Iteration: 107\n"
       ]
      },
      {
       "output_type": "stream",
       "stream": "stderr",
       "text": [
        "INFO:REINFORCE:Gradient step\n"
       ]
      },
      {
       "output_type": "stream",
       "stream": "stderr",
       "text": [
        "INFO:REINFORCE:Step norm: 1.0\n"
       ]
      },
      {
       "output_type": "stream",
       "stream": "stderr",
       "text": [
        "INFO:REINFORCE:Alpha: 0.0592660813391\n"
       ]
      },
      {
       "output_type": "stream",
       "stream": "stderr",
       "text": [
        "INFO:REINFORCE:Return from iter 0:  -1234.012542\n"
       ]
      },
      {
       "output_type": "stream",
       "stream": "stderr",
       "text": [
        "INFO:REINFORCE:Return from iter 1:  -2484.050003\n"
       ]
      },
      {
       "output_type": "stream",
       "stream": "stderr",
       "text": [
        "INFO:REINFORCE:********************Iteration: 108\n"
       ]
      },
      {
       "output_type": "stream",
       "stream": "stderr",
       "text": [
        "INFO:REINFORCE:Gradient step\n"
       ]
      },
      {
       "output_type": "stream",
       "stream": "stderr",
       "text": [
        "INFO:REINFORCE:Step norm: 1.0\n"
       ]
      },
      {
       "output_type": "stream",
       "stream": "stderr",
       "text": [
        "INFO:REINFORCE:Alpha: 0.058948015141\n"
       ]
      },
      {
       "output_type": "stream",
       "stream": "stderr",
       "text": [
        "INFO:REINFORCE:Return from iter 0:  18.956013\n"
       ]
      },
      {
       "output_type": "stream",
       "stream": "stderr",
       "text": [
        "INFO:REINFORCE:Return from iter 1:  18.975737\n"
       ]
      },
      {
       "output_type": "stream",
       "stream": "stderr",
       "text": [
        "INFO:REINFORCE:********************Iteration: 109\n"
       ]
      },
      {
       "output_type": "stream",
       "stream": "stderr",
       "text": [
        "INFO:REINFORCE:Gradient step\n"
       ]
      },
      {
       "output_type": "stream",
       "stream": "stderr",
       "text": [
        "INFO:REINFORCE:Step norm: 1.0\n"
       ]
      },
      {
       "output_type": "stream",
       "stream": "stderr",
       "text": [
        "INFO:REINFORCE:Alpha: 0.0586344605512\n"
       ]
      },
      {
       "output_type": "stream",
       "stream": "stderr",
       "text": [
        "INFO:REINFORCE:Return from iter 0:  18.975737\n"
       ]
      },
      {
       "output_type": "stream",
       "stream": "stderr",
       "text": [
        "INFO:REINFORCE:Return from iter 1:  18.267735\n"
       ]
      },
      {
       "output_type": "stream",
       "stream": "stderr",
       "text": [
        "INFO:REINFORCE:********************Iteration: 110\n"
       ]
      },
      {
       "output_type": "stream",
       "stream": "stderr",
       "text": [
        "INFO:REINFORCE:Gradient step\n"
       ]
      },
      {
       "output_type": "stream",
       "stream": "stderr",
       "text": [
        "INFO:REINFORCE:Step norm: 0.0\n"
       ]
      },
      {
       "output_type": "stream",
       "stream": "stderr",
       "text": [
        "INFO:REINFORCE:Alpha: 0.0583253144915\n"
       ]
      },
      {
       "output_type": "stream",
       "stream": "stderr",
       "text": [
        "INFO:REINFORCE:Return from iter 0:  18.975737\n"
       ]
      },
      {
       "output_type": "stream",
       "stream": "stderr",
       "text": [
        "INFO:REINFORCE:Return from iter 1:  18.975737\n"
       ]
      },
      {
       "output_type": "stream",
       "stream": "stderr",
       "text": [
        "INFO:REINFORCE:********************Iteration: 111\n"
       ]
      },
      {
       "output_type": "stream",
       "stream": "stderr",
       "text": [
        "INFO:REINFORCE:Gradient step\n"
       ]
      },
      {
       "output_type": "stream",
       "stream": "stderr",
       "text": [
        "INFO:REINFORCE:Step norm: 1.0\n"
       ]
      },
      {
       "output_type": "stream",
       "stream": "stderr",
       "text": [
        "INFO:REINFORCE:Alpha: 0.0580204771161\n"
       ]
      },
      {
       "output_type": "stream",
       "stream": "stderr",
       "text": [
        "INFO:REINFORCE:Return from iter 0:  -293.431205\n"
       ]
      },
      {
       "output_type": "stream",
       "stream": "stderr",
       "text": [
        "INFO:REINFORCE:Return from iter 1:  18.975737\n"
       ]
      },
      {
       "output_type": "stream",
       "stream": "stderr",
       "text": [
        "INFO:REINFORCE:********************Iteration: 112\n"
       ]
      },
      {
       "output_type": "stream",
       "stream": "stderr",
       "text": [
        "INFO:REINFORCE:Gradient step\n"
       ]
      },
      {
       "output_type": "stream",
       "stream": "stderr",
       "text": [
        "INFO:REINFORCE:Step norm: 1.0\n"
       ]
      },
      {
       "output_type": "stream",
       "stream": "stderr",
       "text": [
        "INFO:REINFORCE:Alpha: 0.0577198516836\n"
       ]
      },
      {
       "output_type": "stream",
       "stream": "stderr",
       "text": [
        "INFO:REINFORCE:Return from iter 0:  -294.703368\n"
       ]
      },
      {
       "output_type": "stream",
       "stream": "stderr",
       "text": [
        "INFO:REINFORCE:Return from iter 1:  18.411576\n"
       ]
      },
      {
       "output_type": "stream",
       "stream": "stderr",
       "text": [
        "INFO:REINFORCE:********************Iteration: 113\n"
       ]
      },
      {
       "output_type": "stream",
       "stream": "stderr",
       "text": [
        "INFO:REINFORCE:Gradient step\n"
       ]
      },
      {
       "output_type": "stream",
       "stream": "stderr",
       "text": [
        "INFO:REINFORCE:Step norm: 1.0\n"
       ]
      },
      {
       "output_type": "stream",
       "stream": "stderr",
       "text": [
        "INFO:REINFORCE:Alpha: 0.057423344434\n"
       ]
      },
      {
       "output_type": "stream",
       "stream": "stderr",
       "text": [
        "INFO:REINFORCE:Return from iter 0:  -8110.423341\n"
       ]
      },
      {
       "output_type": "stream",
       "stream": "stderr",
       "text": [
        "INFO:REINFORCE:Return from iter 1:  18.975737\n"
       ]
      },
      {
       "output_type": "stream",
       "stream": "stderr",
       "text": [
        "INFO:REINFORCE:********************Iteration: 114\n"
       ]
      },
      {
       "output_type": "stream",
       "stream": "stderr",
       "text": [
        "INFO:REINFORCE:Gradient step\n"
       ]
      },
      {
       "output_type": "stream",
       "stream": "stderr",
       "text": [
        "INFO:REINFORCE:Step norm: 1.0\n"
       ]
      },
      {
       "output_type": "stream",
       "stream": "stderr",
       "text": [
        "INFO:REINFORCE:Alpha: 0.0571308644729\n"
       ]
      },
      {
       "output_type": "stream",
       "stream": "stderr",
       "text": [
        "INFO:REINFORCE:Return from iter 0:  -294.673659\n"
       ]
      },
      {
       "output_type": "stream",
       "stream": "stderr",
       "text": [
        "INFO:REINFORCE:Return from iter 1:  18.975737\n"
       ]
      },
      {
       "output_type": "stream",
       "stream": "stdout",
       "text": [
        "\n",
        "Return from iter 1:  18.411576\n",
        "Updated theta with alpha: 0.0595887655909, theta norm: 1.0\n",
        "Return from iter 0:  -1234.012542\n",
        "Return from iter 1:  -2484.050003\n",
        "Updated theta with alpha: 0.0592660813391, theta norm: 1.0\n",
        "Return from iter 0:  18.956013\n",
        "Return from iter 1:  18.975737\n",
        "Updated theta with alpha: 0.058948015141, theta norm: 1.0\n",
        "Return from iter 0:  18.975737\n",
        "Return from iter 1:  18.267735\n",
        "Updated theta with alpha: 0.0586344605512, theta norm: 1.0\n",
        "Return from iter 0:  18.975737\n",
        "Return from iter 1:  18.975737\n",
        "Updated theta with alpha: 0.0583253144915, theta norm: 0.0\n",
        "Return from iter 0:  -293.431205\n",
        "Return from iter 1:  18.975737\n",
        "Updated theta with alpha: 0.0580204771161, theta norm: 1.0\n",
        "Return from iter 0:  -294.703368\n",
        "Return from iter 1:  18.411576\n",
        "Updated theta with alpha: 0.0577198516836, theta norm: 1.0\n",
        "Return from iter 0:  -8110.423341\n",
        "Return from iter 1:  18.975737\n",
        "Updated theta with alpha: 0.057423344434, theta norm: 1.0\n",
        "Return from iter 0:  -294.673659\n",
        "Return from iter 1:  18.975737\n",
        "Updated theta with alpha: 0.0571308644729, theta norm: 1.0\n",
        "Return from iter 0:  -295.381661"
       ]
      },
      {
       "output_type": "stream",
       "stream": "stderr",
       "text": [
        "INFO:REINFORCE:********************Iteration: 115\n"
       ]
      },
      {
       "output_type": "stream",
       "stream": "stderr",
       "text": [
        "INFO:REINFORCE:Gradient step\n"
       ]
      },
      {
       "output_type": "stream",
       "stream": "stderr",
       "text": [
        "INFO:REINFORCE:Step norm: 1.0\n"
       ]
      },
      {
       "output_type": "stream",
       "stream": "stderr",
       "text": [
        "INFO:REINFORCE:Alpha: 0.0568423236602\n"
       ]
      },
      {
       "output_type": "stream",
       "stream": "stderr",
       "text": [
        "INFO:REINFORCE:Return from iter 0:  -295.381661\n"
       ]
      },
      {
       "output_type": "stream",
       "stream": "stderr",
       "text": [
        "INFO:REINFORCE:Return from iter 1:  18.411576\n"
       ]
      },
      {
       "output_type": "stream",
       "stream": "stderr",
       "text": [
        "INFO:REINFORCE:********************Iteration: 116\n"
       ]
      },
      {
       "output_type": "stream",
       "stream": "stderr",
       "text": [
        "INFO:REINFORCE:Gradient step\n"
       ]
      },
      {
       "output_type": "stream",
       "stream": "stderr",
       "text": [
        "INFO:REINFORCE:Step norm: 1.0\n"
       ]
      },
      {
       "output_type": "stream",
       "stream": "stderr",
       "text": [
        "INFO:REINFORCE:Alpha: 0.0565576365045\n"
       ]
      },
      {
       "output_type": "stream",
       "stream": "stderr",
       "text": [
        "INFO:REINFORCE:Return from iter 0:  -8110.888167\n"
       ]
      },
      {
       "output_type": "stream",
       "stream": "stderr",
       "text": [
        "INFO:REINFORCE:Return from iter 1:  18.267735\n"
       ]
      },
      {
       "output_type": "stream",
       "stream": "stderr",
       "text": [
        "INFO:REINFORCE:********************Iteration: 117\n"
       ]
      },
      {
       "output_type": "stream",
       "stream": "stderr",
       "text": [
        "INFO:REINFORCE:Gradient step\n"
       ]
      },
      {
       "output_type": "stream",
       "stream": "stderr",
       "text": [
        "INFO:REINFORCE:Step norm: 1.0\n"
       ]
      },
      {
       "output_type": "stream",
       "stream": "stderr",
       "text": [
        "INFO:REINFORCE:Alpha: 0.0562767200622\n"
       ]
      },
      {
       "output_type": "stream",
       "stream": "stderr",
       "text": [
        "INFO:REINFORCE:Return from iter 0:  -296.059953\n"
       ]
      },
      {
       "output_type": "stream",
       "stream": "stderr",
       "text": [
        "INFO:REINFORCE:Return from iter 1:  -1546.419485\n"
       ]
      },
      {
       "output_type": "stream",
       "stream": "stderr",
       "text": [
        "INFO:REINFORCE:********************Iteration: 118\n"
       ]
      },
      {
       "output_type": "stream",
       "stream": "stderr",
       "text": [
        "INFO:REINFORCE:Gradient step\n"
       ]
      },
      {
       "output_type": "stream",
       "stream": "stderr",
       "text": [
        "INFO:REINFORCE:Step norm: 0.0\n"
       ]
      },
      {
       "output_type": "stream",
       "stream": "stderr",
       "text": [
        "INFO:REINFORCE:Alpha: 0.0559994938411\n"
       ]
      },
      {
       "output_type": "stream",
       "stream": "stderr",
       "text": [
        "INFO:REINFORCE:Return from iter 0:  18.975737\n"
       ]
      },
      {
       "output_type": "stream",
       "stream": "stderr",
       "text": [
        "INFO:REINFORCE:Return from iter 1:  18.975737\n"
       ]
      },
      {
       "output_type": "stream",
       "stream": "stderr",
       "text": [
        "INFO:REINFORCE:********************Iteration: 119\n"
       ]
      },
      {
       "output_type": "stream",
       "stream": "stderr",
       "text": [
        "INFO:REINFORCE:Gradient step\n"
       ]
      },
      {
       "output_type": "stream",
       "stream": "stderr",
       "text": [
        "INFO:REINFORCE:Step norm: 1.0\n"
       ]
      },
      {
       "output_type": "stream",
       "stream": "stderr",
       "text": [
        "INFO:REINFORCE:Alpha: 0.0557258797089\n"
       ]
      },
      {
       "output_type": "stream",
       "stream": "stderr",
       "text": [
        "INFO:REINFORCE:Return from iter 0:  18.975737\n"
       ]
      },
      {
       "output_type": "stream",
       "stream": "stderr",
       "text": [
        "INFO:REINFORCE:Return from iter 1:  18.411576\n"
       ]
      },
      {
       "output_type": "stream",
       "stream": "stderr",
       "text": [
        "INFO:REINFORCE:********************Iteration: 120\n"
       ]
      },
      {
       "output_type": "stream",
       "stream": "stderr",
       "text": [
        "INFO:REINFORCE:Gradient step\n"
       ]
      },
      {
       "output_type": "stream",
       "stream": "stderr",
       "text": [
        "INFO:REINFORCE:Step norm: 1.0\n"
       ]
      },
      {
       "output_type": "stream",
       "stream": "stderr",
       "text": [
        "INFO:REINFORCE:Alpha: 0.0554558018054\n"
       ]
      },
      {
       "output_type": "stream",
       "stream": "stderr",
       "text": [
        "INFO:REINFORCE:Return from iter 0:  18.975737\n"
       ]
      },
      {
       "output_type": "stream",
       "stream": "stderr",
       "text": [
        "INFO:REINFORCE:Return from iter 1:  -606.639207\n"
       ]
      },
      {
       "output_type": "stream",
       "stream": "stderr",
       "text": [
        "INFO:REINFORCE:********************Iteration: 121\n"
       ]
      },
      {
       "output_type": "stream",
       "stream": "stderr",
       "text": [
        "INFO:REINFORCE:Gradient step\n"
       ]
      },
      {
       "output_type": "stream",
       "stream": "stderr",
       "text": [
        "INFO:REINFORCE:Step norm: 1.0\n"
       ]
      },
      {
       "output_type": "stream",
       "stream": "stderr",
       "text": [
        "INFO:REINFORCE:Alpha: 0.0551891864584\n"
       ]
      },
      {
       "output_type": "stream",
       "stream": "stderr",
       "text": [
        "INFO:REINFORCE:Return from iter 0:  18.975737\n"
       ]
      },
      {
       "output_type": "stream",
       "stream": "stderr",
       "text": [
        "INFO:REINFORCE:Return from iter 1:  18.956013\n"
       ]
      },
      {
       "output_type": "stream",
       "stream": "stderr",
       "text": [
        "INFO:REINFORCE:********************Iteration: 122\n"
       ]
      },
      {
       "output_type": "stream",
       "stream": "stderr",
       "text": [
        "INFO:REINFORCE:Gradient step\n"
       ]
      },
      {
       "output_type": "stream",
       "stream": "stderr",
       "text": [
        "INFO:REINFORCE:Step norm: 1.0\n"
       ]
      },
      {
       "output_type": "stream",
       "stream": "stderr",
       "text": [
        "INFO:REINFORCE:Alpha: 0.0549259621044\n"
       ]
      },
      {
       "output_type": "stream",
       "stream": "stderr",
       "text": [
        "INFO:REINFORCE:Return from iter 0:  -295.237819\n"
       ]
      },
      {
       "output_type": "stream",
       "stream": "stderr",
       "text": [
        "INFO:REINFORCE:Return from iter 1:  -297.336986\n"
       ]
      },
      {
       "output_type": "stream",
       "stream": "stderr",
       "text": [
        "INFO:REINFORCE:********************Iteration: 123\n"
       ]
      },
      {
       "output_type": "stream",
       "stream": "stderr",
       "text": [
        "INFO:REINFORCE:Gradient step\n"
       ]
      },
      {
       "output_type": "stream",
       "stream": "stderr",
       "text": [
        "INFO:REINFORCE:Step norm: 1.0\n"
       ]
      },
      {
       "output_type": "stream",
       "stream": "stderr",
       "text": [
        "INFO:REINFORCE:Alpha: 0.0546660592114\n"
       ]
      },
      {
       "output_type": "stream",
       "stream": "stderr",
       "text": [
        "INFO:REINFORCE:Return from iter 0:  18.411576\n"
       ]
      },
      {
       "output_type": "stream",
       "stream": "stderr",
       "text": [
        "INFO:REINFORCE:Return from iter 1:  -294.703368\n"
       ]
      },
      {
       "output_type": "stream",
       "stream": "stdout",
       "text": [
        "\n",
        "Return from iter 1:  18.411576\n",
        "Updated theta with alpha: 0.0568423236602, theta norm: 1.0\n",
        "Return from iter 0:  -8110.888167\n",
        "Return from iter 1:  18.267735\n",
        "Updated theta with alpha: 0.0565576365045, theta norm: 1.0\n",
        "Return from iter 0:  -296.059953\n",
        "Return from iter 1:  -1546.419485\n",
        "Updated theta with alpha: 0.0562767200622, theta norm: 1.0\n",
        "Return from iter 0:  18.975737\n",
        "Return from iter 1:  18.975737\n",
        "Updated theta with alpha: 0.0559994938411, theta norm: 0.0\n",
        "Return from iter 0:  18.975737\n",
        "Return from iter 1:  18.411576\n",
        "Updated theta with alpha: 0.0557258797089, theta norm: 1.0\n",
        "Return from iter 0:  18.975737\n",
        "Return from iter 1:  -606.639207\n",
        "Updated theta with alpha: 0.0554558018054, theta norm: 1.0\n",
        "Return from iter 0:  18.975737\n",
        "Return from iter 1:  18.956013\n",
        "Updated theta with alpha: 0.0551891864584, theta norm: 1.0\n",
        "Return from iter 0:  -295.237819\n",
        "Return from iter 1:  -297.336986\n",
        "Updated theta with alpha: 0.0549259621044, theta norm: 1.0\n",
        "Return from iter 0:  18.411576\n",
        "Return from iter 1:  -294.703368\n",
        "Updated theta with alpha: 0.0546660592114, theta norm: 1.0\n",
        "Return from iter 0:  -294.673659"
       ]
      },
      {
       "output_type": "stream",
       "stream": "stderr",
       "text": [
        "INFO:REINFORCE:********************Iteration: 124\n"
       ]
      },
      {
       "output_type": "stream",
       "stream": "stderr",
       "text": [
        "INFO:REINFORCE:Gradient step\n"
       ]
      },
      {
       "output_type": "stream",
       "stream": "stderr",
       "text": [
        "INFO:REINFORCE:Step norm: 1.0\n"
       ]
      },
      {
       "output_type": "stream",
       "stream": "stderr",
       "text": [
        "INFO:REINFORCE:Alpha: 0.054409410206\n"
       ]
      },
      {
       "output_type": "stream",
       "stream": "stderr",
       "text": [
        "INFO:REINFORCE:Return from iter 0:  -294.673659\n"
       ]
      },
      {
       "output_type": "stream",
       "stream": "stderr",
       "text": [
        "INFO:REINFORCE:Return from iter 1:  -606.727779\n"
       ]
      },
      {
       "output_type": "stream",
       "stream": "stderr",
       "text": [
        "INFO:REINFORCE:********************Iteration: 125\n"
       ]
      },
      {
       "output_type": "stream",
       "stream": "stderr",
       "text": [
        "INFO:REINFORCE:Gradient step\n"
       ]
      },
      {
       "output_type": "stream",
       "stream": "stderr",
       "text": [
        "INFO:REINFORCE:Step norm: 1.0\n"
       ]
      },
      {
       "output_type": "stream",
       "stream": "stderr",
       "text": [
        "INFO:REINFORCE:Alpha: 0.0541559494038\n"
       ]
      },
      {
       "output_type": "stream",
       "stream": "stderr",
       "text": [
        "INFO:REINFORCE:Return from iter 0:  18.267735\n"
       ]
      },
      {
       "output_type": "stream",
       "stream": "stderr",
       "text": [
        "INFO:REINFORCE:Return from iter 1:  18.956013\n"
       ]
      },
      {
       "output_type": "stream",
       "stream": "stderr",
       "text": [
        "INFO:REINFORCE:********************Iteration: 126\n"
       ]
      },
      {
       "output_type": "stream",
       "stream": "stderr",
       "text": [
        "INFO:REINFORCE:Gradient step\n"
       ]
      },
      {
       "output_type": "stream",
       "stream": "stderr",
       "text": [
        "INFO:REINFORCE:Step norm: 1.0\n"
       ]
      },
      {
       "output_type": "stream",
       "stream": "stderr",
       "text": [
        "INFO:REINFORCE:Alpha: 0.053905612942\n"
       ]
      },
      {
       "output_type": "stream",
       "stream": "stderr",
       "text": [
        "INFO:REINFORCE:Return from iter 0:  -921.744955\n"
       ]
      },
      {
       "output_type": "stream",
       "stream": "stderr",
       "text": [
        "INFO:REINFORCE:Return from iter 1:  18.267735\n"
       ]
      },
      {
       "output_type": "stream",
       "stream": "stderr",
       "text": [
        "INFO:REINFORCE:********************Iteration: 127\n"
       ]
      },
      {
       "output_type": "stream",
       "stream": "stderr",
       "text": [
        "INFO:REINFORCE:Gradient step\n"
       ]
      },
      {
       "output_type": "stream",
       "stream": "stderr",
       "text": [
        "INFO:REINFORCE:Step norm: 1.0\n"
       ]
      },
      {
       "output_type": "stream",
       "stream": "stderr",
       "text": [
        "INFO:REINFORCE:Alpha: 0.0536583387155\n"
       ]
      },
      {
       "output_type": "stream",
       "stream": "stderr",
       "text": [
        "INFO:REINFORCE:Return from iter 0:  18.975737\n"
       ]
      },
      {
       "output_type": "stream",
       "stream": "stderr",
       "text": [
        "INFO:REINFORCE:Return from iter 1:  -293.431205\n"
       ]
      },
      {
       "output_type": "stream",
       "stream": "stderr",
       "text": [
        "INFO:REINFORCE:********************Iteration: 128\n"
       ]
      },
      {
       "output_type": "stream",
       "stream": "stderr",
       "text": [
        "INFO:REINFORCE:Gradient step\n"
       ]
      },
      {
       "output_type": "stream",
       "stream": "stderr",
       "text": [
        "INFO:REINFORCE:Step norm: 1.0\n"
       ]
      },
      {
       "output_type": "stream",
       "stream": "stderr",
       "text": [
        "INFO:REINFORCE:Alpha: 0.0534140663157\n"
       ]
      },
      {
       "output_type": "stream",
       "stream": "stderr",
       "text": [
        "INFO:REINFORCE:Return from iter 0:  18.975737\n"
       ]
      },
      {
       "output_type": "stream",
       "stream": "stderr",
       "text": [
        "INFO:REINFORCE:Return from iter 1:  18.411576\n"
       ]
      },
      {
       "output_type": "stream",
       "stream": "stderr",
       "text": [
        "INFO:REINFORCE:********************Iteration: 129\n"
       ]
      },
      {
       "output_type": "stream",
       "stream": "stderr",
       "text": [
        "INFO:REINFORCE:Gradient step\n"
       ]
      },
      {
       "output_type": "stream",
       "stream": "stderr",
       "text": [
        "INFO:REINFORCE:Step norm: 1.0\n"
       ]
      },
      {
       "output_type": "stream",
       "stream": "stderr",
       "text": [
        "INFO:REINFORCE:Alpha: 0.0531727369714\n"
       ]
      },
      {
       "output_type": "stream",
       "stream": "stderr",
       "text": [
        "INFO:REINFORCE:Return from iter 0:  18.411576\n"
       ]
      },
      {
       "output_type": "stream",
       "stream": "stderr",
       "text": [
        "INFO:REINFORCE:Return from iter 1:  14.504447\n"
       ]
      },
      {
       "output_type": "stream",
       "stream": "stderr",
       "text": [
        "INFO:REINFORCE:********************Iteration: 130\n"
       ]
      },
      {
       "output_type": "stream",
       "stream": "stderr",
       "text": [
        "INFO:REINFORCE:Gradient step\n"
       ]
      },
      {
       "output_type": "stream",
       "stream": "stderr",
       "text": [
        "INFO:REINFORCE:Step norm: 1.0\n"
       ]
      },
      {
       "output_type": "stream",
       "stream": "stderr",
       "text": [
        "INFO:REINFORCE:Alpha: 0.0529342934927\n"
       ]
      },
      {
       "output_type": "stream",
       "stream": "stderr",
       "text": [
        "INFO:REINFORCE:Return from iter 0:  -293.431205\n"
       ]
      },
      {
       "output_type": "stream",
       "stream": "stderr",
       "text": [
        "INFO:REINFORCE:Return from iter 1:  -294.940266\n"
       ]
      },
      {
       "output_type": "stream",
       "stream": "stderr",
       "text": [
        "INFO:REINFORCE:********************Iteration: 131\n"
       ]
      },
      {
       "output_type": "stream",
       "stream": "stderr",
       "text": [
        "INFO:REINFORCE:Gradient step\n"
       ]
      },
      {
       "output_type": "stream",
       "stream": "stderr",
       "text": [
        "INFO:REINFORCE:Step norm: 1.0\n"
       ]
      },
      {
       "output_type": "stream",
       "stream": "stderr",
       "text": [
        "INFO:REINFORCE:Alpha: 0.0526986802173\n"
       ]
      },
      {
       "output_type": "stream",
       "stream": "stderr",
       "text": [
        "INFO:REINFORCE:Return from iter 0:  14.504447\n"
       ]
      },
      {
       "output_type": "stream",
       "stream": "stderr",
       "text": [
        "INFO:REINFORCE:Return from iter 1:  18.936288\n"
       ]
      },
      {
       "output_type": "stream",
       "stream": "stderr",
       "text": [
        "INFO:REINFORCE:********************Iteration: 132\n"
       ]
      },
      {
       "output_type": "stream",
       "stream": "stderr",
       "text": [
        "INFO:REINFORCE:Gradient step\n"
       ]
      },
      {
       "output_type": "stream",
       "stream": "stderr",
       "text": [
        "INFO:REINFORCE:Step norm: 0.0\n"
       ]
      },
      {
       "output_type": "stream",
       "stream": "stderr",
       "text": [
        "INFO:REINFORCE:Alpha: 0.0524658429583\n"
       ]
      },
      {
       "output_type": "stream",
       "stream": "stderr",
       "text": [
        "INFO:REINFORCE:Return from iter 0:  18.975737\n"
       ]
      },
      {
       "output_type": "stream",
       "stream": "stderr",
       "text": [
        "INFO:REINFORCE:Return from iter 1:  18.975737\n"
       ]
      },
      {
       "output_type": "stream",
       "stream": "stdout",
       "text": [
        "\n",
        "Return from iter 1:  -606.727779\n",
        "Updated theta with alpha: 0.054409410206, theta norm: 1.0\n",
        "Return from iter 0:  18.267735\n",
        "Return from iter 1:  18.956013\n",
        "Updated theta with alpha: 0.0541559494038, theta norm: 1.0\n",
        "Return from iter 0:  -921.744955\n",
        "Return from iter 1:  18.267735\n",
        "Updated theta with alpha: 0.053905612942, theta norm: 1.0\n",
        "Return from iter 0:  18.975737\n",
        "Return from iter 1:  -293.431205\n",
        "Updated theta with alpha: 0.0536583387155, theta norm: 1.0\n",
        "Return from iter 0:  18.975737\n",
        "Return from iter 1:  18.411576\n",
        "Updated theta with alpha: 0.0534140663157, theta norm: 1.0\n",
        "Return from iter 0:  18.411576\n",
        "Return from iter 1:  14.504447\n",
        "Updated theta with alpha: 0.0531727369714, theta norm: 1.0\n",
        "Return from iter 0:  -293.431205\n",
        "Return from iter 1:  -294.940266\n",
        "Updated theta with alpha: 0.0529342934927, theta norm: 1.0\n",
        "Return from iter 0:  14.504447\n",
        "Return from iter 1:  18.936288\n",
        "Updated theta with alpha: 0.0526986802173, theta norm: 1.0\n",
        "Return from iter 0:  18.975737\n",
        "Return from iter 1:  18.975737\n",
        "Updated theta with alpha: 0.0524658429583, theta norm: 0.0\n",
        "Return from iter 0:  18.267735"
       ]
      },
      {
       "output_type": "stream",
       "stream": "stderr",
       "text": [
        "INFO:REINFORCE:********************Iteration: 133\n"
       ]
      },
      {
       "output_type": "stream",
       "stream": "stderr",
       "text": [
        "INFO:REINFORCE:Gradient step\n"
       ]
      },
      {
       "output_type": "stream",
       "stream": "stderr",
       "text": [
        "INFO:REINFORCE:Step norm: 1.0\n"
       ]
      },
      {
       "output_type": "stream",
       "stream": "stderr",
       "text": [
        "INFO:REINFORCE:Alpha: 0.0522357289547\n"
       ]
      },
      {
       "output_type": "stream",
       "stream": "stderr",
       "text": [
        "INFO:REINFORCE:Return from iter 0:  18.267735\n"
       ]
      },
      {
       "output_type": "stream",
       "stream": "stderr",
       "text": [
        "INFO:REINFORCE:Return from iter 1:  18.975737\n"
       ]
      },
      {
       "output_type": "stream",
       "stream": "stderr",
       "text": [
        "INFO:REINFORCE:********************Iteration: 134\n"
       ]
      },
      {
       "output_type": "stream",
       "stream": "stderr",
       "text": [
        "INFO:REINFORCE:Gradient step\n"
       ]
      },
      {
       "output_type": "stream",
       "stream": "stderr",
       "text": [
        "INFO:REINFORCE:Step norm: 1.0\n"
       ]
      },
      {
       "output_type": "stream",
       "stream": "stderr",
       "text": [
        "INFO:REINFORCE:Alpha: 0.0520082868242\n"
       ]
      },
      {
       "output_type": "stream",
       "stream": "stderr",
       "text": [
        "INFO:REINFORCE:Return from iter 0:  18.975737\n"
       ]
      },
      {
       "output_type": "stream",
       "stream": "stderr",
       "text": [
        "INFO:REINFORCE:Return from iter 1:  18.956013\n"
       ]
      },
      {
       "output_type": "stream",
       "stream": "stderr",
       "text": [
        "INFO:REINFORCE:********************Iteration: 135\n"
       ]
      },
      {
       "output_type": "stream",
       "stream": "stderr",
       "text": [
        "INFO:REINFORCE:Gradient step\n"
       ]
      },
      {
       "output_type": "stream",
       "stream": "stderr",
       "text": [
        "INFO:REINFORCE:Step norm: 1.0\n"
       ]
      },
      {
       "output_type": "stream",
       "stream": "stderr",
       "text": [
        "INFO:REINFORCE:Alpha: 0.0517834665168\n"
       ]
      },
      {
       "output_type": "stream",
       "stream": "stderr",
       "text": [
        "INFO:REINFORCE:Return from iter 0:  14.504447\n"
       ]
      },
      {
       "output_type": "stream",
       "stream": "stderr",
       "text": [
        "INFO:REINFORCE:Return from iter 1:  18.975737\n"
       ]
      },
      {
       "output_type": "stream",
       "stream": "stderr",
       "text": [
        "INFO:REINFORCE:********************Iteration: 136\n"
       ]
      },
      {
       "output_type": "stream",
       "stream": "stderr",
       "text": [
        "INFO:REINFORCE:Gradient step\n"
       ]
      },
      {
       "output_type": "stream",
       "stream": "stderr",
       "text": [
        "INFO:REINFORCE:Step norm: 1.0\n"
       ]
      },
      {
       "output_type": "stream",
       "stream": "stderr",
       "text": [
        "INFO:REINFORCE:Alpha: 0.0515612192716\n"
       ]
      },
      {
       "output_type": "stream",
       "stream": "stderr",
       "text": [
        "INFO:REINFORCE:Return from iter 0:  -922.190835\n"
       ]
      },
      {
       "output_type": "stream",
       "stream": "stderr",
       "text": [
        "INFO:REINFORCE:Return from iter 1:  18.975737\n"
       ]
      },
      {
       "output_type": "stream",
       "stream": "stderr",
       "text": [
        "INFO:REINFORCE:********************Iteration: 137\n"
       ]
      },
      {
       "output_type": "stream",
       "stream": "stderr",
       "text": [
        "INFO:REINFORCE:Gradient step\n"
       ]
      },
      {
       "output_type": "stream",
       "stream": "stderr",
       "text": [
        "INFO:REINFORCE:Step norm: 1.0\n"
       ]
      },
      {
       "output_type": "stream",
       "stream": "stderr",
       "text": [
        "INFO:REINFORCE:Alpha: 0.0513414975743\n"
       ]
      },
      {
       "output_type": "stream",
       "stream": "stderr",
       "text": [
        "INFO:REINFORCE:Return from iter 0:  18.975737\n"
       ]
      },
      {
       "output_type": "stream",
       "stream": "stderr",
       "text": [
        "INFO:REINFORCE:Return from iter 1:  14.484722\n"
       ]
      },
      {
       "output_type": "stream",
       "stream": "stderr",
       "text": [
        "INFO:REINFORCE:********************Iteration: 138\n"
       ]
      },
      {
       "output_type": "stream",
       "stream": "stderr",
       "text": [
        "INFO:REINFORCE:Gradient step\n"
       ]
      },
      {
       "output_type": "stream",
       "stream": "stderr",
       "text": [
        "INFO:REINFORCE:Step norm: 1.0\n"
       ]
      },
      {
       "output_type": "stream",
       "stream": "stderr",
       "text": [
        "INFO:REINFORCE:Alpha: 0.0511242551172\n"
       ]
      },
      {
       "output_type": "stream",
       "stream": "stderr",
       "text": [
        "INFO:REINFORCE:Return from iter 0:  18.411576\n"
       ]
      },
      {
       "output_type": "stream",
       "stream": "stderr",
       "text": [
        "INFO:REINFORCE:Return from iter 1:  18.956013\n"
       ]
      },
      {
       "output_type": "stream",
       "stream": "stderr",
       "text": [
        "INFO:REINFORCE:********************Iteration: 139\n"
       ]
      },
      {
       "output_type": "stream",
       "stream": "stderr",
       "text": [
        "INFO:REINFORCE:Gradient step\n"
       ]
      },
      {
       "output_type": "stream",
       "stream": "stderr",
       "text": [
        "INFO:REINFORCE:Step norm: 1.0\n"
       ]
      },
      {
       "output_type": "stream",
       "stream": "stderr",
       "text": [
        "INFO:REINFORCE:Alpha: 0.0509094467596\n"
       ]
      },
      {
       "output_type": "stream",
       "stream": "stderr",
       "text": [
        "INFO:REINFORCE:Return from iter 0:  18.975737\n"
       ]
      },
      {
       "output_type": "stream",
       "stream": "stderr",
       "text": [
        "INFO:REINFORCE:Return from iter 1:  18.411576\n"
       ]
      },
      {
       "output_type": "stream",
       "stream": "stderr",
       "text": [
        "INFO:REINFORCE:********************Iteration: 140\n"
       ]
      },
      {
       "output_type": "stream",
       "stream": "stderr",
       "text": [
        "INFO:REINFORCE:Gradient step\n"
       ]
      },
      {
       "output_type": "stream",
       "stream": "stderr",
       "text": [
        "INFO:REINFORCE:Step norm: 1.0\n"
       ]
      },
      {
       "output_type": "stream",
       "stream": "stderr",
       "text": [
        "INFO:REINFORCE:Alpha: 0.0506970284911\n"
       ]
      },
      {
       "output_type": "stream",
       "stream": "stderr",
       "text": [
        "INFO:REINFORCE:Return from iter 0:  18.267735\n"
       ]
      },
      {
       "output_type": "stream",
       "stream": "stderr",
       "text": [
        "INFO:REINFORCE:Return from iter 1:  -294.673659\n"
       ]
      },
      {
       "output_type": "stream",
       "stream": "stderr",
       "text": [
        "INFO:REINFORCE:********************Iteration: 141\n"
       ]
      },
      {
       "output_type": "stream",
       "stream": "stderr",
       "text": [
        "INFO:REINFORCE:Gradient step\n"
       ]
      },
      {
       "output_type": "stream",
       "stream": "stderr",
       "text": [
        "INFO:REINFORCE:Step norm: 1.0\n"
       ]
      },
      {
       "output_type": "stream",
       "stream": "stderr",
       "text": [
        "INFO:REINFORCE:Alpha: 0.0504869573956\n"
       ]
      },
      {
       "output_type": "stream",
       "stream": "stderr",
       "text": [
        "INFO:REINFORCE:Return from iter 0:  18.975737\n"
       ]
      },
      {
       "output_type": "stream",
       "stream": "stderr",
       "text": [
        "INFO:REINFORCE:Return from iter 1:  -607.881661\n"
       ]
      },
      {
       "output_type": "stream",
       "stream": "stdout",
       "text": [
        "\n",
        "Return from iter 1:  18.975737\n",
        "Updated theta with alpha: 0.0522357289547, theta norm: 1.0\n",
        "Return from iter 0:  18.975737\n",
        "Return from iter 1:  18.956013\n",
        "Updated theta with alpha: 0.0520082868242, theta norm: 1.0\n",
        "Return from iter 0:  14.504447\n",
        "Return from iter 1:  18.975737\n",
        "Updated theta with alpha: 0.0517834665168, theta norm: 1.0\n",
        "Return from iter 0:  -922.190835\n",
        "Return from iter 1:  18.975737\n",
        "Updated theta with alpha: 0.0515612192716, theta norm: 1.0\n",
        "Return from iter 0:  18.975737\n",
        "Return from iter 1:  14.484722\n",
        "Updated theta with alpha: 0.0513414975743, theta norm: 1.0\n",
        "Return from iter 0:  18.411576\n",
        "Return from iter 1:  18.956013\n",
        "Updated theta with alpha: 0.0511242551172, theta norm: 1.0\n",
        "Return from iter 0:  18.975737\n",
        "Return from iter 1:  18.411576\n",
        "Updated theta with alpha: 0.0509094467596, theta norm: 1.0\n",
        "Return from iter 0:  18.267735\n",
        "Return from iter 1:  -294.673659\n",
        "Updated theta with alpha: 0.0506970284911, theta norm: 1.0\n",
        "Return from iter 0:  18.975737\n",
        "Return from iter 1:  -607.881661\n",
        "Updated theta with alpha: 0.0504869573956, theta norm: 1.0\n",
        "Return from iter 0:  -2795.539963"
       ]
      },
      {
       "output_type": "stream",
       "stream": "stderr",
       "text": [
        "INFO:REINFORCE:********************Iteration: 142\n"
       ]
      },
      {
       "output_type": "stream",
       "stream": "stderr",
       "text": [
        "INFO:REINFORCE:Gradient step\n"
       ]
      },
      {
       "output_type": "stream",
       "stream": "stderr",
       "text": [
        "INFO:REINFORCE:Step norm: 1.0\n"
       ]
      },
      {
       "output_type": "stream",
       "stream": "stderr",
       "text": [
        "INFO:REINFORCE:Alpha: 0.0502791916165\n"
       ]
      },
      {
       "output_type": "stream",
       "stream": "stderr",
       "text": [
        "INFO:REINFORCE:Return from iter 0:  -2795.539963\n"
       ]
      },
      {
       "output_type": "stream",
       "stream": "stderr",
       "text": [
        "INFO:REINFORCE:Return from iter 1:  18.975737\n"
       ]
      },
      {
       "output_type": "stream",
       "stream": "stderr",
       "text": [
        "INFO:REINFORCE:********************Iteration: 143\n"
       ]
      },
      {
       "output_type": "stream",
       "stream": "stderr",
       "text": [
        "INFO:REINFORCE:Gradient step\n"
       ]
      },
      {
       "output_type": "stream",
       "stream": "stderr",
       "text": [
        "INFO:REINFORCE:Step norm: 1.0\n"
       ]
      },
      {
       "output_type": "stream",
       "stream": "stderr",
       "text": [
        "INFO:REINFORCE:Alpha: 0.0500736903237\n"
       ]
      },
      {
       "output_type": "stream",
       "stream": "stderr",
       "text": [
        "INFO:REINFORCE:Return from iter 0:  18.975737\n"
       ]
      },
      {
       "output_type": "stream",
       "stream": "stderr",
       "text": [
        "INFO:REINFORCE:Return from iter 1:  15.182739\n"
       ]
      },
      {
       "output_type": "stream",
       "stream": "stderr",
       "text": [
        "INFO:REINFORCE:********************Iteration: 144\n"
       ]
      },
      {
       "output_type": "stream",
       "stream": "stderr",
       "text": [
        "INFO:REINFORCE:Gradient step\n"
       ]
      },
      {
       "output_type": "stream",
       "stream": "stderr",
       "text": [
        "INFO:REINFORCE:Step norm: 1.0\n"
       ]
      },
      {
       "output_type": "stream",
       "stream": "stderr",
       "text": [
        "INFO:REINFORCE:Alpha: 0.0498704136816\n"
       ]
      },
      {
       "output_type": "stream",
       "stream": "stderr",
       "text": [
        "INFO:REINFORCE:Return from iter 0:  18.411576\n"
       ]
      },
      {
       "output_type": "stream",
       "stream": "stderr",
       "text": [
        "INFO:REINFORCE:Return from iter 1:  -294.673659\n"
       ]
      },
      {
       "output_type": "stream",
       "stream": "stderr",
       "text": [
        "INFO:REINFORCE:********************Iteration: 145\n"
       ]
      },
      {
       "output_type": "stream",
       "stream": "stderr",
       "text": [
        "INFO:REINFORCE:Gradient step\n"
       ]
      },
      {
       "output_type": "stream",
       "stream": "stderr",
       "text": [
        "INFO:REINFORCE:Step norm: 1.0\n"
       ]
      },
      {
       "output_type": "stream",
       "stream": "stderr",
       "text": [
        "INFO:REINFORCE:Alpha: 0.0496693228185\n"
       ]
      },
      {
       "output_type": "stream",
       "stream": "stderr",
       "text": [
        "INFO:REINFORCE:Return from iter 0:  -297.317261\n"
       ]
      },
      {
       "output_type": "stream",
       "stream": "stderr",
       "text": [
        "INFO:REINFORCE:Return from iter 1:  -296.094532\n"
       ]
      },
      {
       "output_type": "stream",
       "stream": "stderr",
       "text": [
        "INFO:REINFORCE:********************Iteration: 146\n"
       ]
      },
      {
       "output_type": "stream",
       "stream": "stderr",
       "text": [
        "INFO:REINFORCE:Gradient step\n"
       ]
      },
      {
       "output_type": "stream",
       "stream": "stderr",
       "text": [
        "INFO:REINFORCE:Step norm: 1.0\n"
       ]
      },
      {
       "output_type": "stream",
       "stream": "stderr",
       "text": [
        "INFO:REINFORCE:Alpha: 0.0494703797967\n"
       ]
      },
      {
       "output_type": "stream",
       "stream": "stderr",
       "text": [
        "INFO:REINFORCE:Return from iter 0:  -1234.012542\n"
       ]
      },
      {
       "output_type": "stream",
       "stream": "stderr",
       "text": [
        "INFO:REINFORCE:Return from iter 1:  -294.673659\n"
       ]
      },
      {
       "output_type": "stream",
       "stream": "stderr",
       "text": [
        "INFO:REINFORCE:********************Iteration: 147\n"
       ]
      },
      {
       "output_type": "stream",
       "stream": "stderr",
       "text": [
        "INFO:REINFORCE:Gradient step\n"
       ]
      },
      {
       "output_type": "stream",
       "stream": "stderr",
       "text": [
        "INFO:REINFORCE:Step norm: 1.0\n"
       ]
      },
      {
       "output_type": "stream",
       "stream": "stderr",
       "text": [
        "INFO:REINFORCE:Alpha: 0.0492735475843\n"
       ]
      },
      {
       "output_type": "stream",
       "stream": "stderr",
       "text": [
        "INFO:REINFORCE:Return from iter 0:  -1234.012542\n"
       ]
      },
      {
       "output_type": "stream",
       "stream": "stderr",
       "text": [
        "INFO:REINFORCE:Return from iter 1:  13.796445\n"
       ]
      },
      {
       "output_type": "stream",
       "stream": "stderr",
       "text": [
        "INFO:REINFORCE:********************Iteration: 148\n"
       ]
      },
      {
       "output_type": "stream",
       "stream": "stderr",
       "text": [
        "INFO:REINFORCE:Gradient step\n"
       ]
      },
      {
       "output_type": "stream",
       "stream": "stderr",
       "text": [
        "INFO:REINFORCE:Step norm: 1.0\n"
       ]
      },
      {
       "output_type": "stream",
       "stream": "stderr",
       "text": [
        "INFO:REINFORCE:Alpha: 0.0490787900276\n"
       ]
      },
      {
       "output_type": "stream",
       "stream": "stderr",
       "text": [
        "INFO:REINFORCE:Return from iter 0:  18.391852\n"
       ]
      },
      {
       "output_type": "stream",
       "stream": "stderr",
       "text": [
        "INFO:REINFORCE:Return from iter 1:  18.267735\n"
       ]
      },
      {
       "output_type": "stream",
       "stream": "stderr",
       "text": [
        "INFO:REINFORCE:********************Iteration: 149\n"
       ]
      },
      {
       "output_type": "stream",
       "stream": "stderr",
       "text": [
        "INFO:REINFORCE:Gradient step\n"
       ]
      },
      {
       "output_type": "stream",
       "stream": "stderr",
       "text": [
        "INFO:REINFORCE:Step norm: 1.0\n"
       ]
      },
      {
       "output_type": "stream",
       "stream": "stderr",
       "text": [
        "INFO:REINFORCE:Alpha: 0.0488860718246\n"
       ]
      },
      {
       "output_type": "stream",
       "stream": "stderr",
       "text": [
        "INFO:REINFORCE:Return from iter 0:  -922.190835\n"
       ]
      },
      {
       "output_type": "stream",
       "stream": "stderr",
       "text": [
        "INFO:REINFORCE:Return from iter 1:  -294.232265\n"
       ]
      },
      {
       "output_type": "stream",
       "stream": "stderr",
       "text": [
        "INFO:REINFORCE:********************Iteration: 150\n"
       ]
      },
      {
       "output_type": "stream",
       "stream": "stderr",
       "text": [
        "INFO:REINFORCE:Gradient step\n"
       ]
      },
      {
       "output_type": "stream",
       "stream": "stderr",
       "text": [
        "INFO:REINFORCE:Step norm: 1.0\n"
       ]
      },
      {
       "output_type": "stream",
       "stream": "stderr",
       "text": [
        "INFO:REINFORCE:Alpha: 0.0486953584998\n"
       ]
      },
      {
       "output_type": "stream",
       "stream": "stderr",
       "text": [
        "INFO:REINFORCE:Return from iter 0:  -922.190835\n"
       ]
      },
      {
       "output_type": "stream",
       "stream": "stderr",
       "text": [
        "INFO:REINFORCE:Return from iter 1:  18.956013\n"
       ]
      },
      {
       "output_type": "stream",
       "stream": "stdout",
       "text": [
        "\n",
        "Return from iter 1:  18.975737\n",
        "Updated theta with alpha: 0.0502791916165, theta norm: 1.0\n",
        "Return from iter 0:  18.975737\n",
        "Return from iter 1:  15.182739\n",
        "Updated theta with alpha: 0.0500736903237, theta norm: 1.0\n",
        "Return from iter 0:  18.411576\n",
        "Return from iter 1:  -294.673659\n",
        "Updated theta with alpha: 0.0498704136816, theta norm: 1.0\n",
        "Return from iter 0:  -297.317261\n",
        "Return from iter 1:  -296.094532\n",
        "Updated theta with alpha: 0.0496693228185, theta norm: 1.0\n",
        "Return from iter 0:  -1234.012542\n",
        "Return from iter 1:  -294.673659\n",
        "Updated theta with alpha: 0.0494703797967, theta norm: 1.0\n",
        "Return from iter 0:  -1234.012542\n",
        "Return from iter 1:  13.796445\n",
        "Updated theta with alpha: 0.0492735475843, theta norm: 1.0\n",
        "Return from iter 0:  18.391852\n",
        "Return from iter 1:  18.267735\n",
        "Updated theta with alpha: 0.0490787900276, theta norm: 1.0\n",
        "Return from iter 0:  -922.190835\n",
        "Return from iter 1:  -294.232265\n",
        "Updated theta with alpha: 0.0488860718246, theta norm: 1.0\n",
        "Return from iter 0:  -922.190835\n",
        "Return from iter 1:  18.956013\n",
        "Updated theta with alpha: 0.0486953584998, theta norm: 1.0\n",
        "Return from iter 0:  18.975737"
       ]
      },
      {
       "output_type": "stream",
       "stream": "stderr",
       "text": [
        "INFO:REINFORCE:********************Iteration: 151\n"
       ]
      },
      {
       "output_type": "stream",
       "stream": "stderr",
       "text": [
        "INFO:REINFORCE:Gradient step\n"
       ]
      },
      {
       "output_type": "stream",
       "stream": "stderr",
       "text": [
        "INFO:REINFORCE:Step norm: 0.0\n"
       ]
      },
      {
       "output_type": "stream",
       "stream": "stderr",
       "text": [
        "INFO:REINFORCE:Alpha: 0.0485066163793\n"
       ]
      },
      {
       "output_type": "stream",
       "stream": "stderr",
       "text": [
        "INFO:REINFORCE:Return from iter 0:  18.975737\n"
       ]
      },
      {
       "output_type": "stream",
       "stream": "stderr",
       "text": [
        "INFO:REINFORCE:Return from iter 1:  18.975737\n"
       ]
      },
      {
       "output_type": "stream",
       "stream": "stderr",
       "text": [
        "INFO:REINFORCE:********************Iteration: 152\n"
       ]
      },
      {
       "output_type": "stream",
       "stream": "stderr",
       "text": [
        "INFO:REINFORCE:Gradient step\n"
       ]
      },
      {
       "output_type": "stream",
       "stream": "stderr",
       "text": [
        "INFO:REINFORCE:Step norm: 0.0\n"
       ]
      },
      {
       "output_type": "stream",
       "stream": "stderr",
       "text": [
        "INFO:REINFORCE:Alpha: 0.0483198125674\n"
       ]
      },
      {
       "output_type": "stream",
       "stream": "stderr",
       "text": [
        "INFO:REINFORCE:Return from iter 0:  18.975737\n"
       ]
      },
      {
       "output_type": "stream",
       "stream": "stderr",
       "text": [
        "INFO:REINFORCE:Return from iter 1:  18.975737\n"
       ]
      },
      {
       "output_type": "stream",
       "stream": "stderr",
       "text": [
        "INFO:REINFORCE:********************Iteration: 153\n"
       ]
      },
      {
       "output_type": "stream",
       "stream": "stderr",
       "text": [
        "INFO:REINFORCE:Gradient step\n"
       ]
      },
      {
       "output_type": "stream",
       "stream": "stderr",
       "text": [
        "INFO:REINFORCE:Step norm: 1.0\n"
       ]
      },
      {
       "output_type": "stream",
       "stream": "stderr",
       "text": [
        "INFO:REINFORCE:Alpha: 0.0481349149235\n"
       ]
      },
      {
       "output_type": "stream",
       "stream": "stderr",
       "text": [
        "INFO:REINFORCE:Return from iter 0:  17.703575\n"
       ]
      },
      {
       "output_type": "stream",
       "stream": "stderr",
       "text": [
        "INFO:REINFORCE:Return from iter 1:  -606.639207\n"
       ]
      },
      {
       "output_type": "stream",
       "stream": "stderr",
       "text": [
        "INFO:REINFORCE:********************Iteration: 154\n"
       ]
      },
      {
       "output_type": "stream",
       "stream": "stderr",
       "text": [
        "INFO:REINFORCE:Gradient step\n"
       ]
      },
      {
       "output_type": "stream",
       "stream": "stderr",
       "text": [
        "INFO:REINFORCE:Step norm: 1.0\n"
       ]
      },
      {
       "output_type": "stream",
       "stream": "stderr",
       "text": [
        "INFO:REINFORCE:Alpha: 0.0479518920406\n"
       ]
      },
      {
       "output_type": "stream",
       "stream": "stderr",
       "text": [
        "INFO:REINFORCE:Return from iter 0:  18.975737\n"
       ]
      },
      {
       "output_type": "stream",
       "stream": "stderr",
       "text": [
        "INFO:REINFORCE:Return from iter 1:  18.411576\n"
       ]
      },
      {
       "output_type": "stream",
       "stream": "stderr",
       "text": [
        "INFO:REINFORCE:********************Iteration: 155\n"
       ]
      },
      {
       "output_type": "stream",
       "stream": "stderr",
       "text": [
        "INFO:REINFORCE:Gradient step\n"
       ]
      },
      {
       "output_type": "stream",
       "stream": "stderr",
       "text": [
        "INFO:REINFORCE:Step norm: 1.0\n"
       ]
      },
      {
       "output_type": "stream",
       "stream": "stderr",
       "text": [
        "INFO:REINFORCE:Alpha: 0.0477707132233\n"
       ]
      },
      {
       "output_type": "stream",
       "stream": "stderr",
       "text": [
        "INFO:REINFORCE:Return from iter 0:  -293.995366\n"
       ]
      },
      {
       "output_type": "stream",
       "stream": "stderr",
       "text": [
        "INFO:REINFORCE:Return from iter 1:  -607.203368\n"
       ]
      },
      {
       "output_type": "stream",
       "stream": "stderr",
       "text": [
        "INFO:REINFORCE:********************Iteration: 156\n"
       ]
      },
      {
       "output_type": "stream",
       "stream": "stderr",
       "text": [
        "INFO:REINFORCE:Gradient step\n"
       ]
      },
      {
       "output_type": "stream",
       "stream": "stderr",
       "text": [
        "INFO:REINFORCE:Step norm: 1.0\n"
       ]
      },
      {
       "output_type": "stream",
       "stream": "stderr",
       "text": [
        "INFO:REINFORCE:Alpha: 0.0475913484679\n"
       ]
      },
      {
       "output_type": "stream",
       "stream": "stderr",
       "text": [
        "INFO:REINFORCE:Return from iter 0:  -297.317261\n"
       ]
      },
      {
       "output_type": "stream",
       "stream": "stderr",
       "text": [
        "INFO:REINFORCE:Return from iter 1:  -294.232265\n"
       ]
      },
      {
       "output_type": "stream",
       "stream": "stderr",
       "text": [
        "INFO:REINFORCE:********************Iteration: 157\n"
       ]
      },
      {
       "output_type": "stream",
       "stream": "stderr",
       "text": [
        "INFO:REINFORCE:Gradient step\n"
       ]
      },
      {
       "output_type": "stream",
       "stream": "stderr",
       "text": [
        "INFO:REINFORCE:Step norm: 1.0\n"
       ]
      },
      {
       "output_type": "stream",
       "stream": "stderr",
       "text": [
        "INFO:REINFORCE:Alpha: 0.0474137684425\n"
       ]
      },
      {
       "output_type": "stream",
       "stream": "stderr",
       "text": [
        "INFO:REINFORCE:Return from iter 0:  18.975737\n"
       ]
      },
      {
       "output_type": "stream",
       "stream": "stderr",
       "text": [
        "INFO:REINFORCE:Return from iter 1:  -297.317261\n"
       ]
      },
      {
       "output_type": "stream",
       "stream": "stderr",
       "text": [
        "INFO:REINFORCE:********************Iteration: 158\n"
       ]
      },
      {
       "output_type": "stream",
       "stream": "stderr",
       "text": [
        "INFO:REINFORCE:Gradient step\n"
       ]
      },
      {
       "output_type": "stream",
       "stream": "stderr",
       "text": [
        "INFO:REINFORCE:Step norm: 1.0\n"
       ]
      },
      {
       "output_type": "stream",
       "stream": "stderr",
       "text": [
        "INFO:REINFORCE:Alpha: 0.0472379444676\n"
       ]
      },
      {
       "output_type": "stream",
       "stream": "stderr",
       "text": [
        "INFO:REINFORCE:Return from iter 0:  -294.232265\n"
       ]
      },
      {
       "output_type": "stream",
       "stream": "stderr",
       "text": [
        "INFO:REINFORCE:Return from iter 1:  -610.398836\n"
       ]
      },
      {
       "output_type": "stream",
       "stream": "stderr",
       "text": [
        "INFO:REINFORCE:********************Iteration: 159\n"
       ]
      },
      {
       "output_type": "stream",
       "stream": "stderr",
       "text": [
        "INFO:REINFORCE:Gradient step\n"
       ]
      },
      {
       "output_type": "stream",
       "stream": "stderr",
       "text": [
        "INFO:REINFORCE:Step norm: 1.0\n"
       ]
      },
      {
       "output_type": "stream",
       "stream": "stderr",
       "text": [
        "INFO:REINFORCE:Alpha: 0.0470638484982\n"
       ]
      },
      {
       "output_type": "stream",
       "stream": "stderr",
       "text": [
        "INFO:REINFORCE:Return from iter 0:  18.956013\n"
       ]
      },
      {
       "output_type": "stream",
       "stream": "stderr",
       "text": [
        "INFO:REINFORCE:Return from iter 1:  -921.512542\n"
       ]
      },
      {
       "output_type": "stream",
       "stream": "stdout",
       "text": [
        "\n",
        "Return from iter 1:  18.975737\n",
        "Updated theta with alpha: 0.0485066163793, theta norm: 0.0\n",
        "Return from iter 0:  18.975737\n",
        "Return from iter 1:  18.975737\n",
        "Updated theta with alpha: 0.0483198125674, theta norm: 0.0\n",
        "Return from iter 0:  17.703575\n",
        "Return from iter 1:  -606.639207\n",
        "Updated theta with alpha: 0.0481349149235, theta norm: 1.0\n",
        "Return from iter 0:  18.975737\n",
        "Return from iter 1:  18.411576\n",
        "Updated theta with alpha: 0.0479518920406, theta norm: 1.0\n",
        "Return from iter 0:  -293.995366\n",
        "Return from iter 1:  -607.203368\n",
        "Updated theta with alpha: 0.0477707132233, theta norm: 1.0\n",
        "Return from iter 0:  -297.317261\n",
        "Return from iter 1:  -294.232265\n",
        "Updated theta with alpha: 0.0475913484679, theta norm: 1.0\n",
        "Return from iter 0:  18.975737\n",
        "Return from iter 1:  -297.317261\n",
        "Updated theta with alpha: 0.0474137684425, theta norm: 1.0\n",
        "Return from iter 0:  -294.232265\n",
        "Return from iter 1:  -610.398836\n",
        "Updated theta with alpha: 0.0472379444676, theta norm: 1.0\n",
        "Return from iter 0:  18.956013\n",
        "Return from iter 1:  -921.512542\n",
        "Updated theta with alpha: 0.0470638484982, theta norm: 1.0\n",
        "Return from iter 0:  18.411576"
       ]
      },
      {
       "output_type": "stream",
       "stream": "stderr",
       "text": [
        "INFO:REINFORCE:********************Iteration: 160\n"
       ]
      },
      {
       "output_type": "stream",
       "stream": "stderr",
       "text": [
        "INFO:REINFORCE:Gradient step\n"
       ]
      },
      {
       "output_type": "stream",
       "stream": "stderr",
       "text": [
        "INFO:REINFORCE:Step norm: 1.0\n"
       ]
      },
      {
       "output_type": "stream",
       "stream": "stderr",
       "text": [
        "INFO:REINFORCE:Alpha: 0.0468914531055\n"
       ]
      },
      {
       "output_type": "stream",
       "stream": "stderr",
       "text": [
        "INFO:REINFORCE:Return from iter 0:  18.411576\n"
       ]
      },
      {
       "output_type": "stream",
       "stream": "stderr",
       "text": [
        "INFO:REINFORCE:Return from iter 1:  -294.673659\n"
       ]
      },
      {
       "output_type": "stream",
       "stream": "stderr",
       "text": [
        "INFO:REINFORCE:********************Iteration: 161\n"
       ]
      },
      {
       "output_type": "stream",
       "stream": "stderr",
       "text": [
        "INFO:REINFORCE:Gradient step\n"
       ]
      },
      {
       "output_type": "stream",
       "stream": "stderr",
       "text": [
        "INFO:REINFORCE:Step norm: 1.0\n"
       ]
      },
      {
       "output_type": "stream",
       "stream": "stderr",
       "text": [
        "INFO:REINFORCE:Alpha: 0.0467207314597\n"
       ]
      },
      {
       "output_type": "stream",
       "stream": "stderr",
       "text": [
        "INFO:REINFORCE:Return from iter 0:  -294.673659\n"
       ]
      },
      {
       "output_type": "stream",
       "stream": "stderr",
       "text": [
        "INFO:REINFORCE:Return from iter 1:  18.391852\n"
       ]
      },
      {
       "output_type": "stream",
       "stream": "stderr",
       "text": [
        "INFO:REINFORCE:********************Iteration: 162\n"
       ]
      },
      {
       "output_type": "stream",
       "stream": "stderr",
       "text": [
        "INFO:REINFORCE:Gradient step\n"
       ]
      },
      {
       "output_type": "stream",
       "stream": "stderr",
       "text": [
        "INFO:REINFORCE:Step norm: 1.0\n"
       ]
      },
      {
       "output_type": "stream",
       "stream": "stderr",
       "text": [
        "INFO:REINFORCE:Alpha: 0.046551657314\n"
       ]
      },
      {
       "output_type": "stream",
       "stream": "stderr",
       "text": [
        "INFO:REINFORCE:Return from iter 0:  18.267735\n"
       ]
      },
      {
       "output_type": "stream",
       "stream": "stderr",
       "text": [
        "INFO:REINFORCE:Return from iter 1:  -294.673659\n"
       ]
      },
      {
       "output_type": "stream",
       "stream": "stderr",
       "text": [
        "INFO:REINFORCE:********************Iteration: 163\n"
       ]
      },
      {
       "output_type": "stream",
       "stream": "stderr",
       "text": [
        "INFO:REINFORCE:Gradient step\n"
       ]
      },
      {
       "output_type": "stream",
       "stream": "stderr",
       "text": [
        "INFO:REINFORCE:Step norm: 1.0\n"
       ]
      },
      {
       "output_type": "stream",
       "stream": "stderr",
       "text": [
        "INFO:REINFORCE:Alpha: 0.0463842049877\n"
       ]
      },
      {
       "output_type": "stream",
       "stream": "stderr",
       "text": [
        "INFO:REINFORCE:Return from iter 0:  18.975737\n"
       ]
      },
      {
       "output_type": "stream",
       "stream": "stderr",
       "text": [
        "INFO:REINFORCE:Return from iter 1:  14.504447\n"
       ]
      },
      {
       "output_type": "stream",
       "stream": "stderr",
       "text": [
        "INFO:REINFORCE:********************Iteration: 164\n"
       ]
      },
      {
       "output_type": "stream",
       "stream": "stderr",
       "text": [
        "INFO:REINFORCE:Gradient step\n"
       ]
      },
      {
       "output_type": "stream",
       "stream": "stderr",
       "text": [
        "INFO:REINFORCE:Step norm: 1.0\n"
       ]
      },
      {
       "output_type": "stream",
       "stream": "stderr",
       "text": [
        "INFO:REINFORCE:Alpha: 0.0462183493512\n"
       ]
      },
      {
       "output_type": "stream",
       "stream": "stderr",
       "text": [
        "INFO:REINFORCE:Return from iter 0:  18.975737\n"
       ]
      },
      {
       "output_type": "stream",
       "stream": "stderr",
       "text": [
        "INFO:REINFORCE:Return from iter 1:  18.411576\n"
       ]
      },
      {
       "output_type": "stream",
       "stream": "stderr",
       "text": [
        "INFO:REINFORCE:********************Iteration: 165\n"
       ]
      },
      {
       "output_type": "stream",
       "stream": "stderr",
       "text": [
        "INFO:REINFORCE:Gradient step\n"
       ]
      },
      {
       "output_type": "stream",
       "stream": "stderr",
       "text": [
        "INFO:REINFORCE:Step norm: 1.0\n"
       ]
      },
      {
       "output_type": "stream",
       "stream": "stderr",
       "text": [
        "INFO:REINFORCE:Alpha: 0.0460540658109\n"
       ]
      },
      {
       "output_type": "stream",
       "stream": "stderr",
       "text": [
        "INFO:REINFORCE:Return from iter 0:  18.975737\n"
       ]
      },
      {
       "output_type": "stream",
       "stream": "stderr",
       "text": [
        "INFO:REINFORCE:Return from iter 1:  -607.881661\n"
       ]
      },
      {
       "output_type": "stream",
       "stream": "stderr",
       "text": [
        "INFO:REINFORCE:********************Iteration: 166\n"
       ]
      },
      {
       "output_type": "stream",
       "stream": "stderr",
       "text": [
        "INFO:REINFORCE:Gradient step\n"
       ]
      },
      {
       "output_type": "stream",
       "stream": "stderr",
       "text": [
        "INFO:REINFORCE:Step norm: 1.0\n"
       ]
      },
      {
       "output_type": "stream",
       "stream": "stderr",
       "text": [
        "INFO:REINFORCE:Alpha: 0.0458913302944\n"
       ]
      },
      {
       "output_type": "stream",
       "stream": "stderr",
       "text": [
        "INFO:REINFORCE:Return from iter 0:  -922.190835\n"
       ]
      },
      {
       "output_type": "stream",
       "stream": "stderr",
       "text": [
        "INFO:REINFORCE:Return from iter 1:  18.975737\n"
       ]
      },
      {
       "output_type": "stream",
       "stream": "stderr",
       "text": [
        "INFO:REINFORCE:********************Iteration: 167\n"
       ]
      },
      {
       "output_type": "stream",
       "stream": "stderr",
       "text": [
        "INFO:REINFORCE:Gradient step\n"
       ]
      },
      {
       "output_type": "stream",
       "stream": "stderr",
       "text": [
        "INFO:REINFORCE:Step norm: 1.0\n"
       ]
      },
      {
       "output_type": "stream",
       "stream": "stderr",
       "text": [
        "INFO:REINFORCE:Alpha: 0.045730119237\n"
       ]
      },
      {
       "output_type": "stream",
       "stream": "stderr",
       "text": [
        "INFO:REINFORCE:Return from iter 0:  -606.495366\n"
       ]
      },
      {
       "output_type": "stream",
       "stream": "stderr",
       "text": [
        "INFO:REINFORCE:Return from iter 1:  18.975737\n"
       ]
      },
      {
       "output_type": "stream",
       "stream": "stderr",
       "text": [
        "INFO:REINFORCE:********************Iteration: 168\n"
       ]
      },
      {
       "output_type": "stream",
       "stream": "stderr",
       "text": [
        "INFO:REINFORCE:Gradient step\n"
       ]
      },
      {
       "output_type": "stream",
       "stream": "stderr",
       "text": [
        "INFO:REINFORCE:Step norm: 1.0\n"
       ]
      },
      {
       "output_type": "stream",
       "stream": "stderr",
       "text": [
        "INFO:REINFORCE:Alpha: 0.0455704095676\n"
       ]
      },
      {
       "output_type": "stream",
       "stream": "stderr",
       "text": [
        "INFO:REINFORCE:Return from iter 0:  -293.431205\n"
       ]
      },
      {
       "output_type": "stream",
       "stream": "stderr",
       "text": [
        "INFO:REINFORCE:Return from iter 1:  -922.190835\n"
       ]
      },
      {
       "output_type": "stream",
       "stream": "stdout",
       "text": [
        "\n",
        "Return from iter 1:  -294.673659\n",
        "Updated theta with alpha: 0.0468914531055, theta norm: 1.0\n",
        "Return from iter 0:  -294.673659\n",
        "Return from iter 1:  18.391852\n",
        "Updated theta with alpha: 0.0467207314597, theta norm: 1.0\n",
        "Return from iter 0:  18.267735\n",
        "Return from iter 1:  -294.673659\n",
        "Updated theta with alpha: 0.046551657314, theta norm: 1.0\n",
        "Return from iter 0:  18.975737\n",
        "Return from iter 1:  14.504447\n",
        "Updated theta with alpha: 0.0463842049877, theta norm: 1.0\n",
        "Return from iter 0:  18.975737\n",
        "Return from iter 1:  18.411576\n",
        "Updated theta with alpha: 0.0462183493512, theta norm: 1.0\n",
        "Return from iter 0:  18.975737\n",
        "Return from iter 1:  -607.881661\n",
        "Updated theta with alpha: 0.0460540658109, theta norm: 1.0\n",
        "Return from iter 0:  -922.190835\n",
        "Return from iter 1:  18.975737\n",
        "Updated theta with alpha: 0.0458913302944, theta norm: 1.0\n",
        "Return from iter 0:  -606.495366\n",
        "Return from iter 1:  18.975737\n",
        "Updated theta with alpha: 0.045730119237, theta norm: 1.0\n",
        "Return from iter 0:  -293.431205\n",
        "Return from iter 1:  -922.190835\n",
        "Updated theta with alpha: 0.0455704095676, theta norm: 1.0\n",
        "Return from iter 0:  18.975737"
       ]
      },
      {
       "output_type": "stream",
       "stream": "stderr",
       "text": [
        "INFO:REINFORCE:********************Iteration: 169\n"
       ]
      },
      {
       "output_type": "stream",
       "stream": "stderr",
       "text": [
        "INFO:REINFORCE:Gradient step\n"
       ]
      },
      {
       "output_type": "stream",
       "stream": "stderr",
       "text": [
        "INFO:REINFORCE:Step norm: 1.0\n"
       ]
      },
      {
       "output_type": "stream",
       "stream": "stderr",
       "text": [
        "INFO:REINFORCE:Alpha: 0.0454121786957\n"
       ]
      },
      {
       "output_type": "stream",
       "stream": "stderr",
       "text": [
        "INFO:REINFORCE:Return from iter 0:  18.975737\n"
       ]
      },
      {
       "output_type": "stream",
       "stream": "stderr",
       "text": [
        "INFO:REINFORCE:Return from iter 1:  14.504447\n"
       ]
      },
      {
       "output_type": "stream",
       "stream": "stderr",
       "text": [
        "INFO:REINFORCE:********************Iteration: 170\n"
       ]
      },
      {
       "output_type": "stream",
       "stream": "stderr",
       "text": [
        "INFO:REINFORCE:Gradient step\n"
       ]
      },
      {
       "output_type": "stream",
       "stream": "stderr",
       "text": [
        "INFO:REINFORCE:Step norm: 0.0\n"
       ]
      },
      {
       "output_type": "stream",
       "stream": "stderr",
       "text": [
        "INFO:REINFORCE:Alpha: 0.0452554044989\n"
       ]
      },
      {
       "output_type": "stream",
       "stream": "stderr",
       "text": [
        "INFO:REINFORCE:Return from iter 0:  18.411576\n"
       ]
      },
      {
       "output_type": "stream",
       "stream": "stderr",
       "text": [
        "INFO:REINFORCE:Return from iter 1:  18.411576\n"
       ]
      },
      {
       "output_type": "stream",
       "stream": "stderr",
       "text": [
        "INFO:REINFORCE:********************Iteration: 171\n"
       ]
      },
      {
       "output_type": "stream",
       "stream": "stderr",
       "text": [
        "INFO:REINFORCE:Gradient step\n"
       ]
      },
      {
       "output_type": "stream",
       "stream": "stderr",
       "text": [
        "INFO:REINFORCE:Step norm: 0.0\n"
       ]
      },
      {
       "output_type": "stream",
       "stream": "stderr",
       "text": [
        "INFO:REINFORCE:Alpha: 0.0451000653102\n"
       ]
      },
      {
       "output_type": "stream",
       "stream": "stderr",
       "text": [
        "INFO:REINFORCE:Return from iter 0:  18.975737\n"
       ]
      },
      {
       "output_type": "stream",
       "stream": "stderr",
       "text": [
        "INFO:REINFORCE:Return from iter 1:  18.975737\n"
       ]
      },
      {
       "output_type": "stream",
       "stream": "stderr",
       "text": [
        "INFO:REINFORCE:********************Iteration: 172\n"
       ]
      },
      {
       "output_type": "stream",
       "stream": "stderr",
       "text": [
        "INFO:REINFORCE:Gradient step\n"
       ]
      },
      {
       "output_type": "stream",
       "stream": "stderr",
       "text": [
        "INFO:REINFORCE:Step norm: 0.0\n"
       ]
      },
      {
       "output_type": "stream",
       "stream": "stderr",
       "text": [
        "INFO:REINFORCE:Alpha: 0.0449461399066\n"
       ]
      },
      {
       "output_type": "stream",
       "stream": "stderr",
       "text": [
        "INFO:REINFORCE:Return from iter 0:  -294.232265\n"
       ]
      },
      {
       "output_type": "stream",
       "stream": "stderr",
       "text": [
        "INFO:REINFORCE:Return from iter 1:  -294.232265\n"
       ]
      },
      {
       "output_type": "stream",
       "stream": "stderr",
       "text": [
        "INFO:REINFORCE:********************Iteration: 173\n"
       ]
      },
      {
       "output_type": "stream",
       "stream": "stderr",
       "text": [
        "INFO:REINFORCE:Gradient step\n"
       ]
      },
      {
       "output_type": "stream",
       "stream": "stderr",
       "text": [
        "INFO:REINFORCE:Step norm: 1.0\n"
       ]
      },
      {
       "output_type": "stream",
       "stream": "stderr",
       "text": [
        "INFO:REINFORCE:Alpha: 0.0447936074969\n"
       ]
      },
      {
       "output_type": "stream",
       "stream": "stderr",
       "text": [
        "INFO:REINFORCE:Return from iter 0:  13.796445\n"
       ]
      },
      {
       "output_type": "stream",
       "stream": "stderr",
       "text": [
        "INFO:REINFORCE:Return from iter 1:  18.975737\n"
       ]
      },
      {
       "output_type": "stream",
       "stream": "stderr",
       "text": [
        "INFO:REINFORCE:********************Iteration: 174\n"
       ]
      },
      {
       "output_type": "stream",
       "stream": "stderr",
       "text": [
        "INFO:REINFORCE:Gradient step\n"
       ]
      },
      {
       "output_type": "stream",
       "stream": "stderr",
       "text": [
        "INFO:REINFORCE:Step norm: 1.0\n"
       ]
      },
      {
       "output_type": "stream",
       "stream": "stderr",
       "text": [
        "INFO:REINFORCE:Alpha: 0.0446424477111\n"
       ]
      },
      {
       "output_type": "stream",
       "stream": "stderr",
       "text": [
        "INFO:REINFORCE:Return from iter 0:  18.975737\n"
       ]
      },
      {
       "output_type": "stream",
       "stream": "stderr",
       "text": [
        "INFO:REINFORCE:Return from iter 1:  -295.381661\n"
       ]
      },
      {
       "output_type": "stream",
       "stream": "stderr",
       "text": [
        "INFO:REINFORCE:********************Iteration: 175\n"
       ]
      },
      {
       "output_type": "stream",
       "stream": "stderr",
       "text": [
        "INFO:REINFORCE:Gradient step\n"
       ]
      },
      {
       "output_type": "stream",
       "stream": "stderr",
       "text": [
        "INFO:REINFORCE:Step norm: 1.0\n"
       ]
      },
      {
       "output_type": "stream",
       "stream": "stderr",
       "text": [
        "INFO:REINFORCE:Alpha: 0.0444926405892\n"
       ]
      },
      {
       "output_type": "stream",
       "stream": "stderr",
       "text": [
        "INFO:REINFORCE:Return from iter 0:  18.267735\n"
       ]
      },
      {
       "output_type": "stream",
       "stream": "stderr",
       "text": [
        "INFO:REINFORCE:Return from iter 1:  18.975737\n"
       ]
      },
      {
       "output_type": "stream",
       "stream": "stderr",
       "text": [
        "INFO:REINFORCE:********************Iteration: 176\n"
       ]
      },
      {
       "output_type": "stream",
       "stream": "stderr",
       "text": [
        "INFO:REINFORCE:Gradient step\n"
       ]
      },
      {
       "output_type": "stream",
       "stream": "stderr",
       "text": [
        "INFO:REINFORCE:Step norm: 1.0\n"
       ]
      },
      {
       "output_type": "stream",
       "stream": "stderr",
       "text": [
        "INFO:REINFORCE:Alpha: 0.044344166571\n"
       ]
      },
      {
       "output_type": "stream",
       "stream": "stderr",
       "text": [
        "INFO:REINFORCE:Return from iter 0:  -294.139207\n"
       ]
      },
      {
       "output_type": "stream",
       "stream": "stderr",
       "text": [
        "INFO:REINFORCE:Return from iter 1:  18.975737\n"
       ]
      },
      {
       "output_type": "stream",
       "stream": "stderr",
       "text": [
        "INFO:REINFORCE:********************Iteration: 177\n"
       ]
      },
      {
       "output_type": "stream",
       "stream": "stderr",
       "text": [
        "INFO:REINFORCE:Gradient step\n"
       ]
      },
      {
       "output_type": "stream",
       "stream": "stderr",
       "text": [
        "INFO:REINFORCE:Step norm: 0.0\n"
       ]
      },
      {
       "output_type": "stream",
       "stream": "stderr",
       "text": [
        "INFO:REINFORCE:Alpha: 0.0441970064857\n"
       ]
      },
      {
       "output_type": "stream",
       "stream": "stderr",
       "text": [
        "INFO:REINFORCE:Return from iter 0:  18.975737\n"
       ]
      },
      {
       "output_type": "stream",
       "stream": "stderr",
       "text": [
        "INFO:REINFORCE:Return from iter 1:  18.975737\n"
       ]
      },
      {
       "output_type": "stream",
       "stream": "stdout",
       "text": [
        "\n",
        "Return from iter 1:  14.504447\n",
        "Updated theta with alpha: 0.0454121786957, theta norm: 1.0\n",
        "Return from iter 0:  18.411576\n",
        "Return from iter 1:  18.411576\n",
        "Updated theta with alpha: 0.0452554044989, theta norm: 0.0\n",
        "Return from iter 0:  18.975737\n",
        "Return from iter 1:  18.975737\n",
        "Updated theta with alpha: 0.0451000653102, theta norm: 0.0\n",
        "Return from iter 0:  -294.232265\n",
        "Return from iter 1:  -294.232265\n",
        "Updated theta with alpha: 0.0449461399066, theta norm: 0.0\n",
        "Return from iter 0:  13.796445\n",
        "Return from iter 1:  18.975737\n",
        "Updated theta with alpha: 0.0447936074969, theta norm: 1.0\n",
        "Return from iter 0:  18.975737\n",
        "Return from iter 1:  -295.381661\n",
        "Updated theta with alpha: 0.0446424477111, theta norm: 1.0\n",
        "Return from iter 0:  18.267735\n",
        "Return from iter 1:  18.975737\n",
        "Updated theta with alpha: 0.0444926405892, theta norm: 1.0\n",
        "Return from iter 0:  -294.139207\n",
        "Return from iter 1:  18.975737\n",
        "Updated theta with alpha: 0.044344166571, theta norm: 1.0\n",
        "Return from iter 0:  18.975737\n",
        "Return from iter 1:  18.975737\n",
        "Updated theta with alpha: 0.0441970064857, theta norm: 0.0\n",
        "Return from iter 0:  -607.881661"
       ]
      },
      {
       "output_type": "stream",
       "stream": "stderr",
       "text": [
        "INFO:REINFORCE:********************Iteration: 178\n"
       ]
      },
      {
       "output_type": "stream",
       "stream": "stderr",
       "text": [
        "INFO:REINFORCE:Gradient step\n"
       ]
      },
      {
       "output_type": "stream",
       "stream": "stderr",
       "text": [
        "INFO:REINFORCE:Step norm: 1.0\n"
       ]
      },
      {
       "output_type": "stream",
       "stream": "stderr",
       "text": [
        "INFO:REINFORCE:Alpha: 0.0440511415421\n"
       ]
      },
      {
       "output_type": "stream",
       "stream": "stderr",
       "text": [
        "INFO:REINFORCE:Return from iter 0:  -607.881661\n"
       ]
      },
      {
       "output_type": "stream",
       "stream": "stderr",
       "text": [
        "INFO:REINFORCE:Return from iter 1:  18.267735\n"
       ]
      },
      {
       "output_type": "stream",
       "stream": "stderr",
       "text": [
        "INFO:REINFORCE:********************Iteration: 179\n"
       ]
      },
      {
       "output_type": "stream",
       "stream": "stderr",
       "text": [
        "INFO:REINFORCE:Gradient step\n"
       ]
      },
      {
       "output_type": "stream",
       "stream": "stderr",
       "text": [
        "INFO:REINFORCE:Step norm: 1.0\n"
       ]
      },
      {
       "output_type": "stream",
       "stream": "stderr",
       "text": [
        "INFO:REINFORCE:Alpha: 0.043906553319\n"
       ]
      },
      {
       "output_type": "stream",
       "stream": "stderr",
       "text": [
        "INFO:REINFORCE:Return from iter 0:  18.975737\n"
       ]
      },
      {
       "output_type": "stream",
       "stream": "stderr",
       "text": [
        "INFO:REINFORCE:Return from iter 1:  -920.168194\n"
       ]
      },
      {
       "output_type": "stream",
       "stream": "stderr",
       "text": [
        "INFO:REINFORCE:********************Iteration: 180\n"
       ]
      },
      {
       "output_type": "stream",
       "stream": "stderr",
       "text": [
        "INFO:REINFORCE:Gradient step\n"
       ]
      },
      {
       "output_type": "stream",
       "stream": "stderr",
       "text": [
        "INFO:REINFORCE:Step norm: 1.0\n"
       ]
      },
      {
       "output_type": "stream",
       "stream": "stderr",
       "text": [
        "INFO:REINFORCE:Alpha: 0.0437632237562\n"
       ]
      },
      {
       "output_type": "stream",
       "stream": "stderr",
       "text": [
        "INFO:REINFORCE:Return from iter 0:  18.228286\n"
       ]
      },
      {
       "output_type": "stream",
       "stream": "stderr",
       "text": [
        "INFO:REINFORCE:Return from iter 1:  -294.232265\n"
       ]
      },
      {
       "output_type": "stream",
       "stream": "stderr",
       "text": [
        "INFO:REINFORCE:********************Iteration: 181\n"
       ]
      },
      {
       "output_type": "stream",
       "stream": "stderr",
       "text": [
        "INFO:REINFORCE:Gradient step\n"
       ]
      },
      {
       "output_type": "stream",
       "stream": "stderr",
       "text": [
        "INFO:REINFORCE:Step norm: 0.0\n"
       ]
      },
      {
       "output_type": "stream",
       "stream": "stderr",
       "text": [
        "INFO:REINFORCE:Alpha: 0.0436211351451\n"
       ]
      },
      {
       "output_type": "stream",
       "stream": "stderr",
       "text": [
        "INFO:REINFORCE:Return from iter 0:  18.411576\n"
       ]
      },
      {
       "output_type": "stream",
       "stream": "stderr",
       "text": [
        "INFO:REINFORCE:Return from iter 1:  18.411576\n"
       ]
      },
      {
       "output_type": "stream",
       "stream": "stderr",
       "text": [
        "INFO:REINFORCE:********************Iteration: 182\n"
       ]
      },
      {
       "output_type": "stream",
       "stream": "stderr",
       "text": [
        "INFO:REINFORCE:Gradient step\n"
       ]
      },
      {
       "output_type": "stream",
       "stream": "stderr",
       "text": [
        "INFO:REINFORCE:Step norm: 1.0\n"
       ]
      },
      {
       "output_type": "stream",
       "stream": "stderr",
       "text": [
        "INFO:REINFORCE:Alpha: 0.0434802701204\n"
       ]
      },
      {
       "output_type": "stream",
       "stream": "stderr",
       "text": [
        "INFO:REINFORCE:Return from iter 0:  18.975737\n"
       ]
      },
      {
       "output_type": "stream",
       "stream": "stderr",
       "text": [
        "INFO:REINFORCE:Return from iter 1:  -1234.032267\n"
       ]
      },
      {
       "output_type": "stream",
       "stream": "stderr",
       "text": [
        "INFO:REINFORCE:********************Iteration: 183\n"
       ]
      },
      {
       "output_type": "stream",
       "stream": "stderr",
       "text": [
        "INFO:REINFORCE:Gradient step\n"
       ]
      },
      {
       "output_type": "stream",
       "stream": "stderr",
       "text": [
        "INFO:REINFORCE:Step norm: 0.0\n"
       ]
      },
      {
       "output_type": "stream",
       "stream": "stderr",
       "text": [
        "INFO:REINFORCE:Alpha: 0.0433406116514\n"
       ]
      },
      {
       "output_type": "stream",
       "stream": "stderr",
       "text": [
        "INFO:REINFORCE:Return from iter 0:  -293.431205\n"
       ]
      },
      {
       "output_type": "stream",
       "stream": "stderr",
       "text": [
        "INFO:REINFORCE:Return from iter 1:  -293.431205\n"
       ]
      },
      {
       "output_type": "stream",
       "stream": "stderr",
       "text": [
        "INFO:REINFORCE:********************Iteration: 184\n"
       ]
      },
      {
       "output_type": "stream",
       "stream": "stderr",
       "text": [
        "INFO:REINFORCE:Gradient step\n"
       ]
      },
      {
       "output_type": "stream",
       "stream": "stderr",
       "text": [
        "INFO:REINFORCE:Step norm: 1.0\n"
       ]
      },
      {
       "output_type": "stream",
       "stream": "stderr",
       "text": [
        "INFO:REINFORCE:Alpha: 0.0432021430338\n"
       ]
      },
      {
       "output_type": "stream",
       "stream": "stderr",
       "text": [
        "INFO:REINFORCE:Return from iter 0:  -295.381661\n"
       ]
      },
      {
       "output_type": "stream",
       "stream": "stderr",
       "text": [
        "INFO:REINFORCE:Return from iter 1:  18.372127\n"
       ]
      },
      {
       "output_type": "stream",
       "stream": "stderr",
       "text": [
        "INFO:REINFORCE:********************Iteration: 185\n"
       ]
      },
      {
       "output_type": "stream",
       "stream": "stderr",
       "text": [
        "INFO:REINFORCE:Gradient step\n"
       ]
      },
      {
       "output_type": "stream",
       "stream": "stderr",
       "text": [
        "INFO:REINFORCE:Step norm: 1.0\n"
       ]
      },
      {
       "output_type": "stream",
       "stream": "stderr",
       "text": [
        "INFO:REINFORCE:Alpha: 0.043064847882\n"
       ]
      },
      {
       "output_type": "stream",
       "stream": "stderr",
       "text": [
        "INFO:REINFORCE:Return from iter 0:  -922.190835\n"
       ]
      },
      {
       "output_type": "stream",
       "stream": "stderr",
       "text": [
        "INFO:REINFORCE:Return from iter 1:  -296.059953\n"
       ]
      },
      {
       "output_type": "stream",
       "stream": "stderr",
       "text": [
        "INFO:REINFORCE:********************Iteration: 186\n"
       ]
      },
      {
       "output_type": "stream",
       "stream": "stderr",
       "text": [
        "INFO:REINFORCE:Gradient step\n"
       ]
      },
      {
       "output_type": "stream",
       "stream": "stderr",
       "text": [
        "INFO:REINFORCE:Step norm: 1.0\n"
       ]
      },
      {
       "output_type": "stream",
       "stream": "stderr",
       "text": [
        "INFO:REINFORCE:Alpha: 0.042928710121\n"
       ]
      },
      {
       "output_type": "stream",
       "stream": "stderr",
       "text": [
        "INFO:REINFORCE:Return from iter 0:  18.975737\n"
       ]
      },
      {
       "output_type": "stream",
       "stream": "stderr",
       "text": [
        "INFO:REINFORCE:Return from iter 1:  14.504447\n"
       ]
      },
      {
       "output_type": "stream",
       "stream": "stdout",
       "text": [
        "\n",
        "Return from iter 1:  18.267735\n",
        "Updated theta with alpha: 0.0440511415421, theta norm: 1.0\n",
        "Return from iter 0:  18.975737\n",
        "Return from iter 1:  -920.168194\n",
        "Updated theta with alpha: 0.043906553319, theta norm: 1.0\n",
        "Return from iter 0:  18.228286\n",
        "Return from iter 1:  -294.232265\n",
        "Updated theta with alpha: 0.0437632237562, theta norm: 1.0\n",
        "Return from iter 0:  18.411576\n",
        "Return from iter 1:  18.411576\n",
        "Updated theta with alpha: 0.0436211351451, theta norm: 0.0\n",
        "Return from iter 0:  18.975737\n",
        "Return from iter 1:  -1234.032267\n",
        "Updated theta with alpha: 0.0434802701204, theta norm: 1.0\n",
        "Return from iter 0:  -293.431205\n",
        "Return from iter 1:  -293.431205\n",
        "Updated theta with alpha: 0.0433406116514, theta norm: 0.0\n",
        "Return from iter 0:  -295.381661\n",
        "Return from iter 1:  18.372127\n",
        "Updated theta with alpha: 0.0432021430338, theta norm: 1.0\n",
        "Return from iter 0:  -922.190835\n",
        "Return from iter 1:  -296.059953\n",
        "Updated theta with alpha: 0.043064847882, theta norm: 1.0\n",
        "Return from iter 0:  18.975737\n",
        "Return from iter 1:  14.504447\n",
        "Updated theta with alpha: 0.042928710121, theta norm: 1.0\n",
        "Return from iter 0:  18.975737"
       ]
      },
      {
       "output_type": "stream",
       "stream": "stderr",
       "text": [
        "INFO:REINFORCE:********************Iteration: 187\n"
       ]
      },
      {
       "output_type": "stream",
       "stream": "stderr",
       "text": [
        "INFO:REINFORCE:Gradient step\n"
       ]
      },
      {
       "output_type": "stream",
       "stream": "stderr",
       "text": [
        "INFO:REINFORCE:Step norm: 0.0\n"
       ]
      },
      {
       "output_type": "stream",
       "stream": "stderr",
       "text": [
        "INFO:REINFORCE:Alpha: 0.0427937139791\n"
       ]
      },
      {
       "output_type": "stream",
       "stream": "stderr",
       "text": [
        "INFO:REINFORCE:Return from iter 0:  18.975737\n"
       ]
      },
      {
       "output_type": "stream",
       "stream": "stderr",
       "text": [
        "INFO:REINFORCE:Return from iter 1:  18.975737\n"
       ]
      },
      {
       "output_type": "stream",
       "stream": "stderr",
       "text": [
        "INFO:REINFORCE:********************Iteration: 188\n"
       ]
      },
      {
       "output_type": "stream",
       "stream": "stderr",
       "text": [
        "INFO:REINFORCE:Gradient step\n"
       ]
      },
      {
       "output_type": "stream",
       "stream": "stderr",
       "text": [
        "INFO:REINFORCE:Step norm: 1.0\n"
       ]
      },
      {
       "output_type": "stream",
       "stream": "stderr",
       "text": [
        "INFO:REINFORCE:Alpha: 0.0426598439808\n"
       ]
      },
      {
       "output_type": "stream",
       "stream": "stderr",
       "text": [
        "INFO:REINFORCE:Return from iter 0:  18.267735\n"
       ]
      },
      {
       "output_type": "stream",
       "stream": "stderr",
       "text": [
        "INFO:REINFORCE:Return from iter 1:  -294.232265\n"
       ]
      },
      {
       "output_type": "stream",
       "stream": "stderr",
       "text": [
        "INFO:REINFORCE:********************Iteration: 189\n"
       ]
      },
      {
       "output_type": "stream",
       "stream": "stderr",
       "text": [
        "INFO:REINFORCE:Gradient step\n"
       ]
      },
      {
       "output_type": "stream",
       "stream": "stderr",
       "text": [
        "INFO:REINFORCE:Step norm: 1.0\n"
       ]
      },
      {
       "output_type": "stream",
       "stream": "stderr",
       "text": [
        "INFO:REINFORCE:Alpha: 0.0425270849395\n"
       ]
      },
      {
       "output_type": "stream",
       "stream": "stderr",
       "text": [
        "INFO:REINFORCE:Return from iter 0:  18.975737\n"
       ]
      },
      {
       "output_type": "stream",
       "stream": "stderr",
       "text": [
        "INFO:REINFORCE:Return from iter 1:  -295.381661\n"
       ]
      },
      {
       "output_type": "stream",
       "stream": "stderr",
       "text": [
        "INFO:REINFORCE:********************Iteration: 190\n"
       ]
      },
      {
       "output_type": "stream",
       "stream": "stderr",
       "text": [
        "INFO:REINFORCE:Gradient step\n"
       ]
      },
      {
       "output_type": "stream",
       "stream": "stderr",
       "text": [
        "INFO:REINFORCE:Step norm: 1.0\n"
       ]
      },
      {
       "output_type": "stream",
       "stream": "stderr",
       "text": [
        "INFO:REINFORCE:Alpha: 0.0423954219506\n"
       ]
      },
      {
       "output_type": "stream",
       "stream": "stderr",
       "text": [
        "INFO:REINFORCE:Return from iter 0:  -607.881661\n"
       ]
      },
      {
       "output_type": "stream",
       "stream": "stderr",
       "text": [
        "INFO:REINFORCE:Return from iter 1:  -294.139207\n"
       ]
      },
      {
       "output_type": "stream",
       "stream": "stderr",
       "text": [
        "INFO:REINFORCE:********************Iteration: 191\n"
       ]
      },
      {
       "output_type": "stream",
       "stream": "stderr",
       "text": [
        "INFO:REINFORCE:Gradient step\n"
       ]
      },
      {
       "output_type": "stream",
       "stream": "stderr",
       "text": [
        "INFO:REINFORCE:Step norm: 1.0\n"
       ]
      },
      {
       "output_type": "stream",
       "stream": "stderr",
       "text": [
        "INFO:REINFORCE:Alpha: 0.042264840385\n"
       ]
      },
      {
       "output_type": "stream",
       "stream": "stderr",
       "text": [
        "INFO:REINFORCE:Return from iter 0:  -296.638969\n"
       ]
      },
      {
       "output_type": "stream",
       "stream": "stderr",
       "text": [
        "INFO:REINFORCE:Return from iter 1:  -293.995366\n"
       ]
      },
      {
       "output_type": "stream",
       "stream": "stderr",
       "text": [
        "INFO:REINFORCE:********************Iteration: 192\n"
       ]
      },
      {
       "output_type": "stream",
       "stream": "stderr",
       "text": [
        "INFO:REINFORCE:Gradient step\n"
       ]
      },
      {
       "output_type": "stream",
       "stream": "stderr",
       "text": [
        "INFO:REINFORCE:Step norm: 1.0\n"
       ]
      },
      {
       "output_type": "stream",
       "stream": "stderr",
       "text": [
        "INFO:REINFORCE:Alpha: 0.0421353258826\n"
       ]
      },
      {
       "output_type": "stream",
       "stream": "stderr",
       "text": [
        "INFO:REINFORCE:Return from iter 0:  -297.317261\n"
       ]
      },
      {
       "output_type": "stream",
       "stream": "stderr",
       "text": [
        "INFO:REINFORCE:Return from iter 1:  18.975737\n"
       ]
      },
      {
       "output_type": "stream",
       "stream": "stderr",
       "text": [
        "INFO:REINFORCE:********************Iteration: 193\n"
       ]
      },
      {
       "output_type": "stream",
       "stream": "stderr",
       "text": [
        "INFO:REINFORCE:Gradient step\n"
       ]
      },
      {
       "output_type": "stream",
       "stream": "stderr",
       "text": [
        "INFO:REINFORCE:Step norm: 1.0\n"
       ]
      },
      {
       "output_type": "stream",
       "stream": "stderr",
       "text": [
        "INFO:REINFORCE:Alpha: 0.042006864346\n"
       ]
      },
      {
       "output_type": "stream",
       "stream": "stderr",
       "text": [
        "INFO:REINFORCE:Return from iter 0:  18.267735\n"
       ]
      },
      {
       "output_type": "stream",
       "stream": "stderr",
       "text": [
        "INFO:REINFORCE:Return from iter 1:  18.975737\n"
       ]
      },
      {
       "output_type": "stream",
       "stream": "stderr",
       "text": [
        "INFO:REINFORCE:********************Iteration: 194\n"
       ]
      },
      {
       "output_type": "stream",
       "stream": "stderr",
       "text": [
        "INFO:REINFORCE:Gradient step\n"
       ]
      },
      {
       "output_type": "stream",
       "stream": "stderr",
       "text": [
        "INFO:REINFORCE:Step norm: 1.0\n"
       ]
      },
      {
       "output_type": "stream",
       "stream": "stderr",
       "text": [
        "INFO:REINFORCE:Alpha: 0.0418794419344\n"
       ]
      },
      {
       "output_type": "stream",
       "stream": "stderr",
       "text": [
        "INFO:REINFORCE:Return from iter 0:  -3107.714493\n"
       ]
      },
      {
       "output_type": "stream",
       "stream": "stderr",
       "text": [
        "INFO:REINFORCE:Return from iter 1:  -294.673659\n"
       ]
      },
      {
       "output_type": "stream",
       "stream": "stderr",
       "text": [
        "INFO:REINFORCE:********************Iteration: 195\n"
       ]
      },
      {
       "output_type": "stream",
       "stream": "stderr",
       "text": [
        "INFO:REINFORCE:Gradient step\n"
       ]
      },
      {
       "output_type": "stream",
       "stream": "stderr",
       "text": [
        "INFO:REINFORCE:Step norm: 1.0\n"
       ]
      },
      {
       "output_type": "stream",
       "stream": "stderr",
       "text": [
        "INFO:REINFORCE:Alpha: 0.0417530450576\n"
       ]
      },
      {
       "output_type": "stream",
       "stream": "stderr",
       "text": [
        "INFO:REINFORCE:Return from iter 0:  14.504447\n"
       ]
      },
      {
       "output_type": "stream",
       "stream": "stderr",
       "text": [
        "INFO:REINFORCE:Return from iter 1:  -293.431205\n"
       ]
      },
      {
       "output_type": "stream",
       "stream": "stdout",
       "text": [
        "\n",
        "Return from iter 1:  18.975737\n",
        "Updated theta with alpha: 0.0427937139791, theta norm: 0.0\n",
        "Return from iter 0:  18.267735\n",
        "Return from iter 1:  -294.232265\n",
        "Updated theta with alpha: 0.0426598439808, theta norm: 1.0\n",
        "Return from iter 0:  18.975737\n",
        "Return from iter 1:  -295.381661\n",
        "Updated theta with alpha: 0.0425270849395, theta norm: 1.0\n",
        "Return from iter 0:  -607.881661\n",
        "Return from iter 1:  -294.139207\n",
        "Updated theta with alpha: 0.0423954219506, theta norm: 1.0\n",
        "Return from iter 0:  -296.638969\n",
        "Return from iter 1:  -293.995366\n",
        "Updated theta with alpha: 0.042264840385, theta norm: 1.0\n",
        "Return from iter 0:  -297.317261\n",
        "Return from iter 1:  18.975737\n",
        "Updated theta with alpha: 0.0421353258826, theta norm: 1.0\n",
        "Return from iter 0:  18.267735\n",
        "Return from iter 1:  18.975737\n",
        "Updated theta with alpha: 0.042006864346, theta norm: 1.0\n",
        "Return from iter 0:  -3107.714493\n",
        "Return from iter 1:  -294.673659\n",
        "Updated theta with alpha: 0.0418794419344, theta norm: 1.0\n",
        "Return from iter 0:  14.504447\n",
        "Return from iter 1:  -293.431205\n",
        "Updated theta with alpha: 0.0417530450576, theta norm: 1.0\n",
        "Return from iter 0:  -296.059953"
       ]
      },
      {
       "output_type": "stream",
       "stream": "stderr",
       "text": [
        "INFO:REINFORCE:********************Iteration: 196\n"
       ]
      },
      {
       "output_type": "stream",
       "stream": "stderr",
       "text": [
        "INFO:REINFORCE:Gradient step\n"
       ]
      },
      {
       "output_type": "stream",
       "stream": "stderr",
       "text": [
        "INFO:REINFORCE:Step norm: 0.0\n"
       ]
      },
      {
       "output_type": "stream",
       "stream": "stderr",
       "text": [
        "INFO:REINFORCE:Alpha: 0.0416276603701\n"
       ]
      },
      {
       "output_type": "stream",
       "stream": "stderr",
       "text": [
        "INFO:REINFORCE:Return from iter 0:  -296.059953\n"
       ]
      },
      {
       "output_type": "stream",
       "stream": "stderr",
       "text": [
        "INFO:REINFORCE:Return from iter 1:  -296.059953\n"
       ]
      },
      {
       "output_type": "stream",
       "stream": "stderr",
       "text": [
        "INFO:REINFORCE:********************Iteration: 197\n"
       ]
      },
      {
       "output_type": "stream",
       "stream": "stderr",
       "text": [
        "INFO:REINFORCE:Gradient step\n"
       ]
      },
      {
       "output_type": "stream",
       "stream": "stderr",
       "text": [
        "INFO:REINFORCE:Step norm: 1.0\n"
       ]
      },
      {
       "output_type": "stream",
       "stream": "stderr",
       "text": [
        "INFO:REINFORCE:Alpha: 0.041503274766\n"
       ]
      },
      {
       "output_type": "stream",
       "stream": "stderr",
       "text": [
        "INFO:REINFORCE:Return from iter 0:  18.391852\n"
       ]
      },
      {
       "output_type": "stream",
       "stream": "stderr",
       "text": [
        "INFO:REINFORCE:Return from iter 1:  -293.995366\n"
       ]
      },
      {
       "output_type": "stream",
       "stream": "stderr",
       "text": [
        "INFO:REINFORCE:********************Iteration: 198\n"
       ]
      },
      {
       "output_type": "stream",
       "stream": "stderr",
       "text": [
        "INFO:REINFORCE:Gradient step\n"
       ]
      },
      {
       "output_type": "stream",
       "stream": "stderr",
       "text": [
        "INFO:REINFORCE:Step norm: 1.0\n"
       ]
      },
      {
       "output_type": "stream",
       "stream": "stderr",
       "text": [
        "INFO:REINFORCE:Alpha: 0.0413798753729\n"
       ]
      },
      {
       "output_type": "stream",
       "stream": "stderr",
       "text": [
        "INFO:REINFORCE:Return from iter 0:  -1234.012542\n"
       ]
      },
      {
       "output_type": "stream",
       "stream": "stderr",
       "text": [
        "INFO:REINFORCE:Return from iter 1:  18.975737\n"
       ]
      },
      {
       "output_type": "stream",
       "stream": "stderr",
       "text": [
        "INFO:REINFORCE:********************Iteration: 199\n"
       ]
      },
      {
       "output_type": "stream",
       "stream": "stderr",
       "text": [
        "INFO:REINFORCE:Gradient step\n"
       ]
      },
      {
       "output_type": "stream",
       "stream": "stderr",
       "text": [
        "INFO:REINFORCE:Step norm: 0.0\n"
       ]
      },
      {
       "output_type": "stream",
       "stream": "stderr",
       "text": [
        "INFO:REINFORCE:Alpha: 0.0412574495471\n"
       ]
      },
      {
       "output_type": "stream",
       "stream": "stderr",
       "text": [
        "INFO:REINFORCE:Return from iter 0:  -610.398836\n"
       ]
      },
      {
       "output_type": "stream",
       "stream": "stderr",
       "text": [
        "INFO:REINFORCE:Return from iter 1:  -922.190835\n"
       ]
      },
      {
       "output_type": "stream",
       "stream": "stderr",
       "text": [
        "INFO:REINFORCE:********************Iteration: 200\n"
       ]
      },
      {
       "output_type": "stream",
       "stream": "stderr",
       "text": [
        "INFO:REINFORCE:Gradient step\n"
       ]
      },
      {
       "output_type": "stream",
       "stream": "stderr",
       "text": [
        "INFO:REINFORCE:Step norm: 0.0\n"
       ]
      },
      {
       "output_type": "stream",
       "stream": "stderr",
       "text": [
        "INFO:REINFORCE:Alpha: 0.0411359848682\n"
       ]
      },
      {
       "output_type": "stream",
       "stream": "stderr",
       "text": [
        "INFO:REINFORCE:Return from iter 0:  18.975737\n"
       ]
      },
      {
       "output_type": "stream",
       "stream": "stderr",
       "text": [
        "INFO:REINFORCE:Return from iter 1:  18.975737\n"
       ]
      },
      {
       "output_type": "stream",
       "stream": "stderr",
       "text": [
        "INFO:REINFORCE:********************Iteration: 201\n"
       ]
      },
      {
       "output_type": "stream",
       "stream": "stderr",
       "text": [
        "INFO:REINFORCE:Gradient step\n"
       ]
      },
      {
       "output_type": "stream",
       "stream": "stderr",
       "text": [
        "INFO:REINFORCE:Step norm: 1.0\n"
       ]
      },
      {
       "output_type": "stream",
       "stream": "stderr",
       "text": [
        "INFO:REINFORCE:Alpha: 0.0410154691341\n"
       ]
      },
      {
       "output_type": "stream",
       "stream": "stderr",
       "text": [
        "INFO:REINFORCE:Return from iter 0:  13.796445\n"
       ]
      },
      {
       "output_type": "stream",
       "stream": "stderr",
       "text": [
        "INFO:REINFORCE:Return from iter 1:  -294.232265\n"
       ]
      },
      {
       "output_type": "stream",
       "stream": "stderr",
       "text": [
        "INFO:REINFORCE:********************Iteration: 202\n"
       ]
      },
      {
       "output_type": "stream",
       "stream": "stderr",
       "text": [
        "INFO:REINFORCE:Gradient step\n"
       ]
      },
      {
       "output_type": "stream",
       "stream": "stderr",
       "text": [
        "INFO:REINFORCE:Step norm: 1.0\n"
       ]
      },
      {
       "output_type": "stream",
       "stream": "stderr",
       "text": [
        "INFO:REINFORCE:Alpha: 0.0408958903561\n"
       ]
      },
      {
       "output_type": "stream",
       "stream": "stderr",
       "text": [
        "INFO:REINFORCE:Return from iter 0:  14.504447\n"
       ]
      },
      {
       "output_type": "stream",
       "stream": "stderr",
       "text": [
        "INFO:REINFORCE:Return from iter 1:  -296.059953\n"
       ]
      },
      {
       "output_type": "stream",
       "stream": "stderr",
       "text": [
        "INFO:REINFORCE:********************Iteration: 203\n"
       ]
      },
      {
       "output_type": "stream",
       "stream": "stderr",
       "text": [
        "INFO:REINFORCE:Gradient step\n"
       ]
      },
      {
       "output_type": "stream",
       "stream": "stderr",
       "text": [
        "INFO:REINFORCE:Step norm: 0.0\n"
       ]
      },
      {
       "output_type": "stream",
       "stream": "stderr",
       "text": [
        "INFO:REINFORCE:Alpha: 0.0407772367542\n"
       ]
      },
      {
       "output_type": "stream",
       "stream": "stderr",
       "text": [
        "INFO:REINFORCE:Return from iter 0:  18.975737\n"
       ]
      },
      {
       "output_type": "stream",
       "stream": "stderr",
       "text": [
        "INFO:REINFORCE:Return from iter 1:  18.975737\n"
       ]
      },
      {
       "output_type": "stream",
       "stream": "stderr",
       "text": [
        "INFO:REINFORCE:********************Iteration: 204\n"
       ]
      },
      {
       "output_type": "stream",
       "stream": "stderr",
       "text": [
        "INFO:REINFORCE:Gradient step\n"
       ]
      },
      {
       "output_type": "stream",
       "stream": "stderr",
       "text": [
        "INFO:REINFORCE:Step norm: 1.0\n"
       ]
      },
      {
       "output_type": "stream",
       "stream": "stderr",
       "text": [
        "INFO:REINFORCE:Alpha: 0.0406594967527\n"
       ]
      },
      {
       "output_type": "stream",
       "stream": "stderr",
       "text": [
        "INFO:REINFORCE:Return from iter 0:  -607.881661\n"
       ]
      },
      {
       "output_type": "stream",
       "stream": "stderr",
       "text": [
        "INFO:REINFORCE:Return from iter 1:  -293.995366\n"
       ]
      },
      {
       "output_type": "stream",
       "stream": "stdout",
       "text": [
        "\n",
        "Return from iter 1:  -296.059953\n",
        "Updated theta with alpha: 0.0416276603701, theta norm: 0.0\n",
        "Return from iter 0:  18.391852\n",
        "Return from iter 1:  -293.995366\n",
        "Updated theta with alpha: 0.041503274766, theta norm: 1.0\n",
        "Return from iter 0:  -1234.012542\n",
        "Return from iter 1:  18.975737\n",
        "Updated theta with alpha: 0.0413798753729, theta norm: 1.0\n",
        "Return from iter 0:  -610.398836\n",
        "Return from iter 1:  -922.190835\n",
        "Updated theta with alpha: 0.0412574495471, theta norm: 0.0\n",
        "Return from iter 0:  18.975737\n",
        "Return from iter 1:  18.975737\n",
        "Updated theta with alpha: 0.0411359848682, theta norm: 0.0\n",
        "Return from iter 0:  13.796445\n",
        "Return from iter 1:  -294.232265\n",
        "Updated theta with alpha: 0.0410154691341, theta norm: 1.0\n",
        "Return from iter 0:  14.504447\n",
        "Return from iter 1:  -296.059953\n",
        "Updated theta with alpha: 0.0408958903561, theta norm: 1.0\n",
        "Return from iter 0:  18.975737\n",
        "Return from iter 1:  18.975737\n",
        "Updated theta with alpha: 0.0407772367542, theta norm: 0.0\n",
        "Return from iter 0:  -607.881661\n",
        "Return from iter 1:  -293.995366\n",
        "Updated theta with alpha: 0.0406594967527, theta norm: 1.0\n",
        "Return from iter 0:  18.975737"
       ]
      },
      {
       "output_type": "stream",
       "stream": "stderr",
       "text": [
        "INFO:REINFORCE:********************Iteration: 205\n"
       ]
      },
      {
       "output_type": "stream",
       "stream": "stderr",
       "text": [
        "INFO:REINFORCE:Gradient step\n"
       ]
      },
      {
       "output_type": "stream",
       "stream": "stderr",
       "text": [
        "INFO:REINFORCE:Step norm: 1.0\n"
       ]
      },
      {
       "output_type": "stream",
       "stream": "stderr",
       "text": [
        "INFO:REINFORCE:Alpha: 0.0405426589752\n"
       ]
      },
      {
       "output_type": "stream",
       "stream": "stderr",
       "text": [
        "INFO:REINFORCE:Return from iter 0:  18.975737\n"
       ]
      },
      {
       "output_type": "stream",
       "stream": "stderr",
       "text": [
        "INFO:REINFORCE:Return from iter 1:  17.703575\n"
       ]
      },
      {
       "output_type": "stream",
       "stream": "stderr",
       "text": [
        "INFO:REINFORCE:********************Iteration: 206\n"
       ]
      },
      {
       "output_type": "stream",
       "stream": "stderr",
       "text": [
        "INFO:REINFORCE:Gradient step\n"
       ]
      },
      {
       "output_type": "stream",
       "stream": "stderr",
       "text": [
        "INFO:REINFORCE:Step norm: 1.0\n"
       ]
      },
      {
       "output_type": "stream",
       "stream": "stderr",
       "text": [
        "INFO:REINFORCE:Alpha: 0.0404267122407\n"
       ]
      },
      {
       "output_type": "stream",
       "stream": "stderr",
       "text": [
        "INFO:REINFORCE:Return from iter 0:  -293.431205\n"
       ]
      },
      {
       "output_type": "stream",
       "stream": "stderr",
       "text": [
        "INFO:REINFORCE:Return from iter 1:  -922.190835\n"
       ]
      },
      {
       "output_type": "stream",
       "stream": "stderr",
       "text": [
        "INFO:REINFORCE:********************Iteration: 207\n"
       ]
      },
      {
       "output_type": "stream",
       "stream": "stderr",
       "text": [
        "INFO:REINFORCE:Gradient step\n"
       ]
      },
      {
       "output_type": "stream",
       "stream": "stderr",
       "text": [
        "INFO:REINFORCE:Step norm: 0.0\n"
       ]
      },
      {
       "output_type": "stream",
       "stream": "stderr",
       "text": [
        "INFO:REINFORCE:Alpha: 0.040311645559\n"
       ]
      },
      {
       "output_type": "stream",
       "stream": "stderr",
       "text": [
        "INFO:REINFORCE:Return from iter 0:  18.975737\n"
       ]
      },
      {
       "output_type": "stream",
       "stream": "stderr",
       "text": [
        "INFO:REINFORCE:Return from iter 1:  18.975737\n"
       ]
      },
      {
       "output_type": "stream",
       "stream": "stderr",
       "text": [
        "INFO:REINFORCE:********************Iteration: 208\n"
       ]
      },
      {
       "output_type": "stream",
       "stream": "stderr",
       "text": [
        "INFO:REINFORCE:Gradient step\n"
       ]
      },
      {
       "output_type": "stream",
       "stream": "stderr",
       "text": [
        "INFO:REINFORCE:Step norm: 1.0\n"
       ]
      },
      {
       "output_type": "stream",
       "stream": "stderr",
       "text": [
        "INFO:REINFORCE:Alpha: 0.0401974481269\n"
       ]
      },
      {
       "output_type": "stream",
       "stream": "stderr",
       "text": [
        "INFO:REINFORCE:Return from iter 0:  -294.139207\n"
       ]
      },
      {
       "output_type": "stream",
       "stream": "stderr",
       "text": [
        "INFO:REINFORCE:Return from iter 1:  -293.431205\n"
       ]
      },
      {
       "output_type": "stream",
       "stream": "stderr",
       "text": [
        "INFO:REINFORCE:********************Iteration: 209\n"
       ]
      },
      {
       "output_type": "stream",
       "stream": "stderr",
       "text": [
        "INFO:REINFORCE:Gradient step\n"
       ]
      },
      {
       "output_type": "stream",
       "stream": "stderr",
       "text": [
        "INFO:REINFORCE:Step norm: 1.0\n"
       ]
      },
      {
       "output_type": "stream",
       "stream": "stderr",
       "text": [
        "INFO:REINFORCE:Alpha: 0.0400841093237\n"
       ]
      },
      {
       "output_type": "stream",
       "stream": "stderr",
       "text": [
        "INFO:REINFORCE:Return from iter 0:  -294.232265\n"
       ]
      },
      {
       "output_type": "stream",
       "stream": "stderr",
       "text": [
        "INFO:REINFORCE:Return from iter 1:  -293.431205\n"
       ]
      },
      {
       "output_type": "stream",
       "stream": "stderr",
       "text": [
        "INFO:REINFORCE:********************Iteration: 210\n"
       ]
      },
      {
       "output_type": "stream",
       "stream": "stderr",
       "text": [
        "INFO:REINFORCE:Gradient step\n"
       ]
      },
      {
       "output_type": "stream",
       "stream": "stderr",
       "text": [
        "INFO:REINFORCE:Step norm: 0.0\n"
       ]
      },
      {
       "output_type": "stream",
       "stream": "stderr",
       "text": [
        "INFO:REINFORCE:Alpha: 0.0399716187077\n"
       ]
      },
      {
       "output_type": "stream",
       "stream": "stderr",
       "text": [
        "INFO:REINFORCE:Return from iter 0:  18.975737\n"
       ]
      },
      {
       "output_type": "stream",
       "stream": "stderr",
       "text": [
        "INFO:REINFORCE:Return from iter 1:  18.975737\n"
       ]
      },
      {
       "output_type": "stream",
       "stream": "stderr",
       "text": [
        "INFO:REINFORCE:********************Iteration: 211\n"
       ]
      },
      {
       "output_type": "stream",
       "stream": "stderr",
       "text": [
        "INFO:REINFORCE:Gradient step\n"
       ]
      },
      {
       "output_type": "stream",
       "stream": "stderr",
       "text": [
        "INFO:REINFORCE:Step norm: 1.0\n"
       ]
      },
      {
       "output_type": "stream",
       "stream": "stderr",
       "text": [
        "INFO:REINFORCE:Alpha: 0.0398599660122\n"
       ]
      },
      {
       "output_type": "stream",
       "stream": "stderr",
       "text": [
        "INFO:REINFORCE:Return from iter 0:  -293.431205\n"
       ]
      },
      {
       "output_type": "stream",
       "stream": "stderr",
       "text": [
        "INFO:REINFORCE:Return from iter 1:  18.411576\n"
       ]
      },
      {
       "output_type": "stream",
       "stream": "stderr",
       "text": [
        "INFO:REINFORCE:********************Iteration: 212\n"
       ]
      },
      {
       "output_type": "stream",
       "stream": "stderr",
       "text": [
        "INFO:REINFORCE:Gradient step\n"
       ]
      },
      {
       "output_type": "stream",
       "stream": "stderr",
       "text": [
        "INFO:REINFORCE:Step norm: 1.0\n"
       ]
      },
      {
       "output_type": "stream",
       "stream": "stderr",
       "text": [
        "INFO:REINFORCE:Alpha: 0.0397491411418\n"
       ]
      },
      {
       "output_type": "stream",
       "stream": "stderr",
       "text": [
        "INFO:REINFORCE:Return from iter 0:  -294.232265\n"
       ]
      },
      {
       "output_type": "stream",
       "stream": "stderr",
       "text": [
        "INFO:REINFORCE:Return from iter 1:  -296.079678\n"
       ]
      },
      {
       "output_type": "stream",
       "stream": "stderr",
       "text": [
        "INFO:REINFORCE:********************Iteration: 213\n"
       ]
      },
      {
       "output_type": "stream",
       "stream": "stderr",
       "text": [
        "INFO:REINFORCE:Gradient step\n"
       ]
      },
      {
       "output_type": "stream",
       "stream": "stderr",
       "text": [
        "INFO:REINFORCE:Step norm: 0.0\n"
       ]
      },
      {
       "output_type": "stream",
       "stream": "stderr",
       "text": [
        "INFO:REINFORCE:Alpha: 0.0396391341686\n"
       ]
      },
      {
       "output_type": "stream",
       "stream": "stderr",
       "text": [
        "INFO:REINFORCE:Return from iter 0:  18.975737\n"
       ]
      },
      {
       "output_type": "stream",
       "stream": "stderr",
       "text": [
        "INFO:REINFORCE:Return from iter 1:  18.975737\n"
       ]
      },
      {
       "output_type": "stream",
       "stream": "stdout",
       "text": [
        "\n",
        "Return from iter 1:  17.703575\n",
        "Updated theta with alpha: 0.0405426589752, theta norm: 1.0\n",
        "Return from iter 0:  -293.431205\n",
        "Return from iter 1:  -922.190835\n",
        "Updated theta with alpha: 0.0404267122407, theta norm: 1.0\n",
        "Return from iter 0:  18.975737\n",
        "Return from iter 1:  18.975737\n",
        "Updated theta with alpha: 0.040311645559, theta norm: 0.0\n",
        "Return from iter 0:  -294.139207\n",
        "Return from iter 1:  -293.431205\n",
        "Updated theta with alpha: 0.0401974481269, theta norm: 1.0\n",
        "Return from iter 0:  -294.232265\n",
        "Return from iter 1:  -293.431205\n",
        "Updated theta with alpha: 0.0400841093237, theta norm: 1.0\n",
        "Return from iter 0:  18.975737\n",
        "Return from iter 1:  18.975737\n",
        "Updated theta with alpha: 0.0399716187077, theta norm: 0.0\n",
        "Return from iter 0:  -293.431205\n",
        "Return from iter 1:  18.411576\n",
        "Updated theta with alpha: 0.0398599660122, theta norm: 1.0\n",
        "Return from iter 0:  -294.232265\n",
        "Return from iter 1:  -296.079678\n",
        "Updated theta with alpha: 0.0397491411418, theta norm: 1.0\n",
        "Return from iter 0:  18.975737\n",
        "Return from iter 1:  18.975737\n",
        "Updated theta with alpha: 0.0396391341686, theta norm: 0.0\n",
        "Return from iter 0:  18.411576"
       ]
      },
      {
       "output_type": "stream",
       "stream": "stderr",
       "text": [
        "INFO:REINFORCE:********************Iteration: 214\n"
       ]
      },
      {
       "output_type": "stream",
       "stream": "stderr",
       "text": [
        "INFO:REINFORCE:Gradient step\n"
       ]
      },
      {
       "output_type": "stream",
       "stream": "stderr",
       "text": [
        "INFO:REINFORCE:Step norm: 1.0\n"
       ]
      },
      {
       "output_type": "stream",
       "stream": "stderr",
       "text": [
        "INFO:REINFORCE:Alpha: 0.039529935329\n"
       ]
      },
      {
       "output_type": "stream",
       "stream": "stderr",
       "text": [
        "INFO:REINFORCE:Return from iter 0:  18.411576\n"
       ]
      },
      {
       "output_type": "stream",
       "stream": "stderr",
       "text": [
        "INFO:REINFORCE:Return from iter 1:  18.411576\n"
       ]
      },
      {
       "output_type": "stream",
       "stream": "stderr",
       "text": [
        "INFO:REINFORCE:********************Iteration: 215\n"
       ]
      },
      {
       "output_type": "stream",
       "stream": "stderr",
       "text": [
        "INFO:REINFORCE:Gradient step\n"
       ]
      },
      {
       "output_type": "stream",
       "stream": "stderr",
       "text": [
        "INFO:REINFORCE:Step norm: 0.0\n"
       ]
      },
      {
       "output_type": "stream",
       "stream": "stderr",
       "text": [
        "INFO:REINFORCE:Alpha: 0.0394215350198\n"
       ]
      },
      {
       "output_type": "stream",
       "stream": "stderr",
       "text": [
        "INFO:REINFORCE:Return from iter 0:  18.975737\n"
       ]
      },
      {
       "output_type": "stream",
       "stream": "stderr",
       "text": [
        "INFO:REINFORCE:Return from iter 1:  18.975737\n"
       ]
      },
      {
       "output_type": "stream",
       "stream": "stderr",
       "text": [
        "INFO:REINFORCE:********************Iteration: 216\n"
       ]
      },
      {
       "output_type": "stream",
       "stream": "stderr",
       "text": [
        "INFO:REINFORCE:Gradient step\n"
       ]
      },
      {
       "output_type": "stream",
       "stream": "stderr",
       "text": [
        "INFO:REINFORCE:Step norm: 1.0\n"
       ]
      },
      {
       "output_type": "stream",
       "stream": "stderr",
       "text": [
        "INFO:REINFORCE:Alpha: 0.0393139237952\n"
       ]
      },
      {
       "output_type": "stream",
       "stream": "stderr",
       "text": [
        "INFO:REINFORCE:Return from iter 0:  -293.431205\n"
       ]
      },
      {
       "output_type": "stream",
       "stream": "stderr",
       "text": [
        "INFO:REINFORCE:Return from iter 1:  -294.673659\n"
       ]
      },
      {
       "output_type": "stream",
       "stream": "stderr",
       "text": [
        "INFO:REINFORCE:********************Iteration: 217\n"
       ]
      },
      {
       "output_type": "stream",
       "stream": "stderr",
       "text": [
        "INFO:REINFORCE:Gradient step\n"
       ]
      },
      {
       "output_type": "stream",
       "stream": "stderr",
       "text": [
        "INFO:REINFORCE:Step norm: 0.0\n"
       ]
      },
      {
       "output_type": "stream",
       "stream": "stderr",
       "text": [
        "INFO:REINFORCE:Alpha: 0.0392070923635\n"
       ]
      },
      {
       "output_type": "stream",
       "stream": "stderr",
       "text": [
        "INFO:REINFORCE:Return from iter 0:  18.975737\n"
       ]
      },
      {
       "output_type": "stream",
       "stream": "stderr",
       "text": [
        "INFO:REINFORCE:Return from iter 1:  18.975737\n"
       ]
      },
      {
       "output_type": "stream",
       "stream": "stderr",
       "text": [
        "INFO:REINFORCE:********************Iteration: 218\n"
       ]
      },
      {
       "output_type": "stream",
       "stream": "stderr",
       "text": [
        "INFO:REINFORCE:Gradient step\n"
       ]
      },
      {
       "output_type": "stream",
       "stream": "stderr",
       "text": [
        "INFO:REINFORCE:Step norm: 1.0\n"
       ]
      },
      {
       "output_type": "stream",
       "stream": "stderr",
       "text": [
        "INFO:REINFORCE:Alpha: 0.0391010315837\n"
       ]
      },
      {
       "output_type": "stream",
       "stream": "stderr",
       "text": [
        "INFO:REINFORCE:Return from iter 0:  18.975737\n"
       ]
      },
      {
       "output_type": "stream",
       "stream": "stderr",
       "text": [
        "INFO:REINFORCE:Return from iter 1:  -296.059953\n"
       ]
      },
      {
       "output_type": "stream",
       "stream": "stderr",
       "text": [
        "INFO:REINFORCE:********************Iteration: 219\n"
       ]
      },
      {
       "output_type": "stream",
       "stream": "stderr",
       "text": [
        "INFO:REINFORCE:Gradient step\n"
       ]
      },
      {
       "output_type": "stream",
       "stream": "stderr",
       "text": [
        "INFO:REINFORCE:Step norm: 1.0\n"
       ]
      },
      {
       "output_type": "stream",
       "stream": "stderr",
       "text": [
        "INFO:REINFORCE:Alpha: 0.0389957324626\n"
       ]
      },
      {
       "output_type": "stream",
       "stream": "stderr",
       "text": [
        "INFO:REINFORCE:Return from iter 0:  18.975737\n"
       ]
      },
      {
       "output_type": "stream",
       "stream": "stderr",
       "text": [
        "INFO:REINFORCE:Return from iter 1:  -296.059953\n"
       ]
      },
      {
       "output_type": "stream",
       "stream": "stderr",
       "text": [
        "INFO:REINFORCE:********************Iteration: 220\n"
       ]
      },
      {
       "output_type": "stream",
       "stream": "stderr",
       "text": [
        "INFO:REINFORCE:Gradient step\n"
       ]
      },
      {
       "output_type": "stream",
       "stream": "stderr",
       "text": [
        "INFO:REINFORCE:Step norm: 1.0\n"
       ]
      },
      {
       "output_type": "stream",
       "stream": "stderr",
       "text": [
        "INFO:REINFORCE:Alpha: 0.0388911861515\n"
       ]
      },
      {
       "output_type": "stream",
       "stream": "stderr",
       "text": [
        "INFO:REINFORCE:Return from iter 0:  18.975737\n"
       ]
      },
      {
       "output_type": "stream",
       "stream": "stderr",
       "text": [
        "INFO:REINFORCE:Return from iter 1:  18.411576\n"
       ]
      },
      {
       "output_type": "stream",
       "stream": "stderr",
       "text": [
        "INFO:REINFORCE:********************Iteration: 221\n"
       ]
      },
      {
       "output_type": "stream",
       "stream": "stderr",
       "text": [
        "INFO:REINFORCE:Gradient step\n"
       ]
      },
      {
       "output_type": "stream",
       "stream": "stderr",
       "text": [
        "INFO:REINFORCE:Step norm: 1.0\n"
       ]
      },
      {
       "output_type": "stream",
       "stream": "stderr",
       "text": [
        "INFO:REINFORCE:Alpha: 0.0387873839435\n"
       ]
      },
      {
       "output_type": "stream",
       "stream": "stderr",
       "text": [
        "INFO:REINFORCE:Return from iter 0:  18.975737\n"
       ]
      },
      {
       "output_type": "stream",
       "stream": "stderr",
       "text": [
        "INFO:REINFORCE:Return from iter 1:  14.504447\n"
       ]
      },
      {
       "output_type": "stream",
       "stream": "stderr",
       "text": [
        "INFO:REINFORCE:********************Iteration: 222\n"
       ]
      },
      {
       "output_type": "stream",
       "stream": "stderr",
       "text": [
        "INFO:REINFORCE:Gradient step\n"
       ]
      },
      {
       "output_type": "stream",
       "stream": "stderr",
       "text": [
        "INFO:REINFORCE:Step norm: 0.0\n"
       ]
      },
      {
       "output_type": "stream",
       "stream": "stderr",
       "text": [
        "INFO:REINFORCE:Alpha: 0.0386843172706\n"
       ]
      },
      {
       "output_type": "stream",
       "stream": "stderr",
       "text": [
        "INFO:REINFORCE:Return from iter 0:  18.975737\n"
       ]
      },
      {
       "output_type": "stream",
       "stream": "stderr",
       "text": [
        "INFO:REINFORCE:Return from iter 1:  18.975737\n"
       ]
      },
      {
       "output_type": "stream",
       "stream": "stdout",
       "text": [
        "\n",
        "Return from iter 1:  18.411576\n",
        "Updated theta with alpha: 0.039529935329, theta norm: 1.0\n",
        "Return from iter 0:  18.975737\n",
        "Return from iter 1:  18.975737\n",
        "Updated theta with alpha: 0.0394215350198, theta norm: 0.0\n",
        "Return from iter 0:  -293.431205\n",
        "Return from iter 1:  -294.673659\n",
        "Updated theta with alpha: 0.0393139237952, theta norm: 1.0\n",
        "Return from iter 0:  18.975737\n",
        "Return from iter 1:  18.975737\n",
        "Updated theta with alpha: 0.0392070923635, theta norm: 0.0\n",
        "Return from iter 0:  18.975737\n",
        "Return from iter 1:  -296.059953\n",
        "Updated theta with alpha: 0.0391010315837, theta norm: 1.0\n",
        "Return from iter 0:  18.975737\n",
        "Return from iter 1:  -296.059953\n",
        "Updated theta with alpha: 0.0389957324626, theta norm: 1.0\n",
        "Return from iter 0:  18.975737\n",
        "Return from iter 1:  18.411576\n",
        "Updated theta with alpha: 0.0388911861515, theta norm: 1.0\n",
        "Return from iter 0:  18.975737\n",
        "Return from iter 1:  14.504447\n",
        "Updated theta with alpha: 0.0387873839435, theta norm: 1.0\n",
        "Return from iter 0:  18.975737\n",
        "Return from iter 1:  18.975737\n",
        "Updated theta with alpha: 0.0386843172706, theta norm: 0.0\n",
        "Return from iter 0:  18.956013"
       ]
      },
      {
       "output_type": "stream",
       "stream": "stderr",
       "text": [
        "INFO:REINFORCE:********************Iteration: 223\n"
       ]
      },
      {
       "output_type": "stream",
       "stream": "stderr",
       "text": [
        "INFO:REINFORCE:Gradient step\n"
       ]
      },
      {
       "output_type": "stream",
       "stream": "stderr",
       "text": [
        "INFO:REINFORCE:Step norm: 1.0\n"
       ]
      },
      {
       "output_type": "stream",
       "stream": "stderr",
       "text": [
        "INFO:REINFORCE:Alpha: 0.0385819777007\n"
       ]
      },
      {
       "output_type": "stream",
       "stream": "stderr",
       "text": [
        "INFO:REINFORCE:Return from iter 0:  18.956013\n"
       ]
      },
      {
       "output_type": "stream",
       "stream": "stderr",
       "text": [
        "INFO:REINFORCE:Return from iter 1:  18.975737\n"
       ]
      },
      {
       "output_type": "stream",
       "stream": "stderr",
       "text": [
        "INFO:REINFORCE:********************Iteration: 224\n"
       ]
      },
      {
       "output_type": "stream",
       "stream": "stderr",
       "text": [
        "INFO:REINFORCE:Gradient step\n"
       ]
      },
      {
       "output_type": "stream",
       "stream": "stderr",
       "text": [
        "INFO:REINFORCE:Step norm: 1.0\n"
       ]
      },
      {
       "output_type": "stream",
       "stream": "stderr",
       "text": [
        "INFO:REINFORCE:Alpha: 0.0384803569349\n"
       ]
      },
      {
       "output_type": "stream",
       "stream": "stderr",
       "text": [
        "INFO:REINFORCE:Return from iter 0:  -293.431205\n"
       ]
      },
      {
       "output_type": "stream",
       "stream": "stderr",
       "text": [
        "INFO:REINFORCE:Return from iter 1:  -297.317261\n"
       ]
      },
      {
       "output_type": "stream",
       "stream": "stderr",
       "text": [
        "INFO:REINFORCE:********************Iteration: 225\n"
       ]
      },
      {
       "output_type": "stream",
       "stream": "stderr",
       "text": [
        "INFO:REINFORCE:Gradient step\n"
       ]
      },
      {
       "output_type": "stream",
       "stream": "stderr",
       "text": [
        "INFO:REINFORCE:Step norm: 1.0\n"
       ]
      },
      {
       "output_type": "stream",
       "stream": "stderr",
       "text": [
        "INFO:REINFORCE:Alpha: 0.038379446805\n"
       ]
      },
      {
       "output_type": "stream",
       "stream": "stderr",
       "text": [
        "INFO:REINFORCE:Return from iter 0:  -296.059953\n"
       ]
      },
      {
       "output_type": "stream",
       "stream": "stderr",
       "text": [
        "INFO:REINFORCE:Return from iter 1:  -293.995366\n"
       ]
      },
      {
       "output_type": "stream",
       "stream": "stderr",
       "text": [
        "INFO:REINFORCE:********************Iteration: 226\n"
       ]
      },
      {
       "output_type": "stream",
       "stream": "stderr",
       "text": [
        "INFO:REINFORCE:Gradient step\n"
       ]
      },
      {
       "output_type": "stream",
       "stream": "stderr",
       "text": [
        "INFO:REINFORCE:Step norm: 1.0\n"
       ]
      },
      {
       "output_type": "stream",
       "stream": "stderr",
       "text": [
        "INFO:REINFORCE:Alpha: 0.0382792392708\n"
       ]
      },
      {
       "output_type": "stream",
       "stream": "stderr",
       "text": [
        "INFO:REINFORCE:Return from iter 0:  -294.232265\n"
       ]
      },
      {
       "output_type": "stream",
       "stream": "stderr",
       "text": [
        "INFO:REINFORCE:Return from iter 1:  18.975737\n"
       ]
      },
      {
       "output_type": "stream",
       "stream": "stderr",
       "text": [
        "INFO:REINFORCE:********************Iteration: 227\n"
       ]
      },
      {
       "output_type": "stream",
       "stream": "stderr",
       "text": [
        "INFO:REINFORCE:Gradient step\n"
       ]
      },
      {
       "output_type": "stream",
       "stream": "stderr",
       "text": [
        "INFO:REINFORCE:Step norm: 1.0\n"
       ]
      },
      {
       "output_type": "stream",
       "stream": "stderr",
       "text": [
        "INFO:REINFORCE:Alpha: 0.0381797264173\n"
       ]
      },
      {
       "output_type": "stream",
       "stream": "stderr",
       "text": [
        "INFO:REINFORCE:Return from iter 0:  -294.673659\n"
       ]
      },
      {
       "output_type": "stream",
       "stream": "stderr",
       "text": [
        "INFO:REINFORCE:Return from iter 1:  -296.059953\n"
       ]
      },
      {
       "output_type": "stream",
       "stream": "stderr",
       "text": [
        "INFO:REINFORCE:********************Iteration: 228\n"
       ]
      },
      {
       "output_type": "stream",
       "stream": "stderr",
       "text": [
        "INFO:REINFORCE:Gradient step\n"
       ]
      },
      {
       "output_type": "stream",
       "stream": "stderr",
       "text": [
        "INFO:REINFORCE:Step norm: 1.0\n"
       ]
      },
      {
       "output_type": "stream",
       "stream": "stderr",
       "text": [
        "INFO:REINFORCE:Alpha: 0.0380809004526\n"
       ]
      },
      {
       "output_type": "stream",
       "stream": "stderr",
       "text": [
        "INFO:REINFORCE:Return from iter 0:  -922.240269\n"
       ]
      },
      {
       "output_type": "stream",
       "stream": "stderr",
       "text": [
        "INFO:REINFORCE:Return from iter 1:  18.267735\n"
       ]
      },
      {
       "output_type": "stream",
       "stream": "stderr",
       "text": [
        "INFO:REINFORCE:********************Iteration: 229\n"
       ]
      },
      {
       "output_type": "stream",
       "stream": "stderr",
       "text": [
        "INFO:REINFORCE:Gradient step\n"
       ]
      },
      {
       "output_type": "stream",
       "stream": "stderr",
       "text": [
        "INFO:REINFORCE:Step norm: 1.0\n"
       ]
      },
      {
       "output_type": "stream",
       "stream": "stderr",
       "text": [
        "INFO:REINFORCE:Alpha: 0.0379827537052\n"
       ]
      },
      {
       "output_type": "stream",
       "stream": "stderr",
       "text": [
        "INFO:REINFORCE:Return from iter 0:  -297.317261\n"
       ]
      },
      {
       "output_type": "stream",
       "stream": "stderr",
       "text": [
        "INFO:REINFORCE:Return from iter 1:  18.248011\n"
       ]
      },
      {
       "output_type": "stream",
       "stream": "stderr",
       "text": [
        "INFO:REINFORCE:********************Iteration: 230\n"
       ]
      },
      {
       "output_type": "stream",
       "stream": "stderr",
       "text": [
        "INFO:REINFORCE:Gradient step\n"
       ]
      },
      {
       "output_type": "stream",
       "stream": "stderr",
       "text": [
        "INFO:REINFORCE:Step norm: 0.0\n"
       ]
      },
      {
       "output_type": "stream",
       "stream": "stderr",
       "text": [
        "INFO:REINFORCE:Alpha: 0.0378852786219\n"
       ]
      },
      {
       "output_type": "stream",
       "stream": "stderr",
       "text": [
        "INFO:REINFORCE:Return from iter 0:  18.411576\n"
       ]
      },
      {
       "output_type": "stream",
       "stream": "stderr",
       "text": [
        "INFO:REINFORCE:Return from iter 1:  18.411576\n"
       ]
      },
      {
       "output_type": "stream",
       "stream": "stderr",
       "text": [
        "INFO:REINFORCE:********************Iteration: 231\n"
       ]
      },
      {
       "output_type": "stream",
       "stream": "stderr",
       "text": [
        "INFO:REINFORCE:Gradient step\n"
       ]
      },
      {
       "output_type": "stream",
       "stream": "stderr",
       "text": [
        "INFO:REINFORCE:Step norm: 1.0\n"
       ]
      },
      {
       "output_type": "stream",
       "stream": "stderr",
       "text": [
        "INFO:REINFORCE:Alpha: 0.037788467765\n"
       ]
      },
      {
       "output_type": "stream",
       "stream": "stderr",
       "text": [
        "INFO:REINFORCE:Return from iter 0:  18.267735\n"
       ]
      },
      {
       "output_type": "stream",
       "stream": "stderr",
       "text": [
        "INFO:REINFORCE:Return from iter 1:  18.956013\n"
       ]
      },
      {
       "output_type": "stream",
       "stream": "stdout",
       "text": [
        "\n",
        "Return from iter 1:  18.975737\n",
        "Updated theta with alpha: 0.0385819777007, theta norm: 1.0\n",
        "Return from iter 0:  -293.431205\n",
        "Return from iter 1:  -297.317261\n",
        "Updated theta with alpha: 0.0384803569349, theta norm: 1.0\n",
        "Return from iter 0:  -296.059953\n",
        "Return from iter 1:  -293.995366\n",
        "Updated theta with alpha: 0.038379446805, theta norm: 1.0\n",
        "Return from iter 0:  -294.232265\n",
        "Return from iter 1:  18.975737\n",
        "Updated theta with alpha: 0.0382792392708, theta norm: 1.0\n",
        "Return from iter 0:  -294.673659\n",
        "Return from iter 1:  -296.059953\n",
        "Updated theta with alpha: 0.0381797264173, theta norm: 1.0\n",
        "Return from iter 0:  -922.240269\n",
        "Return from iter 1:  18.267735\n",
        "Updated theta with alpha: 0.0380809004526, theta norm: 1.0\n",
        "Return from iter 0:  -297.317261\n",
        "Return from iter 1:  18.248011\n",
        "Updated theta with alpha: 0.0379827537052, theta norm: 1.0\n",
        "Return from iter 0:  18.411576\n",
        "Return from iter 1:  18.411576\n",
        "Updated theta with alpha: 0.0378852786219, theta norm: 0.0\n",
        "Return from iter 0:  18.267735\n",
        "Return from iter 1:  18.956013\n",
        "Updated theta with alpha: 0.037788467765, theta norm: 1.0\n",
        "Return from iter 0:  -294.673659"
       ]
      },
      {
       "output_type": "stream",
       "stream": "stderr",
       "text": [
        "INFO:REINFORCE:********************Iteration: 232\n"
       ]
      },
      {
       "output_type": "stream",
       "stream": "stderr",
       "text": [
        "INFO:REINFORCE:Gradient step\n"
       ]
      },
      {
       "output_type": "stream",
       "stream": "stderr",
       "text": [
        "INFO:REINFORCE:Step norm: 1.0\n"
       ]
      },
      {
       "output_type": "stream",
       "stream": "stderr",
       "text": [
        "INFO:REINFORCE:Alpha: 0.0376923138107\n"
       ]
      },
      {
       "output_type": "stream",
       "stream": "stderr",
       "text": [
        "INFO:REINFORCE:Return from iter 0:  -294.673659\n"
       ]
      },
      {
       "output_type": "stream",
       "stream": "stderr",
       "text": [
        "INFO:REINFORCE:Return from iter 1:  18.956013\n"
       ]
      },
      {
       "output_type": "stream",
       "stream": "stderr",
       "text": [
        "INFO:REINFORCE:********************Iteration: 233\n"
       ]
      },
      {
       "output_type": "stream",
       "stream": "stderr",
       "text": [
        "INFO:REINFORCE:Gradient step\n"
       ]
      },
      {
       "output_type": "stream",
       "stream": "stderr",
       "text": [
        "INFO:REINFORCE:Step norm: 0.0\n"
       ]
      },
      {
       "output_type": "stream",
       "stream": "stderr",
       "text": [
        "INFO:REINFORCE:Alpha: 0.0375968095462\n"
       ]
      },
      {
       "output_type": "stream",
       "stream": "stderr",
       "text": [
        "INFO:REINFORCE:Return from iter 0:  18.975737\n"
       ]
      },
      {
       "output_type": "stream",
       "stream": "stderr",
       "text": [
        "INFO:REINFORCE:Return from iter 1:  18.975737\n"
       ]
      },
      {
       "output_type": "stream",
       "stream": "stderr",
       "text": [
        "INFO:REINFORCE:********************Iteration: 234\n"
       ]
      },
      {
       "output_type": "stream",
       "stream": "stderr",
       "text": [
        "INFO:REINFORCE:Gradient step\n"
       ]
      },
      {
       "output_type": "stream",
       "stream": "stderr",
       "text": [
        "INFO:REINFORCE:Step norm: 1.0\n"
       ]
      },
      {
       "output_type": "stream",
       "stream": "stderr",
       "text": [
        "INFO:REINFORCE:Alpha: 0.0375019478682\n"
       ]
      },
      {
       "output_type": "stream",
       "stream": "stderr",
       "text": [
        "INFO:REINFORCE:Return from iter 0:  -294.232265\n"
       ]
      },
      {
       "output_type": "stream",
       "stream": "stderr",
       "text": [
        "INFO:REINFORCE:Return from iter 1:  -1234.012542\n"
       ]
      },
      {
       "output_type": "stream",
       "stream": "stderr",
       "text": [
        "INFO:REINFORCE:********************Iteration: 235\n"
       ]
      },
      {
       "output_type": "stream",
       "stream": "stderr",
       "text": [
        "INFO:REINFORCE:Gradient step\n"
       ]
      },
      {
       "output_type": "stream",
       "stream": "stderr",
       "text": [
        "INFO:REINFORCE:Step norm: 1.0\n"
       ]
      },
      {
       "output_type": "stream",
       "stream": "stderr",
       "text": [
        "INFO:REINFORCE:Alpha: 0.0374077217803\n"
       ]
      },
      {
       "output_type": "stream",
       "stream": "stderr",
       "text": [
        "INFO:REINFORCE:Return from iter 0:  -1234.012542\n"
       ]
      },
      {
       "output_type": "stream",
       "stream": "stderr",
       "text": [
        "INFO:REINFORCE:Return from iter 1:  -296.059953\n"
       ]
      },
      {
       "output_type": "stream",
       "stream": "stderr",
       "text": [
        "INFO:REINFORCE:********************Iteration: 236\n"
       ]
      },
      {
       "output_type": "stream",
       "stream": "stderr",
       "text": [
        "INFO:REINFORCE:Gradient step\n"
       ]
      },
      {
       "output_type": "stream",
       "stream": "stderr",
       "text": [
        "INFO:REINFORCE:Step norm: 1.0\n"
       ]
      },
      {
       "output_type": "stream",
       "stream": "stderr",
       "text": [
        "INFO:REINFORCE:Alpha: 0.0373141243912\n"
       ]
      },
      {
       "output_type": "stream",
       "stream": "stderr",
       "text": [
        "INFO:REINFORCE:Return from iter 0:  -296.767955\n"
       ]
      },
      {
       "output_type": "stream",
       "stream": "stderr",
       "text": [
        "INFO:REINFORCE:Return from iter 1:  18.975737\n"
       ]
      },
      {
       "output_type": "stream",
       "stream": "stderr",
       "text": [
        "INFO:REINFORCE:********************Iteration: 237\n"
       ]
      },
      {
       "output_type": "stream",
       "stream": "stderr",
       "text": [
        "INFO:REINFORCE:Gradient step\n"
       ]
      },
      {
       "output_type": "stream",
       "stream": "stderr",
       "text": [
        "INFO:REINFORCE:Step norm: 1.0\n"
       ]
      },
      {
       "output_type": "stream",
       "stream": "stderr",
       "text": [
        "INFO:REINFORCE:Alpha: 0.0372211489125\n"
       ]
      },
      {
       "output_type": "stream",
       "stream": "stderr",
       "text": [
        "INFO:REINFORCE:Return from iter 0:  -607.881661\n"
       ]
      },
      {
       "output_type": "stream",
       "stream": "stderr",
       "text": [
        "INFO:REINFORCE:Return from iter 1:  -922.190835\n"
       ]
      },
      {
       "output_type": "stream",
       "stream": "stderr",
       "text": [
        "INFO:REINFORCE:********************Iteration: 238\n"
       ]
      },
      {
       "output_type": "stream",
       "stream": "stderr",
       "text": [
        "INFO:REINFORCE:Gradient step\n"
       ]
      },
      {
       "output_type": "stream",
       "stream": "stderr",
       "text": [
        "INFO:REINFORCE:Step norm: 0.0\n"
       ]
      },
      {
       "output_type": "stream",
       "stream": "stderr",
       "text": [
        "INFO:REINFORCE:Alpha: 0.0371287886572\n"
       ]
      },
      {
       "output_type": "stream",
       "stream": "stderr",
       "text": [
        "INFO:REINFORCE:Return from iter 0:  18.975737\n"
       ]
      },
      {
       "output_type": "stream",
       "stream": "stderr",
       "text": [
        "INFO:REINFORCE:Return from iter 1:  18.975737\n"
       ]
      },
      {
       "output_type": "stream",
       "stream": "stderr",
       "text": [
        "INFO:REINFORCE:********************Iteration: 239\n"
       ]
      },
      {
       "output_type": "stream",
       "stream": "stderr",
       "text": [
        "INFO:REINFORCE:Gradient step\n"
       ]
      },
      {
       "output_type": "stream",
       "stream": "stderr",
       "text": [
        "INFO:REINFORCE:Step norm: 1.0\n"
       ]
      },
      {
       "output_type": "stream",
       "stream": "stderr",
       "text": [
        "INFO:REINFORCE:Alpha: 0.037037037037\n"
       ]
      },
      {
       "output_type": "stream",
       "stream": "stderr",
       "text": [
        "INFO:REINFORCE:Return from iter 0:  18.956013\n"
       ]
      },
      {
       "output_type": "stream",
       "stream": "stderr",
       "text": [
        "INFO:REINFORCE:Return from iter 1:  18.975737\n"
       ]
      },
      {
       "output_type": "stream",
       "stream": "stderr",
       "text": [
        "INFO:REINFORCE:********************Iteration: 240\n"
       ]
      },
      {
       "output_type": "stream",
       "stream": "stderr",
       "text": [
        "INFO:REINFORCE:Gradient step\n"
       ]
      },
      {
       "output_type": "stream",
       "stream": "stderr",
       "text": [
        "INFO:REINFORCE:Step norm: 1.0\n"
       ]
      },
      {
       "output_type": "stream",
       "stream": "stderr",
       "text": [
        "INFO:REINFORCE:Alpha: 0.0369458875613\n"
       ]
      },
      {
       "output_type": "stream",
       "stream": "stderr",
       "text": [
        "INFO:REINFORCE:Return from iter 0:  18.975737\n"
       ]
      },
      {
       "output_type": "stream",
       "stream": "stderr",
       "text": [
        "INFO:REINFORCE:Return from iter 1:  -922.190835\n"
       ]
      },
      {
       "output_type": "stream",
       "stream": "stdout",
       "text": [
        "\n",
        "Return from iter 1:  18.956013\n",
        "Updated theta with alpha: 0.0376923138107, theta norm: 1.0\n",
        "Return from iter 0:  18.975737\n",
        "Return from iter 1:  18.975737\n",
        "Updated theta with alpha: 0.0375968095462, theta norm: 0.0\n",
        "Return from iter 0:  -294.232265\n",
        "Return from iter 1:  -1234.012542\n",
        "Updated theta with alpha: 0.0375019478682, theta norm: 1.0\n",
        "Return from iter 0:  -1234.012542\n",
        "Return from iter 1:  -296.059953\n",
        "Updated theta with alpha: 0.0374077217803, theta norm: 1.0\n",
        "Return from iter 0:  -296.767955\n",
        "Return from iter 1:  18.975737\n",
        "Updated theta with alpha: 0.0373141243912, theta norm: 1.0\n",
        "Return from iter 0:  -607.881661\n",
        "Return from iter 1:  -922.190835\n",
        "Updated theta with alpha: 0.0372211489125, theta norm: 1.0\n",
        "Return from iter 0:  18.975737\n",
        "Return from iter 1:  18.975737\n",
        "Updated theta with alpha: 0.0371287886572, theta norm: 0.0\n",
        "Return from iter 0:  18.956013\n",
        "Return from iter 1:  18.975737\n",
        "Updated theta with alpha: 0.037037037037, theta norm: 1.0\n",
        "Return from iter 0:  18.975737\n",
        "Return from iter 1:  -922.190835\n",
        "Updated theta with alpha: 0.0369458875613, theta norm: 1.0\n",
        "Return from iter 0:  -294.703368"
       ]
      },
      {
       "output_type": "stream",
       "stream": "stderr",
       "text": [
        "INFO:REINFORCE:********************Iteration: 241\n"
       ]
      },
      {
       "output_type": "stream",
       "stream": "stderr",
       "text": [
        "INFO:REINFORCE:Gradient step\n"
       ]
      },
      {
       "output_type": "stream",
       "stream": "stderr",
       "text": [
        "INFO:REINFORCE:Step norm: 1.0\n"
       ]
      },
      {
       "output_type": "stream",
       "stream": "stderr",
       "text": [
        "INFO:REINFORCE:Alpha: 0.0368553338346\n"
       ]
      },
      {
       "output_type": "stream",
       "stream": "stderr",
       "text": [
        "INFO:REINFORCE:Return from iter 0:  -294.703368\n"
       ]
      },
      {
       "output_type": "stream",
       "stream": "stderr",
       "text": [
        "INFO:REINFORCE:Return from iter 1:  -297.317261\n"
       ]
      },
      {
       "output_type": "stream",
       "stream": "stderr",
       "text": [
        "INFO:REINFORCE:********************Iteration: 242\n"
       ]
      },
      {
       "output_type": "stream",
       "stream": "stderr",
       "text": [
        "INFO:REINFORCE:Gradient step\n"
       ]
      },
      {
       "output_type": "stream",
       "stream": "stderr",
       "text": [
        "INFO:REINFORCE:Step norm: 1.0\n"
       ]
      },
      {
       "output_type": "stream",
       "stream": "stderr",
       "text": [
        "INFO:REINFORCE:Alpha: 0.0367653695553\n"
       ]
      },
      {
       "output_type": "stream",
       "stream": "stderr",
       "text": [
        "INFO:REINFORCE:Return from iter 0:  14.504447\n"
       ]
      },
      {
       "output_type": "stream",
       "stream": "stderr",
       "text": [
        "INFO:REINFORCE:Return from iter 1:  -294.673659\n"
       ]
      },
      {
       "output_type": "stream",
       "stream": "stderr",
       "text": [
        "INFO:REINFORCE:********************Iteration: 243\n"
       ]
      },
      {
       "output_type": "stream",
       "stream": "stderr",
       "text": [
        "INFO:REINFORCE:Gradient step\n"
       ]
      },
      {
       "output_type": "stream",
       "stream": "stderr",
       "text": [
        "INFO:REINFORCE:Step norm: 1.0\n"
       ]
      },
      {
       "output_type": "stream",
       "stream": "stderr",
       "text": [
        "INFO:REINFORCE:Alpha: 0.0366759885137\n"
       ]
      },
      {
       "output_type": "stream",
       "stream": "stderr",
       "text": [
        "INFO:REINFORCE:Return from iter 0:  -922.190835\n"
       ]
      },
      {
       "output_type": "stream",
       "stream": "stderr",
       "text": [
        "INFO:REINFORCE:Return from iter 1:  -294.232265\n"
       ]
      },
      {
       "output_type": "stream",
       "stream": "stderr",
       "text": [
        "INFO:REINFORCE:********************Iteration: 244\n"
       ]
      },
      {
       "output_type": "stream",
       "stream": "stderr",
       "text": [
        "INFO:REINFORCE:Gradient step\n"
       ]
      },
      {
       "output_type": "stream",
       "stream": "stderr",
       "text": [
        "INFO:REINFORCE:Step norm: 1.0\n"
       ]
      },
      {
       "output_type": "stream",
       "stream": "stderr",
       "text": [
        "INFO:REINFORCE:Alpha: 0.0365871845902\n"
       ]
      },
      {
       "output_type": "stream",
       "stream": "stderr",
       "text": [
        "INFO:REINFORCE:Return from iter 0:  18.975737\n"
       ]
      },
      {
       "output_type": "stream",
       "stream": "stderr",
       "text": [
        "INFO:REINFORCE:Return from iter 1:  -294.940266\n"
       ]
      },
      {
       "output_type": "stream",
       "stream": "stderr",
       "text": [
        "INFO:REINFORCE:********************Iteration: 245\n"
       ]
      },
      {
       "output_type": "stream",
       "stream": "stderr",
       "text": [
        "INFO:REINFORCE:Gradient step\n"
       ]
      },
      {
       "output_type": "stream",
       "stream": "stderr",
       "text": [
        "INFO:REINFORCE:Step norm: 1.0\n"
       ]
      },
      {
       "output_type": "stream",
       "stream": "stderr",
       "text": [
        "INFO:REINFORCE:Alpha: 0.0364989517538\n"
       ]
      },
      {
       "output_type": "stream",
       "stream": "stderr",
       "text": [
        "INFO:REINFORCE:Return from iter 0:  14.504447\n"
       ]
      },
      {
       "output_type": "stream",
       "stream": "stderr",
       "text": [
        "INFO:REINFORCE:Return from iter 1:  18.975737\n"
       ]
      },
      {
       "output_type": "stream",
       "stream": "stderr",
       "text": [
        "INFO:REINFORCE:********************Iteration: 246\n"
       ]
      },
      {
       "output_type": "stream",
       "stream": "stderr",
       "text": [
        "INFO:REINFORCE:Gradient step\n"
       ]
      },
      {
       "output_type": "stream",
       "stream": "stderr",
       "text": [
        "INFO:REINFORCE:Step norm: 1.0\n"
       ]
      },
      {
       "output_type": "stream",
       "stream": "stderr",
       "text": [
        "INFO:REINFORCE:Alpha: 0.0364112840605\n"
       ]
      },
      {
       "output_type": "stream",
       "stream": "stderr",
       "text": [
        "INFO:REINFORCE:Return from iter 0:  -922.210559\n"
       ]
      },
      {
       "output_type": "stream",
       "stream": "stderr",
       "text": [
        "INFO:REINFORCE:Return from iter 1:  -293.431205\n"
       ]
      },
      {
       "output_type": "stream",
       "stream": "stderr",
       "text": [
        "INFO:REINFORCE:********************Iteration: 247\n"
       ]
      },
      {
       "output_type": "stream",
       "stream": "stderr",
       "text": [
        "INFO:REINFORCE:Gradient step\n"
       ]
      },
      {
       "output_type": "stream",
       "stream": "stderr",
       "text": [
        "INFO:REINFORCE:Step norm: 1.0\n"
       ]
      },
      {
       "output_type": "stream",
       "stream": "stderr",
       "text": [
        "INFO:REINFORCE:Alpha: 0.0363241756515\n"
       ]
      },
      {
       "output_type": "stream",
       "stream": "stderr",
       "text": [
        "INFO:REINFORCE:Return from iter 0:  18.956013\n"
       ]
      },
      {
       "output_type": "stream",
       "stream": "stderr",
       "text": [
        "INFO:REINFORCE:Return from iter 1:  18.411576\n"
       ]
      },
      {
       "output_type": "stream",
       "stream": "stderr",
       "text": [
        "INFO:REINFORCE:********************Iteration: 248\n"
       ]
      },
      {
       "output_type": "stream",
       "stream": "stderr",
       "text": [
        "INFO:REINFORCE:Gradient step\n"
       ]
      },
      {
       "output_type": "stream",
       "stream": "stderr",
       "text": [
        "INFO:REINFORCE:Step norm: 0.0\n"
       ]
      },
      {
       "output_type": "stream",
       "stream": "stderr",
       "text": [
        "INFO:REINFORCE:Alpha: 0.0362376207518\n"
       ]
      },
      {
       "output_type": "stream",
       "stream": "stderr",
       "text": [
        "INFO:REINFORCE:Return from iter 0:  18.975737\n"
       ]
      },
      {
       "output_type": "stream",
       "stream": "stderr",
       "text": [
        "INFO:REINFORCE:Return from iter 1:  18.975737\n"
       ]
      },
      {
       "output_type": "stream",
       "stream": "stderr",
       "text": [
        "INFO:REINFORCE:********************Iteration: 249\n"
       ]
      },
      {
       "output_type": "stream",
       "stream": "stderr",
       "text": [
        "INFO:REINFORCE:Gradient step\n"
       ]
      },
      {
       "output_type": "stream",
       "stream": "stderr",
       "text": [
        "INFO:REINFORCE:Step norm: 1.0\n"
       ]
      },
      {
       "output_type": "stream",
       "stream": "stderr",
       "text": [
        "INFO:REINFORCE:Alpha: 0.0361516136687\n"
       ]
      },
      {
       "output_type": "stream",
       "stream": "stderr",
       "text": [
        "INFO:REINFORCE:Return from iter 0:  14.504447\n"
       ]
      },
      {
       "output_type": "stream",
       "stream": "stderr",
       "text": [
        "INFO:REINFORCE:Return from iter 1:  18.975737\n"
       ]
      },
      {
       "output_type": "stream",
       "stream": "stdout",
       "text": [
        "\n",
        "Return from iter 1:  -297.317261\n",
        "Updated theta with alpha: 0.0368553338346, theta norm: 1.0\n",
        "Return from iter 0:  14.504447\n",
        "Return from iter 1:  -294.673659\n",
        "Updated theta with alpha: 0.0367653695553, theta norm: 1.0\n",
        "Return from iter 0:  -922.190835\n",
        "Return from iter 1:  -294.232265\n",
        "Updated theta with alpha: 0.0366759885137, theta norm: 1.0\n",
        "Return from iter 0:  18.975737\n",
        "Return from iter 1:  -294.940266\n",
        "Updated theta with alpha: 0.0365871845902, theta norm: 1.0\n",
        "Return from iter 0:  14.504447\n",
        "Return from iter 1:  18.975737\n",
        "Updated theta with alpha: 0.0364989517538, theta norm: 1.0\n",
        "Return from iter 0:  -922.210559\n",
        "Return from iter 1:  -293.431205\n",
        "Updated theta with alpha: 0.0364112840605, theta norm: 1.0\n",
        "Return from iter 0:  18.956013\n",
        "Return from iter 1:  18.411576\n",
        "Updated theta with alpha: 0.0363241756515, theta norm: 1.0\n",
        "Return from iter 0:  18.975737\n",
        "Return from iter 1:  18.975737\n",
        "Updated theta with alpha: 0.0362376207518, theta norm: 0.0\n",
        "Return from iter 0:  14.504447\n",
        "Return from iter 1:  18.975737\n",
        "Updated theta with alpha: 0.0361516136687, theta norm: 1.0\n",
        "Return from iter 0:  18.267735"
       ]
      },
      {
       "output_type": "stream",
       "stream": "stderr",
       "text": [
        "INFO:REINFORCE:********************Iteration: 250\n"
       ]
      },
      {
       "output_type": "stream",
       "stream": "stderr",
       "text": [
        "INFO:REINFORCE:Gradient step\n"
       ]
      },
      {
       "output_type": "stream",
       "stream": "stderr",
       "text": [
        "INFO:REINFORCE:Step norm: 1.0\n"
       ]
      },
      {
       "output_type": "stream",
       "stream": "stderr",
       "text": [
        "INFO:REINFORCE:Alpha: 0.0360661487901\n"
       ]
      },
      {
       "output_type": "stream",
       "stream": "stderr",
       "text": [
        "INFO:REINFORCE:Return from iter 0:  18.267735\n"
       ]
      },
      {
       "output_type": "stream",
       "stream": "stderr",
       "text": [
        "INFO:REINFORCE:Return from iter 1:  18.975737\n"
       ]
      },
      {
       "output_type": "stream",
       "stream": "stderr",
       "text": [
        "INFO:REINFORCE:********************Iteration: 251\n"
       ]
      },
      {
       "output_type": "stream",
       "stream": "stderr",
       "text": [
        "INFO:REINFORCE:Gradient step\n"
       ]
      },
      {
       "output_type": "stream",
       "stream": "stderr",
       "text": [
        "INFO:REINFORCE:Step norm: 1.0\n"
       ]
      },
      {
       "output_type": "stream",
       "stream": "stderr",
       "text": [
        "INFO:REINFORCE:Alpha: 0.0359812205834\n"
       ]
      },
      {
       "output_type": "stream",
       "stream": "stderr",
       "text": [
        "INFO:REINFORCE:Return from iter 0:  18.411576\n"
       ]
      },
      {
       "output_type": "stream",
       "stream": "stderr",
       "text": [
        "INFO:REINFORCE:Return from iter 1:  18.975737\n"
       ]
      },
      {
       "output_type": "stream",
       "stream": "stderr",
       "text": [
        "INFO:REINFORCE:********************Iteration: 252\n"
       ]
      },
      {
       "output_type": "stream",
       "stream": "stderr",
       "text": [
        "INFO:REINFORCE:Gradient step\n"
       ]
      },
      {
       "output_type": "stream",
       "stream": "stderr",
       "text": [
        "INFO:REINFORCE:Step norm: 1.0\n"
       ]
      },
      {
       "output_type": "stream",
       "stream": "stderr",
       "text": [
        "INFO:REINFORCE:Alpha: 0.0358968235937\n"
       ]
      },
      {
       "output_type": "stream",
       "stream": "stderr",
       "text": [
        "INFO:REINFORCE:Return from iter 0:  18.975737\n"
       ]
      },
      {
       "output_type": "stream",
       "stream": "stderr",
       "text": [
        "INFO:REINFORCE:Return from iter 1:  -1234.012542\n"
       ]
      },
      {
       "output_type": "stream",
       "stream": "stderr",
       "text": [
        "INFO:REINFORCE:********************Iteration: 253\n"
       ]
      },
      {
       "output_type": "stream",
       "stream": "stderr",
       "text": [
        "INFO:REINFORCE:Gradient step\n"
       ]
      },
      {
       "output_type": "stream",
       "stream": "stderr",
       "text": [
        "INFO:REINFORCE:Step norm: 1.0\n"
       ]
      },
      {
       "output_type": "stream",
       "stream": "stderr",
       "text": [
        "INFO:REINFORCE:Alpha: 0.0358129524426\n"
       ]
      },
      {
       "output_type": "stream",
       "stream": "stderr",
       "text": [
        "INFO:REINFORCE:Return from iter 0:  -294.673659\n"
       ]
      },
      {
       "output_type": "stream",
       "stream": "stderr",
       "text": [
        "INFO:REINFORCE:Return from iter 1:  18.975737\n"
       ]
      },
      {
       "output_type": "stream",
       "stream": "stderr",
       "text": [
        "INFO:REINFORCE:********************Iteration: 254\n"
       ]
      },
      {
       "output_type": "stream",
       "stream": "stderr",
       "text": [
        "INFO:REINFORCE:Gradient step\n"
       ]
      },
      {
       "output_type": "stream",
       "stream": "stderr",
       "text": [
        "INFO:REINFORCE:Step norm: 0.0\n"
       ]
      },
      {
       "output_type": "stream",
       "stream": "stderr",
       "text": [
        "INFO:REINFORCE:Alpha: 0.0357296018269\n"
       ]
      },
      {
       "output_type": "stream",
       "stream": "stderr",
       "text": [
        "INFO:REINFORCE:Return from iter 0:  18.975737\n"
       ]
      },
      {
       "output_type": "stream",
       "stream": "stderr",
       "text": [
        "INFO:REINFORCE:Return from iter 1:  18.975737\n"
       ]
      },
      {
       "output_type": "stream",
       "stream": "stderr",
       "text": [
        "INFO:REINFORCE:********************Iteration: 255\n"
       ]
      },
      {
       "output_type": "stream",
       "stream": "stderr",
       "text": [
        "INFO:REINFORCE:Gradient step\n"
       ]
      },
      {
       "output_type": "stream",
       "stream": "stderr",
       "text": [
        "INFO:REINFORCE:Step norm: 1.0\n"
       ]
      },
      {
       "output_type": "stream",
       "stream": "stderr",
       "text": [
        "INFO:REINFORCE:Alpha: 0.035646766517\n"
       ]
      },
      {
       "output_type": "stream",
       "stream": "stderr",
       "text": [
        "INFO:REINFORCE:Return from iter 0:  -293.431205\n"
       ]
      },
      {
       "output_type": "stream",
       "stream": "stderr",
       "text": [
        "INFO:REINFORCE:Return from iter 1:  -294.673659\n"
       ]
      },
      {
       "output_type": "stream",
       "stream": "stderr",
       "text": [
        "INFO:REINFORCE:********************Iteration: 256\n"
       ]
      },
      {
       "output_type": "stream",
       "stream": "stderr",
       "text": [
        "INFO:REINFORCE:Gradient step\n"
       ]
      },
      {
       "output_type": "stream",
       "stream": "stderr",
       "text": [
        "INFO:REINFORCE:Step norm: 1.0\n"
       ]
      },
      {
       "output_type": "stream",
       "stream": "stderr",
       "text": [
        "INFO:REINFORCE:Alpha: 0.035564441356\n"
       ]
      },
      {
       "output_type": "stream",
       "stream": "stderr",
       "text": [
        "INFO:REINFORCE:Return from iter 0:  18.975737\n"
       ]
      },
      {
       "output_type": "stream",
       "stream": "stderr",
       "text": [
        "INFO:REINFORCE:Return from iter 1:  -294.673659\n"
       ]
      },
      {
       "output_type": "stream",
       "stream": "stderr",
       "text": [
        "INFO:REINFORCE:********************Iteration: 257\n"
       ]
      },
      {
       "output_type": "stream",
       "stream": "stderr",
       "text": [
        "INFO:REINFORCE:Gradient step\n"
       ]
      },
      {
       "output_type": "stream",
       "stream": "stderr",
       "text": [
        "INFO:REINFORCE:Step norm: 1.0\n"
       ]
      },
      {
       "output_type": "stream",
       "stream": "stderr",
       "text": [
        "INFO:REINFORCE:Alpha: 0.035482621258\n"
       ]
      },
      {
       "output_type": "stream",
       "stream": "stderr",
       "text": [
        "INFO:REINFORCE:Return from iter 0:  18.975737\n"
       ]
      },
      {
       "output_type": "stream",
       "stream": "stderr",
       "text": [
        "INFO:REINFORCE:Return from iter 1:  18.267735\n"
       ]
      },
      {
       "output_type": "stream",
       "stream": "stderr",
       "text": [
        "INFO:REINFORCE:********************Iteration: 258\n"
       ]
      },
      {
       "output_type": "stream",
       "stream": "stderr",
       "text": [
        "INFO:REINFORCE:Gradient step\n"
       ]
      },
      {
       "output_type": "stream",
       "stream": "stderr",
       "text": [
        "INFO:REINFORCE:Step norm: 1.0\n"
       ]
      },
      {
       "output_type": "stream",
       "stream": "stderr",
       "text": [
        "INFO:REINFORCE:Alpha: 0.035401301207\n"
       ]
      },
      {
       "output_type": "stream",
       "stream": "stderr",
       "text": [
        "INFO:REINFORCE:Return from iter 0:  17.703575\n"
       ]
      },
      {
       "output_type": "stream",
       "stream": "stderr",
       "text": [
        "INFO:REINFORCE:Return from iter 1:  -922.190835\n"
       ]
      },
      {
       "output_type": "stream",
       "stream": "stdout",
       "text": [
        "\n",
        "Return from iter 1:  18.975737\n",
        "Updated theta with alpha: 0.0360661487901, theta norm: 1.0\n",
        "Return from iter 0:  18.411576\n",
        "Return from iter 1:  18.975737\n",
        "Updated theta with alpha: 0.0359812205834, theta norm: 1.0\n",
        "Return from iter 0:  18.975737\n",
        "Return from iter 1:  -1234.012542\n",
        "Updated theta with alpha: 0.0358968235937, theta norm: 1.0\n",
        "Return from iter 0:  -294.673659\n",
        "Return from iter 1:  18.975737\n",
        "Updated theta with alpha: 0.0358129524426, theta norm: 1.0\n",
        "Return from iter 0:  18.975737\n",
        "Return from iter 1:  18.975737\n",
        "Updated theta with alpha: 0.0357296018269, theta norm: 0.0\n",
        "Return from iter 0:  -293.431205\n",
        "Return from iter 1:  -294.673659\n",
        "Updated theta with alpha: 0.035646766517, theta norm: 1.0\n",
        "Return from iter 0:  18.975737\n",
        "Return from iter 1:  -294.673659\n",
        "Updated theta with alpha: 0.035564441356, theta norm: 1.0\n",
        "Return from iter 0:  18.975737\n",
        "Return from iter 1:  18.267735\n",
        "Updated theta with alpha: 0.035482621258, theta norm: 1.0\n",
        "Return from iter 0:  17.703575\n",
        "Return from iter 1:  -922.190835\n",
        "Updated theta with alpha: 0.035401301207, theta norm: 1.0\n",
        "Return from iter 0:  18.411576"
       ]
      },
      {
       "output_type": "stream",
       "stream": "stderr",
       "text": [
        "INFO:REINFORCE:********************Iteration: 259\n"
       ]
      },
      {
       "output_type": "stream",
       "stream": "stderr",
       "text": [
        "INFO:REINFORCE:Gradient step\n"
       ]
      },
      {
       "output_type": "stream",
       "stream": "stderr",
       "text": [
        "INFO:REINFORCE:Step norm: 1.0\n"
       ]
      },
      {
       "output_type": "stream",
       "stream": "stderr",
       "text": [
        "INFO:REINFORCE:Alpha: 0.035320476256\n"
       ]
      },
      {
       "output_type": "stream",
       "stream": "stderr",
       "text": [
        "INFO:REINFORCE:Return from iter 0:  18.411576\n"
       ]
      },
      {
       "output_type": "stream",
       "stream": "stderr",
       "text": [
        "INFO:REINFORCE:Return from iter 1:  -610.398836\n"
       ]
      },
      {
       "output_type": "stream",
       "stream": "stderr",
       "text": [
        "INFO:REINFORCE:********************Iteration: 260\n"
       ]
      },
      {
       "output_type": "stream",
       "stream": "stderr",
       "text": [
        "INFO:REINFORCE:Gradient step\n"
       ]
      },
      {
       "output_type": "stream",
       "stream": "stderr",
       "text": [
        "INFO:REINFORCE:Step norm: 1.0\n"
       ]
      },
      {
       "output_type": "stream",
       "stream": "stderr",
       "text": [
        "INFO:REINFORCE:Alpha: 0.0352401415251\n"
       ]
      },
      {
       "output_type": "stream",
       "stream": "stderr",
       "text": [
        "INFO:REINFORCE:Return from iter 0:  18.975737\n"
       ]
      },
      {
       "output_type": "stream",
       "stream": "stderr",
       "text": [
        "INFO:REINFORCE:Return from iter 1:  15.182739\n"
       ]
      },
      {
       "output_type": "stream",
       "stream": "stderr",
       "text": [
        "INFO:REINFORCE:********************Iteration: 261\n"
       ]
      },
      {
       "output_type": "stream",
       "stream": "stderr",
       "text": [
        "INFO:REINFORCE:Gradient step\n"
       ]
      },
      {
       "output_type": "stream",
       "stream": "stderr",
       "text": [
        "INFO:REINFORCE:Step norm: 0.0\n"
       ]
      },
      {
       "output_type": "stream",
       "stream": "stderr",
       "text": [
        "INFO:REINFORCE:Alpha: 0.035160292201\n"
       ]
      },
      {
       "output_type": "stream",
       "stream": "stderr",
       "text": [
        "INFO:REINFORCE:Return from iter 0:  18.975737\n"
       ]
      },
      {
       "output_type": "stream",
       "stream": "stderr",
       "text": [
        "INFO:REINFORCE:Return from iter 1:  18.975737\n"
       ]
      },
      {
       "output_type": "stream",
       "stream": "stderr",
       "text": [
        "INFO:REINFORCE:********************Iteration: 262\n"
       ]
      },
      {
       "output_type": "stream",
       "stream": "stderr",
       "text": [
        "INFO:REINFORCE:Gradient step\n"
       ]
      },
      {
       "output_type": "stream",
       "stream": "stderr",
       "text": [
        "INFO:REINFORCE:Step norm: 1.0\n"
       ]
      },
      {
       "output_type": "stream",
       "stream": "stderr",
       "text": [
        "INFO:REINFORCE:Alpha: 0.0350809235356\n"
       ]
      },
      {
       "output_type": "stream",
       "stream": "stderr",
       "text": [
        "INFO:REINFORCE:Return from iter 0:  -296.767955\n"
       ]
      },
      {
       "output_type": "stream",
       "stream": "stderr",
       "text": [
        "INFO:REINFORCE:Return from iter 1:  18.411576\n"
       ]
      },
      {
       "output_type": "stream",
       "stream": "stderr",
       "text": [
        "INFO:REINFORCE:********************Iteration: 263\n"
       ]
      },
      {
       "output_type": "stream",
       "stream": "stderr",
       "text": [
        "INFO:REINFORCE:Gradient step\n"
       ]
      },
      {
       "output_type": "stream",
       "stream": "stderr",
       "text": [
        "INFO:REINFORCE:Step norm: 1.0\n"
       ]
      },
      {
       "output_type": "stream",
       "stream": "stderr",
       "text": [
        "INFO:REINFORCE:Alpha: 0.0350020308448\n"
       ]
      },
      {
       "output_type": "stream",
       "stream": "stderr",
       "text": [
        "INFO:REINFORCE:Return from iter 0:  18.975737\n"
       ]
      },
      {
       "output_type": "stream",
       "stream": "stderr",
       "text": [
        "INFO:REINFORCE:Return from iter 1:  -294.673659\n"
       ]
      },
      {
       "output_type": "stream",
       "stream": "stderr",
       "text": [
        "INFO:REINFORCE:********************Iteration: 264\n"
       ]
      },
      {
       "output_type": "stream",
       "stream": "stderr",
       "text": [
        "INFO:REINFORCE:Gradient step\n"
       ]
      },
      {
       "output_type": "stream",
       "stream": "stderr",
       "text": [
        "INFO:REINFORCE:Step norm: 1.0\n"
       ]
      },
      {
       "output_type": "stream",
       "stream": "stderr",
       "text": [
        "INFO:REINFORCE:Alpha: 0.0349236095074\n"
       ]
      },
      {
       "output_type": "stream",
       "stream": "stderr",
       "text": [
        "INFO:REINFORCE:Return from iter 0:  18.975737\n"
       ]
      },
      {
       "output_type": "stream",
       "stream": "stderr",
       "text": [
        "INFO:REINFORCE:Return from iter 1:  -296.767955\n"
       ]
      },
      {
       "output_type": "stream",
       "stream": "stderr",
       "text": [
        "INFO:REINFORCE:********************Iteration: 265\n"
       ]
      },
      {
       "output_type": "stream",
       "stream": "stderr",
       "text": [
        "INFO:REINFORCE:Gradient step\n"
       ]
      },
      {
       "output_type": "stream",
       "stream": "stderr",
       "text": [
        "INFO:REINFORCE:Step norm: 1.0\n"
       ]
      },
      {
       "output_type": "stream",
       "stream": "stderr",
       "text": [
        "INFO:REINFORCE:Alpha: 0.0348456549643\n"
       ]
      },
      {
       "output_type": "stream",
       "stream": "stderr",
       "text": [
        "INFO:REINFORCE:Return from iter 0:  -293.431205\n"
       ]
      },
      {
       "output_type": "stream",
       "stream": "stderr",
       "text": [
        "INFO:REINFORCE:Return from iter 1:  18.975737\n"
       ]
      },
      {
       "output_type": "stream",
       "stream": "stderr",
       "text": [
        "INFO:REINFORCE:********************Iteration: 266\n"
       ]
      },
      {
       "output_type": "stream",
       "stream": "stderr",
       "text": [
        "INFO:REINFORCE:Gradient step\n"
       ]
      },
      {
       "output_type": "stream",
       "stream": "stderr",
       "text": [
        "INFO:REINFORCE:Step norm: 1.0\n"
       ]
      },
      {
       "output_type": "stream",
       "stream": "stderr",
       "text": [
        "INFO:REINFORCE:Alpha: 0.034768162717\n"
       ]
      },
      {
       "output_type": "stream",
       "stream": "stderr",
       "text": [
        "INFO:REINFORCE:Return from iter 0:  18.975737\n"
       ]
      },
      {
       "output_type": "stream",
       "stream": "stderr",
       "text": [
        "INFO:REINFORCE:Return from iter 1:  -295.945821\n"
       ]
      },
      {
       "output_type": "stream",
       "stream": "stderr",
       "text": [
        "INFO:REINFORCE:********************Iteration: 267\n"
       ]
      },
      {
       "output_type": "stream",
       "stream": "stderr",
       "text": [
        "INFO:REINFORCE:Gradient step\n"
       ]
      },
      {
       "output_type": "stream",
       "stream": "stderr",
       "text": [
        "INFO:REINFORCE:Step norm: 1.0\n"
       ]
      },
      {
       "output_type": "stream",
       "stream": "stderr",
       "text": [
        "INFO:REINFORCE:Alpha: 0.034691128327\n"
       ]
      },
      {
       "output_type": "stream",
       "stream": "stderr",
       "text": [
        "INFO:REINFORCE:Return from iter 0:  17.703575\n"
       ]
      },
      {
       "output_type": "stream",
       "stream": "stderr",
       "text": [
        "INFO:REINFORCE:Return from iter 1:  18.975737\n"
       ]
      },
      {
       "output_type": "stream",
       "stream": "stdout",
       "text": [
        "\n",
        "Return from iter 1:  -610.398836\n",
        "Updated theta with alpha: 0.035320476256, theta norm: 1.0\n",
        "Return from iter 0:  18.975737\n",
        "Return from iter 1:  15.182739\n",
        "Updated theta with alpha: 0.0352401415251, theta norm: 1.0\n",
        "Return from iter 0:  18.975737\n",
        "Return from iter 1:  18.975737\n",
        "Updated theta with alpha: 0.035160292201, theta norm: 0.0\n",
        "Return from iter 0:  -296.767955\n",
        "Return from iter 1:  18.411576\n",
        "Updated theta with alpha: 0.0350809235356, theta norm: 1.0\n",
        "Return from iter 0:  18.975737\n",
        "Return from iter 1:  -294.673659\n",
        "Updated theta with alpha: 0.0350020308448, theta norm: 1.0\n",
        "Return from iter 0:  18.975737\n",
        "Return from iter 1:  -296.767955\n",
        "Updated theta with alpha: 0.0349236095074, theta norm: 1.0\n",
        "Return from iter 0:  -293.431205\n",
        "Return from iter 1:  18.975737\n",
        "Updated theta with alpha: 0.0348456549643, theta norm: 1.0\n",
        "Return from iter 0:  18.975737\n",
        "Return from iter 1:  -295.945821\n",
        "Updated theta with alpha: 0.034768162717, theta norm: 1.0\n",
        "Return from iter 0:  17.703575\n",
        "Return from iter 1:  18.975737\n",
        "Updated theta with alpha: 0.034691128327, theta norm: 1.0\n",
        "Return from iter 0:  18.975737"
       ]
      },
      {
       "output_type": "stream",
       "stream": "stderr",
       "text": [
        "INFO:REINFORCE:********************Iteration: 268\n"
       ]
      },
      {
       "output_type": "stream",
       "stream": "stderr",
       "text": [
        "INFO:REINFORCE:Gradient step\n"
       ]
      },
      {
       "output_type": "stream",
       "stream": "stderr",
       "text": [
        "INFO:REINFORCE:Step norm: 0.0\n"
       ]
      },
      {
       "output_type": "stream",
       "stream": "stderr",
       "text": [
        "INFO:REINFORCE:Alpha: 0.0346145474144\n"
       ]
      },
      {
       "output_type": "stream",
       "stream": "stderr",
       "text": [
        "INFO:REINFORCE:Return from iter 0:  18.975737\n"
       ]
      },
      {
       "output_type": "stream",
       "stream": "stderr",
       "text": [
        "INFO:REINFORCE:Return from iter 1:  18.975737\n"
       ]
      },
      {
       "output_type": "stream",
       "stream": "stderr",
       "text": [
        "INFO:REINFORCE:********************Iteration: 269\n"
       ]
      },
      {
       "output_type": "stream",
       "stream": "stderr",
       "text": [
        "INFO:REINFORCE:Gradient step\n"
       ]
      },
      {
       "output_type": "stream",
       "stream": "stderr",
       "text": [
        "INFO:REINFORCE:Step norm: 1.0\n"
       ]
      },
      {
       "output_type": "stream",
       "stream": "stderr",
       "text": [
        "INFO:REINFORCE:Alpha: 0.0345384156573\n"
       ]
      },
      {
       "output_type": "stream",
       "stream": "stderr",
       "text": [
        "INFO:REINFORCE:Return from iter 0:  18.975737\n"
       ]
      },
      {
       "output_type": "stream",
       "stream": "stderr",
       "text": [
        "INFO:REINFORCE:Return from iter 1:  -607.881661\n"
       ]
      },
      {
       "output_type": "stream",
       "stream": "stderr",
       "text": [
        "INFO:REINFORCE:********************Iteration: 270\n"
       ]
      },
      {
       "output_type": "stream",
       "stream": "stderr",
       "text": [
        "INFO:REINFORCE:Gradient step\n"
       ]
      },
      {
       "output_type": "stream",
       "stream": "stderr",
       "text": [
        "INFO:REINFORCE:Step norm: 1.0\n"
       ]
      },
      {
       "output_type": "stream",
       "stream": "stderr",
       "text": [
        "INFO:REINFORCE:Alpha: 0.0344627287904\n"
       ]
      },
      {
       "output_type": "stream",
       "stream": "stderr",
       "text": [
        "INFO:REINFORCE:Return from iter 0:  18.975737\n"
       ]
      },
      {
       "output_type": "stream",
       "stream": "stderr",
       "text": [
        "INFO:REINFORCE:Return from iter 1:  -293.995366\n"
       ]
      },
      {
       "output_type": "stream",
       "stream": "stderr",
       "text": [
        "INFO:REINFORCE:********************Iteration: 271\n"
       ]
      },
      {
       "output_type": "stream",
       "stream": "stderr",
       "text": [
        "INFO:REINFORCE:Gradient step\n"
       ]
      },
      {
       "output_type": "stream",
       "stream": "stderr",
       "text": [
        "INFO:REINFORCE:Step norm: 1.0\n"
       ]
      },
      {
       "output_type": "stream",
       "stream": "stderr",
       "text": [
        "INFO:REINFORCE:Alpha: 0.0343874826045\n"
       ]
      },
      {
       "output_type": "stream",
       "stream": "stderr",
       "text": [
        "INFO:REINFORCE:Return from iter 0:  -918.883794\n"
       ]
      },
      {
       "output_type": "stream",
       "stream": "stderr",
       "text": [
        "INFO:REINFORCE:Return from iter 1:  -294.673659\n"
       ]
      },
      {
       "output_type": "stream",
       "stream": "stderr",
       "text": [
        "INFO:REINFORCE:********************Iteration: 272\n"
       ]
      },
      {
       "output_type": "stream",
       "stream": "stderr",
       "text": [
        "INFO:REINFORCE:Gradient step\n"
       ]
      },
      {
       "output_type": "stream",
       "stream": "stderr",
       "text": [
        "INFO:REINFORCE:Step norm: 1.0\n"
       ]
      },
      {
       "output_type": "stream",
       "stream": "stderr",
       "text": [
        "INFO:REINFORCE:Alpha: 0.0343126729451\n"
       ]
      },
      {
       "output_type": "stream",
       "stream": "stderr",
       "text": [
        "INFO:REINFORCE:Return from iter 0:  -296.059953\n"
       ]
      },
      {
       "output_type": "stream",
       "stream": "stderr",
       "text": [
        "INFO:REINFORCE:Return from iter 1:  -296.767955\n"
       ]
      },
      {
       "output_type": "stream",
       "stream": "stderr",
       "text": [
        "INFO:REINFORCE:********************Iteration: 273\n"
       ]
      },
      {
       "output_type": "stream",
       "stream": "stderr",
       "text": [
        "INFO:REINFORCE:Gradient step\n"
       ]
      },
      {
       "output_type": "stream",
       "stream": "stderr",
       "text": [
        "INFO:REINFORCE:Step norm: 1.0\n"
       ]
      },
      {
       "output_type": "stream",
       "stream": "stderr",
       "text": [
        "INFO:REINFORCE:Alpha: 0.034238295712\n"
       ]
      },
      {
       "output_type": "stream",
       "stream": "stderr",
       "text": [
        "INFO:REINFORCE:Return from iter 0:  -293.431205\n"
       ]
      },
      {
       "output_type": "stream",
       "stream": "stderr",
       "text": [
        "INFO:REINFORCE:Return from iter 1:  -606.402309\n"
       ]
      },
      {
       "output_type": "stream",
       "stream": "stderr",
       "text": [
        "INFO:REINFORCE:********************Iteration: 274\n"
       ]
      },
      {
       "output_type": "stream",
       "stream": "stderr",
       "text": [
        "INFO:REINFORCE:Gradient step\n"
       ]
      },
      {
       "output_type": "stream",
       "stream": "stderr",
       "text": [
        "INFO:REINFORCE:Step norm: 1.0\n"
       ]
      },
      {
       "output_type": "stream",
       "stream": "stderr",
       "text": [
        "INFO:REINFORCE:Alpha: 0.0341643468581\n"
       ]
      },
      {
       "output_type": "stream",
       "stream": "stderr",
       "text": [
        "INFO:REINFORCE:Return from iter 0:  14.504447\n"
       ]
      },
      {
       "output_type": "stream",
       "stream": "stderr",
       "text": [
        "INFO:REINFORCE:Return from iter 1:  18.975737\n"
       ]
      },
      {
       "output_type": "stream",
       "stream": "stderr",
       "text": [
        "INFO:REINFORCE:********************Iteration: 275\n"
       ]
      },
      {
       "output_type": "stream",
       "stream": "stderr",
       "text": [
        "INFO:REINFORCE:Gradient step\n"
       ]
      },
      {
       "output_type": "stream",
       "stream": "stderr",
       "text": [
        "INFO:REINFORCE:Step norm: 1.0\n"
       ]
      },
      {
       "output_type": "stream",
       "stream": "stderr",
       "text": [
        "INFO:REINFORCE:Alpha: 0.0340908223882\n"
       ]
      },
      {
       "output_type": "stream",
       "stream": "stderr",
       "text": [
        "INFO:REINFORCE:Return from iter 0:  -297.317261\n"
       ]
      },
      {
       "output_type": "stream",
       "stream": "stderr",
       "text": [
        "INFO:REINFORCE:Return from iter 1:  -922.190835\n"
       ]
      },
      {
       "output_type": "stream",
       "stream": "stderr",
       "text": [
        "INFO:REINFORCE:********************Iteration: 276\n"
       ]
      },
      {
       "output_type": "stream",
       "stream": "stderr",
       "text": [
        "INFO:REINFORCE:Gradient step\n"
       ]
      },
      {
       "output_type": "stream",
       "stream": "stderr",
       "text": [
        "INFO:REINFORCE:Step norm: 1.0\n"
       ]
      },
      {
       "output_type": "stream",
       "stream": "stderr",
       "text": [
        "INFO:REINFORCE:Alpha: 0.034017718359\n"
       ]
      },
      {
       "output_type": "stream",
       "stream": "stderr",
       "text": [
        "INFO:REINFORCE:Return from iter 0:  -295.237819\n"
       ]
      },
      {
       "output_type": "stream",
       "stream": "stderr",
       "text": [
        "INFO:REINFORCE:Return from iter 1:  18.975737\n"
       ]
      },
      {
       "output_type": "stream",
       "stream": "stdout",
       "text": [
        "\n",
        "Return from iter 1:  18.975737\n",
        "Updated theta with alpha: 0.0346145474144, theta norm: 0.0\n",
        "Return from iter 0:  18.975737\n",
        "Return from iter 1:  -607.881661\n",
        "Updated theta with alpha: 0.0345384156573, theta norm: 1.0\n",
        "Return from iter 0:  18.975737\n",
        "Return from iter 1:  -293.995366\n",
        "Updated theta with alpha: 0.0344627287904, theta norm: 1.0\n",
        "Return from iter 0:  -918.883794\n",
        "Return from iter 1:  -294.673659\n",
        "Updated theta with alpha: 0.0343874826045, theta norm: 1.0\n",
        "Return from iter 0:  -296.059953\n",
        "Return from iter 1:  -296.767955\n",
        "Updated theta with alpha: 0.0343126729451, theta norm: 1.0\n",
        "Return from iter 0:  -293.431205\n",
        "Return from iter 1:  -606.402309\n",
        "Updated theta with alpha: 0.034238295712, theta norm: 1.0\n",
        "Return from iter 0:  14.504447\n",
        "Return from iter 1:  18.975737\n",
        "Updated theta with alpha: 0.0341643468581, theta norm: 1.0\n",
        "Return from iter 0:  -297.317261\n",
        "Return from iter 1:  -922.190835\n",
        "Updated theta with alpha: 0.0340908223882, theta norm: 1.0\n",
        "Return from iter 0:  -295.237819\n",
        "Return from iter 1:  18.975737\n",
        "Updated theta with alpha: 0.034017718359, theta norm: 1.0\n",
        "Return from iter 0:  -296.059953"
       ]
      },
      {
       "output_type": "stream",
       "stream": "stderr",
       "text": [
        "INFO:REINFORCE:********************Iteration: 277\n"
       ]
      },
      {
       "output_type": "stream",
       "stream": "stderr",
       "text": [
        "INFO:REINFORCE:Gradient step\n"
       ]
      },
      {
       "output_type": "stream",
       "stream": "stderr",
       "text": [
        "INFO:REINFORCE:Step norm: 1.0\n"
       ]
      },
      {
       "output_type": "stream",
       "stream": "stderr",
       "text": [
        "INFO:REINFORCE:Alpha: 0.0339450308773\n"
       ]
      },
      {
       "output_type": "stream",
       "stream": "stderr",
       "text": [
        "INFO:REINFORCE:Return from iter 0:  -296.059953\n"
       ]
      },
      {
       "output_type": "stream",
       "stream": "stderr",
       "text": [
        "INFO:REINFORCE:Return from iter 1:  14.504447\n"
       ]
      },
      {
       "output_type": "stream",
       "stream": "stderr",
       "text": [
        "INFO:REINFORCE:********************Iteration: 278\n"
       ]
      },
      {
       "output_type": "stream",
       "stream": "stderr",
       "text": [
        "INFO:REINFORCE:Gradient step\n"
       ]
      },
      {
       "output_type": "stream",
       "stream": "stderr",
       "text": [
        "INFO:REINFORCE:Step norm: 1.0\n"
       ]
      },
      {
       "output_type": "stream",
       "stream": "stderr",
       "text": [
        "INFO:REINFORCE:Alpha: 0.0338727561001\n"
       ]
      },
      {
       "output_type": "stream",
       "stream": "stderr",
       "text": [
        "INFO:REINFORCE:Return from iter 0:  -294.796425\n"
       ]
      },
      {
       "output_type": "stream",
       "stream": "stderr",
       "text": [
        "INFO:REINFORCE:Return from iter 1:  18.975737\n"
       ]
      },
      {
       "output_type": "stream",
       "stream": "stderr",
       "text": [
        "INFO:REINFORCE:********************Iteration: 279\n"
       ]
      },
      {
       "output_type": "stream",
       "stream": "stderr",
       "text": [
        "INFO:REINFORCE:Gradient step\n"
       ]
      },
      {
       "output_type": "stream",
       "stream": "stderr",
       "text": [
        "INFO:REINFORCE:Step norm: 1.0\n"
       ]
      },
      {
       "output_type": "stream",
       "stream": "stderr",
       "text": [
        "INFO:REINFORCE:Alpha: 0.033800890233\n"
       ]
      },
      {
       "output_type": "stream",
       "stream": "stderr",
       "text": [
        "INFO:REINFORCE:Return from iter 0:  -297.317261\n"
       ]
      },
      {
       "output_type": "stream",
       "stream": "stderr",
       "text": [
        "INFO:REINFORCE:Return from iter 1:  18.975737\n"
       ]
      },
      {
       "output_type": "stream",
       "stream": "stderr",
       "text": [
        "INFO:REINFORCE:********************Iteration: 280\n"
       ]
      },
      {
       "output_type": "stream",
       "stream": "stderr",
       "text": [
        "INFO:REINFORCE:Gradient step\n"
       ]
      },
      {
       "output_type": "stream",
       "stream": "stderr",
       "text": [
        "INFO:REINFORCE:Step norm: 0.0\n"
       ]
      },
      {
       "output_type": "stream",
       "stream": "stderr",
       "text": [
        "INFO:REINFORCE:Alpha: 0.0337294295297\n"
       ]
      },
      {
       "output_type": "stream",
       "stream": "stderr",
       "text": [
        "INFO:REINFORCE:Return from iter 0:  18.975737\n"
       ]
      },
      {
       "output_type": "stream",
       "stream": "stderr",
       "text": [
        "INFO:REINFORCE:Return from iter 1:  18.975737\n"
       ]
      },
      {
       "output_type": "stream",
       "stream": "stderr",
       "text": [
        "INFO:REINFORCE:********************Iteration: 281\n"
       ]
      },
      {
       "output_type": "stream",
       "stream": "stderr",
       "text": [
        "INFO:REINFORCE:Gradient step\n"
       ]
      },
      {
       "output_type": "stream",
       "stream": "stderr",
       "text": [
        "INFO:REINFORCE:Step norm: 1.0\n"
       ]
      },
      {
       "output_type": "stream",
       "stream": "stderr",
       "text": [
        "INFO:REINFORCE:Alpha: 0.0336583702915\n"
       ]
      },
      {
       "output_type": "stream",
       "stream": "stderr",
       "text": [
        "INFO:REINFORCE:Return from iter 0:  18.975737\n"
       ]
      },
      {
       "output_type": "stream",
       "stream": "stderr",
       "text": [
        "INFO:REINFORCE:Return from iter 1:  -294.796425\n"
       ]
      },
      {
       "output_type": "stream",
       "stream": "stderr",
       "text": [
        "INFO:REINFORCE:********************Iteration: 282\n"
       ]
      },
      {
       "output_type": "stream",
       "stream": "stderr",
       "text": [
        "INFO:REINFORCE:Gradient step\n"
       ]
      },
      {
       "output_type": "stream",
       "stream": "stderr",
       "text": [
        "INFO:REINFORCE:Step norm: 1.0\n"
       ]
      },
      {
       "output_type": "stream",
       "stream": "stderr",
       "text": [
        "INFO:REINFORCE:Alpha: 0.0335877088662\n"
       ]
      },
      {
       "output_type": "stream",
       "stream": "stderr",
       "text": [
        "INFO:REINFORCE:Return from iter 0:  18.975737\n"
       ]
      },
      {
       "output_type": "stream",
       "stream": "stderr",
       "text": [
        "INFO:REINFORCE:Return from iter 1:  18.267735\n"
       ]
      },
      {
       "output_type": "stream",
       "stream": "stderr",
       "text": [
        "INFO:REINFORCE:********************Iteration: 283\n"
       ]
      },
      {
       "output_type": "stream",
       "stream": "stderr",
       "text": [
        "INFO:REINFORCE:Gradient step\n"
       ]
      },
      {
       "output_type": "stream",
       "stream": "stderr",
       "text": [
        "INFO:REINFORCE:Step norm: 1.0\n"
       ]
      },
      {
       "output_type": "stream",
       "stream": "stderr",
       "text": [
        "INFO:REINFORCE:Alpha: 0.0335174416472\n"
       ]
      },
      {
       "output_type": "stream",
       "stream": "stderr",
       "text": [
        "INFO:REINFORCE:Return from iter 0:  18.975737\n"
       ]
      },
      {
       "output_type": "stream",
       "stream": "stderr",
       "text": [
        "INFO:REINFORCE:Return from iter 1:  -922.190835\n"
       ]
      },
      {
       "output_type": "stream",
       "stream": "stderr",
       "text": [
        "INFO:REINFORCE:********************Iteration: 284\n"
       ]
      },
      {
       "output_type": "stream",
       "stream": "stderr",
       "text": [
        "INFO:REINFORCE:Gradient step\n"
       ]
      },
      {
       "output_type": "stream",
       "stream": "stderr",
       "text": [
        "INFO:REINFORCE:Step norm: 0.0\n"
       ]
      },
      {
       "output_type": "stream",
       "stream": "stderr",
       "text": [
        "INFO:REINFORCE:Alpha: 0.0334475650733\n"
       ]
      },
      {
       "output_type": "stream",
       "stream": "stderr",
       "text": [
        "INFO:REINFORCE:Return from iter 0:  18.975737\n"
       ]
      },
      {
       "output_type": "stream",
       "stream": "stderr",
       "text": [
        "INFO:REINFORCE:Return from iter 1:  18.975737\n"
       ]
      },
      {
       "output_type": "stream",
       "stream": "stderr",
       "text": [
        "INFO:REINFORCE:********************Iteration: 285\n"
       ]
      },
      {
       "output_type": "stream",
       "stream": "stderr",
       "text": [
        "INFO:REINFORCE:Gradient step\n"
       ]
      },
      {
       "output_type": "stream",
       "stream": "stderr",
       "text": [
        "INFO:REINFORCE:Step norm: 0.0\n"
       ]
      },
      {
       "output_type": "stream",
       "stream": "stderr",
       "text": [
        "INFO:REINFORCE:Alpha: 0.0333780756277\n"
       ]
      },
      {
       "output_type": "stream",
       "stream": "stderr",
       "text": [
        "INFO:REINFORCE:Return from iter 0:  18.975737\n"
       ]
      },
      {
       "output_type": "stream",
       "stream": "stderr",
       "text": [
        "INFO:REINFORCE:Return from iter 1:  18.975737\n"
       ]
      },
      {
       "output_type": "stream",
       "stream": "stdout",
       "text": [
        "\n",
        "Return from iter 1:  14.504447\n",
        "Updated theta with alpha: 0.0339450308773, theta norm: 1.0\n",
        "Return from iter 0:  -294.796425\n",
        "Return from iter 1:  18.975737\n",
        "Updated theta with alpha: 0.0338727561001, theta norm: 1.0\n",
        "Return from iter 0:  -297.317261\n",
        "Return from iter 1:  18.975737\n",
        "Updated theta with alpha: 0.033800890233, theta norm: 1.0\n",
        "Return from iter 0:  18.975737\n",
        "Return from iter 1:  18.975737\n",
        "Updated theta with alpha: 0.0337294295297, theta norm: 0.0\n",
        "Return from iter 0:  18.975737\n",
        "Return from iter 1:  -294.796425\n",
        "Updated theta with alpha: 0.0336583702915, theta norm: 1.0\n",
        "Return from iter 0:  18.975737\n",
        "Return from iter 1:  18.267735\n",
        "Updated theta with alpha: 0.0335877088662, theta norm: 1.0\n",
        "Return from iter 0:  18.975737\n",
        "Return from iter 1:  -922.190835\n",
        "Updated theta with alpha: 0.0335174416472, theta norm: 1.0\n",
        "Return from iter 0:  18.975737\n",
        "Return from iter 1:  18.975737\n",
        "Updated theta with alpha: 0.0334475650733, theta norm: 0.0\n",
        "Return from iter 0:  18.975737\n",
        "Return from iter 1:  18.975737\n",
        "Updated theta with alpha: 0.0333780756277, theta norm: 0.0\n",
        "Return from iter 0:  -295.237819"
       ]
      },
      {
       "output_type": "stream",
       "stream": "stderr",
       "text": [
        "INFO:REINFORCE:********************Iteration: 286\n"
       ]
      },
      {
       "output_type": "stream",
       "stream": "stderr",
       "text": [
        "INFO:REINFORCE:Gradient step\n"
       ]
      },
      {
       "output_type": "stream",
       "stream": "stderr",
       "text": [
        "INFO:REINFORCE:Step norm: 1.0\n"
       ]
      },
      {
       "output_type": "stream",
       "stream": "stderr",
       "text": [
        "INFO:REINFORCE:Alpha: 0.0333089698372\n"
       ]
      },
      {
       "output_type": "stream",
       "stream": "stderr",
       "text": [
        "INFO:REINFORCE:Return from iter 0:  -295.237819\n"
       ]
      },
      {
       "output_type": "stream",
       "stream": "stderr",
       "text": [
        "INFO:REINFORCE:Return from iter 1:  -296.782810\n"
       ]
      },
      {
       "output_type": "stream",
       "stream": "stderr",
       "text": [
        "INFO:REINFORCE:********************Iteration: 287\n"
       ]
      },
      {
       "output_type": "stream",
       "stream": "stderr",
       "text": [
        "INFO:REINFORCE:Gradient step\n"
       ]
      },
      {
       "output_type": "stream",
       "stream": "stderr",
       "text": [
        "INFO:REINFORCE:Step norm: 1.0\n"
       ]
      },
      {
       "output_type": "stream",
       "stream": "stderr",
       "text": [
        "INFO:REINFORCE:Alpha: 0.0332402442714\n"
       ]
      },
      {
       "output_type": "stream",
       "stream": "stderr",
       "text": [
        "INFO:REINFORCE:Return from iter 0:  -293.431205\n"
       ]
      },
      {
       "output_type": "stream",
       "stream": "stderr",
       "text": [
        "INFO:REINFORCE:Return from iter 1:  14.504447\n"
       ]
      },
      {
       "output_type": "stream",
       "stream": "stderr",
       "text": [
        "INFO:REINFORCE:********************Iteration: 288\n"
       ]
      },
      {
       "output_type": "stream",
       "stream": "stderr",
       "text": [
        "INFO:REINFORCE:Gradient step\n"
       ]
      },
      {
       "output_type": "stream",
       "stream": "stderr",
       "text": [
        "INFO:REINFORCE:Step norm: 1.0\n"
       ]
      },
      {
       "output_type": "stream",
       "stream": "stderr",
       "text": [
        "INFO:REINFORCE:Alpha: 0.0331718955426\n"
       ]
      },
      {
       "output_type": "stream",
       "stream": "stderr",
       "text": [
        "INFO:REINFORCE:Return from iter 0:  18.975737\n"
       ]
      },
      {
       "output_type": "stream",
       "stream": "stderr",
       "text": [
        "INFO:REINFORCE:Return from iter 1:  -294.232265\n"
       ]
      },
      {
       "output_type": "stream",
       "stream": "stderr",
       "text": [
        "INFO:REINFORCE:********************Iteration: 289\n"
       ]
      },
      {
       "output_type": "stream",
       "stream": "stderr",
       "text": [
        "INFO:REINFORCE:Gradient step\n"
       ]
      },
      {
       "output_type": "stream",
       "stream": "stderr",
       "text": [
        "INFO:REINFORCE:Step norm: 1.0\n"
       ]
      },
      {
       "output_type": "stream",
       "stream": "stderr",
       "text": [
        "INFO:REINFORCE:Alpha: 0.0331039203045\n"
       ]
      },
      {
       "output_type": "stream",
       "stream": "stderr",
       "text": [
        "INFO:REINFORCE:Return from iter 0:  18.956013\n"
       ]
      },
      {
       "output_type": "stream",
       "stream": "stderr",
       "text": [
        "INFO:REINFORCE:Return from iter 1:  18.975737\n"
       ]
      },
      {
       "output_type": "stream",
       "stream": "stderr",
       "text": [
        "INFO:REINFORCE:********************Iteration: 290\n"
       ]
      },
      {
       "output_type": "stream",
       "stream": "stderr",
       "text": [
        "INFO:REINFORCE:Gradient step\n"
       ]
      },
      {
       "output_type": "stream",
       "stream": "stderr",
       "text": [
        "INFO:REINFORCE:Step norm: 1.0\n"
       ]
      },
      {
       "output_type": "stream",
       "stream": "stderr",
       "text": [
        "INFO:REINFORCE:Alpha: 0.0330363152518\n"
       ]
      },
      {
       "output_type": "stream",
       "stream": "stderr",
       "text": [
        "INFO:REINFORCE:Return from iter 0:  -293.431205\n"
       ]
      },
      {
       "output_type": "stream",
       "stream": "stderr",
       "text": [
        "INFO:REINFORCE:Return from iter 1:  18.975737\n"
       ]
      },
      {
       "output_type": "stream",
       "stream": "stderr",
       "text": [
        "INFO:REINFORCE:********************Iteration: 291\n"
       ]
      },
      {
       "output_type": "stream",
       "stream": "stderr",
       "text": [
        "INFO:REINFORCE:Gradient step\n"
       ]
      },
      {
       "output_type": "stream",
       "stream": "stderr",
       "text": [
        "INFO:REINFORCE:Step norm: 0.0\n"
       ]
      },
      {
       "output_type": "stream",
       "stream": "stderr",
       "text": [
        "INFO:REINFORCE:Alpha: 0.0329690771198\n"
       ]
      },
      {
       "output_type": "stream",
       "stream": "stderr",
       "text": [
        "INFO:REINFORCE:Return from iter 0:  18.975737\n"
       ]
      },
      {
       "output_type": "stream",
       "stream": "stderr",
       "text": [
        "INFO:REINFORCE:Return from iter 1:  18.975737\n"
       ]
      },
      {
       "output_type": "stream",
       "stream": "stderr",
       "text": [
        "INFO:REINFORCE:********************Iteration: 292\n"
       ]
      },
      {
       "output_type": "stream",
       "stream": "stderr",
       "text": [
        "INFO:REINFORCE:Gradient step\n"
       ]
      },
      {
       "output_type": "stream",
       "stream": "stderr",
       "text": [
        "INFO:REINFORCE:Step norm: 1.0\n"
       ]
      },
      {
       "output_type": "stream",
       "stream": "stderr",
       "text": [
        "INFO:REINFORCE:Alpha: 0.0329022026832\n"
       ]
      },
      {
       "output_type": "stream",
       "stream": "stderr",
       "text": [
        "INFO:REINFORCE:Return from iter 0:  -296.059953\n"
       ]
      },
      {
       "output_type": "stream",
       "stream": "stderr",
       "text": [
        "INFO:REINFORCE:Return from iter 1:  18.411576\n"
       ]
      },
      {
       "output_type": "stream",
       "stream": "stderr",
       "text": [
        "INFO:REINFORCE:********************Iteration: 293\n"
       ]
      },
      {
       "output_type": "stream",
       "stream": "stderr",
       "text": [
        "INFO:REINFORCE:Gradient step\n"
       ]
      },
      {
       "output_type": "stream",
       "stream": "stderr",
       "text": [
        "INFO:REINFORCE:Step norm: 1.0\n"
       ]
      },
      {
       "output_type": "stream",
       "stream": "stderr",
       "text": [
        "INFO:REINFORCE:Alpha: 0.0328356887561\n"
       ]
      },
      {
       "output_type": "stream",
       "stream": "stderr",
       "text": [
        "INFO:REINFORCE:Return from iter 0:  -1234.012542\n"
       ]
      },
      {
       "output_type": "stream",
       "stream": "stderr",
       "text": [
        "INFO:REINFORCE:Return from iter 1:  -922.190835\n"
       ]
      },
      {
       "output_type": "stream",
       "stream": "stderr",
       "text": [
        "INFO:REINFORCE:********************Iteration: 294\n"
       ]
      },
      {
       "output_type": "stream",
       "stream": "stderr",
       "text": [
        "INFO:REINFORCE:Gradient step\n"
       ]
      },
      {
       "output_type": "stream",
       "stream": "stderr",
       "text": [
        "INFO:REINFORCE:Step norm: 0.0\n"
       ]
      },
      {
       "output_type": "stream",
       "stream": "stderr",
       "text": [
        "INFO:REINFORCE:Alpha: 0.0327695321909\n"
       ]
      },
      {
       "output_type": "stream",
       "stream": "stderr",
       "text": [
        "INFO:REINFORCE:Return from iter 0:  14.504447\n"
       ]
      },
      {
       "output_type": "stream",
       "stream": "stderr",
       "text": [
        "INFO:REINFORCE:Return from iter 1:  14.504447\n"
       ]
      },
      {
       "output_type": "stream",
       "stream": "stdout",
       "text": [
        "\n",
        "Return from iter 1:  -296.782810\n",
        "Updated theta with alpha: 0.0333089698372, theta norm: 1.0\n",
        "Return from iter 0:  -293.431205\n",
        "Return from iter 1:  14.504447\n",
        "Updated theta with alpha: 0.0332402442714, theta norm: 1.0\n",
        "Return from iter 0:  18.975737\n",
        "Return from iter 1:  -294.232265\n",
        "Updated theta with alpha: 0.0331718955426, theta norm: 1.0\n",
        "Return from iter 0:  18.956013\n",
        "Return from iter 1:  18.975737\n",
        "Updated theta with alpha: 0.0331039203045, theta norm: 1.0\n",
        "Return from iter 0:  -293.431205\n",
        "Return from iter 1:  18.975737\n",
        "Updated theta with alpha: 0.0330363152518, theta norm: 1.0\n",
        "Return from iter 0:  18.975737\n",
        "Return from iter 1:  18.975737\n",
        "Updated theta with alpha: 0.0329690771198, theta norm: 0.0\n",
        "Return from iter 0:  -296.059953\n",
        "Return from iter 1:  18.411576\n",
        "Updated theta with alpha: 0.0329022026832, theta norm: 1.0\n",
        "Return from iter 0:  -1234.012542\n",
        "Return from iter 1:  -922.190835\n",
        "Updated theta with alpha: 0.0328356887561, theta norm: 1.0\n",
        "Return from iter 0:  14.504447\n",
        "Return from iter 1:  14.504447\n",
        "Updated theta with alpha: 0.0327695321909, theta norm: 0.0\n",
        "Return from iter 0:  18.975737"
       ]
      },
      {
       "output_type": "stream",
       "stream": "stderr",
       "text": [
        "INFO:REINFORCE:********************Iteration: 295\n"
       ]
      },
      {
       "output_type": "stream",
       "stream": "stderr",
       "text": [
        "INFO:REINFORCE:Gradient step\n"
       ]
      },
      {
       "output_type": "stream",
       "stream": "stderr",
       "text": [
        "INFO:REINFORCE:Step norm: 1.0\n"
       ]
      },
      {
       "output_type": "stream",
       "stream": "stderr",
       "text": [
        "INFO:REINFORCE:Alpha: 0.0327037298781\n"
       ]
      },
      {
       "output_type": "stream",
       "stream": "stderr",
       "text": [
        "INFO:REINFORCE:Return from iter 0:  18.975737\n"
       ]
      },
      {
       "output_type": "stream",
       "stream": "stderr",
       "text": [
        "INFO:REINFORCE:Return from iter 1:  -606.495366\n"
       ]
      },
      {
       "output_type": "stream",
       "stream": "stderr",
       "text": [
        "INFO:REINFORCE:********************Iteration: 296\n"
       ]
      },
      {
       "output_type": "stream",
       "stream": "stderr",
       "text": [
        "INFO:REINFORCE:Gradient step\n"
       ]
      },
      {
       "output_type": "stream",
       "stream": "stderr",
       "text": [
        "INFO:REINFORCE:Step norm: 1.0\n"
       ]
      },
      {
       "output_type": "stream",
       "stream": "stderr",
       "text": [
        "INFO:REINFORCE:Alpha: 0.0326382787454\n"
       ]
      },
      {
       "output_type": "stream",
       "stream": "stderr",
       "text": [
        "INFO:REINFORCE:Return from iter 0:  -297.317261\n"
       ]
      },
      {
       "output_type": "stream",
       "stream": "stderr",
       "text": [
        "INFO:REINFORCE:Return from iter 1:  18.411576\n"
       ]
      },
      {
       "output_type": "stream",
       "stream": "stderr",
       "text": [
        "INFO:REINFORCE:********************Iteration: 297\n"
       ]
      },
      {
       "output_type": "stream",
       "stream": "stderr",
       "text": [
        "INFO:REINFORCE:Gradient step\n"
       ]
      },
      {
       "output_type": "stream",
       "stream": "stderr",
       "text": [
        "INFO:REINFORCE:Step norm: 1.0\n"
       ]
      },
      {
       "output_type": "stream",
       "stream": "stderr",
       "text": [
        "INFO:REINFORCE:Alpha: 0.0325731757573\n"
       ]
      },
      {
       "output_type": "stream",
       "stream": "stderr",
       "text": [
        "INFO:REINFORCE:Return from iter 0:  18.975737\n"
       ]
      },
      {
       "output_type": "stream",
       "stream": "stderr",
       "text": [
        "INFO:REINFORCE:Return from iter 1:  -294.232265\n"
       ]
      },
      {
       "output_type": "stream",
       "stream": "stderr",
       "text": [
        "INFO:REINFORCE:********************Iteration: 298\n"
       ]
      },
      {
       "output_type": "stream",
       "stream": "stderr",
       "text": [
        "INFO:REINFORCE:Gradient step\n"
       ]
      },
      {
       "output_type": "stream",
       "stream": "stderr",
       "text": [
        "INFO:REINFORCE:Step norm: 1.0\n"
       ]
      },
      {
       "output_type": "stream",
       "stream": "stderr",
       "text": [
        "INFO:REINFORCE:Alpha: 0.0325084179147\n"
       ]
      },
      {
       "output_type": "stream",
       "stream": "stderr",
       "text": [
        "INFO:REINFORCE:Return from iter 0:  18.975737\n"
       ]
      },
      {
       "output_type": "stream",
       "stream": "stderr",
       "text": [
        "INFO:REINFORCE:Return from iter 1:  -297.224204\n"
       ]
      },
      {
       "output_type": "stream",
       "stream": "stderr",
       "text": [
        "INFO:REINFORCE:********************Iteration: 299\n"
       ]
      },
      {
       "output_type": "stream",
       "stream": "stderr",
       "text": [
        "INFO:REINFORCE:Gradient step\n"
       ]
      },
      {
       "output_type": "stream",
       "stream": "stderr",
       "text": [
        "INFO:REINFORCE:Step norm: 1.0\n"
       ]
      },
      {
       "output_type": "stream",
       "stream": "stderr",
       "text": [
        "INFO:REINFORCE:Alpha: 0.0324440022538\n"
       ]
      },
      {
       "output_type": "stream",
       "stream": "stderr",
       "text": [
        "INFO:REINFORCE:Return from iter 0:  -296.059953\n"
       ]
      },
      {
       "output_type": "stream",
       "stream": "stderr",
       "text": [
        "INFO:REINFORCE:Return from iter 1:  18.975737\n"
       ]
      },
      {
       "output_type": "stream",
       "stream": "stdout",
       "text": [
        "\n",
        "Return from iter 1:  -606.495366\n",
        "Updated theta with alpha: 0.0327037298781, theta norm: 1.0\n",
        "Return from iter 0:  -297.317261\n",
        "Return from iter 1:  18.411576\n",
        "Updated theta with alpha: 0.0326382787454, theta norm: 1.0\n",
        "Return from iter 0:  18.975737\n",
        "Return from iter 1:  -294.232265\n",
        "Updated theta with alpha: 0.0325731757573, theta norm: 1.0\n",
        "Return from iter 0:  18.975737\n",
        "Return from iter 1:  -297.224204\n",
        "Updated theta with alpha: 0.0325084179147, theta norm: 1.0\n",
        "Return from iter 0:  -296.059953\n",
        "Return from iter 1:  18.975737\n",
        "Updated theta with alpha: 0.0324440022538, theta norm: 1.0\n",
        "********************************************************************************\n",
        "BadExampleMDP. Current state: <GridState id: 0, position: (y: 0, x: 0), dim: 5>\n",
        "Action: 1\n",
        "New state: <GridState id: 0, position: (y: 0, x: 0), dim: 5>\n",
        "Reward: 0.0\n",
        "BadExampleMDP. Current state: <GridState id: 0, position: (y: 0, x: 0), dim: 5>\n",
        "Action: 1\n",
        "New state: <GridState id: 3, position: (y: 1, x: -1), dim: 5>\n",
        "Reward: 0.0\n",
        "BadExampleMDP. Current state: <GridState id: 3, position: (y: 1, x: -1), dim: 5>\n",
        "Action: 0\n",
        "New state: <GridState id: 4, position: (y: 2, x: -2), dim: 5>\n",
        "Reward: 0.0\n",
        "BadExampleMDP. Current state: <GridState id: 4, position: (y: 2, x: -2), dim: 5>"
       ]
      },
      {
       "output_type": "stream",
       "stream": "stdout",
       "text": [
        "\n",
        "Action: 0\n",
        "New state: <GridState id: 3, position: (y: 1, x: -1), dim: 5>\n",
        "Reward: 0.0\n",
        "BadExampleMDP. Current state: <GridState id: 3, position: (y: 1, x: -1), dim: 5>\n",
        "Action: 0\n",
        "New state: <GridState id: 4, position: (y: 2, x: -2), dim: 5>\n",
        "Reward: 0.0\n",
        "BadExampleMDP. Current state: <GridState id: 4, position: (y: 2, x: -2), dim: 5>\n",
        "Action: 0\n",
        "New state: <GridState id: 3, position: (y: 1, x: -1), dim: 5>\n",
        "Reward: 0.0\n",
        "BadExampleMDP. Current state: <GridState id: 3, position: (y: 1, x: -1), dim: 5>\n",
        "Action: 0\n",
        "New state: <GridState id: 4, position: (y: 2, x: -2), dim: 5>\n",
        "Reward: 0.0\n",
        "BadExampleMDP. Current state: <GridState id: 4, position: (y: 2, x: -2), dim: 5>\n",
        "Action: 0\n",
        "New state: <GridState id: 3, position: (y: 1, x: -1), dim: 5>\n",
        "Reward: 0.0\n",
        "BadExampleMDP. Current state: <GridState id: 3, position: (y: 1, x: -1), dim: 5>"
       ]
      },
      {
       "output_type": "stream",
       "stream": "stdout",
       "text": [
        "\n",
        "Action: 0\n",
        "New state: <GridState id: 4, position: (y: 2, x: -2), dim: 5>\n",
        "Reward: 0.0\n",
        "BadExampleMDP. Current state: <GridState id: 4, position: (y: 2, x: -2), dim: 5>\n",
        "Action: 0\n",
        "New state: <GridState id: 3, position: (y: 1, x: -1), dim: 5>\n",
        "Reward: 0.0\n",
        "BadExampleMDP. Current state: <GridState id: 3, position: (y: 1, x: -1), dim: 5>\n",
        "********************************************************************************\n",
        "BadExampleMDP. Current state: <GridState id: 0, position: (y: 0, x: 0), dim: 5>\n",
        "Action: 1\n",
        "New state: <GridState id: 3, position: (y: 1, x: -1), dim: 5>\n",
        "Reward: 0.0\n",
        "BadExampleMDP. Current state: <GridState id: 3, position: (y: 1, x: -1), dim: 5>\n",
        "Action: 0\n",
        "New state: <GridState id: 4, position: (y: 2, x: -2), dim: 5>\n",
        "Reward: 0.0\n",
        "BadExampleMDP. Current state: <GridState id: 4, position: (y: 2, x: -2), dim: 5>\n",
        "Action: 0\n",
        "New state: <GridState id: 3, position: (y: 1, x: -1), dim: 5>\n",
        "Reward: 0.0\n",
        "BadExampleMDP. Current state: <GridState id: 3, position: (y: 1, x: -1), dim: 5>"
       ]
      },
      {
       "output_type": "stream",
       "stream": "stdout",
       "text": [
        "\n",
        "Action: 0\n",
        "New state: <GridState id: 0, position: (y: 0, x: 0), dim: 5>\n",
        "Reward: 0.0\n",
        "BadExampleMDP. Current state: <GridState id: 0, position: (y: 0, x: 0), dim: 5>\n",
        "Action: 1\n",
        "New state: <GridState id: 3, position: (y: 1, x: -1), dim: 5>\n",
        "Reward: 0.0\n",
        "BadExampleMDP. Current state: <GridState id: 3, position: (y: 1, x: -1), dim: 5>\n",
        "Action: 0\n",
        "New state: <GridState id: 4, position: (y: 2, x: -2), dim: 5>\n",
        "Reward: 0.0\n",
        "BadExampleMDP. Current state: <GridState id: 4, position: (y: 2, x: -2), dim: 5>\n",
        "Action: 0\n",
        "New state: <GridState id: 3, position: (y: 1, x: -1), dim: 5>\n",
        "Reward: 0.0\n",
        "BadExampleMDP. Current state: <GridState id: 3, position: (y: 1, x: -1), dim: 5>\n",
        "Action: 0\n",
        "New state: <GridState id: 4, position: (y: 2, x: -2), dim: 5>\n",
        "Reward: 0.0\n",
        "BadExampleMDP. Current state: <GridState id: 4, position: (y: 2, x: -2), dim: 5>"
       ]
      },
      {
       "output_type": "stream",
       "stream": "stdout",
       "text": [
        "\n",
        "Action: 0\n",
        "New state: <GridState id: 3, position: (y: 1, x: -1), dim: 5>\n",
        "Reward: 0.0\n",
        "BadExampleMDP. Current state: <GridState id: 3, position: (y: 1, x: -1), dim: 5>\n",
        "Action: 0\n",
        "New state: <GridState id: 4, position: (y: 2, x: -2), dim: 5>\n",
        "Reward: 0.0\n",
        "BadExampleMDP. Current state: <GridState id: 4, position: (y: 2, x: -2), dim: 5>\n",
        "********************************************************************************\n",
        "BadExampleMDP. Current state: <GridState id: 0, position: (y: 0, x: 0), dim: 5>\n",
        "Action: 0\n",
        "New state: <GridState id: 1, position: (y: 1, x: 1), dim: 5>\n",
        "Reward: 0.0\n",
        "BadExampleMDP. Current state: <GridState id: 1, position: (y: 1, x: 1), dim: 5>\n",
        "Action: 0\n",
        "New state: <GridState id: 2, position: (y: 2, x: 2), dim: 5>\n",
        "Reward: 0.0\n",
        "BadExampleMDP. Current state: <GridState id: 2, position: (y: 2, x: 2), dim: 5>\n",
        "Action: 0\n",
        "New state: <GridState id: 1, position: (y: 1, x: 1), dim: 5>\n",
        "Reward: 0.0\n",
        "BadExampleMDP. Current state: <GridState id: 1, position: (y: 1, x: 1), dim: 5>"
       ]
      },
      {
       "output_type": "stream",
       "stream": "stdout",
       "text": [
        "\n",
        "Action: 0\n",
        "New state: <GridState id: 2, position: (y: 2, x: 2), dim: 5>\n",
        "Reward: 0.0\n",
        "BadExampleMDP. Current state: <GridState id: 2, position: (y: 2, x: 2), dim: 5>\n",
        "Action: 0\n",
        "New state: <GridState id: 1, position: (y: 1, x: 1), dim: 5>\n",
        "Reward: 0.0\n",
        "BadExampleMDP. Current state: <GridState id: 1, position: (y: 1, x: 1), dim: 5>\n",
        "Action: 0\n",
        "New state: <GridState id: 2, position: (y: 2, x: 2), dim: 5>\n",
        "Reward: 0.0\n",
        "BadExampleMDP. Current state: <GridState id: 2, position: (y: 2, x: 2), dim: 5>\n",
        "Action: 0\n",
        "New state: <GridState id: 0, position: (y: 0, x: 0), dim: 5>\n",
        "Reward: 0.0\n",
        "BadExampleMDP. Current state: <GridState id: 0, position: (y: 0, x: 0), dim: 5>\n",
        "Action: 1\n",
        "New state: <GridState id: 3, position: (y: 1, x: -1), dim: 5>\n",
        "Reward: 0.0\n",
        "BadExampleMDP. Current state: <GridState id: 3, position: (y: 1, x: -1), dim: 5>"
       ]
      },
      {
       "output_type": "stream",
       "stream": "stdout",
       "text": [
        "\n",
        "Action: 0\n",
        "New state: <GridState id: 4, position: (y: 2, x: -2), dim: 5>\n",
        "Reward: 0.0\n",
        "BadExampleMDP. Current state: <GridState id: 4, position: (y: 2, x: -2), dim: 5>\n",
        "Action: 0\n",
        "New state: <GridState id: 3, position: (y: 1, x: -1), dim: 5>\n",
        "Reward: 0.0\n",
        "BadExampleMDP. Current state: <GridState id: 3, position: (y: 1, x: -1), dim: 5>\n",
        "********************************************************************************\n",
        "BadExampleMDP. Current state: <GridState id: 0, position: (y: 0, x: 0), dim: 5>\n",
        "Action: 1\n",
        "New state: <GridState id: 0, position: (y: 0, x: 0), dim: 5>\n",
        "Reward: 0.0\n",
        "BadExampleMDP. Current state: <GridState id: 0, position: (y: 0, x: 0), dim: 5>\n",
        "Action: 1\n",
        "New state: <GridState id: 3, position: (y: 1, x: -1), dim: 5>\n",
        "Reward: 0.0\n",
        "BadExampleMDP. Current state: <GridState id: 3, position: (y: 1, x: -1), dim: 5>\n",
        "Action: 0\n",
        "New state: <GridState id: 4, position: (y: 2, x: -2), dim: 5>\n",
        "Reward: 0.0\n",
        "BadExampleMDP. Current state: <GridState id: 4, position: (y: 2, x: -2), dim: 5>"
       ]
      },
      {
       "output_type": "stream",
       "stream": "stdout",
       "text": [
        "\n",
        "Action: 0\n",
        "New state: <GridState id: 3, position: (y: 1, x: -1), dim: 5>\n",
        "Reward: 0.0\n",
        "BadExampleMDP. Current state: <GridState id: 3, position: (y: 1, x: -1), dim: 5>\n",
        "Action: 0\n",
        "New state: <GridState id: 4, position: (y: 2, x: -2), dim: 5>\n",
        "Reward: 0.0\n",
        "BadExampleMDP. Current state: <GridState id: 4, position: (y: 2, x: -2), dim: 5>\n",
        "Action: 0\n",
        "New state: <GridState id: 3, position: (y: 1, x: -1), dim: 5>\n",
        "Reward: 0.0\n",
        "BadExampleMDP. Current state: <GridState id: 3, position: (y: 1, x: -1), dim: 5>\n",
        "Action: 0\n",
        "New state: <GridState id: 4, position: (y: 2, x: -2), dim: 5>\n",
        "Reward: 0.0\n",
        "BadExampleMDP. Current state: <GridState id: 4, position: (y: 2, x: -2), dim: 5>\n",
        "Action: 0\n",
        "New state: <GridState id: 3, position: (y: 1, x: -1), dim: 5>\n",
        "Reward: 0.0\n",
        "BadExampleMDP. Current state: <GridState id: 3, position: (y: 1, x: -1), dim: 5>"
       ]
      },
      {
       "output_type": "stream",
       "stream": "stdout",
       "text": [
        "\n",
        "Action: 0\n",
        "New state: <GridState id: 4, position: (y: 2, x: -2), dim: 5>\n",
        "Reward: 0.0\n",
        "BadExampleMDP. Current state: <GridState id: 4, position: (y: 2, x: -2), dim: 5>\n",
        "Action: 0\n",
        "New state: <GridState id: 3, position: (y: 1, x: -1), dim: 5>\n",
        "Reward: 0.0\n",
        "BadExampleMDP. Current state: <GridState id: 3, position: (y: 1, x: -1), dim: 5>\n",
        "********************************************************************************\n",
        "BadExampleMDP. Current state: <GridState id: 0, position: (y: 0, x: 0), dim: 5>\n",
        "Action: 1\n",
        "New state: <GridState id: 3, position: (y: 1, x: -1), dim: 5>\n",
        "Reward: 0.0\n",
        "BadExampleMDP. Current state: <GridState id: 3, position: (y: 1, x: -1), dim: 5>\n",
        "Action: 0\n",
        "New state: <GridState id: 4, position: (y: 2, x: -2), dim: 5>\n",
        "Reward: 0.0\n",
        "BadExampleMDP. Current state: <GridState id: 4, position: (y: 2, x: -2), dim: 5>\n",
        "Action: 0\n",
        "New state: <GridState id: 3, position: (y: 1, x: -1), dim: 5>\n",
        "Reward: 0.0\n",
        "BadExampleMDP. Current state: <GridState id: 3, position: (y: 1, x: -1), dim: 5>"
       ]
      },
      {
       "output_type": "stream",
       "stream": "stdout",
       "text": [
        "\n",
        "Action: 0\n",
        "New state: <GridState id: 0, position: (y: 0, x: 0), dim: 5>\n",
        "Reward: 0.0\n",
        "BadExampleMDP. Current state: <GridState id: 0, position: (y: 0, x: 0), dim: 5>\n",
        "Action: 1\n",
        "New state: <GridState id: 3, position: (y: 1, x: -1), dim: 5>\n",
        "Reward: 0.0\n",
        "BadExampleMDP. Current state: <GridState id: 3, position: (y: 1, x: -1), dim: 5>\n",
        "Action: 0\n",
        "New state: <GridState id: 4, position: (y: 2, x: -2), dim: 5>\n",
        "Reward: 0.0\n",
        "BadExampleMDP. Current state: <GridState id: 4, position: (y: 2, x: -2), dim: 5>\n",
        "Action: 0\n",
        "New state: <GridState id: 3, position: (y: 1, x: -1), dim: 5>\n",
        "Reward: 0.0\n",
        "BadExampleMDP. Current state: <GridState id: 3, position: (y: 1, x: -1), dim: 5>\n",
        "Action: 0\n",
        "New state: <GridState id: 4, position: (y: 2, x: -2), dim: 5>\n",
        "Reward: 0.0\n",
        "BadExampleMDP. Current state: <GridState id: 4, position: (y: 2, x: -2), dim: 5>"
       ]
      },
      {
       "output_type": "stream",
       "stream": "stdout",
       "text": [
        "\n",
        "Action: 0\n",
        "New state: <GridState id: 3, position: (y: 1, x: -1), dim: 5>\n",
        "Reward: 0.0\n",
        "BadExampleMDP. Current state: <GridState id: 3, position: (y: 1, x: -1), dim: 5>\n",
        "Action: 0\n",
        "New state: <GridState id: 4, position: (y: 2, x: -2), dim: 5>\n",
        "Reward: 0.0\n",
        "BadExampleMDP. Current state: <GridState id: 4, position: (y: 2, x: -2), dim: 5>\n",
        "********************************************************************************\n",
        "BadExampleMDP. Current state: <GridState id: 0, position: (y: 0, x: 0), dim: 5>\n",
        "Action: 1\n",
        "New state: <GridState id: 3, position: (y: 1, x: -1), dim: 5>\n",
        "Reward: 0.0\n",
        "BadExampleMDP. Current state: <GridState id: 3, position: (y: 1, x: -1), dim: 5>\n",
        "Action: 0\n",
        "New state: <GridState id: 4, position: (y: 2, x: -2), dim: 5>\n",
        "Reward: 0.0\n",
        "BadExampleMDP. Current state: <GridState id: 4, position: (y: 2, x: -2), dim: 5>\n",
        "Action: 0\n",
        "New state: <GridState id: 3, position: (y: 1, x: -1), dim: 5>\n",
        "Reward: 0.0\n",
        "BadExampleMDP. Current state: <GridState id: 3, position: (y: 1, x: -1), dim: 5>"
       ]
      },
      {
       "output_type": "stream",
       "stream": "stdout",
       "text": [
        "\n",
        "Action: 0\n",
        "New state: <GridState id: 4, position: (y: 2, x: -2), dim: 5>\n",
        "Reward: 0.0\n",
        "BadExampleMDP. Current state: <GridState id: 4, position: (y: 2, x: -2), dim: 5>\n",
        "Action: 0\n",
        "New state: <GridState id: 3, position: (y: 1, x: -1), dim: 5>\n",
        "Reward: 0.0\n",
        "BadExampleMDP. Current state: <GridState id: 3, position: (y: 1, x: -1), dim: 5>\n",
        "Action: 0\n",
        "New state: <GridState id: 4, position: (y: 2, x: -2), dim: 5>\n",
        "Reward: 0.0\n",
        "BadExampleMDP. Current state: <GridState id: 4, position: (y: 2, x: -2), dim: 5>\n",
        "Action: 0\n",
        "New state: <GridState id: 3, position: (y: 1, x: -1), dim: 5>\n",
        "Reward: 0.0\n",
        "BadExampleMDP. Current state: <GridState id: 3, position: (y: 1, x: -1), dim: 5>\n",
        "Action: 0\n",
        "New state: <GridState id: 4, position: (y: 2, x: -2), dim: 5>\n",
        "Reward: 0.0\n",
        "BadExampleMDP. Current state: <GridState id: 4, position: (y: 2, x: -2), dim: 5>"
       ]
      },
      {
       "output_type": "stream",
       "stream": "stdout",
       "text": [
        "\n",
        "Action: 0\n",
        "New state: <GridState id: 3, position: (y: 1, x: -1), dim: 5>\n",
        "Reward: 0.0\n",
        "BadExampleMDP. Current state: <GridState id: 3, position: (y: 1, x: -1), dim: 5>\n",
        "Action: 0\n",
        "New state: <GridState id: 4, position: (y: 2, x: -2), dim: 5>\n",
        "Reward: 0.0\n",
        "BadExampleMDP. Current state: <GridState id: 4, position: (y: 2, x: -2), dim: 5>\n",
        "********************************************************************************\n",
        "BadExampleMDP. Current state: <GridState id: 0, position: (y: 0, x: 0), dim: 5>\n",
        "Action: 1\n",
        "New state: <GridState id: 3, position: (y: 1, x: -1), dim: 5>\n",
        "Reward: 0.0\n",
        "BadExampleMDP. Current state: <GridState id: 3, position: (y: 1, x: -1), dim: 5>\n",
        "Action: 0\n",
        "New state: <GridState id: 4, position: (y: 2, x: -2), dim: 5>\n",
        "Reward: 0.0\n",
        "BadExampleMDP. Current state: <GridState id: 4, position: (y: 2, x: -2), dim: 5>\n",
        "Action: 0\n",
        "New state: <GridState id: 3, position: (y: 1, x: -1), dim: 5>\n",
        "Reward: 0.0\n",
        "BadExampleMDP. Current state: <GridState id: 3, position: (y: 1, x: -1), dim: 5>"
       ]
      },
      {
       "output_type": "stream",
       "stream": "stdout",
       "text": [
        "\n",
        "Action: 0\n",
        "New state: <GridState id: 4, position: (y: 2, x: -2), dim: 5>\n",
        "Reward: 0.0\n",
        "BadExampleMDP. Current state: <GridState id: 4, position: (y: 2, x: -2), dim: 5>\n",
        "Action: 0\n",
        "New state: <GridState id: 0, position: (y: 0, x: 0), dim: 5>\n",
        "Reward: 0.0\n",
        "BadExampleMDP. Current state: <GridState id: 0, position: (y: 0, x: 0), dim: 5>\n",
        "Action: 1\n",
        "New state: <GridState id: 3, position: (y: 1, x: -1), dim: 5>\n",
        "Reward: 0.0\n",
        "BadExampleMDP. Current state: <GridState id: 3, position: (y: 1, x: -1), dim: 5>\n",
        "Action: 0\n",
        "New state: <GridState id: 4, position: (y: 2, x: -2), dim: 5>\n",
        "Reward: 0.0\n",
        "BadExampleMDP. Current state: <GridState id: 4, position: (y: 2, x: -2), dim: 5>\n",
        "Action: 0\n",
        "New state: <GridState id: 3, position: (y: 1, x: -1), dim: 5>\n",
        "Reward: 0.0\n",
        "BadExampleMDP. Current state: <GridState id: 3, position: (y: 1, x: -1), dim: 5>"
       ]
      },
      {
       "output_type": "stream",
       "stream": "stdout",
       "text": [
        "\n",
        "Action: 0\n",
        "New state: <GridState id: 4, position: (y: 2, x: -2), dim: 5>\n",
        "Reward: 0.0\n",
        "BadExampleMDP. Current state: <GridState id: 4, position: (y: 2, x: -2), dim: 5>\n",
        "Action: 0\n",
        "New state: <GridState id: 3, position: (y: 1, x: -1), dim: 5>\n",
        "Reward: 0.0\n",
        "BadExampleMDP. Current state: <GridState id: 3, position: (y: 1, x: -1), dim: 5>\n",
        "********************************************************************************\n",
        "BadExampleMDP. Current state: <GridState id: 0, position: (y: 0, x: 0), dim: 5>\n",
        "Action: 1\n",
        "New state: <GridState id: 3, position: (y: 1, x: -1), dim: 5>\n",
        "Reward: 0.0\n",
        "BadExampleMDP. Current state: <GridState id: 3, position: (y: 1, x: -1), dim: 5>\n",
        "Action: 0\n",
        "New state: <GridState id: 4, position: (y: 2, x: -2), dim: 5>\n",
        "Reward: 0.0\n",
        "BadExampleMDP. Current state: <GridState id: 4, position: (y: 2, x: -2), dim: 5>\n",
        "Action: 0\n",
        "New state: <GridState id: 3, position: (y: 1, x: -1), dim: 5>\n",
        "Reward: 0.0\n",
        "BadExampleMDP. Current state: <GridState id: 3, position: (y: 1, x: -1), dim: 5>"
       ]
      },
      {
       "output_type": "stream",
       "stream": "stdout",
       "text": [
        "\n",
        "Action: 0\n",
        "New state: <GridState id: 4, position: (y: 2, x: -2), dim: 5>\n",
        "Reward: 0.0\n",
        "BadExampleMDP. Current state: <GridState id: 4, position: (y: 2, x: -2), dim: 5>\n",
        "Action: 0\n",
        "New state: <GridState id: 3, position: (y: 1, x: -1), dim: 5>\n",
        "Reward: 0.0\n",
        "BadExampleMDP. Current state: <GridState id: 3, position: (y: 1, x: -1), dim: 5>\n",
        "Action: 0\n",
        "New state: <GridState id: 4, position: (y: 2, x: -2), dim: 5>\n",
        "Reward: 0.0\n",
        "BadExampleMDP. Current state: <GridState id: 4, position: (y: 2, x: -2), dim: 5>\n",
        "Action: 0\n",
        "New state: <GridState id: 3, position: (y: 1, x: -1), dim: 5>\n",
        "Reward: 0.0\n",
        "BadExampleMDP. Current state: <GridState id: 3, position: (y: 1, x: -1), dim: 5>\n",
        "Action: 0\n",
        "New state: <GridState id: 4, position: (y: 2, x: -2), dim: 5>\n",
        "Reward: 0.0\n",
        "BadExampleMDP. Current state: <GridState id: 4, position: (y: 2, x: -2), dim: 5>"
       ]
      },
      {
       "output_type": "stream",
       "stream": "stdout",
       "text": [
        "\n",
        "Action: 0\n",
        "New state: <GridState id: 3, position: (y: 1, x: -1), dim: 5>\n",
        "Reward: 0.0\n",
        "BadExampleMDP. Current state: <GridState id: 3, position: (y: 1, x: -1), dim: 5>\n",
        "Action: 0\n",
        "New state: <GridState id: 4, position: (y: 2, x: -2), dim: 5>\n",
        "Reward: 0.0\n",
        "BadExampleMDP. Current state: <GridState id: 4, position: (y: 2, x: -2), dim: 5>\n",
        "********************************************************************************\n",
        "BadExampleMDP. Current state: <GridState id: 0, position: (y: 0, x: 0), dim: 5>\n",
        "Action: 1\n",
        "New state: <GridState id: 3, position: (y: 1, x: -1), dim: 5>\n",
        "Reward: 0.0\n",
        "BadExampleMDP. Current state: <GridState id: 3, position: (y: 1, x: -1), dim: 5>\n",
        "Action: 0\n",
        "New state: <GridState id: 4, position: (y: 2, x: -2), dim: 5>\n",
        "Reward: 0.0\n",
        "BadExampleMDP. Current state: <GridState id: 4, position: (y: 2, x: -2), dim: 5>\n",
        "Action: 0\n",
        "New state: <GridState id: 3, position: (y: 1, x: -1), dim: 5>\n",
        "Reward: 0.0\n",
        "BadExampleMDP. Current state: <GridState id: 3, position: (y: 1, x: -1), dim: 5>"
       ]
      },
      {
       "output_type": "stream",
       "stream": "stdout",
       "text": [
        "\n",
        "Action: 0\n",
        "New state: <GridState id: 4, position: (y: 2, x: -2), dim: 5>\n",
        "Reward: 0.0\n",
        "BadExampleMDP. Current state: <GridState id: 4, position: (y: 2, x: -2), dim: 5>\n",
        "Action: 0\n",
        "New state: <GridState id: 3, position: (y: 1, x: -1), dim: 5>\n",
        "Reward: 0.0\n",
        "BadExampleMDP. Current state: <GridState id: 3, position: (y: 1, x: -1), dim: 5>\n",
        "Action: 0\n",
        "New state: <GridState id: 4, position: (y: 2, x: -2), dim: 5>\n",
        "Reward: 0.0\n",
        "BadExampleMDP. Current state: <GridState id: 4, position: (y: 2, x: -2), dim: 5>\n",
        "Action: 0\n",
        "New state: <GridState id: 3, position: (y: 1, x: -1), dim: 5>\n",
        "Reward: 0.0\n",
        "BadExampleMDP. Current state: <GridState id: 3, position: (y: 1, x: -1), dim: 5>\n",
        "Action: 0\n",
        "New state: <GridState id: 0, position: (y: 0, x: 0), dim: 5>\n",
        "Reward: 0.0\n",
        "BadExampleMDP. Current state: <GridState id: 0, position: (y: 0, x: 0), dim: 5>"
       ]
      },
      {
       "output_type": "stream",
       "stream": "stdout",
       "text": [
        "\n",
        "Action: 1\n",
        "New state: <GridState id: 3, position: (y: 1, x: -1), dim: 5>\n",
        "Reward: 0.0\n",
        "BadExampleMDP. Current state: <GridState id: 3, position: (y: 1, x: -1), dim: 5>\n",
        "Action: 0\n",
        "New state: <GridState id: 4, position: (y: 2, x: -2), dim: 5>\n",
        "Reward: 0.0\n",
        "BadExampleMDP. Current state: <GridState id: 4, position: (y: 2, x: -2), dim: 5>\n",
        "********************************************************************************\n",
        "BadExampleMDP. Current state: <GridState id: 0, position: (y: 0, x: 0), dim: 5>\n",
        "Action: 1\n",
        "New state: <GridState id: 3, position: (y: 1, x: -1), dim: 5>\n",
        "Reward: 0.0\n",
        "BadExampleMDP. Current state: <GridState id: 3, position: (y: 1, x: -1), dim: 5>\n",
        "Action: 0\n",
        "New state: <GridState id: 4, position: (y: 2, x: -2), dim: 5>\n",
        "Reward: 0.0\n",
        "BadExampleMDP. Current state: <GridState id: 4, position: (y: 2, x: -2), dim: 5>\n",
        "Action: 0\n",
        "New state: <GridState id: 3, position: (y: 1, x: -1), dim: 5>\n",
        "Reward: 0.0\n",
        "BadExampleMDP. Current state: <GridState id: 3, position: (y: 1, x: -1), dim: 5>"
       ]
      },
      {
       "output_type": "stream",
       "stream": "stdout",
       "text": [
        "\n",
        "Action: 0\n",
        "New state: <GridState id: 4, position: (y: 2, x: -2), dim: 5>\n",
        "Reward: 0.0\n",
        "BadExampleMDP. Current state: <GridState id: 4, position: (y: 2, x: -2), dim: 5>\n",
        "Action: 0\n",
        "New state: <GridState id: 0, position: (y: 0, x: 0), dim: 5>\n",
        "Reward: 0.0\n",
        "BadExampleMDP. Current state: <GridState id: 0, position: (y: 0, x: 0), dim: 5>\n",
        "Action: 1\n",
        "New state: <GridState id: 3, position: (y: 1, x: -1), dim: 5>\n",
        "Reward: 0.0\n",
        "BadExampleMDP. Current state: <GridState id: 3, position: (y: 1, x: -1), dim: 5>\n",
        "Action: 0\n",
        "New state: <GridState id: 4, position: (y: 2, x: -2), dim: 5>\n",
        "Reward: 0.0\n",
        "BadExampleMDP. Current state: <GridState id: 4, position: (y: 2, x: -2), dim: 5>\n",
        "Action: 0\n",
        "New state: <GridState id: 0, position: (y: 0, x: 0), dim: 5>\n",
        "Reward: 0.0\n",
        "BadExampleMDP. Current state: <GridState id: 0, position: (y: 0, x: 0), dim: 5>"
       ]
      },
      {
       "output_type": "stream",
       "stream": "stdout",
       "text": [
        "\n",
        "Action: 1\n",
        "New state: <GridState id: 3, position: (y: 1, x: -1), dim: 5>\n",
        "Reward: 0.0\n",
        "BadExampleMDP. Current state: <GridState id: 3, position: (y: 1, x: -1), dim: 5>\n",
        "Action: 0\n",
        "New state: <GridState id: 4, position: (y: 2, x: -2), dim: 5>\n",
        "Reward: 0.0\n",
        "BadExampleMDP. Current state: <GridState id: 4, position: (y: 2, x: -2), dim: 5>\n"
       ]
      }
     ],
     "prompt_number": 5
    },
    {
     "cell_type": "code",
     "collapsed": false,
     "input": [
      "for state in mdp.states:\n",
      "    print agent.action_distribution(state)\n",
      "\n",
      "print agent.theta"
     ],
     "language": "python",
     "metadata": {},
     "outputs": [
      {
       "output_type": "stream",
       "stream": "stdout",
       "text": [
        "[ 0.02736604  0.97263396]\n",
        "[ 0.78399901  0.21600099]\n",
        "[ 0.99786884  0.00213116]\n",
        "[  9.99278681e-01   7.21319094e-04]\n",
        "[  9.99999985e-01   1.46603440e-08]\n",
        "[ 3.74147642 -1.31156159 -1.81027535 -4.09064456  1.66072972  1.76042957]\n"
       ]
      }
     ],
     "prompt_number": 6
    },
    {
     "cell_type": "code",
     "collapsed": false,
     "input": [
      "\n",
      "import matplotlib.pyplot as plt\n",
      "from spectral_dagger.utils.matplotlib import ABLine2D\n",
      "\n",
      "fig = plt.figure()\n",
      "ax = fig.add_subplot(111, autoscale_on=False)\n",
      "\n",
      "border = 0.3\n",
      "x_pos = [p[0] for p in mdp.state_positions]\n",
      "y_pos = [p[1] for p in mdp.state_positions]\n",
      "\n",
      "xlim = (min(x_pos)-border, max(x_pos)+border)\n",
      "ylim = (min(y_pos)-border, max(y_pos)+border)\n",
      "\n",
      "ax.set_xlim(*xlim)\n",
      "ax.set_ylim(*ylim)\n",
      "\n",
      "x = np.linspace(*xlim, num=20)\n",
      "y = np.linspace(*ylim, num=20)\n",
      "mesh = map(lambda x: x.flatten(), np.meshgrid(x, y))\n",
      "\n",
      "# Plot the states of the mdp\n",
      "m = [a.name for a in mdp.actions]\n",
      "colors = [\n",
      "    m[max(range(mdp.n_actions), key=lambda i: agent.action_distribution(np.array([xp, yp]))[i])]\n",
      "    for xp, yp in zip(*mesh)]\n",
      "\n",
      "plt.scatter(mesh[0], mesh[1], c=colors, alpha=0.3)\n",
      "\n",
      "exp_mapping = []\n",
      "for s in mdp.states:\n",
      "    expert.reset(s)\n",
      "    exp_mapping.append(expert.get_action())\n",
      "\n",
      "x, y = zip(*[s.position for s in mdp.states])\n",
      "plt.scatter(x, y, s=np.pi*10**2, c=[a.name for a in exp_mapping])\n",
      "\n",
      "# Plot lines representing policies\n",
      "if hasattr(p, 'classifier'):\n",
      "    ax.add_line(ABLine2D(\n",
      "        p.classifier.intercept_, p.classifier.coef_[0],\n",
      "        color=str(0.5 * (1 - float(i)/len(policies)))))"
     ],
     "language": "python",
     "metadata": {},
     "outputs": [],
     "prompt_number": 7
    },
    {
     "cell_type": "code",
     "collapsed": false,
     "input": [],
     "language": "python",
     "metadata": {},
     "outputs": [],
     "prompt_number": 7
    },
    {
     "cell_type": "code",
     "collapsed": false,
     "input": [],
     "language": "python",
     "metadata": {},
     "outputs": [],
     "prompt_number": 49
    },
    {
     "cell_type": "code",
     "collapsed": false,
     "input": [],
     "language": "python",
     "metadata": {},
     "outputs": [],
     "prompt_number": 49
    },
    {
     "cell_type": "code",
     "collapsed": false,
     "input": [],
     "language": "python",
     "metadata": {},
     "outputs": []
    }
   ],
   "metadata": {}
  }
 ]
}