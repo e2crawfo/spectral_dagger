{
 "cells": [
  {
   "cell_type": "code",
   "execution_count": 8,
   "metadata": {
    "collapsed": true
   },
   "outputs": [],
   "source": [
    "import numpy as np\n",
    "import pandas as pd\n",
    "import matplotlib.pyplot as plt\n",
    "from sklearn.utils.extmath import randomized_svd\n",
    "\n",
    "from spectral_dagger.spectral.hankel import single_obs_basis, top_k_basis\n",
    "from spectral_dagger.utils.math import normalize\n",
    "from spectral_dagger.hmm import HMM\n",
    "from spectral_dagger.spectral import SpectralPSR\n",
    "from spectral_dagger.spectral import hankel\n",
    "from spectral_dagger.envs import EgoGridWorld"
   ]
  },
  {
   "cell_type": "code",
   "execution_count": 9,
   "metadata": {
    "collapsed": false
   },
   "outputs": [
    {
     "name": "stdout",
     "output_type": "stream",
     "text": [
      "47\n",
      "16\n",
      "[8, 0, 0, 0, 8, 0, 0, 4, 6, 0]\n"
     ]
    }
   ],
   "source": [
    "world = np.array([\n",
    "    ['x', 'x', 'x', 'x', 'x', 'x', 'x', 'x', 'x', 'x', 'x', 'x', 'x'],\n",
    "    ['x', ' ', ' ', ' ', ' ', ' ', ' ', ' ', 'x', ' ', ' ', ' ', 'x'],\n",
    "    ['x', ' ', 'G', 'x', ' ', ' ', ' ', ' ', ' ', ' ', ' ', ' ', 'x'],\n",
    "    ['x', ' ', ' ', 'x', ' ', ' ', ' ', ' ', ' ', 'x', 'x', 'x', 'x'],\n",
    "    ['x', ' ', ' ', 'x', 'S', ' ', ' ', ' ', ' ', ' ', ' ', ' ', 'x'],\n",
    "    ['x', ' ', ' ', ' ', ' ', ' ', ' ', ' ', 'x', ' ', ' ', ' ', 'x'],\n",
    "    ['x', 'x', 'x', 'x', 'x', 'x', 'x', 'x', 'x', 'x', 'x', 'x', 'x']]\n",
    ")\n",
    "\n",
    "n_colors = 1\n",
    "\n",
    "env = EgoGridWorld(n_colors, world, noise=0.2)\n",
    "\n",
    "# open loop policy\n",
    "action_dist = normalize(np.ones(env.n_actions), ord=1)\n",
    "\n",
    "T = np.tensordot(env.T, action_dist, ((0,), (0,)))\n",
    "O = env.O[0, :, :]\n",
    "O.squeeze()\n",
    "\n",
    "init_dist = env.init_dist.copy()\n",
    "\n",
    "n_states = T.shape[0]\n",
    "n_obs = O.shape[1]\n",
    "\n",
    "print n_states\n",
    "print n_obs\n",
    "\n",
    "observations = range(n_obs)\n",
    "states = range(n_states)\n",
    "\n",
    "hmm = HMM(observations, states, T, O, init_dist)\n",
    "\n",
    "data_seed = np.random.randint(10000)\n",
    "np.random.seed(data_seed)\n",
    "print(hmm.sample_trajectory(10))\n",
    "\n",
    "horizon = 5\n",
    "n_samples = 1000\n",
    "basis_max_length = 4\n",
    "#dimension_seq = range(int(n_states/2.0), 2*n_states+1)\n",
    "dimension_seq = range(20,40)"
   ]
  },
  {
   "cell_type": "code",
   "execution_count": 10,
   "metadata": {
    "collapsed": true
   },
   "outputs": [],
   "source": [
    "def perplexity_score(psr, testing_data):\n",
    "    return psr.get_perplexity(testing_data, base=2)\n",
    "\n",
    "def fit_estimated_svd(\n",
    "        hmm, training_data, dimension, estimator, basis_max_length):\n",
    "    \n",
    "    if estimator == 'single':\n",
    "        basis = single_obs_basis(hmm.observations, True)\n",
    "        estimator = 'substring'\n",
    "    else:\n",
    "        basis = top_k_basis(training_data, np.inf, estimator, basis_max_length)\n",
    "\n",
    "    psr = SpectralPSR(hmm.observations)\n",
    "    psr.fit(training_data, dimension, estimator, basis=basis)\n",
    "    \n",
    "    return psr\n",
    "    \n",
    "def fit_true_svd(\n",
    "        hmm, training_data, dimension, estimator, basis_max_length):\n",
    "    \n",
    "    if estimator == 'single':\n",
    "        basis = single_obs_basis(hmm.observations, True)\n",
    "        estimator = 'substring'\n",
    "    else:\n",
    "        basis = top_k_basis(training_data, np.inf, estimator, basis_max_length)\n",
    "\n",
    "    psr = SpectralPSR(hmm.observations)\n",
    "    psr.fit(training_data, dimension, estimator, basis=basis)\n",
    "\n",
    "    true_hankel = hankel.true_hankel_for_hmm(hmm, basis, horizon, estimator)\n",
    "\n",
    "    n_oversamples = 10\n",
    "    n_iter = 5\n",
    "\n",
    "    svd = randomized_svd(true_hankel, dimension, n_oversamples, n_iter)\n",
    "    psr.fit(training_data, dimension, estimator, basis=basis, svd=svd)\n",
    "    \n",
    "    return psr\n",
    "\n",
    "\n",
    "def scan_n_states(\n",
    "        training_data, testing_data, hmm, dimension_seq,\n",
    "        estimator, basis_max_length, score_func, fit_func):\n",
    "    \n",
    "    results = []\n",
    "    \n",
    "    for dim in dimension_seq:\n",
    "        psr = fit_func(hmm, training_data, dim, estimator, basis_max_length)\n",
    "        score = score_func(psr, testing_data)\n",
    "        \n",
    "        results.append((psr, dim, score))\n",
    "    \n",
    "    return min(results, key=lambda x: x[2])\n"
   ]
  },
  {
   "cell_type": "code",
   "execution_count": 11,
   "metadata": {
    "collapsed": false,
    "scrolled": true
   },
   "outputs": [
    {
     "ename": "UnboundLocalError",
     "evalue": "local variable 'e' referenced before assignment",
     "output_type": "error",
     "traceback": [
      "\u001b[1;31m---------------------------------------------------------------------------\u001b[0m",
      "\u001b[1;31mUnboundLocalError\u001b[0m                         Traceback (most recent call last)",
      "\u001b[1;32m<ipython-input-11-243d5b96b2fc>\u001b[0m in \u001b[0;36m<module>\u001b[1;34m()\u001b[0m\n\u001b[0;32m      6\u001b[0m     model, n, perplexity = scan_n_states(\n\u001b[0;32m      7\u001b[0m         \u001b[0mtraining_samples\u001b[0m\u001b[1;33m,\u001b[0m \u001b[0mtesting_samples\u001b[0m\u001b[1;33m,\u001b[0m \u001b[0mhmm\u001b[0m\u001b[1;33m,\u001b[0m \u001b[0mdimension_seq\u001b[0m\u001b[1;33m,\u001b[0m\u001b[1;33m\u001b[0m\u001b[0m\n\u001b[1;32m----> 8\u001b[1;33m         e, basis_max_length, perplexity_score, fit_estimated_svd)\n\u001b[0m\u001b[0;32m      9\u001b[0m \u001b[1;33m\u001b[0m\u001b[0m\n\u001b[0;32m     10\u001b[0m     \u001b[1;32mprint\u001b[0m \u001b[1;34m\"^\"\u001b[0m \u001b[1;33m*\u001b[0m \u001b[1;36m40\u001b[0m\u001b[1;33m\u001b[0m\u001b[0m\n",
      "\u001b[1;32m<ipython-input-10-e420dce2331a>\u001b[0m in \u001b[0;36mscan_n_states\u001b[1;34m(training_data, testing_data, hmm, dimension_seq, estimator, basis_max_length, score_func, fit_func)\u001b[0m\n\u001b[0;32m     46\u001b[0m \u001b[1;33m\u001b[0m\u001b[0m\n\u001b[0;32m     47\u001b[0m     \u001b[1;32mfor\u001b[0m \u001b[0mdim\u001b[0m \u001b[1;32min\u001b[0m \u001b[0mdimension_seq\u001b[0m\u001b[1;33m:\u001b[0m\u001b[1;33m\u001b[0m\u001b[0m\n\u001b[1;32m---> 48\u001b[1;33m         \u001b[0mpsr\u001b[0m \u001b[1;33m=\u001b[0m \u001b[0mfit_func\u001b[0m\u001b[1;33m(\u001b[0m\u001b[0mhmm\u001b[0m\u001b[1;33m,\u001b[0m \u001b[0mtraining_data\u001b[0m\u001b[1;33m,\u001b[0m \u001b[0mdim\u001b[0m\u001b[1;33m,\u001b[0m \u001b[0mestimator\u001b[0m\u001b[1;33m,\u001b[0m \u001b[0mbasis_max_length\u001b[0m\u001b[1;33m)\u001b[0m\u001b[1;33m\u001b[0m\u001b[0m\n\u001b[0m\u001b[0;32m     49\u001b[0m         \u001b[0mscore\u001b[0m \u001b[1;33m=\u001b[0m \u001b[0mscore_func\u001b[0m\u001b[1;33m(\u001b[0m\u001b[0mpsr\u001b[0m\u001b[1;33m,\u001b[0m \u001b[0mtesting_data\u001b[0m\u001b[1;33m)\u001b[0m\u001b[1;33m\u001b[0m\u001b[0m\n\u001b[0;32m     50\u001b[0m \u001b[1;33m\u001b[0m\u001b[0m\n",
      "\u001b[1;32m<ipython-input-10-e420dce2331a>\u001b[0m in \u001b[0;36mfit_estimated_svd\u001b[1;34m(hmm, training_data, dimension, estimator, basis_max_length)\u001b[0m\n\u001b[0;32m      5\u001b[0m         hmm, training_data, dimension, estimator, basis_max_length):\n\u001b[0;32m      6\u001b[0m \u001b[1;33m\u001b[0m\u001b[0m\n\u001b[1;32m----> 7\u001b[1;33m     \u001b[1;32mif\u001b[0m \u001b[0me\u001b[0m \u001b[1;33m==\u001b[0m \u001b[1;34m'single'\u001b[0m\u001b[1;33m:\u001b[0m\u001b[1;33m\u001b[0m\u001b[0m\n\u001b[0m\u001b[0;32m      8\u001b[0m         \u001b[0mbasis\u001b[0m \u001b[1;33m=\u001b[0m \u001b[0msingle_obs_basis\u001b[0m\u001b[1;33m(\u001b[0m\u001b[0mhmm\u001b[0m\u001b[1;33m.\u001b[0m\u001b[0mobservations\u001b[0m\u001b[1;33m,\u001b[0m \u001b[0mTrue\u001b[0m\u001b[1;33m)\u001b[0m\u001b[1;33m\u001b[0m\u001b[0m\n\u001b[0;32m      9\u001b[0m         \u001b[0me\u001b[0m \u001b[1;33m=\u001b[0m \u001b[1;34m'substring'\u001b[0m\u001b[1;33m\u001b[0m\u001b[0m\n",
      "\u001b[1;31mUnboundLocalError\u001b[0m: local variable 'e' referenced before assignment"
     ]
    }
   ],
   "source": [
    "training_samples = [hmm.sample_trajectory(horizon) for i in range(n_samples)]\n",
    "testing_samples = [hmm.sample_trajectory(horizon) for i in range(10)]\n",
    "\n",
    "# Do vanilla spectral learning\n",
    "for e in ['string', 'prefix', 'substring', 'single']:\n",
    "    model, n, perplexity = scan_n_states(\n",
    "        training_samples, testing_samples, hmm, dimension_seq, \n",
    "        e, basis_max_length, perplexity_score, fit_estimated_svd)\n",
    "    \n",
    "    print \"^\" * 40\n",
    "    print \"Estimated SVD with estimator %s\" % e\n",
    "    print \"Dimension: \", n\n",
    "    print \"Perplexity: \", perplexity\n",
    "    print \"^\" * 40\n",
    "    \n",
    "# Do spectral learning with true U, S, V\n",
    "for e in ['string', 'prefix', 'substring', 'single']:\n",
    "    model, n, perplexity = scan_n_states(\n",
    "        training_samples, testing_samples, hmm, dimension_seq, \n",
    "        e, basis_max_length, perplexity_score, fit_true_svd)\n",
    "    \n",
    "    print \"@\" * 40\n",
    "    print \"True SVD with estimator %s\" % e\n",
    "    print \"Dimension: \", n\n",
    "    print \"Perplexity: \", perplexity\n",
    "    print \"@\" * 40"
   ]
  },
  {
   "cell_type": "code",
   "execution_count": null,
   "metadata": {
    "collapsed": true
   },
   "outputs": [],
   "source": []
  }
 ],
 "metadata": {
  "kernelspec": {
   "display_name": "Python 2",
   "language": "python",
   "name": "python2"
  },
  "language_info": {
   "codemirror_mode": {
    "name": "ipython",
    "version": 2
   },
   "file_extension": ".py",
   "mimetype": "text/x-python",
   "name": "python",
   "nbconvert_exporter": "python",
   "pygments_lexer": "ipython2",
   "version": "2.7.9"
  }
 },
 "nbformat": 4,
 "nbformat_minor": 0
}
