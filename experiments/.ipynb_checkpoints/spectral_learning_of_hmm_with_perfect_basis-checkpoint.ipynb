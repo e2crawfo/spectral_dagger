{
 "cells": [
  {
   "cell_type": "code",
   "execution_count": 328,
   "metadata": {
    "collapsed": true
   },
   "outputs": [],
   "source": [
    "import numpy as np\n",
    "import pandas as pd\n",
    "import matplotlib.pyplot as plt\n",
    "from sklearn.utils.extmath import randomized_svd\n",
    "\n",
    "from spectral_dagger.spectral.hankel import single_obs_basis, top_k_basis\n",
    "from spectral_dagger.utils.math import normalize\n",
    "from spectral_dagger.hmm import HMM\n",
    "from spectral_dagger.spectral import SpectralPSR\n",
    "from spectral_dagger.spectral import hankel"
   ]
  },
  {
   "cell_type": "code",
   "execution_count": 329,
   "metadata": {
    "collapsed": false
   },
   "outputs": [
    {
     "name": "stdout",
     "output_type": "stream",
     "text": [
      "[6, 9, 3, 6, 1, 3, 2, 5, 3, 1]\n"
     ]
    }
   ],
   "source": [
    "model_seed = 1\n",
    "data_seed = np.random.randint(10000)\n",
    "np.random.seed(model_seed)\n",
    "\n",
    "n_states = 5\n",
    "n_obs = 10\n",
    "\n",
    "observations = range(n_obs)\n",
    "states = range(n_states)\n",
    "\n",
    "O = np.random.binomial(1, 0.5, (n_states, n_obs))\n",
    "for row in O:\n",
    "    if sum(row) == 0:\n",
    "        row[:] = 1.0\n",
    "\n",
    "O = normalize(O, ord=1, conservative=True)\n",
    "\n",
    "T = np.random.binomial(1, 0.5, (n_states, n_states))\n",
    "for row in T:\n",
    "    if sum(row) == 0:\n",
    "        row[:] = 1.0\n",
    "\n",
    "T = normalize(T, ord=1, conservative=True)\n",
    "\n",
    "init_dist = normalize(np.ones(n_states), ord=1, conservative=True)\n",
    "\n",
    "hmm = HMM(observations, states, T, O, init_dist)\n",
    "\n",
    "np.random.seed(data_seed)\n",
    "print(hmm.sample_trajectory(10))\n",
    "\n",
    "horizon = 3\n",
    "results = []\n",
    "\n",
    "estimator = 'string'\n",
    "n_samples = 1000\n",
    "m = n_states"
   ]
  },
  {
   "cell_type": "code",
   "execution_count": 330,
   "metadata": {
    "collapsed": true
   },
   "outputs": [],
   "source": [
    "samples = [hmm.sample_trajectory(horizon) for i in range(n_samples)]\n",
    "test_samples = [hmm.sample_trajectory(horizon) for i in range(1000)]"
   ]
  },
  {
   "cell_type": "code",
   "execution_count": 331,
   "metadata": {
    "collapsed": false
   },
   "outputs": [
    {
     "name": "stdout",
     "output_type": "stream",
     "text": [
      "********************************************************************************\n",
      "Estimated SVD with estimator string\n",
      "Estimating Hankels...\n",
      "Performing SVD...\n",
      "Computing operators...\n",
      "$$$$$$$$$$$$$$$$$$$$$$$$$$$$$$$$$$$$$$$$$$$$$$$$$$$$$$$$$$$$$$$$$$$$$$$$$$$$$$$$\n",
      "n_samples:  1000\n",
      "Perplexity:  519.591397864\n",
      "********************************************************************************\n",
      "Estimated SVD with estimator prefix\n",
      "Estimating Hankels...\n",
      "Performing SVD...\n",
      "Computing operators...\n",
      "$$$$$$$$$$$$$$$$$$$$$$$$$$$$$$$$$$$$$$$$$$$$$$$$$$$$$$$$$$$$$$$$$$$$$$$$$$$$$$$$\n",
      "n_samples:  1000\n",
      "Perplexity:  720.698157343\n",
      "********************************************************************************\n",
      "Estimated SVD with estimator substring\n",
      "Estimating Hankels...\n",
      "Performing SVD...\n",
      "Computing operators...\n",
      "$$$$$$$$$$$$$$$$$$$$$$$$$$$$$$$$$$$$$$$$$$$$$$$$$$$$$$$$$$$$$$$$$$$$$$$$$$$$$$$$\n",
      "n_samples:  1000\n",
      "Perplexity:  1083.1335502\n",
      "********************************************************************************\n",
      "Estimated SVD with estimator single\n",
      "Estimating Hankels...\n",
      "Performing SVD...\n",
      "Computing operators...\n",
      "$$$$$$$$$$$$$$$$$$$$$$$$$$$$$$$$$$$$$$$$$$$$$$$$$$$$$$$$$$$$$$$$$$$$$$$$$$$$$$$$\n",
      "n_samples:  1000\n",
      "Perplexity:  2197.15261716\n"
     ]
    }
   ],
   "source": [
    "# Do the usual technique\n",
    "for e in ['string', 'prefix', 'substring', 'single']:\n",
    "    print \"*\" * 80\n",
    "    print \"Estimated SVD with estimator %s\" % e\n",
    "    \n",
    "    if e == 'single':\n",
    "        basis = single_obs_basis(hmm.observations, True)\n",
    "        e = 'substring'\n",
    "    else:\n",
    "        basis = top_k_basis(samples, np.inf, e)\n",
    "\n",
    "    psr = SpectralPSR(hmm.observations)\n",
    "    psr.fit(samples, m, e, basis=basis)\n",
    "\n",
    "    llh = psr.get_log_likelihood(test_samples, base=2)\n",
    "    print \"$\" * 80\n",
    "    print \"n_samples: \", n_samples\n",
    "    perplexity = 2**(-llh)\n",
    "    print \"Perplexity: \", perplexity"
   ]
  },
  {
   "cell_type": "code",
   "execution_count": 332,
   "metadata": {
    "collapsed": false
   },
   "outputs": [
    {
     "name": "stdout",
     "output_type": "stream",
     "text": [
      "********************************************************************************\n",
      "True SVD with estimator string\n",
      "Estimating Hankels...\n",
      "Computing operators...\n",
      "$$$$$$$$$$$$$$$$$$$$$$$$$$$$$$$$$$$$$$$$$$$$$$$$$$$$$$$$$$$$$$$$$$$$$$$$$$$$$$$$\n",
      "n_samples:  1000\n",
      "Perplexity:  nan\n",
      "********************************************************************************\n",
      "True SVD with estimator prefix\n",
      "Estimating Hankels...\n",
      "Computing operators...\n",
      "$$$$$$$$$$$$$$$$$$$$$$$$$$$$$$$$$$$$$$$$$$$$$$$$$$$$$$$$$$$$$$$$$$$$$$$$$$$$$$$$\n",
      "n_samples:  1000\n",
      "Perplexity:  nan\n",
      "********************************************************************************\n",
      "True SVD with estimator substring\n",
      "Estimating Hankels...\n",
      "Computing operators...\n",
      "$$$$$$$$$$$$$$$$$$$$$$$$$$$$$$$$$$$$$$$$$$$$$$$$$$$$$$$$$$$$$$$$$$$$$$$$$$$$$$$$\n",
      "n_samples:  1000\n",
      "Perplexity:  nan\n",
      "********************************************************************************\n",
      "True SVD with estimator single\n",
      "Estimating Hankels...\n",
      "Computing operators...\n",
      "$$$$$$$$$$$$$$$$$$$$$$$$$$$$$$$$$$$$$$$$$$$$$$$$$$$$$$$$$$$$$$$$$$$$$$$$$$$$$$$$\n",
      "n_samples:  1000\n",
      "Perplexity:  nan\n"
     ]
    }
   ],
   "source": [
    "# Do spectral learning with true U, S, V\n",
    "for e in ['string', 'prefix', 'substring', 'single']:\n",
    "    print \"*\" * 80\n",
    "    print \"True SVD with estimator %s\" % e\n",
    "        \n",
    "    if e == 'single':\n",
    "        basis = single_obs_basis(hmm.observations, True)\n",
    "        e = 'substring'\n",
    "    else:\n",
    "        basis = top_k_basis(samples, np.inf, e)\n",
    "\n",
    "    psr = SpectralPSR(hmm.observations)\n",
    "\n",
    "    true_hankel = hankel.true_hankel_for_hmm(hmm, basis, horizon, e)\n",
    "\n",
    "    n_oversamples = 10\n",
    "    n_iter = 5\n",
    "    max_dim = 80\n",
    "\n",
    "    svd = randomized_svd(true_hankel, max_dim, n_oversamples, n_iter)\n",
    "    psr.fit(samples, m, e, basis=basis, svd=svd)\n",
    "\n",
    "    llh = psr.get_log_likelihood(test_samples, base=2)\n",
    "    print \"$\" * 80\n",
    "    print \"n_samples: \", n_samples\n",
    "    perplexity = 2**(-llh)\n",
    "    print \"Perplexity: \", perplexity\n",
    "\n",
    "# prefix_dict, suffix_dict = basis\n",
    "# print \"Estimating Hankels...\"\n",
    "# if estimator == 'string':\n",
    "#     hankels = hankel.construct_string_hankel(\n",
    "#         samples, prefix_dict, suffix_dict, hmm.observations)\n",
    "\n",
    "# elif estimator == 'prefix':\n",
    "#     hankels = hankel.construct_prefix_hankel(\n",
    "#         samples, prefix_dict, suffix_dict, hmm.observations)\n",
    "\n",
    "# elif estimator == 'substring':\n",
    "#     hankels = hankel.construct_substring_hankel(\n",
    "#         samples, prefix_dict, suffix_dict, hmm.observations)\n",
    "\n",
    "# else:\n",
    "#     raise ValueError(\"Unknown Hankel estimator name: %s.\" % estimator)\n",
    "\n",
    "# # Note: all hankels are scipy csr matrices\n",
    "# hp, hs, hankel_matrix, symbol_hankels = hankels\n",
    "\n",
    "# print \"Estimated Hankel\"\n",
    "# print(hankel_matrix)"
   ]
  },
  {
   "cell_type": "code",
   "execution_count": null,
   "metadata": {
    "collapsed": true
   },
   "outputs": [],
   "source": []
  },
  {
   "cell_type": "code",
   "execution_count": null,
   "metadata": {
    "collapsed": true
   },
   "outputs": [],
   "source": []
  },
  {
   "cell_type": "code",
   "execution_count": null,
   "metadata": {
    "collapsed": true
   },
   "outputs": [],
   "source": []
  }
 ],
 "metadata": {
  "kernelspec": {
   "display_name": "Python 2",
   "language": "python",
   "name": "python2"
  },
  "language_info": {
   "codemirror_mode": {
    "name": "ipython",
    "version": 2
   },
   "file_extension": ".py",
   "mimetype": "text/x-python",
   "name": "python",
   "nbconvert_exporter": "python",
   "pygments_lexer": "ipython2",
   "version": "2.7.9"
  }
 },
 "nbformat": 4,
 "nbformat_minor": 0
}
