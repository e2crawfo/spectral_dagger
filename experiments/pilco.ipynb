{
 "metadata": {
  "name": "",
  "signature": "sha256:03df29aa3e823f3e991ce4b185fd4e6f0b5c9bf597498df57244eedb4930f86f"
 },
 "nbformat": 3,
 "nbformat_minor": 0,
 "worksheets": [
  {
   "cells": [
    {
     "cell_type": "code",
     "collapsed": false,
     "input": [
      "import numpy as np\n",
      "from collections import defaultdict\n",
      "\n",
      "from spectral_dagger.utils import try_loading_ndarray\n",
      "from spectral_dagger.utils.math import p_sequence\n",
      "from spectral_dagger.mdp import REINFORCE\n",
      "from spectral_dagger.mdp import LinearGibbsPolicy\n",
      "from spectral_dagger.envs import rlpyEnv\n",
      "from spectral_dagger.function_approximation import RectangularTileCoding\n",
      "from spectral_dagger.function_approximation import IdentityFeatureExtractor\n",
      "from spectral_dagger.function_approximation import StateActionFeatureExtractor\n",
      "\n",
      "from sklearn.neighbors import KernelDensity\n",
      "from sklearn.linear_model import LogisticRegression\n",
      "from sklearn.gaussian_process import GaussianProcess\n",
      "\n",
      "n_samples_per_gradient = 10\n",
      "smoothing = 1.0\n",
      "threshold = 0.001\n",
      "lmbda = 0.5\n",
      "delta = 0.1\n",
      "gamma = 0.99\n",
      "_alpha = p_sequence(start=3., p=.6)\n",
      "\n",
      "mdp = rlpyEnv('MountainCar')\n",
      "\n",
      "origin = mdp.env.statespace_limits[:, 0]\n",
      "extent = mdp.env.statespace_limits[:, 1] - origin\n",
      "\n",
      "# state_feature_extractor = RectangularTileCoding(\n",
      "#     n_tilings=2, extent=extent, origin=origin, tile_counts=[10,10],\n",
      "#     intercept=True)\n",
      "# feature_extractor = StateActionFeatureExtractor(\n",
      "#     state_feature_extractor, mdp.n_actions)\n",
      "# n_features = feature_extractor.n_features\n",
      "feature_extractor = IdentityFeatureExtractor(origin.shape[0])"
     ],
     "language": "python",
     "metadata": {},
     "outputs": [],
     "prompt_number": 23
    },
    {
     "cell_type": "code",
     "collapsed": false,
     "input": [
      "n_init_samples = 2\n",
      "horizon = 100\n",
      "\n",
      "# estimate initial model\n",
      "sample_trajectories = [\n",
      "    mdp.sample_trajectory(\n",
      "        horizon=horizon, reset=True, display=False)\n",
      "    for k in range(n_init_samples)]\n",
      "\n",
      "data = []\n",
      "targets = []\n",
      "for tau in sample_trajectories:\n",
      "    for (s_0, a_0, r_0), (s_1, _, _) in zip(tau, tau[1:]):\n",
      "        action_vector = np.zeros(mdp.n_actions)\n",
      "        action_vector[a_0] = 1.0\n",
      "        data.append(np.hstack((s_0, action_vector)))\n",
      "        targets.append(s_1 - s_0)\n",
      "        \n",
      "data = np.array(data)\n",
      "targets = np.array(targets)\n",
      "\n",
      "if True:\n",
      "    data += 0.001 * np.random.randn(*data.shape)\n",
      "if False:\n",
      "    targets += np.random.randn(*targets.shape)\n",
      "    \n",
      "print data.shape, targets.shape\n",
      "\n",
      "# How to estimate the nugget?\n",
      "gp = GaussianProcess(\n",
      "    corr='squared_exponential', theta0=1e-1, thetaL=1e-3, thetaU=1,\n",
      "    nugget=1, random_start=100)\n",
      "gp.fit(data, targets)"
     ],
     "language": "python",
     "metadata": {},
     "outputs": [
      {
       "output_type": "stream",
       "stream": "stdout",
       "text": [
        "(198, 5) (198, 2)\n"
       ]
      },
      {
       "metadata": {},
       "output_type": "pyout",
       "prompt_number": 29,
       "text": [
        "GaussianProcess(beta0=None,\n",
        "        corr=<function squared_exponential at 0x7fdb759170c8>,\n",
        "        normalize=True, nugget=array(1), optimizer='fmin_cobyla',\n",
        "        random_start=100,\n",
        "        random_state=<mtrand.RandomState object at 0x7fdba89c4f60>,\n",
        "        regr=<function constant at 0x7fdb7629b938>, storage_mode='full',\n",
        "        theta0=array([[ 0.1]]), thetaL=array([[ 0.001]]),\n",
        "        thetaU=array([[1]]), verbose=False)"
       ]
      }
     ],
     "prompt_number": 29
    },
    {
     "cell_type": "code",
     "collapsed": false,
     "input": [
      "print GaussianProcess.fit?"
     ],
     "language": "python",
     "metadata": {},
     "outputs": [],
     "prompt_number": 28
    },
    {
     "cell_type": "code",
     "collapsed": false,
     "input": [
      "print GaussianProcess.fit"
     ],
     "language": "python",
     "metadata": {},
     "outputs": []
    },
    {
     "cell_type": "code",
     "collapsed": false,
     "input": [
      "print GaussianProcess.fit"
     ],
     "language": "python",
     "metadata": {},
     "outputs": []
    },
    {
     "cell_type": "code",
     "collapsed": false,
     "input": [
      "print GaussianProcess"
     ],
     "language": "python",
     "metadata": {},
     "outputs": []
    },
    {
     "cell_type": "code",
     "collapsed": false,
     "input": [
      "# test expert in original env\n",
      "average_return = 0.0\n",
      "count = 10\n",
      "for i in range(count):\n",
      "    tau = mdp.sample_trajectory(expert, horizon, reset=True)\n",
      "    average_return += sum(r for (_, _, r) in tau)\n",
      "average_return /= count\n",
      "    \n",
      "print \"Average return by agent in original environment: %d\" % average_return"
     ],
     "language": "python",
     "metadata": {},
     "outputs": []
    },
    {
     "cell_type": "code",
     "collapsed": false,
     "input": [
      "# define alternate mdp\n",
      "def make_get_reward(\n",
      "        expert_step_wise_dists, expert_classifier, \n",
      "        lmbda, feature_extractor):\n",
      "    \n",
      "    def get_reward(action, cur_state, next_state, t):\n",
      "        cur_state_features = feature_extractor.as_vector(cur_state)\n",
      "        dist = expert_step_wise_dists[t]\n",
      "        state_reward = dist.score_samples(\n",
      "            [cur_state_features])[0]\n",
      "        action_reward = expert_classifier.predict_log_proba(\n",
      "            [cur_state_features])[0][action]\n",
      "        \n",
      "        return (1 - lmbda) * state_reward + lmbda * action_reward\n",
      "    \n",
      "    return get_reward\n",
      "        \n",
      "get_reward = make_get_reward(\n",
      "    expert_step_wise_dists, expert_classifier,\n",
      "    lmbda=0.0, feature_extractor=state_feature_extractor)\n",
      "tdr_mdp = TimeDependentRewardMDP(mdp, get_reward)"
     ],
     "language": "python",
     "metadata": {},
     "outputs": [],
     "prompt_number": 17
    },
    {
     "cell_type": "code",
     "collapsed": false,
     "input": [
      "# train agent\n",
      "learner = REINFORCE(LinearGibbsPolicy)\n",
      "agent = learner.fit(\n",
      "    tdr_mdp, horizon=horizon, feature_extractor=feature_extractor,\n",
      "    alpha=p_sequence(start=3.0, p=0.6),\n",
      "    n_samples=4, max_steps=200)"
     ],
     "language": "python",
     "metadata": {},
     "outputs": [
      {
       "output_type": "stream",
       "stream": "stderr",
       "text": [
        "INFO:REINFORCE:********************Iteration: 0\n"
       ]
      },
      {
       "output_type": "stream",
       "stream": "stderr",
       "text": [
        "INFO:REINFORCE:Gradient step\n"
       ]
      },
      {
       "output_type": "stream",
       "stream": "stderr",
       "text": [
        "INFO:REINFORCE:Step norm: 1.0\n"
       ]
      },
      {
       "output_type": "stream",
       "stream": "stderr",
       "text": [
        "INFO:REINFORCE:Alpha: 0.435275281648\n"
       ]
      },
      {
       "output_type": "stream",
       "stream": "stderr",
       "text": [
        "INFO:REINFORCE:Return from iter 0:  -143470.766125\n"
       ]
      },
      {
       "output_type": "stream",
       "stream": "stderr",
       "text": [
        "INFO:REINFORCE:Return from iter 1:  -152217.141784\n"
       ]
      },
      {
       "output_type": "stream",
       "stream": "stderr",
       "text": [
        "INFO:REINFORCE:Return from iter 2:  -155964.105230\n"
       ]
      },
      {
       "output_type": "stream",
       "stream": "stderr",
       "text": [
        "INFO:REINFORCE:Return from iter 3:  -133477.350059\n"
       ]
      },
      {
       "output_type": "stream",
       "stream": "stdout",
       "text": [
        "Return from iter 0:  -143470.766125\n",
        "Return from iter 1:  -152217.141784\n",
        "Return from iter 2:  -155964.105230\n",
        "Return from iter 3:  -133477.350059\n",
        "Updated theta with alpha: 0.435275281648, theta norm: 1.0\n",
        "Return from iter 0:  -149720.072978"
       ]
      },
      {
       "output_type": "stream",
       "stream": "stderr",
       "text": [
        "INFO:REINFORCE:********************Iteration: 1\n"
       ]
      },
      {
       "output_type": "stream",
       "stream": "stderr",
       "text": [
        "INFO:REINFORCE:Gradient step\n"
       ]
      },
      {
       "output_type": "stream",
       "stream": "stderr",
       "text": [
        "INFO:REINFORCE:Step norm: 1.0\n"
       ]
      },
      {
       "output_type": "stream",
       "stream": "stderr",
       "text": [
        "INFO:REINFORCE:Alpha: 0.380730787743\n"
       ]
      },
      {
       "output_type": "stream",
       "stream": "stderr",
       "text": [
        "INFO:REINFORCE:Return from iter 0:  -149720.072978\n"
       ]
      },
      {
       "output_type": "stream",
       "stream": "stderr",
       "text": [
        "INFO:REINFORCE:Return from iter 1:  -153466.630958\n"
       ]
      },
      {
       "output_type": "stream",
       "stream": "stderr",
       "text": [
        "INFO:REINFORCE:Return from iter 2:  -144103.120167\n"
       ]
      },
      {
       "output_type": "stream",
       "stream": "stderr",
       "text": [
        "INFO:REINFORCE:Return from iter 3:  -149094.379831\n"
       ]
      },
      {
       "output_type": "stream",
       "stream": "stdout",
       "text": [
        "\n",
        "Return from iter 1:  -153466.630958\n",
        "Return from iter 2:  -144103.120167\n",
        "Return from iter 3:  -149094.379831\n",
        "Updated theta with alpha: 0.380730787743, theta norm: 1.0\n",
        "Return from iter 0:  -139100.412117"
       ]
      },
      {
       "output_type": "stream",
       "stream": "stderr",
       "text": [
        "INFO:REINFORCE:********************Iteration: 2\n"
       ]
      },
      {
       "output_type": "stream",
       "stream": "stderr",
       "text": [
        "INFO:REINFORCE:Gradient step\n"
       ]
      },
      {
       "output_type": "stream",
       "stream": "stderr",
       "text": [
        "INFO:REINFORCE:Step norm: 1.0\n"
       ]
      },
      {
       "output_type": "stream",
       "stream": "stderr",
       "text": [
        "INFO:REINFORCE:Alpha: 0.341278751847\n"
       ]
      },
      {
       "output_type": "stream",
       "stream": "stderr",
       "text": [
        "INFO:REINFORCE:Return from iter 0:  -139100.412117\n"
       ]
      },
      {
       "output_type": "stream",
       "stream": "stderr",
       "text": [
        "INFO:REINFORCE:Return from iter 1:  -153466.630958\n"
       ]
      },
      {
       "output_type": "stream",
       "stream": "stderr",
       "text": [
        "INFO:REINFORCE:Return from iter 2:  -153467.324106\n"
       ]
      },
      {
       "output_type": "stream",
       "stream": "stderr",
       "text": [
        "INFO:REINFORCE:Return from iter 3:  -125357.948481\n"
       ]
      },
      {
       "output_type": "stream",
       "stream": "stdout",
       "text": [
        "\n",
        "Return from iter 1:  -153466.630958\n",
        "Return from iter 2:  -153467.324106\n",
        "Return from iter 3:  -125357.948481\n",
        "Updated theta with alpha: 0.341278751847, theta norm: 1.0\n",
        "Return from iter 0:  -130351.040726"
       ]
      },
      {
       "output_type": "stream",
       "stream": "stderr",
       "text": [
        "INFO:REINFORCE:********************Iteration: 3\n"
       ]
      },
      {
       "output_type": "stream",
       "stream": "stderr",
       "text": [
        "INFO:REINFORCE:Gradient step\n"
       ]
      },
      {
       "output_type": "stream",
       "stream": "stderr",
       "text": [
        "INFO:REINFORCE:Step norm: 1.0\n"
       ]
      },
      {
       "output_type": "stream",
       "stream": "stderr",
       "text": [
        "INFO:REINFORCE:Alpha: 0.311129489212\n"
       ]
      },
      {
       "output_type": "stream",
       "stream": "stderr",
       "text": [
        "INFO:REINFORCE:Return from iter 0:  -130351.040726\n"
       ]
      },
      {
       "output_type": "stream",
       "stream": "stderr",
       "text": [
        "INFO:REINFORCE:Return from iter 1:  -143470.989268\n"
       ]
      },
      {
       "output_type": "stream",
       "stream": "stderr",
       "text": [
        "INFO:REINFORCE:Return from iter 2:  -127232.701621\n"
       ]
      },
      {
       "output_type": "stream",
       "stream": "stderr",
       "text": [
        "INFO:REINFORCE:Return from iter 3:  -127855.950683\n"
       ]
      },
      {
       "output_type": "stream",
       "stream": "stdout",
       "text": [
        "\n",
        "Return from iter 1:  -143470.989268\n",
        "Return from iter 2:  -127232.701621\n",
        "Return from iter 3:  -127855.950683\n",
        "Updated theta with alpha: 0.311129489212, theta norm: 1.0\n",
        "Return from iter 0:  -96623.877644"
       ]
      },
      {
       "output_type": "stream",
       "stream": "stderr",
       "text": [
        "INFO:REINFORCE:********************Iteration: 4\n"
       ]
      },
      {
       "output_type": "stream",
       "stream": "stderr",
       "text": [
        "INFO:REINFORCE:Gradient step\n"
       ]
      },
      {
       "output_type": "stream",
       "stream": "stderr",
       "text": [
        "INFO:REINFORCE:Step norm: 1.0\n"
       ]
      },
      {
       "output_type": "stream",
       "stream": "stderr",
       "text": [
        "INFO:REINFORCE:Alpha: 0.287174588749\n"
       ]
      },
      {
       "output_type": "stream",
       "stream": "stderr",
       "text": [
        "INFO:REINFORCE:Return from iter 0:  -96623.877644\n"
       ]
      },
      {
       "output_type": "stream",
       "stream": "stderr",
       "text": [
        "INFO:REINFORCE:Return from iter 1:  -99726.727262\n"
       ]
      },
      {
       "output_type": "stream",
       "stream": "stderr",
       "text": [
        "INFO:REINFORCE:Return from iter 2:  -105975.534583\n"
       ]
      },
      {
       "output_type": "stream",
       "stream": "stderr",
       "text": [
        "INFO:REINFORCE:Return from iter 3:  -128476.961699\n"
       ]
      },
      {
       "output_type": "stream",
       "stream": "stdout",
       "text": [
        "\n",
        "Return from iter 1:  -99726.727262\n",
        "Return from iter 2:  -105975.534583\n",
        "Return from iter 3:  -128476.961699\n",
        "Updated theta with alpha: 0.287174588749, theta norm: 1.0\n",
        "Return from iter 0:  -133473.044993"
       ]
      },
      {
       "output_type": "stream",
       "stream": "stderr",
       "text": [
        "INFO:REINFORCE:********************Iteration: 5\n"
       ]
      },
      {
       "output_type": "stream",
       "stream": "stderr",
       "text": [
        "INFO:REINFORCE:Gradient step\n"
       ]
      },
      {
       "output_type": "stream",
       "stream": "stderr",
       "text": [
        "INFO:REINFORCE:Step norm: 1.0\n"
       ]
      },
      {
       "output_type": "stream",
       "stream": "stderr",
       "text": [
        "INFO:REINFORCE:Alpha: 0.267580520587\n"
       ]
      },
      {
       "output_type": "stream",
       "stream": "stderr",
       "text": [
        "INFO:REINFORCE:Return from iter 0:  -133473.044993\n"
       ]
      },
      {
       "output_type": "stream",
       "stream": "stderr",
       "text": [
        "INFO:REINFORCE:Return from iter 1:  -115349.659114\n"
       ]
      },
      {
       "output_type": "stream",
       "stream": "stderr",
       "text": [
        "INFO:REINFORCE:Return from iter 2:  -102239.667304\n"
       ]
      },
      {
       "output_type": "stream",
       "stream": "stderr",
       "text": [
        "INFO:REINFORCE:Return from iter 3:  -90361.212862\n"
       ]
      },
      {
       "output_type": "stream",
       "stream": "stdout",
       "text": [
        "\n",
        "Return from iter 1:  -115349.659114\n",
        "Return from iter 2:  -102239.667304\n",
        "Return from iter 3:  -90361.212862\n",
        "Updated theta with alpha: 0.267580520587, theta norm: 1.0\n",
        "Return from iter 0:  -19743.435899"
       ]
      },
      {
       "output_type": "stream",
       "stream": "stderr",
       "text": [
        "INFO:REINFORCE:********************Iteration: 6\n"
       ]
      },
      {
       "output_type": "stream",
       "stream": "stderr",
       "text": [
        "INFO:REINFORCE:Gradient step\n"
       ]
      },
      {
       "output_type": "stream",
       "stream": "stderr",
       "text": [
        "INFO:REINFORCE:Step norm: 1.0\n"
       ]
      },
      {
       "output_type": "stream",
       "stream": "stderr",
       "text": [
        "INFO:REINFORCE:Alpha: 0.251188643151\n"
       ]
      },
      {
       "output_type": "stream",
       "stream": "stderr",
       "text": [
        "INFO:REINFORCE:Return from iter 0:  -19743.435899\n"
       ]
      },
      {
       "output_type": "stream",
       "stream": "stderr",
       "text": [
        "INFO:REINFORCE:Return from iter 1:  -122220.296121\n"
       ]
      },
      {
       "output_type": "stream",
       "stream": "stderr",
       "text": [
        "INFO:REINFORCE:Return from iter 2:  -59105.015359\n"
       ]
      },
      {
       "output_type": "stream",
       "stream": "stderr",
       "text": [
        "INFO:REINFORCE:Return from iter 3:  -136601.304691\n"
       ]
      },
      {
       "output_type": "stream",
       "stream": "stdout",
       "text": [
        "\n",
        "Return from iter 1:  -122220.296121\n",
        "Return from iter 2:  -59105.015359\n",
        "Return from iter 3:  -136601.304691\n",
        "Updated theta with alpha: 0.251188643151, theta norm: 1.0\n",
        "Return from iter 0:  -34113.683418"
       ]
      },
      {
       "output_type": "stream",
       "stream": "stderr",
       "text": [
        "INFO:REINFORCE:********************Iteration: 7\n"
       ]
      },
      {
       "output_type": "stream",
       "stream": "stderr",
       "text": [
        "INFO:REINFORCE:Gradient step\n"
       ]
      },
      {
       "output_type": "stream",
       "stream": "stderr",
       "text": [
        "INFO:REINFORCE:Step norm: 1.0\n"
       ]
      },
      {
       "output_type": "stream",
       "stream": "stderr",
       "text": [
        "INFO:REINFORCE:Alpha: 0.237227148662\n"
       ]
      },
      {
       "output_type": "stream",
       "stream": "stderr",
       "text": [
        "INFO:REINFORCE:Return from iter 0:  -34113.683418\n"
       ]
      },
      {
       "output_type": "stream",
       "stream": "stderr",
       "text": [
        "INFO:REINFORCE:Return from iter 1:  -64101.386335\n"
       ]
      },
      {
       "output_type": "stream",
       "stream": "stderr",
       "text": [
        "INFO:REINFORCE:Return from iter 2:  -67235.572959\n"
       ]
      },
      {
       "output_type": "stream",
       "stream": "stderr",
       "text": [
        "INFO:REINFORCE:Return from iter 3:  -112226.750978\n"
       ]
      },
      {
       "output_type": "stream",
       "stream": "stdout",
       "text": [
        "\n",
        "Return from iter 1:  -64101.386335\n",
        "Return from iter 2:  -67235.572959\n",
        "Return from iter 3:  -112226.750978\n",
        "Updated theta with alpha: 0.237227148662, theta norm: 1.0\n",
        "Return from iter 0:  -122235.414354"
       ]
      },
      {
       "output_type": "stream",
       "stream": "stderr",
       "text": [
        "INFO:REINFORCE:********************Iteration: 8\n"
       ]
      },
      {
       "output_type": "stream",
       "stream": "stderr",
       "text": [
        "INFO:REINFORCE:Gradient step\n"
       ]
      },
      {
       "output_type": "stream",
       "stream": "stderr",
       "text": [
        "INFO:REINFORCE:Step norm: 1.0\n"
       ]
      },
      {
       "output_type": "stream",
       "stream": "stderr",
       "text": [
        "INFO:REINFORCE:Alpha: 0.22516000642\n"
       ]
      },
      {
       "output_type": "stream",
       "stream": "stderr",
       "text": [
        "INFO:REINFORCE:Return from iter 0:  -122235.414354\n"
       ]
      },
      {
       "output_type": "stream",
       "stream": "stderr",
       "text": [
        "INFO:REINFORCE:Return from iter 1:  -29731.747263\n"
       ]
      },
      {
       "output_type": "stream",
       "stream": "stderr",
       "text": [
        "INFO:REINFORCE:Return from iter 2:  -79736.095079\n"
       ]
      },
      {
       "output_type": "stream",
       "stream": "stderr",
       "text": [
        "INFO:REINFORCE:Return from iter 3:  -135988.246798\n"
       ]
      },
      {
       "output_type": "stream",
       "stream": "stdout",
       "text": [
        "\n",
        "Return from iter 1:  -29731.747263\n",
        "Return from iter 2:  -79736.095079\n",
        "Return from iter 3:  -135988.246798\n",
        "Updated theta with alpha: 0.22516000642, theta norm: 1.0\n",
        "Return from iter 0:  -64103.946275"
       ]
      },
      {
       "output_type": "stream",
       "stream": "stderr",
       "text": [
        "INFO:REINFORCE:********************Iteration: 9\n"
       ]
      },
      {
       "output_type": "stream",
       "stream": "stderr",
       "text": [
        "INFO:REINFORCE:Gradient step\n"
       ]
      },
      {
       "output_type": "stream",
       "stream": "stderr",
       "text": [
        "INFO:REINFORCE:Step norm: 1.0\n"
       ]
      },
      {
       "output_type": "stream",
       "stream": "stderr",
       "text": [
        "INFO:REINFORCE:Alpha: 0.214602110453\n"
       ]
      },
      {
       "output_type": "stream",
       "stream": "stderr",
       "text": [
        "INFO:REINFORCE:Return from iter 0:  -64103.946275\n"
       ]
      },
      {
       "output_type": "stream",
       "stream": "stderr",
       "text": [
        "INFO:REINFORCE:Return from iter 1:  -59729.540673\n"
       ]
      },
      {
       "output_type": "stream",
       "stream": "stderr",
       "text": [
        "INFO:REINFORCE:Return from iter 2:  -50985.464542\n"
       ]
      },
      {
       "output_type": "stream",
       "stream": "stderr",
       "text": [
        "INFO:REINFORCE:Return from iter 3:  23384.802010\n"
       ]
      },
      {
       "output_type": "stream",
       "stream": "stdout",
       "text": [
        "\n",
        "Return from iter 1:  -59729.540673\n",
        "Return from iter 2:  -50985.464542\n",
        "Return from iter 3:  23384.802010\n",
        "Updated theta with alpha: 0.214602110453, theta norm: 1.0\n",
        "Return from iter 0:  -88487.603839"
       ]
      },
      {
       "output_type": "stream",
       "stream": "stderr",
       "text": [
        "INFO:REINFORCE:********************Iteration: 10\n"
       ]
      },
      {
       "output_type": "stream",
       "stream": "stderr",
       "text": [
        "INFO:REINFORCE:Gradient step\n"
       ]
      },
      {
       "output_type": "stream",
       "stream": "stderr",
       "text": [
        "INFO:REINFORCE:Step norm: 1.0\n"
       ]
      },
      {
       "output_type": "stream",
       "stream": "stderr",
       "text": [
        "INFO:REINFORCE:Alpha: 0.205268911145\n"
       ]
      },
      {
       "output_type": "stream",
       "stream": "stderr",
       "text": [
        "INFO:REINFORCE:Return from iter 0:  -88487.603839\n"
       ]
      },
      {
       "output_type": "stream",
       "stream": "stderr",
       "text": [
        "INFO:REINFORCE:Return from iter 1:  -1612.144330\n"
       ]
      },
      {
       "output_type": "stream",
       "stream": "stderr",
       "text": [
        "INFO:REINFORCE:Return from iter 2:  12762.574599\n"
       ]
      },
      {
       "output_type": "stream",
       "stream": "stderr",
       "text": [
        "INFO:REINFORCE:Return from iter 3:  -125355.420824\n"
       ]
      },
      {
       "output_type": "stream",
       "stream": "stdout",
       "text": [
        "\n",
        "Return from iter 1:  -1612.144330\n",
        "Return from iter 2:  12762.574599\n",
        "Return from iter 3:  -125355.420824\n",
        "Updated theta with alpha: 0.205268911145, theta norm: 1.0\n",
        "Return from iter 0:  -20358.409945"
       ]
      },
      {
       "output_type": "stream",
       "stream": "stderr",
       "text": [
        "INFO:REINFORCE:********************Iteration: 11\n"
       ]
      },
      {
       "output_type": "stream",
       "stream": "stderr",
       "text": [
        "INFO:REINFORCE:Gradient step\n"
       ]
      },
      {
       "output_type": "stream",
       "stream": "stderr",
       "text": [
        "INFO:REINFORCE:Step norm: 1.0\n"
       ]
      },
      {
       "output_type": "stream",
       "stream": "stderr",
       "text": [
        "INFO:REINFORCE:Alpha: 0.196945129271\n"
       ]
      },
      {
       "output_type": "stream",
       "stream": "stderr",
       "text": [
        "INFO:REINFORCE:Return from iter 0:  -20358.409945\n"
       ]
      },
      {
       "output_type": "stream",
       "stream": "stderr",
       "text": [
        "INFO:REINFORCE:Return from iter 1:  11508.162245\n"
       ]
      },
      {
       "output_type": "stream",
       "stream": "stderr",
       "text": [
        "INFO:REINFORCE:Return from iter 2:  -28492.495892\n"
       ]
      },
      {
       "output_type": "stream",
       "stream": "stderr",
       "text": [
        "INFO:REINFORCE:Return from iter 3:  -93488.609513\n"
       ]
      },
      {
       "output_type": "stream",
       "stream": "stdout",
       "text": [
        "\n",
        "Return from iter 1:  11508.162245\n",
        "Return from iter 2:  -28492.495892\n",
        "Return from iter 3:  -93488.609513\n",
        "Updated theta with alpha: 0.196945129271, theta norm: 1.0\n",
        "Return from iter 0:  4632.864068"
       ]
      },
      {
       "output_type": "stream",
       "stream": "stderr",
       "text": [
        "INFO:REINFORCE:********************Iteration: 12\n"
       ]
      },
      {
       "output_type": "stream",
       "stream": "stderr",
       "text": [
        "INFO:REINFORCE:Gradient step\n"
       ]
      },
      {
       "output_type": "stream",
       "stream": "stderr",
       "text": [
        "INFO:REINFORCE:Step norm: 1.0\n"
       ]
      },
      {
       "output_type": "stream",
       "stream": "stderr",
       "text": [
        "INFO:REINFORCE:Alpha: 0.189464570814\n"
       ]
      },
      {
       "output_type": "stream",
       "stream": "stderr",
       "text": [
        "INFO:REINFORCE:Return from iter 0:  4632.864068\n"
       ]
      },
      {
       "output_type": "stream",
       "stream": "stderr",
       "text": [
        "INFO:REINFORCE:Return from iter 1:  -2242.977189\n"
       ]
      },
      {
       "output_type": "stream",
       "stream": "stderr",
       "text": [
        "INFO:REINFORCE:Return from iter 2:  -59111.376150\n"
       ]
      },
      {
       "output_type": "stream",
       "stream": "stderr",
       "text": [
        "INFO:REINFORCE:Return from iter 3:  12131.347568\n"
       ]
      },
      {
       "output_type": "stream",
       "stream": "stdout",
       "text": [
        "\n",
        "Return from iter 1:  -2242.977189\n",
        "Return from iter 2:  -59111.376150\n",
        "Return from iter 3:  12131.347568\n",
        "Updated theta with alpha: 0.189464570814, theta norm: 1.0\n",
        "Return from iter 0:  17126.977964"
       ]
      },
      {
       "output_type": "stream",
       "stream": "stderr",
       "text": [
        "INFO:REINFORCE:********************Iteration: 13\n"
       ]
      },
      {
       "output_type": "stream",
       "stream": "stderr",
       "text": [
        "INFO:REINFORCE:Gradient step\n"
       ]
      },
      {
       "output_type": "stream",
       "stream": "stderr",
       "text": [
        "INFO:REINFORCE:Step norm: 1.0\n"
       ]
      },
      {
       "output_type": "stream",
       "stream": "stderr",
       "text": [
        "INFO:REINFORCE:Alpha: 0.182696676565\n"
       ]
      },
      {
       "output_type": "stream",
       "stream": "stderr",
       "text": [
        "INFO:REINFORCE:Return from iter 0:  17126.977964\n"
       ]
      },
      {
       "output_type": "stream",
       "stream": "stderr",
       "text": [
        "INFO:REINFORCE:Return from iter 1:  52757.177532\n"
       ]
      },
      {
       "output_type": "stream",
       "stream": "stderr",
       "text": [
        "INFO:REINFORCE:Return from iter 2:  -12248.957360\n"
       ]
      },
      {
       "output_type": "stream",
       "stream": "stderr",
       "text": [
        "INFO:REINFORCE:Return from iter 3:  -8489.588415\n"
       ]
      },
      {
       "output_type": "stream",
       "stream": "stdout",
       "text": [
        "\n",
        "Return from iter 1:  52757.177532\n",
        "Return from iter 2:  -12248.957360\n",
        "Return from iter 3:  -8489.588415\n",
        "Updated theta with alpha: 0.182696676565, theta norm: 1.0\n",
        "Return from iter 0:  4001.390178"
       ]
      },
      {
       "output_type": "stream",
       "stream": "stderr",
       "text": [
        "INFO:REINFORCE:********************Iteration: 14\n"
       ]
      },
      {
       "output_type": "stream",
       "stream": "stderr",
       "text": [
        "INFO:REINFORCE:Gradient step\n"
       ]
      },
      {
       "output_type": "stream",
       "stream": "stderr",
       "text": [
        "INFO:REINFORCE:Step norm: 1.0\n"
       ]
      },
      {
       "output_type": "stream",
       "stream": "stderr",
       "text": [
        "INFO:REINFORCE:Alpha: 0.176537306841\n"
       ]
      },
      {
       "output_type": "stream",
       "stream": "stderr",
       "text": [
        "INFO:REINFORCE:Return from iter 0:  4001.390178\n"
       ]
      },
      {
       "output_type": "stream",
       "stream": "stderr",
       "text": [
        "INFO:REINFORCE:Return from iter 1:  34008.204995\n"
       ]
      },
      {
       "output_type": "stream",
       "stream": "stderr",
       "text": [
        "INFO:REINFORCE:Return from iter 2:  55253.647258\n"
       ]
      },
      {
       "output_type": "stream",
       "stream": "stderr",
       "text": [
        "INFO:REINFORCE:Return from iter 3:  -23489.052744\n"
       ]
      },
      {
       "output_type": "stream",
       "stream": "stdout",
       "text": [
        "\n",
        "Return from iter 1:  34008.204995\n",
        "Return from iter 2:  55253.647258\n",
        "Return from iter 3:  -23489.052744\n",
        "Updated theta with alpha: 0.176537306841, theta norm: 1.0\n",
        "Return from iter 0:  66502.548646"
       ]
      },
      {
       "output_type": "stream",
       "stream": "stderr",
       "text": [
        "INFO:REINFORCE:********************Iteration: 15\n"
       ]
      },
      {
       "output_type": "stream",
       "stream": "stderr",
       "text": [
        "INFO:REINFORCE:Gradient step\n"
       ]
      },
      {
       "output_type": "stream",
       "stream": "stderr",
       "text": [
        "INFO:REINFORCE:Step norm: 1.0\n"
       ]
      },
      {
       "output_type": "stream",
       "stream": "stderr",
       "text": [
        "INFO:REINFORCE:Alpha: 0.170902273218\n"
       ]
      },
      {
       "output_type": "stream",
       "stream": "stderr",
       "text": [
        "INFO:REINFORCE:Return from iter 0:  66502.548646\n"
       ]
      },
      {
       "output_type": "stream",
       "stream": "stderr",
       "text": [
        "INFO:REINFORCE:Return from iter 1:  59622.343266\n"
       ]
      },
      {
       "output_type": "stream",
       "stream": "stderr",
       "text": [
        "INFO:REINFORCE:Return from iter 2:  65252.336796\n"
       ]
      },
      {
       "output_type": "stream",
       "stream": "stderr",
       "text": [
        "INFO:REINFORCE:Return from iter 3:  35258.269534\n"
       ]
      },
      {
       "output_type": "stream",
       "stream": "stdout",
       "text": [
        "\n",
        "Return from iter 1:  59622.343266\n",
        "Return from iter 2:  65252.336796\n",
        "Return from iter 3:  35258.269534\n",
        "Updated theta with alpha: 0.170902273218, theta norm: 1.0\n",
        "Return from iter 0:  47754.316689"
       ]
      },
      {
       "output_type": "stream",
       "stream": "stderr",
       "text": [
        "INFO:REINFORCE:********************Iteration: 16\n"
       ]
      },
      {
       "output_type": "stream",
       "stream": "stderr",
       "text": [
        "INFO:REINFORCE:Gradient step\n"
       ]
      },
      {
       "output_type": "stream",
       "stream": "stderr",
       "text": [
        "INFO:REINFORCE:Step norm: 1.0\n"
       ]
      },
      {
       "output_type": "stream",
       "stream": "stderr",
       "text": [
        "INFO:REINFORCE:Alpha: 0.165722700867\n"
       ]
      },
      {
       "output_type": "stream",
       "stream": "stderr",
       "text": [
        "INFO:REINFORCE:Return from iter 0:  47754.316689\n"
       ]
      },
      {
       "output_type": "stream",
       "stream": "stderr",
       "text": [
        "INFO:REINFORCE:Return from iter 1:  28381.559418\n"
       ]
      },
      {
       "output_type": "stream",
       "stream": "stderr",
       "text": [
        "INFO:REINFORCE:Return from iter 2:  57749.516774\n"
       ]
      },
      {
       "output_type": "stream",
       "stream": "stderr",
       "text": [
        "INFO:REINFORCE:Return from iter 3:  31502.160286\n"
       ]
      },
      {
       "output_type": "stream",
       "stream": "stdout",
       "text": [
        "\n",
        "Return from iter 1:  28381.559418\n",
        "Return from iter 2:  57749.516774\n",
        "Return from iter 3:  31502.160286\n",
        "Updated theta with alpha: 0.165722700867, theta norm: 1.0\n",
        "Return from iter 0:  36507.799530"
       ]
      },
      {
       "output_type": "stream",
       "stream": "stderr",
       "text": [
        "INFO:REINFORCE:********************Iteration: 17\n"
       ]
      },
      {
       "output_type": "stream",
       "stream": "stderr",
       "text": [
        "INFO:REINFORCE:Gradient step\n"
       ]
      },
      {
       "output_type": "stream",
       "stream": "stderr",
       "text": [
        "INFO:REINFORCE:Step norm: 1.0\n"
       ]
      },
      {
       "output_type": "stream",
       "stream": "stderr",
       "text": [
        "INFO:REINFORCE:Alpha: 0.160941640249\n"
       ]
      },
      {
       "output_type": "stream",
       "stream": "stderr",
       "text": [
        "INFO:REINFORCE:Return from iter 0:  36507.799530\n"
       ]
      },
      {
       "output_type": "stream",
       "stream": "stderr",
       "text": [
        "INFO:REINFORCE:Return from iter 1:  69000.874669\n"
       ]
      },
      {
       "output_type": "stream",
       "stream": "stderr",
       "text": [
        "INFO:REINFORCE:Return from iter 2:  38374.687802\n"
       ]
      },
      {
       "output_type": "stream",
       "stream": "stderr",
       "text": [
        "INFO:REINFORCE:Return from iter 3:  74625.962924\n"
       ]
      },
      {
       "output_type": "stream",
       "stream": "stdout",
       "text": [
        "\n",
        "Return from iter 1:  69000.874669\n",
        "Return from iter 2:  38374.687802\n",
        "Return from iter 3:  74625.962924\n",
        "Updated theta with alpha: 0.160941640249, theta norm: 1.0\n",
        "Return from iter 0:  66497.655793"
       ]
      },
      {
       "output_type": "stream",
       "stream": "stderr",
       "text": [
        "INFO:REINFORCE:********************Iteration: 18\n"
       ]
      },
      {
       "output_type": "stream",
       "stream": "stderr",
       "text": [
        "INFO:REINFORCE:Gradient step\n"
       ]
      },
      {
       "output_type": "stream",
       "stream": "stderr",
       "text": [
        "INFO:REINFORCE:Step norm: 1.0\n"
       ]
      },
      {
       "output_type": "stream",
       "stream": "stderr",
       "text": [
        "INFO:REINFORCE:Alpha: 0.156511549655\n"
       ]
      },
      {
       "output_type": "stream",
       "stream": "stderr",
       "text": [
        "INFO:REINFORCE:Return from iter 0:  66497.655793\n"
       ]
      },
      {
       "output_type": "stream",
       "stream": "stderr",
       "text": [
        "INFO:REINFORCE:Return from iter 1:  70250.922102\n"
       ]
      },
      {
       "output_type": "stream",
       "stream": "stderr",
       "text": [
        "INFO:REINFORCE:Return from iter 2:  67752.061536\n"
       ]
      },
      {
       "output_type": "stream",
       "stream": "stderr",
       "text": [
        "INFO:REINFORCE:Return from iter 3:  62755.256696\n"
       ]
      },
      {
       "output_type": "stream",
       "stream": "stdout",
       "text": [
        "\n",
        "Return from iter 1:  70250.922102\n",
        "Return from iter 2:  67752.061536\n",
        "Return from iter 3:  62755.256696\n",
        "Updated theta with alpha: 0.156511549655, theta norm: 1.0\n",
        "Return from iter 0:  55880.808343"
       ]
      },
      {
       "output_type": "stream",
       "stream": "stderr",
       "text": [
        "INFO:REINFORCE:********************Iteration: 19\n"
       ]
      },
      {
       "output_type": "stream",
       "stream": "stderr",
       "text": [
        "INFO:REINFORCE:Gradient step\n"
       ]
      },
      {
       "output_type": "stream",
       "stream": "stderr",
       "text": [
        "INFO:REINFORCE:Step norm: 1.0\n"
       ]
      },
      {
       "output_type": "stream",
       "stream": "stderr",
       "text": [
        "INFO:REINFORCE:Alpha: 0.15239239637\n"
       ]
      },
      {
       "output_type": "stream",
       "stream": "stderr",
       "text": [
        "INFO:REINFORCE:Return from iter 0:  55880.808343\n"
       ]
      },
      {
       "output_type": "stream",
       "stream": "stderr",
       "text": [
        "INFO:REINFORCE:Return from iter 1:  82752.778400\n"
       ]
      },
      {
       "output_type": "stream",
       "stream": "stderr",
       "text": [
        "INFO:REINFORCE:Return from iter 2:  57133.921859\n"
       ]
      },
      {
       "output_type": "stream",
       "stream": "stderr",
       "text": [
        "INFO:REINFORCE:Return from iter 3:  67750.962924\n"
       ]
      },
      {
       "output_type": "stream",
       "stream": "stdout",
       "text": [
        "\n",
        "Return from iter 1:  82752.778400\n",
        "Return from iter 2:  57133.921859\n",
        "Return from iter 3:  67750.962924\n",
        "Updated theta with alpha: 0.15239239637, theta norm: 1.0\n",
        "Return from iter 0:  73369.484351"
       ]
      },
      {
       "output_type": "stream",
       "stream": "stderr",
       "text": [
        "INFO:REINFORCE:********************Iteration: 20\n"
       ]
      },
      {
       "output_type": "stream",
       "stream": "stderr",
       "text": [
        "INFO:REINFORCE:Gradient step\n"
       ]
      },
      {
       "output_type": "stream",
       "stream": "stderr",
       "text": [
        "INFO:REINFORCE:Step norm: 1.0\n"
       ]
      },
      {
       "output_type": "stream",
       "stream": "stderr",
       "text": [
        "INFO:REINFORCE:Alpha: 0.148550204831\n"
       ]
      },
      {
       "output_type": "stream",
       "stream": "stderr",
       "text": [
        "INFO:REINFORCE:Return from iter 0:  73369.484351\n"
       ]
      },
      {
       "output_type": "stream",
       "stream": "stderr",
       "text": [
        "INFO:REINFORCE:Return from iter 1:  -96615.470494\n"
       ]
      },
      {
       "output_type": "stream",
       "stream": "stderr",
       "text": [
        "INFO:REINFORCE:Return from iter 2:  52129.762976\n"
       ]
      },
      {
       "output_type": "stream",
       "stream": "stderr",
       "text": [
        "INFO:REINFORCE:Return from iter 3:  65257.312421\n"
       ]
      },
      {
       "output_type": "stream",
       "stream": "stdout",
       "text": [
        "\n",
        "Return from iter 1:  -96615.470494\n",
        "Return from iter 2:  52129.762976\n",
        "Return from iter 3:  65257.312421\n",
        "Updated theta with alpha: 0.148550204831, theta norm: 1.0\n",
        "Return from iter 0:  76500.452099"
       ]
      },
      {
       "output_type": "stream",
       "stream": "stderr",
       "text": [
        "INFO:REINFORCE:********************Iteration: 21\n"
       ]
      },
      {
       "output_type": "stream",
       "stream": "stderr",
       "text": [
        "INFO:REINFORCE:Gradient step\n"
       ]
      },
      {
       "output_type": "stream",
       "stream": "stderr",
       "text": [
        "INFO:REINFORCE:Step norm: 1.0\n"
       ]
      },
      {
       "output_type": "stream",
       "stream": "stderr",
       "text": [
        "INFO:REINFORCE:Alpha: 0.144955932736\n"
       ]
      },
      {
       "output_type": "stream",
       "stream": "stderr",
       "text": [
        "INFO:REINFORCE:Return from iter 0:  76500.452099\n"
       ]
      },
      {
       "output_type": "stream",
       "stream": "stderr",
       "text": [
        "INFO:REINFORCE:Return from iter 1:  74626.591533\n"
       ]
      },
      {
       "output_type": "stream",
       "stream": "stderr",
       "text": [
        "INFO:REINFORCE:Return from iter 2:  -118484.821884\n"
       ]
      },
      {
       "output_type": "stream",
       "stream": "stderr",
       "text": [
        "INFO:REINFORCE:Return from iter 3:  54005.926126\n"
       ]
      },
      {
       "output_type": "stream",
       "stream": "stdout",
       "text": [
        "\n",
        "Return from iter 1:  74626.591533\n",
        "Return from iter 2:  -118484.821884\n",
        "Return from iter 3:  54005.926126\n",
        "Updated theta with alpha: 0.144955932736, theta norm: 1.0\n",
        "Return from iter 0:  74007.870679"
       ]
      },
      {
       "output_type": "stream",
       "stream": "stderr",
       "text": [
        "INFO:REINFORCE:********************Iteration: 22\n"
       ]
      },
      {
       "output_type": "stream",
       "stream": "stderr",
       "text": [
        "INFO:REINFORCE:Gradient step\n"
       ]
      },
      {
       "output_type": "stream",
       "stream": "stderr",
       "text": [
        "INFO:REINFORCE:Step norm: 1.0\n"
       ]
      },
      {
       "output_type": "stream",
       "stream": "stderr",
       "text": [
        "INFO:REINFORCE:Alpha: 0.141584591206\n"
       ]
      },
      {
       "output_type": "stream",
       "stream": "stderr",
       "text": [
        "INFO:REINFORCE:Return from iter 0:  74007.870679\n"
       ]
      },
      {
       "output_type": "stream",
       "stream": "stderr",
       "text": [
        "INFO:REINFORCE:Return from iter 1:  26505.209263\n"
       ]
      },
      {
       "output_type": "stream",
       "stream": "stderr",
       "text": [
        "INFO:REINFORCE:Return from iter 2:  79626.615249\n"
       ]
      },
      {
       "output_type": "stream",
       "stream": "stderr",
       "text": [
        "INFO:REINFORCE:Return from iter 3:  50260.284437\n"
       ]
      },
      {
       "output_type": "stream",
       "stream": "stdout",
       "text": [
        "\n",
        "Return from iter 1:  26505.209263\n",
        "Return from iter 2:  79626.615249\n",
        "Return from iter 3:  50260.284437\n",
        "Updated theta with alpha: 0.141584591206, theta norm: 1.0\n",
        "Return from iter 0:  61510.818979"
       ]
      },
      {
       "output_type": "stream",
       "stream": "stderr",
       "text": [
        "INFO:REINFORCE:********************Iteration: 23\n"
       ]
      },
      {
       "output_type": "stream",
       "stream": "stderr",
       "text": [
        "INFO:REINFORCE:Gradient step\n"
       ]
      },
      {
       "output_type": "stream",
       "stream": "stderr",
       "text": [
        "INFO:REINFORCE:Step norm: 1.0\n"
       ]
      },
      {
       "output_type": "stream",
       "stream": "stderr",
       "text": [
        "INFO:REINFORCE:Alpha: 0.138414548846\n"
       ]
      },
      {
       "output_type": "stream",
       "stream": "stderr",
       "text": [
        "INFO:REINFORCE:Return from iter 0:  61510.818979\n"
       ]
      },
      {
       "output_type": "stream",
       "stream": "stderr",
       "text": [
        "INFO:REINFORCE:Return from iter 1:  76497.679510\n"
       ]
      },
      {
       "output_type": "stream",
       "stream": "stderr",
       "text": [
        "INFO:REINFORCE:Return from iter 2:  72122.050901\n"
       ]
      },
      {
       "output_type": "stream",
       "stream": "stderr",
       "text": [
        "INFO:REINFORCE:Return from iter 3:  83375.475815\n"
       ]
      },
      {
       "output_type": "stream",
       "stream": "stdout",
       "text": [
        "\n",
        "Return from iter 1:  76497.679510\n",
        "Return from iter 2:  72122.050901\n",
        "Return from iter 3:  83375.475815\n",
        "Updated theta with alpha: 0.138414548846, theta norm: 1.0\n",
        "Return from iter 0:  -91613.079654"
       ]
      },
      {
       "output_type": "stream",
       "stream": "stderr",
       "text": [
        "INFO:REINFORCE:********************Iteration: 24\n"
       ]
      },
      {
       "output_type": "stream",
       "stream": "stderr",
       "text": [
        "INFO:REINFORCE:Gradient step\n"
       ]
      },
      {
       "output_type": "stream",
       "stream": "stderr",
       "text": [
        "INFO:REINFORCE:Step norm: 1.0\n"
       ]
      },
      {
       "output_type": "stream",
       "stream": "stderr",
       "text": [
        "INFO:REINFORCE:Alpha: 0.135426976046\n"
       ]
      },
      {
       "output_type": "stream",
       "stream": "stderr",
       "text": [
        "INFO:REINFORCE:Return from iter 0:  -91613.079654\n"
       ]
      },
      {
       "output_type": "stream",
       "stream": "stderr",
       "text": [
        "INFO:REINFORCE:Return from iter 1:  45259.145002\n"
       ]
      },
      {
       "output_type": "stream",
       "stream": "stderr",
       "text": [
        "INFO:REINFORCE:Return from iter 2:  87117.874913\n"
       ]
      },
      {
       "output_type": "stream",
       "stream": "stderr",
       "text": [
        "INFO:REINFORCE:Return from iter 3:  59630.009836\n"
       ]
      },
      {
       "output_type": "stream",
       "stream": "stdout",
       "text": [
        "\n",
        "Return from iter 1:  45259.145002\n",
        "Return from iter 2:  87117.874913\n",
        "Return from iter 3:  59630.009836\n",
        "Updated theta with alpha: 0.135426976046, theta norm: 1.0\n",
        "Return from iter 0:  57749.042088"
       ]
      },
      {
       "output_type": "stream",
       "stream": "stderr",
       "text": [
        "INFO:REINFORCE:********************Iteration: 25\n"
       ]
      },
      {
       "output_type": "stream",
       "stream": "stderr",
       "text": [
        "INFO:REINFORCE:Gradient step\n"
       ]
      },
      {
       "output_type": "stream",
       "stream": "stderr",
       "text": [
        "INFO:REINFORCE:Step norm: 1.0\n"
       ]
      },
      {
       "output_type": "stream",
       "stream": "stderr",
       "text": [
        "INFO:REINFORCE:Alpha: 0.132605397359\n"
       ]
      },
      {
       "output_type": "stream",
       "stream": "stderr",
       "text": [
        "INFO:REINFORCE:Return from iter 0:  57749.042088\n"
       ]
      },
      {
       "output_type": "stream",
       "stream": "stderr",
       "text": [
        "INFO:REINFORCE:Return from iter 1:  82129.387838\n"
       ]
      },
      {
       "output_type": "stream",
       "stream": "stderr",
       "text": [
        "INFO:REINFORCE:Return from iter 2:  65252.484107\n"
       ]
      },
      {
       "output_type": "stream",
       "stream": "stderr",
       "text": [
        "INFO:REINFORCE:Return from iter 3:  62757.312421\n"
       ]
      },
      {
       "output_type": "stream",
       "stream": "stdout",
       "text": [
        "\n",
        "Return from iter 1:  82129.387838\n",
        "Return from iter 2:  65252.484107\n",
        "Return from iter 3:  62757.312421\n",
        "Updated theta with alpha: 0.132605397359, theta norm: 1.0\n",
        "Return from iter 0:  73998.595801"
       ]
      },
      {
       "output_type": "stream",
       "stream": "stderr",
       "text": [
        "INFO:REINFORCE:********************Iteration: 26\n"
       ]
      },
      {
       "output_type": "stream",
       "stream": "stderr",
       "text": [
        "INFO:REINFORCE:Gradient step\n"
       ]
      },
      {
       "output_type": "stream",
       "stream": "stderr",
       "text": [
        "INFO:REINFORCE:Step norm: 1.0\n"
       ]
      },
      {
       "output_type": "stream",
       "stream": "stderr",
       "text": [
        "INFO:REINFORCE:Alpha: 0.129935328031\n"
       ]
      },
      {
       "output_type": "stream",
       "stream": "stderr",
       "text": [
        "INFO:REINFORCE:Return from iter 0:  73998.595801\n"
       ]
      },
      {
       "output_type": "stream",
       "stream": "stderr",
       "text": [
        "INFO:REINFORCE:Return from iter 1:  40260.061293\n"
       ]
      },
      {
       "output_type": "stream",
       "stream": "stderr",
       "text": [
        "INFO:REINFORCE:Return from iter 2:  83366.958622\n"
       ]
      },
      {
       "output_type": "stream",
       "stream": "stderr",
       "text": [
        "INFO:REINFORCE:Return from iter 3:  74626.186068\n"
       ]
      },
      {
       "output_type": "stream",
       "stream": "stdout",
       "text": [
        "\n",
        "Return from iter 1:  40260.061293\n",
        "Return from iter 2:  83366.958622\n",
        "Return from iter 3:  74626.186068\n",
        "Updated theta with alpha: 0.129935328031, theta norm: 1.0\n",
        "Return from iter 0:  69622.497188"
       ]
      },
      {
       "output_type": "stream",
       "stream": "stderr",
       "text": [
        "INFO:REINFORCE:********************Iteration: 27\n"
       ]
      },
      {
       "output_type": "stream",
       "stream": "stderr",
       "text": [
        "INFO:REINFORCE:Gradient step\n"
       ]
      },
      {
       "output_type": "stream",
       "stream": "stderr",
       "text": [
        "INFO:REINFORCE:Step norm: 1.0\n"
       ]
      },
      {
       "output_type": "stream",
       "stream": "stderr",
       "text": [
        "INFO:REINFORCE:Alpha: 0.127403976618\n"
       ]
      },
      {
       "output_type": "stream",
       "stream": "stderr",
       "text": [
        "INFO:REINFORCE:Return from iter 0:  69622.497188\n"
       ]
      },
      {
       "output_type": "stream",
       "stream": "stderr",
       "text": [
        "INFO:REINFORCE:Return from iter 1:  57752.707251\n"
       ]
      },
      {
       "output_type": "stream",
       "stream": "stderr",
       "text": [
        "INFO:REINFORCE:Return from iter 2:  74003.200971\n"
       ]
      },
      {
       "output_type": "stream",
       "stream": "stderr",
       "text": [
        "INFO:REINFORCE:Return from iter 3:  84618.568060\n"
       ]
      },
      {
       "output_type": "stream",
       "stream": "stdout",
       "text": [
        "\n",
        "Return from iter 1:  57752.707251\n",
        "Return from iter 2:  74003.200971\n",
        "Return from iter 3:  84618.568060\n",
        "Updated theta with alpha: 0.127403976618, theta norm: 1.0\n",
        "Return from iter 0:  86496.340649"
       ]
      },
      {
       "output_type": "stream",
       "stream": "stderr",
       "text": [
        "INFO:REINFORCE:********************Iteration: 28\n"
       ]
      },
      {
       "output_type": "stream",
       "stream": "stderr",
       "text": [
        "INFO:REINFORCE:Gradient step\n"
       ]
      },
      {
       "output_type": "stream",
       "stream": "stderr",
       "text": [
        "INFO:REINFORCE:Step norm: 1.0\n"
       ]
      },
      {
       "output_type": "stream",
       "stream": "stderr",
       "text": [
        "INFO:REINFORCE:Alpha: 0.125\n"
       ]
      },
      {
       "output_type": "stream",
       "stream": "stderr",
       "text": [
        "INFO:REINFORCE:Return from iter 0:  86496.340649\n"
       ]
      },
      {
       "output_type": "stream",
       "stream": "stderr",
       "text": [
        "INFO:REINFORCE:Return from iter 1:  -138483.394768\n"
       ]
      },
      {
       "output_type": "stream",
       "stream": "stderr",
       "text": [
        "INFO:REINFORCE:Return from iter 2:  75875.962924\n"
       ]
      },
      {
       "output_type": "stream",
       "stream": "stderr",
       "text": [
        "INFO:REINFORCE:Return from iter 3:  74001.591533\n"
       ]
      },
      {
       "output_type": "stream",
       "stream": "stdout",
       "text": [
        "\n",
        "Return from iter 1:  -138483.394768\n",
        "Return from iter 2:  75875.962924\n",
        "Return from iter 3:  74001.591533\n",
        "Updated theta with alpha: 0.125, theta norm: 1.0\n",
        "Return from iter 0:  85249.559524"
       ]
      },
      {
       "output_type": "stream",
       "stream": "stderr",
       "text": [
        "INFO:REINFORCE:********************Iteration: 29\n"
       ]
      },
      {
       "output_type": "stream",
       "stream": "stderr",
       "text": [
        "INFO:REINFORCE:Gradient step\n"
       ]
      },
      {
       "output_type": "stream",
       "stream": "stderr",
       "text": [
        "INFO:REINFORCE:Step norm: 1.0\n"
       ]
      },
      {
       "output_type": "stream",
       "stream": "stderr",
       "text": [
        "INFO:REINFORCE:Alpha: 0.122713300221\n"
       ]
      },
      {
       "output_type": "stream",
       "stream": "stderr",
       "text": [
        "INFO:REINFORCE:Return from iter 0:  85249.559524\n"
       ]
      },
      {
       "output_type": "stream",
       "stream": "stderr",
       "text": [
        "INFO:REINFORCE:Return from iter 1:  82121.786936\n"
       ]
      },
      {
       "output_type": "stream",
       "stream": "stderr",
       "text": [
        "INFO:REINFORCE:Return from iter 2:  77749.758951\n"
       ]
      },
      {
       "output_type": "stream",
       "stream": "stderr",
       "text": [
        "INFO:REINFORCE:Return from iter 3:  77754.834125\n"
       ]
      },
      {
       "output_type": "stream",
       "stream": "stdout",
       "text": [
        "\n",
        "Return from iter 1:  82121.786936\n",
        "Return from iter 2:  77749.758951\n",
        "Return from iter 3:  77754.834125\n",
        "Updated theta with alpha: 0.122713300221, theta norm: 1.0\n",
        "Return from iter 0:  80875.252672"
       ]
      },
      {
       "output_type": "stream",
       "stream": "stderr",
       "text": [
        "INFO:REINFORCE:********************Iteration: 30\n"
       ]
      },
      {
       "output_type": "stream",
       "stream": "stderr",
       "text": [
        "INFO:REINFORCE:Gradient step\n"
       ]
      },
      {
       "output_type": "stream",
       "stream": "stderr",
       "text": [
        "INFO:REINFORCE:Step norm: 1.0\n"
       ]
      },
      {
       "output_type": "stream",
       "stream": "stderr",
       "text": [
        "INFO:REINFORCE:Alpha: 0.120534854999\n"
       ]
      },
      {
       "output_type": "stream",
       "stream": "stderr",
       "text": [
        "INFO:REINFORCE:Return from iter 0:  80875.252672\n"
       ]
      },
      {
       "output_type": "stream",
       "stream": "stderr",
       "text": [
        "INFO:REINFORCE:Return from iter 1:  85244.325746\n"
       ]
      },
      {
       "output_type": "stream",
       "stream": "stderr",
       "text": [
        "INFO:REINFORCE:Return from iter 2:  82127.778400\n"
       ]
      },
      {
       "output_type": "stream",
       "stream": "stderr",
       "text": [
        "INFO:REINFORCE:Return from iter 3:  55254.316689\n"
       ]
      },
      {
       "output_type": "stream",
       "stream": "stdout",
       "text": [
        "\n",
        "Return from iter 1:  85244.325746\n",
        "Return from iter 2:  82127.778400\n",
        "Return from iter 3:  55254.316689\n",
        "Updated theta with alpha: 0.120534854999, theta norm: 1.0\n",
        "Return from iter 0:  80256.690423"
       ]
      },
      {
       "output_type": "stream",
       "stream": "stderr",
       "text": [
        "INFO:REINFORCE:********************Iteration: 31\n"
       ]
      },
      {
       "output_type": "stream",
       "stream": "stderr",
       "text": [
        "INFO:REINFORCE:Gradient step\n"
       ]
      },
      {
       "output_type": "stream",
       "stream": "stderr",
       "text": [
        "INFO:REINFORCE:Step norm: 1.0\n"
       ]
      },
      {
       "output_type": "stream",
       "stream": "stderr",
       "text": [
        "INFO:REINFORCE:Alpha: 0.118456575518\n"
       ]
      },
      {
       "output_type": "stream",
       "stream": "stderr",
       "text": [
        "INFO:REINFORCE:Return from iter 0:  80256.690423\n"
       ]
      },
      {
       "output_type": "stream",
       "stream": "stderr",
       "text": [
        "INFO:REINFORCE:Return from iter 1:  86497.256939\n"
       ]
      },
      {
       "output_type": "stream",
       "stream": "stderr",
       "text": [
        "INFO:REINFORCE:Return from iter 2:  82752.778400\n"
       ]
      },
      {
       "output_type": "stream",
       "stream": "stderr",
       "text": [
        "INFO:REINFORCE:Return from iter 3:  75254.834125\n"
       ]
      },
      {
       "output_type": "stream",
       "stream": "stdout",
       "text": [
        "\n",
        "Return from iter 1:  86497.256939\n",
        "Return from iter 2:  82752.778400\n",
        "Return from iter 3:  75254.834125\n",
        "Updated theta with alpha: 0.118456575518, theta norm: 1.0\n",
        "Return from iter 0:  69000.452099"
       ]
      },
      {
       "output_type": "stream",
       "stream": "stderr",
       "text": [
        "INFO:REINFORCE:********************Iteration: 32\n"
       ]
      },
      {
       "output_type": "stream",
       "stream": "stderr",
       "text": [
        "INFO:REINFORCE:Gradient step\n"
       ]
      },
      {
       "output_type": "stream",
       "stream": "stderr",
       "text": [
        "INFO:REINFORCE:Step norm: 1.0\n"
       ]
      },
      {
       "output_type": "stream",
       "stream": "stderr",
       "text": [
        "INFO:REINFORCE:Alpha: 0.116471186462\n"
       ]
      },
      {
       "output_type": "stream",
       "stream": "stderr",
       "text": [
        "INFO:REINFORCE:Return from iter 0:  69000.452099\n"
       ]
      },
      {
       "output_type": "stream",
       "stream": "stderr",
       "text": [
        "INFO:REINFORCE:Return from iter 1:  -34735.870007\n"
       ]
      },
      {
       "output_type": "stream",
       "stream": "stderr",
       "text": [
        "INFO:REINFORCE:Return from iter 2:  80880.997276\n"
       ]
      },
      {
       "output_type": "stream",
       "stream": "stderr",
       "text": [
        "INFO:REINFORCE:Return from iter 3:  88369.731211\n"
       ]
      },
      {
       "output_type": "stream",
       "stream": "stdout",
       "text": [
        "\n",
        "Return from iter 1:  -34735.870007\n",
        "Return from iter 2:  80880.997276\n",
        "Return from iter 3:  88369.731211\n",
        "Updated theta with alpha: 0.116471186462, theta norm: 1.0\n",
        "Return from iter 0:  87122.950086"
       ]
      },
      {
       "output_type": "stream",
       "stream": "stderr",
       "text": [
        "INFO:REINFORCE:********************Iteration: 33\n"
       ]
      },
      {
       "output_type": "stream",
       "stream": "stderr",
       "text": [
        "INFO:REINFORCE:Gradient step\n"
       ]
      },
      {
       "output_type": "stream",
       "stream": "stderr",
       "text": [
        "INFO:REINFORCE:Step norm: 1.0\n"
       ]
      },
      {
       "output_type": "stream",
       "stream": "stderr",
       "text": [
        "INFO:REINFORCE:Alpha: 0.114572124318\n"
       ]
      },
      {
       "output_type": "stream",
       "stream": "stderr",
       "text": [
        "INFO:REINFORCE:Return from iter 0:  87122.950086\n"
       ]
      },
      {
       "output_type": "stream",
       "stream": "stderr",
       "text": [
        "INFO:REINFORCE:Return from iter 1:  77122.456366\n"
       ]
      },
      {
       "output_type": "stream",
       "stream": "stderr",
       "text": [
        "INFO:REINFORCE:Return from iter 2:  87120.647501\n"
       ]
      },
      {
       "output_type": "stream",
       "stream": "stderr",
       "text": [
        "INFO:REINFORCE:Return from iter 3:  83378.471547\n"
       ]
      },
      {
       "output_type": "stream",
       "stream": "stdout",
       "text": [
        "\n",
        "Return from iter 1:  77122.456366\n",
        "Return from iter 2:  87120.647501\n",
        "Return from iter 3:  83378.471547\n",
        "Updated theta with alpha: 0.114572124318, theta norm: 1.0\n",
        "Return from iter 0:  82127.778400"
       ]
      },
      {
       "output_type": "stream",
       "stream": "stderr",
       "text": [
        "INFO:REINFORCE:********************Iteration: 34\n"
       ]
      },
      {
       "output_type": "stream",
       "stream": "stderr",
       "text": [
        "INFO:REINFORCE:Gradient step\n"
       ]
      },
      {
       "output_type": "stream",
       "stream": "stderr",
       "text": [
        "INFO:REINFORCE:Step norm: 1.0\n"
       ]
      },
      {
       "output_type": "stream",
       "stream": "stderr",
       "text": [
        "INFO:REINFORCE:Alpha: 0.11275345074\n"
       ]
      },
      {
       "output_type": "stream",
       "stream": "stderr",
       "text": [
        "INFO:REINFORCE:Return from iter 0:  82127.778400\n"
       ]
      },
      {
       "output_type": "stream",
       "stream": "stderr",
       "text": [
        "INFO:REINFORCE:Return from iter 1:  80879.387838\n"
       ]
      },
      {
       "output_type": "stream",
       "stream": "stderr",
       "text": [
        "INFO:REINFORCE:Return from iter 2:  76505.057269\n"
       ]
      },
      {
       "output_type": "stream",
       "stream": "stderr",
       "text": [
        "INFO:REINFORCE:Return from iter 3:  84001.168962\n"
       ]
      },
      {
       "output_type": "stream",
       "stream": "stdout",
       "text": [
        "\n",
        "Return from iter 1:  80879.387838\n",
        "Return from iter 2:  76505.057269\n",
        "Return from iter 3:  84001.168962\n",
        "Updated theta with alpha: 0.11275345074, theta norm: 1.0\n",
        "Return from iter 0:  82123.842661"
       ]
      },
      {
       "output_type": "stream",
       "stream": "stderr",
       "text": [
        "INFO:REINFORCE:********************Iteration: 35\n"
       ]
      },
      {
       "output_type": "stream",
       "stream": "stderr",
       "text": [
        "INFO:REINFORCE:Gradient step\n"
       ]
      },
      {
       "output_type": "stream",
       "stream": "stderr",
       "text": [
        "INFO:REINFORCE:Step norm: 1.0\n"
       ]
      },
      {
       "output_type": "stream",
       "stream": "stderr",
       "text": [
        "INFO:REINFORCE:Alpha: 0.11100977842\n"
       ]
      },
      {
       "output_type": "stream",
       "stream": "stderr",
       "text": [
        "INFO:REINFORCE:Return from iter 0:  82123.842661\n"
       ]
      },
      {
       "output_type": "stream",
       "stream": "stderr",
       "text": [
        "INFO:REINFORCE:Return from iter 1:  76504.834125\n"
       ]
      },
      {
       "output_type": "stream",
       "stream": "stderr",
       "text": [
        "INFO:REINFORCE:Return from iter 2:  14000.445488\n"
       ]
      },
      {
       "output_type": "stream",
       "stream": "stderr",
       "text": [
        "INFO:REINFORCE:Return from iter 3:  86494.261207\n"
       ]
      },
      {
       "output_type": "stream",
       "stream": "stdout",
       "text": [
        "\n",
        "Return from iter 1:  76504.834125\n",
        "Return from iter 2:  14000.445488\n",
        "Return from iter 3:  86494.261207\n",
        "Updated theta with alpha: 0.11100977842, theta norm: 1.0\n",
        "Return from iter 0:  84623.866377"
       ]
      },
      {
       "output_type": "stream",
       "stream": "stderr",
       "text": [
        "INFO:REINFORCE:********************Iteration: 36\n"
       ]
      },
      {
       "output_type": "stream",
       "stream": "stderr",
       "text": [
        "INFO:REINFORCE:Gradient step\n"
       ]
      },
      {
       "output_type": "stream",
       "stream": "stderr",
       "text": [
        "INFO:REINFORCE:Step norm: 1.0\n"
       ]
      },
      {
       "output_type": "stream",
       "stream": "stderr",
       "text": [
        "INFO:REINFORCE:Alpha: 0.109336207394\n"
       ]
      },
      {
       "output_type": "stream",
       "stream": "stderr",
       "text": [
        "INFO:REINFORCE:Return from iter 0:  84623.866377\n"
       ]
      },
      {
       "output_type": "stream",
       "stream": "stderr",
       "text": [
        "INFO:REINFORCE:Return from iter 1:  47121.791619\n"
       ]
      },
      {
       "output_type": "stream",
       "stream": "stderr",
       "text": [
        "INFO:REINFORCE:Return from iter 2:  81505.080985\n"
       ]
      },
      {
       "output_type": "stream",
       "stream": "stderr",
       "text": [
        "INFO:REINFORCE:Return from iter 3:  82752.778400\n"
       ]
      },
      {
       "output_type": "stream",
       "stream": "stdout",
       "text": [
        "\n",
        "Return from iter 1:  47121.791619\n",
        "Return from iter 2:  81505.080985\n",
        "Return from iter 3:  82752.778400\n",
        "Updated theta with alpha: 0.109336207394, theta norm: 1.0\n",
        "Return from iter 0:  62761.471304"
       ]
      },
      {
       "output_type": "stream",
       "stream": "stderr",
       "text": [
        "INFO:REINFORCE:********************Iteration: 37\n"
       ]
      },
      {
       "output_type": "stream",
       "stream": "stderr",
       "text": [
        "INFO:REINFORCE:Gradient step\n"
       ]
      },
      {
       "output_type": "stream",
       "stream": "stderr",
       "text": [
        "INFO:REINFORCE:Step norm: 1.0\n"
       ]
      },
      {
       "output_type": "stream",
       "stream": "stderr",
       "text": [
        "INFO:REINFORCE:Alpha: 0.107728270091\n"
       ]
      },
      {
       "output_type": "stream",
       "stream": "stderr",
       "text": [
        "INFO:REINFORCE:Return from iter 0:  62761.471304\n"
       ]
      },
      {
       "output_type": "stream",
       "stream": "stderr",
       "text": [
        "INFO:REINFORCE:Return from iter 1:  82752.085253\n"
       ]
      },
      {
       "output_type": "stream",
       "stream": "stderr",
       "text": [
        "INFO:REINFORCE:Return from iter 2:  74630.057269\n"
       ]
      },
      {
       "output_type": "stream",
       "stream": "stderr",
       "text": [
        "INFO:REINFORCE:Return from iter 3:  79624.089521\n"
       ]
      },
      {
       "output_type": "stream",
       "stream": "stdout",
       "text": [
        "\n",
        "Return from iter 1:  82752.085253\n",
        "Return from iter 2:  74630.057269\n",
        "Return from iter 3:  79624.089521\n",
        "Updated theta with alpha: 0.107728270091, theta norm: 1.0\n",
        "Return from iter 0:  72752.284680"
       ]
      },
      {
       "output_type": "stream",
       "stream": "stderr",
       "text": [
        "INFO:REINFORCE:********************Iteration: 38\n"
       ]
      },
      {
       "output_type": "stream",
       "stream": "stderr",
       "text": [
        "INFO:REINFORCE:Gradient step\n"
       ]
      },
      {
       "output_type": "stream",
       "stream": "stderr",
       "text": [
        "INFO:REINFORCE:Step norm: 1.0\n"
       ]
      },
      {
       "output_type": "stream",
       "stream": "stderr",
       "text": [
        "INFO:REINFORCE:Alpha: 0.106181883741\n"
       ]
      },
      {
       "output_type": "stream",
       "stream": "stderr",
       "text": [
        "INFO:REINFORCE:Return from iter 0:  72752.284680\n"
       ]
      },
      {
       "output_type": "stream",
       "stream": "stderr",
       "text": [
        "INFO:REINFORCE:Return from iter 1:  67759.415579\n"
       ]
      },
      {
       "output_type": "stream",
       "stream": "stderr",
       "text": [
        "INFO:REINFORCE:Return from iter 2:  80880.080985\n"
       ]
      },
      {
       "output_type": "stream",
       "stream": "stderr",
       "text": [
        "INFO:REINFORCE:Return from iter 3:  87120.870645\n"
       ]
      },
      {
       "output_type": "stream",
       "stream": "stdout",
       "text": [
        "\n",
        "Return from iter 1:  67759.415579\n",
        "Return from iter 2:  80880.080985\n",
        "Return from iter 3:  87120.870645\n",
        "Updated theta with alpha: 0.106181883741, theta norm: 1.0\n",
        "Return from iter 0:  86497.950086"
       ]
      },
      {
       "output_type": "stream",
       "stream": "stderr",
       "text": [
        "INFO:REINFORCE:********************Iteration: 39\n"
       ]
      },
      {
       "output_type": "stream",
       "stream": "stderr",
       "text": [
        "INFO:REINFORCE:Gradient step\n"
       ]
      },
      {
       "output_type": "stream",
       "stream": "stderr",
       "text": [
        "INFO:REINFORCE:Step norm: 1.0\n"
       ]
      },
      {
       "output_type": "stream",
       "stream": "stderr",
       "text": [
        "INFO:REINFORCE:Alpha: 0.104693309014\n"
       ]
      },
      {
       "output_type": "stream",
       "stream": "stderr",
       "text": [
        "INFO:REINFORCE:Return from iter 0:  86497.950086\n"
       ]
      },
      {
       "output_type": "stream",
       "stream": "stderr",
       "text": [
        "INFO:REINFORCE:Return from iter 1:  88370.424358\n"
       ]
      },
      {
       "output_type": "stream",
       "stream": "stderr",
       "text": [
        "INFO:REINFORCE:Return from iter 2:  80250.005811\n"
       ]
      },
      {
       "output_type": "stream",
       "stream": "stderr",
       "text": [
        "INFO:REINFORCE:Return from iter 3:  77755.750416\n"
       ]
      },
      {
       "output_type": "stream",
       "stream": "stdout",
       "text": [
        "\n",
        "Return from iter 1:  88370.424358\n",
        "Return from iter 2:  80250.005811\n",
        "Return from iter 3:  77755.750416\n",
        "Updated theta with alpha: 0.104693309014, theta norm: 1.0\n",
        "Return from iter 0:  87743.814920"
       ]
      },
      {
       "output_type": "stream",
       "stream": "stderr",
       "text": [
        "INFO:REINFORCE:********************Iteration: 40\n"
       ]
      },
      {
       "output_type": "stream",
       "stream": "stderr",
       "text": [
        "INFO:REINFORCE:Gradient step\n"
       ]
      },
      {
       "output_type": "stream",
       "stream": "stderr",
       "text": [
        "INFO:REINFORCE:Step norm: 1.0\n"
       ]
      },
      {
       "output_type": "stream",
       "stream": "stderr",
       "text": [
        "INFO:REINFORCE:Alpha: 0.103259113948\n"
       ]
      },
      {
       "output_type": "stream",
       "stream": "stderr",
       "text": [
        "INFO:REINFORCE:Return from iter 0:  87743.814920\n"
       ]
      },
      {
       "output_type": "stream",
       "stream": "stderr",
       "text": [
        "INFO:REINFORCE:Return from iter 1:  79623.619517\n"
       ]
      },
      {
       "output_type": "stream",
       "stream": "stderr",
       "text": [
        "INFO:REINFORCE:Return from iter 2:  87122.256939\n"
       ]
      },
      {
       "output_type": "stream",
       "stream": "stderr",
       "text": [
        "INFO:REINFORCE:Return from iter 3:  76509.950121\n"
       ]
      },
      {
       "output_type": "stream",
       "stream": "stdout",
       "text": [
        "\n",
        "Return from iter 1:  79623.619517\n",
        "Return from iter 2:  87122.256939\n",
        "Return from iter 3:  76509.950121\n",
        "Updated theta with alpha: 0.103259113948, theta norm: 1.0\n",
        "Return from iter 0:  79630.080985"
       ]
      },
      {
       "output_type": "stream",
       "stream": "stderr",
       "text": [
        "INFO:REINFORCE:********************Iteration: 41\n"
       ]
      },
      {
       "output_type": "stream",
       "stream": "stderr",
       "text": [
        "INFO:REINFORCE:Gradient step\n"
       ]
      },
      {
       "output_type": "stream",
       "stream": "stderr",
       "text": [
        "INFO:REINFORCE:Step norm: 1.0\n"
       ]
      },
      {
       "output_type": "stream",
       "stream": "stderr",
       "text": [
        "INFO:REINFORCE:Alpha: 0.101876142388\n"
       ]
      },
      {
       "output_type": "stream",
       "stream": "stderr",
       "text": [
        "INFO:REINFORCE:Return from iter 0:  79630.080985\n"
       ]
      },
      {
       "output_type": "stream",
       "stream": "stderr",
       "text": [
        "INFO:REINFORCE:Return from iter 1:  87119.954354\n"
       ]
      },
      {
       "output_type": "stream",
       "stream": "stderr",
       "text": [
        "INFO:REINFORCE:Return from iter 2:  85871.093788\n"
       ]
      },
      {
       "output_type": "stream",
       "stream": "stderr",
       "text": [
        "INFO:REINFORCE:Return from iter 3:  87121.340649\n"
       ]
      },
      {
       "output_type": "stream",
       "stream": "stdout",
       "text": [
        "\n",
        "Return from iter 1:  87119.954354\n",
        "Return from iter 2:  85871.093788\n",
        "Return from iter 3:  87121.340649\n",
        "Updated theta with alpha: 0.101876142388, theta norm: 1.0\n",
        "Return from iter 0:  83375.475815"
       ]
      },
      {
       "output_type": "stream",
       "stream": "stderr",
       "text": [
        "INFO:REINFORCE:********************Iteration: 42\n"
       ]
      },
      {
       "output_type": "stream",
       "stream": "stderr",
       "text": [
        "INFO:REINFORCE:Gradient step\n"
       ]
      },
      {
       "output_type": "stream",
       "stream": "stderr",
       "text": [
        "INFO:REINFORCE:Step norm: 1.0\n"
       ]
      },
      {
       "output_type": "stream",
       "stream": "stderr",
       "text": [
        "INFO:REINFORCE:Alpha: 0.100541486276\n"
       ]
      },
      {
       "output_type": "stream",
       "stream": "stderr",
       "text": [
        "INFO:REINFORCE:Return from iter 0:  83375.475815\n"
       ]
      },
      {
       "output_type": "stream",
       "stream": "stderr",
       "text": [
        "INFO:REINFORCE:Return from iter 1:  83997.480083\n"
       ]
      },
      {
       "output_type": "stream",
       "stream": "stderr",
       "text": [
        "INFO:REINFORCE:Return from iter 2:  87745.647501\n"
       ]
      },
      {
       "output_type": "stream",
       "stream": "stderr",
       "text": [
        "INFO:REINFORCE:Return from iter 3:  88366.735478\n"
       ]
      },
      {
       "output_type": "stream",
       "stream": "stdout",
       "text": [
        "\n",
        "Return from iter 1:  83997.480083\n",
        "Return from iter 2:  87745.647501\n",
        "Return from iter 3:  88366.735478\n",
        "Updated theta with alpha: 0.100541486276, theta norm: 1.0\n",
        "Return from iter 0:  84624.559524"
       ]
      },
      {
       "output_type": "stream",
       "stream": "stderr",
       "text": [
        "INFO:REINFORCE:********************Iteration: 43\n"
       ]
      },
      {
       "output_type": "stream",
       "stream": "stderr",
       "text": [
        "INFO:REINFORCE:Gradient step\n"
       ]
      },
      {
       "output_type": "stream",
       "stream": "stderr",
       "text": [
        "INFO:REINFORCE:Step norm: 1.0\n"
       ]
      },
      {
       "output_type": "stream",
       "stream": "stderr",
       "text": [
        "INFO:REINFORCE:Alpha: 0.0992524612706\n"
       ]
      },
      {
       "output_type": "stream",
       "stream": "stderr",
       "text": [
        "INFO:REINFORCE:Return from iter 0:  84624.559524\n"
       ]
      },
      {
       "output_type": "stream",
       "stream": "stderr",
       "text": [
        "INFO:REINFORCE:Return from iter 1:  84001.168962\n"
       ]
      },
      {
       "output_type": "stream",
       "stream": "stderr",
       "text": [
        "INFO:REINFORCE:Return from iter 2:  89619.038063\n"
       ]
      },
      {
       "output_type": "stream",
       "stream": "stderr",
       "text": [
        "INFO:REINFORCE:Return from iter 3:  82750.005811\n"
       ]
      },
      {
       "output_type": "stream",
       "stream": "stdout",
       "text": [
        "\n",
        "Return from iter 1:  84001.168962\n",
        "Return from iter 2:  89619.038063\n",
        "Return from iter 3:  82750.005811\n",
        "Updated theta with alpha: 0.0992524612706, theta norm: 1.0\n",
        "Return from iter 0:  83369.954354"
       ]
      },
      {
       "output_type": "stream",
       "stream": "stderr",
       "text": [
        "INFO:REINFORCE:********************Iteration: 44\n"
       ]
      },
      {
       "output_type": "stream",
       "stream": "stderr",
       "text": [
        "INFO:REINFORCE:Gradient step\n"
       ]
      },
      {
       "output_type": "stream",
       "stream": "stderr",
       "text": [
        "INFO:REINFORCE:Step norm: 1.0\n"
       ]
      },
      {
       "output_type": "stream",
       "stream": "stderr",
       "text": [
        "INFO:REINFORCE:Alpha: 0.0980065852104\n"
       ]
      },
      {
       "output_type": "stream",
       "stream": "stderr",
       "text": [
        "INFO:REINFORCE:Return from iter 0:  83369.954354\n"
       ]
      },
      {
       "output_type": "stream",
       "stream": "stderr",
       "text": [
        "INFO:REINFORCE:Return from iter 1:  90868.121773\n"
       ]
      },
      {
       "output_type": "stream",
       "stream": "stderr",
       "text": [
        "INFO:REINFORCE:Return from iter 2:  24631.781433\n"
       ]
      },
      {
       "output_type": "stream",
       "stream": "stderr",
       "text": [
        "INFO:REINFORCE:Return from iter 3:  82749.089521\n"
       ]
      },
      {
       "output_type": "stream",
       "stream": "stdout",
       "text": [
        "\n",
        "Return from iter 1:  90868.121773\n",
        "Return from iter 2:  24631.781433\n",
        "Return from iter 3:  82749.089521\n",
        "Updated theta with alpha: 0.0980065852104, theta norm: 1.0\n",
        "Return from iter 0:  80875.005811"
       ]
      },
      {
       "output_type": "stream",
       "stream": "stderr",
       "text": [
        "INFO:REINFORCE:********************Iteration: 45\n"
       ]
      },
      {
       "output_type": "stream",
       "stream": "stderr",
       "text": [
        "INFO:REINFORCE:Gradient step\n"
       ]
      },
      {
       "output_type": "stream",
       "stream": "stderr",
       "text": [
        "INFO:REINFORCE:Step norm: 1.0\n"
       ]
      },
      {
       "output_type": "stream",
       "stream": "stderr",
       "text": [
        "INFO:REINFORCE:Alpha: 0.0968015590572\n"
       ]
      },
      {
       "output_type": "stream",
       "stream": "stderr",
       "text": [
        "INFO:REINFORCE:Return from iter 0:  80875.005811\n"
       ]
      },
      {
       "output_type": "stream",
       "stream": "stderr",
       "text": [
        "INFO:REINFORCE:Return from iter 1:  87744.261207\n"
       ]
      },
      {
       "output_type": "stream",
       "stream": "stderr",
       "text": [
        "INFO:REINFORCE:Return from iter 2:  79622.233223\n"
       ]
      },
      {
       "output_type": "stream",
       "stream": "stderr",
       "text": [
        "INFO:REINFORCE:Return from iter 3:  69002.484107\n"
       ]
      },
      {
       "output_type": "stream",
       "stream": "stdout",
       "text": [
        "\n",
        "Return from iter 1:  87744.261207\n",
        "Return from iter 2:  79622.233223\n",
        "Return from iter 3:  69002.484107\n",
        "Updated theta with alpha: 0.0968015590572, theta norm: 1.0\n",
        "Return from iter 0:  88370.647501"
       ]
      },
      {
       "output_type": "stream",
       "stream": "stderr",
       "text": [
        "INFO:REINFORCE:********************Iteration: 46\n"
       ]
      },
      {
       "output_type": "stream",
       "stream": "stderr",
       "text": [
        "INFO:REINFORCE:Gradient step\n"
       ]
      },
      {
       "output_type": "stream",
       "stream": "stderr",
       "text": [
        "INFO:REINFORCE:Step norm: 1.0\n"
       ]
      },
      {
       "output_type": "stream",
       "stream": "stderr",
       "text": [
        "INFO:REINFORCE:Alpha: 0.095635249979\n"
       ]
      },
      {
       "output_type": "stream",
       "stream": "stderr",
       "text": [
        "INFO:REINFORCE:Return from iter 0:  88370.647501\n"
       ]
      },
      {
       "output_type": "stream",
       "stream": "stderr",
       "text": [
        "INFO:REINFORCE:Return from iter 1:  85244.261207\n"
       ]
      },
      {
       "output_type": "stream",
       "stream": "stderr",
       "text": [
        "INFO:REINFORCE:Return from iter 2:  83998.866377\n"
       ]
      },
      {
       "output_type": "stream",
       "stream": "stderr",
       "text": [
        "INFO:REINFORCE:Return from iter 3:  82753.471547\n"
       ]
      },
      {
       "output_type": "stream",
       "stream": "stdout",
       "text": [
        "\n",
        "Return from iter 1:  85244.261207\n",
        "Return from iter 2:  83998.866377\n",
        "Return from iter 3:  82753.471547\n",
        "Updated theta with alpha: 0.095635249979, theta norm: 1.0\n",
        "Return from iter 0:  86498.643234"
       ]
      },
      {
       "output_type": "stream",
       "stream": "stderr",
       "text": [
        "INFO:REINFORCE:********************Iteration: 47\n"
       ]
      },
      {
       "output_type": "stream",
       "stream": "stderr",
       "text": [
        "INFO:REINFORCE:Gradient step\n"
       ]
      },
      {
       "output_type": "stream",
       "stream": "stderr",
       "text": [
        "INFO:REINFORCE:Step norm: 1.0\n"
       ]
      },
      {
       "output_type": "stream",
       "stream": "stderr",
       "text": [
        "INFO:REINFORCE:Alpha: 0.0945056762986\n"
       ]
      },
      {
       "output_type": "stream",
       "stream": "stderr",
       "text": [
        "INFO:REINFORCE:Return from iter 0:  86498.643234\n"
       ]
      },
      {
       "output_type": "stream",
       "stream": "stderr",
       "text": [
        "INFO:REINFORCE:Return from iter 1:  82126.392106\n"
       ]
      },
      {
       "output_type": "stream",
       "stream": "stderr",
       "text": [
        "INFO:REINFORCE:Return from iter 2:  72750.675242\n"
       ]
      },
      {
       "output_type": "stream",
       "stream": "stderr",
       "text": [
        "INFO:REINFORCE:Return from iter 3:  88370.647501\n"
       ]
      },
      {
       "output_type": "stream",
       "stream": "stdout",
       "text": [
        "\n",
        "Return from iter 1:  82126.392106\n",
        "Return from iter 2:  72750.675242\n",
        "Return from iter 3:  88370.647501\n",
        "Updated theta with alpha: 0.0945056762986, theta norm: 1.0\n",
        "Return from iter 0:  70259.192435"
       ]
      },
      {
       "output_type": "stream",
       "stream": "stderr",
       "text": [
        "INFO:REINFORCE:********************Iteration: 48\n"
       ]
      },
      {
       "output_type": "stream",
       "stream": "stderr",
       "text": [
        "INFO:REINFORCE:Gradient step\n"
       ]
      },
      {
       "output_type": "stream",
       "stream": "stderr",
       "text": [
        "INFO:REINFORCE:Step norm: 1.0\n"
       ]
      },
      {
       "output_type": "stream",
       "stream": "stderr",
       "text": [
        "INFO:REINFORCE:Alpha: 0.0934109940697\n"
       ]
      },
      {
       "output_type": "stream",
       "stream": "stderr",
       "text": [
        "INFO:REINFORCE:Return from iter 0:  70259.192435\n"
       ]
      },
      {
       "output_type": "stream",
       "stream": "stderr",
       "text": [
        "INFO:REINFORCE:Return from iter 1:  69006.642990\n"
       ]
      },
      {
       "output_type": "stream",
       "stream": "stderr",
       "text": [
        "INFO:REINFORCE:Return from iter 2:  89619.731211\n"
       ]
      },
      {
       "output_type": "stream",
       "stream": "stderr",
       "text": [
        "INFO:REINFORCE:Return from iter 3:  66511.471304\n"
       ]
      },
      {
       "output_type": "stream",
       "stream": "stdout",
       "text": [
        "\n",
        "Return from iter 1:  69006.642990\n",
        "Return from iter 2:  89619.731211\n",
        "Return from iter 3:  66511.471304\n",
        "Updated theta with alpha: 0.0934109940697, theta norm: 1.0\n",
        "Return from iter 0:  85243.344916"
       ]
      },
      {
       "output_type": "stream",
       "stream": "stderr",
       "text": [
        "INFO:REINFORCE:********************Iteration: 49\n"
       ]
      },
      {
       "output_type": "stream",
       "stream": "stderr",
       "text": [
        "INFO:REINFORCE:Gradient step\n"
       ]
      },
      {
       "output_type": "stream",
       "stream": "stderr",
       "text": [
        "INFO:REINFORCE:Step norm: 1.0\n"
       ]
      },
      {
       "output_type": "stream",
       "stream": "stderr",
       "text": [
        "INFO:REINFORCE:Alpha: 0.0923494850768\n"
       ]
      },
      {
       "output_type": "stream",
       "stream": "stderr",
       "text": [
        "INFO:REINFORCE:Return from iter 0:  85243.344916\n"
       ]
      },
      {
       "output_type": "stream",
       "stream": "stderr",
       "text": [
        "INFO:REINFORCE:Return from iter 1:  89619.731211\n"
       ]
      },
      {
       "output_type": "stream",
       "stream": "stderr",
       "text": [
        "INFO:REINFORCE:Return from iter 2:  88993.344916\n"
       ]
      },
      {
       "output_type": "stream",
       "stream": "stderr",
       "text": [
        "INFO:REINFORCE:Return from iter 3:  70249.758951\n"
       ]
      },
      {
       "output_type": "stream",
       "stream": "stdout",
       "text": [
        "\n",
        "Return from iter 1:  89619.731211\n",
        "Return from iter 2:  88993.344916\n",
        "Return from iter 3:  70249.758951\n",
        "Updated theta with alpha: 0.0923494850768, theta norm: 1.0\n",
        "Return from iter 0:  87123.643234"
       ]
      },
      {
       "output_type": "stream",
       "stream": "stderr",
       "text": [
        "INFO:REINFORCE:********************Iteration: 50\n"
       ]
      },
      {
       "output_type": "stream",
       "stream": "stderr",
       "text": [
        "INFO:REINFORCE:Gradient step\n"
       ]
      },
      {
       "output_type": "stream",
       "stream": "stderr",
       "text": [
        "INFO:REINFORCE:Step norm: 1.0\n"
       ]
      },
      {
       "output_type": "stream",
       "stream": "stderr",
       "text": [
        "INFO:REINFORCE:Alpha: 0.0913195460843\n"
       ]
      },
      {
       "output_type": "stream",
       "stream": "stderr",
       "text": [
        "INFO:REINFORCE:Return from iter 0:  87123.643234\n"
       ]
      },
      {
       "output_type": "stream",
       "stream": "stderr",
       "text": [
        "INFO:REINFORCE:Return from iter 1:  88993.344916\n"
       ]
      },
      {
       "output_type": "stream",
       "stream": "stderr",
       "text": [
        "INFO:REINFORCE:Return from iter 2:  85244.261207\n"
       ]
      },
      {
       "output_type": "stream",
       "stream": "stderr",
       "text": [
        "INFO:REINFORCE:Return from iter 3:  65257.312421\n"
       ]
      },
      {
       "output_type": "stream",
       "stream": "stdout",
       "text": [
        "\n",
        "Return from iter 1:  88993.344916\n",
        "Return from iter 2:  85244.261207\n",
        "Return from iter 3:  65257.312421\n",
        "Updated theta with alpha: 0.0913195460843, theta norm: 1.0\n",
        "Return from iter 0:  83375.475815"
       ]
      },
      {
       "output_type": "stream",
       "stream": "stderr",
       "text": [
        "INFO:REINFORCE:********************Iteration: 51\n"
       ]
      },
      {
       "output_type": "stream",
       "stream": "stderr",
       "text": [
        "INFO:REINFORCE:Gradient step\n"
       ]
      },
      {
       "output_type": "stream",
       "stream": "stderr",
       "text": [
        "INFO:REINFORCE:Step norm: 1.0\n"
       ]
      },
      {
       "output_type": "stream",
       "stream": "stderr",
       "text": [
        "INFO:REINFORCE:Alpha: 0.090319679184\n"
       ]
      },
      {
       "output_type": "stream",
       "stream": "stderr",
       "text": [
        "INFO:REINFORCE:Return from iter 0:  83375.475815\n"
       ]
      },
      {
       "output_type": "stream",
       "stream": "stderr",
       "text": [
        "INFO:REINFORCE:Return from iter 1:  84623.684056\n"
       ]
      },
      {
       "output_type": "stream",
       "stream": "stderr",
       "text": [
        "INFO:REINFORCE:Return from iter 2:  84002.778400\n"
       ]
      },
      {
       "output_type": "stream",
       "stream": "stderr",
       "text": [
        "INFO:REINFORCE:Return from iter 3:  86497.256939\n"
       ]
      },
      {
       "output_type": "stream",
       "stream": "stdout",
       "text": [
        "\n",
        "Return from iter 1:  84623.684056\n",
        "Return from iter 2:  84002.778400\n",
        "Return from iter 3:  86497.256939\n",
        "Updated theta with alpha: 0.090319679184, theta norm: 1.0\n",
        "Return from iter 0:  82752.778400"
       ]
      },
      {
       "output_type": "stream",
       "stream": "stderr",
       "text": [
        "INFO:REINFORCE:********************Iteration: 52\n"
       ]
      },
      {
       "output_type": "stream",
       "stream": "stderr",
       "text": [
        "INFO:REINFORCE:Gradient step\n"
       ]
      },
      {
       "output_type": "stream",
       "stream": "stderr",
       "text": [
        "INFO:REINFORCE:Step norm: 1.0\n"
       ]
      },
      {
       "output_type": "stream",
       "stream": "stderr",
       "text": [
        "INFO:REINFORCE:Alpha: 0.0893484831122\n"
       ]
      },
      {
       "output_type": "stream",
       "stream": "stderr",
       "text": [
        "INFO:REINFORCE:Return from iter 0:  82752.778400\n"
       ]
      },
      {
       "output_type": "stream",
       "stream": "stderr",
       "text": [
        "INFO:REINFORCE:Return from iter 1:  86496.851474\n"
       ]
      },
      {
       "output_type": "stream",
       "stream": "stderr",
       "text": [
        "INFO:REINFORCE:Return from iter 2:  84002.555257\n"
       ]
      },
      {
       "output_type": "stream",
       "stream": "stderr",
       "text": [
        "INFO:REINFORCE:Return from iter 3:  82120.400641\n"
       ]
      },
      {
       "output_type": "stream",
       "stream": "stdout",
       "text": [
        "\n",
        "Return from iter 1:  86496.851474\n",
        "Return from iter 2:  84002.555257\n",
        "Return from iter 3:  82120.400641\n",
        "Updated theta with alpha: 0.0893484831122, theta norm: 1.0\n",
        "Return from iter 0:  90243.121773"
       ]
      },
      {
       "output_type": "stream",
       "stream": "stderr",
       "text": [
        "INFO:REINFORCE:********************Iteration: 53\n"
       ]
      },
      {
       "output_type": "stream",
       "stream": "stderr",
       "text": [
        "INFO:REINFORCE:Gradient step\n"
       ]
      },
      {
       "output_type": "stream",
       "stream": "stderr",
       "text": [
        "INFO:REINFORCE:Step norm: 1.0\n"
       ]
      },
      {
       "output_type": "stream",
       "stream": "stderr",
       "text": [
        "INFO:REINFORCE:Alpha: 0.0884046454216\n"
       ]
      },
      {
       "output_type": "stream",
       "stream": "stderr",
       "text": [
        "INFO:REINFORCE:Return from iter 0:  90243.121773\n"
       ]
      },
      {
       "output_type": "stream",
       "stream": "stderr",
       "text": [
        "INFO:REINFORCE:Return from iter 1:  80254.140978\n"
       ]
      },
      {
       "output_type": "stream",
       "stream": "stderr",
       "text": [
        "INFO:REINFORCE:Return from iter 2:  86494.954354\n"
       ]
      },
      {
       "output_type": "stream",
       "stream": "stderr",
       "text": [
        "INFO:REINFORCE:Return from iter 3:  88369.954354\n"
       ]
      },
      {
       "output_type": "stream",
       "stream": "stdout",
       "text": [
        "\n",
        "Return from iter 1:  80254.140978\n",
        "Return from iter 2:  86494.954354\n",
        "Return from iter 3:  88369.954354\n",
        "Updated theta with alpha: 0.0884046454216, theta norm: 1.0\n",
        "Return from iter 0:  72756.889850"
       ]
      },
      {
       "output_type": "stream",
       "stream": "stderr",
       "text": [
        "INFO:REINFORCE:********************Iteration: 54\n"
       ]
      },
      {
       "output_type": "stream",
       "stream": "stderr",
       "text": [
        "INFO:REINFORCE:Gradient step\n"
       ]
      },
      {
       "output_type": "stream",
       "stream": "stderr",
       "text": [
        "INFO:REINFORCE:Step norm: 1.0\n"
       ]
      },
      {
       "output_type": "stream",
       "stream": "stderr",
       "text": [
        "INFO:REINFORCE:Alpha: 0.0874869354134\n"
       ]
      },
      {
       "output_type": "stream",
       "stream": "stderr",
       "text": [
        "INFO:REINFORCE:Return from iter 0:  72756.889850\n"
       ]
      },
      {
       "output_type": "stream",
       "stream": "stderr",
       "text": [
        "INFO:REINFORCE:Return from iter 1:  79000.922102\n"
       ]
      },
      {
       "output_type": "stream",
       "stream": "stderr",
       "text": [
        "INFO:REINFORCE:Return from iter 2:  84002.778400\n"
       ]
      },
      {
       "output_type": "stream",
       "stream": "stderr",
       "text": [
        "INFO:REINFORCE:Return from iter 3:  82753.471547\n"
       ]
      },
      {
       "output_type": "stream",
       "stream": "stdout",
       "text": [
        "\n",
        "Return from iter 1:  79000.922102\n",
        "Return from iter 2:  84002.778400\n",
        "Return from iter 3:  82753.471547\n",
        "Updated theta with alpha: 0.0874869354134, theta norm: 1.0\n",
        "Return from iter 0:  76501.838393"
       ]
      },
      {
       "output_type": "stream",
       "stream": "stderr",
       "text": [
        "INFO:REINFORCE:********************Iteration: 55\n"
       ]
      },
      {
       "output_type": "stream",
       "stream": "stderr",
       "text": [
        "INFO:REINFORCE:Gradient step\n"
       ]
      },
      {
       "output_type": "stream",
       "stream": "stderr",
       "text": [
        "INFO:REINFORCE:Step norm: 1.0\n"
       ]
      },
      {
       "output_type": "stream",
       "stream": "stderr",
       "text": [
        "INFO:REINFORCE:Alpha: 0.0865941977407\n"
       ]
      },
      {
       "output_type": "stream",
       "stream": "stderr",
       "text": [
        "INFO:REINFORCE:Return from iter 0:  76501.838393\n"
       ]
      },
      {
       "output_type": "stream",
       "stream": "stderr",
       "text": [
        "INFO:REINFORCE:Return from iter 1:  82754.387838\n"
       ]
      },
      {
       "output_type": "stream",
       "stream": "stderr",
       "text": [
        "INFO:REINFORCE:Return from iter 2:  85250.475815\n"
       ]
      },
      {
       "output_type": "stream",
       "stream": "stderr",
       "text": [
        "INFO:REINFORCE:Return from iter 3:  84620.870645\n"
       ]
      },
      {
       "output_type": "stream",
       "stream": "stdout",
       "text": [
        "\n",
        "Return from iter 1:  82754.387838\n",
        "Return from iter 2:  85250.475815\n",
        "Return from iter 3:  84620.870645\n",
        "Updated theta with alpha: 0.0865941977407, theta norm: 1.0\n",
        "Return from iter 0:  88994.731211"
       ]
      },
      {
       "output_type": "stream",
       "stream": "stderr",
       "text": [
        "INFO:REINFORCE:********************Iteration: 56\n"
       ]
      },
      {
       "output_type": "stream",
       "stream": "stderr",
       "text": [
        "INFO:REINFORCE:Gradient step\n"
       ]
      },
      {
       "output_type": "stream",
       "stream": "stderr",
       "text": [
        "INFO:REINFORCE:Step norm: 1.0\n"
       ]
      },
      {
       "output_type": "stream",
       "stream": "stderr",
       "text": [
        "INFO:REINFORCE:Alpha: 0.0857253466126\n"
       ]
      },
      {
       "output_type": "stream",
       "stream": "stderr",
       "text": [
        "INFO:REINFORCE:Return from iter 0:  88994.731211\n"
       ]
      },
      {
       "output_type": "stream",
       "stream": "stderr",
       "text": [
        "INFO:REINFORCE:Return from iter 1:  75256.443563\n"
       ]
      },
      {
       "output_type": "stream",
       "stream": "stderr",
       "text": [
        "INFO:REINFORCE:Return from iter 2:  85251.862109\n"
       ]
      },
      {
       "output_type": "stream",
       "stream": "stderr",
       "text": [
        "INFO:REINFORCE:Return from iter 3:  88370.647501\n"
       ]
      },
      {
       "output_type": "stream",
       "stream": "stdout",
       "text": [
        "\n",
        "Return from iter 1:  75256.443563\n",
        "Return from iter 2:  85251.862109\n",
        "Return from iter 3:  88370.647501\n",
        "Updated theta with alpha: 0.0857253466126, theta norm: 1.0\n",
        "Return from iter 0:  87119.078885"
       ]
      },
      {
       "output_type": "stream",
       "stream": "stderr",
       "text": [
        "INFO:REINFORCE:********************Iteration: 57\n"
       ]
      },
      {
       "output_type": "stream",
       "stream": "stderr",
       "text": [
        "INFO:REINFORCE:Gradient step\n"
       ]
      },
      {
       "output_type": "stream",
       "stream": "stderr",
       "text": [
        "INFO:REINFORCE:Step norm: 1.0\n"
       ]
      },
      {
       "output_type": "stream",
       "stream": "stderr",
       "text": [
        "INFO:REINFORCE:Alpha: 0.0848793605311\n"
       ]
      },
      {
       "output_type": "stream",
       "stream": "stderr",
       "text": [
        "INFO:REINFORCE:Return from iter 0:  87119.078885\n"
       ]
      },
      {
       "output_type": "stream",
       "stream": "stderr",
       "text": [
        "INFO:REINFORCE:Return from iter 1:  80881.690423\n"
       ]
      },
      {
       "output_type": "stream",
       "stream": "stderr",
       "text": [
        "INFO:REINFORCE:Return from iter 2:  89617.428626\n"
       ]
      },
      {
       "output_type": "stream",
       "stream": "stderr",
       "text": [
        "INFO:REINFORCE:Return from iter 3:  87746.340649\n"
       ]
      },
      {
       "output_type": "stream",
       "stream": "stdout",
       "text": [
        "\n",
        "Return from iter 1:  80881.690423\n",
        "Return from iter 2:  89617.428626\n",
        "Return from iter 3:  87746.340649\n",
        "Updated theta with alpha: 0.0848793605311, theta norm: 1.0\n",
        "Return from iter 0:  88994.731211"
       ]
      },
      {
       "output_type": "stream",
       "stream": "stderr",
       "text": [
        "INFO:REINFORCE:********************Iteration: 58\n"
       ]
      },
      {
       "output_type": "stream",
       "stream": "stderr",
       "text": [
        "INFO:REINFORCE:Gradient step\n"
       ]
      },
      {
       "output_type": "stream",
       "stream": "stderr",
       "text": [
        "INFO:REINFORCE:Step norm: 1.0\n"
       ]
      },
      {
       "output_type": "stream",
       "stream": "stderr",
       "text": [
        "INFO:REINFORCE:Alpha: 0.0840552775055\n"
       ]
      },
      {
       "output_type": "stream",
       "stream": "stderr",
       "text": [
        "INFO:REINFORCE:Return from iter 0:  88994.731211\n"
       ]
      },
      {
       "output_type": "stream",
       "stream": "stderr",
       "text": [
        "INFO:REINFORCE:Return from iter 1:  83376.862109\n"
       ]
      },
      {
       "output_type": "stream",
       "stream": "stderr",
       "text": [
        "INFO:REINFORCE:Return from iter 2:  90868.121773\n"
       ]
      },
      {
       "output_type": "stream",
       "stream": "stderr",
       "text": [
        "INFO:REINFORCE:Return from iter 3:  82748.396374\n"
       ]
      },
      {
       "output_type": "stream",
       "stream": "stdout",
       "text": [
        "\n",
        "Return from iter 1:  83376.862109\n",
        "Return from iter 2:  90868.121773\n",
        "Return from iter 3:  82748.396374\n",
        "Updated theta with alpha: 0.0840552775055, theta norm: 1.0\n",
        "Return from iter 0:  88370.647501"
       ]
      },
      {
       "output_type": "stream",
       "stream": "stderr",
       "text": [
        "INFO:REINFORCE:********************Iteration: 59\n"
       ]
      },
      {
       "output_type": "stream",
       "stream": "stderr",
       "text": [
        "INFO:REINFORCE:Gradient step\n"
       ]
      },
      {
       "output_type": "stream",
       "stream": "stderr",
       "text": [
        "INFO:REINFORCE:Step norm: 1.0\n"
       ]
      },
      {
       "output_type": "stream",
       "stream": "stderr",
       "text": [
        "INFO:REINFORCE:Alpha: 0.0832521906932\n"
       ]
      },
      {
       "output_type": "stream",
       "stream": "stderr",
       "text": [
        "INFO:REINFORCE:Return from iter 0:  88370.647501\n"
       ]
      },
      {
       "output_type": "stream",
       "stream": "stderr",
       "text": [
        "INFO:REINFORCE:Return from iter 1:  -41619.428022\n"
       ]
      },
      {
       "output_type": "stream",
       "stream": "stderr",
       "text": [
        "INFO:REINFORCE:Return from iter 2:  85873.643234\n"
       ]
      },
      {
       "output_type": "stream",
       "stream": "stderr",
       "text": [
        "INFO:REINFORCE:Return from iter 3:  89619.731211\n"
       ]
      },
      {
       "output_type": "stream",
       "stream": "stdout",
       "text": [
        "\n",
        "Return from iter 1:  -41619.428022\n",
        "Return from iter 2:  85873.643234\n",
        "Return from iter 3:  89619.731211\n",
        "Updated theta with alpha: 0.0832521906932, theta norm: 1.0\n",
        "Return from iter 0:  88994.731211"
       ]
      },
      {
       "output_type": "stream",
       "stream": "stderr",
       "text": [
        "INFO:REINFORCE:********************Iteration: 60\n"
       ]
      },
      {
       "output_type": "stream",
       "stream": "stderr",
       "text": [
        "INFO:REINFORCE:Gradient step\n"
       ]
      },
      {
       "output_type": "stream",
       "stream": "stderr",
       "text": [
        "INFO:REINFORCE:Step norm: 1.0\n"
       ]
      },
      {
       "output_type": "stream",
       "stream": "stderr",
       "text": [
        "INFO:REINFORCE:Alpha: 0.0824692444233\n"
       ]
      },
      {
       "output_type": "stream",
       "stream": "stderr",
       "text": [
        "INFO:REINFORCE:Return from iter 0:  88994.731211\n"
       ]
      },
      {
       "output_type": "stream",
       "stream": "stderr",
       "text": [
        "INFO:REINFORCE:Return from iter 1:  87745.870645\n"
       ]
      },
      {
       "output_type": "stream",
       "stream": "stderr",
       "text": [
        "INFO:REINFORCE:Return from iter 2:  85251.456644\n"
       ]
      },
      {
       "output_type": "stream",
       "stream": "stderr",
       "text": [
        "INFO:REINFORCE:Return from iter 3:  74001.226890\n"
       ]
      },
      {
       "output_type": "stream",
       "stream": "stdout",
       "text": [
        "\n",
        "Return from iter 1:  87745.870645\n",
        "Return from iter 2:  85251.456644\n",
        "Return from iter 3:  74001.226890\n",
        "Updated theta with alpha: 0.0824692444233, theta norm: 1.0\n",
        "Return from iter 0:  34631.619274"
       ]
      },
      {
       "output_type": "stream",
       "stream": "stderr",
       "text": [
        "INFO:REINFORCE:********************Iteration: 61\n"
       ]
      },
      {
       "output_type": "stream",
       "stream": "stderr",
       "text": [
        "INFO:REINFORCE:Gradient step\n"
       ]
      },
      {
       "output_type": "stream",
       "stream": "stderr",
       "text": [
        "INFO:REINFORCE:Step norm: 1.0\n"
       ]
      },
      {
       "output_type": "stream",
       "stream": "stderr",
       "text": [
        "INFO:REINFORCE:Alpha: 0.0817056305641\n"
       ]
      },
      {
       "output_type": "stream",
       "stream": "stderr",
       "text": [
        "INFO:REINFORCE:Return from iter 0:  34631.619274\n"
       ]
      },
      {
       "output_type": "stream",
       "stream": "stderr",
       "text": [
        "INFO:REINFORCE:Return from iter 1:  84624.559524\n"
       ]
      },
      {
       "output_type": "stream",
       "stream": "stderr",
       "text": [
        "INFO:REINFORCE:Return from iter 2:  -42862.038969\n"
       ]
      },
      {
       "output_type": "stream",
       "stream": "stderr",
       "text": [
        "INFO:REINFORCE:Return from iter 3:  88370.647501\n"
       ]
      },
      {
       "output_type": "stream",
       "stream": "stdout",
       "text": [
        "\n",
        "Return from iter 1:  84624.559524\n",
        "Return from iter 2:  -42862.038969\n",
        "Return from iter 3:  88370.647501\n",
        "Updated theta with alpha: 0.0817056305641, theta norm: 1.0\n",
        "Return from iter 0:  90868.121773"
       ]
      },
      {
       "output_type": "stream",
       "stream": "stderr",
       "text": [
        "INFO:REINFORCE:********************Iteration: 62\n"
       ]
      },
      {
       "output_type": "stream",
       "stream": "stderr",
       "text": [
        "INFO:REINFORCE:Gradient step\n"
       ]
      },
      {
       "output_type": "stream",
       "stream": "stderr",
       "text": [
        "INFO:REINFORCE:Step norm: 1.0\n"
       ]
      },
      {
       "output_type": "stream",
       "stream": "stderr",
       "text": [
        "INFO:REINFORCE:Alpha: 0.0809605851994\n"
       ]
      },
      {
       "output_type": "stream",
       "stream": "stderr",
       "text": [
        "INFO:REINFORCE:Return from iter 0:  90868.121773\n"
       ]
      },
      {
       "output_type": "stream",
       "stream": "stderr",
       "text": [
        "INFO:REINFORCE:Return from iter 1:  78377.778400\n"
       ]
      },
      {
       "output_type": "stream",
       "stream": "stderr",
       "text": [
        "INFO:REINFORCE:Return from iter 2:  78374.312664\n"
       ]
      },
      {
       "output_type": "stream",
       "stream": "stderr",
       "text": [
        "INFO:REINFORCE:Return from iter 3:  82128.471547\n"
       ]
      },
      {
       "output_type": "stream",
       "stream": "stdout",
       "text": [
        "\n",
        "Return from iter 1:  78377.778400\n",
        "Return from iter 2:  78374.312664\n",
        "Return from iter 3:  82128.471547\n",
        "Updated theta with alpha: 0.0809605851994, theta norm: 1.0\n",
        "Return from iter 0:  79632.606714"
       ]
      },
      {
       "output_type": "stream",
       "stream": "stderr",
       "text": [
        "INFO:REINFORCE:********************Iteration: 63\n"
       ]
      },
      {
       "output_type": "stream",
       "stream": "stderr",
       "text": [
        "INFO:REINFORCE:Gradient step\n"
       ]
      },
      {
       "output_type": "stream",
       "stream": "stderr",
       "text": [
        "INFO:REINFORCE:Step norm: 1.0\n"
       ]
      },
      {
       "output_type": "stream",
       "stream": "stderr",
       "text": [
        "INFO:REINFORCE:Alpha: 0.0802333855834\n"
       ]
      },
      {
       "output_type": "stream",
       "stream": "stderr",
       "text": [
        "INFO:REINFORCE:Return from iter 0:  79632.606714\n"
       ]
      },
      {
       "output_type": "stream",
       "stream": "stderr",
       "text": [
        "INFO:REINFORCE:Return from iter 1:  87744.038063\n"
       ]
      },
      {
       "output_type": "stream",
       "stream": "stderr",
       "text": [
        "INFO:REINFORCE:Return from iter 2:  81503.001544\n"
       ]
      },
      {
       "output_type": "stream",
       "stream": "stderr",
       "text": [
        "INFO:REINFORCE:Return from iter 3:  84001.862109\n"
       ]
      },
      {
       "output_type": "stream",
       "stream": "stdout",
       "text": [
        "\n",
        "Return from iter 1:  87744.038063\n",
        "Return from iter 2:  81503.001544\n",
        "Return from iter 3:  84001.862109\n",
        "Updated theta with alpha: 0.0802333855834, theta norm: 1.0\n",
        "Return from iter 0:  82748.396374"
       ]
      },
      {
       "output_type": "stream",
       "stream": "stderr",
       "text": [
        "INFO:REINFORCE:********************Iteration: 64\n"
       ]
      },
      {
       "output_type": "stream",
       "stream": "stderr",
       "text": [
        "INFO:REINFORCE:Gradient step\n"
       ]
      },
      {
       "output_type": "stream",
       "stream": "stderr",
       "text": [
        "INFO:REINFORCE:Step norm: 1.0\n"
       ]
      },
      {
       "output_type": "stream",
       "stream": "stderr",
       "text": [
        "INFO:REINFORCE:Alpha: 0.0795233473478\n"
       ]
      },
      {
       "output_type": "stream",
       "stream": "stderr",
       "text": [
        "INFO:REINFORCE:Return from iter 0:  82748.396374\n"
       ]
      },
      {
       "output_type": "stream",
       "stream": "stderr",
       "text": [
        "INFO:REINFORCE:Return from iter 1:  80255.997276\n"
       ]
      },
      {
       "output_type": "stream",
       "stream": "stderr",
       "text": [
        "INFO:REINFORCE:Return from iter 2:  89619.731211\n"
       ]
      },
      {
       "output_type": "stream",
       "stream": "stderr",
       "text": [
        "INFO:REINFORCE:Return from iter 3:  85873.643234\n"
       ]
      },
      {
       "output_type": "stream",
       "stream": "stdout",
       "text": [
        "\n",
        "Return from iter 1:  80255.997276\n",
        "Return from iter 2:  89619.731211\n",
        "Return from iter 3:  85873.643234\n",
        "Updated theta with alpha: 0.0795233473478, theta norm: 1.0\n",
        "Return from iter 0:  85247.480083"
       ]
      },
      {
       "output_type": "stream",
       "stream": "stderr",
       "text": [
        "INFO:REINFORCE:********************Iteration: 65\n"
       ]
      },
      {
       "output_type": "stream",
       "stream": "stderr",
       "text": [
        "INFO:REINFORCE:Gradient step\n"
       ]
      },
      {
       "output_type": "stream",
       "stream": "stderr",
       "text": [
        "INFO:REINFORCE:Step norm: 1.0\n"
       ]
      },
      {
       "output_type": "stream",
       "stream": "stderr",
       "text": [
        "INFO:REINFORCE:Alpha: 0.0788298219352\n"
       ]
      },
      {
       "output_type": "stream",
       "stream": "stderr",
       "text": [
        "INFO:REINFORCE:Return from iter 0:  85247.480083\n"
       ]
      },
      {
       "output_type": "stream",
       "stream": "stderr",
       "text": [
        "INFO:REINFORCE:Return from iter 1:  89619.038063\n"
       ]
      },
      {
       "output_type": "stream",
       "stream": "stderr",
       "text": [
        "INFO:REINFORCE:Return from iter 2:  88370.647501\n"
       ]
      },
      {
       "output_type": "stream",
       "stream": "stderr",
       "text": [
        "INFO:REINFORCE:Return from iter 3:  87122.726943\n"
       ]
      },
      {
       "output_type": "stream",
       "stream": "stdout",
       "text": [
        "\n",
        "Return from iter 1:  89619.038063\n",
        "Return from iter 2:  88370.647501\n",
        "Return from iter 3:  87122.726943\n",
        "Updated theta with alpha: 0.0788298219352, theta norm: 1.0\n",
        "Return from iter 0:  81505.997276"
       ]
      },
      {
       "output_type": "stream",
       "stream": "stderr",
       "text": [
        "INFO:REINFORCE:********************Iteration: 66\n"
       ]
      },
      {
       "output_type": "stream",
       "stream": "stderr",
       "text": [
        "INFO:REINFORCE:Gradient step\n"
       ]
      },
      {
       "output_type": "stream",
       "stream": "stderr",
       "text": [
        "INFO:REINFORCE:Step norm: 1.0\n"
       ]
      },
      {
       "output_type": "stream",
       "stream": "stderr",
       "text": [
        "INFO:REINFORCE:Alpha: 0.0781521942394\n"
       ]
      },
      {
       "output_type": "stream",
       "stream": "stderr",
       "text": [
        "INFO:REINFORCE:Return from iter 0:  81505.997276\n"
       ]
      },
      {
       "output_type": "stream",
       "stream": "stderr",
       "text": [
        "INFO:REINFORCE:Return from iter 1:  85873.643234\n"
       ]
      },
      {
       "output_type": "stream",
       "stream": "stderr",
       "text": [
        "INFO:REINFORCE:Return from iter 2:  80880.997276\n"
       ]
      },
      {
       "output_type": "stream",
       "stream": "stderr",
       "text": [
        "INFO:REINFORCE:Return from iter 3:  82748.643234\n"
       ]
      },
      {
       "output_type": "stream",
       "stream": "stdout",
       "text": [
        "\n",
        "Return from iter 1:  85873.643234\n",
        "Return from iter 2:  80880.997276\n",
        "Return from iter 3:  82748.643234\n",
        "Updated theta with alpha: 0.0781521942394, theta norm: 1.0\n",
        "Return from iter 0:  85871.340649"
       ]
      },
      {
       "output_type": "stream",
       "stream": "stderr",
       "text": [
        "INFO:REINFORCE:********************Iteration: 67\n"
       ]
      },
      {
       "output_type": "stream",
       "stream": "stderr",
       "text": [
        "INFO:REINFORCE:Gradient step\n"
       ]
      },
      {
       "output_type": "stream",
       "stream": "stderr",
       "text": [
        "INFO:REINFORCE:Step norm: 1.0\n"
       ]
      },
      {
       "output_type": "stream",
       "stream": "stderr",
       "text": [
        "INFO:REINFORCE:Alpha: 0.0774898804316\n"
       ]
      },
      {
       "output_type": "stream",
       "stream": "stderr",
       "text": [
        "INFO:REINFORCE:Return from iter 0:  85871.340649\n"
       ]
      },
      {
       "output_type": "stream",
       "stream": "stderr",
       "text": [
        "INFO:REINFORCE:Return from iter 1:  84622.480083\n"
       ]
      },
      {
       "output_type": "stream",
       "stream": "stderr",
       "text": [
        "INFO:REINFORCE:Return from iter 2:  86498.643234\n"
       ]
      },
      {
       "output_type": "stream",
       "stream": "stderr",
       "text": [
        "INFO:REINFORCE:Return from iter 3:  78996.827758\n"
       ]
      },
      {
       "output_type": "stream",
       "stream": "stdout",
       "text": [
        "\n",
        "Return from iter 1:  84622.480083\n",
        "Return from iter 2:  86498.643234\n",
        "Return from iter 3:  78996.827758\n",
        "Updated theta with alpha: 0.0774898804316, theta norm: 1.0\n",
        "Return from iter 0:  87745.647501"
       ]
      },
      {
       "output_type": "stream",
       "stream": "stderr",
       "text": [
        "INFO:REINFORCE:********************Iteration: 68\n"
       ]
      },
      {
       "output_type": "stream",
       "stream": "stderr",
       "text": [
        "INFO:REINFORCE:Gradient step\n"
       ]
      },
      {
       "output_type": "stream",
       "stream": "stderr",
       "text": [
        "INFO:REINFORCE:Step norm: 1.0\n"
       ]
      },
      {
       "output_type": "stream",
       "stream": "stderr",
       "text": [
        "INFO:REINFORCE:Alpha: 0.0768423259568\n"
       ]
      },
      {
       "output_type": "stream",
       "stream": "stderr",
       "text": [
        "INFO:REINFORCE:Return from iter 0:  87745.647501\n"
       ]
      },
      {
       "output_type": "stream",
       "stream": "stderr",
       "text": [
        "INFO:REINFORCE:Return from iter 1:  71506.419847\n"
       ]
      },
      {
       "output_type": "stream",
       "stream": "stderr",
       "text": [
        "INFO:REINFORCE:Return from iter 2:  89618.121773\n"
       ]
      },
      {
       "output_type": "stream",
       "stream": "stderr",
       "text": [
        "INFO:REINFORCE:Return from iter 3:  84625.475815\n"
       ]
      },
      {
       "output_type": "stream",
       "stream": "stdout",
       "text": [
        "\n",
        "Return from iter 1:  71506.419847\n",
        "Return from iter 2:  89618.121773\n",
        "Return from iter 3:  84625.475815\n",
        "Updated theta with alpha: 0.0768423259568, theta norm: 1.0\n",
        "Return from iter 0:  84626.862109"
       ]
      },
      {
       "output_type": "stream",
       "stream": "stderr",
       "text": [
        "INFO:REINFORCE:********************Iteration: 69\n"
       ]
      },
      {
       "output_type": "stream",
       "stream": "stderr",
       "text": [
        "INFO:REINFORCE:Gradient step\n"
       ]
      },
      {
       "output_type": "stream",
       "stream": "stderr",
       "text": [
        "INFO:REINFORCE:Step norm: 1.0\n"
       ]
      },
      {
       "output_type": "stream",
       "stream": "stderr",
       "text": [
        "INFO:REINFORCE:Alpha: 0.0762090036838\n"
       ]
      },
      {
       "output_type": "stream",
       "stream": "stderr",
       "text": [
        "INFO:REINFORCE:Return from iter 0:  84626.862109\n"
       ]
      },
      {
       "output_type": "stream",
       "stream": "stderr",
       "text": [
        "INFO:REINFORCE:Return from iter 1:  87123.643234\n"
       ]
      },
      {
       "output_type": "stream",
       "stream": "stderr",
       "text": [
        "INFO:REINFORCE:Return from iter 2:  85873.643234\n"
       ]
      },
      {
       "output_type": "stream",
       "stream": "stderr",
       "text": [
        "INFO:REINFORCE:Return from iter 3:  85874.559524\n"
       ]
      },
      {
       "output_type": "stream",
       "stream": "stdout",
       "text": [
        "\n",
        "Return from iter 1:  87123.643234\n",
        "Return from iter 2:  85873.643234\n",
        "Return from iter 3:  85874.559524\n",
        "Updated theta with alpha: 0.0762090036838, theta norm: 1.0\n",
        "Return from iter 0:  88994.731211"
       ]
      },
      {
       "output_type": "stream",
       "stream": "stderr",
       "text": [
        "INFO:REINFORCE:********************Iteration: 70\n"
       ]
      },
      {
       "output_type": "stream",
       "stream": "stderr",
       "text": [
        "INFO:REINFORCE:Gradient step\n"
       ]
      },
      {
       "output_type": "stream",
       "stream": "stderr",
       "text": [
        "INFO:REINFORCE:Step norm: 1.0\n"
       ]
      },
      {
       "output_type": "stream",
       "stream": "stderr",
       "text": [
        "INFO:REINFORCE:Alpha: 0.075589412196\n"
       ]
      },
      {
       "output_type": "stream",
       "stream": "stderr",
       "text": [
        "INFO:REINFORCE:Return from iter 0:  88994.731211\n"
       ]
      },
      {
       "output_type": "stream",
       "stream": "stderr",
       "text": [
        "INFO:REINFORCE:Return from iter 1:  84000.475815\n"
       ]
      },
      {
       "output_type": "stream",
       "stream": "stderr",
       "text": [
        "INFO:REINFORCE:Return from iter 2:  87122.950086\n"
       ]
      },
      {
       "output_type": "stream",
       "stream": "stderr",
       "text": [
        "INFO:REINFORCE:Return from iter 3:  80255.997276\n"
       ]
      },
      {
       "output_type": "stream",
       "stream": "stdout",
       "text": [
        "\n",
        "Return from iter 1:  84000.475815\n",
        "Return from iter 2:  87122.950086\n",
        "Return from iter 3:  80255.997276\n",
        "Updated theta with alpha: 0.075589412196, theta norm: 1.0\n",
        "Return from iter 0:  84621.786936"
       ]
      },
      {
       "output_type": "stream",
       "stream": "stderr",
       "text": [
        "INFO:REINFORCE:********************Iteration: 71\n"
       ]
      },
      {
       "output_type": "stream",
       "stream": "stderr",
       "text": [
        "INFO:REINFORCE:Gradient step\n"
       ]
      },
      {
       "output_type": "stream",
       "stream": "stderr",
       "text": [
        "INFO:REINFORCE:Step norm: 1.0\n"
       ]
      },
      {
       "output_type": "stream",
       "stream": "stderr",
       "text": [
        "INFO:REINFORCE:Alpha: 0.0749830742095\n"
       ]
      },
      {
       "output_type": "stream",
       "stream": "stderr",
       "text": [
        "INFO:REINFORCE:Return from iter 0:  84621.786936\n"
       ]
      },
      {
       "output_type": "stream",
       "stream": "stderr",
       "text": [
        "INFO:REINFORCE:Return from iter 1:  88370.647501\n"
       ]
      },
      {
       "output_type": "stream",
       "stream": "stderr",
       "text": [
        "INFO:REINFORCE:Return from iter 2:  85870.177498\n"
       ]
      },
      {
       "output_type": "stream",
       "stream": "stderr",
       "text": [
        "INFO:REINFORCE:Return from iter 3:  84624.559524\n"
       ]
      },
      {
       "output_type": "stream",
       "stream": "stdout",
       "text": [
        "\n",
        "Return from iter 1:  88370.647501\n",
        "Return from iter 2:  85870.177498\n",
        "Return from iter 3:  84624.559524\n",
        "Updated theta with alpha: 0.0749830742095, theta norm: 1.0\n",
        "Return from iter 0:  67134.861866"
       ]
      },
      {
       "output_type": "stream",
       "stream": "stderr",
       "text": [
        "INFO:REINFORCE:********************Iteration: 72\n"
       ]
      },
      {
       "output_type": "stream",
       "stream": "stderr",
       "text": [
        "INFO:REINFORCE:Gradient step\n"
       ]
      },
      {
       "output_type": "stream",
       "stream": "stderr",
       "text": [
        "INFO:REINFORCE:Step norm: 1.0\n"
       ]
      },
      {
       "output_type": "stream",
       "stream": "stderr",
       "text": [
        "INFO:REINFORCE:Alpha: 0.0743895351091\n"
       ]
      },
      {
       "output_type": "stream",
       "stream": "stderr",
       "text": [
        "INFO:REINFORCE:Return from iter 0:  67134.861866\n"
       ]
      },
      {
       "output_type": "stream",
       "stream": "stderr",
       "text": [
        "INFO:REINFORCE:Return from iter 1:  85247.767765\n"
       ]
      },
      {
       "output_type": "stream",
       "stream": "stderr",
       "text": [
        "INFO:REINFORCE:Return from iter 2:  80871.093788\n"
       ]
      },
      {
       "output_type": "stream",
       "stream": "stderr",
       "text": [
        "INFO:REINFORCE:Return from iter 3:  88371.117505\n"
       ]
      },
      {
       "output_type": "stream",
       "stream": "stdout",
       "text": [
        "\n",
        "Return from iter 1:  85247.767765\n",
        "Return from iter 2:  80871.093788\n",
        "Return from iter 3:  88371.117505\n",
        "Updated theta with alpha: 0.0743895351091, theta norm: 1.0\n",
        "Return from iter 0:  88371.340649"
       ]
      },
      {
       "output_type": "stream",
       "stream": "stderr",
       "text": [
        "INFO:REINFORCE:********************Iteration: 73\n"
       ]
      },
      {
       "output_type": "stream",
       "stream": "stderr",
       "text": [
        "INFO:REINFORCE:Gradient step\n"
       ]
      },
      {
       "output_type": "stream",
       "stream": "stderr",
       "text": [
        "INFO:REINFORCE:Step norm: 1.0\n"
       ]
      },
      {
       "output_type": "stream",
       "stream": "stderr",
       "text": [
        "INFO:REINFORCE:Alpha: 0.0738083615903\n"
       ]
      },
      {
       "output_type": "stream",
       "stream": "stderr",
       "text": [
        "INFO:REINFORCE:Return from iter 0:  88371.340649\n"
       ]
      },
      {
       "output_type": "stream",
       "stream": "stderr",
       "text": [
        "INFO:REINFORCE:Return from iter 1:  80256.913567\n"
       ]
      },
      {
       "output_type": "stream",
       "stream": "stderr",
       "text": [
        "INFO:REINFORCE:Return from iter 2:  84002.372935\n"
       ]
      },
      {
       "output_type": "stream",
       "stream": "stderr",
       "text": [
        "INFO:REINFORCE:Return from iter 3:  80874.089521\n"
       ]
      },
      {
       "output_type": "stream",
       "stream": "stdout",
       "text": [
        "\n",
        "Return from iter 1:  80256.913567\n",
        "Return from iter 2:  84002.372935\n",
        "Return from iter 3:  80874.089521\n",
        "Updated theta with alpha: 0.0738083615903, theta norm: 1.0\n",
        "Return from iter 0:  86494.261207"
       ]
      },
      {
       "output_type": "stream",
       "stream": "stderr",
       "text": [
        "INFO:REINFORCE:********************Iteration: 74\n"
       ]
      },
      {
       "output_type": "stream",
       "stream": "stderr",
       "text": [
        "INFO:REINFORCE:Gradient step\n"
       ]
      },
      {
       "output_type": "stream",
       "stream": "stderr",
       "text": [
        "INFO:REINFORCE:Step norm: 1.0\n"
       ]
      },
      {
       "output_type": "stream",
       "stream": "stderr",
       "text": [
        "INFO:REINFORCE:Alpha: 0.073239140399\n"
       ]
      },
      {
       "output_type": "stream",
       "stream": "stderr",
       "text": [
        "INFO:REINFORCE:Return from iter 0:  86494.261207\n"
       ]
      },
      {
       "output_type": "stream",
       "stream": "stderr",
       "text": [
        "INFO:REINFORCE:Return from iter 1:  87119.261207\n"
       ]
      },
      {
       "output_type": "stream",
       "stream": "stderr",
       "text": [
        "INFO:REINFORCE:Return from iter 2:  88372.033796\n"
       ]
      },
      {
       "output_type": "stream",
       "stream": "stderr",
       "text": [
        "INFO:REINFORCE:Return from iter 3:  89619.731211\n"
       ]
      },
      {
       "output_type": "stream",
       "stream": "stdout",
       "text": [
        "\n",
        "Return from iter 1:  87119.261207\n",
        "Return from iter 2:  88372.033796\n",
        "Return from iter 3:  89619.731211\n",
        "Updated theta with alpha: 0.073239140399, theta norm: 1.0\n",
        "Return from iter 0:  85869.731211"
       ]
      },
      {
       "output_type": "stream",
       "stream": "stderr",
       "text": [
        "INFO:REINFORCE:********************Iteration: 75\n"
       ]
      },
      {
       "output_type": "stream",
       "stream": "stderr",
       "text": [
        "INFO:REINFORCE:Gradient step\n"
       ]
      },
      {
       "output_type": "stream",
       "stream": "stderr",
       "text": [
        "INFO:REINFORCE:Step norm: 1.0\n"
       ]
      },
      {
       "output_type": "stream",
       "stream": "stderr",
       "text": [
        "INFO:REINFORCE:Alpha: 0.0726814771614\n"
       ]
      },
      {
       "output_type": "stream",
       "stream": "stderr",
       "text": [
        "INFO:REINFORCE:Return from iter 0:  85869.731211\n"
       ]
      },
      {
       "output_type": "stream",
       "stream": "stderr",
       "text": [
        "INFO:REINFORCE:Return from iter 1:  88372.033796\n"
       ]
      },
      {
       "output_type": "stream",
       "stream": "stderr",
       "text": [
        "INFO:REINFORCE:Return from iter 2:  87122.950086\n"
       ]
      },
      {
       "output_type": "stream",
       "stream": "stderr",
       "text": [
        "INFO:REINFORCE:Return from iter 3:  84626.168962\n"
       ]
      },
      {
       "output_type": "stream",
       "stream": "stdout",
       "text": [
        "\n",
        "Return from iter 1:  88372.033796\n",
        "Return from iter 2:  87122.950086\n",
        "Return from iter 3:  84626.168962\n",
        "Updated theta with alpha: 0.0726814771614, theta norm: 1.0\n",
        "Return from iter 0:  88370.647501"
       ]
      },
      {
       "output_type": "stream",
       "stream": "stderr",
       "text": [
        "INFO:REINFORCE:********************Iteration: 76\n"
       ]
      },
      {
       "output_type": "stream",
       "stream": "stderr",
       "text": [
        "INFO:REINFORCE:Gradient step\n"
       ]
      },
      {
       "output_type": "stream",
       "stream": "stderr",
       "text": [
        "INFO:REINFORCE:Step norm: 1.0\n"
       ]
      },
      {
       "output_type": "stream",
       "stream": "stderr",
       "text": [
        "INFO:REINFORCE:Alpha: 0.0721349952954\n"
       ]
      },
      {
       "output_type": "stream",
       "stream": "stderr",
       "text": [
        "INFO:REINFORCE:Return from iter 0:  88370.647501\n"
       ]
      },
      {
       "output_type": "stream",
       "stream": "stderr",
       "text": [
        "INFO:REINFORCE:Return from iter 1:  76501.615249\n"
       ]
      },
      {
       "output_type": "stream",
       "stream": "stderr",
       "text": [
        "INFO:REINFORCE:Return from iter 2:  87748.643234\n"
       ]
      },
      {
       "output_type": "stream",
       "stream": "stderr",
       "text": [
        "INFO:REINFORCE:Return from iter 3:  70259.415579\n"
       ]
      },
      {
       "output_type": "stream",
       "stream": "stdout",
       "text": [
        "\n",
        "Return from iter 1:  76501.615249\n",
        "Return from iter 2:  87748.643234\n",
        "Return from iter 3:  70259.415579\n",
        "Updated theta with alpha: 0.0721349952954, theta norm: 1.0\n",
        "Return from iter 0:  83370.870645"
       ]
      },
      {
       "output_type": "stream",
       "stream": "stderr",
       "text": [
        "INFO:REINFORCE:********************Iteration: 77\n"
       ]
      },
      {
       "output_type": "stream",
       "stream": "stderr",
       "text": [
        "INFO:REINFORCE:Gradient step\n"
       ]
      },
      {
       "output_type": "stream",
       "stream": "stderr",
       "text": [
        "INFO:REINFORCE:Step norm: 1.0\n"
       ]
      },
      {
       "output_type": "stream",
       "stream": "stderr",
       "text": [
        "INFO:REINFORCE:Alpha: 0.0715993349975\n"
       ]
      },
      {
       "output_type": "stream",
       "stream": "stderr",
       "text": [
        "INFO:REINFORCE:Return from iter 0:  83370.870645\n"
       ]
      },
      {
       "output_type": "stream",
       "stream": "stderr",
       "text": [
        "INFO:REINFORCE:Return from iter 1:  83371.786936\n"
       ]
      },
      {
       "output_type": "stream",
       "stream": "stderr",
       "text": [
        "INFO:REINFORCE:Return from iter 2:  78376.392106\n"
       ]
      },
      {
       "output_type": "stream",
       "stream": "stderr",
       "text": [
        "INFO:REINFORCE:Return from iter 3:  89620.424358\n"
       ]
      },
      {
       "output_type": "stream",
       "stream": "stdout",
       "text": [
        "\n",
        "Return from iter 1:  83371.786936\n",
        "Return from iter 2:  78376.392106\n",
        "Return from iter 3:  89620.424358\n",
        "Updated theta with alpha: 0.0715993349975, theta norm: 1.0\n",
        "Return from iter 0:  82128.471547"
       ]
      },
      {
       "output_type": "stream",
       "stream": "stderr",
       "text": [
        "INFO:REINFORCE:********************Iteration: 78\n"
       ]
      },
      {
       "output_type": "stream",
       "stream": "stderr",
       "text": [
        "INFO:REINFORCE:Gradient step\n"
       ]
      },
      {
       "output_type": "stream",
       "stream": "stderr",
       "text": [
        "INFO:REINFORCE:Step norm: 1.0\n"
       ]
      },
      {
       "output_type": "stream",
       "stream": "stderr",
       "text": [
        "INFO:REINFORCE:Alpha: 0.0710741522997\n"
       ]
      },
      {
       "output_type": "stream",
       "stream": "stderr",
       "text": [
        "INFO:REINFORCE:Return from iter 0:  82128.471547\n"
       ]
      },
      {
       "output_type": "stream",
       "stream": "stderr",
       "text": [
        "INFO:REINFORCE:Return from iter 1:  88994.261207\n"
       ]
      },
      {
       "output_type": "stream",
       "stream": "stderr",
       "text": [
        "INFO:REINFORCE:Return from iter 2:  88370.647501\n"
       ]
      },
      {
       "output_type": "stream",
       "stream": "stderr",
       "text": [
        "INFO:REINFORCE:Return from iter 3:  87122.950086\n"
       ]
      },
      {
       "output_type": "stream",
       "stream": "stdout",
       "text": [
        "\n",
        "Return from iter 1:  88994.261207\n",
        "Return from iter 2:  88370.647501\n",
        "Return from iter 3:  87122.950086\n",
        "Updated theta with alpha: 0.0710741522997, theta norm: 1.0\n",
        "Return from iter 0:  91493.814920"
       ]
      },
      {
       "output_type": "stream",
       "stream": "stderr",
       "text": [
        "INFO:REINFORCE:********************Iteration: 79\n"
       ]
      },
      {
       "output_type": "stream",
       "stream": "stderr",
       "text": [
        "INFO:REINFORCE:Gradient step\n"
       ]
      },
      {
       "output_type": "stream",
       "stream": "stderr",
       "text": [
        "INFO:REINFORCE:Step norm: 1.0\n"
       ]
      },
      {
       "output_type": "stream",
       "stream": "stderr",
       "text": [
        "INFO:REINFORCE:Alpha: 0.0705591181894\n"
       ]
      },
      {
       "output_type": "stream",
       "stream": "stderr",
       "text": [
        "INFO:REINFORCE:Return from iter 0:  91493.814920\n"
       ]
      },
      {
       "output_type": "stream",
       "stream": "stderr",
       "text": [
        "INFO:REINFORCE:Return from iter 1:  89619.731211\n"
       ]
      },
      {
       "output_type": "stream",
       "stream": "stderr",
       "text": [
        "INFO:REINFORCE:Return from iter 2:  90868.814920\n"
       ]
      },
      {
       "output_type": "stream",
       "stream": "stderr",
       "text": [
        "INFO:REINFORCE:Return from iter 3:  82128.694691\n"
       ]
      },
      {
       "output_type": "stream",
       "stream": "stdout",
       "text": [
        "\n",
        "Return from iter 1:  89619.731211\n",
        "Return from iter 2:  90868.814920\n",
        "Return from iter 3:  82128.694691\n",
        "Updated theta with alpha: 0.0705591181894, theta norm: 1.0\n",
        "Return from iter 0:  85870.177498"
       ]
      },
      {
       "output_type": "stream",
       "stream": "stderr",
       "text": [
        "INFO:REINFORCE:********************Iteration: 80\n"
       ]
      },
      {
       "output_type": "stream",
       "stream": "stderr",
       "text": [
        "INFO:REINFORCE:Gradient step\n"
       ]
      },
      {
       "output_type": "stream",
       "stream": "stderr",
       "text": [
        "INFO:REINFORCE:Step norm: 1.0\n"
       ]
      },
      {
       "output_type": "stream",
       "stream": "stderr",
       "text": [
        "INFO:REINFORCE:Alpha: 0.0700539177884\n"
       ]
      },
      {
       "output_type": "stream",
       "stream": "stderr",
       "text": [
        "INFO:REINFORCE:Return from iter 0:  85870.177498\n"
       ]
      },
      {
       "output_type": "stream",
       "stream": "stderr",
       "text": [
        "INFO:REINFORCE:Return from iter 1:  80879.387838\n"
       ]
      },
      {
       "output_type": "stream",
       "stream": "stderr",
       "text": [
        "INFO:REINFORCE:Return from iter 2:  87745.177498\n"
       ]
      },
      {
       "output_type": "stream",
       "stream": "stderr",
       "text": [
        "INFO:REINFORCE:Return from iter 3:  72753.894118\n"
       ]
      },
      {
       "output_type": "stream",
       "stream": "stdout",
       "text": [
        "\n",
        "Return from iter 1:  80879.387838\n",
        "Return from iter 2:  87745.177498\n",
        "Return from iter 3:  72753.894118\n",
        "Updated theta with alpha: 0.0700539177884, theta norm: 1.0\n",
        "Return from iter 0:  89619.731211"
       ]
      },
      {
       "output_type": "stream",
       "stream": "stderr",
       "text": [
        "INFO:REINFORCE:********************Iteration: 81\n"
       ]
      },
      {
       "output_type": "stream",
       "stream": "stderr",
       "text": [
        "INFO:REINFORCE:Gradient step\n"
       ]
      },
      {
       "output_type": "stream",
       "stream": "stderr",
       "text": [
        "INFO:REINFORCE:Step norm: 1.0\n"
       ]
      },
      {
       "output_type": "stream",
       "stream": "stderr",
       "text": [
        "INFO:REINFORCE:Alpha: 0.0695582495865\n"
       ]
      },
      {
       "output_type": "stream",
       "stream": "stderr",
       "text": [
        "INFO:REINFORCE:Return from iter 0:  89619.731211\n"
       ]
      },
      {
       "output_type": "stream",
       "stream": "stderr",
       "text": [
        "INFO:REINFORCE:Return from iter 1:  89620.424358\n"
       ]
      },
      {
       "output_type": "stream",
       "stream": "stderr",
       "text": [
        "INFO:REINFORCE:Return from iter 2:  85873.866377\n"
       ]
      },
      {
       "output_type": "stream",
       "stream": "stderr",
       "text": [
        "INFO:REINFORCE:Return from iter 3:  84621.786936\n"
       ]
      },
      {
       "output_type": "stream",
       "stream": "stdout",
       "text": [
        "\n",
        "Return from iter 1:  89620.424358\n",
        "Return from iter 2:  85873.866377\n",
        "Return from iter 3:  84621.786936\n",
        "Updated theta with alpha: 0.0695582495865, theta norm: 1.0\n",
        "Return from iter 0:  84626.862109"
       ]
      },
      {
       "output_type": "stream",
       "stream": "stderr",
       "text": [
        "INFO:REINFORCE:********************Iteration: 82\n"
       ]
      },
      {
       "output_type": "stream",
       "stream": "stderr",
       "text": [
        "INFO:REINFORCE:Gradient step\n"
       ]
      },
      {
       "output_type": "stream",
       "stream": "stderr",
       "text": [
        "INFO:REINFORCE:Step norm: 1.0\n"
       ]
      },
      {
       "output_type": "stream",
       "stream": "stderr",
       "text": [
        "INFO:REINFORCE:Alpha: 0.0690718247243\n"
       ]
      },
      {
       "output_type": "stream",
       "stream": "stderr",
       "text": [
        "INFO:REINFORCE:Return from iter 0:  84626.862109\n"
       ]
      },
      {
       "output_type": "stream",
       "stream": "stderr",
       "text": [
        "INFO:REINFORCE:Return from iter 1:  90868.814920\n"
       ]
      },
      {
       "output_type": "stream",
       "stream": "stderr",
       "text": [
        "INFO:REINFORCE:Return from iter 2:  87745.647501\n"
       ]
      },
      {
       "output_type": "stream",
       "stream": "stderr",
       "text": [
        "INFO:REINFORCE:Return from iter 3:  89619.731211\n"
       ]
      },
      {
       "output_type": "stream",
       "stream": "stdout",
       "text": [
        "\n",
        "Return from iter 1:  90868.814920\n",
        "Return from iter 2:  87745.647501\n",
        "Return from iter 3:  89619.731211\n",
        "Updated theta with alpha: 0.0690718247243, theta norm: 1.0\n",
        "Return from iter 0:  86497.950086"
       ]
      },
      {
       "output_type": "stream",
       "stream": "stderr",
       "text": [
        "INFO:REINFORCE:********************Iteration: 83\n"
       ]
      },
      {
       "output_type": "stream",
       "stream": "stderr",
       "text": [
        "INFO:REINFORCE:Gradient step\n"
       ]
      },
      {
       "output_type": "stream",
       "stream": "stderr",
       "text": [
        "INFO:REINFORCE:Step norm: 1.0\n"
       ]
      },
      {
       "output_type": "stream",
       "stream": "stderr",
       "text": [
        "INFO:REINFORCE:Alpha: 0.0685943663231\n"
       ]
      },
      {
       "output_type": "stream",
       "stream": "stderr",
       "text": [
        "INFO:REINFORCE:Return from iter 0:  86497.950086\n"
       ]
      },
      {
       "output_type": "stream",
       "stream": "stderr",
       "text": [
        "INFO:REINFORCE:Return from iter 1:  85251.862109\n"
       ]
      },
      {
       "output_type": "stream",
       "stream": "stderr",
       "text": [
        "INFO:REINFORCE:Return from iter 2:  90244.731211\n"
       ]
      },
      {
       "output_type": "stream",
       "stream": "stderr",
       "text": [
        "INFO:REINFORCE:Return from iter 3:  89617.651769\n"
       ]
      },
      {
       "output_type": "stream",
       "stream": "stdout",
       "text": [
        "\n",
        "Return from iter 1:  85251.862109\n",
        "Return from iter 2:  90244.731211\n",
        "Return from iter 3:  89617.651769\n",
        "Updated theta with alpha: 0.0685943663231, theta norm: 1.0\n",
        "Return from iter 0:  84621.786936"
       ]
      },
      {
       "output_type": "stream",
       "stream": "stderr",
       "text": [
        "INFO:REINFORCE:********************Iteration: 84\n"
       ]
      },
      {
       "output_type": "stream",
       "stream": "stderr",
       "text": [
        "INFO:REINFORCE:Gradient step\n"
       ]
      },
      {
       "output_type": "stream",
       "stream": "stderr",
       "text": [
        "INFO:REINFORCE:Step norm: 1.0\n"
       ]
      },
      {
       "output_type": "stream",
       "stream": "stderr",
       "text": [
        "INFO:REINFORCE:Alpha: 0.0681256088571\n"
       ]
      },
      {
       "output_type": "stream",
       "stream": "stderr",
       "text": [
        "INFO:REINFORCE:Return from iter 0:  84621.786936\n"
       ]
      },
      {
       "output_type": "stream",
       "stream": "stderr",
       "text": [
        "INFO:REINFORCE:Return from iter 1:  89616.735478\n"
       ]
      },
      {
       "output_type": "stream",
       "stream": "stderr",
       "text": [
        "INFO:REINFORCE:Return from iter 2:  80258.299861\n"
       ]
      },
      {
       "output_type": "stream",
       "stream": "stderr",
       "text": [
        "INFO:REINFORCE:Return from iter 3:  87122.256939\n"
       ]
      },
      {
       "output_type": "stream",
       "stream": "stdout",
       "text": [
        "\n",
        "Return from iter 1:  89616.735478\n",
        "Return from iter 2:  80258.299861\n",
        "Return from iter 3:  87122.256939\n",
        "Updated theta with alpha: 0.0681256088571, theta norm: 1.0\n",
        "Return from iter 0:  75251.615249"
       ]
      },
      {
       "output_type": "stream",
       "stream": "stderr",
       "text": [
        "INFO:REINFORCE:********************Iteration: 85\n"
       ]
      },
      {
       "output_type": "stream",
       "stream": "stderr",
       "text": [
        "INFO:REINFORCE:Gradient step\n"
       ]
      },
      {
       "output_type": "stream",
       "stream": "stderr",
       "text": [
        "INFO:REINFORCE:Step norm: 1.0\n"
       ]
      },
      {
       "output_type": "stream",
       "stream": "stderr",
       "text": [
        "INFO:REINFORCE:Alpha: 0.0676652975652\n"
       ]
      },
      {
       "output_type": "stream",
       "stream": "stderr",
       "text": [
        "INFO:REINFORCE:Return from iter 0:  75251.615249\n"
       ]
      },
      {
       "output_type": "stream",
       "stream": "stderr",
       "text": [
        "INFO:REINFORCE:Return from iter 1:  85871.786936\n"
       ]
      },
      {
       "output_type": "stream",
       "stream": "stderr",
       "text": [
        "INFO:REINFORCE:Return from iter 2:  88371.340649\n"
       ]
      },
      {
       "output_type": "stream",
       "stream": "stderr",
       "text": [
        "INFO:REINFORCE:Return from iter 3:  87118.344916\n"
       ]
      },
      {
       "output_type": "stream",
       "stream": "stdout",
       "text": [
        "\n",
        "Return from iter 1:  85871.786936\n",
        "Return from iter 2:  88371.340649\n",
        "Return from iter 3:  87118.344916\n",
        "Updated theta with alpha: 0.0676652975652, theta norm: 1.0\n",
        "Return from iter 0:  86496.786936"
       ]
      },
      {
       "output_type": "stream",
       "stream": "stderr",
       "text": [
        "INFO:REINFORCE:********************Iteration: 86\n"
       ]
      },
      {
       "output_type": "stream",
       "stream": "stderr",
       "text": [
        "INFO:REINFORCE:Gradient step\n"
       ]
      },
      {
       "output_type": "stream",
       "stream": "stderr",
       "text": [
        "INFO:REINFORCE:Step norm: 1.0\n"
       ]
      },
      {
       "output_type": "stream",
       "stream": "stderr",
       "text": [
        "INFO:REINFORCE:Alpha: 0.0672131878998\n"
       ]
      },
      {
       "output_type": "stream",
       "stream": "stderr",
       "text": [
        "INFO:REINFORCE:Return from iter 0:  86496.786936\n"
       ]
      },
      {
       "output_type": "stream",
       "stream": "stderr",
       "text": [
        "INFO:REINFORCE:Return from iter 1:  84000.475815\n"
       ]
      },
      {
       "output_type": "stream",
       "stream": "stderr",
       "text": [
        "INFO:REINFORCE:Return from iter 2:  85250.252672\n"
       ]
      },
      {
       "output_type": "stream",
       "stream": "stderr",
       "text": [
        "INFO:REINFORCE:Return from iter 3:  87122.726943\n"
       ]
      },
      {
       "output_type": "stream",
       "stream": "stdout",
       "text": [
        "\n",
        "Return from iter 1:  84000.475815\n",
        "Return from iter 2:  85250.252672\n",
        "Return from iter 3:  87122.726943\n",
        "Updated theta with alpha: 0.0672131878998, theta norm: 1.0\n",
        "Return from iter 0:  88369.038063"
       ]
      },
      {
       "output_type": "stream",
       "stream": "stderr",
       "text": [
        "INFO:REINFORCE:********************Iteration: 87\n"
       ]
      },
      {
       "output_type": "stream",
       "stream": "stderr",
       "text": [
        "INFO:REINFORCE:Gradient step\n"
       ]
      },
      {
       "output_type": "stream",
       "stream": "stderr",
       "text": [
        "INFO:REINFORCE:Step norm: 1.0\n"
       ]
      },
      {
       "output_type": "stream",
       "stream": "stderr",
       "text": [
        "INFO:REINFORCE:Alpha: 0.066769045009\n"
       ]
      },
      {
       "output_type": "stream",
       "stream": "stderr",
       "text": [
        "INFO:REINFORCE:Return from iter 0:  88369.038063\n"
       ]
      },
      {
       "output_type": "stream",
       "stream": "stderr",
       "text": [
        "INFO:REINFORCE:Return from iter 1:  87119.261207\n"
       ]
      },
      {
       "output_type": "stream",
       "stream": "stderr",
       "text": [
        "INFO:REINFORCE:Return from iter 2:  85245.870645\n"
       ]
      },
      {
       "output_type": "stream",
       "stream": "stderr",
       "text": [
        "INFO:REINFORCE:Return from iter 3:  87122.950086\n"
       ]
      },
      {
       "output_type": "stream",
       "stream": "stdout",
       "text": [
        "\n",
        "Return from iter 1:  87119.261207\n",
        "Return from iter 2:  85245.870645\n",
        "Return from iter 3:  87122.950086\n",
        "Updated theta with alpha: 0.066769045009, theta norm: 1.0\n",
        "Return from iter 0:  87747.256939"
       ]
      },
      {
       "output_type": "stream",
       "stream": "stderr",
       "text": [
        "INFO:REINFORCE:********************Iteration: 88\n"
       ]
      },
      {
       "output_type": "stream",
       "stream": "stderr",
       "text": [
        "INFO:REINFORCE:Gradient step\n"
       ]
      },
      {
       "output_type": "stream",
       "stream": "stderr",
       "text": [
        "INFO:REINFORCE:Step norm: 1.0\n"
       ]
      },
      {
       "output_type": "stream",
       "stream": "stderr",
       "text": [
        "INFO:REINFORCE:Alpha: 0.0663326432511\n"
       ]
      },
      {
       "output_type": "stream",
       "stream": "stderr",
       "text": [
        "INFO:REINFORCE:Return from iter 0:  87747.256939\n"
       ]
      },
      {
       "output_type": "stream",
       "stream": "stderr",
       "text": [
        "INFO:REINFORCE:Return from iter 1:  83995.177498\n"
       ]
      },
      {
       "output_type": "stream",
       "stream": "stderr",
       "text": [
        "INFO:REINFORCE:Return from iter 2:  89616.735478\n"
       ]
      },
      {
       "output_type": "stream",
       "stream": "stderr",
       "text": [
        "INFO:REINFORCE:Return from iter 3:  88372.033796\n"
       ]
      },
      {
       "output_type": "stream",
       "stream": "stdout",
       "text": [
        "\n",
        "Return from iter 1:  83995.177498\n",
        "Return from iter 2:  89616.735478\n",
        "Return from iter 3:  88372.033796\n",
        "Updated theta with alpha: 0.0663326432511, theta norm: 1.0\n",
        "Return from iter 0:  85251.862109"
       ]
      },
      {
       "output_type": "stream",
       "stream": "stderr",
       "text": [
        "INFO:REINFORCE:********************Iteration: 89\n"
       ]
      },
      {
       "output_type": "stream",
       "stream": "stderr",
       "text": [
        "INFO:REINFORCE:Gradient step\n"
       ]
      },
      {
       "output_type": "stream",
       "stream": "stderr",
       "text": [
        "INFO:REINFORCE:Step norm: 1.0\n"
       ]
      },
      {
       "output_type": "stream",
       "stream": "stderr",
       "text": [
        "INFO:REINFORCE:Alpha: 0.0659037657378\n"
       ]
      },
      {
       "output_type": "stream",
       "stream": "stderr",
       "text": [
        "INFO:REINFORCE:Return from iter 0:  85251.862109\n"
       ]
      },
      {
       "output_type": "stream",
       "stream": "stderr",
       "text": [
        "INFO:REINFORCE:Return from iter 1:  85875.252672\n"
       ]
      },
      {
       "output_type": "stream",
       "stream": "stderr",
       "text": [
        "INFO:REINFORCE:Return from iter 2:  88369.954354\n"
       ]
      },
      {
       "output_type": "stream",
       "stream": "stderr",
       "text": [
        "INFO:REINFORCE:Return from iter 3:  90243.121773\n"
       ]
      },
      {
       "output_type": "stream",
       "stream": "stdout",
       "text": [
        "\n",
        "Return from iter 1:  85875.252672\n",
        "Return from iter 2:  88369.954354\n",
        "Return from iter 3:  90243.121773\n",
        "Updated theta with alpha: 0.0659037657378, theta norm: 1.0\n",
        "Return from iter 0:  70258.029284"
       ]
      },
      {
       "output_type": "stream",
       "stream": "stderr",
       "text": [
        "INFO:REINFORCE:********************Iteration: 90\n"
       ]
      },
      {
       "output_type": "stream",
       "stream": "stderr",
       "text": [
        "INFO:REINFORCE:Gradient step\n"
       ]
      },
      {
       "output_type": "stream",
       "stream": "stderr",
       "text": [
        "INFO:REINFORCE:Step norm: 1.0\n"
       ]
      },
      {
       "output_type": "stream",
       "stream": "stderr",
       "text": [
        "INFO:REINFORCE:Alpha: 0.0654822039051\n"
       ]
      },
      {
       "output_type": "stream",
       "stream": "stderr",
       "text": [
        "INFO:REINFORCE:Return from iter 0:  70258.029284\n"
       ]
      },
      {
       "output_type": "stream",
       "stream": "stderr",
       "text": [
        "INFO:REINFORCE:Return from iter 1:  76502.061536\n"
       ]
      },
      {
       "output_type": "stream",
       "stream": "stderr",
       "text": [
        "INFO:REINFORCE:Return from iter 2:  80252.778400\n"
       ]
      },
      {
       "output_type": "stream",
       "stream": "stderr",
       "text": [
        "INFO:REINFORCE:Return from iter 3:  89620.424358\n"
       ]
      },
      {
       "output_type": "stream",
       "stream": "stdout",
       "text": [
        "\n",
        "Return from iter 1:  76502.061536\n",
        "Return from iter 2:  80252.778400\n",
        "Return from iter 3:  89620.424358\n",
        "Updated theta with alpha: 0.0654822039051, theta norm: 1.0\n",
        "Return from iter 0:  89618.814920"
       ]
      },
      {
       "output_type": "stream",
       "stream": "stderr",
       "text": [
        "INFO:REINFORCE:********************Iteration: 91\n"
       ]
      },
      {
       "output_type": "stream",
       "stream": "stderr",
       "text": [
        "INFO:REINFORCE:Gradient step\n"
       ]
      },
      {
       "output_type": "stream",
       "stream": "stderr",
       "text": [
        "INFO:REINFORCE:Step norm: 1.0\n"
       ]
      },
      {
       "output_type": "stream",
       "stream": "stderr",
       "text": [
        "INFO:REINFORCE:Alpha: 0.0650677571093\n"
       ]
      },
      {
       "output_type": "stream",
       "stream": "stderr",
       "text": [
        "INFO:REINFORCE:Return from iter 0:  89618.814920\n"
       ]
      },
      {
       "output_type": "stream",
       "stream": "stderr",
       "text": [
        "INFO:REINFORCE:Return from iter 1:  89618.344916\n"
       ]
      },
      {
       "output_type": "stream",
       "stream": "stderr",
       "text": [
        "INFO:REINFORCE:Return from iter 2:  87123.643234\n"
       ]
      },
      {
       "output_type": "stream",
       "stream": "stderr",
       "text": [
        "INFO:REINFORCE:Return from iter 3:  90241.735478\n"
       ]
      },
      {
       "output_type": "stream",
       "stream": "stdout",
       "text": [
        "\n",
        "Return from iter 1:  89618.344916\n",
        "Return from iter 2:  87123.643234\n",
        "Return from iter 3:  90241.735478\n",
        "Updated theta with alpha: 0.0650677571093, theta norm: 1.0\n",
        "Return from iter 0:  89618.344916"
       ]
      },
      {
       "output_type": "stream",
       "stream": "stderr",
       "text": [
        "INFO:REINFORCE:********************Iteration: 92\n"
       ]
      },
      {
       "output_type": "stream",
       "stream": "stderr",
       "text": [
        "INFO:REINFORCE:Gradient step\n"
       ]
      },
      {
       "output_type": "stream",
       "stream": "stderr",
       "text": [
        "INFO:REINFORCE:Step norm: 1.0\n"
       ]
      },
      {
       "output_type": "stream",
       "stream": "stderr",
       "text": [
        "INFO:REINFORCE:Alpha: 0.0646602322465\n"
       ]
      },
      {
       "output_type": "stream",
       "stream": "stderr",
       "text": [
        "INFO:REINFORCE:Return from iter 0:  89618.344916\n"
       ]
      },
      {
       "output_type": "stream",
       "stream": "stderr",
       "text": [
        "INFO:REINFORCE:Return from iter 1:  81497.703226\n"
       ]
      },
      {
       "output_type": "stream",
       "stream": "stderr",
       "text": [
        "INFO:REINFORCE:Return from iter 2:  89617.651769\n"
       ]
      },
      {
       "output_type": "stream",
       "stream": "stderr",
       "text": [
        "INFO:REINFORCE:Return from iter 3:  88369.261207\n"
       ]
      },
      {
       "output_type": "stream",
       "stream": "stdout",
       "text": [
        "\n",
        "Return from iter 1:  81497.703226\n",
        "Return from iter 2:  89617.651769\n",
        "Return from iter 3:  88369.261207\n",
        "Updated theta with alpha: 0.0646602322465, theta norm: 1.0\n",
        "Return from iter 0:  87745.647501"
       ]
      },
      {
       "output_type": "stream",
       "stream": "stderr",
       "text": [
        "INFO:REINFORCE:********************Iteration: 93\n"
       ]
      },
      {
       "output_type": "stream",
       "stream": "stderr",
       "text": [
        "INFO:REINFORCE:Gradient step\n"
       ]
      },
      {
       "output_type": "stream",
       "stream": "stderr",
       "text": [
        "INFO:REINFORCE:Step norm: 1.0\n"
       ]
      },
      {
       "output_type": "stream",
       "stream": "stderr",
       "text": [
        "INFO:REINFORCE:Alpha: 0.0642594433947\n"
       ]
      },
      {
       "output_type": "stream",
       "stream": "stderr",
       "text": [
        "INFO:REINFORCE:Return from iter 0:  87745.647501\n"
       ]
      },
      {
       "output_type": "stream",
       "stream": "stderr",
       "text": [
        "INFO:REINFORCE:Return from iter 1:  88370.647501\n"
       ]
      },
      {
       "output_type": "stream",
       "stream": "stderr",
       "text": [
        "INFO:REINFORCE:Return from iter 2:  88371.340649\n"
       ]
      },
      {
       "output_type": "stream",
       "stream": "stderr",
       "text": [
        "INFO:REINFORCE:Return from iter 3:  87747.033796\n"
       ]
      },
      {
       "output_type": "stream",
       "stream": "stdout",
       "text": [
        "\n",
        "Return from iter 1:  88370.647501\n",
        "Return from iter 2:  88371.340649\n",
        "Return from iter 3:  87747.033796\n",
        "Updated theta with alpha: 0.0642594433947, theta norm: 1.0\n",
        "Return from iter 0:  89617.246304"
       ]
      },
      {
       "output_type": "stream",
       "stream": "stderr",
       "text": [
        "INFO:REINFORCE:********************Iteration: 94\n"
       ]
      },
      {
       "output_type": "stream",
       "stream": "stderr",
       "text": [
        "INFO:REINFORCE:Gradient step\n"
       ]
      },
      {
       "output_type": "stream",
       "stream": "stderr",
       "text": [
        "INFO:REINFORCE:Step norm: 1.0\n"
       ]
      },
      {
       "output_type": "stream",
       "stream": "stderr",
       "text": [
        "INFO:REINFORCE:Alpha: 0.0638652114756\n"
       ]
      },
      {
       "output_type": "stream",
       "stream": "stderr",
       "text": [
        "INFO:REINFORCE:Return from iter 0:  89617.246304\n"
       ]
      },
      {
       "output_type": "stream",
       "stream": "stderr",
       "text": [
        "INFO:REINFORCE:Return from iter 1:  88372.033796\n"
       ]
      },
      {
       "output_type": "stream",
       "stream": "stderr",
       "text": [
        "INFO:REINFORCE:Return from iter 2:  88369.954354\n"
       ]
      },
      {
       "output_type": "stream",
       "stream": "stderr",
       "text": [
        "INFO:REINFORCE:Return from iter 3:  88371.340649\n"
       ]
      },
      {
       "output_type": "stream",
       "stream": "stdout",
       "text": [
        "\n",
        "Return from iter 1:  88372.033796\n",
        "Return from iter 2:  88369.954354\n",
        "Return from iter 3:  88371.340649\n",
        "Updated theta with alpha: 0.0638652114756, theta norm: 1.0\n",
        "Return from iter 0:  85872.256939"
       ]
      },
      {
       "output_type": "stream",
       "stream": "stderr",
       "text": [
        "INFO:REINFORCE:********************Iteration: 95\n"
       ]
      },
      {
       "output_type": "stream",
       "stream": "stderr",
       "text": [
        "INFO:REINFORCE:Gradient step\n"
       ]
      },
      {
       "output_type": "stream",
       "stream": "stderr",
       "text": [
        "INFO:REINFORCE:Step norm: 1.0\n"
       ]
      },
      {
       "output_type": "stream",
       "stream": "stderr",
       "text": [
        "INFO:REINFORCE:Alpha: 0.0634773639362\n"
       ]
      },
      {
       "output_type": "stream",
       "stream": "stderr",
       "text": [
        "INFO:REINFORCE:Return from iter 0:  85872.256939\n"
       ]
      },
      {
       "output_type": "stream",
       "stream": "stderr",
       "text": [
        "INFO:REINFORCE:Return from iter 1:  87123.643234\n"
       ]
      },
      {
       "output_type": "stream",
       "stream": "stderr",
       "text": [
        "INFO:REINFORCE:Return from iter 2:  80255.997276\n"
       ]
      },
      {
       "output_type": "stream",
       "stream": "stderr",
       "text": [
        "INFO:REINFORCE:Return from iter 3:  87747.033796\n"
       ]
      },
      {
       "output_type": "stream",
       "stream": "stdout",
       "text": [
        "\n",
        "Return from iter 1:  87123.643234\n",
        "Return from iter 2:  80255.997276\n",
        "Return from iter 3:  87747.033796\n",
        "Updated theta with alpha: 0.0634773639362, theta norm: 1.0\n",
        "Return from iter 0:  84625.945819"
       ]
      },
      {
       "output_type": "stream",
       "stream": "stderr",
       "text": [
        "INFO:REINFORCE:********************Iteration: 96\n"
       ]
      },
      {
       "output_type": "stream",
       "stream": "stderr",
       "text": [
        "INFO:REINFORCE:Gradient step\n"
       ]
      },
      {
       "output_type": "stream",
       "stream": "stderr",
       "text": [
        "INFO:REINFORCE:Step norm: 1.0\n"
       ]
      },
      {
       "output_type": "stream",
       "stream": "stderr",
       "text": [
        "INFO:REINFORCE:Alpha: 0.063095734448\n"
       ]
      },
      {
       "output_type": "stream",
       "stream": "stderr",
       "text": [
        "INFO:REINFORCE:Return from iter 0:  84625.945819\n"
       ]
      },
      {
       "output_type": "stream",
       "stream": "stderr",
       "text": [
        "INFO:REINFORCE:Return from iter 1:  80246.540076\n"
       ]
      },
      {
       "output_type": "stream",
       "stream": "stderr",
       "text": [
        "INFO:REINFORCE:Return from iter 2:  58997.890231\n"
       ]
      },
      {
       "output_type": "stream",
       "stream": "stderr",
       "text": [
        "INFO:REINFORCE:Return from iter 3:  77749.065804\n"
       ]
      },
      {
       "output_type": "stream",
       "stream": "stdout",
       "text": [
        "\n",
        "Return from iter 1:  80246.540076\n",
        "Return from iter 2:  58997.890231\n",
        "Return from iter 3:  77749.065804\n",
        "Updated theta with alpha: 0.063095734448, theta norm: 1.0\n",
        "Return from iter 0:  87122.033796"
       ]
      },
      {
       "output_type": "stream",
       "stream": "stderr",
       "text": [
        "INFO:REINFORCE:********************Iteration: 97\n"
       ]
      },
      {
       "output_type": "stream",
       "stream": "stderr",
       "text": [
        "INFO:REINFORCE:Gradient step\n"
       ]
      },
      {
       "output_type": "stream",
       "stream": "stderr",
       "text": [
        "INFO:REINFORCE:Step norm: 1.0\n"
       ]
      },
      {
       "output_type": "stream",
       "stream": "stderr",
       "text": [
        "INFO:REINFORCE:Alpha: 0.0627201626228\n"
       ]
      },
      {
       "output_type": "stream",
       "stream": "stderr",
       "text": [
        "INFO:REINFORCE:Return from iter 0:  87122.033796\n"
       ]
      },
      {
       "output_type": "stream",
       "stream": "stderr",
       "text": [
        "INFO:REINFORCE:Return from iter 1:  89619.038063\n"
       ]
      },
      {
       "output_type": "stream",
       "stream": "stderr",
       "text": [
        "INFO:REINFORCE:Return from iter 2:  89620.424358\n"
       ]
      },
      {
       "output_type": "stream",
       "stream": "stderr",
       "text": [
        "INFO:REINFORCE:Return from iter 3:  88371.340649\n"
       ]
      },
      {
       "output_type": "stream",
       "stream": "stdout",
       "text": [
        "\n",
        "Return from iter 1:  89619.038063\n",
        "Return from iter 2:  89620.424358\n",
        "Return from iter 3:  88371.340649\n",
        "Updated theta with alpha: 0.0627201626228, theta norm: 1.0\n",
        "Return from iter 0:  87122.950086"
       ]
      },
      {
       "output_type": "stream",
       "stream": "stderr",
       "text": [
        "INFO:REINFORCE:********************Iteration: 98\n"
       ]
      },
      {
       "output_type": "stream",
       "stream": "stderr",
       "text": [
        "INFO:REINFORCE:Gradient step\n"
       ]
      },
      {
       "output_type": "stream",
       "stream": "stderr",
       "text": [
        "INFO:REINFORCE:Step norm: 1.0\n"
       ]
      },
      {
       "output_type": "stream",
       "stream": "stderr",
       "text": [
        "INFO:REINFORCE:Alpha: 0.0623504937445\n"
       ]
      },
      {
       "output_type": "stream",
       "stream": "stderr",
       "text": [
        "INFO:REINFORCE:Return from iter 0:  87122.950086\n"
       ]
      },
      {
       "output_type": "stream",
       "stream": "stderr",
       "text": [
        "INFO:REINFORCE:Return from iter 1:  88372.033796\n"
       ]
      },
      {
       "output_type": "stream",
       "stream": "stderr",
       "text": [
        "INFO:REINFORCE:Return from iter 2:  83997.480083\n"
       ]
      },
      {
       "output_type": "stream",
       "stream": "stderr",
       "text": [
        "INFO:REINFORCE:Return from iter 3:  89619.731211\n"
       ]
      },
      {
       "output_type": "stream",
       "stream": "stdout",
       "text": [
        "\n",
        "Return from iter 1:  88372.033796\n",
        "Return from iter 2:  83997.480083\n",
        "Return from iter 3:  89619.731211\n",
        "Updated theta with alpha: 0.0623504937445, theta norm: 1.0\n",
        "Return from iter 0:  90244.731211"
       ]
      },
      {
       "output_type": "stream",
       "stream": "stderr",
       "text": [
        "INFO:REINFORCE:********************Iteration: 99\n"
       ]
      },
      {
       "output_type": "stream",
       "stream": "stderr",
       "text": [
        "INFO:REINFORCE:Gradient step\n"
       ]
      },
      {
       "output_type": "stream",
       "stream": "stderr",
       "text": [
        "INFO:REINFORCE:Step norm: 1.0\n"
       ]
      },
      {
       "output_type": "stream",
       "stream": "stderr",
       "text": [
        "INFO:REINFORCE:Alpha: 0.0619865785149\n"
       ]
      },
      {
       "output_type": "stream",
       "stream": "stderr",
       "text": [
        "INFO:REINFORCE:Return from iter 0:  90244.731211\n"
       ]
      },
      {
       "output_type": "stream",
       "stream": "stderr",
       "text": [
        "INFO:REINFORCE:Return from iter 1:  85246.786936\n"
       ]
      },
      {
       "output_type": "stream",
       "stream": "stderr",
       "text": [
        "INFO:REINFORCE:Return from iter 2:  83377.085253\n"
       ]
      },
      {
       "output_type": "stream",
       "stream": "stderr",
       "text": [
        "INFO:REINFORCE:Return from iter 3:  89618.121773\n"
       ]
      },
      {
       "output_type": "stream",
       "stream": "stdout",
       "text": [
        "\n",
        "Return from iter 1:  85246.786936\n",
        "Return from iter 2:  83377.085253\n",
        "Return from iter 3:  89618.121773\n",
        "Updated theta with alpha: 0.0619865785149, theta norm: 1.0\n",
        "Return from iter 0:  87123.643234"
       ]
      },
      {
       "output_type": "stream",
       "stream": "stderr",
       "text": [
        "INFO:REINFORCE:********************Iteration: 100\n"
       ]
      },
      {
       "output_type": "stream",
       "stream": "stderr",
       "text": [
        "INFO:REINFORCE:Gradient step\n"
       ]
      },
      {
       "output_type": "stream",
       "stream": "stderr",
       "text": [
        "INFO:REINFORCE:Step norm: 1.0\n"
       ]
      },
      {
       "output_type": "stream",
       "stream": "stderr",
       "text": [
        "INFO:REINFORCE:Alpha: 0.0616282728141\n"
       ]
      },
      {
       "output_type": "stream",
       "stream": "stderr",
       "text": [
        "INFO:REINFORCE:Return from iter 0:  87123.643234\n"
       ]
      },
      {
       "output_type": "stream",
       "stream": "stderr",
       "text": [
        "INFO:REINFORCE:Return from iter 1:  84001.168962\n"
       ]
      },
      {
       "output_type": "stream",
       "stream": "stderr",
       "text": [
        "INFO:REINFORCE:Return from iter 2:  90868.121773\n"
       ]
      },
      {
       "output_type": "stream",
       "stream": "stderr",
       "text": [
        "INFO:REINFORCE:Return from iter 3:  85251.862109\n"
       ]
      },
      {
       "output_type": "stream",
       "stream": "stdout",
       "text": [
        "\n",
        "Return from iter 1:  84001.168962\n",
        "Return from iter 2:  90868.121773\n",
        "Return from iter 3:  85251.862109\n",
        "Updated theta with alpha: 0.0616282728141, theta norm: 1.0\n",
        "Return from iter 0:  87122.950086"
       ]
      },
      {
       "output_type": "stream",
       "stream": "stderr",
       "text": [
        "INFO:REINFORCE:********************Iteration: 101\n"
       ]
      },
      {
       "output_type": "stream",
       "stream": "stderr",
       "text": [
        "INFO:REINFORCE:Gradient step\n"
       ]
      },
      {
       "output_type": "stream",
       "stream": "stderr",
       "text": [
        "INFO:REINFORCE:Step norm: 1.0\n"
       ]
      },
      {
       "output_type": "stream",
       "stream": "stderr",
       "text": [
        "INFO:REINFORCE:Alpha: 0.0612754374728\n"
       ]
      },
      {
       "output_type": "stream",
       "stream": "stderr",
       "text": [
        "INFO:REINFORCE:Return from iter 0:  87122.950086\n"
       ]
      },
      {
       "output_type": "stream",
       "stream": "stderr",
       "text": [
        "INFO:REINFORCE:Return from iter 1:  78999.312664\n"
       ]
      },
      {
       "output_type": "stream",
       "stream": "stderr",
       "text": [
        "INFO:REINFORCE:Return from iter 2:  84619.954354\n"
       ]
      },
      {
       "output_type": "stream",
       "stream": "stderr",
       "text": [
        "INFO:REINFORCE:Return from iter 3:  83376.392106\n"
       ]
      },
      {
       "output_type": "stream",
       "stream": "stdout",
       "text": [
        "\n",
        "Return from iter 1:  78999.312664\n",
        "Return from iter 2:  84619.954354\n",
        "Return from iter 3:  83376.392106\n",
        "Updated theta with alpha: 0.0612754374728, theta norm: 1.0\n",
        "Return from iter 0:  85251.862109"
       ]
      },
      {
       "output_type": "stream",
       "stream": "stderr",
       "text": [
        "INFO:REINFORCE:********************Iteration: 102\n"
       ]
      },
      {
       "output_type": "stream",
       "stream": "stderr",
       "text": [
        "INFO:REINFORCE:Gradient step\n"
       ]
      },
      {
       "output_type": "stream",
       "stream": "stderr",
       "text": [
        "INFO:REINFORCE:Step norm: 1.0\n"
       ]
      },
      {
       "output_type": "stream",
       "stream": "stderr",
       "text": [
        "INFO:REINFORCE:Alpha: 0.0609279380573\n"
       ]
      },
      {
       "output_type": "stream",
       "stream": "stderr",
       "text": [
        "INFO:REINFORCE:Return from iter 0:  85251.862109\n"
       ]
      },
      {
       "output_type": "stream",
       "stream": "stderr",
       "text": [
        "INFO:REINFORCE:Return from iter 1:  88370.647501\n"
       ]
      },
      {
       "output_type": "stream",
       "stream": "stderr",
       "text": [
        "INFO:REINFORCE:Return from iter 2:  88372.033796\n"
       ]
      },
      {
       "output_type": "stream",
       "stream": "stderr",
       "text": [
        "INFO:REINFORCE:Return from iter 3:  89619.731211\n"
       ]
      },
      {
       "output_type": "stream",
       "stream": "stdout",
       "text": [
        "\n",
        "Return from iter 1:  88370.647501\n",
        "Return from iter 2:  88372.033796\n",
        "Return from iter 3:  89619.731211\n",
        "Updated theta with alpha: 0.0609279380573, theta norm: 1.0\n",
        "Return from iter 0:  81500.005811"
       ]
      },
      {
       "output_type": "stream",
       "stream": "stderr",
       "text": [
        "INFO:REINFORCE:********************Iteration: 103\n"
       ]
      },
      {
       "output_type": "stream",
       "stream": "stderr",
       "text": [
        "INFO:REINFORCE:Gradient step\n"
       ]
      },
      {
       "output_type": "stream",
       "stream": "stderr",
       "text": [
        "INFO:REINFORCE:Step norm: 1.0\n"
       ]
      },
      {
       "output_type": "stream",
       "stream": "stderr",
       "text": [
        "INFO:REINFORCE:Alpha: 0.0605856446655\n"
       ]
      },
      {
       "output_type": "stream",
       "stream": "stderr",
       "text": [
        "INFO:REINFORCE:Return from iter 0:  81500.005811\n"
       ]
      },
      {
       "output_type": "stream",
       "stream": "stderr",
       "text": [
        "INFO:REINFORCE:Return from iter 1:  89619.731211\n"
       ]
      },
      {
       "output_type": "stream",
       "stream": "stderr",
       "text": [
        "INFO:REINFORCE:Return from iter 2:  87119.261207\n"
       ]
      },
      {
       "output_type": "stream",
       "stream": "stderr",
       "text": [
        "INFO:REINFORCE:Return from iter 3:  83372.480083\n"
       ]
      },
      {
       "output_type": "stream",
       "stream": "stdout",
       "text": [
        "\n",
        "Return from iter 1:  89619.731211\n",
        "Return from iter 2:  87119.261207\n",
        "Return from iter 3:  83372.480083\n",
        "Updated theta with alpha: 0.0605856446655, theta norm: 1.0\n",
        "Return from iter 0:  87744.954354"
       ]
      },
      {
       "output_type": "stream",
       "stream": "stderr",
       "text": [
        "INFO:REINFORCE:********************Iteration: 104\n"
       ]
      },
      {
       "output_type": "stream",
       "stream": "stderr",
       "text": [
        "INFO:REINFORCE:Gradient step\n"
       ]
      },
      {
       "output_type": "stream",
       "stream": "stderr",
       "text": [
        "INFO:REINFORCE:Step norm: 1.0\n"
       ]
      },
      {
       "output_type": "stream",
       "stream": "stderr",
       "text": [
        "INFO:REINFORCE:Alpha: 0.0602484317332\n"
       ]
      },
      {
       "output_type": "stream",
       "stream": "stderr",
       "text": [
        "INFO:REINFORCE:Return from iter 0:  87744.954354\n"
       ]
      },
      {
       "output_type": "stream",
       "stream": "stderr",
       "text": [
        "INFO:REINFORCE:Return from iter 1:  88372.033796\n"
       ]
      },
      {
       "output_type": "stream",
       "stream": "stderr",
       "text": [
        "INFO:REINFORCE:Return from iter 2:  88371.340649\n"
       ]
      },
      {
       "output_type": "stream",
       "stream": "stderr",
       "text": [
        "INFO:REINFORCE:Return from iter 3:  85247.480083\n"
       ]
      },
      {
       "output_type": "stream",
       "stream": "stdout",
       "text": [
        "\n",
        "Return from iter 1:  88372.033796\n",
        "Return from iter 2:  88371.340649\n",
        "Return from iter 3:  85247.480083\n",
        "Updated theta with alpha: 0.0602484317332, theta norm: 1.0\n",
        "Return from iter 0:  87745.870645"
       ]
      },
      {
       "output_type": "stream",
       "stream": "stderr",
       "text": [
        "INFO:REINFORCE:********************Iteration: 105\n"
       ]
      },
      {
       "output_type": "stream",
       "stream": "stderr",
       "text": [
        "INFO:REINFORCE:Gradient step\n"
       ]
      },
      {
       "output_type": "stream",
       "stream": "stderr",
       "text": [
        "INFO:REINFORCE:Step norm: 1.0\n"
       ]
      },
      {
       "output_type": "stream",
       "stream": "stderr",
       "text": [
        "INFO:REINFORCE:Alpha: 0.0599161778512\n"
       ]
      },
      {
       "output_type": "stream",
       "stream": "stderr",
       "text": [
        "INFO:REINFORCE:Return from iter 0:  87745.870645\n"
       ]
      },
      {
       "output_type": "stream",
       "stream": "stderr",
       "text": [
        "INFO:REINFORCE:Return from iter 1:  88371.340649\n"
       ]
      },
      {
       "output_type": "stream",
       "stream": "stderr",
       "text": [
        "INFO:REINFORCE:Return from iter 2:  85872.950086\n"
       ]
      },
      {
       "output_type": "stream",
       "stream": "stderr",
       "text": [
        "INFO:REINFORCE:Return from iter 3:  88370.424358\n"
       ]
      },
      {
       "output_type": "stream",
       "stream": "stdout",
       "text": [
        "\n",
        "Return from iter 1:  88371.340649\n",
        "Return from iter 2:  85872.950086\n",
        "Return from iter 3:  88370.424358\n",
        "Updated theta with alpha: 0.0599161778512, theta norm: 1.0\n",
        "Return from iter 0:  88994.261207"
       ]
      },
      {
       "output_type": "stream",
       "stream": "stderr",
       "text": [
        "INFO:REINFORCE:********************Iteration: 106\n"
       ]
      },
      {
       "output_type": "stream",
       "stream": "stderr",
       "text": [
        "INFO:REINFORCE:Gradient step\n"
       ]
      },
      {
       "output_type": "stream",
       "stream": "stderr",
       "text": [
        "INFO:REINFORCE:Step norm: 1.0\n"
       ]
      },
      {
       "output_type": "stream",
       "stream": "stderr",
       "text": [
        "INFO:REINFORCE:Alpha: 0.0595887655909\n"
       ]
      },
      {
       "output_type": "stream",
       "stream": "stderr",
       "text": [
        "INFO:REINFORCE:Return from iter 0:  88994.261207\n"
       ]
      },
      {
       "output_type": "stream",
       "stream": "stderr",
       "text": [
        "INFO:REINFORCE:Return from iter 1:  84002.778400\n"
       ]
      },
      {
       "output_type": "stream",
       "stream": "stderr",
       "text": [
        "INFO:REINFORCE:Return from iter 2:  82127.778400\n"
       ]
      },
      {
       "output_type": "stream",
       "stream": "stderr",
       "text": [
        "INFO:REINFORCE:Return from iter 3:  87744.261207\n"
       ]
      },
      {
       "output_type": "stream",
       "stream": "stdout",
       "text": [
        "\n",
        "Return from iter 1:  84002.778400\n",
        "Return from iter 2:  82127.778400\n",
        "Return from iter 3:  87744.261207\n",
        "Updated theta with alpha: 0.0595887655909, theta norm: 1.0\n",
        "Return from iter 0:  90868.121773"
       ]
      },
      {
       "output_type": "stream",
       "stream": "stderr",
       "text": [
        "INFO:REINFORCE:********************Iteration: 107\n"
       ]
      },
      {
       "output_type": "stream",
       "stream": "stderr",
       "text": [
        "INFO:REINFORCE:Gradient step\n"
       ]
      },
      {
       "output_type": "stream",
       "stream": "stderr",
       "text": [
        "INFO:REINFORCE:Step norm: 1.0\n"
       ]
      },
      {
       "output_type": "stream",
       "stream": "stderr",
       "text": [
        "INFO:REINFORCE:Alpha: 0.0592660813391\n"
       ]
      },
      {
       "output_type": "stream",
       "stream": "stderr",
       "text": [
        "INFO:REINFORCE:Return from iter 0:  90868.121773\n"
       ]
      },
      {
       "output_type": "stream",
       "stream": "stderr",
       "text": [
        "INFO:REINFORCE:Return from iter 1:  81495.623785\n"
       ]
      },
      {
       "output_type": "stream",
       "stream": "stderr",
       "text": [
        "INFO:REINFORCE:Return from iter 2:  85251.862109\n"
       ]
      },
      {
       "output_type": "stream",
       "stream": "stderr",
       "text": [
        "INFO:REINFORCE:Return from iter 3:  87122.950086\n"
       ]
      },
      {
       "output_type": "stream",
       "stream": "stdout",
       "text": [
        "\n",
        "Return from iter 1:  81495.623785\n",
        "Return from iter 2:  85251.862109\n",
        "Return from iter 3:  87122.950086\n",
        "Updated theta with alpha: 0.0592660813391, theta norm: 1.0\n",
        "Return from iter 0:  90868.121773"
       ]
      },
      {
       "output_type": "stream",
       "stream": "stderr",
       "text": [
        "INFO:REINFORCE:********************Iteration: 108\n"
       ]
      },
      {
       "output_type": "stream",
       "stream": "stderr",
       "text": [
        "INFO:REINFORCE:Gradient step\n"
       ]
      },
      {
       "output_type": "stream",
       "stream": "stderr",
       "text": [
        "INFO:REINFORCE:Step norm: 1.0\n"
       ]
      },
      {
       "output_type": "stream",
       "stream": "stderr",
       "text": [
        "INFO:REINFORCE:Alpha: 0.058948015141\n"
       ]
      },
      {
       "output_type": "stream",
       "stream": "stderr",
       "text": [
        "INFO:REINFORCE:Return from iter 0:  90868.121773\n"
       ]
      },
      {
       "output_type": "stream",
       "stream": "stderr",
       "text": [
        "INFO:REINFORCE:Return from iter 1:  88993.344916\n"
       ]
      },
      {
       "output_type": "stream",
       "stream": "stderr",
       "text": [
        "INFO:REINFORCE:Return from iter 2:  80257.606714\n"
       ]
      },
      {
       "output_type": "stream",
       "stream": "stderr",
       "text": [
        "INFO:REINFORCE:Return from iter 3:  90868.814920\n"
       ]
      },
      {
       "output_type": "stream",
       "stream": "stdout",
       "text": [
        "\n",
        "Return from iter 1:  88993.344916\n",
        "Return from iter 2:  80257.606714\n",
        "Return from iter 3:  90868.814920\n",
        "Updated theta with alpha: 0.058948015141, theta norm: 1.0\n",
        "Return from iter 0:  83995.177498"
       ]
      },
      {
       "output_type": "stream",
       "stream": "stderr",
       "text": [
        "INFO:REINFORCE:********************Iteration: 109\n"
       ]
      },
      {
       "output_type": "stream",
       "stream": "stderr",
       "text": [
        "INFO:REINFORCE:Gradient step\n"
       ]
      },
      {
       "output_type": "stream",
       "stream": "stderr",
       "text": [
        "INFO:REINFORCE:Step norm: 1.0\n"
       ]
      },
      {
       "output_type": "stream",
       "stream": "stderr",
       "text": [
        "INFO:REINFORCE:Alpha: 0.0586344605512\n"
       ]
      },
      {
       "output_type": "stream",
       "stream": "stderr",
       "text": [
        "INFO:REINFORCE:Return from iter 0:  83995.177498\n"
       ]
      },
      {
       "output_type": "stream",
       "stream": "stderr",
       "text": [
        "INFO:REINFORCE:Return from iter 1:  80874.089521\n"
       ]
      },
      {
       "output_type": "stream",
       "stream": "stderr",
       "text": [
        "INFO:REINFORCE:Return from iter 2:  87122.033796\n"
       ]
      },
      {
       "output_type": "stream",
       "stream": "stderr",
       "text": [
        "INFO:REINFORCE:Return from iter 3:  85249.559524\n"
       ]
      },
      {
       "output_type": "stream",
       "stream": "stdout",
       "text": [
        "\n",
        "Return from iter 1:  80874.089521\n",
        "Return from iter 2:  87122.033796\n",
        "Return from iter 3:  85249.559524\n",
        "Updated theta with alpha: 0.0586344605512, theta norm: 1.0\n",
        "Return from iter 0:  88372.033796"
       ]
      },
      {
       "output_type": "stream",
       "stream": "stderr",
       "text": [
        "INFO:REINFORCE:********************Iteration: 110\n"
       ]
      },
      {
       "output_type": "stream",
       "stream": "stderr",
       "text": [
        "INFO:REINFORCE:Gradient step\n"
       ]
      },
      {
       "output_type": "stream",
       "stream": "stderr",
       "text": [
        "INFO:REINFORCE:Step norm: 1.0\n"
       ]
      },
      {
       "output_type": "stream",
       "stream": "stderr",
       "text": [
        "INFO:REINFORCE:Alpha: 0.0583253144915\n"
       ]
      },
      {
       "output_type": "stream",
       "stream": "stderr",
       "text": [
        "INFO:REINFORCE:Return from iter 0:  88372.033796\n"
       ]
      },
      {
       "output_type": "stream",
       "stream": "stderr",
       "text": [
        "INFO:REINFORCE:Return from iter 1:  89620.424358\n"
       ]
      },
      {
       "output_type": "stream",
       "stream": "stderr",
       "text": [
        "INFO:REINFORCE:Return from iter 2:  87122.950086\n"
       ]
      },
      {
       "output_type": "stream",
       "stream": "stderr",
       "text": [
        "INFO:REINFORCE:Return from iter 3:  85875.252672\n"
       ]
      },
      {
       "output_type": "stream",
       "stream": "stdout",
       "text": [
        "\n",
        "Return from iter 1:  89620.424358\n",
        "Return from iter 2:  87122.950086\n",
        "Return from iter 3:  85875.252672\n",
        "Updated theta with alpha: 0.0583253144915, theta norm: 1.0\n",
        "Return from iter 0:  85251.862109"
       ]
      },
      {
       "output_type": "stream",
       "stream": "stderr",
       "text": [
        "INFO:REINFORCE:********************Iteration: 111\n"
       ]
      },
      {
       "output_type": "stream",
       "stream": "stderr",
       "text": [
        "INFO:REINFORCE:Gradient step\n"
       ]
      },
      {
       "output_type": "stream",
       "stream": "stderr",
       "text": [
        "INFO:REINFORCE:Step norm: 1.0\n"
       ]
      },
      {
       "output_type": "stream",
       "stream": "stderr",
       "text": [
        "INFO:REINFORCE:Alpha: 0.0580204771161\n"
       ]
      },
      {
       "output_type": "stream",
       "stream": "stderr",
       "text": [
        "INFO:REINFORCE:Return from iter 0:  85251.862109\n"
       ]
      },
      {
       "output_type": "stream",
       "stream": "stderr",
       "text": [
        "INFO:REINFORCE:Return from iter 1:  86496.786936\n"
       ]
      },
      {
       "output_type": "stream",
       "stream": "stderr",
       "text": [
        "INFO:REINFORCE:Return from iter 2:  88369.261207\n"
       ]
      },
      {
       "output_type": "stream",
       "stream": "stderr",
       "text": [
        "INFO:REINFORCE:Return from iter 3:  89619.731211\n"
       ]
      },
      {
       "output_type": "stream",
       "stream": "stdout",
       "text": [
        "\n",
        "Return from iter 1:  86496.786936\n",
        "Return from iter 2:  88369.261207\n",
        "Return from iter 3:  89619.731211\n",
        "Updated theta with alpha: 0.0580204771161, theta norm: 1.0\n",
        "Return from iter 0:  88371.340649"
       ]
      },
      {
       "output_type": "stream",
       "stream": "stderr",
       "text": [
        "INFO:REINFORCE:********************Iteration: 112\n"
       ]
      },
      {
       "output_type": "stream",
       "stream": "stderr",
       "text": [
        "INFO:REINFORCE:Gradient step\n"
       ]
      },
      {
       "output_type": "stream",
       "stream": "stderr",
       "text": [
        "INFO:REINFORCE:Step norm: 1.0\n"
       ]
      },
      {
       "output_type": "stream",
       "stream": "stderr",
       "text": [
        "INFO:REINFORCE:Alpha: 0.0577198516836\n"
       ]
      },
      {
       "output_type": "stream",
       "stream": "stderr",
       "text": [
        "INFO:REINFORCE:Return from iter 0:  88371.340649\n"
       ]
      },
      {
       "output_type": "stream",
       "stream": "stderr",
       "text": [
        "INFO:REINFORCE:Return from iter 1:  87121.340649\n"
       ]
      },
      {
       "output_type": "stream",
       "stream": "stderr",
       "text": [
        "INFO:REINFORCE:Return from iter 2:  82749.089521\n"
       ]
      },
      {
       "output_type": "stream",
       "stream": "stderr",
       "text": [
        "INFO:REINFORCE:Return from iter 3:  90868.121773\n"
       ]
      },
      {
       "output_type": "stream",
       "stream": "stdout",
       "text": [
        "\n",
        "Return from iter 1:  87121.340649\n",
        "Return from iter 2:  82749.089521\n",
        "Return from iter 3:  90868.121773\n",
        "Updated theta with alpha: 0.0577198516836, theta norm: 1.0\n",
        "Return from iter 0:  87742.651769"
       ]
      },
      {
       "output_type": "stream",
       "stream": "stderr",
       "text": [
        "INFO:REINFORCE:********************Iteration: 113\n"
       ]
      },
      {
       "output_type": "stream",
       "stream": "stderr",
       "text": [
        "INFO:REINFORCE:Gradient step\n"
       ]
      },
      {
       "output_type": "stream",
       "stream": "stderr",
       "text": [
        "INFO:REINFORCE:Step norm: 1.0\n"
       ]
      },
      {
       "output_type": "stream",
       "stream": "stderr",
       "text": [
        "INFO:REINFORCE:Alpha: 0.057423344434\n"
       ]
      },
      {
       "output_type": "stream",
       "stream": "stderr",
       "text": [
        "INFO:REINFORCE:Return from iter 0:  87742.651769\n"
       ]
      },
      {
       "output_type": "stream",
       "stream": "stderr",
       "text": [
        "INFO:REINFORCE:Return from iter 1:  86498.643234\n"
       ]
      },
      {
       "output_type": "stream",
       "stream": "stderr",
       "text": [
        "INFO:REINFORCE:Return from iter 2:  85251.862109\n"
       ]
      },
      {
       "output_type": "stream",
       "stream": "stderr",
       "text": [
        "INFO:REINFORCE:Return from iter 3:  88994.954354\n"
       ]
      },
      {
       "output_type": "stream",
       "stream": "stdout",
       "text": [
        "\n",
        "Return from iter 1:  86498.643234\n",
        "Return from iter 2:  85251.862109\n",
        "Return from iter 3:  88994.954354\n",
        "Updated theta with alpha: 0.057423344434, theta norm: 1.0\n",
        "Return from iter 0:  88367.651769"
       ]
      },
      {
       "output_type": "stream",
       "stream": "stderr",
       "text": [
        "INFO:REINFORCE:********************Iteration: 114\n"
       ]
      },
      {
       "output_type": "stream",
       "stream": "stderr",
       "text": [
        "INFO:REINFORCE:Gradient step\n"
       ]
      },
      {
       "output_type": "stream",
       "stream": "stderr",
       "text": [
        "INFO:REINFORCE:Step norm: 1.0\n"
       ]
      },
      {
       "output_type": "stream",
       "stream": "stderr",
       "text": [
        "INFO:REINFORCE:Alpha: 0.0571308644729\n"
       ]
      },
      {
       "output_type": "stream",
       "stream": "stderr",
       "text": [
        "INFO:REINFORCE:Return from iter 0:  88367.651769\n"
       ]
      },
      {
       "output_type": "stream",
       "stream": "stderr",
       "text": [
        "INFO:REINFORCE:Return from iter 1:  80249.312664\n"
       ]
      },
      {
       "output_type": "stream",
       "stream": "stderr",
       "text": [
        "INFO:REINFORCE:Return from iter 2:  87123.643234\n"
       ]
      },
      {
       "output_type": "stream",
       "stream": "stderr",
       "text": [
        "INFO:REINFORCE:Return from iter 3:  89619.731211\n"
       ]
      },
      {
       "output_type": "stream",
       "stream": "stdout",
       "text": [
        "\n",
        "Return from iter 1:  80249.312664\n",
        "Return from iter 2:  87123.643234\n",
        "Return from iter 3:  89619.731211\n",
        "Updated theta with alpha: 0.0571308644729, theta norm: 1.0\n",
        "Return from iter 0:  80877.308397"
       ]
      },
      {
       "output_type": "stream",
       "stream": "stderr",
       "text": [
        "INFO:REINFORCE:********************Iteration: 115\n"
       ]
      },
      {
       "output_type": "stream",
       "stream": "stderr",
       "text": [
        "INFO:REINFORCE:Gradient step\n"
       ]
      },
      {
       "output_type": "stream",
       "stream": "stderr",
       "text": [
        "INFO:REINFORCE:Step norm: 1.0\n"
       ]
      },
      {
       "output_type": "stream",
       "stream": "stderr",
       "text": [
        "INFO:REINFORCE:Alpha: 0.0568423236602\n"
       ]
      },
      {
       "output_type": "stream",
       "stream": "stderr",
       "text": [
        "INFO:REINFORCE:Return from iter 0:  80877.308397\n"
       ]
      },
      {
       "output_type": "stream",
       "stream": "stderr",
       "text": [
        "INFO:REINFORCE:Return from iter 1:  85871.563792\n"
       ]
      },
      {
       "output_type": "stream",
       "stream": "stderr",
       "text": [
        "INFO:REINFORCE:Return from iter 2:  88371.340649\n"
       ]
      },
      {
       "output_type": "stream",
       "stream": "stderr",
       "text": [
        "INFO:REINFORCE:Return from iter 3:  88370.424358\n"
       ]
      },
      {
       "output_type": "stream",
       "stream": "stdout",
       "text": [
        "\n",
        "Return from iter 1:  85871.563792\n",
        "Return from iter 2:  88371.340649\n",
        "Return from iter 3:  88370.424358\n",
        "Updated theta with alpha: 0.0568423236602, theta norm: 1.0\n",
        "Return from iter 0:  85874.559524"
       ]
      },
      {
       "output_type": "stream",
       "stream": "stderr",
       "text": [
        "INFO:REINFORCE:********************Iteration: 116\n"
       ]
      },
      {
       "output_type": "stream",
       "stream": "stderr",
       "text": [
        "INFO:REINFORCE:Gradient step\n"
       ]
      },
      {
       "output_type": "stream",
       "stream": "stderr",
       "text": [
        "INFO:REINFORCE:Step norm: 1.0\n"
       ]
      },
      {
       "output_type": "stream",
       "stream": "stderr",
       "text": [
        "INFO:REINFORCE:Alpha: 0.0565576365045\n"
       ]
      },
      {
       "output_type": "stream",
       "stream": "stderr",
       "text": [
        "INFO:REINFORCE:Return from iter 0:  85874.559524\n"
       ]
      },
      {
       "output_type": "stream",
       "stream": "stderr",
       "text": [
        "INFO:REINFORCE:Return from iter 1:  87121.563792\n"
       ]
      },
      {
       "output_type": "stream",
       "stream": "stderr",
       "text": [
        "INFO:REINFORCE:Return from iter 2:  80250.005811\n"
       ]
      },
      {
       "output_type": "stream",
       "stream": "stderr",
       "text": [
        "INFO:REINFORCE:Return from iter 3:  85246.786936\n"
       ]
      },
      {
       "output_type": "stream",
       "stream": "stdout",
       "text": [
        "\n",
        "Return from iter 1:  87121.563792\n",
        "Return from iter 2:  80250.005811\n",
        "Return from iter 3:  85246.786936\n",
        "Updated theta with alpha: 0.0565576365045, theta norm: 1.0\n",
        "Return from iter 0:  88993.344916"
       ]
      },
      {
       "output_type": "stream",
       "stream": "stderr",
       "text": [
        "INFO:REINFORCE:********************Iteration: 117\n"
       ]
      },
      {
       "output_type": "stream",
       "stream": "stderr",
       "text": [
        "INFO:REINFORCE:Gradient step\n"
       ]
      },
      {
       "output_type": "stream",
       "stream": "stderr",
       "text": [
        "INFO:REINFORCE:Step norm: 1.0\n"
       ]
      },
      {
       "output_type": "stream",
       "stream": "stderr",
       "text": [
        "INFO:REINFORCE:Alpha: 0.0562767200622\n"
       ]
      },
      {
       "output_type": "stream",
       "stream": "stderr",
       "text": [
        "INFO:REINFORCE:Return from iter 0:  88993.344916\n"
       ]
      },
      {
       "output_type": "stream",
       "stream": "stderr",
       "text": [
        "INFO:REINFORCE:Return from iter 1:  85251.862109\n"
       ]
      },
      {
       "output_type": "stream",
       "stream": "stderr",
       "text": [
        "INFO:REINFORCE:Return from iter 2:  88369.954354\n"
       ]
      },
      {
       "output_type": "stream",
       "stream": "stderr",
       "text": [
        "INFO:REINFORCE:Return from iter 3:  90868.121773\n"
       ]
      },
      {
       "output_type": "stream",
       "stream": "stdout",
       "text": [
        "\n",
        "Return from iter 1:  85251.862109\n",
        "Return from iter 2:  88369.954354\n",
        "Return from iter 3:  90868.121773\n",
        "Updated theta with alpha: 0.0562767200622, theta norm: 1.0\n",
        "Return from iter 0:  80880.997276"
       ]
      },
      {
       "output_type": "stream",
       "stream": "stderr",
       "text": [
        "INFO:REINFORCE:********************Iteration: 118\n"
       ]
      },
      {
       "output_type": "stream",
       "stream": "stderr",
       "text": [
        "INFO:REINFORCE:Gradient step\n"
       ]
      },
      {
       "output_type": "stream",
       "stream": "stderr",
       "text": [
        "INFO:REINFORCE:Step norm: 1.0\n"
       ]
      },
      {
       "output_type": "stream",
       "stream": "stderr",
       "text": [
        "INFO:REINFORCE:Alpha: 0.0559994938411\n"
       ]
      },
      {
       "output_type": "stream",
       "stream": "stderr",
       "text": [
        "INFO:REINFORCE:Return from iter 0:  80880.997276\n"
       ]
      },
      {
       "output_type": "stream",
       "stream": "stderr",
       "text": [
        "INFO:REINFORCE:Return from iter 1:  87745.647501\n"
       ]
      },
      {
       "output_type": "stream",
       "stream": "stderr",
       "text": [
        "INFO:REINFORCE:Return from iter 2:  87746.340649\n"
       ]
      },
      {
       "output_type": "stream",
       "stream": "stderr",
       "text": [
        "INFO:REINFORCE:Return from iter 3:  88995.647501\n"
       ]
      },
      {
       "output_type": "stream",
       "stream": "stdout",
       "text": [
        "\n",
        "Return from iter 1:  87745.647501\n",
        "Return from iter 2:  87746.340649\n",
        "Return from iter 3:  88995.647501\n",
        "Updated theta with alpha: 0.0559994938411, theta norm: 1.0\n",
        "Return from iter 0:  90868.121773"
       ]
      },
      {
       "output_type": "stream",
       "stream": "stderr",
       "text": [
        "INFO:REINFORCE:********************Iteration: 119\n"
       ]
      },
      {
       "output_type": "stream",
       "stream": "stderr",
       "text": [
        "INFO:REINFORCE:Gradient step\n"
       ]
      },
      {
       "output_type": "stream",
       "stream": "stderr",
       "text": [
        "INFO:REINFORCE:Step norm: 1.0\n"
       ]
      },
      {
       "output_type": "stream",
       "stream": "stderr",
       "text": [
        "INFO:REINFORCE:Alpha: 0.0557258797089\n"
       ]
      },
      {
       "output_type": "stream",
       "stream": "stderr",
       "text": [
        "INFO:REINFORCE:Return from iter 0:  90868.121773\n"
       ]
      },
      {
       "output_type": "stream",
       "stream": "stderr",
       "text": [
        "INFO:REINFORCE:Return from iter 1:  84621.563792\n"
       ]
      },
      {
       "output_type": "stream",
       "stream": "stderr",
       "text": [
        "INFO:REINFORCE:Return from iter 2:  84626.862109\n"
       ]
      },
      {
       "output_type": "stream",
       "stream": "stderr",
       "text": [
        "INFO:REINFORCE:Return from iter 3:  85251.862109\n"
       ]
      },
      {
       "output_type": "stream",
       "stream": "stdout",
       "text": [
        "\n",
        "Return from iter 1:  84621.563792\n",
        "Return from iter 2:  84626.862109\n",
        "Return from iter 3:  85251.862109\n",
        "Updated theta with alpha: 0.0557258797089, theta norm: 1.0\n",
        "Return from iter 0:  81499.089521"
       ]
      },
      {
       "output_type": "stream",
       "stream": "stderr",
       "text": [
        "INFO:REINFORCE:********************Iteration: 120\n"
       ]
      },
      {
       "output_type": "stream",
       "stream": "stderr",
       "text": [
        "INFO:REINFORCE:Gradient step\n"
       ]
      },
      {
       "output_type": "stream",
       "stream": "stderr",
       "text": [
        "INFO:REINFORCE:Step norm: 1.0\n"
       ]
      },
      {
       "output_type": "stream",
       "stream": "stderr",
       "text": [
        "INFO:REINFORCE:Alpha: 0.0554558018054\n"
       ]
      },
      {
       "output_type": "stream",
       "stream": "stderr",
       "text": [
        "INFO:REINFORCE:Return from iter 0:  81499.089521\n"
       ]
      },
      {
       "output_type": "stream",
       "stream": "stderr",
       "text": [
        "INFO:REINFORCE:Return from iter 1:  90868.814920\n"
       ]
      },
      {
       "output_type": "stream",
       "stream": "stderr",
       "text": [
        "INFO:REINFORCE:Return from iter 2:  84626.862109\n"
       ]
      },
      {
       "output_type": "stream",
       "stream": "stderr",
       "text": [
        "INFO:REINFORCE:Return from iter 3:  77749.758951\n"
       ]
      },
      {
       "output_type": "stream",
       "stream": "stdout",
       "text": [
        "\n",
        "Return from iter 1:  90868.814920\n",
        "Return from iter 2:  84626.862109\n",
        "Return from iter 3:  77749.758951\n",
        "Updated theta with alpha: 0.0554558018054, theta norm: 1.0\n",
        "Return from iter 0:  88369.731211"
       ]
      },
      {
       "output_type": "stream",
       "stream": "stderr",
       "text": [
        "INFO:REINFORCE:********************Iteration: 121\n"
       ]
      },
      {
       "output_type": "stream",
       "stream": "stderr",
       "text": [
        "INFO:REINFORCE:Gradient step\n"
       ]
      },
      {
       "output_type": "stream",
       "stream": "stderr",
       "text": [
        "INFO:REINFORCE:Step norm: 1.0\n"
       ]
      },
      {
       "output_type": "stream",
       "stream": "stderr",
       "text": [
        "INFO:REINFORCE:Alpha: 0.0551891864584\n"
       ]
      },
      {
       "output_type": "stream",
       "stream": "stderr",
       "text": [
        "INFO:REINFORCE:Return from iter 0:  88369.731211\n"
       ]
      },
      {
       "output_type": "stream",
       "stream": "stderr",
       "text": [
        "INFO:REINFORCE:Return from iter 1:  88372.033796\n"
       ]
      },
      {
       "output_type": "stream",
       "stream": "stderr",
       "text": [
        "INFO:REINFORCE:Return from iter 2:  88371.340649\n"
       ]
      },
      {
       "output_type": "stream",
       "stream": "stderr",
       "text": [
        "INFO:REINFORCE:Return from iter 3:  90868.121773\n"
       ]
      },
      {
       "output_type": "stream",
       "stream": "stdout",
       "text": [
        "\n",
        "Return from iter 1:  88372.033796\n",
        "Return from iter 2:  88371.340649\n",
        "Return from iter 3:  90868.121773\n",
        "Updated theta with alpha: 0.0551891864584, theta norm: 1.0\n",
        "Return from iter 0:  88994.731211"
       ]
      },
      {
       "output_type": "stream",
       "stream": "stderr",
       "text": [
        "INFO:REINFORCE:********************Iteration: 122\n"
       ]
      },
      {
       "output_type": "stream",
       "stream": "stderr",
       "text": [
        "INFO:REINFORCE:Gradient step\n"
       ]
      },
      {
       "output_type": "stream",
       "stream": "stderr",
       "text": [
        "INFO:REINFORCE:Step norm: 1.0\n"
       ]
      },
      {
       "output_type": "stream",
       "stream": "stderr",
       "text": [
        "INFO:REINFORCE:Alpha: 0.0549259621044\n"
       ]
      },
      {
       "output_type": "stream",
       "stream": "stderr",
       "text": [
        "INFO:REINFORCE:Return from iter 0:  88994.731211\n"
       ]
      },
      {
       "output_type": "stream",
       "stream": "stderr",
       "text": [
        "INFO:REINFORCE:Return from iter 1:  87119.261207\n"
       ]
      },
      {
       "output_type": "stream",
       "stream": "stderr",
       "text": [
        "INFO:REINFORCE:Return from iter 2:  88370.647501\n"
       ]
      },
      {
       "output_type": "stream",
       "stream": "stderr",
       "text": [
        "INFO:REINFORCE:Return from iter 3:  53373.470278\n"
       ]
      },
      {
       "output_type": "stream",
       "stream": "stdout",
       "text": [
        "\n",
        "Return from iter 1:  87119.261207\n",
        "Return from iter 2:  88370.647501\n",
        "Return from iter 3:  53373.470278\n",
        "Updated theta with alpha: 0.0549259621044, theta norm: 1.0\n",
        "Return from iter 0:  87746.340649"
       ]
      },
      {
       "output_type": "stream",
       "stream": "stderr",
       "text": [
        "INFO:REINFORCE:********************Iteration: 123\n"
       ]
      },
      {
       "output_type": "stream",
       "stream": "stderr",
       "text": [
        "INFO:REINFORCE:Gradient step\n"
       ]
      },
      {
       "output_type": "stream",
       "stream": "stderr",
       "text": [
        "INFO:REINFORCE:Step norm: 1.0\n"
       ]
      },
      {
       "output_type": "stream",
       "stream": "stderr",
       "text": [
        "INFO:REINFORCE:Alpha: 0.0546660592114\n"
       ]
      },
      {
       "output_type": "stream",
       "stream": "stderr",
       "text": [
        "INFO:REINFORCE:Return from iter 0:  87746.340649\n"
       ]
      },
      {
       "output_type": "stream",
       "stream": "stderr",
       "text": [
        "INFO:REINFORCE:Return from iter 1:  87123.643234\n"
       ]
      },
      {
       "output_type": "stream",
       "stream": "stderr",
       "text": [
        "INFO:REINFORCE:Return from iter 2:  88993.344916\n"
       ]
      },
      {
       "output_type": "stream",
       "stream": "stderr",
       "text": [
        "INFO:REINFORCE:Return from iter 3:  77749.065804\n"
       ]
      },
      {
       "output_type": "stream",
       "stream": "stdout",
       "text": [
        "\n",
        "Return from iter 1:  87123.643234\n",
        "Return from iter 2:  88993.344916\n",
        "Return from iter 3:  77749.065804\n",
        "Updated theta with alpha: 0.0546660592114, theta norm: 1.0\n",
        "Return from iter 0:  89619.731211"
       ]
      },
      {
       "output_type": "stream",
       "stream": "stderr",
       "text": [
        "INFO:REINFORCE:********************Iteration: 124\n"
       ]
      },
      {
       "output_type": "stream",
       "stream": "stderr",
       "text": [
        "INFO:REINFORCE:Gradient step\n"
       ]
      },
      {
       "output_type": "stream",
       "stream": "stderr",
       "text": [
        "INFO:REINFORCE:Step norm: 1.0\n"
       ]
      },
      {
       "output_type": "stream",
       "stream": "stderr",
       "text": [
        "INFO:REINFORCE:Alpha: 0.054409410206\n"
       ]
      },
      {
       "output_type": "stream",
       "stream": "stderr",
       "text": [
        "INFO:REINFORCE:Return from iter 0:  89619.731211\n"
       ]
      },
      {
       "output_type": "stream",
       "stream": "stderr",
       "text": [
        "INFO:REINFORCE:Return from iter 1:  89619.731211\n"
       ]
      },
      {
       "output_type": "stream",
       "stream": "stderr",
       "text": [
        "INFO:REINFORCE:Return from iter 2:  88370.647501\n"
       ]
      },
      {
       "output_type": "stream",
       "stream": "stderr",
       "text": [
        "INFO:REINFORCE:Return from iter 3:  90868.121773\n"
       ]
      },
      {
       "output_type": "stream",
       "stream": "stdout",
       "text": [
        "\n",
        "Return from iter 1:  89619.731211\n",
        "Return from iter 2:  88370.647501\n",
        "Return from iter 3:  90868.121773\n",
        "Updated theta with alpha: 0.054409410206, theta norm: 1.0\n",
        "Return from iter 0:  85870.177498"
       ]
      },
      {
       "output_type": "stream",
       "stream": "stderr",
       "text": [
        "INFO:REINFORCE:********************Iteration: 125\n"
       ]
      },
      {
       "output_type": "stream",
       "stream": "stderr",
       "text": [
        "INFO:REINFORCE:Gradient step\n"
       ]
      },
      {
       "output_type": "stream",
       "stream": "stderr",
       "text": [
        "INFO:REINFORCE:Step norm: 1.0\n"
       ]
      },
      {
       "output_type": "stream",
       "stream": "stderr",
       "text": [
        "INFO:REINFORCE:Alpha: 0.0541559494038\n"
       ]
      },
      {
       "output_type": "stream",
       "stream": "stderr",
       "text": [
        "INFO:REINFORCE:Return from iter 0:  85870.177498\n"
       ]
      },
      {
       "output_type": "stream",
       "stream": "stderr",
       "text": [
        "INFO:REINFORCE:Return from iter 1:  86494.261207\n"
       ]
      },
      {
       "output_type": "stream",
       "stream": "stderr",
       "text": [
        "INFO:REINFORCE:Return from iter 2:  88370.647501\n"
       ]
      },
      {
       "output_type": "stream",
       "stream": "stderr",
       "text": [
        "INFO:REINFORCE:Return from iter 3:  89619.038063\n"
       ]
      },
      {
       "output_type": "stream",
       "stream": "stdout",
       "text": [
        "\n",
        "Return from iter 1:  86494.261207\n",
        "Return from iter 2:  88370.647501\n",
        "Return from iter 3:  89619.038063\n",
        "Updated theta with alpha: 0.0541559494038, theta norm: 1.0\n",
        "Return from iter 0:  82123.396374"
       ]
      },
      {
       "output_type": "stream",
       "stream": "stderr",
       "text": [
        "INFO:REINFORCE:********************Iteration: 126\n"
       ]
      },
      {
       "output_type": "stream",
       "stream": "stderr",
       "text": [
        "INFO:REINFORCE:Gradient step\n"
       ]
      },
      {
       "output_type": "stream",
       "stream": "stderr",
       "text": [
        "INFO:REINFORCE:Step norm: 1.0\n"
       ]
      },
      {
       "output_type": "stream",
       "stream": "stderr",
       "text": [
        "INFO:REINFORCE:Alpha: 0.053905612942\n"
       ]
      },
      {
       "output_type": "stream",
       "stream": "stderr",
       "text": [
        "INFO:REINFORCE:Return from iter 0:  82123.396374\n"
       ]
      },
      {
       "output_type": "stream",
       "stream": "stderr",
       "text": [
        "INFO:REINFORCE:Return from iter 1:  90243.814920\n"
       ]
      },
      {
       "output_type": "stream",
       "stream": "stderr",
       "text": [
        "INFO:REINFORCE:Return from iter 2:  88369.261207\n"
       ]
      },
      {
       "output_type": "stream",
       "stream": "stderr",
       "text": [
        "INFO:REINFORCE:Return from iter 3:  88368.344916\n"
       ]
      },
      {
       "output_type": "stream",
       "stream": "stdout",
       "text": [
        "\n",
        "Return from iter 1:  90243.814920\n",
        "Return from iter 2:  88369.261207\n",
        "Return from iter 3:  88368.344916\n",
        "Updated theta with alpha: 0.053905612942, theta norm: 1.0\n",
        "Return from iter 0:  80872.703226"
       ]
      },
      {
       "output_type": "stream",
       "stream": "stderr",
       "text": [
        "INFO:REINFORCE:********************Iteration: 127\n"
       ]
      },
      {
       "output_type": "stream",
       "stream": "stderr",
       "text": [
        "INFO:REINFORCE:Gradient step\n"
       ]
      },
      {
       "output_type": "stream",
       "stream": "stderr",
       "text": [
        "INFO:REINFORCE:Step norm: 1.0\n"
       ]
      },
      {
       "output_type": "stream",
       "stream": "stderr",
       "text": [
        "INFO:REINFORCE:Alpha: 0.0536583387155\n"
       ]
      },
      {
       "output_type": "stream",
       "stream": "stderr",
       "text": [
        "INFO:REINFORCE:Return from iter 0:  80872.703226\n"
       ]
      },
      {
       "output_type": "stream",
       "stream": "stderr",
       "text": [
        "INFO:REINFORCE:Return from iter 1:  88372.033796\n"
       ]
      },
      {
       "output_type": "stream",
       "stream": "stderr",
       "text": [
        "INFO:REINFORCE:Return from iter 2:  90868.814920\n"
       ]
      },
      {
       "output_type": "stream",
       "stream": "stderr",
       "text": [
        "INFO:REINFORCE:Return from iter 3:  83371.563792\n"
       ]
      },
      {
       "output_type": "stream",
       "stream": "stdout",
       "text": [
        "\n",
        "Return from iter 1:  88372.033796\n",
        "Return from iter 2:  90868.814920\n",
        "Return from iter 3:  83371.563792\n",
        "Updated theta with alpha: 0.0536583387155, theta norm: 1.0\n",
        "Return from iter 0:  85251.862109"
       ]
      },
      {
       "output_type": "stream",
       "stream": "stderr",
       "text": [
        "INFO:REINFORCE:********************Iteration: 128\n"
       ]
      },
      {
       "output_type": "stream",
       "stream": "stderr",
       "text": [
        "INFO:REINFORCE:Gradient step\n"
       ]
      },
      {
       "output_type": "stream",
       "stream": "stderr",
       "text": [
        "INFO:REINFORCE:Step norm: 1.0\n"
       ]
      },
      {
       "output_type": "stream",
       "stream": "stderr",
       "text": [
        "INFO:REINFORCE:Alpha: 0.0534140663157\n"
       ]
      },
      {
       "output_type": "stream",
       "stream": "stderr",
       "text": [
        "INFO:REINFORCE:Return from iter 0:  85251.862109\n"
       ]
      },
      {
       "output_type": "stream",
       "stream": "stderr",
       "text": [
        "INFO:REINFORCE:Return from iter 1:  85251.862109\n"
       ]
      },
      {
       "output_type": "stream",
       "stream": "stderr",
       "text": [
        "INFO:REINFORCE:Return from iter 2:  84625.475815\n"
       ]
      },
      {
       "output_type": "stream",
       "stream": "stderr",
       "text": [
        "INFO:REINFORCE:Return from iter 3:  88995.647501\n"
       ]
      },
      {
       "output_type": "stream",
       "stream": "stdout",
       "text": [
        "\n",
        "Return from iter 1:  85251.862109\n",
        "Return from iter 2:  84625.475815\n",
        "Return from iter 3:  88995.647501\n",
        "Updated theta with alpha: 0.0534140663157, theta norm: 1.0\n",
        "Return from iter 0:  80874.782668"
       ]
      },
      {
       "output_type": "stream",
       "stream": "stderr",
       "text": [
        "INFO:REINFORCE:********************Iteration: 129\n"
       ]
      },
      {
       "output_type": "stream",
       "stream": "stderr",
       "text": [
        "INFO:REINFORCE:Gradient step\n"
       ]
      },
      {
       "output_type": "stream",
       "stream": "stderr",
       "text": [
        "INFO:REINFORCE:Step norm: 1.0\n"
       ]
      },
      {
       "output_type": "stream",
       "stream": "stderr",
       "text": [
        "INFO:REINFORCE:Alpha: 0.0531727369714\n"
       ]
      },
      {
       "output_type": "stream",
       "stream": "stderr",
       "text": [
        "INFO:REINFORCE:Return from iter 0:  80874.782668\n"
       ]
      },
      {
       "output_type": "stream",
       "stream": "stderr",
       "text": [
        "INFO:REINFORCE:Return from iter 1:  78374.535808\n"
       ]
      },
      {
       "output_type": "stream",
       "stream": "stderr",
       "text": [
        "INFO:REINFORCE:Return from iter 2:  89620.424358\n"
       ]
      },
      {
       "output_type": "stream",
       "stream": "stderr",
       "text": [
        "INFO:REINFORCE:Return from iter 3:  89616.735478\n"
       ]
      },
      {
       "output_type": "stream",
       "stream": "stdout",
       "text": [
        "\n",
        "Return from iter 1:  78374.535808\n",
        "Return from iter 2:  89620.424358\n",
        "Return from iter 3:  89616.735478\n",
        "Updated theta with alpha: 0.0531727369714, theta norm: 1.0\n",
        "Return from iter 0:  87123.643234"
       ]
      },
      {
       "output_type": "stream",
       "stream": "stderr",
       "text": [
        "INFO:REINFORCE:********************Iteration: 130\n"
       ]
      },
      {
       "output_type": "stream",
       "stream": "stderr",
       "text": [
        "INFO:REINFORCE:Gradient step\n"
       ]
      },
      {
       "output_type": "stream",
       "stream": "stderr",
       "text": [
        "INFO:REINFORCE:Step norm: 1.0\n"
       ]
      },
      {
       "output_type": "stream",
       "stream": "stderr",
       "text": [
        "INFO:REINFORCE:Alpha: 0.0529342934927\n"
       ]
      },
      {
       "output_type": "stream",
       "stream": "stderr",
       "text": [
        "INFO:REINFORCE:Return from iter 0:  87123.643234\n"
       ]
      },
      {
       "output_type": "stream",
       "stream": "stderr",
       "text": [
        "INFO:REINFORCE:Return from iter 1:  87744.954354\n"
       ]
      },
      {
       "output_type": "stream",
       "stream": "stderr",
       "text": [
        "INFO:REINFORCE:Return from iter 2:  87747.033796\n"
       ]
      },
      {
       "output_type": "stream",
       "stream": "stderr",
       "text": [
        "INFO:REINFORCE:Return from iter 3:  88370.424358\n"
       ]
      },
      {
       "output_type": "stream",
       "stream": "stdout",
       "text": [
        "\n",
        "Return from iter 1:  87744.954354\n",
        "Return from iter 2:  87747.033796\n",
        "Return from iter 3:  88370.424358\n",
        "Updated theta with alpha: 0.0529342934927, theta norm: 1.0\n",
        "Return from iter 0:  88372.033796"
       ]
      },
      {
       "output_type": "stream",
       "stream": "stderr",
       "text": [
        "INFO:REINFORCE:********************Iteration: 131\n"
       ]
      },
      {
       "output_type": "stream",
       "stream": "stderr",
       "text": [
        "INFO:REINFORCE:Gradient step\n"
       ]
      },
      {
       "output_type": "stream",
       "stream": "stderr",
       "text": [
        "INFO:REINFORCE:Step norm: 1.0\n"
       ]
      },
      {
       "output_type": "stream",
       "stream": "stderr",
       "text": [
        "INFO:REINFORCE:Alpha: 0.0526986802173\n"
       ]
      },
      {
       "output_type": "stream",
       "stream": "stderr",
       "text": [
        "INFO:REINFORCE:Return from iter 0:  88372.033796\n"
       ]
      },
      {
       "output_type": "stream",
       "stream": "stderr",
       "text": [
        "INFO:REINFORCE:Return from iter 1:  85251.862109\n"
       ]
      },
      {
       "output_type": "stream",
       "stream": "stderr",
       "text": [
        "INFO:REINFORCE:Return from iter 2:  79627.308397\n"
       ]
      },
      {
       "output_type": "stream",
       "stream": "stderr",
       "text": [
        "INFO:REINFORCE:Return from iter 3:  87123.643234\n"
       ]
      },
      {
       "output_type": "stream",
       "stream": "stdout",
       "text": [
        "\n",
        "Return from iter 1:  85251.862109\n",
        "Return from iter 2:  79627.308397\n",
        "Return from iter 3:  87123.643234\n",
        "Updated theta with alpha: 0.0526986802173, theta norm: 1.0\n",
        "Return from iter 0:  90243.121773"
       ]
      },
      {
       "output_type": "stream",
       "stream": "stderr",
       "text": [
        "INFO:REINFORCE:********************Iteration: 132\n"
       ]
      },
      {
       "output_type": "stream",
       "stream": "stderr",
       "text": [
        "INFO:REINFORCE:Gradient step\n"
       ]
      },
      {
       "output_type": "stream",
       "stream": "stderr",
       "text": [
        "INFO:REINFORCE:Step norm: 1.0\n"
       ]
      },
      {
       "output_type": "stream",
       "stream": "stderr",
       "text": [
        "INFO:REINFORCE:Alpha: 0.0524658429583\n"
       ]
      },
      {
       "output_type": "stream",
       "stream": "stderr",
       "text": [
        "INFO:REINFORCE:Return from iter 0:  90243.121773\n"
       ]
      },
      {
       "output_type": "stream",
       "stream": "stderr",
       "text": [
        "INFO:REINFORCE:Return from iter 1:  77754.140978\n"
       ]
      },
      {
       "output_type": "stream",
       "stream": "stderr",
       "text": [
        "INFO:REINFORCE:Return from iter 2:  87123.643234\n"
       ]
      },
      {
       "output_type": "stream",
       "stream": "stderr",
       "text": [
        "INFO:REINFORCE:Return from iter 3:  85873.866377\n"
       ]
      },
      {
       "output_type": "stream",
       "stream": "stdout",
       "text": [
        "\n",
        "Return from iter 1:  77754.140978\n",
        "Return from iter 2:  87123.643234\n",
        "Return from iter 3:  85873.866377\n",
        "Updated theta with alpha: 0.0524658429583, theta norm: 1.0\n",
        "Return from iter 0:  85251.862109"
       ]
      },
      {
       "output_type": "stream",
       "stream": "stderr",
       "text": [
        "INFO:REINFORCE:********************Iteration: 133\n"
       ]
      },
      {
       "output_type": "stream",
       "stream": "stderr",
       "text": [
        "INFO:REINFORCE:Gradient step\n"
       ]
      },
      {
       "output_type": "stream",
       "stream": "stderr",
       "text": [
        "INFO:REINFORCE:Step norm: 1.0\n"
       ]
      },
      {
       "output_type": "stream",
       "stream": "stderr",
       "text": [
        "INFO:REINFORCE:Alpha: 0.0522357289547\n"
       ]
      },
      {
       "output_type": "stream",
       "stream": "stderr",
       "text": [
        "INFO:REINFORCE:Return from iter 0:  85251.862109\n"
       ]
      },
      {
       "output_type": "stream",
       "stream": "stderr",
       "text": [
        "INFO:REINFORCE:Return from iter 1:  83368.098056\n"
       ]
      },
      {
       "output_type": "stream",
       "stream": "stderr",
       "text": [
        "INFO:REINFORCE:Return from iter 2:  85875.252672\n"
       ]
      },
      {
       "output_type": "stream",
       "stream": "stderr",
       "text": [
        "INFO:REINFORCE:Return from iter 3:  89619.731211\n"
       ]
      },
      {
       "output_type": "stream",
       "stream": "stdout",
       "text": [
        "\n",
        "Return from iter 1:  83368.098056\n",
        "Return from iter 2:  85875.252672\n",
        "Return from iter 3:  89619.731211\n",
        "Updated theta with alpha: 0.0522357289547, theta norm: 1.0\n",
        "Return from iter 0:  89618.814920"
       ]
      },
      {
       "output_type": "stream",
       "stream": "stderr",
       "text": [
        "INFO:REINFORCE:********************Iteration: 134\n"
       ]
      },
      {
       "output_type": "stream",
       "stream": "stderr",
       "text": [
        "INFO:REINFORCE:Gradient step\n"
       ]
      },
      {
       "output_type": "stream",
       "stream": "stderr",
       "text": [
        "INFO:REINFORCE:Step norm: 1.0\n"
       ]
      },
      {
       "output_type": "stream",
       "stream": "stderr",
       "text": [
        "INFO:REINFORCE:Alpha: 0.0520082868242\n"
       ]
      },
      {
       "output_type": "stream",
       "stream": "stderr",
       "text": [
        "INFO:REINFORCE:Return from iter 0:  89618.814920\n"
       ]
      },
      {
       "output_type": "stream",
       "stream": "stderr",
       "text": [
        "INFO:REINFORCE:Return from iter 1:  87123.643234\n"
       ]
      },
      {
       "output_type": "stream",
       "stream": "stderr",
       "text": [
        "INFO:REINFORCE:Return from iter 2:  87123.643234\n"
       ]
      },
      {
       "output_type": "stream",
       "stream": "stderr",
       "text": [
        "INFO:REINFORCE:Return from iter 3:  90868.121773\n"
       ]
      },
      {
       "output_type": "stream",
       "stream": "stdout",
       "text": [
        "\n",
        "Return from iter 1:  87123.643234\n",
        "Return from iter 2:  87123.643234\n",
        "Return from iter 3:  90868.121773\n",
        "Updated theta with alpha: 0.0520082868242, theta norm: 1.0\n",
        "Return from iter 0:  85248.643234"
       ]
      },
      {
       "output_type": "stream",
       "stream": "stderr",
       "text": [
        "INFO:REINFORCE:********************Iteration: 135\n"
       ]
      },
      {
       "output_type": "stream",
       "stream": "stderr",
       "text": [
        "INFO:REINFORCE:Gradient step\n"
       ]
      },
      {
       "output_type": "stream",
       "stream": "stderr",
       "text": [
        "INFO:REINFORCE:Step norm: 1.0\n"
       ]
      },
      {
       "output_type": "stream",
       "stream": "stderr",
       "text": [
        "INFO:REINFORCE:Alpha: 0.0517834665168\n"
       ]
      },
      {
       "output_type": "stream",
       "stream": "stderr",
       "text": [
        "INFO:REINFORCE:Return from iter 0:  85248.643234\n"
       ]
      },
      {
       "output_type": "stream",
       "stream": "stderr",
       "text": [
        "INFO:REINFORCE:Return from iter 1:  80249.312664\n"
       ]
      },
      {
       "output_type": "stream",
       "stream": "stderr",
       "text": [
        "INFO:REINFORCE:Return from iter 2:  74000.898386\n"
       ]
      },
      {
       "output_type": "stream",
       "stream": "stderr",
       "text": [
        "INFO:REINFORCE:Return from iter 3:  90868.121773\n"
       ]
      },
      {
       "output_type": "stream",
       "stream": "stdout",
       "text": [
        "\n",
        "Return from iter 1:  80249.312664\n",
        "Return from iter 2:  74000.898386\n",
        "Return from iter 3:  90868.121773\n",
        "Updated theta with alpha: 0.0517834665168, theta norm: 1.0\n",
        "Return from iter 0:  87745.870645"
       ]
      },
      {
       "output_type": "stream",
       "stream": "stderr",
       "text": [
        "INFO:REINFORCE:********************Iteration: 136\n"
       ]
      },
      {
       "output_type": "stream",
       "stream": "stderr",
       "text": [
        "INFO:REINFORCE:Gradient step\n"
       ]
      },
      {
       "output_type": "stream",
       "stream": "stderr",
       "text": [
        "INFO:REINFORCE:Step norm: 1.0\n"
       ]
      },
      {
       "output_type": "stream",
       "stream": "stderr",
       "text": [
        "INFO:REINFORCE:Alpha: 0.0515612192716\n"
       ]
      },
      {
       "output_type": "stream",
       "stream": "stderr",
       "text": [
        "INFO:REINFORCE:Return from iter 0:  87745.870645\n"
       ]
      },
      {
       "output_type": "stream",
       "stream": "stderr",
       "text": [
        "INFO:REINFORCE:Return from iter 1:  85251.862109\n"
       ]
      },
      {
       "output_type": "stream",
       "stream": "stderr",
       "text": [
        "INFO:REINFORCE:Return from iter 2:  85875.252672\n"
       ]
      },
      {
       "output_type": "stream",
       "stream": "stderr",
       "text": [
        "INFO:REINFORCE:Return from iter 3:  82751.862109\n"
       ]
      },
      {
       "output_type": "stream",
       "stream": "stdout",
       "text": [
        "\n",
        "Return from iter 1:  85251.862109\n",
        "Return from iter 2:  85875.252672\n",
        "Return from iter 3:  82751.862109\n",
        "Updated theta with alpha: 0.0515612192716, theta norm: 1.0\n",
        "Return from iter 0:  87744.731211"
       ]
      },
      {
       "output_type": "stream",
       "stream": "stderr",
       "text": [
        "INFO:REINFORCE:********************Iteration: 137\n"
       ]
      },
      {
       "output_type": "stream",
       "stream": "stderr",
       "text": [
        "INFO:REINFORCE:Gradient step\n"
       ]
      },
      {
       "output_type": "stream",
       "stream": "stderr",
       "text": [
        "INFO:REINFORCE:Step norm: 1.0\n"
       ]
      },
      {
       "output_type": "stream",
       "stream": "stderr",
       "text": [
        "INFO:REINFORCE:Alpha: 0.0513414975743\n"
       ]
      },
      {
       "output_type": "stream",
       "stream": "stderr",
       "text": [
        "INFO:REINFORCE:Return from iter 0:  87744.731211\n"
       ]
      },
      {
       "output_type": "stream",
       "stream": "stderr",
       "text": [
        "INFO:REINFORCE:Return from iter 1:  89619.731211\n"
       ]
      },
      {
       "output_type": "stream",
       "stream": "stderr",
       "text": [
        "INFO:REINFORCE:Return from iter 2:  88372.033796\n"
       ]
      },
      {
       "output_type": "stream",
       "stream": "stderr",
       "text": [
        "INFO:REINFORCE:Return from iter 3:  84001.168962\n"
       ]
      },
      {
       "output_type": "stream",
       "stream": "stdout",
       "text": [
        "\n",
        "Return from iter 1:  89619.731211\n",
        "Return from iter 2:  88372.033796\n",
        "Return from iter 3:  84001.168962\n",
        "Updated theta with alpha: 0.0513414975743, theta norm: 1.0\n",
        "Return from iter 0:  88371.340649"
       ]
      },
      {
       "output_type": "stream",
       "stream": "stderr",
       "text": [
        "INFO:REINFORCE:********************Iteration: 138\n"
       ]
      },
      {
       "output_type": "stream",
       "stream": "stderr",
       "text": [
        "INFO:REINFORCE:Gradient step\n"
       ]
      },
      {
       "output_type": "stream",
       "stream": "stderr",
       "text": [
        "INFO:REINFORCE:Step norm: 1.0\n"
       ]
      },
      {
       "output_type": "stream",
       "stream": "stderr",
       "text": [
        "INFO:REINFORCE:Alpha: 0.0511242551172\n"
       ]
      },
      {
       "output_type": "stream",
       "stream": "stderr",
       "text": [
        "INFO:REINFORCE:Return from iter 0:  88371.340649\n"
       ]
      },
      {
       "output_type": "stream",
       "stream": "stderr",
       "text": [
        "INFO:REINFORCE:Return from iter 1:  86495.870645\n"
       ]
      },
      {
       "output_type": "stream",
       "stream": "stderr",
       "text": [
        "INFO:REINFORCE:Return from iter 2:  83999.089521\n"
       ]
      },
      {
       "output_type": "stream",
       "stream": "stderr",
       "text": [
        "INFO:REINFORCE:Return from iter 3:  87747.033796\n"
       ]
      },
      {
       "output_type": "stream",
       "stream": "stdout",
       "text": [
        "\n",
        "Return from iter 1:  86495.870645\n",
        "Return from iter 2:  83999.089521\n",
        "Return from iter 3:  87747.033796\n",
        "Updated theta with alpha: 0.0511242551172, theta norm: 1.0\n",
        "Return from iter 0:  88369.731211"
       ]
      },
      {
       "output_type": "stream",
       "stream": "stderr",
       "text": [
        "INFO:REINFORCE:********************Iteration: 139\n"
       ]
      },
      {
       "output_type": "stream",
       "stream": "stderr",
       "text": [
        "INFO:REINFORCE:Gradient step\n"
       ]
      },
      {
       "output_type": "stream",
       "stream": "stderr",
       "text": [
        "INFO:REINFORCE:Step norm: 1.0\n"
       ]
      },
      {
       "output_type": "stream",
       "stream": "stderr",
       "text": [
        "INFO:REINFORCE:Alpha: 0.0509094467596\n"
       ]
      },
      {
       "output_type": "stream",
       "stream": "stderr",
       "text": [
        "INFO:REINFORCE:Return from iter 0:  88369.731211\n"
       ]
      },
      {
       "output_type": "stream",
       "stream": "stderr",
       "text": [
        "INFO:REINFORCE:Return from iter 1:  90243.344916\n"
       ]
      },
      {
       "output_type": "stream",
       "stream": "stderr",
       "text": [
        "INFO:REINFORCE:Return from iter 2:  90868.121773\n"
       ]
      },
      {
       "output_type": "stream",
       "stream": "stderr",
       "text": [
        "INFO:REINFORCE:Return from iter 3:  86498.643234\n"
       ]
      },
      {
       "output_type": "stream",
       "stream": "stdout",
       "text": [
        "\n",
        "Return from iter 1:  90243.344916\n",
        "Return from iter 2:  90868.121773\n",
        "Return from iter 3:  86498.643234\n",
        "Updated theta with alpha: 0.0509094467596, theta norm: 1.0\n",
        "Return from iter 0:  88371.340649"
       ]
      },
      {
       "output_type": "stream",
       "stream": "stderr",
       "text": [
        "INFO:REINFORCE:********************Iteration: 140\n"
       ]
      },
      {
       "output_type": "stream",
       "stream": "stderr",
       "text": [
        "INFO:REINFORCE:Gradient step\n"
       ]
      },
      {
       "output_type": "stream",
       "stream": "stderr",
       "text": [
        "INFO:REINFORCE:Step norm: 1.0\n"
       ]
      },
      {
       "output_type": "stream",
       "stream": "stderr",
       "text": [
        "INFO:REINFORCE:Alpha: 0.0506970284911\n"
       ]
      },
      {
       "output_type": "stream",
       "stream": "stderr",
       "text": [
        "INFO:REINFORCE:Return from iter 0:  88371.340649\n"
       ]
      },
      {
       "output_type": "stream",
       "stream": "stderr",
       "text": [
        "INFO:REINFORCE:Return from iter 1:  86498.643234\n"
       ]
      },
      {
       "output_type": "stream",
       "stream": "stderr",
       "text": [
        "INFO:REINFORCE:Return from iter 2:  81500.005811\n"
       ]
      },
      {
       "output_type": "stream",
       "stream": "stderr",
       "text": [
        "INFO:REINFORCE:Return from iter 3:  87117.651769\n"
       ]
      },
      {
       "output_type": "stream",
       "stream": "stdout",
       "text": [
        "\n",
        "Return from iter 1:  86498.643234\n",
        "Return from iter 2:  81500.005811\n",
        "Return from iter 3:  87117.651769\n",
        "Updated theta with alpha: 0.0506970284911, theta norm: 1.0\n",
        "Return from iter 0:  87746.340649"
       ]
      },
      {
       "output_type": "stream",
       "stream": "stderr",
       "text": [
        "INFO:REINFORCE:********************Iteration: 141\n"
       ]
      },
      {
       "output_type": "stream",
       "stream": "stderr",
       "text": [
        "INFO:REINFORCE:Gradient step\n"
       ]
      },
      {
       "output_type": "stream",
       "stream": "stderr",
       "text": [
        "INFO:REINFORCE:Step norm: 1.0\n"
       ]
      },
      {
       "output_type": "stream",
       "stream": "stderr",
       "text": [
        "INFO:REINFORCE:Alpha: 0.0504869573956\n"
       ]
      },
      {
       "output_type": "stream",
       "stream": "stderr",
       "text": [
        "INFO:REINFORCE:Return from iter 0:  87746.340649\n"
       ]
      },
      {
       "output_type": "stream",
       "stream": "stderr",
       "text": [
        "INFO:REINFORCE:Return from iter 1:  88370.647501\n"
       ]
      },
      {
       "output_type": "stream",
       "stream": "stderr",
       "text": [
        "INFO:REINFORCE:Return from iter 2:  85251.862109\n"
       ]
      },
      {
       "output_type": "stream",
       "stream": "stderr",
       "text": [
        "INFO:REINFORCE:Return from iter 3:  82123.173230\n"
       ]
      },
      {
       "output_type": "stream",
       "stream": "stdout",
       "text": [
        "\n",
        "Return from iter 1:  88370.647501\n",
        "Return from iter 2:  85251.862109\n",
        "Return from iter 3:  82123.173230\n",
        "Updated theta with alpha: 0.0504869573956, theta norm: 1.0\n",
        "Return from iter 0:  85875.252672"
       ]
      },
      {
       "output_type": "stream",
       "stream": "stderr",
       "text": [
        "INFO:REINFORCE:********************Iteration: 142\n"
       ]
      },
      {
       "output_type": "stream",
       "stream": "stderr",
       "text": [
        "INFO:REINFORCE:Gradient step\n"
       ]
      },
      {
       "output_type": "stream",
       "stream": "stderr",
       "text": [
        "INFO:REINFORCE:Step norm: 1.0\n"
       ]
      },
      {
       "output_type": "stream",
       "stream": "stderr",
       "text": [
        "INFO:REINFORCE:Alpha: 0.0502791916165\n"
       ]
      },
      {
       "output_type": "stream",
       "stream": "stderr",
       "text": [
        "INFO:REINFORCE:Return from iter 0:  85875.252672\n"
       ]
      },
      {
       "output_type": "stream",
       "stream": "stderr",
       "text": [
        "INFO:REINFORCE:Return from iter 1:  88367.651769\n"
       ]
      },
      {
       "output_type": "stream",
       "stream": "stderr",
       "text": [
        "INFO:REINFORCE:Return from iter 2:  88371.340649\n"
       ]
      },
      {
       "output_type": "stream",
       "stream": "stderr",
       "text": [
        "INFO:REINFORCE:Return from iter 3:  88996.340649\n"
       ]
      },
      {
       "output_type": "stream",
       "stream": "stdout",
       "text": [
        "\n",
        "Return from iter 1:  88367.651769\n",
        "Return from iter 2:  88371.340649\n",
        "Return from iter 3:  88996.340649\n",
        "Updated theta with alpha: 0.0502791916165, theta norm: 1.0\n",
        "Return from iter 0:  85875.252672"
       ]
      },
      {
       "output_type": "stream",
       "stream": "stderr",
       "text": [
        "INFO:REINFORCE:********************Iteration: 143\n"
       ]
      },
      {
       "output_type": "stream",
       "stream": "stderr",
       "text": [
        "INFO:REINFORCE:Gradient step\n"
       ]
      },
      {
       "output_type": "stream",
       "stream": "stderr",
       "text": [
        "INFO:REINFORCE:Step norm: 1.0\n"
       ]
      },
      {
       "output_type": "stream",
       "stream": "stderr",
       "text": [
        "INFO:REINFORCE:Alpha: 0.0500736903237\n"
       ]
      },
      {
       "output_type": "stream",
       "stream": "stderr",
       "text": [
        "INFO:REINFORCE:Return from iter 0:  85875.252672\n"
       ]
      },
      {
       "output_type": "stream",
       "stream": "stderr",
       "text": [
        "INFO:REINFORCE:Return from iter 1:  88994.261207\n"
       ]
      },
      {
       "output_type": "stream",
       "stream": "stderr",
       "text": [
        "INFO:REINFORCE:Return from iter 2:  88372.033796\n"
       ]
      },
      {
       "output_type": "stream",
       "stream": "stderr",
       "text": [
        "INFO:REINFORCE:Return from iter 3:  85875.252672\n"
       ]
      },
      {
       "output_type": "stream",
       "stream": "stdout",
       "text": [
        "\n",
        "Return from iter 1:  88994.261207\n",
        "Return from iter 2:  88372.033796\n",
        "Return from iter 3:  85875.252672\n",
        "Updated theta with alpha: 0.0500736903237, theta norm: 1.0\n",
        "Return from iter 0:  87120.870645"
       ]
      },
      {
       "output_type": "stream",
       "stream": "stderr",
       "text": [
        "INFO:REINFORCE:********************Iteration: 144\n"
       ]
      },
      {
       "output_type": "stream",
       "stream": "stderr",
       "text": [
        "INFO:REINFORCE:Gradient step\n"
       ]
      },
      {
       "output_type": "stream",
       "stream": "stderr",
       "text": [
        "INFO:REINFORCE:Step norm: 1.0\n"
       ]
      },
      {
       "output_type": "stream",
       "stream": "stderr",
       "text": [
        "INFO:REINFORCE:Alpha: 0.0498704136816\n"
       ]
      },
      {
       "output_type": "stream",
       "stream": "stderr",
       "text": [
        "INFO:REINFORCE:Return from iter 0:  87120.870645\n"
       ]
      },
      {
       "output_type": "stream",
       "stream": "stderr",
       "text": [
        "INFO:REINFORCE:Return from iter 1:  78999.535808\n"
       ]
      },
      {
       "output_type": "stream",
       "stream": "stderr",
       "text": [
        "INFO:REINFORCE:Return from iter 2:  86498.643234\n"
       ]
      },
      {
       "output_type": "stream",
       "stream": "stderr",
       "text": [
        "INFO:REINFORCE:Return from iter 3:  87122.950086\n"
       ]
      },
      {
       "output_type": "stream",
       "stream": "stdout",
       "text": [
        "\n",
        "Return from iter 1:  78999.535808\n",
        "Return from iter 2:  86498.643234\n",
        "Return from iter 3:  87122.950086\n",
        "Updated theta with alpha: 0.0498704136816, theta norm: 1.0\n",
        "Return from iter 0:  82749.089521"
       ]
      },
      {
       "output_type": "stream",
       "stream": "stderr",
       "text": [
        "INFO:REINFORCE:********************Iteration: 145\n"
       ]
      },
      {
       "output_type": "stream",
       "stream": "stderr",
       "text": [
        "INFO:REINFORCE:Gradient step\n"
       ]
      },
      {
       "output_type": "stream",
       "stream": "stderr",
       "text": [
        "INFO:REINFORCE:Step norm: 1.0\n"
       ]
      },
      {
       "output_type": "stream",
       "stream": "stderr",
       "text": [
        "INFO:REINFORCE:Alpha: 0.0496693228185\n"
       ]
      },
      {
       "output_type": "stream",
       "stream": "stderr",
       "text": [
        "INFO:REINFORCE:Return from iter 0:  82749.089521\n"
       ]
      },
      {
       "output_type": "stream",
       "stream": "stderr",
       "text": [
        "INFO:REINFORCE:Return from iter 1:  82123.396374\n"
       ]
      },
      {
       "output_type": "stream",
       "stream": "stderr",
       "text": [
        "INFO:REINFORCE:Return from iter 2:  84001.862109\n"
       ]
      },
      {
       "output_type": "stream",
       "stream": "stderr",
       "text": [
        "INFO:REINFORCE:Return from iter 3:  80255.997276\n"
       ]
      },
      {
       "output_type": "stream",
       "stream": "stdout",
       "text": [
        "\n",
        "Return from iter 1:  82123.396374\n",
        "Return from iter 2:  84001.862109\n",
        "Return from iter 3:  80255.997276\n",
        "Updated theta with alpha: 0.0496693228185, theta norm: 1.0\n",
        "Return from iter 0:  85251.862109"
       ]
      },
      {
       "output_type": "stream",
       "stream": "stderr",
       "text": [
        "INFO:REINFORCE:********************Iteration: 146\n"
       ]
      },
      {
       "output_type": "stream",
       "stream": "stderr",
       "text": [
        "INFO:REINFORCE:Gradient step\n"
       ]
      },
      {
       "output_type": "stream",
       "stream": "stderr",
       "text": [
        "INFO:REINFORCE:Step norm: 1.0\n"
       ]
      },
      {
       "output_type": "stream",
       "stream": "stderr",
       "text": [
        "INFO:REINFORCE:Alpha: 0.0494703797967\n"
       ]
      },
      {
       "output_type": "stream",
       "stream": "stderr",
       "text": [
        "INFO:REINFORCE:Return from iter 0:  85251.862109\n"
       ]
      },
      {
       "output_type": "stream",
       "stream": "stderr",
       "text": [
        "INFO:REINFORCE:Return from iter 1:  90868.121773\n"
       ]
      },
      {
       "output_type": "stream",
       "stream": "stderr",
       "text": [
        "INFO:REINFORCE:Return from iter 2:  87744.954354\n"
       ]
      },
      {
       "output_type": "stream",
       "stream": "stderr",
       "text": [
        "INFO:REINFORCE:Return from iter 3:  88372.033796\n"
       ]
      },
      {
       "output_type": "stream",
       "stream": "stdout",
       "text": [
        "\n",
        "Return from iter 1:  90868.121773\n",
        "Return from iter 2:  87744.954354\n",
        "Return from iter 3:  88372.033796\n",
        "Updated theta with alpha: 0.0494703797967, theta norm: 1.0\n",
        "Return from iter 0:  88993.344916"
       ]
      },
      {
       "output_type": "stream",
       "stream": "stderr",
       "text": [
        "INFO:REINFORCE:********************Iteration: 147\n"
       ]
      },
      {
       "output_type": "stream",
       "stream": "stderr",
       "text": [
        "INFO:REINFORCE:Gradient step\n"
       ]
      },
      {
       "output_type": "stream",
       "stream": "stderr",
       "text": [
        "INFO:REINFORCE:Step norm: 1.0\n"
       ]
      },
      {
       "output_type": "stream",
       "stream": "stderr",
       "text": [
        "INFO:REINFORCE:Alpha: 0.0492735475843\n"
       ]
      },
      {
       "output_type": "stream",
       "stream": "stderr",
       "text": [
        "INFO:REINFORCE:Return from iter 0:  88993.344916\n"
       ]
      },
      {
       "output_type": "stream",
       "stream": "stderr",
       "text": [
        "INFO:REINFORCE:Return from iter 1:  87123.643234\n"
       ]
      },
      {
       "output_type": "stream",
       "stream": "stderr",
       "text": [
        "INFO:REINFORCE:Return from iter 2:  85251.862109\n"
       ]
      },
      {
       "output_type": "stream",
       "stream": "stderr",
       "text": [
        "INFO:REINFORCE:Return from iter 3:  88372.033796\n"
       ]
      },
      {
       "output_type": "stream",
       "stream": "stdout",
       "text": [
        "\n",
        "Return from iter 1:  87123.643234\n",
        "Return from iter 2:  85251.862109\n",
        "Return from iter 3:  88372.033796\n",
        "Updated theta with alpha: 0.0492735475843, theta norm: 1.0\n",
        "Return from iter 0:  89619.731211"
       ]
      },
      {
       "output_type": "stream",
       "stream": "stderr",
       "text": [
        "INFO:REINFORCE:********************Iteration: 148\n"
       ]
      },
      {
       "output_type": "stream",
       "stream": "stderr",
       "text": [
        "INFO:REINFORCE:Gradient step\n"
       ]
      },
      {
       "output_type": "stream",
       "stream": "stderr",
       "text": [
        "INFO:REINFORCE:Step norm: 1.0\n"
       ]
      },
      {
       "output_type": "stream",
       "stream": "stderr",
       "text": [
        "INFO:REINFORCE:Alpha: 0.0490787900276\n"
       ]
      },
      {
       "output_type": "stream",
       "stream": "stderr",
       "text": [
        "INFO:REINFORCE:Return from iter 0:  89619.731211\n"
       ]
      },
      {
       "output_type": "stream",
       "stream": "stderr",
       "text": [
        "INFO:REINFORCE:Return from iter 1:  90868.121773\n"
       ]
      },
      {
       "output_type": "stream",
       "stream": "stderr",
       "text": [
        "INFO:REINFORCE:Return from iter 2:  88371.340649\n"
       ]
      },
      {
       "output_type": "stream",
       "stream": "stderr",
       "text": [
        "INFO:REINFORCE:Return from iter 3:  88369.261207\n"
       ]
      },
      {
       "output_type": "stream",
       "stream": "stdout",
       "text": [
        "\n",
        "Return from iter 1:  90868.121773\n",
        "Return from iter 2:  88371.340649\n",
        "Return from iter 3:  88369.261207\n",
        "Updated theta with alpha: 0.0490787900276, theta norm: 1.0\n",
        "Return from iter 0:  80874.089521"
       ]
      },
      {
       "output_type": "stream",
       "stream": "stderr",
       "text": [
        "INFO:REINFORCE:********************Iteration: 149\n"
       ]
      },
      {
       "output_type": "stream",
       "stream": "stderr",
       "text": [
        "INFO:REINFORCE:Gradient step\n"
       ]
      },
      {
       "output_type": "stream",
       "stream": "stderr",
       "text": [
        "INFO:REINFORCE:Step norm: 1.0\n"
       ]
      },
      {
       "output_type": "stream",
       "stream": "stderr",
       "text": [
        "INFO:REINFORCE:Alpha: 0.0488860718246\n"
       ]
      },
      {
       "output_type": "stream",
       "stream": "stderr",
       "text": [
        "INFO:REINFORCE:Return from iter 0:  80874.089521\n"
       ]
      },
      {
       "output_type": "stream",
       "stream": "stderr",
       "text": [
        "INFO:REINFORCE:Return from iter 1:  89619.731211\n"
       ]
      },
      {
       "output_type": "stream",
       "stream": "stderr",
       "text": [
        "INFO:REINFORCE:Return from iter 2:  83370.870645\n"
       ]
      },
      {
       "output_type": "stream",
       "stream": "stderr",
       "text": [
        "INFO:REINFORCE:Return from iter 3:  86497.950086\n"
       ]
      },
      {
       "output_type": "stream",
       "stream": "stdout",
       "text": [
        "\n",
        "Return from iter 1:  89619.731211\n",
        "Return from iter 2:  83370.870645\n",
        "Return from iter 3:  86497.950086\n",
        "Updated theta with alpha: 0.0488860718246, theta norm: 1.0\n",
        "Return from iter 0:  88994.731211"
       ]
      },
      {
       "output_type": "stream",
       "stream": "stderr",
       "text": [
        "INFO:REINFORCE:********************Iteration: 150\n"
       ]
      },
      {
       "output_type": "stream",
       "stream": "stderr",
       "text": [
        "INFO:REINFORCE:Gradient step\n"
       ]
      },
      {
       "output_type": "stream",
       "stream": "stderr",
       "text": [
        "INFO:REINFORCE:Step norm: 1.0\n"
       ]
      },
      {
       "output_type": "stream",
       "stream": "stderr",
       "text": [
        "INFO:REINFORCE:Alpha: 0.0486953584998\n"
       ]
      },
      {
       "output_type": "stream",
       "stream": "stderr",
       "text": [
        "INFO:REINFORCE:Return from iter 0:  88994.731211\n"
       ]
      },
      {
       "output_type": "stream",
       "stream": "stderr",
       "text": [
        "INFO:REINFORCE:Return from iter 1:  89619.731211\n"
       ]
      },
      {
       "output_type": "stream",
       "stream": "stderr",
       "text": [
        "INFO:REINFORCE:Return from iter 2:  -20987.192891\n"
       ]
      },
      {
       "output_type": "stream",
       "stream": "stderr",
       "text": [
        "INFO:REINFORCE:Return from iter 3:  88372.033796\n"
       ]
      },
      {
       "output_type": "stream",
       "stream": "stdout",
       "text": [
        "\n",
        "Return from iter 1:  89619.731211\n",
        "Return from iter 2:  -20987.192891\n",
        "Return from iter 3:  88372.033796\n",
        "Updated theta with alpha: 0.0486953584998, theta norm: 1.0\n",
        "Return from iter 0:  89618.344916"
       ]
      },
      {
       "output_type": "stream",
       "stream": "stderr",
       "text": [
        "INFO:REINFORCE:********************Iteration: 151\n"
       ]
      },
      {
       "output_type": "stream",
       "stream": "stderr",
       "text": [
        "INFO:REINFORCE:Gradient step\n"
       ]
      },
      {
       "output_type": "stream",
       "stream": "stderr",
       "text": [
        "INFO:REINFORCE:Step norm: 1.0\n"
       ]
      },
      {
       "output_type": "stream",
       "stream": "stderr",
       "text": [
        "INFO:REINFORCE:Alpha: 0.0485066163793\n"
       ]
      },
      {
       "output_type": "stream",
       "stream": "stderr",
       "text": [
        "INFO:REINFORCE:Return from iter 0:  89618.344916\n"
       ]
      },
      {
       "output_type": "stream",
       "stream": "stderr",
       "text": [
        "INFO:REINFORCE:Return from iter 1:  84002.778400\n"
       ]
      },
      {
       "output_type": "stream",
       "stream": "stderr",
       "text": [
        "INFO:REINFORCE:Return from iter 2:  88372.033796\n"
       ]
      },
      {
       "output_type": "stream",
       "stream": "stderr",
       "text": [
        "INFO:REINFORCE:Return from iter 3:  87747.033796\n"
       ]
      },
      {
       "output_type": "stream",
       "stream": "stdout",
       "text": [
        "\n",
        "Return from iter 1:  84002.778400\n",
        "Return from iter 2:  88372.033796\n",
        "Return from iter 3:  87747.033796\n",
        "Updated theta with alpha: 0.0485066163793, theta norm: 1.0\n",
        "Return from iter 0:  88372.033796"
       ]
      },
      {
       "output_type": "stream",
       "stream": "stderr",
       "text": [
        "INFO:REINFORCE:********************Iteration: 152\n"
       ]
      },
      {
       "output_type": "stream",
       "stream": "stderr",
       "text": [
        "INFO:REINFORCE:Gradient step\n"
       ]
      },
      {
       "output_type": "stream",
       "stream": "stderr",
       "text": [
        "INFO:REINFORCE:Step norm: 1.0\n"
       ]
      },
      {
       "output_type": "stream",
       "stream": "stderr",
       "text": [
        "INFO:REINFORCE:Alpha: 0.0483198125674\n"
       ]
      },
      {
       "output_type": "stream",
       "stream": "stderr",
       "text": [
        "INFO:REINFORCE:Return from iter 0:  88372.033796\n"
       ]
      },
      {
       "output_type": "stream",
       "stream": "stderr",
       "text": [
        "INFO:REINFORCE:Return from iter 1:  87744.954354\n"
       ]
      },
      {
       "output_type": "stream",
       "stream": "stderr",
       "text": [
        "INFO:REINFORCE:Return from iter 2:  85251.862109\n"
       ]
      },
      {
       "output_type": "stream",
       "stream": "stderr",
       "text": [
        "INFO:REINFORCE:Return from iter 3:  89619.731211\n"
       ]
      },
      {
       "output_type": "stream",
       "stream": "stdout",
       "text": [
        "\n",
        "Return from iter 1:  87744.954354\n",
        "Return from iter 2:  85251.862109\n",
        "Return from iter 3:  89619.731211\n",
        "Updated theta with alpha: 0.0483198125674, theta norm: 1.0\n",
        "Return from iter 0:  -2241.997489"
       ]
      },
      {
       "output_type": "stream",
       "stream": "stderr",
       "text": [
        "INFO:REINFORCE:********************Iteration: 153\n"
       ]
      },
      {
       "output_type": "stream",
       "stream": "stderr",
       "text": [
        "INFO:REINFORCE:Gradient step\n"
       ]
      },
      {
       "output_type": "stream",
       "stream": "stderr",
       "text": [
        "INFO:REINFORCE:Step norm: 1.0\n"
       ]
      },
      {
       "output_type": "stream",
       "stream": "stderr",
       "text": [
        "INFO:REINFORCE:Alpha: 0.0481349149235\n"
       ]
      },
      {
       "output_type": "stream",
       "stream": "stderr",
       "text": [
        "INFO:REINFORCE:Return from iter 0:  -2241.997489\n"
       ]
      },
      {
       "output_type": "stream",
       "stream": "stderr",
       "text": [
        "INFO:REINFORCE:Return from iter 1:  85869.954354\n"
       ]
      },
      {
       "output_type": "stream",
       "stream": "stderr",
       "text": [
        "INFO:REINFORCE:Return from iter 2:  90868.814920\n"
       ]
      },
      {
       "output_type": "stream",
       "stream": "stderr",
       "text": [
        "INFO:REINFORCE:Return from iter 3:  88993.344916\n"
       ]
      },
      {
       "output_type": "stream",
       "stream": "stdout",
       "text": [
        "\n",
        "Return from iter 1:  85869.954354\n",
        "Return from iter 2:  90868.814920\n",
        "Return from iter 3:  88993.344916\n",
        "Updated theta with alpha: 0.0481349149235, theta norm: 1.0\n",
        "Return from iter 0:  89617.651769"
       ]
      },
      {
       "output_type": "stream",
       "stream": "stderr",
       "text": [
        "INFO:REINFORCE:********************Iteration: 154\n"
       ]
      },
      {
       "output_type": "stream",
       "stream": "stderr",
       "text": [
        "INFO:REINFORCE:Gradient step\n"
       ]
      },
      {
       "output_type": "stream",
       "stream": "stderr",
       "text": [
        "INFO:REINFORCE:Step norm: 1.0\n"
       ]
      },
      {
       "output_type": "stream",
       "stream": "stderr",
       "text": [
        "INFO:REINFORCE:Alpha: 0.0479518920406\n"
       ]
      },
      {
       "output_type": "stream",
       "stream": "stderr",
       "text": [
        "INFO:REINFORCE:Return from iter 0:  89617.651769\n"
       ]
      },
      {
       "output_type": "stream",
       "stream": "stderr",
       "text": [
        "INFO:REINFORCE:Return from iter 1:  87747.033796\n"
       ]
      },
      {
       "output_type": "stream",
       "stream": "stderr",
       "text": [
        "INFO:REINFORCE:Return from iter 2:  88369.261207\n"
       ]
      },
      {
       "output_type": "stream",
       "stream": "stderr",
       "text": [
        "INFO:REINFORCE:Return from iter 3:  -77230.838712\n"
       ]
      },
      {
       "output_type": "stream",
       "stream": "stdout",
       "text": [
        "\n",
        "Return from iter 1:  87747.033796\n",
        "Return from iter 2:  88369.261207\n",
        "Return from iter 3:  -77230.838712\n",
        "Updated theta with alpha: 0.0479518920406, theta norm: 1.0\n",
        "Return from iter 0:  87122.256939"
       ]
      },
      {
       "output_type": "stream",
       "stream": "stderr",
       "text": [
        "INFO:REINFORCE:********************Iteration: 155\n"
       ]
      },
      {
       "output_type": "stream",
       "stream": "stderr",
       "text": [
        "INFO:REINFORCE:Gradient step\n"
       ]
      },
      {
       "output_type": "stream",
       "stream": "stderr",
       "text": [
        "INFO:REINFORCE:Step norm: 1.0\n"
       ]
      },
      {
       "output_type": "stream",
       "stream": "stderr",
       "text": [
        "INFO:REINFORCE:Alpha: 0.0477707132233\n"
       ]
      },
      {
       "output_type": "stream",
       "stream": "stderr",
       "text": [
        "INFO:REINFORCE:Return from iter 0:  87122.256939\n"
       ]
      },
      {
       "output_type": "stream",
       "stream": "stderr",
       "text": [
        "INFO:REINFORCE:Return from iter 1:  88372.033796\n"
       ]
      },
      {
       "output_type": "stream",
       "stream": "stderr",
       "text": [
        "INFO:REINFORCE:Return from iter 2:  87745.177498\n"
       ]
      },
      {
       "output_type": "stream",
       "stream": "stderr",
       "text": [
        "INFO:REINFORCE:Return from iter 3:  88372.033796\n"
       ]
      },
      {
       "output_type": "stream",
       "stream": "stdout",
       "text": [
        "\n",
        "Return from iter 1:  88372.033796\n",
        "Return from iter 2:  87745.177498\n",
        "Return from iter 3:  88372.033796\n",
        "Updated theta with alpha: 0.0477707132233, theta norm: 1.0\n",
        "Return from iter 0:  87122.033796"
       ]
      },
      {
       "output_type": "stream",
       "stream": "stderr",
       "text": [
        "INFO:REINFORCE:********************Iteration: 156\n"
       ]
      },
      {
       "output_type": "stream",
       "stream": "stderr",
       "text": [
        "INFO:REINFORCE:Gradient step\n"
       ]
      },
      {
       "output_type": "stream",
       "stream": "stderr",
       "text": [
        "INFO:REINFORCE:Step norm: 1.0\n"
       ]
      },
      {
       "output_type": "stream",
       "stream": "stderr",
       "text": [
        "INFO:REINFORCE:Alpha: 0.0475913484679\n"
       ]
      },
      {
       "output_type": "stream",
       "stream": "stderr",
       "text": [
        "INFO:REINFORCE:Return from iter 0:  87122.033796\n"
       ]
      },
      {
       "output_type": "stream",
       "stream": "stderr",
       "text": [
        "INFO:REINFORCE:Return from iter 1:  83995.870645\n"
       ]
      },
      {
       "output_type": "stream",
       "stream": "stderr",
       "text": [
        "INFO:REINFORCE:Return from iter 2:  89619.731211\n"
       ]
      },
      {
       "output_type": "stream",
       "stream": "stderr",
       "text": [
        "INFO:REINFORCE:Return from iter 3:  89618.814920\n"
       ]
      },
      {
       "output_type": "stream",
       "stream": "stdout",
       "text": [
        "\n",
        "Return from iter 1:  83995.870645\n",
        "Return from iter 2:  89619.731211\n",
        "Return from iter 3:  89618.814920\n",
        "Updated theta with alpha: 0.0475913484679, theta norm: 1.0\n",
        "Return from iter 0:  87123.643234"
       ]
      },
      {
       "output_type": "stream",
       "stream": "stderr",
       "text": [
        "INFO:REINFORCE:********************Iteration: 157\n"
       ]
      },
      {
       "output_type": "stream",
       "stream": "stderr",
       "text": [
        "INFO:REINFORCE:Gradient step\n"
       ]
      },
      {
       "output_type": "stream",
       "stream": "stderr",
       "text": [
        "INFO:REINFORCE:Step norm: 1.0\n"
       ]
      },
      {
       "output_type": "stream",
       "stream": "stderr",
       "text": [
        "INFO:REINFORCE:Alpha: 0.0474137684425\n"
       ]
      },
      {
       "output_type": "stream",
       "stream": "stderr",
       "text": [
        "INFO:REINFORCE:Return from iter 0:  87123.643234\n"
       ]
      },
      {
       "output_type": "stream",
       "stream": "stderr",
       "text": [
        "INFO:REINFORCE:Return from iter 1:  87123.643234\n"
       ]
      },
      {
       "output_type": "stream",
       "stream": "stderr",
       "text": [
        "INFO:REINFORCE:Return from iter 2:  84626.862109\n"
       ]
      },
      {
       "output_type": "stream",
       "stream": "stderr",
       "text": [
        "INFO:REINFORCE:Return from iter 3:  85875.252672\n"
       ]
      },
      {
       "output_type": "stream",
       "stream": "stdout",
       "text": [
        "\n",
        "Return from iter 1:  87123.643234\n",
        "Return from iter 2:  84626.862109\n",
        "Return from iter 3:  85875.252672\n",
        "Updated theta with alpha: 0.0474137684425, theta norm: 1.0\n",
        "Return from iter 0:  89619.038063"
       ]
      },
      {
       "output_type": "stream",
       "stream": "stderr",
       "text": [
        "INFO:REINFORCE:********************Iteration: 158\n"
       ]
      },
      {
       "output_type": "stream",
       "stream": "stderr",
       "text": [
        "INFO:REINFORCE:Gradient step\n"
       ]
      },
      {
       "output_type": "stream",
       "stream": "stderr",
       "text": [
        "INFO:REINFORCE:Step norm: 1.0\n"
       ]
      },
      {
       "output_type": "stream",
       "stream": "stderr",
       "text": [
        "INFO:REINFORCE:Alpha: 0.0472379444676\n"
       ]
      },
      {
       "output_type": "stream",
       "stream": "stderr",
       "text": [
        "INFO:REINFORCE:Return from iter 0:  89619.038063\n"
       ]
      },
      {
       "output_type": "stream",
       "stream": "stderr",
       "text": [
        "INFO:REINFORCE:Return from iter 1:  88371.340649\n"
       ]
      },
      {
       "output_type": "stream",
       "stream": "stderr",
       "text": [
        "INFO:REINFORCE:Return from iter 2:  87745.870645\n"
       ]
      },
      {
       "output_type": "stream",
       "stream": "stderr",
       "text": [
        "INFO:REINFORCE:Return from iter 3:  87121.340649\n"
       ]
      },
      {
       "output_type": "stream",
       "stream": "stdout",
       "text": [
        "\n",
        "Return from iter 1:  88371.340649\n",
        "Return from iter 2:  87745.870645\n",
        "Return from iter 3:  87121.340649\n",
        "Updated theta with alpha: 0.0472379444676, theta norm: 1.0\n",
        "Return from iter 0:  87744.731211"
       ]
      },
      {
       "output_type": "stream",
       "stream": "stderr",
       "text": [
        "INFO:REINFORCE:********************Iteration: 159\n"
       ]
      },
      {
       "output_type": "stream",
       "stream": "stderr",
       "text": [
        "INFO:REINFORCE:Gradient step\n"
       ]
      },
      {
       "output_type": "stream",
       "stream": "stderr",
       "text": [
        "INFO:REINFORCE:Step norm: 1.0\n"
       ]
      },
      {
       "output_type": "stream",
       "stream": "stderr",
       "text": [
        "INFO:REINFORCE:Alpha: 0.0470638484982\n"
       ]
      },
      {
       "output_type": "stream",
       "stream": "stderr",
       "text": [
        "INFO:REINFORCE:Return from iter 0:  87744.731211\n"
       ]
      },
      {
       "output_type": "stream",
       "stream": "stderr",
       "text": [
        "INFO:REINFORCE:Return from iter 1:  85872.950086\n"
       ]
      },
      {
       "output_type": "stream",
       "stream": "stderr",
       "text": [
        "INFO:REINFORCE:Return from iter 2:  80249.782668\n"
       ]
      },
      {
       "output_type": "stream",
       "stream": "stderr",
       "text": [
        "INFO:REINFORCE:Return from iter 3:  88370.424358\n"
       ]
      },
      {
       "output_type": "stream",
       "stream": "stdout",
       "text": [
        "\n",
        "Return from iter 1:  85872.950086\n",
        "Return from iter 2:  80249.782668\n",
        "Return from iter 3:  88370.424358\n",
        "Updated theta with alpha: 0.0470638484982, theta norm: 1.0\n",
        "Return from iter 0:  87123.643234"
       ]
      },
      {
       "output_type": "stream",
       "stream": "stderr",
       "text": [
        "INFO:REINFORCE:********************Iteration: 160\n"
       ]
      },
      {
       "output_type": "stream",
       "stream": "stderr",
       "text": [
        "INFO:REINFORCE:Gradient step\n"
       ]
      },
      {
       "output_type": "stream",
       "stream": "stderr",
       "text": [
        "INFO:REINFORCE:Step norm: 1.0\n"
       ]
      },
      {
       "output_type": "stream",
       "stream": "stderr",
       "text": [
        "INFO:REINFORCE:Alpha: 0.0468914531055\n"
       ]
      },
      {
       "output_type": "stream",
       "stream": "stderr",
       "text": [
        "INFO:REINFORCE:Return from iter 0:  87123.643234\n"
       ]
      },
      {
       "output_type": "stream",
       "stream": "stderr",
       "text": [
        "INFO:REINFORCE:Return from iter 1:  89619.731211\n"
       ]
      },
      {
       "output_type": "stream",
       "stream": "stderr",
       "text": [
        "INFO:REINFORCE:Return from iter 2:  90868.121773\n"
       ]
      },
      {
       "output_type": "stream",
       "stream": "stderr",
       "text": [
        "INFO:REINFORCE:Return from iter 3:  88372.033796\n"
       ]
      },
      {
       "output_type": "stream",
       "stream": "stdout",
       "text": [
        "\n",
        "Return from iter 1:  89619.731211\n",
        "Return from iter 2:  90868.121773\n",
        "Return from iter 3:  88372.033796\n",
        "Updated theta with alpha: 0.0468914531055, theta norm: 1.0\n",
        "Return from iter 0:  83376.862109"
       ]
      },
      {
       "output_type": "stream",
       "stream": "stderr",
       "text": [
        "INFO:REINFORCE:********************Iteration: 161\n"
       ]
      },
      {
       "output_type": "stream",
       "stream": "stderr",
       "text": [
        "INFO:REINFORCE:Gradient step\n"
       ]
      },
      {
       "output_type": "stream",
       "stream": "stderr",
       "text": [
        "INFO:REINFORCE:Step norm: 1.0\n"
       ]
      },
      {
       "output_type": "stream",
       "stream": "stderr",
       "text": [
        "INFO:REINFORCE:Alpha: 0.0467207314597\n"
       ]
      },
      {
       "output_type": "stream",
       "stream": "stderr",
       "text": [
        "INFO:REINFORCE:Return from iter 0:  83376.862109\n"
       ]
      },
      {
       "output_type": "stream",
       "stream": "stderr",
       "text": [
        "INFO:REINFORCE:Return from iter 1:  85875.252672\n"
       ]
      },
      {
       "output_type": "stream",
       "stream": "stderr",
       "text": [
        "INFO:REINFORCE:Return from iter 2:  89619.731211\n"
       ]
      },
      {
       "output_type": "stream",
       "stream": "stderr",
       "text": [
        "INFO:REINFORCE:Return from iter 3:  88372.033796\n"
       ]
      },
      {
       "output_type": "stream",
       "stream": "stdout",
       "text": [
        "\n",
        "Return from iter 1:  85875.252672\n",
        "Return from iter 2:  89619.731211\n",
        "Return from iter 3:  88372.033796\n",
        "Updated theta with alpha: 0.0467207314597, theta norm: 1.0\n",
        "Return from iter 0:  84624.559524"
       ]
      },
      {
       "output_type": "stream",
       "stream": "stderr",
       "text": [
        "INFO:REINFORCE:********************Iteration: 162\n"
       ]
      },
      {
       "output_type": "stream",
       "stream": "stderr",
       "text": [
        "INFO:REINFORCE:Gradient step\n"
       ]
      },
      {
       "output_type": "stream",
       "stream": "stderr",
       "text": [
        "INFO:REINFORCE:Step norm: 1.0\n"
       ]
      },
      {
       "output_type": "stream",
       "stream": "stderr",
       "text": [
        "INFO:REINFORCE:Alpha: 0.046551657314\n"
       ]
      },
      {
       "output_type": "stream",
       "stream": "stderr",
       "text": [
        "INFO:REINFORCE:Return from iter 0:  84624.559524\n"
       ]
      },
      {
       "output_type": "stream",
       "stream": "stderr",
       "text": [
        "INFO:REINFORCE:Return from iter 1:  82121.786936\n"
       ]
      },
      {
       "output_type": "stream",
       "stream": "stderr",
       "text": [
        "INFO:REINFORCE:Return from iter 2:  88371.340649\n"
       ]
      },
      {
       "output_type": "stream",
       "stream": "stderr",
       "text": [
        "INFO:REINFORCE:Return from iter 3:  88370.647501\n"
       ]
      },
      {
       "output_type": "stream",
       "stream": "stdout",
       "text": [
        "\n",
        "Return from iter 1:  82121.786936\n",
        "Return from iter 2:  88371.340649\n",
        "Return from iter 3:  88370.647501\n",
        "Updated theta with alpha: 0.046551657314, theta norm: 1.0\n",
        "Return from iter 0:  87122.950086"
       ]
      },
      {
       "output_type": "stream",
       "stream": "stderr",
       "text": [
        "INFO:REINFORCE:********************Iteration: 163\n"
       ]
      },
      {
       "output_type": "stream",
       "stream": "stderr",
       "text": [
        "INFO:REINFORCE:Gradient step\n"
       ]
      },
      {
       "output_type": "stream",
       "stream": "stderr",
       "text": [
        "INFO:REINFORCE:Step norm: 1.0\n"
       ]
      },
      {
       "output_type": "stream",
       "stream": "stderr",
       "text": [
        "INFO:REINFORCE:Alpha: 0.0463842049877\n"
       ]
      },
      {
       "output_type": "stream",
       "stream": "stderr",
       "text": [
        "INFO:REINFORCE:Return from iter 0:  87122.950086\n"
       ]
      },
      {
       "output_type": "stream",
       "stream": "stderr",
       "text": [
        "INFO:REINFORCE:Return from iter 1:  87747.033796\n"
       ]
      },
      {
       "output_type": "stream",
       "stream": "stderr",
       "text": [
        "INFO:REINFORCE:Return from iter 2:  88371.340649\n"
       ]
      },
      {
       "output_type": "stream",
       "stream": "stderr",
       "text": [
        "INFO:REINFORCE:Return from iter 3:  77754.834125\n"
       ]
      },
      {
       "output_type": "stream",
       "stream": "stdout",
       "text": [
        "\n",
        "Return from iter 1:  87747.033796\n",
        "Return from iter 2:  88371.340649\n",
        "Return from iter 3:  77754.834125\n",
        "Updated theta with alpha: 0.0463842049877, theta norm: 1.0\n",
        "Return from iter 0:  87747.033796"
       ]
      },
      {
       "output_type": "stream",
       "stream": "stderr",
       "text": [
        "INFO:REINFORCE:********************Iteration: 164\n"
       ]
      },
      {
       "output_type": "stream",
       "stream": "stderr",
       "text": [
        "INFO:REINFORCE:Gradient step\n"
       ]
      },
      {
       "output_type": "stream",
       "stream": "stderr",
       "text": [
        "INFO:REINFORCE:Step norm: 1.0\n"
       ]
      },
      {
       "output_type": "stream",
       "stream": "stderr",
       "text": [
        "INFO:REINFORCE:Alpha: 0.0462183493512\n"
       ]
      },
      {
       "output_type": "stream",
       "stream": "stderr",
       "text": [
        "INFO:REINFORCE:Return from iter 0:  87747.033796\n"
       ]
      },
      {
       "output_type": "stream",
       "stream": "stderr",
       "text": [
        "INFO:REINFORCE:Return from iter 1:  87123.643234\n"
       ]
      },
      {
       "output_type": "stream",
       "stream": "stderr",
       "text": [
        "INFO:REINFORCE:Return from iter 2:  85251.862109\n"
       ]
      },
      {
       "output_type": "stream",
       "stream": "stderr",
       "text": [
        "INFO:REINFORCE:Return from iter 3:  89619.731211\n"
       ]
      },
      {
       "output_type": "stream",
       "stream": "stdout",
       "text": [
        "\n",
        "Return from iter 1:  87123.643234\n",
        "Return from iter 2:  85251.862109\n",
        "Return from iter 3:  89619.731211\n",
        "Updated theta with alpha: 0.0462183493512, theta norm: 1.0\n",
        "Return from iter 0:  81497.703226"
       ]
      },
      {
       "output_type": "stream",
       "stream": "stderr",
       "text": [
        "INFO:REINFORCE:********************Iteration: 165\n"
       ]
      },
      {
       "output_type": "stream",
       "stream": "stderr",
       "text": [
        "INFO:REINFORCE:Gradient step\n"
       ]
      },
      {
       "output_type": "stream",
       "stream": "stderr",
       "text": [
        "INFO:REINFORCE:Step norm: 1.0\n"
       ]
      },
      {
       "output_type": "stream",
       "stream": "stderr",
       "text": [
        "INFO:REINFORCE:Alpha: 0.0460540658109\n"
       ]
      },
      {
       "output_type": "stream",
       "stream": "stderr",
       "text": [
        "INFO:REINFORCE:Return from iter 0:  81497.703226\n"
       ]
      },
      {
       "output_type": "stream",
       "stream": "stderr",
       "text": [
        "INFO:REINFORCE:Return from iter 1:  87123.643234\n"
       ]
      },
      {
       "output_type": "stream",
       "stream": "stderr",
       "text": [
        "INFO:REINFORCE:Return from iter 2:  85874.559524\n"
       ]
      },
      {
       "output_type": "stream",
       "stream": "stderr",
       "text": [
        "INFO:REINFORCE:Return from iter 3:  84626.168962\n"
       ]
      },
      {
       "output_type": "stream",
       "stream": "stdout",
       "text": [
        "\n",
        "Return from iter 1:  87123.643234\n",
        "Return from iter 2:  85874.559524\n",
        "Return from iter 3:  84626.168962\n",
        "Updated theta with alpha: 0.0460540658109, theta norm: 1.0\n",
        "Return from iter 0:  89618.814920"
       ]
      },
      {
       "output_type": "stream",
       "stream": "stderr",
       "text": [
        "INFO:REINFORCE:********************Iteration: 166\n"
       ]
      },
      {
       "output_type": "stream",
       "stream": "stderr",
       "text": [
        "INFO:REINFORCE:Gradient step\n"
       ]
      },
      {
       "output_type": "stream",
       "stream": "stderr",
       "text": [
        "INFO:REINFORCE:Step norm: 1.0\n"
       ]
      },
      {
       "output_type": "stream",
       "stream": "stderr",
       "text": [
        "INFO:REINFORCE:Alpha: 0.0458913302944\n"
       ]
      },
      {
       "output_type": "stream",
       "stream": "stderr",
       "text": [
        "INFO:REINFORCE:Return from iter 0:  89618.814920\n"
       ]
      },
      {
       "output_type": "stream",
       "stream": "stderr",
       "text": [
        "INFO:REINFORCE:Return from iter 1:  81497.703226\n"
       ]
      },
      {
       "output_type": "stream",
       "stream": "stderr",
       "text": [
        "INFO:REINFORCE:Return from iter 2:  82122.033796\n"
       ]
      },
      {
       "output_type": "stream",
       "stream": "stderr",
       "text": [
        "INFO:REINFORCE:Return from iter 3:  85870.870645\n"
       ]
      },
      {
       "output_type": "stream",
       "stream": "stdout",
       "text": [
        "\n",
        "Return from iter 1:  81497.703226\n",
        "Return from iter 2:  82122.033796\n",
        "Return from iter 3:  85870.870645\n",
        "Updated theta with alpha: 0.0458913302944, theta norm: 1.0\n",
        "Return from iter 0:  75250.898386"
       ]
      },
      {
       "output_type": "stream",
       "stream": "stderr",
       "text": [
        "INFO:REINFORCE:********************Iteration: 167\n"
       ]
      },
      {
       "output_type": "stream",
       "stream": "stderr",
       "text": [
        "INFO:REINFORCE:Gradient step\n"
       ]
      },
      {
       "output_type": "stream",
       "stream": "stderr",
       "text": [
        "INFO:REINFORCE:Step norm: 1.0\n"
       ]
      },
      {
       "output_type": "stream",
       "stream": "stderr",
       "text": [
        "INFO:REINFORCE:Alpha: 0.045730119237\n"
       ]
      },
      {
       "output_type": "stream",
       "stream": "stderr",
       "text": [
        "INFO:REINFORCE:Return from iter 0:  75250.898386\n"
       ]
      },
      {
       "output_type": "stream",
       "stream": "stderr",
       "text": [
        "INFO:REINFORCE:Return from iter 1:  88994.261207\n"
       ]
      },
      {
       "output_type": "stream",
       "stream": "stderr",
       "text": [
        "INFO:REINFORCE:Return from iter 2:  87747.726943\n"
       ]
      },
      {
       "output_type": "stream",
       "stream": "stderr",
       "text": [
        "INFO:REINFORCE:Return from iter 3:  84620.870645\n"
       ]
      },
      {
       "output_type": "stream",
       "stream": "stdout",
       "text": [
        "\n",
        "Return from iter 1:  88994.261207\n",
        "Return from iter 2:  87747.726943\n",
        "Return from iter 3:  84620.870645\n",
        "Updated theta with alpha: 0.045730119237, theta norm: 1.0\n",
        "Return from iter 0:  89620.424358"
       ]
      },
      {
       "output_type": "stream",
       "stream": "stderr",
       "text": [
        "INFO:REINFORCE:********************Iteration: 168\n"
       ]
      },
      {
       "output_type": "stream",
       "stream": "stderr",
       "text": [
        "INFO:REINFORCE:Gradient step\n"
       ]
      },
      {
       "output_type": "stream",
       "stream": "stderr",
       "text": [
        "INFO:REINFORCE:Step norm: 1.0\n"
       ]
      },
      {
       "output_type": "stream",
       "stream": "stderr",
       "text": [
        "INFO:REINFORCE:Alpha: 0.0455704095676\n"
       ]
      },
      {
       "output_type": "stream",
       "stream": "stderr",
       "text": [
        "INFO:REINFORCE:Return from iter 0:  89620.424358\n"
       ]
      },
      {
       "output_type": "stream",
       "stream": "stderr",
       "text": [
        "INFO:REINFORCE:Return from iter 1:  84001.862109\n"
       ]
      },
      {
       "output_type": "stream",
       "stream": "stderr",
       "text": [
        "INFO:REINFORCE:Return from iter 2:  85875.252672\n"
       ]
      },
      {
       "output_type": "stream",
       "stream": "stderr",
       "text": [
        "INFO:REINFORCE:Return from iter 3:  -29119.633261\n"
       ]
      },
      {
       "output_type": "stream",
       "stream": "stdout",
       "text": [
        "\n",
        "Return from iter 1:  84001.862109\n",
        "Return from iter 2:  85875.252672\n",
        "Return from iter 3:  -29119.633261\n",
        "Updated theta with alpha: 0.0455704095676, theta norm: 1.0\n",
        "Return from iter 0:  84619.261207"
       ]
      },
      {
       "output_type": "stream",
       "stream": "stderr",
       "text": [
        "INFO:REINFORCE:********************Iteration: 169\n"
       ]
      },
      {
       "output_type": "stream",
       "stream": "stderr",
       "text": [
        "INFO:REINFORCE:Gradient step\n"
       ]
      },
      {
       "output_type": "stream",
       "stream": "stderr",
       "text": [
        "INFO:REINFORCE:Step norm: 1.0\n"
       ]
      },
      {
       "output_type": "stream",
       "stream": "stderr",
       "text": [
        "INFO:REINFORCE:Alpha: 0.0454121786957\n"
       ]
      },
      {
       "output_type": "stream",
       "stream": "stderr",
       "text": [
        "INFO:REINFORCE:Return from iter 0:  84619.261207\n"
       ]
      },
      {
       "output_type": "stream",
       "stream": "stderr",
       "text": [
        "INFO:REINFORCE:Return from iter 1:  90868.121773\n"
       ]
      },
      {
       "output_type": "stream",
       "stream": "stderr",
       "text": [
        "INFO:REINFORCE:Return from iter 2:  85874.336381\n"
       ]
      },
      {
       "output_type": "stream",
       "stream": "stderr",
       "text": [
        "INFO:REINFORCE:Return from iter 3:  85875.252672\n"
       ]
      },
      {
       "output_type": "stream",
       "stream": "stdout",
       "text": [
        "\n",
        "Return from iter 1:  90868.121773\n",
        "Return from iter 2:  85874.336381\n",
        "Return from iter 3:  85875.252672\n",
        "Updated theta with alpha: 0.0454121786957, theta norm: 1.0\n",
        "Return from iter 0:  88370.647501"
       ]
      },
      {
       "output_type": "stream",
       "stream": "stderr",
       "text": [
        "INFO:REINFORCE:********************Iteration: 170\n"
       ]
      },
      {
       "output_type": "stream",
       "stream": "stderr",
       "text": [
        "INFO:REINFORCE:Gradient step\n"
       ]
      },
      {
       "output_type": "stream",
       "stream": "stderr",
       "text": [
        "INFO:REINFORCE:Step norm: 1.0\n"
       ]
      },
      {
       "output_type": "stream",
       "stream": "stderr",
       "text": [
        "INFO:REINFORCE:Alpha: 0.0452554044989\n"
       ]
      },
      {
       "output_type": "stream",
       "stream": "stderr",
       "text": [
        "INFO:REINFORCE:Return from iter 0:  88370.647501\n"
       ]
      },
      {
       "output_type": "stream",
       "stream": "stderr",
       "text": [
        "INFO:REINFORCE:Return from iter 1:  88994.261207\n"
       ]
      },
      {
       "output_type": "stream",
       "stream": "stderr",
       "text": [
        "INFO:REINFORCE:Return from iter 2:  85251.862109\n"
       ]
      },
      {
       "output_type": "stream",
       "stream": "stderr",
       "text": [
        "INFO:REINFORCE:Return from iter 3:  88995.424358\n"
       ]
      },
      {
       "output_type": "stream",
       "stream": "stdout",
       "text": [
        "\n",
        "Return from iter 1:  88994.261207\n",
        "Return from iter 2:  85251.862109\n",
        "Return from iter 3:  88995.424358\n",
        "Updated theta with alpha: 0.0452554044989, theta norm: 1.0\n",
        "Return from iter 0:  88995.647501"
       ]
      },
      {
       "output_type": "stream",
       "stream": "stderr",
       "text": [
        "INFO:REINFORCE:********************Iteration: 171\n"
       ]
      },
      {
       "output_type": "stream",
       "stream": "stderr",
       "text": [
        "INFO:REINFORCE:Gradient step\n"
       ]
      },
      {
       "output_type": "stream",
       "stream": "stderr",
       "text": [
        "INFO:REINFORCE:Step norm: 1.0\n"
       ]
      },
      {
       "output_type": "stream",
       "stream": "stderr",
       "text": [
        "INFO:REINFORCE:Alpha: 0.0451000653102\n"
       ]
      },
      {
       "output_type": "stream",
       "stream": "stderr",
       "text": [
        "INFO:REINFORCE:Return from iter 0:  88995.647501\n"
       ]
      },
      {
       "output_type": "stream",
       "stream": "stderr",
       "text": [
        "INFO:REINFORCE:Return from iter 1:  88372.033796\n"
       ]
      },
      {
       "output_type": "stream",
       "stream": "stderr",
       "text": [
        "INFO:REINFORCE:Return from iter 2:  85250.252672\n"
       ]
      },
      {
       "output_type": "stream",
       "stream": "stderr",
       "text": [
        "INFO:REINFORCE:Return from iter 3:  88371.340649\n"
       ]
      },
      {
       "output_type": "stream",
       "stream": "stdout",
       "text": [
        "\n",
        "Return from iter 1:  88372.033796\n",
        "Return from iter 2:  85250.252672\n",
        "Return from iter 3:  88371.340649\n",
        "Updated theta with alpha: 0.0451000653102, theta norm: 1.0\n",
        "Return from iter 0:  83995.870645"
       ]
      },
      {
       "output_type": "stream",
       "stream": "stderr",
       "text": [
        "INFO:REINFORCE:********************Iteration: 172\n"
       ]
      },
      {
       "output_type": "stream",
       "stream": "stderr",
       "text": [
        "INFO:REINFORCE:Gradient step\n"
       ]
      },
      {
       "output_type": "stream",
       "stream": "stderr",
       "text": [
        "INFO:REINFORCE:Step norm: 1.0\n"
       ]
      },
      {
       "output_type": "stream",
       "stream": "stderr",
       "text": [
        "INFO:REINFORCE:Alpha: 0.0449461399066\n"
       ]
      },
      {
       "output_type": "stream",
       "stream": "stderr",
       "text": [
        "INFO:REINFORCE:Return from iter 0:  83995.870645\n"
       ]
      },
      {
       "output_type": "stream",
       "stream": "stderr",
       "text": [
        "INFO:REINFORCE:Return from iter 1:  88369.731211\n"
       ]
      },
      {
       "output_type": "stream",
       "stream": "stderr",
       "text": [
        "INFO:REINFORCE:Return from iter 2:  87119.954354\n"
       ]
      },
      {
       "output_type": "stream",
       "stream": "stderr",
       "text": [
        "INFO:REINFORCE:Return from iter 3:  86498.643234\n"
       ]
      },
      {
       "output_type": "stream",
       "stream": "stdout",
       "text": [
        "\n",
        "Return from iter 1:  88369.731211\n",
        "Return from iter 2:  87119.954354\n",
        "Return from iter 3:  86498.643234\n",
        "Updated theta with alpha: 0.0449461399066, theta norm: 1.0\n",
        "Return from iter 0:  89620.424358"
       ]
      },
      {
       "output_type": "stream",
       "stream": "stderr",
       "text": [
        "INFO:REINFORCE:********************Iteration: 173\n"
       ]
      },
      {
       "output_type": "stream",
       "stream": "stderr",
       "text": [
        "INFO:REINFORCE:Gradient step\n"
       ]
      },
      {
       "output_type": "stream",
       "stream": "stderr",
       "text": [
        "INFO:REINFORCE:Step norm: 1.0\n"
       ]
      },
      {
       "output_type": "stream",
       "stream": "stderr",
       "text": [
        "INFO:REINFORCE:Alpha: 0.0447936074969\n"
       ]
      },
      {
       "output_type": "stream",
       "stream": "stderr",
       "text": [
        "INFO:REINFORCE:Return from iter 0:  89620.424358\n"
       ]
      },
      {
       "output_type": "stream",
       "stream": "stderr",
       "text": [
        "INFO:REINFORCE:Return from iter 1:  85251.862109\n"
       ]
      },
      {
       "output_type": "stream",
       "stream": "stderr",
       "text": [
        "INFO:REINFORCE:Return from iter 2:  84626.862109\n"
       ]
      },
      {
       "output_type": "stream",
       "stream": "stderr",
       "text": [
        "INFO:REINFORCE:Return from iter 3:  88996.117505\n"
       ]
      },
      {
       "output_type": "stream",
       "stream": "stdout",
       "text": [
        "\n",
        "Return from iter 1:  85251.862109\n",
        "Return from iter 2:  84626.862109\n",
        "Return from iter 3:  88996.117505\n",
        "Updated theta with alpha: 0.0447936074969, theta norm: 1.0\n",
        "Return from iter 0:  85872.480083"
       ]
      },
      {
       "output_type": "stream",
       "stream": "stderr",
       "text": [
        "INFO:REINFORCE:********************Iteration: 174\n"
       ]
      },
      {
       "output_type": "stream",
       "stream": "stderr",
       "text": [
        "INFO:REINFORCE:Gradient step\n"
       ]
      },
      {
       "output_type": "stream",
       "stream": "stderr",
       "text": [
        "INFO:REINFORCE:Step norm: 1.0\n"
       ]
      },
      {
       "output_type": "stream",
       "stream": "stderr",
       "text": [
        "INFO:REINFORCE:Alpha: 0.0446424477111\n"
       ]
      },
      {
       "output_type": "stream",
       "stream": "stderr",
       "text": [
        "INFO:REINFORCE:Return from iter 0:  85872.480083\n"
       ]
      },
      {
       "output_type": "stream",
       "stream": "stderr",
       "text": [
        "INFO:REINFORCE:Return from iter 1:  85875.252672\n"
       ]
      },
      {
       "output_type": "stream",
       "stream": "stderr",
       "text": [
        "INFO:REINFORCE:Return from iter 2:  83377.778400\n"
       ]
      },
      {
       "output_type": "stream",
       "stream": "stderr",
       "text": [
        "INFO:REINFORCE:Return from iter 3:  87123.643234\n"
       ]
      },
      {
       "output_type": "stream",
       "stream": "stdout",
       "text": [
        "\n",
        "Return from iter 1:  85875.252672\n",
        "Return from iter 2:  83377.778400\n",
        "Return from iter 3:  87123.643234\n",
        "Updated theta with alpha: 0.0446424477111, theta norm: 1.0\n",
        "Return from iter 0:  85875.252672"
       ]
      },
      {
       "output_type": "stream",
       "stream": "stderr",
       "text": [
        "INFO:REINFORCE:********************Iteration: 175\n"
       ]
      },
      {
       "output_type": "stream",
       "stream": "stderr",
       "text": [
        "INFO:REINFORCE:Gradient step\n"
       ]
      },
      {
       "output_type": "stream",
       "stream": "stderr",
       "text": [
        "INFO:REINFORCE:Step norm: 1.0\n"
       ]
      },
      {
       "output_type": "stream",
       "stream": "stderr",
       "text": [
        "INFO:REINFORCE:Alpha: 0.0444926405892\n"
       ]
      },
      {
       "output_type": "stream",
       "stream": "stderr",
       "text": [
        "INFO:REINFORCE:Return from iter 0:  85875.252672\n"
       ]
      },
      {
       "output_type": "stream",
       "stream": "stderr",
       "text": [
        "INFO:REINFORCE:Return from iter 1:  86494.954354\n"
       ]
      },
      {
       "output_type": "stream",
       "stream": "stderr",
       "text": [
        "INFO:REINFORCE:Return from iter 2:  88995.424358\n"
       ]
      },
      {
       "output_type": "stream",
       "stream": "stderr",
       "text": [
        "INFO:REINFORCE:Return from iter 3:  85874.336381\n"
       ]
      },
      {
       "output_type": "stream",
       "stream": "stdout",
       "text": [
        "\n",
        "Return from iter 1:  86494.954354\n",
        "Return from iter 2:  88995.424358\n",
        "Return from iter 3:  85874.336381\n",
        "Updated theta with alpha: 0.0444926405892, theta norm: 1.0\n",
        "Return from iter 0:  82753.471547"
       ]
      },
      {
       "output_type": "stream",
       "stream": "stderr",
       "text": [
        "INFO:REINFORCE:********************Iteration: 176\n"
       ]
      },
      {
       "output_type": "stream",
       "stream": "stderr",
       "text": [
        "INFO:REINFORCE:Gradient step\n"
       ]
      },
      {
       "output_type": "stream",
       "stream": "stderr",
       "text": [
        "INFO:REINFORCE:Step norm: 1.0\n"
       ]
      },
      {
       "output_type": "stream",
       "stream": "stderr",
       "text": [
        "INFO:REINFORCE:Alpha: 0.044344166571\n"
       ]
      },
      {
       "output_type": "stream",
       "stream": "stderr",
       "text": [
        "INFO:REINFORCE:Return from iter 0:  82753.471547\n"
       ]
      },
      {
       "output_type": "stream",
       "stream": "stderr",
       "text": [
        "INFO:REINFORCE:Return from iter 1:  83994.261207\n"
       ]
      },
      {
       "output_type": "stream",
       "stream": "stderr",
       "text": [
        "INFO:REINFORCE:Return from iter 2:  83999.089521\n"
       ]
      },
      {
       "output_type": "stream",
       "stream": "stderr",
       "text": [
        "INFO:REINFORCE:Return from iter 3:  87123.643234\n"
       ]
      },
      {
       "output_type": "stream",
       "stream": "stdout",
       "text": [
        "\n",
        "Return from iter 1:  83994.261207\n",
        "Return from iter 2:  83999.089521\n",
        "Return from iter 3:  87123.643234\n",
        "Updated theta with alpha: 0.044344166571, theta norm: 1.0\n",
        "Return from iter 0:  84001.862109"
       ]
      },
      {
       "output_type": "stream",
       "stream": "stderr",
       "text": [
        "INFO:REINFORCE:********************Iteration: 177\n"
       ]
      },
      {
       "output_type": "stream",
       "stream": "stderr",
       "text": [
        "INFO:REINFORCE:Gradient step\n"
       ]
      },
      {
       "output_type": "stream",
       "stream": "stderr",
       "text": [
        "INFO:REINFORCE:Step norm: 1.0\n"
       ]
      },
      {
       "output_type": "stream",
       "stream": "stderr",
       "text": [
        "INFO:REINFORCE:Alpha: 0.0441970064857\n"
       ]
      },
      {
       "output_type": "stream",
       "stream": "stderr",
       "text": [
        "INFO:REINFORCE:Return from iter 0:  84001.862109\n"
       ]
      },
      {
       "output_type": "stream",
       "stream": "stderr",
       "text": [
        "INFO:REINFORCE:Return from iter 1:  85251.862109\n"
       ]
      },
      {
       "output_type": "stream",
       "stream": "stderr",
       "text": [
        "INFO:REINFORCE:Return from iter 2:  89619.038063\n"
       ]
      },
      {
       "output_type": "stream",
       "stream": "stderr",
       "text": [
        "INFO:REINFORCE:Return from iter 3:  89619.731211\n"
       ]
      },
      {
       "output_type": "stream",
       "stream": "stdout",
       "text": [
        "\n",
        "Return from iter 1:  85251.862109\n",
        "Return from iter 2:  89619.038063\n",
        "Return from iter 3:  89619.731211\n",
        "Updated theta with alpha: 0.0441970064857, theta norm: 1.0\n",
        "Return from iter 0:  88372.033796"
       ]
      },
      {
       "output_type": "stream",
       "stream": "stderr",
       "text": [
        "INFO:REINFORCE:********************Iteration: 178\n"
       ]
      },
      {
       "output_type": "stream",
       "stream": "stderr",
       "text": [
        "INFO:REINFORCE:Gradient step\n"
       ]
      },
      {
       "output_type": "stream",
       "stream": "stderr",
       "text": [
        "INFO:REINFORCE:Step norm: 1.0\n"
       ]
      },
      {
       "output_type": "stream",
       "stream": "stderr",
       "text": [
        "INFO:REINFORCE:Alpha: 0.0440511415421\n"
       ]
      },
      {
       "output_type": "stream",
       "stream": "stderr",
       "text": [
        "INFO:REINFORCE:Return from iter 0:  88372.033796\n"
       ]
      },
      {
       "output_type": "stream",
       "stream": "stderr",
       "text": [
        "INFO:REINFORCE:Return from iter 1:  85873.643234\n"
       ]
      },
      {
       "output_type": "stream",
       "stream": "stderr",
       "text": [
        "INFO:REINFORCE:Return from iter 2:  85246.563792\n"
       ]
      },
      {
       "output_type": "stream",
       "stream": "stderr",
       "text": [
        "INFO:REINFORCE:Return from iter 3:  84622.480083\n"
       ]
      },
      {
       "output_type": "stream",
       "stream": "stdout",
       "text": [
        "\n",
        "Return from iter 1:  85873.643234\n",
        "Return from iter 2:  85246.563792\n",
        "Return from iter 3:  84622.480083\n",
        "Updated theta with alpha: 0.0440511415421, theta norm: 1.0\n",
        "Return from iter 0:  88371.340649"
       ]
      },
      {
       "output_type": "stream",
       "stream": "stderr",
       "text": [
        "INFO:REINFORCE:********************Iteration: 179\n"
       ]
      },
      {
       "output_type": "stream",
       "stream": "stderr",
       "text": [
        "INFO:REINFORCE:Gradient step\n"
       ]
      },
      {
       "output_type": "stream",
       "stream": "stderr",
       "text": [
        "INFO:REINFORCE:Step norm: 1.0\n"
       ]
      },
      {
       "output_type": "stream",
       "stream": "stderr",
       "text": [
        "INFO:REINFORCE:Alpha: 0.043906553319\n"
       ]
      },
      {
       "output_type": "stream",
       "stream": "stderr",
       "text": [
        "INFO:REINFORCE:Return from iter 0:  88371.340649\n"
       ]
      },
      {
       "output_type": "stream",
       "stream": "stderr",
       "text": [
        "INFO:REINFORCE:Return from iter 1:  85250.252672\n"
       ]
      },
      {
       "output_type": "stream",
       "stream": "stderr",
       "text": [
        "INFO:REINFORCE:Return from iter 2:  87122.256939\n"
       ]
      },
      {
       "output_type": "stream",
       "stream": "stderr",
       "text": [
        "INFO:REINFORCE:Return from iter 3:  81505.080985\n"
       ]
      },
      {
       "output_type": "stream",
       "stream": "stdout",
       "text": [
        "\n",
        "Return from iter 1:  85250.252672\n",
        "Return from iter 2:  87122.256939\n",
        "Return from iter 3:  81505.080985\n",
        "Updated theta with alpha: 0.043906553319, theta norm: 1.0\n",
        "Return from iter 0:  87119.261207"
       ]
      },
      {
       "output_type": "stream",
       "stream": "stderr",
       "text": [
        "INFO:REINFORCE:********************Iteration: 180\n"
       ]
      },
      {
       "output_type": "stream",
       "stream": "stderr",
       "text": [
        "INFO:REINFORCE:Gradient step\n"
       ]
      },
      {
       "output_type": "stream",
       "stream": "stderr",
       "text": [
        "INFO:REINFORCE:Step norm: 1.0\n"
       ]
      },
      {
       "output_type": "stream",
       "stream": "stderr",
       "text": [
        "INFO:REINFORCE:Alpha: 0.0437632237562\n"
       ]
      },
      {
       "output_type": "stream",
       "stream": "stderr",
       "text": [
        "INFO:REINFORCE:Return from iter 0:  87119.261207\n"
       ]
      },
      {
       "output_type": "stream",
       "stream": "stderr",
       "text": [
        "INFO:REINFORCE:Return from iter 1:  79000.228955\n"
       ]
      },
      {
       "output_type": "stream",
       "stream": "stderr",
       "text": [
        "INFO:REINFORCE:Return from iter 2:  89618.344916\n"
       ]
      },
      {
       "output_type": "stream",
       "stream": "stderr",
       "text": [
        "INFO:REINFORCE:Return from iter 3:  84625.252672\n"
       ]
      },
      {
       "output_type": "stream",
       "stream": "stdout",
       "text": [
        "\n",
        "Return from iter 1:  79000.228955\n",
        "Return from iter 2:  89618.344916\n",
        "Return from iter 3:  84625.252672\n",
        "Updated theta with alpha: 0.0437632237562, theta norm: 1.0\n",
        "Return from iter 0:  87747.033796"
       ]
      },
      {
       "output_type": "stream",
       "stream": "stderr",
       "text": [
        "INFO:REINFORCE:********************Iteration: 181\n"
       ]
      },
      {
       "output_type": "stream",
       "stream": "stderr",
       "text": [
        "INFO:REINFORCE:Gradient step\n"
       ]
      },
      {
       "output_type": "stream",
       "stream": "stderr",
       "text": [
        "INFO:REINFORCE:Step norm: 1.0\n"
       ]
      },
      {
       "output_type": "stream",
       "stream": "stderr",
       "text": [
        "INFO:REINFORCE:Alpha: 0.0436211351451\n"
       ]
      },
      {
       "output_type": "stream",
       "stream": "stderr",
       "text": [
        "INFO:REINFORCE:Return from iter 0:  87747.033796\n"
       ]
      },
      {
       "output_type": "stream",
       "stream": "stderr",
       "text": [
        "INFO:REINFORCE:Return from iter 1:  90868.121773\n"
       ]
      },
      {
       "output_type": "stream",
       "stream": "stderr",
       "text": [
        "INFO:REINFORCE:Return from iter 2:  88371.340649\n"
       ]
      },
      {
       "output_type": "stream",
       "stream": "stderr",
       "text": [
        "INFO:REINFORCE:Return from iter 3:  86494.954354\n"
       ]
      },
      {
       "output_type": "stream",
       "stream": "stdout",
       "text": [
        "\n",
        "Return from iter 1:  90868.121773\n",
        "Return from iter 2:  88371.340649\n",
        "Return from iter 3:  86494.954354\n",
        "Updated theta with alpha: 0.0436211351451, theta norm: 1.0\n",
        "Return from iter 0:  87745.870645"
       ]
      },
      {
       "output_type": "stream",
       "stream": "stderr",
       "text": [
        "INFO:REINFORCE:********************Iteration: 182\n"
       ]
      },
      {
       "output_type": "stream",
       "stream": "stderr",
       "text": [
        "INFO:REINFORCE:Gradient step\n"
       ]
      },
      {
       "output_type": "stream",
       "stream": "stderr",
       "text": [
        "INFO:REINFORCE:Step norm: 1.0\n"
       ]
      },
      {
       "output_type": "stream",
       "stream": "stderr",
       "text": [
        "INFO:REINFORCE:Alpha: 0.0434802701204\n"
       ]
      },
      {
       "output_type": "stream",
       "stream": "stderr",
       "text": [
        "INFO:REINFORCE:Return from iter 0:  87745.870645\n"
       ]
      },
      {
       "output_type": "stream",
       "stream": "stderr",
       "text": [
        "INFO:REINFORCE:Return from iter 1:  88369.731211\n"
       ]
      },
      {
       "output_type": "stream",
       "stream": "stderr",
       "text": [
        "INFO:REINFORCE:Return from iter 2:  85875.252672\n"
       ]
      },
      {
       "output_type": "stream",
       "stream": "stderr",
       "text": [
        "INFO:REINFORCE:Return from iter 3:  85251.862109\n"
       ]
      },
      {
       "output_type": "stream",
       "stream": "stdout",
       "text": [
        "\n",
        "Return from iter 1:  88369.731211\n",
        "Return from iter 2:  85875.252672\n",
        "Return from iter 3:  85251.862109\n",
        "Updated theta with alpha: 0.0434802701204, theta norm: 1.0\n",
        "Return from iter 0:  86494.261207"
       ]
      },
      {
       "output_type": "stream",
       "stream": "stderr",
       "text": [
        "INFO:REINFORCE:********************Iteration: 183\n"
       ]
      },
      {
       "output_type": "stream",
       "stream": "stderr",
       "text": [
        "INFO:REINFORCE:Gradient step\n"
       ]
      },
      {
       "output_type": "stream",
       "stream": "stderr",
       "text": [
        "INFO:REINFORCE:Step norm: 1.0\n"
       ]
      },
      {
       "output_type": "stream",
       "stream": "stderr",
       "text": [
        "INFO:REINFORCE:Alpha: 0.0433406116514\n"
       ]
      },
      {
       "output_type": "stream",
       "stream": "stderr",
       "text": [
        "INFO:REINFORCE:Return from iter 0:  86494.261207\n"
       ]
      },
      {
       "output_type": "stream",
       "stream": "stderr",
       "text": [
        "INFO:REINFORCE:Return from iter 1:  91493.814920\n"
       ]
      },
      {
       "output_type": "stream",
       "stream": "stderr",
       "text": [
        "INFO:REINFORCE:Return from iter 2:  85251.862109\n"
       ]
      },
      {
       "output_type": "stream",
       "stream": "stderr",
       "text": [
        "INFO:REINFORCE:Return from iter 3:  82746.563792\n"
       ]
      },
      {
       "output_type": "stream",
       "stream": "stdout",
       "text": [
        "\n",
        "Return from iter 1:  91493.814920\n",
        "Return from iter 2:  85251.862109\n",
        "Return from iter 3:  82746.563792\n",
        "Updated theta with alpha: 0.0433406116514, theta norm: 1.0\n",
        "Return from iter 0:  85251.862109"
       ]
      },
      {
       "output_type": "stream",
       "stream": "stderr",
       "text": [
        "INFO:REINFORCE:********************Iteration: 184\n"
       ]
      },
      {
       "output_type": "stream",
       "stream": "stderr",
       "text": [
        "INFO:REINFORCE:Gradient step\n"
       ]
      },
      {
       "output_type": "stream",
       "stream": "stderr",
       "text": [
        "INFO:REINFORCE:Step norm: 1.0\n"
       ]
      },
      {
       "output_type": "stream",
       "stream": "stderr",
       "text": [
        "INFO:REINFORCE:Alpha: 0.0432021430338\n"
       ]
      },
      {
       "output_type": "stream",
       "stream": "stderr",
       "text": [
        "INFO:REINFORCE:Return from iter 0:  85251.862109\n"
       ]
      },
      {
       "output_type": "stream",
       "stream": "stderr",
       "text": [
        "INFO:REINFORCE:Return from iter 1:  87123.643234\n"
       ]
      },
      {
       "output_type": "stream",
       "stream": "stderr",
       "text": [
        "INFO:REINFORCE:Return from iter 2:  77750.452099\n"
       ]
      },
      {
       "output_type": "stream",
       "stream": "stderr",
       "text": [
        "INFO:REINFORCE:Return from iter 3:  87123.643234\n"
       ]
      },
      {
       "output_type": "stream",
       "stream": "stdout",
       "text": [
        "\n",
        "Return from iter 1:  87123.643234\n",
        "Return from iter 2:  77750.452099\n",
        "Return from iter 3:  87123.643234\n",
        "Updated theta with alpha: 0.0432021430338, theta norm: 1.0\n",
        "Return from iter 0:  87746.340649"
       ]
      },
      {
       "output_type": "stream",
       "stream": "stderr",
       "text": [
        "INFO:REINFORCE:********************Iteration: 185\n"
       ]
      },
      {
       "output_type": "stream",
       "stream": "stderr",
       "text": [
        "INFO:REINFORCE:Gradient step\n"
       ]
      },
      {
       "output_type": "stream",
       "stream": "stderr",
       "text": [
        "INFO:REINFORCE:Step norm: 1.0\n"
       ]
      },
      {
       "output_type": "stream",
       "stream": "stderr",
       "text": [
        "INFO:REINFORCE:Alpha: 0.043064847882\n"
       ]
      },
      {
       "output_type": "stream",
       "stream": "stderr",
       "text": [
        "INFO:REINFORCE:Return from iter 0:  87746.340649\n"
       ]
      },
      {
       "output_type": "stream",
       "stream": "stderr",
       "text": [
        "INFO:REINFORCE:Return from iter 1:  89620.424358\n"
       ]
      },
      {
       "output_type": "stream",
       "stream": "stderr",
       "text": [
        "INFO:REINFORCE:Return from iter 2:  87120.647501\n"
       ]
      },
      {
       "output_type": "stream",
       "stream": "stderr",
       "text": [
        "INFO:REINFORCE:Return from iter 3:  89619.731211\n"
       ]
      },
      {
       "output_type": "stream",
       "stream": "stdout",
       "text": [
        "\n",
        "Return from iter 1:  89620.424358\n",
        "Return from iter 2:  87120.647501\n",
        "Return from iter 3:  89619.731211\n",
        "Updated theta with alpha: 0.043064847882, theta norm: 1.0\n",
        "Return from iter 0:  88995.424358"
       ]
      },
      {
       "output_type": "stream",
       "stream": "stderr",
       "text": [
        "INFO:REINFORCE:********************Iteration: 186\n"
       ]
      },
      {
       "output_type": "stream",
       "stream": "stderr",
       "text": [
        "INFO:REINFORCE:Gradient step\n"
       ]
      },
      {
       "output_type": "stream",
       "stream": "stderr",
       "text": [
        "INFO:REINFORCE:Step norm: 1.0\n"
       ]
      },
      {
       "output_type": "stream",
       "stream": "stderr",
       "text": [
        "INFO:REINFORCE:Alpha: 0.042928710121\n"
       ]
      },
      {
       "output_type": "stream",
       "stream": "stderr",
       "text": [
        "INFO:REINFORCE:Return from iter 0:  88995.424358\n"
       ]
      },
      {
       "output_type": "stream",
       "stream": "stderr",
       "text": [
        "INFO:REINFORCE:Return from iter 1:  87123.643234\n"
       ]
      },
      {
       "output_type": "stream",
       "stream": "stderr",
       "text": [
        "INFO:REINFORCE:Return from iter 2:  88372.033796\n"
       ]
      },
      {
       "output_type": "stream",
       "stream": "stderr",
       "text": [
        "INFO:REINFORCE:Return from iter 3:  88370.647501\n"
       ]
      },
      {
       "output_type": "stream",
       "stream": "stdout",
       "text": [
        "\n",
        "Return from iter 1:  87123.643234\n",
        "Return from iter 2:  88372.033796\n",
        "Return from iter 3:  88370.647501\n",
        "Updated theta with alpha: 0.042928710121, theta norm: 1.0\n",
        "Return from iter 0:  88372.033796"
       ]
      },
      {
       "output_type": "stream",
       "stream": "stderr",
       "text": [
        "INFO:REINFORCE:********************Iteration: 187\n"
       ]
      },
      {
       "output_type": "stream",
       "stream": "stderr",
       "text": [
        "INFO:REINFORCE:Gradient step\n"
       ]
      },
      {
       "output_type": "stream",
       "stream": "stderr",
       "text": [
        "INFO:REINFORCE:Step norm: 1.0\n"
       ]
      },
      {
       "output_type": "stream",
       "stream": "stderr",
       "text": [
        "INFO:REINFORCE:Alpha: 0.0427937139791\n"
       ]
      },
      {
       "output_type": "stream",
       "stream": "stderr",
       "text": [
        "INFO:REINFORCE:Return from iter 0:  88372.033796\n"
       ]
      },
      {
       "output_type": "stream",
       "stream": "stderr",
       "text": [
        "INFO:REINFORCE:Return from iter 1:  87123.643234\n"
       ]
      },
      {
       "output_type": "stream",
       "stream": "stderr",
       "text": [
        "INFO:REINFORCE:Return from iter 2:  88370.647501\n"
       ]
      },
      {
       "output_type": "stream",
       "stream": "stderr",
       "text": [
        "INFO:REINFORCE:Return from iter 3:  88369.261207\n"
       ]
      },
      {
       "output_type": "stream",
       "stream": "stdout",
       "text": [
        "\n",
        "Return from iter 1:  87123.643234\n",
        "Return from iter 2:  88370.647501\n",
        "Return from iter 3:  88369.261207\n",
        "Updated theta with alpha: 0.0427937139791, theta norm: 1.0\n",
        "Return from iter 0:  82750.005811"
       ]
      },
      {
       "output_type": "stream",
       "stream": "stderr",
       "text": [
        "INFO:REINFORCE:********************Iteration: 188\n"
       ]
      },
      {
       "output_type": "stream",
       "stream": "stderr",
       "text": [
        "INFO:REINFORCE:Gradient step\n"
       ]
      },
      {
       "output_type": "stream",
       "stream": "stderr",
       "text": [
        "INFO:REINFORCE:Step norm: 1.0\n"
       ]
      },
      {
       "output_type": "stream",
       "stream": "stderr",
       "text": [
        "INFO:REINFORCE:Alpha: 0.0426598439808\n"
       ]
      },
      {
       "output_type": "stream",
       "stream": "stderr",
       "text": [
        "INFO:REINFORCE:Return from iter 0:  82750.005811\n"
       ]
      },
      {
       "output_type": "stream",
       "stream": "stderr",
       "text": [
        "INFO:REINFORCE:Return from iter 1:  88370.647501\n"
       ]
      },
      {
       "output_type": "stream",
       "stream": "stderr",
       "text": [
        "INFO:REINFORCE:Return from iter 2:  90868.121773\n"
       ]
      },
      {
       "output_type": "stream",
       "stream": "stderr",
       "text": [
        "INFO:REINFORCE:Return from iter 3:  80871.316932\n"
       ]
      },
      {
       "output_type": "stream",
       "stream": "stdout",
       "text": [
        "\n",
        "Return from iter 1:  88370.647501\n",
        "Return from iter 2:  90868.121773\n",
        "Return from iter 3:  80871.316932\n",
        "Updated theta with alpha: 0.0426598439808, theta norm: 1.0\n",
        "Return from iter 0:  69001.567816"
       ]
      },
      {
       "output_type": "stream",
       "stream": "stderr",
       "text": [
        "INFO:REINFORCE:********************Iteration: 189\n"
       ]
      },
      {
       "output_type": "stream",
       "stream": "stderr",
       "text": [
        "INFO:REINFORCE:Gradient step\n"
       ]
      },
      {
       "output_type": "stream",
       "stream": "stderr",
       "text": [
        "INFO:REINFORCE:Step norm: 1.0\n"
       ]
      },
      {
       "output_type": "stream",
       "stream": "stderr",
       "text": [
        "INFO:REINFORCE:Alpha: 0.0425270849395\n"
       ]
      },
      {
       "output_type": "stream",
       "stream": "stderr",
       "text": [
        "INFO:REINFORCE:Return from iter 0:  69001.567816\n"
       ]
      },
      {
       "output_type": "stream",
       "stream": "stderr",
       "text": [
        "INFO:REINFORCE:Return from iter 1:  89619.731211\n"
       ]
      },
      {
       "output_type": "stream",
       "stream": "stderr",
       "text": [
        "INFO:REINFORCE:Return from iter 2:  89619.038063\n"
       ]
      },
      {
       "output_type": "stream",
       "stream": "stderr",
       "text": [
        "INFO:REINFORCE:Return from iter 3:  90868.121773\n"
       ]
      },
      {
       "output_type": "stream",
       "stream": "stdout",
       "text": [
        "\n",
        "Return from iter 1:  89619.731211\n",
        "Return from iter 2:  89619.038063\n",
        "Return from iter 3:  90868.121773\n",
        "Updated theta with alpha: 0.0425270849395, theta norm: 1.0\n",
        "Return from iter 0:  89616.735478"
       ]
      },
      {
       "output_type": "stream",
       "stream": "stderr",
       "text": [
        "INFO:REINFORCE:********************Iteration: 190\n"
       ]
      },
      {
       "output_type": "stream",
       "stream": "stderr",
       "text": [
        "INFO:REINFORCE:Gradient step\n"
       ]
      },
      {
       "output_type": "stream",
       "stream": "stderr",
       "text": [
        "INFO:REINFORCE:Step norm: 1.0\n"
       ]
      },
      {
       "output_type": "stream",
       "stream": "stderr",
       "text": [
        "INFO:REINFORCE:Alpha: 0.0423954219506\n"
       ]
      },
      {
       "output_type": "stream",
       "stream": "stderr",
       "text": [
        "INFO:REINFORCE:Return from iter 0:  89616.735478\n"
       ]
      },
      {
       "output_type": "stream",
       "stream": "stderr",
       "text": [
        "INFO:REINFORCE:Return from iter 1:  75875.675242\n"
       ]
      },
      {
       "output_type": "stream",
       "stream": "stderr",
       "text": [
        "INFO:REINFORCE:Return from iter 2:  88995.424358\n"
       ]
      },
      {
       "output_type": "stream",
       "stream": "stderr",
       "text": [
        "INFO:REINFORCE:Return from iter 3:  90243.814920\n"
       ]
      },
      {
       "output_type": "stream",
       "stream": "stdout",
       "text": [
        "\n",
        "Return from iter 1:  75875.675242\n",
        "Return from iter 2:  88995.424358\n",
        "Return from iter 3:  90243.814920\n",
        "Updated theta with alpha: 0.0423954219506, theta norm: 1.0\n",
        "Return from iter 0:  87122.950086"
       ]
      },
      {
       "output_type": "stream",
       "stream": "stderr",
       "text": [
        "INFO:REINFORCE:********************Iteration: 191\n"
       ]
      },
      {
       "output_type": "stream",
       "stream": "stderr",
       "text": [
        "INFO:REINFORCE:Gradient step\n"
       ]
      },
      {
       "output_type": "stream",
       "stream": "stderr",
       "text": [
        "INFO:REINFORCE:Step norm: 1.0\n"
       ]
      },
      {
       "output_type": "stream",
       "stream": "stderr",
       "text": [
        "INFO:REINFORCE:Alpha: 0.042264840385\n"
       ]
      },
      {
       "output_type": "stream",
       "stream": "stderr",
       "text": [
        "INFO:REINFORCE:Return from iter 0:  87122.950086\n"
       ]
      },
      {
       "output_type": "stream",
       "stream": "stderr",
       "text": [
        "INFO:REINFORCE:Return from iter 1:  80256.690423\n"
       ]
      },
      {
       "output_type": "stream",
       "stream": "stderr",
       "text": [
        "INFO:REINFORCE:Return from iter 2:  85251.862109\n"
       ]
      },
      {
       "output_type": "stream",
       "stream": "stderr",
       "text": [
        "INFO:REINFORCE:Return from iter 3:  88372.033796\n"
       ]
      },
      {
       "output_type": "stream",
       "stream": "stdout",
       "text": [
        "\n",
        "Return from iter 1:  80256.690423\n",
        "Return from iter 2:  85251.862109\n",
        "Return from iter 3:  88372.033796\n",
        "Updated theta with alpha: 0.042264840385, theta norm: 1.0\n",
        "Return from iter 0:  82749.089521"
       ]
      },
      {
       "output_type": "stream",
       "stream": "stderr",
       "text": [
        "INFO:REINFORCE:********************Iteration: 192\n"
       ]
      },
      {
       "output_type": "stream",
       "stream": "stderr",
       "text": [
        "INFO:REINFORCE:Gradient step\n"
       ]
      },
      {
       "output_type": "stream",
       "stream": "stderr",
       "text": [
        "INFO:REINFORCE:Step norm: 1.0\n"
       ]
      },
      {
       "output_type": "stream",
       "stream": "stderr",
       "text": [
        "INFO:REINFORCE:Alpha: 0.0421353258826\n"
       ]
      },
      {
       "output_type": "stream",
       "stream": "stderr",
       "text": [
        "INFO:REINFORCE:Return from iter 0:  82749.089521\n"
       ]
      },
      {
       "output_type": "stream",
       "stream": "stderr",
       "text": [
        "INFO:REINFORCE:Return from iter 1:  87116.735478\n"
       ]
      },
      {
       "output_type": "stream",
       "stream": "stderr",
       "text": [
        "INFO:REINFORCE:Return from iter 2:  85875.252672\n"
       ]
      },
      {
       "output_type": "stream",
       "stream": "stderr",
       "text": [
        "INFO:REINFORCE:Return from iter 3:  90244.731211\n"
       ]
      },
      {
       "output_type": "stream",
       "stream": "stdout",
       "text": [
        "\n",
        "Return from iter 1:  87116.735478\n",
        "Return from iter 2:  85875.252672\n",
        "Return from iter 3:  90244.731211\n",
        "Updated theta with alpha: 0.0421353258826, theta norm: 1.0\n",
        "Return from iter 0:  90868.121773"
       ]
      },
      {
       "output_type": "stream",
       "stream": "stderr",
       "text": [
        "INFO:REINFORCE:********************Iteration: 193\n"
       ]
      },
      {
       "output_type": "stream",
       "stream": "stderr",
       "text": [
        "INFO:REINFORCE:Gradient step\n"
       ]
      },
      {
       "output_type": "stream",
       "stream": "stderr",
       "text": [
        "INFO:REINFORCE:Step norm: 1.0\n"
       ]
      },
      {
       "output_type": "stream",
       "stream": "stderr",
       "text": [
        "INFO:REINFORCE:Alpha: 0.042006864346\n"
       ]
      },
      {
       "output_type": "stream",
       "stream": "stderr",
       "text": [
        "INFO:REINFORCE:Return from iter 0:  90868.121773\n"
       ]
      },
      {
       "output_type": "stream",
       "stream": "stderr",
       "text": [
        "INFO:REINFORCE:Return from iter 1:  87747.033796\n"
       ]
      },
      {
       "output_type": "stream",
       "stream": "stderr",
       "text": [
        "INFO:REINFORCE:Return from iter 2:  76499.758951\n"
       ]
      },
      {
       "output_type": "stream",
       "stream": "stderr",
       "text": [
        "INFO:REINFORCE:Return from iter 3:  80250.005811\n"
       ]
      },
      {
       "output_type": "stream",
       "stream": "stdout",
       "text": [
        "\n",
        "Return from iter 1:  87747.033796\n",
        "Return from iter 2:  76499.758951\n",
        "Return from iter 3:  80250.005811\n",
        "Updated theta with alpha: 0.042006864346, theta norm: 1.0\n",
        "Return from iter 0:  87746.340649"
       ]
      },
      {
       "output_type": "stream",
       "stream": "stderr",
       "text": [
        "INFO:REINFORCE:********************Iteration: 194\n"
       ]
      },
      {
       "output_type": "stream",
       "stream": "stderr",
       "text": [
        "INFO:REINFORCE:Gradient step\n"
       ]
      },
      {
       "output_type": "stream",
       "stream": "stderr",
       "text": [
        "INFO:REINFORCE:Step norm: 1.0\n"
       ]
      },
      {
       "output_type": "stream",
       "stream": "stderr",
       "text": [
        "INFO:REINFORCE:Alpha: 0.0418794419344\n"
       ]
      },
      {
       "output_type": "stream",
       "stream": "stderr",
       "text": [
        "INFO:REINFORCE:Return from iter 0:  87746.340649\n"
       ]
      },
      {
       "output_type": "stream",
       "stream": "stderr",
       "text": [
        "INFO:REINFORCE:Return from iter 1:  88372.033796\n"
       ]
      },
      {
       "output_type": "stream",
       "stream": "stderr",
       "text": [
        "INFO:REINFORCE:Return from iter 2:  85872.256939\n"
       ]
      },
      {
       "output_type": "stream",
       "stream": "stderr",
       "text": [
        "INFO:REINFORCE:Return from iter 3:  84627.555257\n"
       ]
      },
      {
       "output_type": "stream",
       "stream": "stdout",
       "text": [
        "\n",
        "Return from iter 1:  88372.033796\n",
        "Return from iter 2:  85872.256939\n",
        "Return from iter 3:  84627.555257\n",
        "Updated theta with alpha: 0.0418794419344, theta norm: 1.0\n",
        "Return from iter 0:  89619.731211"
       ]
      },
      {
       "output_type": "stream",
       "stream": "stderr",
       "text": [
        "INFO:REINFORCE:********************Iteration: 195\n"
       ]
      },
      {
       "output_type": "stream",
       "stream": "stderr",
       "text": [
        "INFO:REINFORCE:Gradient step\n"
       ]
      },
      {
       "output_type": "stream",
       "stream": "stderr",
       "text": [
        "INFO:REINFORCE:Step norm: 1.0\n"
       ]
      },
      {
       "output_type": "stream",
       "stream": "stderr",
       "text": [
        "INFO:REINFORCE:Alpha: 0.0417530450576\n"
       ]
      },
      {
       "output_type": "stream",
       "stream": "stderr",
       "text": [
        "INFO:REINFORCE:Return from iter 0:  89619.731211\n"
       ]
      },
      {
       "output_type": "stream",
       "stream": "stderr",
       "text": [
        "INFO:REINFORCE:Return from iter 1:  82128.471547\n"
       ]
      },
      {
       "output_type": "stream",
       "stream": "stderr",
       "text": [
        "INFO:REINFORCE:Return from iter 2:  88371.340649\n"
       ]
      },
      {
       "output_type": "stream",
       "stream": "stderr",
       "text": [
        "INFO:REINFORCE:Return from iter 3:  89619.731211\n"
       ]
      },
      {
       "output_type": "stream",
       "stream": "stdout",
       "text": [
        "\n",
        "Return from iter 1:  82128.471547\n",
        "Return from iter 2:  88371.340649\n",
        "Return from iter 3:  89619.731211\n",
        "Updated theta with alpha: 0.0417530450576, theta norm: 1.0\n",
        "Return from iter 0:  89619.731211"
       ]
      },
      {
       "output_type": "stream",
       "stream": "stderr",
       "text": [
        "INFO:REINFORCE:********************Iteration: 196\n"
       ]
      },
      {
       "output_type": "stream",
       "stream": "stderr",
       "text": [
        "INFO:REINFORCE:Gradient step\n"
       ]
      },
      {
       "output_type": "stream",
       "stream": "stderr",
       "text": [
        "INFO:REINFORCE:Step norm: 1.0\n"
       ]
      },
      {
       "output_type": "stream",
       "stream": "stderr",
       "text": [
        "INFO:REINFORCE:Alpha: 0.0416276603701\n"
       ]
      },
      {
       "output_type": "stream",
       "stream": "stderr",
       "text": [
        "INFO:REINFORCE:Return from iter 0:  89619.731211\n"
       ]
      },
      {
       "output_type": "stream",
       "stream": "stderr",
       "text": [
        "INFO:REINFORCE:Return from iter 1:  89619.731211\n"
       ]
      },
      {
       "output_type": "stream",
       "stream": "stderr",
       "text": [
        "INFO:REINFORCE:Return from iter 2:  84001.862109\n"
       ]
      },
      {
       "output_type": "stream",
       "stream": "stderr",
       "text": [
        "INFO:REINFORCE:Return from iter 3:  88993.344916\n"
       ]
      },
      {
       "output_type": "stream",
       "stream": "stdout",
       "text": [
        "\n",
        "Return from iter 1:  89619.731211\n",
        "Return from iter 2:  84001.862109\n",
        "Return from iter 3:  88993.344916\n",
        "Updated theta with alpha: 0.0416276603701, theta norm: 1.0\n",
        "Return from iter 0:  85250.252672"
       ]
      },
      {
       "output_type": "stream",
       "stream": "stderr",
       "text": [
        "INFO:REINFORCE:********************Iteration: 197\n"
       ]
      },
      {
       "output_type": "stream",
       "stream": "stderr",
       "text": [
        "INFO:REINFORCE:Gradient step\n"
       ]
      },
      {
       "output_type": "stream",
       "stream": "stderr",
       "text": [
        "INFO:REINFORCE:Step norm: 1.0\n"
       ]
      },
      {
       "output_type": "stream",
       "stream": "stderr",
       "text": [
        "INFO:REINFORCE:Alpha: 0.041503274766\n"
       ]
      },
      {
       "output_type": "stream",
       "stream": "stderr",
       "text": [
        "INFO:REINFORCE:Return from iter 0:  85250.252672\n"
       ]
      },
      {
       "output_type": "stream",
       "stream": "stderr",
       "text": [
        "INFO:REINFORCE:Return from iter 1:  89619.038063\n"
       ]
      },
      {
       "output_type": "stream",
       "stream": "stderr",
       "text": [
        "INFO:REINFORCE:Return from iter 2:  85251.862109\n"
       ]
      },
      {
       "output_type": "stream",
       "stream": "stderr",
       "text": [
        "INFO:REINFORCE:Return from iter 3:  88994.731211\n"
       ]
      },
      {
       "output_type": "stream",
       "stream": "stdout",
       "text": [
        "\n",
        "Return from iter 1:  89619.038063\n",
        "Return from iter 2:  85251.862109\n",
        "Return from iter 3:  88994.731211\n",
        "Updated theta with alpha: 0.041503274766, theta norm: 1.0\n",
        "Return from iter 0:  85251.862109"
       ]
      },
      {
       "output_type": "stream",
       "stream": "stderr",
       "text": [
        "INFO:REINFORCE:********************Iteration: 198\n"
       ]
      },
      {
       "output_type": "stream",
       "stream": "stderr",
       "text": [
        "INFO:REINFORCE:Gradient step\n"
       ]
      },
      {
       "output_type": "stream",
       "stream": "stderr",
       "text": [
        "INFO:REINFORCE:Step norm: 1.0\n"
       ]
      },
      {
       "output_type": "stream",
       "stream": "stderr",
       "text": [
        "INFO:REINFORCE:Alpha: 0.0413798753729\n"
       ]
      },
      {
       "output_type": "stream",
       "stream": "stderr",
       "text": [
        "INFO:REINFORCE:Return from iter 0:  85251.862109\n"
       ]
      },
      {
       "output_type": "stream",
       "stream": "stderr",
       "text": [
        "INFO:REINFORCE:Return from iter 1:  87122.950086\n"
       ]
      },
      {
       "output_type": "stream",
       "stream": "stderr",
       "text": [
        "INFO:REINFORCE:Return from iter 2:  65258.698715\n"
       ]
      },
      {
       "output_type": "stream",
       "stream": "stderr",
       "text": [
        "INFO:REINFORCE:Return from iter 3:  85870.870645\n"
       ]
      },
      {
       "output_type": "stream",
       "stream": "stdout",
       "text": [
        "\n",
        "Return from iter 1:  87122.950086\n",
        "Return from iter 2:  65258.698715\n",
        "Return from iter 3:  85870.870645\n",
        "Updated theta with alpha: 0.0413798753729, theta norm: 1.0\n",
        "Return from iter 0:  75881.443563"
       ]
      },
      {
       "output_type": "stream",
       "stream": "stderr",
       "text": [
        "INFO:REINFORCE:********************Iteration: 199\n"
       ]
      },
      {
       "output_type": "stream",
       "stream": "stderr",
       "text": [
        "INFO:REINFORCE:Gradient step\n"
       ]
      },
      {
       "output_type": "stream",
       "stream": "stderr",
       "text": [
        "INFO:REINFORCE:Step norm: 1.0\n"
       ]
      },
      {
       "output_type": "stream",
       "stream": "stderr",
       "text": [
        "INFO:REINFORCE:Alpha: 0.0412574495471\n"
       ]
      },
      {
       "output_type": "stream",
       "stream": "stderr",
       "text": [
        "INFO:REINFORCE:Return from iter 0:  75881.443563\n"
       ]
      },
      {
       "output_type": "stream",
       "stream": "stderr",
       "text": [
        "INFO:REINFORCE:Return from iter 1:  87123.643234\n"
       ]
      },
      {
       "output_type": "stream",
       "stream": "stderr",
       "text": [
        "INFO:REINFORCE:Return from iter 2:  89619.731211\n"
       ]
      },
      {
       "output_type": "stream",
       "stream": "stderr",
       "text": [
        "INFO:REINFORCE:Return from iter 3:  88372.033796\n"
       ]
      },
      {
       "output_type": "stream",
       "stream": "stdout",
       "text": [
        "\n",
        "Return from iter 1:  87123.643234\n",
        "Return from iter 2:  89619.731211\n",
        "Return from iter 3:  88372.033796\n",
        "Updated theta with alpha: 0.0412574495471, theta norm: 1.0\n",
        "********************************************************************************\n",
        "State: <1.000000, 1.000000>\n",
        "xxxxxx\n",
        "xA   x\n",
        "x    x\n",
        "x  G x\n",
        "xxxxxx\n",
        "In goal: False\n",
        "In pit: False\n",
        "In puddle: False\n",
        "Action: 2\n",
        "New state: <1.391690, 1.010912>\n",
        "Reward: -1\n",
        "State: <1.391690, 1.010912>\n",
        "xxxxxx\n",
        "xA   x\n",
        "x    x\n",
        "x  G x\n",
        "xxxxxx\n",
        "In goal: False\n",
        "In pit: False\n",
        "In puddle: False"
       ]
      },
      {
       "output_type": "stream",
       "stream": "stdout",
       "text": [
        "\n",
        "Action: 1\n",
        "New state: <1.385885, 1.408627>\n",
        "Reward: -1\n",
        "State: <1.385885, 1.408627>\n",
        "xxxxxx\n",
        "xA   x\n",
        "x    x\n",
        "x  G x\n",
        "xxxxxx\n",
        "In goal: False\n",
        "In pit: False\n",
        "In puddle: False"
       ]
      },
      {
       "output_type": "stream",
       "stream": "stdout",
       "text": [
        "\n",
        "Action: 2\n",
        "New state: <1.781237, 1.399230>\n",
        "Reward: -1\n",
        "State: <1.781237, 1.399230>\n",
        "xxxxxx\n",
        "xS   x\n",
        "xA   x\n",
        "x  G x\n",
        "xxxxxx\n",
        "In goal: False\n",
        "In pit: False\n",
        "In puddle: False"
       ]
      },
      {
       "output_type": "stream",
       "stream": "stdout",
       "text": [
        "\n",
        "Action: 2\n",
        "New state: <2.180609, 1.412141>\n",
        "Reward: -1\n",
        "State: <2.180609, 1.412141>\n",
        "xxxxxx\n",
        "xS   x\n",
        "xA   x\n",
        "x  G x\n",
        "xxxxxx\n",
        "In goal: False\n",
        "In pit: False\n",
        "In puddle: False"
       ]
      },
      {
       "output_type": "stream",
       "stream": "stdout",
       "text": [
        "\n",
        "Action: 2\n",
        "New state: <2.590666, 1.411145>\n",
        "Reward: -1\n",
        "State: <2.590666, 1.411145>\n",
        "xxxxxx\n",
        "xS   x\n",
        "x    x\n",
        "xA G x\n",
        "xxxxxx\n",
        "In goal: False\n",
        "In pit: False\n",
        "In puddle: False"
       ]
      },
      {
       "output_type": "stream",
       "stream": "stdout",
       "text": [
        "\n",
        "Action: 2\n",
        "New state: <3.007486, 1.422049>\n",
        "Reward: -1\n",
        "State: <3.007486, 1.422049>\n",
        "xxxxxx\n",
        "xS   x\n",
        "x    x\n",
        "xA G x\n",
        "xxxxxx\n",
        "In goal: False\n",
        "In pit: False\n",
        "In puddle: False"
       ]
      },
      {
       "output_type": "stream",
       "stream": "stdout",
       "text": [
        "\n",
        "Action: 1\n",
        "New state: <3.007133, 1.827331>\n",
        "Reward: -1\n",
        "State: <3.007133, 1.827331>\n",
        "xxxxxx\n",
        "xS   x\n",
        "x    x\n",
        "x AG x\n",
        "xxxxxx\n",
        "In goal: False\n",
        "In pit: False\n",
        "In puddle: False"
       ]
      },
      {
       "output_type": "stream",
       "stream": "stdout",
       "text": [
        "\n",
        "Action: 1\n",
        "New state: <3.021490, 2.212040>\n",
        "Reward: -1\n",
        "State: <3.021490, 2.212040>\n",
        "xxxxxx\n",
        "xS   x\n",
        "x    x\n",
        "x AG x\n",
        "xxxxxx\n",
        "In goal: False\n",
        "In pit: False\n",
        "In puddle: False"
       ]
      },
      {
       "output_type": "stream",
       "stream": "stdout",
       "text": [
        "\n",
        "Action: 1\n",
        "New state: <3.006161, 2.610850>\n",
        "Reward: 0\n",
        "State: <3.006161, 2.610850>\n",
        "xxxxxx\n",
        "xS   x\n",
        "x    x\n",
        "x  A x\n",
        "xxxxxx\n",
        "In goal: False\n",
        "In pit: False\n",
        "In puddle: False"
       ]
      },
      {
       "output_type": "stream",
       "stream": "stdout",
       "text": [
        "\n",
        "Action: 2\n",
        "New state: <3.409061, 2.621520>\n",
        "Reward: -1\n",
        "State: <3.409061, 2.621520>\n",
        "xxxxxx\n",
        "xS   x\n",
        "x    x\n",
        "x  A x\n",
        "xxxxxx\n",
        "In goal: False\n",
        "In pit: False\n",
        "In puddle: False"
       ]
      },
      {
       "output_type": "stream",
       "stream": "stdout",
       "text": [
        "\n",
        "Action: 1\n",
        "New state: <3.389098, 3.021565>\n",
        "Reward: 0\n",
        "State: <3.389098, 3.021565>\n",
        "xxxxxx\n",
        "xS   x\n",
        "x    x\n",
        "x  A x\n",
        "xxxxxx\n",
        "In goal: False\n",
        "In pit: False\n",
        "In puddle: False"
       ]
      },
      {
       "output_type": "stream",
       "stream": "stdout",
       "text": [
        "\n",
        "Action: 2\n",
        "New state: <3.389098, 3.021565>\n",
        "Reward: 0\n",
        "State: <3.389098, 3.021565>\n",
        "xxxxxx\n",
        "xS   x\n",
        "x    x\n",
        "x  A x\n",
        "xxxxxx\n",
        "In goal: False\n",
        "In pit: False\n",
        "In puddle: False"
       ]
      },
      {
       "output_type": "stream",
       "stream": "stdout",
       "text": [
        "\n",
        "Action: 2\n",
        "New state: <3.389098, 3.021565>\n",
        "Reward: 0\n",
        "State: <3.389098, 3.021565>\n",
        "xxxxxx\n",
        "xS   x\n",
        "x    x\n",
        "x  A x\n",
        "xxxxxx\n",
        "In goal: False\n",
        "In pit: False\n",
        "In puddle: False"
       ]
      },
      {
       "output_type": "stream",
       "stream": "stdout",
       "text": [
        "\n",
        "Action: 2\n",
        "New state: <3.389098, 3.021565>\n",
        "Reward: 0\n",
        "State: <3.389098, 3.021565>\n",
        "xxxxxx\n",
        "xS   x\n",
        "x    x\n",
        "x  A x\n",
        "xxxxxx\n",
        "In goal: False\n",
        "In pit: False\n",
        "In puddle: False"
       ]
      },
      {
       "output_type": "stream",
       "stream": "stdout",
       "text": [
        "\n",
        "Action: 2\n",
        "New state: <3.389098, 3.021565>\n",
        "Reward: 0\n",
        "State: <3.389098, 3.021565>\n",
        "xxxxxx\n",
        "xS   x\n",
        "x    x\n",
        "x  A x\n",
        "xxxxxx\n",
        "In goal: False\n",
        "In pit: False\n",
        "In puddle: False"
       ]
      },
      {
       "output_type": "stream",
       "stream": "stdout",
       "text": [
        "\n",
        "Action: 2\n",
        "New state: <3.389098, 3.021565>\n",
        "Reward: 0\n",
        "State: <3.389098, 3.021565>\n",
        "xxxxxx\n",
        "xS   x\n",
        "x    x\n",
        "x  A x\n",
        "xxxxxx\n",
        "In goal: False\n",
        "In pit: False\n",
        "In puddle: False"
       ]
      },
      {
       "output_type": "stream",
       "stream": "stdout",
       "text": [
        "\n",
        "Action: 2\n",
        "New state: <3.389098, 3.021565>\n",
        "Reward: 0\n",
        "State: <3.389098, 3.021565>\n",
        "xxxxxx\n",
        "xS   x\n",
        "x    x\n",
        "x  A x\n",
        "xxxxxx\n",
        "In goal: False\n",
        "In pit: False\n",
        "In puddle: False"
       ]
      },
      {
       "output_type": "stream",
       "stream": "stdout",
       "text": [
        "\n",
        "Action: 2\n",
        "New state: <3.389098, 3.021565>\n",
        "Reward: 0\n",
        "State: <3.389098, 3.021565>\n",
        "xxxxxx\n",
        "xS   x\n",
        "x    x\n",
        "x  A x\n",
        "xxxxxx\n",
        "In goal: False\n",
        "In pit: False\n",
        "In puddle: False"
       ]
      },
      {
       "output_type": "stream",
       "stream": "stdout",
       "text": [
        "\n",
        "Action: 2\n",
        "New state: <3.389098, 3.021565>\n",
        "Reward: 0\n",
        "State: <3.389098, 3.021565>\n",
        "xxxxxx\n",
        "xS   x\n",
        "x    x\n",
        "x  A x\n",
        "xxxxxx\n",
        "In goal: False\n",
        "In pit: False\n",
        "In puddle: False"
       ]
      },
      {
       "output_type": "stream",
       "stream": "stdout",
       "text": [
        "\n",
        "Action: 2\n",
        "New state: <3.389098, 3.021565>\n",
        "Reward: 0\n",
        "State: <3.389098, 3.021565>\n",
        "xxxxxx\n",
        "xS   x\n",
        "x    x\n",
        "x  A x\n",
        "xxxxxx\n",
        "In goal: False\n",
        "In pit: False\n",
        "In puddle: False"
       ]
      },
      {
       "output_type": "stream",
       "stream": "stdout",
       "text": [
        "\n",
        "Action: 2\n",
        "New state: <3.389098, 3.021565>\n",
        "Reward: 0\n",
        "State: <3.389098, 3.021565>\n",
        "xxxxxx\n",
        "xS   x\n",
        "x    x\n",
        "x  A x\n",
        "xxxxxx\n",
        "In goal: False\n",
        "In pit: False\n",
        "In puddle: False"
       ]
      },
      {
       "output_type": "stream",
       "stream": "stdout",
       "text": [
        "\n",
        "Action: 3\n",
        "New state: <3.391922, 2.626703>\n",
        "Reward: -1\n",
        "State: <3.391922, 2.626703>\n",
        "xxxxxx\n",
        "xS   x\n",
        "x    x\n",
        "x  A x\n",
        "xxxxxx\n",
        "In goal: False\n",
        "In pit: False\n",
        "In puddle: False"
       ]
      },
      {
       "output_type": "stream",
       "stream": "stdout",
       "text": [
        "\n",
        "Action: 2\n",
        "New state: <3.391922, 2.626703>\n",
        "Reward: -1\n",
        "State: <3.391922, 2.626703>\n",
        "xxxxxx\n",
        "xS   x\n",
        "x    x\n",
        "x  A x\n",
        "xxxxxx\n",
        "In goal: False\n",
        "In pit: False\n",
        "In puddle: False"
       ]
      },
      {
       "output_type": "stream",
       "stream": "stdout",
       "text": [
        "\n",
        "Action: 1\n",
        "New state: <3.399755, 3.014019>\n",
        "Reward: 0\n",
        "State: <3.399755, 3.014019>\n",
        "xxxxxx\n",
        "xS   x\n",
        "x    x\n",
        "x  A x\n",
        "xxxxxx\n",
        "In goal: False\n",
        "In pit: False\n",
        "In puddle: False"
       ]
      },
      {
       "output_type": "stream",
       "stream": "stdout",
       "text": [
        "\n",
        "Action: 2\n",
        "New state: <3.399755, 3.014019>\n",
        "Reward: 0\n",
        "State: <3.399755, 3.014019>\n",
        "xxxxxx\n",
        "xS   x\n",
        "x    x\n",
        "x  A x\n",
        "xxxxxx\n",
        "In goal: False\n",
        "In pit: False\n",
        "In puddle: False"
       ]
      },
      {
       "output_type": "stream",
       "stream": "stdout",
       "text": [
        "\n",
        "Action: 2\n",
        "New state: <3.399755, 3.014019>\n",
        "Reward: 0\n",
        "State: <3.399755, 3.014019>\n",
        "xxxxxx\n",
        "xS   x\n",
        "x    x\n",
        "x  A x\n",
        "xxxxxx\n",
        "In goal: False\n",
        "In pit: False\n",
        "In puddle: False"
       ]
      },
      {
       "output_type": "stream",
       "stream": "stdout",
       "text": [
        "\n",
        "Action: 2\n",
        "New state: <3.399755, 3.014019>\n",
        "Reward: 0\n",
        "State: <3.399755, 3.014019>\n",
        "xxxxxx\n",
        "xS   x\n",
        "x    x\n",
        "x  A x\n",
        "xxxxxx\n",
        "In goal: False\n",
        "In pit: False\n",
        "In puddle: False"
       ]
      },
      {
       "output_type": "stream",
       "stream": "stdout",
       "text": [
        "\n",
        "Action: 2\n",
        "New state: <3.399755, 3.014019>\n",
        "Reward: 0\n",
        "State: <3.399755, 3.014019>\n",
        "xxxxxx\n",
        "xS   x\n",
        "x    x\n",
        "x  A x\n",
        "xxxxxx\n",
        "In goal: False\n",
        "In pit: False\n",
        "In puddle: False"
       ]
      },
      {
       "output_type": "stream",
       "stream": "stdout",
       "text": [
        "\n",
        "Action: 2\n",
        "New state: <3.399755, 3.014019>\n",
        "Reward: 0\n",
        "State: <3.399755, 3.014019>\n",
        "xxxxxx\n",
        "xS   x\n",
        "x    x\n",
        "x  A x\n",
        "xxxxxx\n",
        "In goal: False\n",
        "In pit: False\n",
        "In puddle: False"
       ]
      },
      {
       "output_type": "stream",
       "stream": "stdout",
       "text": [
        "\n",
        "Action: 2\n",
        "New state: <3.399755, 3.014019>\n",
        "Reward: 0\n",
        "State: <3.399755, 3.014019>\n",
        "xxxxxx\n",
        "xS   x\n",
        "x    x\n",
        "x  A x\n",
        "xxxxxx\n",
        "In goal: False\n",
        "In pit: False\n",
        "In puddle: False"
       ]
      },
      {
       "output_type": "stream",
       "stream": "stdout",
       "text": [
        "\n",
        "********************************************************************************\n",
        "State: <1.000000, 1.000000>\n",
        "xxxxxx\n",
        "xA   x\n",
        "x    x\n",
        "x  G x\n",
        "xxxxxx\n",
        "In goal: False\n",
        "In pit: False\n",
        "In puddle: False\n",
        "Action: 2\n",
        "New state: <1.408166, 1.014842>\n",
        "Reward: -1\n",
        "State: <1.408166, 1.014842>\n",
        "xxxxxx\n",
        "xA   x\n",
        "x    x\n",
        "x  G x\n",
        "xxxxxx\n",
        "In goal: False\n",
        "In pit: False\n",
        "In puddle: False"
       ]
      },
      {
       "output_type": "stream",
       "stream": "stdout",
       "text": [
        "\n",
        "Action: 3\n",
        "New state: <1.402918, 0.621615>\n",
        "Reward: -1\n",
        "State: <1.402918, 0.621615>\n",
        "xxxxxx\n",
        "xA   x\n",
        "x    x\n",
        "x  G x\n",
        "xxxxxx\n",
        "In goal: False\n",
        "In pit: False\n",
        "In puddle: False"
       ]
      },
      {
       "output_type": "stream",
       "stream": "stdout",
       "text": [
        "\n",
        "Action: 2\n",
        "New state: <1.785376, 0.605513>\n",
        "Reward: -1\n",
        "State: <1.785376, 0.605513>\n",
        "xxxxxx\n",
        "xS   x\n",
        "xA   x\n",
        "x  G x\n",
        "xxxxxx\n",
        "In goal: False\n",
        "In pit: False\n",
        "In puddle: False"
       ]
      },
      {
       "output_type": "stream",
       "stream": "stdout",
       "text": [
        "\n",
        "Action: 1\n",
        "New state: <1.790061, 1.004314>\n",
        "Reward: -1\n",
        "State: <1.790061, 1.004314>\n",
        "xxxxxx\n",
        "xS   x\n",
        "xA   x\n",
        "x  G x\n",
        "xxxxxx\n",
        "In goal: False\n",
        "In pit: False\n",
        "In puddle: False"
       ]
      },
      {
       "output_type": "stream",
       "stream": "stdout",
       "text": [
        "\n",
        "Action: 2\n",
        "New state: <2.183965, 0.993223>\n",
        "Reward: -1\n",
        "State: <2.183965, 0.993223>\n",
        "xxxxxx\n",
        "xS   x\n",
        "xA   x\n",
        "x  G x\n",
        "xxxxxx\n",
        "In goal: False\n",
        "In pit: False\n",
        "In puddle: False"
       ]
      },
      {
       "output_type": "stream",
       "stream": "stdout",
       "text": [
        "\n",
        "Action: 2\n",
        "New state: <2.579001, 0.993651>\n",
        "Reward: -1\n",
        "State: <2.579001, 0.993651>\n",
        "xxxxxx\n",
        "xS   x\n",
        "x    x\n",
        "xA G x\n",
        "xxxxxx\n",
        "In goal: False\n",
        "In pit: False\n",
        "In puddle: False"
       ]
      },
      {
       "output_type": "stream",
       "stream": "stdout",
       "text": [
        "\n",
        "Action: 1\n",
        "New state: <2.556230, 1.392695>\n",
        "Reward: -1\n",
        "State: <2.556230, 1.392695>\n",
        "xxxxxx\n",
        "xS   x\n",
        "x    x\n",
        "xA G x\n",
        "xxxxxx\n",
        "In goal: False\n",
        "In pit: False\n",
        "In puddle: False"
       ]
      },
      {
       "output_type": "stream",
       "stream": "stdout",
       "text": [
        "\n",
        "Action: 2\n",
        "New state: <2.940861, 1.389160>\n",
        "Reward: -1\n",
        "State: <2.940861, 1.389160>\n",
        "xxxxxx\n",
        "xS   x\n",
        "x    x\n",
        "xA G x\n",
        "xxxxxx\n",
        "In goal: False\n",
        "In pit: False\n",
        "In puddle: False"
       ]
      },
      {
       "output_type": "stream",
       "stream": "stdout",
       "text": [
        "\n",
        "Action: 2\n",
        "New state: <3.348530, 1.414393>\n",
        "Reward: -1\n",
        "State: <3.348530, 1.414393>\n",
        "xxxxxx\n",
        "xS   x\n",
        "x    x\n",
        "xA G x\n",
        "xxxxxx\n",
        "In goal: False\n",
        "In pit: False\n",
        "In puddle: False"
       ]
      },
      {
       "output_type": "stream",
       "stream": "stdout",
       "text": [
        "\n",
        "Action: 1\n",
        "New state: <3.356426, 1.819774>\n",
        "Reward: -1\n",
        "State: <3.356426, 1.819774>\n",
        "xxxxxx\n",
        "xS   x\n",
        "x    x\n",
        "x AG x\n",
        "xxxxxx\n",
        "In goal: False\n",
        "In pit: False\n",
        "In puddle: False"
       ]
      },
      {
       "output_type": "stream",
       "stream": "stdout",
       "text": [
        "\n",
        "Action: 1\n",
        "New state: <3.371878, 2.213565>\n",
        "Reward: -1\n",
        "State: <3.371878, 2.213565>\n",
        "xxxxxx\n",
        "xS   x\n",
        "x    x\n",
        "x AG x\n",
        "xxxxxx\n",
        "In goal: False\n",
        "In pit: False\n",
        "In puddle: False"
       ]
      },
      {
       "output_type": "stream",
       "stream": "stdout",
       "text": [
        "\n",
        "Action: 1\n",
        "New state: <3.365775, 2.596844>\n",
        "Reward: -1\n",
        "State: <3.365775, 2.596844>\n",
        "xxxxxx\n",
        "xS   x\n",
        "x    x\n",
        "x  A x\n",
        "xxxxxx\n",
        "In goal: False\n",
        "In pit: False\n",
        "In puddle: False"
       ]
      },
      {
       "output_type": "stream",
       "stream": "stdout",
       "text": [
        "\n",
        "Action: 1\n",
        "New state: <3.374242, 2.994737>\n",
        "Reward: 0\n",
        "State: <3.374242, 2.994737>\n",
        "xxxxxx\n",
        "xS   x\n",
        "x    x\n",
        "x  A x\n",
        "xxxxxx\n",
        "In goal: False\n",
        "In pit: False\n",
        "In puddle: False"
       ]
      },
      {
       "output_type": "stream",
       "stream": "stdout",
       "text": [
        "\n",
        "Action: 2\n",
        "New state: <3.374242, 2.994737>\n",
        "Reward: 0\n",
        "State: <3.374242, 2.994737>\n",
        "xxxxxx\n",
        "xS   x\n",
        "x    x\n",
        "x  A x\n",
        "xxxxxx\n",
        "In goal: False\n",
        "In pit: False\n",
        "In puddle: False"
       ]
      },
      {
       "output_type": "stream",
       "stream": "stdout",
       "text": [
        "\n",
        "Action: 2\n",
        "New state: <3.374242, 2.994737>\n",
        "Reward: 0\n",
        "State: <3.374242, 2.994737>\n",
        "xxxxxx\n",
        "xS   x\n",
        "x    x\n",
        "x  A x\n",
        "xxxxxx\n",
        "In goal: False\n",
        "In pit: False\n",
        "In puddle: False"
       ]
      },
      {
       "output_type": "stream",
       "stream": "stdout",
       "text": [
        "\n",
        "Action: 2\n",
        "New state: <3.374242, 2.994737>\n",
        "Reward: 0\n",
        "State: <3.374242, 2.994737>\n",
        "xxxxxx\n",
        "xS   x\n",
        "x    x\n",
        "x  A x\n",
        "xxxxxx\n",
        "In goal: False\n",
        "In pit: False\n",
        "In puddle: False"
       ]
      },
      {
       "output_type": "stream",
       "stream": "stdout",
       "text": [
        "\n",
        "Action: 2\n",
        "New state: <3.374242, 2.994737>\n",
        "Reward: 0\n",
        "State: <3.374242, 2.994737>\n",
        "xxxxxx\n",
        "xS   x\n",
        "x    x\n",
        "x  A x\n",
        "xxxxxx\n",
        "In goal: False\n",
        "In pit: False\n",
        "In puddle: False"
       ]
      },
      {
       "output_type": "stream",
       "stream": "stdout",
       "text": [
        "\n",
        "Action: 2\n",
        "New state: <3.374242, 2.994737>\n",
        "Reward: 0\n",
        "State: <3.374242, 2.994737>\n",
        "xxxxxx\n",
        "xS   x\n",
        "x    x\n",
        "x  A x\n",
        "xxxxxx\n",
        "In goal: False\n",
        "In pit: False\n",
        "In puddle: False"
       ]
      },
      {
       "output_type": "stream",
       "stream": "stdout",
       "text": [
        "\n",
        "Action: 2\n",
        "New state: <3.374242, 2.994737>\n",
        "Reward: 0\n",
        "State: <3.374242, 2.994737>\n",
        "xxxxxx\n",
        "xS   x\n",
        "x    x\n",
        "x  A x\n",
        "xxxxxx\n",
        "In goal: False\n",
        "In pit: False\n",
        "In puddle: False"
       ]
      },
      {
       "output_type": "stream",
       "stream": "stdout",
       "text": [
        "\n",
        "Action: 2\n",
        "New state: <3.374242, 2.994737>\n",
        "Reward: 0\n",
        "State: <3.374242, 2.994737>\n",
        "xxxxxx\n",
        "xS   x\n",
        "x    x\n",
        "x  A x\n",
        "xxxxxx\n",
        "In goal: False\n",
        "In pit: False\n",
        "In puddle: False"
       ]
      },
      {
       "output_type": "stream",
       "stream": "stdout",
       "text": [
        "\n",
        "Action: 2\n",
        "New state: <3.374242, 2.994737>\n",
        "Reward: 0\n",
        "State: <3.374242, 2.994737>\n",
        "xxxxxx\n",
        "xS   x\n",
        "x    x\n",
        "x  A x\n",
        "xxxxxx\n",
        "In goal: False\n",
        "In pit: False\n",
        "In puddle: False"
       ]
      },
      {
       "output_type": "stream",
       "stream": "stdout",
       "text": [
        "\n",
        "Action: 2\n",
        "New state: <3.374242, 2.994737>\n",
        "Reward: 0\n",
        "State: <3.374242, 2.994737>\n",
        "xxxxxx\n",
        "xS   x\n",
        "x    x\n",
        "x  A x\n",
        "xxxxxx\n",
        "In goal: False\n",
        "In pit: False\n",
        "In puddle: False"
       ]
      },
      {
       "output_type": "stream",
       "stream": "stdout",
       "text": [
        "\n",
        "Action: 2\n",
        "New state: <3.374242, 2.994737>\n",
        "Reward: 0\n",
        "State: <3.374242, 2.994737>\n",
        "xxxxxx\n",
        "xS   x\n",
        "x    x\n",
        "x  A x\n",
        "xxxxxx\n",
        "In goal: False\n",
        "In pit: False\n",
        "In puddle: False"
       ]
      },
      {
       "output_type": "stream",
       "stream": "stdout",
       "text": [
        "\n",
        "Action: 2\n",
        "New state: <3.374242, 2.994737>\n",
        "Reward: 0\n",
        "State: <3.374242, 2.994737>\n",
        "xxxxxx\n",
        "xS   x\n",
        "x    x\n",
        "x  A x\n",
        "xxxxxx\n",
        "In goal: False\n",
        "In pit: False\n",
        "In puddle: False"
       ]
      },
      {
       "output_type": "stream",
       "stream": "stdout",
       "text": [
        "\n",
        "Action: 2\n",
        "New state: <3.374242, 2.994737>\n",
        "Reward: 0\n",
        "State: <3.374242, 2.994737>\n",
        "xxxxxx\n",
        "xS   x\n",
        "x    x\n",
        "x  A x\n",
        "xxxxxx\n",
        "In goal: False\n",
        "In pit: False\n",
        "In puddle: False"
       ]
      },
      {
       "output_type": "stream",
       "stream": "stdout",
       "text": [
        "\n",
        "Action: 2\n",
        "New state: <3.374242, 2.994737>\n",
        "Reward: 0\n",
        "State: <3.374242, 2.994737>\n",
        "xxxxxx\n",
        "xS   x\n",
        "x    x\n",
        "x  A x\n",
        "xxxxxx\n",
        "In goal: False\n",
        "In pit: False\n",
        "In puddle: False"
       ]
      },
      {
       "output_type": "stream",
       "stream": "stdout",
       "text": [
        "\n",
        "Action: 2\n",
        "New state: <3.374242, 2.994737>\n",
        "Reward: 0\n",
        "State: <3.374242, 2.994737>\n",
        "xxxxxx\n",
        "xS   x\n",
        "x    x\n",
        "x  A x\n",
        "xxxxxx\n",
        "In goal: False\n",
        "In pit: False\n",
        "In puddle: False"
       ]
      },
      {
       "output_type": "stream",
       "stream": "stdout",
       "text": [
        "\n",
        "Action: 2\n",
        "New state: <3.374242, 2.994737>\n",
        "Reward: 0\n",
        "State: <3.374242, 2.994737>\n",
        "xxxxxx\n",
        "xS   x\n",
        "x    x\n",
        "x  A x\n",
        "xxxxxx\n",
        "In goal: False\n",
        "In pit: False\n",
        "In puddle: False"
       ]
      },
      {
       "output_type": "stream",
       "stream": "stdout",
       "text": [
        "\n",
        "Action: 2\n",
        "New state: <3.374242, 2.994737>\n",
        "Reward: 0\n",
        "State: <3.374242, 2.994737>\n",
        "xxxxxx\n",
        "xS   x\n",
        "x    x\n",
        "x  A x\n",
        "xxxxxx\n",
        "In goal: False\n",
        "In pit: False\n",
        "In puddle: False"
       ]
      },
      {
       "output_type": "stream",
       "stream": "stdout",
       "text": [
        "\n",
        "Action: 2\n",
        "New state: <3.374242, 2.994737>\n",
        "Reward: 0\n",
        "State: <3.374242, 2.994737>\n",
        "xxxxxx\n",
        "xS   x\n",
        "x    x\n",
        "x  A x\n",
        "xxxxxx\n",
        "In goal: False\n",
        "In pit: False\n",
        "In puddle: False"
       ]
      },
      {
       "output_type": "stream",
       "stream": "stdout",
       "text": [
        "\n",
        "********************************************************************************\n",
        "State: <1.000000, 1.000000>\n",
        "xxxxxx\n",
        "xA   x\n",
        "x    x\n",
        "x  G x\n",
        "xxxxxx\n",
        "In goal: False\n",
        "In pit: False\n",
        "In puddle: False\n",
        "Action: 2\n",
        "New state: <1.398023, 1.006595>\n",
        "Reward: -1\n",
        "State: <1.398023, 1.006595>\n",
        "xxxxxx\n",
        "xA   x\n",
        "x    x\n",
        "x  G x\n",
        "xxxxxx\n",
        "In goal: False\n",
        "In pit: False\n",
        "In puddle: False"
       ]
      },
      {
       "output_type": "stream",
       "stream": "stdout",
       "text": [
        "\n",
        "Action: 2\n",
        "New state: <1.790041, 1.014096>\n",
        "Reward: -1\n",
        "State: <1.790041, 1.014096>\n",
        "xxxxxx\n",
        "xS   x\n",
        "xA   x\n",
        "x  G x\n",
        "xxxxxx\n",
        "In goal: False\n",
        "In pit: False\n",
        "In puddle: False"
       ]
      },
      {
       "output_type": "stream",
       "stream": "stdout",
       "text": [
        "\n",
        "Action: 2\n",
        "New state: <2.190891, 1.027252>\n",
        "Reward: -1\n",
        "State: <2.190891, 1.027252>\n",
        "xxxxxx\n",
        "xS   x\n",
        "xA   x\n",
        "x  G x\n",
        "xxxxxx\n",
        "In goal: False\n",
        "In pit: False\n",
        "In puddle: False"
       ]
      },
      {
       "output_type": "stream",
       "stream": "stdout",
       "text": [
        "\n",
        "Action: 1\n",
        "New state: <2.198057, 1.418890>\n",
        "Reward: -1\n",
        "State: <2.198057, 1.418890>\n",
        "xxxxxx\n",
        "xS   x\n",
        "xA   x\n",
        "x  G x\n",
        "xxxxxx\n",
        "In goal: False\n",
        "In pit: False\n",
        "In puddle: False"
       ]
      },
      {
       "output_type": "stream",
       "stream": "stdout",
       "text": [
        "\n",
        "Action: 3\n",
        "New state: <2.197103, 1.043499>\n",
        "Reward: -1\n",
        "State: <2.197103, 1.043499>\n",
        "xxxxxx\n",
        "xS   x\n",
        "xA   x\n",
        "x  G x\n",
        "xxxxxx\n",
        "In goal: False\n",
        "In pit: False\n",
        "In puddle: False"
       ]
      },
      {
       "output_type": "stream",
       "stream": "stdout",
       "text": [
        "\n",
        "Action: 1\n",
        "New state: <2.182696, 1.428891>\n",
        "Reward: -1\n",
        "State: <2.182696, 1.428891>\n",
        "xxxxxx\n",
        "xS   x\n",
        "xA   x\n",
        "x  G x\n",
        "xxxxxx\n",
        "In goal: False\n",
        "In pit: False\n",
        "In puddle: False"
       ]
      },
      {
       "output_type": "stream",
       "stream": "stdout",
       "text": [
        "\n",
        "Action: 2\n",
        "New state: <2.588039, 1.438018>\n",
        "Reward: -1\n",
        "State: <2.588039, 1.438018>\n",
        "xxxxxx\n",
        "xS   x\n",
        "x    x\n",
        "xA G x\n",
        "xxxxxx\n",
        "In goal: False\n",
        "In pit: False\n",
        "In puddle: False"
       ]
      },
      {
       "output_type": "stream",
       "stream": "stdout",
       "text": [
        "\n",
        "Action: 2\n",
        "New state: <2.975171, 1.432944>\n",
        "Reward: -1\n",
        "State: <2.975171, 1.432944>\n",
        "xxxxxx\n",
        "xS   x\n",
        "x    x\n",
        "xA G x\n",
        "xxxxxx\n",
        "In goal: False\n",
        "In pit: False\n",
        "In puddle: False"
       ]
      },
      {
       "output_type": "stream",
       "stream": "stdout",
       "text": [
        "\n",
        "Action: 2\n",
        "New state: <3.380356, 1.447302>\n",
        "Reward: -1\n",
        "State: <3.380356, 1.447302>\n",
        "xxxxxx\n",
        "xS   x\n",
        "x    x\n",
        "xA G x\n",
        "xxxxxx\n",
        "In goal: False\n",
        "In pit: False\n",
        "In puddle: False"
       ]
      },
      {
       "output_type": "stream",
       "stream": "stdout",
       "text": [
        "\n",
        "Action: 1\n",
        "New state: <3.380058, 1.846510>\n",
        "Reward: -1\n",
        "State: <3.380058, 1.846510>\n",
        "xxxxxx\n",
        "xS   x\n",
        "x    x\n",
        "x AG x\n",
        "xxxxxx\n",
        "In goal: False\n",
        "In pit: False\n",
        "In puddle: False"
       ]
      },
      {
       "output_type": "stream",
       "stream": "stdout",
       "text": [
        "\n",
        "Action: 1\n",
        "New state: <3.383828, 2.249033>\n",
        "Reward: -1\n",
        "State: <3.383828, 2.249033>\n",
        "xxxxxx\n",
        "xS   x\n",
        "x    x\n",
        "x AG x\n",
        "xxxxxx\n",
        "In goal: False\n",
        "In pit: False\n",
        "In puddle: False"
       ]
      },
      {
       "output_type": "stream",
       "stream": "stdout",
       "text": [
        "\n",
        "Action: 1\n",
        "New state: <3.374966, 2.650543>\n",
        "Reward: -1\n",
        "State: <3.374966, 2.650543>\n",
        "xxxxxx\n",
        "xS   x\n",
        "x    x\n",
        "x  A x\n",
        "xxxxxx\n",
        "In goal: False\n",
        "In pit: False\n",
        "In puddle: False"
       ]
      },
      {
       "output_type": "stream",
       "stream": "stdout",
       "text": [
        "\n",
        "Action: 1\n",
        "New state: <3.349118, 3.047770>\n",
        "Reward: 0\n",
        "State: <3.349118, 3.047770>\n",
        "xxxxxx\n",
        "xS   x\n",
        "x    x\n",
        "x  A x\n",
        "xxxxxx\n",
        "In goal: False\n",
        "In pit: False\n",
        "In puddle: False"
       ]
      },
      {
       "output_type": "stream",
       "stream": "stdout",
       "text": [
        "\n",
        "Action: 0\n",
        "New state: <2.917212, 3.050333>\n",
        "Reward: 0\n",
        "State: <2.917212, 3.050333>\n",
        "xxxxxx\n",
        "xS   x\n",
        "x    x\n",
        "x  A x\n",
        "xxxxxx\n",
        "In goal: False\n",
        "In pit: False\n",
        "In puddle: False"
       ]
      },
      {
       "output_type": "stream",
       "stream": "stdout",
       "text": [
        "\n",
        "Action: 2\n",
        "New state: <3.327144, 3.030645>\n",
        "Reward: 0\n",
        "State: <3.327144, 3.030645>\n",
        "xxxxxx\n",
        "xS   x\n",
        "x    x\n",
        "x  A x\n",
        "xxxxxx\n",
        "In goal: False\n",
        "In pit: False\n",
        "In puddle: False"
       ]
      },
      {
       "output_type": "stream",
       "stream": "stdout",
       "text": [
        "\n",
        "Action: 2\n",
        "New state: <3.327144, 3.030645>\n",
        "Reward: 0\n",
        "State: <3.327144, 3.030645>\n",
        "xxxxxx\n",
        "xS   x\n",
        "x    x\n",
        "x  A x\n",
        "xxxxxx\n",
        "In goal: False\n",
        "In pit: False\n",
        "In puddle: False"
       ]
      },
      {
       "output_type": "stream",
       "stream": "stdout",
       "text": [
        "\n",
        "Action: 2\n",
        "New state: <3.327144, 3.030645>\n",
        "Reward: 0\n",
        "State: <3.327144, 3.030645>\n",
        "xxxxxx\n",
        "xS   x\n",
        "x    x\n",
        "x  A x\n",
        "xxxxxx\n",
        "In goal: False\n",
        "In pit: False\n",
        "In puddle: False"
       ]
      },
      {
       "output_type": "stream",
       "stream": "stdout",
       "text": [
        "\n",
        "Action: 2\n",
        "New state: <3.327144, 3.030645>\n",
        "Reward: 0\n",
        "State: <3.327144, 3.030645>\n",
        "xxxxxx\n",
        "xS   x\n",
        "x    x\n",
        "x  A x\n",
        "xxxxxx\n",
        "In goal: False\n",
        "In pit: False\n",
        "In puddle: False"
       ]
      },
      {
       "output_type": "stream",
       "stream": "stdout",
       "text": [
        "\n",
        "Action: 2\n",
        "New state: <3.327144, 3.030645>\n",
        "Reward: 0\n",
        "State: <3.327144, 3.030645>\n",
        "xxxxxx\n",
        "xS   x\n",
        "x    x\n",
        "x  A x\n",
        "xxxxxx\n",
        "In goal: False\n",
        "In pit: False\n",
        "In puddle: False"
       ]
      },
      {
       "output_type": "stream",
       "stream": "stdout",
       "text": [
        "\n",
        "Action: 2\n",
        "New state: <3.327144, 3.030645>\n",
        "Reward: 0\n",
        "State: <3.327144, 3.030645>\n",
        "xxxxxx\n",
        "xS   x\n",
        "x    x\n",
        "x  A x\n",
        "xxxxxx\n",
        "In goal: False\n",
        "In pit: False\n",
        "In puddle: False"
       ]
      },
      {
       "output_type": "stream",
       "stream": "stdout",
       "text": [
        "\n",
        "Action: 2\n",
        "New state: <3.327144, 3.030645>\n",
        "Reward: 0\n",
        "State: <3.327144, 3.030645>\n",
        "xxxxxx\n",
        "xS   x\n",
        "x    x\n",
        "x  A x\n",
        "xxxxxx\n",
        "In goal: False\n",
        "In pit: False\n",
        "In puddle: False"
       ]
      },
      {
       "output_type": "stream",
       "stream": "stdout",
       "text": [
        "\n",
        "Action: 2\n",
        "New state: <3.327144, 3.030645>\n",
        "Reward: 0\n",
        "State: <3.327144, 3.030645>\n",
        "xxxxxx\n",
        "xS   x\n",
        "x    x\n",
        "x  A x\n",
        "xxxxxx\n",
        "In goal: False\n",
        "In pit: False\n",
        "In puddle: False"
       ]
      },
      {
       "output_type": "stream",
       "stream": "stdout",
       "text": [
        "\n",
        "Action: 2\n",
        "New state: <3.327144, 3.030645>\n",
        "Reward: 0\n",
        "State: <3.327144, 3.030645>\n",
        "xxxxxx\n",
        "xS   x\n",
        "x    x\n",
        "x  A x\n",
        "xxxxxx\n",
        "In goal: False\n",
        "In pit: False\n",
        "In puddle: False"
       ]
      },
      {
       "output_type": "stream",
       "stream": "stdout",
       "text": [
        "\n",
        "Action: 2\n",
        "New state: <3.327144, 3.030645>\n",
        "Reward: 0\n",
        "State: <3.327144, 3.030645>\n",
        "xxxxxx\n",
        "xS   x\n",
        "x    x\n",
        "x  A x\n",
        "xxxxxx\n",
        "In goal: False\n",
        "In pit: False\n",
        "In puddle: False"
       ]
      },
      {
       "output_type": "stream",
       "stream": "stdout",
       "text": [
        "\n",
        "Action: 2\n",
        "New state: <3.327144, 3.030645>\n",
        "Reward: 0\n",
        "State: <3.327144, 3.030645>\n",
        "xxxxxx\n",
        "xS   x\n",
        "x    x\n",
        "x  A x\n",
        "xxxxxx\n",
        "In goal: False\n",
        "In pit: False\n",
        "In puddle: False"
       ]
      },
      {
       "output_type": "stream",
       "stream": "stdout",
       "text": [
        "\n",
        "Action: 2\n",
        "New state: <3.327144, 3.030645>\n",
        "Reward: 0\n",
        "State: <3.327144, 3.030645>\n",
        "xxxxxx\n",
        "xS   x\n",
        "x    x\n",
        "x  A x\n",
        "xxxxxx\n",
        "In goal: False\n",
        "In pit: False\n",
        "In puddle: False"
       ]
      },
      {
       "output_type": "stream",
       "stream": "stdout",
       "text": [
        "\n",
        "Action: 2\n",
        "New state: <3.327144, 3.030645>\n",
        "Reward: 0\n",
        "State: <3.327144, 3.030645>\n",
        "xxxxxx\n",
        "xS   x\n",
        "x    x\n",
        "x  A x\n",
        "xxxxxx\n",
        "In goal: False\n",
        "In pit: False\n",
        "In puddle: False"
       ]
      },
      {
       "output_type": "stream",
       "stream": "stdout",
       "text": [
        "\n",
        "Action: 2\n",
        "New state: <3.327144, 3.030645>\n",
        "Reward: 0\n",
        "State: <3.327144, 3.030645>\n",
        "xxxxxx\n",
        "xS   x\n",
        "x    x\n",
        "x  A x\n",
        "xxxxxx\n",
        "In goal: False\n",
        "In pit: False\n",
        "In puddle: False"
       ]
      },
      {
       "output_type": "stream",
       "stream": "stdout",
       "text": [
        "\n",
        "Action: 2\n",
        "New state: <3.327144, 3.030645>\n",
        "Reward: 0\n",
        "State: <3.327144, 3.030645>\n",
        "xxxxxx\n",
        "xS   x\n",
        "x    x\n",
        "x  A x\n",
        "xxxxxx\n",
        "In goal: False\n",
        "In pit: False\n",
        "In puddle: False"
       ]
      },
      {
       "output_type": "stream",
       "stream": "stdout",
       "text": [
        "\n",
        "Action: 2\n",
        "New state: <3.327144, 3.030645>\n",
        "Reward: 0\n",
        "State: <3.327144, 3.030645>\n",
        "xxxxxx\n",
        "xS   x\n",
        "x    x\n",
        "x  A x\n",
        "xxxxxx\n",
        "In goal: False\n",
        "In pit: False\n",
        "In puddle: False"
       ]
      },
      {
       "output_type": "stream",
       "stream": "stdout",
       "text": [
        "\n",
        "********************************************************************************\n",
        "State: <1.000000, 1.000000>\n",
        "xxxxxx\n",
        "xA   x\n",
        "x    x\n",
        "x  G x\n",
        "xxxxxx\n",
        "In goal: False\n",
        "In pit: False\n",
        "In puddle: False\n",
        "Action: 2\n",
        "New state: <1.396115, 1.006230>\n",
        "Reward: -1\n",
        "State: <1.396115, 1.006230>\n",
        "xxxxxx\n",
        "xA   x\n",
        "x    x\n",
        "x  G x\n",
        "xxxxxx\n",
        "In goal: False\n",
        "In pit: False\n",
        "In puddle: False"
       ]
      },
      {
       "output_type": "stream",
       "stream": "stdout",
       "text": [
        "\n",
        "Action: 2\n",
        "New state: <1.801585, 0.995811>\n",
        "Reward: -1\n",
        "State: <1.801585, 0.995811>\n",
        "xxxxxx\n",
        "xS   x\n",
        "xA   x\n",
        "x  G x\n",
        "xxxxxx\n",
        "In goal: False\n",
        "In pit: False\n",
        "In puddle: False"
       ]
      },
      {
       "output_type": "stream",
       "stream": "stdout",
       "text": [
        "\n",
        "Action: 0\n",
        "New state: <1.402826, 1.000111>\n",
        "Reward: -1\n",
        "State: <1.402826, 1.000111>\n",
        "xxxxxx\n",
        "xA   x\n",
        "x    x\n",
        "x  G x\n",
        "xxxxxx\n",
        "In goal: False\n",
        "In pit: False\n",
        "In puddle: False"
       ]
      },
      {
       "output_type": "stream",
       "stream": "stdout",
       "text": [
        "\n",
        "Action: 2\n",
        "New state: <1.797306, 1.006173>\n",
        "Reward: -1\n",
        "State: <1.797306, 1.006173>\n",
        "xxxxxx\n",
        "xS   x\n",
        "xA   x\n",
        "x  G x\n",
        "xxxxxx\n",
        "In goal: False\n",
        "In pit: False\n",
        "In puddle: False"
       ]
      },
      {
       "output_type": "stream",
       "stream": "stdout",
       "text": [
        "\n",
        "Action: 1\n",
        "New state: <1.795866, 1.413034>\n",
        "Reward: -1\n",
        "State: <1.795866, 1.413034>\n",
        "xxxxxx\n",
        "xS   x\n",
        "xA   x\n",
        "x  G x\n",
        "xxxxxx\n",
        "In goal: False\n",
        "In pit: False\n",
        "In puddle: False"
       ]
      },
      {
       "output_type": "stream",
       "stream": "stdout",
       "text": [
        "\n",
        "Action: 2\n",
        "New state: <2.207036, 1.392485>\n",
        "Reward: -1\n",
        "State: <2.207036, 1.392485>\n",
        "xxxxxx\n",
        "xS   x\n",
        "xA   x\n",
        "x  G x\n",
        "xxxxxx\n",
        "In goal: False\n",
        "In pit: False\n",
        "In puddle: False"
       ]
      },
      {
       "output_type": "stream",
       "stream": "stdout",
       "text": [
        "\n",
        "Action: 2\n",
        "New state: <2.598834, 1.390678>\n",
        "Reward: -1\n",
        "State: <2.598834, 1.390678>\n",
        "xxxxxx\n",
        "xS   x\n",
        "x    x\n",
        "xA G x\n",
        "xxxxxx\n",
        "In goal: False\n",
        "In pit: False\n",
        "In puddle: False"
       ]
      },
      {
       "output_type": "stream",
       "stream": "stdout",
       "text": [
        "\n",
        "Action: 2\n",
        "New state: <2.994557, 1.397391>\n",
        "Reward: -1\n",
        "State: <2.994557, 1.397391>\n",
        "xxxxxx\n",
        "xS   x\n",
        "x    x\n",
        "xA G x\n",
        "xxxxxx\n",
        "In goal: False\n",
        "In pit: False\n",
        "In puddle: False"
       ]
      },
      {
       "output_type": "stream",
       "stream": "stdout",
       "text": [
        "\n",
        "Action: 2\n",
        "New state: <3.389872, 1.381249>\n",
        "Reward: -1\n",
        "State: <3.389872, 1.381249>\n",
        "xxxxxx\n",
        "xS   x\n",
        "x    x\n",
        "xA G x\n",
        "xxxxxx\n",
        "In goal: False\n",
        "In pit: False\n",
        "In puddle: False"
       ]
      },
      {
       "output_type": "stream",
       "stream": "stdout",
       "text": [
        "\n",
        "Action: 2\n",
        "New state: <3.389872, 1.381249>\n",
        "Reward: -1\n",
        "State: <3.389872, 1.381249>\n",
        "xxxxxx\n",
        "xS   x\n",
        "x    x\n",
        "xA G x\n",
        "xxxxxx\n",
        "In goal: False\n",
        "In pit: False\n",
        "In puddle: False"
       ]
      },
      {
       "output_type": "stream",
       "stream": "stdout",
       "text": [
        "\n",
        "Action: 0\n",
        "New state: <2.976257, 1.379532>\n",
        "Reward: -1\n",
        "State: <2.976257, 1.379532>\n",
        "xxxxxx\n",
        "xS   x\n",
        "x    x\n",
        "xA G x\n",
        "xxxxxx\n",
        "In goal: False\n",
        "In pit: False\n",
        "In puddle: False"
       ]
      },
      {
       "output_type": "stream",
       "stream": "stdout",
       "text": [
        "\n",
        "Action: 1\n",
        "New state: <2.969070, 1.788855>\n",
        "Reward: -1\n",
        "State: <2.969070, 1.788855>\n",
        "xxxxxx\n",
        "xS   x\n",
        "x    x\n",
        "x AG x\n",
        "xxxxxx\n",
        "In goal: False\n",
        "In pit: False\n",
        "In puddle: False"
       ]
      },
      {
       "output_type": "stream",
       "stream": "stdout",
       "text": [
        "\n",
        "Action: 1\n",
        "New state: <2.974524, 2.189256>\n",
        "Reward: -1\n",
        "State: <2.974524, 2.189256>\n",
        "xxxxxx\n",
        "xS   x\n",
        "x    x\n",
        "x AG x\n",
        "xxxxxx\n",
        "In goal: False\n",
        "In pit: False\n",
        "In puddle: False"
       ]
      },
      {
       "output_type": "stream",
       "stream": "stdout",
       "text": [
        "\n",
        "Action: 1\n",
        "New state: <2.974210, 2.580843>\n",
        "Reward: 0\n",
        "State: <2.974210, 2.580843>\n",
        "xxxxxx\n",
        "xS   x\n",
        "x    x\n",
        "x  A x\n",
        "xxxxxx\n",
        "In goal: False\n",
        "In pit: False\n",
        "In puddle: False"
       ]
      },
      {
       "output_type": "stream",
       "stream": "stdout",
       "text": [
        "\n",
        "Action: 1\n",
        "New state: <2.969671, 2.992971>\n",
        "Reward: 0\n",
        "State: <2.969671, 2.992971>\n",
        "xxxxxx\n",
        "xS   x\n",
        "x    x\n",
        "x  A x\n",
        "xxxxxx\n",
        "In goal: False\n",
        "In pit: False\n",
        "In puddle: False"
       ]
      },
      {
       "output_type": "stream",
       "stream": "stdout",
       "text": [
        "\n",
        "Action: 1\n",
        "New state: <2.952400, 3.381157>\n",
        "Reward: 0\n",
        "State: <2.952400, 3.381157>\n",
        "xxxxxx\n",
        "xS   x\n",
        "x    x\n",
        "x  A x\n",
        "xxxxxx\n",
        "In goal: False\n",
        "In pit: False\n",
        "In puddle: False"
       ]
      },
      {
       "output_type": "stream",
       "stream": "stdout",
       "text": [
        "\n",
        "Action: 3\n",
        "New state: <2.948386, 2.990029>\n",
        "Reward: 0\n",
        "State: <2.948386, 2.990029>\n",
        "xxxxxx\n",
        "xS   x\n",
        "x    x\n",
        "x  A x\n",
        "xxxxxx\n",
        "In goal: False\n",
        "In pit: False\n",
        "In puddle: False"
       ]
      },
      {
       "output_type": "stream",
       "stream": "stdout",
       "text": [
        "\n",
        "Action: 2\n",
        "New state: <3.367140, 2.986572>\n",
        "Reward: 0\n",
        "State: <3.367140, 2.986572>\n",
        "xxxxxx\n",
        "xS   x\n",
        "x    x\n",
        "x  A x\n",
        "xxxxxx\n",
        "In goal: False\n",
        "In pit: False\n",
        "In puddle: False"
       ]
      },
      {
       "output_type": "stream",
       "stream": "stdout",
       "text": [
        "\n",
        "Action: 2\n",
        "New state: <3.367140, 2.986572>\n",
        "Reward: 0\n",
        "State: <3.367140, 2.986572>\n",
        "xxxxxx\n",
        "xS   x\n",
        "x    x\n",
        "x  A x\n",
        "xxxxxx\n",
        "In goal: False\n",
        "In pit: False\n",
        "In puddle: False"
       ]
      },
      {
       "output_type": "stream",
       "stream": "stdout",
       "text": [
        "\n",
        "Action: 2\n",
        "New state: <3.367140, 2.986572>\n",
        "Reward: 0\n",
        "State: <3.367140, 2.986572>\n",
        "xxxxxx\n",
        "xS   x\n",
        "x    x\n",
        "x  A x\n",
        "xxxxxx\n",
        "In goal: False\n",
        "In pit: False\n",
        "In puddle: False"
       ]
      },
      {
       "output_type": "stream",
       "stream": "stdout",
       "text": [
        "\n",
        "Action: 2\n",
        "New state: <3.367140, 2.986572>\n",
        "Reward: 0\n",
        "State: <3.367140, 2.986572>\n",
        "xxxxxx\n",
        "xS   x\n",
        "x    x\n",
        "x  A x\n",
        "xxxxxx\n",
        "In goal: False\n",
        "In pit: False\n",
        "In puddle: False"
       ]
      },
      {
       "output_type": "stream",
       "stream": "stdout",
       "text": [
        "\n",
        "Action: 2\n",
        "New state: <3.367140, 2.986572>\n",
        "Reward: 0\n",
        "State: <3.367140, 2.986572>\n",
        "xxxxxx\n",
        "xS   x\n",
        "x    x\n",
        "x  A x\n",
        "xxxxxx\n",
        "In goal: False\n",
        "In pit: False\n",
        "In puddle: False"
       ]
      },
      {
       "output_type": "stream",
       "stream": "stdout",
       "text": [
        "\n",
        "Action: 2\n",
        "New state: <3.367140, 2.986572>\n",
        "Reward: 0\n",
        "State: <3.367140, 2.986572>\n",
        "xxxxxx\n",
        "xS   x\n",
        "x    x\n",
        "x  A x\n",
        "xxxxxx\n",
        "In goal: False\n",
        "In pit: False\n",
        "In puddle: False"
       ]
      },
      {
       "output_type": "stream",
       "stream": "stdout",
       "text": [
        "\n",
        "Action: 2\n",
        "New state: <3.367140, 2.986572>\n",
        "Reward: 0\n",
        "State: <3.367140, 2.986572>\n",
        "xxxxxx\n",
        "xS   x\n",
        "x    x\n",
        "x  A x\n",
        "xxxxxx\n",
        "In goal: False\n",
        "In pit: False\n",
        "In puddle: False"
       ]
      },
      {
       "output_type": "stream",
       "stream": "stdout",
       "text": [
        "\n",
        "Action: 2\n",
        "New state: <3.367140, 2.986572>\n",
        "Reward: 0\n",
        "State: <3.367140, 2.986572>\n",
        "xxxxxx\n",
        "xS   x\n",
        "x    x\n",
        "x  A x\n",
        "xxxxxx\n",
        "In goal: False\n",
        "In pit: False\n",
        "In puddle: False"
       ]
      },
      {
       "output_type": "stream",
       "stream": "stdout",
       "text": [
        "\n",
        "Action: 2\n",
        "New state: <3.367140, 2.986572>\n",
        "Reward: 0\n",
        "State: <3.367140, 2.986572>\n",
        "xxxxxx\n",
        "xS   x\n",
        "x    x\n",
        "x  A x\n",
        "xxxxxx\n",
        "In goal: False\n",
        "In pit: False\n",
        "In puddle: False"
       ]
      },
      {
       "output_type": "stream",
       "stream": "stdout",
       "text": [
        "\n",
        "Action: 2\n",
        "New state: <3.367140, 2.986572>\n",
        "Reward: 0\n",
        "State: <3.367140, 2.986572>\n",
        "xxxxxx\n",
        "xS   x\n",
        "x    x\n",
        "x  A x\n",
        "xxxxxx\n",
        "In goal: False\n",
        "In pit: False\n",
        "In puddle: False"
       ]
      },
      {
       "output_type": "stream",
       "stream": "stdout",
       "text": [
        "\n",
        "Action: 2\n",
        "New state: <3.367140, 2.986572>\n",
        "Reward: 0\n",
        "State: <3.367140, 2.986572>\n",
        "xxxxxx\n",
        "xS   x\n",
        "x    x\n",
        "x  A x\n",
        "xxxxxx\n",
        "In goal: False\n",
        "In pit: False\n",
        "In puddle: False"
       ]
      },
      {
       "output_type": "stream",
       "stream": "stdout",
       "text": [
        "\n",
        "Action: 2\n",
        "New state: <3.367140, 2.986572>\n",
        "Reward: 0\n",
        "State: <3.367140, 2.986572>\n",
        "xxxxxx\n",
        "xS   x\n",
        "x    x\n",
        "x  A x\n",
        "xxxxxx\n",
        "In goal: False\n",
        "In pit: False\n",
        "In puddle: False"
       ]
      },
      {
       "output_type": "stream",
       "stream": "stdout",
       "text": [
        "\n",
        "Action: 2\n",
        "New state: <3.367140, 2.986572>\n",
        "Reward: 0\n",
        "State: <3.367140, 2.986572>\n",
        "xxxxxx\n",
        "xS   x\n",
        "x    x\n",
        "x  A x\n",
        "xxxxxx\n",
        "In goal: False\n",
        "In pit: False\n",
        "In puddle: False"
       ]
      },
      {
       "output_type": "stream",
       "stream": "stdout",
       "text": [
        "\n",
        "********************************************************************************\n",
        "State: <1.000000, 1.000000>\n",
        "xxxxxx\n",
        "xA   x\n",
        "x    x\n",
        "x  G x\n",
        "xxxxxx\n",
        "In goal: False\n",
        "In pit: False\n",
        "In puddle: False\n",
        "Action: 2\n",
        "New state: <1.408022, 1.004745>\n",
        "Reward: -1\n",
        "State: <1.408022, 1.004745>\n",
        "xxxxxx\n",
        "xA   x\n",
        "x    x\n",
        "x  G x\n",
        "xxxxxx\n",
        "In goal: False\n",
        "In pit: False\n",
        "In puddle: False"
       ]
      },
      {
       "output_type": "stream",
       "stream": "stdout",
       "text": [
        "\n",
        "Action: 1\n",
        "New state: <1.409355, 1.403950>\n",
        "Reward: -1\n",
        "State: <1.409355, 1.403950>\n",
        "xxxxxx\n",
        "xA   x\n",
        "x    x\n",
        "x  G x\n",
        "xxxxxx\n",
        "In goal: False\n",
        "In pit: False\n",
        "In puddle: False"
       ]
      },
      {
       "output_type": "stream",
       "stream": "stdout",
       "text": [
        "\n",
        "Action: 0\n",
        "New state: <1.021133, 1.401827>\n",
        "Reward: -1\n",
        "State: <1.021133, 1.401827>\n",
        "xxxxxx\n",
        "xA   x\n",
        "x    x\n",
        "x  G x\n",
        "xxxxxx\n",
        "In goal: False\n",
        "In pit: False\n",
        "In puddle: False"
       ]
      },
      {
       "output_type": "stream",
       "stream": "stdout",
       "text": [
        "\n",
        "Action: 0\n",
        "New state: <0.637244, 1.383542>\n",
        "Reward: -1\n",
        "State: <0.637244, 1.383542>\n",
        "xxxxxx\n",
        "xA   x\n",
        "x    x\n",
        "x  G x\n",
        "xxxxxx\n",
        "In goal: False\n",
        "In pit: False\n",
        "In puddle: False"
       ]
      },
      {
       "output_type": "stream",
       "stream": "stdout",
       "text": [
        "\n",
        "Action: 1\n",
        "New state: <0.648591, 1.795809>\n",
        "Reward: -1\n",
        "State: <0.648591, 1.795809>\n",
        "xxxxxx\n",
        "xSA  x\n",
        "x    x\n",
        "x  G x\n",
        "xxxxxx\n",
        "In goal: False\n",
        "In pit: False\n",
        "In puddle: False"
       ]
      },
      {
       "output_type": "stream",
       "stream": "stdout",
       "text": [
        "\n",
        "Action: 3\n",
        "New state: <0.644033, 1.400352>\n",
        "Reward: -1\n",
        "State: <0.644033, 1.400352>\n",
        "xxxxxx\n",
        "xA   x\n",
        "x    x\n",
        "x  G x\n",
        "xxxxxx\n",
        "In goal: False\n",
        "In pit: False\n",
        "In puddle: False"
       ]
      },
      {
       "output_type": "stream",
       "stream": "stdout",
       "text": [
        "\n",
        "Action: 2\n",
        "New state: <1.041785, 1.406517>\n",
        "Reward: -1\n",
        "State: <1.041785, 1.406517>\n",
        "xxxxxx\n",
        "xA   x\n",
        "x    x\n",
        "x  G x\n",
        "xxxxxx\n",
        "In goal: False\n",
        "In pit: False\n",
        "In puddle: False"
       ]
      },
      {
       "output_type": "stream",
       "stream": "stdout",
       "text": [
        "\n",
        "Action: 2\n",
        "New state: <1.424248, 1.405827>\n",
        "Reward: -1\n",
        "State: <1.424248, 1.405827>\n",
        "xxxxxx\n",
        "xA   x\n",
        "x    x\n",
        "x  G x\n",
        "xxxxxx\n",
        "In goal: False\n",
        "In pit: False\n",
        "In puddle: False"
       ]
      },
      {
       "output_type": "stream",
       "stream": "stdout",
       "text": [
        "\n",
        "Action: 1\n",
        "New state: <1.422657, 1.802957>\n",
        "Reward: -1\n",
        "State: <1.422657, 1.802957>\n",
        "xxxxxx\n",
        "xSA  x\n",
        "x    x\n",
        "x  G x\n",
        "xxxxxx\n",
        "In goal: False\n",
        "In pit: False\n",
        "In puddle: False"
       ]
      },
      {
       "output_type": "stream",
       "stream": "stdout",
       "text": [
        "\n",
        "Action: 2\n",
        "New state: <1.806339, 1.820978>\n",
        "Reward: -1\n",
        "State: <1.806339, 1.820978>\n",
        "xxxxxx\n",
        "xS   x\n",
        "x A  x\n",
        "x  G x\n",
        "xxxxxx\n",
        "In goal: False\n",
        "In pit: False\n",
        "In puddle: False"
       ]
      },
      {
       "output_type": "stream",
       "stream": "stdout",
       "text": [
        "\n",
        "Action: 1\n",
        "New state: <1.800685, 2.225810>\n",
        "Reward: -1\n",
        "State: <1.800685, 2.225810>\n",
        "xxxxxx\n",
        "xS   x\n",
        "x A  x\n",
        "x  G x\n",
        "xxxxxx\n",
        "In goal: False\n",
        "In pit: False\n",
        "In puddle: False"
       ]
      },
      {
       "output_type": "stream",
       "stream": "stdout",
       "text": [
        "\n",
        "Action: 2\n",
        "New state: <2.208611, 2.225162>\n",
        "Reward: -1\n",
        "State: <2.208611, 2.225162>\n",
        "xxxxxx\n",
        "xS   x\n",
        "x A  x\n",
        "x  G x\n",
        "xxxxxx\n",
        "In goal: False\n",
        "In pit: False\n",
        "In puddle: False"
       ]
      },
      {
       "output_type": "stream",
       "stream": "stdout",
       "text": [
        "\n",
        "Action: 1\n",
        "New state: <2.203852, 2.625524>\n",
        "Reward: -1\n",
        "State: <2.203852, 2.625524>\n",
        "xxxxxx\n",
        "xS   x\n",
        "x  A x\n",
        "x  G x\n",
        "xxxxxx\n",
        "In goal: False\n",
        "In pit: False\n",
        "In puddle: False"
       ]
      },
      {
       "output_type": "stream",
       "stream": "stdout",
       "text": [
        "\n",
        "Action: 1\n",
        "New state: <2.188425, 3.013697>\n",
        "Reward: -1\n",
        "State: <2.188425, 3.013697>\n",
        "xxxxxx\n",
        "xS   x\n",
        "x  A x\n",
        "x  G x\n",
        "xxxxxx\n",
        "In goal: False\n",
        "In pit: False\n",
        "In puddle: False"
       ]
      },
      {
       "output_type": "stream",
       "stream": "stdout",
       "text": [
        "\n",
        "Action: 1\n",
        "New state: <2.187149, 3.402281>\n",
        "Reward: -1\n",
        "State: <2.187149, 3.402281>\n",
        "xxxxxx\n",
        "xS   x\n",
        "x  A x\n",
        "x  G x\n",
        "xxxxxx\n",
        "In goal: False\n",
        "In pit: False\n",
        "In puddle: False"
       ]
      },
      {
       "output_type": "stream",
       "stream": "stdout",
       "text": [
        "\n",
        "Action: 2\n",
        "New state: <2.569263, 3.396097>\n",
        "Reward: -1\n",
        "State: <2.569263, 3.396097>\n",
        "xxxxxx\n",
        "xS   x\n",
        "x    x\n",
        "x  A x\n",
        "xxxxxx\n",
        "In goal: False\n",
        "In pit: False\n",
        "In puddle: False"
       ]
      },
      {
       "output_type": "stream",
       "stream": "stdout",
       "text": [
        "\n",
        "Action: 2\n",
        "New state: <2.972545, 3.394209>\n",
        "Reward: 0\n",
        "State: <2.972545, 3.394209>\n",
        "xxxxxx\n",
        "xS   x\n",
        "x    x\n",
        "x  A x\n",
        "xxxxxx\n",
        "In goal: False\n",
        "In pit: False\n",
        "In puddle: False"
       ]
      },
      {
       "output_type": "stream",
       "stream": "stdout",
       "text": [
        "\n",
        "Action: 3\n",
        "New state: <2.980954, 2.985206>\n",
        "Reward: 0\n",
        "State: <2.980954, 2.985206>\n",
        "xxxxxx\n",
        "xS   x\n",
        "x    x\n",
        "x  A x\n",
        "xxxxxx\n",
        "In goal: False\n",
        "In pit: False\n",
        "In puddle: False"
       ]
      },
      {
       "output_type": "stream",
       "stream": "stdout",
       "text": [
        "\n",
        "Action: 2\n",
        "New state: <3.375551, 2.982601>\n",
        "Reward: 0\n",
        "State: <3.375551, 2.982601>\n",
        "xxxxxx\n",
        "xS   x\n",
        "x    x\n",
        "x  A x\n",
        "xxxxxx\n",
        "In goal: False\n",
        "In pit: False\n",
        "In puddle: False"
       ]
      },
      {
       "output_type": "stream",
       "stream": "stdout",
       "text": [
        "\n",
        "Action: 1\n",
        "New state: <3.371890, 3.396315>\n",
        "Reward: -1\n",
        "State: <3.371890, 3.396315>\n",
        "xxxxxx\n",
        "xS   x\n",
        "x    x\n",
        "x  A x\n",
        "xxxxxx\n",
        "In goal: False\n",
        "In pit: False\n",
        "In puddle: False"
       ]
      },
      {
       "output_type": "stream",
       "stream": "stdout",
       "text": [
        "\n",
        "Action: 0\n",
        "New state: <2.970945, 3.404675>\n",
        "Reward: 0\n",
        "State: <2.970945, 3.404675>\n",
        "xxxxxx\n",
        "xS   x\n",
        "x    x\n",
        "x  A x\n",
        "xxxxxx\n",
        "In goal: False\n",
        "In pit: False\n",
        "In puddle: False"
       ]
      },
      {
       "output_type": "stream",
       "stream": "stdout",
       "text": [
        "\n",
        "Action: 3\n",
        "New state: <2.984346, 3.016332>\n",
        "Reward: 0\n",
        "State: <2.984346, 3.016332>\n",
        "xxxxxx\n",
        "xS   x\n",
        "x    x\n",
        "x  A x\n",
        "xxxxxx\n",
        "In goal: False\n",
        "In pit: False\n",
        "In puddle: False"
       ]
      },
      {
       "output_type": "stream",
       "stream": "stdout",
       "text": [
        "\n",
        "Action: 2\n",
        "New state: <3.375890, 3.024229>\n",
        "Reward: 0\n",
        "State: <3.375890, 3.024229>\n",
        "xxxxxx\n",
        "xS   x\n",
        "x    x\n",
        "x  A x\n",
        "xxxxxx\n",
        "In goal: False\n",
        "In pit: False\n",
        "In puddle: False"
       ]
      },
      {
       "output_type": "stream",
       "stream": "stdout",
       "text": [
        "\n",
        "Action: 2\n",
        "New state: <3.375890, 3.024229>\n",
        "Reward: 0\n",
        "State: <3.375890, 3.024229>\n",
        "xxxxxx\n",
        "xS   x\n",
        "x    x\n",
        "x  A x\n",
        "xxxxxx\n",
        "In goal: False\n",
        "In pit: False\n",
        "In puddle: False"
       ]
      },
      {
       "output_type": "stream",
       "stream": "stdout",
       "text": [
        "\n",
        "Action: 2\n",
        "New state: <3.375890, 3.024229>\n",
        "Reward: 0\n",
        "State: <3.375890, 3.024229>\n",
        "xxxxxx\n",
        "xS   x\n",
        "x    x\n",
        "x  A x\n",
        "xxxxxx\n",
        "In goal: False\n",
        "In pit: False\n",
        "In puddle: False"
       ]
      },
      {
       "output_type": "stream",
       "stream": "stdout",
       "text": [
        "\n",
        "Action: 2\n",
        "New state: <3.375890, 3.024229>\n",
        "Reward: 0\n",
        "State: <3.375890, 3.024229>\n",
        "xxxxxx\n",
        "xS   x\n",
        "x    x\n",
        "x  A x\n",
        "xxxxxx\n",
        "In goal: False\n",
        "In pit: False\n",
        "In puddle: False"
       ]
      },
      {
       "output_type": "stream",
       "stream": "stdout",
       "text": [
        "\n",
        "Action: 2\n",
        "New state: <3.375890, 3.024229>\n",
        "Reward: 0\n",
        "State: <3.375890, 3.024229>\n",
        "xxxxxx\n",
        "xS   x\n",
        "x    x\n",
        "x  A x\n",
        "xxxxxx\n",
        "In goal: False\n",
        "In pit: False\n",
        "In puddle: False"
       ]
      },
      {
       "output_type": "stream",
       "stream": "stdout",
       "text": [
        "\n",
        "Action: 2\n",
        "New state: <3.375890, 3.024229>\n",
        "Reward: 0\n",
        "State: <3.375890, 3.024229>\n",
        "xxxxxx\n",
        "xS   x\n",
        "x    x\n",
        "x  A x\n",
        "xxxxxx\n",
        "In goal: False\n",
        "In pit: False\n",
        "In puddle: False"
       ]
      },
      {
       "output_type": "stream",
       "stream": "stdout",
       "text": [
        "\n",
        "Action: 2\n",
        "New state: <3.375890, 3.024229>\n",
        "Reward: 0\n",
        "State: <3.375890, 3.024229>\n",
        "xxxxxx\n",
        "xS   x\n",
        "x    x\n",
        "x  A x\n",
        "xxxxxx\n",
        "In goal: False\n",
        "In pit: False\n",
        "In puddle: False"
       ]
      },
      {
       "output_type": "stream",
       "stream": "stdout",
       "text": [
        "\n",
        "Action: 2\n",
        "New state: <3.375890, 3.024229>\n",
        "Reward: 0\n",
        "State: <3.375890, 3.024229>\n",
        "xxxxxx\n",
        "xS   x\n",
        "x    x\n",
        "x  A x\n",
        "xxxxxx\n",
        "In goal: False\n",
        "In pit: False\n",
        "In puddle: False"
       ]
      },
      {
       "output_type": "stream",
       "stream": "stdout",
       "text": [
        "\n",
        "********************************************************************************\n",
        "State: <1.000000, 1.000000>\n",
        "xxxxxx\n",
        "xA   x\n",
        "x    x\n",
        "x  G x\n",
        "xxxxxx\n",
        "In goal: False\n",
        "In pit: False\n",
        "In puddle: False\n",
        "Action: 2\n",
        "New state: <1.402020, 0.999328>\n",
        "Reward: -1\n",
        "State: <1.402020, 0.999328>\n",
        "xxxxxx\n",
        "xA   x\n",
        "x    x\n",
        "x  G x\n",
        "xxxxxx\n",
        "In goal: False\n",
        "In pit: False\n",
        "In puddle: False"
       ]
      },
      {
       "output_type": "stream",
       "stream": "stdout",
       "text": [
        "\n",
        "Action: 2\n",
        "New state: <1.790851, 1.012812>\n",
        "Reward: -1\n",
        "State: <1.790851, 1.012812>\n",
        "xxxxxx\n",
        "xS   x\n",
        "xA   x\n",
        "x  G x\n",
        "xxxxxx\n",
        "In goal: False\n",
        "In pit: False\n",
        "In puddle: False"
       ]
      },
      {
       "output_type": "stream",
       "stream": "stdout",
       "text": [
        "\n",
        "Action: 1\n",
        "New state: <1.795974, 1.391173>\n",
        "Reward: -1\n",
        "State: <1.795974, 1.391173>\n",
        "xxxxxx\n",
        "xS   x\n",
        "xA   x\n",
        "x  G x\n",
        "xxxxxx\n",
        "In goal: False\n",
        "In pit: False\n",
        "In puddle: False"
       ]
      },
      {
       "output_type": "stream",
       "stream": "stdout",
       "text": [
        "\n",
        "Action: 1\n",
        "New state: <1.804258, 1.810826>\n",
        "Reward: -1\n",
        "State: <1.804258, 1.810826>\n",
        "xxxxxx\n",
        "xS   x\n",
        "x A  x\n",
        "x  G x\n",
        "xxxxxx\n",
        "In goal: False\n",
        "In pit: False\n",
        "In puddle: False"
       ]
      },
      {
       "output_type": "stream",
       "stream": "stdout",
       "text": [
        "\n",
        "Action: 2\n",
        "New state: <2.211222, 1.794998>\n",
        "Reward: -1\n",
        "State: <2.211222, 1.794998>\n",
        "xxxxxx\n",
        "xS   x\n",
        "x A  x\n",
        "x  G x\n",
        "xxxxxx\n",
        "In goal: False\n",
        "In pit: False\n",
        "In puddle: False"
       ]
      },
      {
       "output_type": "stream",
       "stream": "stdout",
       "text": [
        "\n",
        "Action: 1\n",
        "New state: <2.203686, 2.186362>\n",
        "Reward: -1\n",
        "State: <2.203686, 2.186362>\n",
        "xxxxxx\n",
        "xS   x\n",
        "x A  x\n",
        "x  G x\n",
        "xxxxxx\n",
        "In goal: False\n",
        "In pit: False\n",
        "In puddle: False"
       ]
      },
      {
       "output_type": "stream",
       "stream": "stdout",
       "text": [
        "\n",
        "Action: 2\n",
        "New state: <2.589952, 2.174403>\n",
        "Reward: -1\n",
        "State: <2.589952, 2.174403>\n",
        "xxxxxx\n",
        "xS   x\n",
        "x    x\n",
        "x AG x\n",
        "xxxxxx\n",
        "In goal: False\n",
        "In pit: False\n",
        "In puddle: False"
       ]
      },
      {
       "output_type": "stream",
       "stream": "stdout",
       "text": [
        "\n",
        "Action: 1\n",
        "New state: <2.590368, 2.583129>\n",
        "Reward: -1\n",
        "State: <2.590368, 2.583129>\n",
        "xxxxxx\n",
        "xS   x\n",
        "x    x\n",
        "x  A x\n",
        "xxxxxx\n",
        "In goal: False\n",
        "In pit: False\n",
        "In puddle: False"
       ]
      },
      {
       "output_type": "stream",
       "stream": "stdout",
       "text": [
        "\n",
        "Action: 1\n",
        "New state: <2.583903, 2.977901>\n",
        "Reward: 0\n",
        "State: <2.583903, 2.977901>\n",
        "xxxxxx\n",
        "xS   x\n",
        "x    x\n",
        "x  A x\n",
        "xxxxxx\n",
        "In goal: False\n",
        "In pit: False\n",
        "In puddle: False"
       ]
      },
      {
       "output_type": "stream",
       "stream": "stdout",
       "text": [
        "\n",
        "Action: 2\n",
        "New state: <2.991810, 2.976584>\n",
        "Reward: 0\n",
        "State: <2.991810, 2.976584>\n",
        "xxxxxx\n",
        "xS   x\n",
        "x    x\n",
        "x  A x\n",
        "xxxxxx\n",
        "In goal: False\n",
        "In pit: False\n",
        "In puddle: False"
       ]
      },
      {
       "output_type": "stream",
       "stream": "stdout",
       "text": [
        "\n",
        "Action: 2\n",
        "New state: <3.398200, 2.991596>\n",
        "Reward: 0\n",
        "State: <3.398200, 2.991596>\n",
        "xxxxxx\n",
        "xS   x\n",
        "x    x\n",
        "x  A x\n",
        "xxxxxx\n",
        "In goal: False\n",
        "In pit: False\n",
        "In puddle: False"
       ]
      },
      {
       "output_type": "stream",
       "stream": "stdout",
       "text": [
        "\n",
        "Action: 2\n",
        "New state: <3.398200, 2.991596>\n",
        "Reward: 0\n",
        "State: <3.398200, 2.991596>\n",
        "xxxxxx\n",
        "xS   x\n",
        "x    x\n",
        "x  A x\n",
        "xxxxxx\n",
        "In goal: False\n",
        "In pit: False\n",
        "In puddle: False"
       ]
      },
      {
       "output_type": "stream",
       "stream": "stdout",
       "text": [
        "\n",
        "Action: 2\n",
        "New state: <3.398200, 2.991596>\n",
        "Reward: 0\n",
        "State: <3.398200, 2.991596>\n",
        "xxxxxx\n",
        "xS   x\n",
        "x    x\n",
        "x  A x\n",
        "xxxxxx\n",
        "In goal: False\n",
        "In pit: False\n",
        "In puddle: False"
       ]
      },
      {
       "output_type": "stream",
       "stream": "stdout",
       "text": [
        "\n",
        "Action: 2\n",
        "New state: <3.398200, 2.991596>\n",
        "Reward: 0\n",
        "State: <3.398200, 2.991596>\n",
        "xxxxxx\n",
        "xS   x\n",
        "x    x\n",
        "x  A x\n",
        "xxxxxx\n",
        "In goal: False\n",
        "In pit: False\n",
        "In puddle: False"
       ]
      },
      {
       "output_type": "stream",
       "stream": "stdout",
       "text": [
        "\n",
        "Action: 2\n",
        "New state: <3.398200, 2.991596>\n",
        "Reward: 0\n",
        "State: <3.398200, 2.991596>\n",
        "xxxxxx\n",
        "xS   x\n",
        "x    x\n",
        "x  A x\n",
        "xxxxxx\n",
        "In goal: False\n",
        "In pit: False\n",
        "In puddle: False"
       ]
      },
      {
       "output_type": "stream",
       "stream": "stdout",
       "text": [
        "\n",
        "Action: 2\n",
        "New state: <3.398200, 2.991596>\n",
        "Reward: 0\n",
        "State: <3.398200, 2.991596>\n",
        "xxxxxx\n",
        "xS   x\n",
        "x    x\n",
        "x  A x\n",
        "xxxxxx\n",
        "In goal: False\n",
        "In pit: False\n",
        "In puddle: False"
       ]
      },
      {
       "output_type": "stream",
       "stream": "stdout",
       "text": [
        "\n",
        "Action: 2\n",
        "New state: <3.398200, 2.991596>\n",
        "Reward: 0\n",
        "State: <3.398200, 2.991596>\n",
        "xxxxxx\n",
        "xS   x\n",
        "x    x\n",
        "x  A x\n",
        "xxxxxx\n",
        "In goal: False\n",
        "In pit: False\n",
        "In puddle: False"
       ]
      },
      {
       "output_type": "stream",
       "stream": "stdout",
       "text": [
        "\n",
        "Action: 2\n",
        "New state: <3.398200, 2.991596>\n",
        "Reward: 0\n",
        "State: <3.398200, 2.991596>\n",
        "xxxxxx\n",
        "xS   x\n",
        "x    x\n",
        "x  A x\n",
        "xxxxxx\n",
        "In goal: False\n",
        "In pit: False\n",
        "In puddle: False"
       ]
      },
      {
       "output_type": "stream",
       "stream": "stdout",
       "text": [
        "\n",
        "Action: 2\n",
        "New state: <3.398200, 2.991596>\n",
        "Reward: 0\n",
        "State: <3.398200, 2.991596>\n",
        "xxxxxx\n",
        "xS   x\n",
        "x    x\n",
        "x  A x\n",
        "xxxxxx\n",
        "In goal: False\n",
        "In pit: False\n",
        "In puddle: False"
       ]
      },
      {
       "output_type": "stream",
       "stream": "stdout",
       "text": [
        "\n",
        "Action: 2\n",
        "New state: <3.398200, 2.991596>\n",
        "Reward: 0\n",
        "State: <3.398200, 2.991596>\n",
        "xxxxxx\n",
        "xS   x\n",
        "x    x\n",
        "x  A x\n",
        "xxxxxx\n",
        "In goal: False\n",
        "In pit: False\n",
        "In puddle: False"
       ]
      },
      {
       "output_type": "stream",
       "stream": "stdout",
       "text": [
        "\n",
        "Action: 2\n",
        "New state: <3.398200, 2.991596>\n",
        "Reward: 0\n",
        "State: <3.398200, 2.991596>\n",
        "xxxxxx\n",
        "xS   x\n",
        "x    x\n",
        "x  A x\n",
        "xxxxxx\n",
        "In goal: False\n",
        "In pit: False\n",
        "In puddle: False"
       ]
      },
      {
       "output_type": "stream",
       "stream": "stdout",
       "text": [
        "\n",
        "Action: 2\n",
        "New state: <3.398200, 2.991596>\n",
        "Reward: 0\n",
        "State: <3.398200, 2.991596>\n",
        "xxxxxx\n",
        "xS   x\n",
        "x    x\n",
        "x  A x\n",
        "xxxxxx\n",
        "In goal: False\n",
        "In pit: False\n",
        "In puddle: False"
       ]
      },
      {
       "output_type": "stream",
       "stream": "stdout",
       "text": [
        "\n",
        "Action: 2\n",
        "New state: <3.398200, 2.991596>\n",
        "Reward: 0\n",
        "State: <3.398200, 2.991596>\n",
        "xxxxxx\n",
        "xS   x\n",
        "x    x\n",
        "x  A x\n",
        "xxxxxx\n",
        "In goal: False\n",
        "In pit: False\n",
        "In puddle: False"
       ]
      },
      {
       "output_type": "stream",
       "stream": "stdout",
       "text": [
        "\n",
        "Action: 2\n",
        "New state: <3.398200, 2.991596>\n",
        "Reward: 0\n",
        "State: <3.398200, 2.991596>\n",
        "xxxxxx\n",
        "xS   x\n",
        "x    x\n",
        "x  A x\n",
        "xxxxxx\n",
        "In goal: False\n",
        "In pit: False\n",
        "In puddle: False"
       ]
      },
      {
       "output_type": "stream",
       "stream": "stdout",
       "text": [
        "\n",
        "Action: 2\n",
        "New state: <3.398200, 2.991596>\n",
        "Reward: 0\n",
        "State: <3.398200, 2.991596>\n",
        "xxxxxx\n",
        "xS   x\n",
        "x    x\n",
        "x  A x\n",
        "xxxxxx\n",
        "In goal: False\n",
        "In pit: False\n",
        "In puddle: False"
       ]
      },
      {
       "output_type": "stream",
       "stream": "stdout",
       "text": [
        "\n",
        "Action: 2\n",
        "New state: <3.398200, 2.991596>\n",
        "Reward: 0\n",
        "State: <3.398200, 2.991596>\n",
        "xxxxxx\n",
        "xS   x\n",
        "x    x\n",
        "x  A x\n",
        "xxxxxx\n",
        "In goal: False\n",
        "In pit: False\n",
        "In puddle: False"
       ]
      },
      {
       "output_type": "stream",
       "stream": "stdout",
       "text": [
        "\n",
        "Action: 2\n",
        "New state: <3.398200, 2.991596>\n",
        "Reward: 0\n",
        "State: <3.398200, 2.991596>\n",
        "xxxxxx\n",
        "xS   x\n",
        "x    x\n",
        "x  A x\n",
        "xxxxxx\n",
        "In goal: False\n",
        "In pit: False\n",
        "In puddle: False"
       ]
      },
      {
       "output_type": "stream",
       "stream": "stdout",
       "text": [
        "\n",
        "Action: 2\n",
        "New state: <3.398200, 2.991596>\n",
        "Reward: 0\n",
        "State: <3.398200, 2.991596>\n",
        "xxxxxx\n",
        "xS   x\n",
        "x    x\n",
        "x  A x\n",
        "xxxxxx\n",
        "In goal: False\n",
        "In pit: False\n",
        "In puddle: False"
       ]
      },
      {
       "output_type": "stream",
       "stream": "stdout",
       "text": [
        "\n",
        "Action: 2\n",
        "New state: <3.398200, 2.991596>\n",
        "Reward: 0\n",
        "State: <3.398200, 2.991596>\n",
        "xxxxxx\n",
        "xS   x\n",
        "x    x\n",
        "x  A x\n",
        "xxxxxx\n",
        "In goal: False\n",
        "In pit: False\n",
        "In puddle: False"
       ]
      },
      {
       "output_type": "stream",
       "stream": "stdout",
       "text": [
        "\n",
        "Action: 2\n",
        "New state: <3.398200, 2.991596>\n",
        "Reward: 0\n",
        "State: <3.398200, 2.991596>\n",
        "xxxxxx\n",
        "xS   x\n",
        "x    x\n",
        "x  A x\n",
        "xxxxxx\n",
        "In goal: False\n",
        "In pit: False\n",
        "In puddle: False"
       ]
      },
      {
       "output_type": "stream",
       "stream": "stdout",
       "text": [
        "\n",
        "********************************************************************************\n",
        "State: <1.000000, 1.000000>\n",
        "xxxxxx\n",
        "xA   x\n",
        "x    x\n",
        "x  G x\n",
        "xxxxxx\n",
        "In goal: False\n",
        "In pit: False\n",
        "In puddle: False\n",
        "Action: 2\n",
        "New state: <1.398147, 0.989721>\n",
        "Reward: -1\n",
        "State: <1.398147, 0.989721>\n",
        "xxxxxx\n",
        "xA   x\n",
        "x    x\n",
        "x  G x\n",
        "xxxxxx\n",
        "In goal: False\n",
        "In pit: False\n",
        "In puddle: False"
       ]
      },
      {
       "output_type": "stream",
       "stream": "stdout",
       "text": [
        "\n",
        "Action: 2\n",
        "New state: <1.795093, 0.984650>\n",
        "Reward: -1\n",
        "State: <1.795093, 0.984650>\n",
        "xxxxxx\n",
        "xS   x\n",
        "xA   x\n",
        "x  G x\n",
        "xxxxxx\n",
        "In goal: False\n",
        "In pit: False\n",
        "In puddle: False"
       ]
      },
      {
       "output_type": "stream",
       "stream": "stdout",
       "text": [
        "\n",
        "Action: 2\n",
        "New state: <2.186986, 0.984584>\n",
        "Reward: -1\n",
        "State: <2.186986, 0.984584>\n",
        "xxxxxx\n",
        "xS   x\n",
        "xA   x\n",
        "x  G x\n",
        "xxxxxx\n",
        "In goal: False\n",
        "In pit: False\n",
        "In puddle: False"
       ]
      },
      {
       "output_type": "stream",
       "stream": "stdout",
       "text": [
        "\n",
        "Action: 2\n",
        "New state: <2.589036, 0.974232>\n",
        "Reward: -1\n",
        "State: <2.589036, 0.974232>\n",
        "xxxxxx\n",
        "xS   x\n",
        "x    x\n",
        "xA G x\n",
        "xxxxxx\n",
        "In goal: False\n",
        "In pit: False\n",
        "In puddle: False"
       ]
      },
      {
       "output_type": "stream",
       "stream": "stdout",
       "text": [
        "\n",
        "Action: 2\n",
        "New state: <3.006954, 0.966229>\n",
        "Reward: -1\n",
        "State: <3.006954, 0.966229>\n",
        "xxxxxx\n",
        "xS   x\n",
        "x    x\n",
        "xA G x\n",
        "xxxxxx\n",
        "In goal: False\n",
        "In pit: False\n",
        "In puddle: False"
       ]
      },
      {
       "output_type": "stream",
       "stream": "stdout",
       "text": [
        "\n",
        "Action: 2\n",
        "New state: <3.401104, 0.976339>\n",
        "Reward: -1\n",
        "State: <3.401104, 0.976339>\n",
        "xxxxxx\n",
        "xS   x\n",
        "x    x\n",
        "xA G x\n",
        "xxxxxx\n",
        "In goal: False\n",
        "In pit: False\n",
        "In puddle: False"
       ]
      },
      {
       "output_type": "stream",
       "stream": "stdout",
       "text": [
        "\n",
        "Action: 2\n",
        "New state: <3.401104, 0.976339>\n",
        "Reward: -1\n",
        "State: <3.401104, 0.976339>\n",
        "xxxxxx\n",
        "xS   x\n",
        "x    x\n",
        "xA G x\n",
        "xxxxxx\n",
        "In goal: False\n",
        "In pit: False\n",
        "In puddle: False"
       ]
      },
      {
       "output_type": "stream",
       "stream": "stdout",
       "text": [
        "\n",
        "Action: 2\n",
        "New state: <3.401104, 0.976339>\n",
        "Reward: -1\n",
        "State: <3.401104, 0.976339>\n",
        "xxxxxx\n",
        "xS   x\n",
        "x    x\n",
        "xA G x\n",
        "xxxxxx\n",
        "In goal: False\n",
        "In pit: False\n",
        "In puddle: False"
       ]
      },
      {
       "output_type": "stream",
       "stream": "stdout",
       "text": [
        "\n",
        "Action: 2\n",
        "New state: <3.401104, 0.976339>\n",
        "Reward: -1\n",
        "State: <3.401104, 0.976339>\n",
        "xxxxxx\n",
        "xS   x\n",
        "x    x\n",
        "xA G x\n",
        "xxxxxx\n",
        "In goal: False\n",
        "In pit: False\n",
        "In puddle: False"
       ]
      },
      {
       "output_type": "stream",
       "stream": "stdout",
       "text": [
        "\n",
        "Action: 2\n",
        "New state: <3.401104, 0.976339>\n",
        "Reward: -1\n",
        "State: <3.401104, 0.976339>\n",
        "xxxxxx\n",
        "xS   x\n",
        "x    x\n",
        "xA G x\n",
        "xxxxxx\n",
        "In goal: False\n",
        "In pit: False\n",
        "In puddle: False"
       ]
      },
      {
       "output_type": "stream",
       "stream": "stdout",
       "text": [
        "\n",
        "Action: 1\n",
        "New state: <3.404945, 1.387394>\n",
        "Reward: -1\n",
        "State: <3.404945, 1.387394>\n",
        "xxxxxx\n",
        "xS   x\n",
        "x    x\n",
        "xA G x\n",
        "xxxxxx\n",
        "In goal: False\n",
        "In pit: False\n",
        "In puddle: False"
       ]
      },
      {
       "output_type": "stream",
       "stream": "stdout",
       "text": [
        "\n",
        "Action: 2\n",
        "New state: <3.404945, 1.387394>\n",
        "Reward: -1\n",
        "State: <3.404945, 1.387394>\n",
        "xxxxxx\n",
        "xS   x\n",
        "x    x\n",
        "xA G x\n",
        "xxxxxx\n",
        "In goal: False\n",
        "In pit: False\n",
        "In puddle: False"
       ]
      },
      {
       "output_type": "stream",
       "stream": "stdout",
       "text": [
        "\n",
        "Action: 1\n",
        "New state: <3.396147, 1.795098>\n",
        "Reward: -1\n",
        "State: <3.396147, 1.795098>\n",
        "xxxxxx\n",
        "xS   x\n",
        "x    x\n",
        "x AG x\n",
        "xxxxxx\n",
        "In goal: False\n",
        "In pit: False\n",
        "In puddle: False"
       ]
      },
      {
       "output_type": "stream",
       "stream": "stdout",
       "text": [
        "\n",
        "Action: 2\n",
        "New state: <3.396147, 1.795098>\n",
        "Reward: -1\n",
        "State: <3.396147, 1.795098>\n",
        "xxxxxx\n",
        "xS   x\n",
        "x    x\n",
        "x AG x\n",
        "xxxxxx\n",
        "In goal: False\n",
        "In pit: False\n",
        "In puddle: False"
       ]
      },
      {
       "output_type": "stream",
       "stream": "stdout",
       "text": [
        "\n",
        "Action: 1\n",
        "New state: <3.388789, 2.195519>\n",
        "Reward: -1\n",
        "State: <3.388789, 2.195519>\n",
        "xxxxxx\n",
        "xS   x\n",
        "x    x\n",
        "x AG x\n",
        "xxxxxx\n",
        "In goal: False\n",
        "In pit: False\n",
        "In puddle: False"
       ]
      },
      {
       "output_type": "stream",
       "stream": "stdout",
       "text": [
        "\n",
        "Action: 2\n",
        "New state: <3.388789, 2.195519>\n",
        "Reward: -1\n",
        "State: <3.388789, 2.195519>\n",
        "xxxxxx\n",
        "xS   x\n",
        "x    x\n",
        "x AG x\n",
        "xxxxxx\n",
        "In goal: False\n",
        "In pit: False\n",
        "In puddle: False"
       ]
      },
      {
       "output_type": "stream",
       "stream": "stdout",
       "text": [
        "\n",
        "Action: 3\n",
        "New state: <3.379140, 1.797279>\n",
        "Reward: -1\n",
        "State: <3.379140, 1.797279>\n",
        "xxxxxx\n",
        "xS   x\n",
        "x    x\n",
        "x AG x\n",
        "xxxxxx\n",
        "In goal: False\n",
        "In pit: False\n",
        "In puddle: False"
       ]
      },
      {
       "output_type": "stream",
       "stream": "stdout",
       "text": [
        "\n",
        "Action: 1\n",
        "New state: <3.362604, 2.191149>\n",
        "Reward: -1\n",
        "State: <3.362604, 2.191149>\n",
        "xxxxxx\n",
        "xS   x\n",
        "x    x\n",
        "x AG x\n",
        "xxxxxx\n",
        "In goal: False\n",
        "In pit: False\n",
        "In puddle: False"
       ]
      },
      {
       "output_type": "stream",
       "stream": "stdout",
       "text": [
        "\n",
        "Action: 2\n",
        "New state: <3.362604, 2.191149>\n",
        "Reward: -1\n",
        "State: <3.362604, 2.191149>\n",
        "xxxxxx\n",
        "xS   x\n",
        "x    x\n",
        "x AG x\n",
        "xxxxxx\n",
        "In goal: False\n",
        "In pit: False\n",
        "In puddle: False"
       ]
      },
      {
       "output_type": "stream",
       "stream": "stdout",
       "text": [
        "\n",
        "Action: 1\n",
        "New state: <3.347546, 2.576192>\n",
        "Reward: -1\n",
        "State: <3.347546, 2.576192>\n",
        "xxxxxx\n",
        "xS   x\n",
        "x    x\n",
        "x  A x\n",
        "xxxxxx\n",
        "In goal: False\n",
        "In pit: False\n",
        "In puddle: False"
       ]
      },
      {
       "output_type": "stream",
       "stream": "stdout",
       "text": [
        "\n",
        "Action: 2\n",
        "New state: <3.347546, 2.576192>\n",
        "Reward: -1\n",
        "State: <3.347546, 2.576192>\n",
        "xxxxxx\n",
        "xS   x\n",
        "x    x\n",
        "x  A x\n",
        "xxxxxx\n",
        "In goal: False\n",
        "In pit: False\n",
        "In puddle: False"
       ]
      },
      {
       "output_type": "stream",
       "stream": "stdout",
       "text": [
        "\n",
        "Action: 1\n",
        "New state: <3.346863, 2.960484>\n",
        "Reward: 0\n",
        "State: <3.346863, 2.960484>\n",
        "xxxxxx\n",
        "xS   x\n",
        "x    x\n",
        "x  A x\n",
        "xxxxxx\n",
        "In goal: False\n",
        "In pit: False\n",
        "In puddle: False"
       ]
      },
      {
       "output_type": "stream",
       "stream": "stdout",
       "text": [
        "\n",
        "Action: 2\n",
        "New state: <3.346863, 2.960484>\n",
        "Reward: 0\n",
        "State: <3.346863, 2.960484>\n",
        "xxxxxx\n",
        "xS   x\n",
        "x    x\n",
        "x  A x\n",
        "xxxxxx\n",
        "In goal: False\n",
        "In pit: False\n",
        "In puddle: False"
       ]
      },
      {
       "output_type": "stream",
       "stream": "stdout",
       "text": [
        "\n",
        "Action: 2\n",
        "New state: <3.346863, 2.960484>\n",
        "Reward: 0\n",
        "State: <3.346863, 2.960484>\n",
        "xxxxxx\n",
        "xS   x\n",
        "x    x\n",
        "x  A x\n",
        "xxxxxx\n",
        "In goal: False\n",
        "In pit: False\n",
        "In puddle: False"
       ]
      },
      {
       "output_type": "stream",
       "stream": "stdout",
       "text": [
        "\n",
        "Action: 2\n",
        "New state: <3.346863, 2.960484>\n",
        "Reward: 0\n",
        "State: <3.346863, 2.960484>\n",
        "xxxxxx\n",
        "xS   x\n",
        "x    x\n",
        "x  A x\n",
        "xxxxxx\n",
        "In goal: False\n",
        "In pit: False\n",
        "In puddle: False"
       ]
      },
      {
       "output_type": "stream",
       "stream": "stdout",
       "text": [
        "\n",
        "Action: 2\n",
        "New state: <3.346863, 2.960484>\n",
        "Reward: 0\n",
        "State: <3.346863, 2.960484>\n",
        "xxxxxx\n",
        "xS   x\n",
        "x    x\n",
        "x  A x\n",
        "xxxxxx\n",
        "In goal: False\n",
        "In pit: False\n",
        "In puddle: False"
       ]
      },
      {
       "output_type": "stream",
       "stream": "stdout",
       "text": [
        "\n",
        "Action: 2\n",
        "New state: <3.346863, 2.960484>\n",
        "Reward: 0\n",
        "State: <3.346863, 2.960484>\n",
        "xxxxxx\n",
        "xS   x\n",
        "x    x\n",
        "x  A x\n",
        "xxxxxx\n",
        "In goal: False\n",
        "In pit: False\n",
        "In puddle: False"
       ]
      },
      {
       "output_type": "stream",
       "stream": "stdout",
       "text": [
        "\n",
        "Action: 2\n",
        "New state: <3.346863, 2.960484>\n",
        "Reward: 0\n",
        "State: <3.346863, 2.960484>\n",
        "xxxxxx\n",
        "xS   x\n",
        "x    x\n",
        "x  A x\n",
        "xxxxxx\n",
        "In goal: False\n",
        "In pit: False\n",
        "In puddle: False"
       ]
      },
      {
       "output_type": "stream",
       "stream": "stdout",
       "text": [
        "\n",
        "Action: 2\n",
        "New state: <3.346863, 2.960484>\n",
        "Reward: 0\n",
        "State: <3.346863, 2.960484>\n",
        "xxxxxx\n",
        "xS   x\n",
        "x    x\n",
        "x  A x\n",
        "xxxxxx\n",
        "In goal: False\n",
        "In pit: False\n",
        "In puddle: False"
       ]
      },
      {
       "output_type": "stream",
       "stream": "stdout",
       "text": [
        "\n",
        "Action: 2\n",
        "New state: <3.346863, 2.960484>\n",
        "Reward: 0\n",
        "State: <3.346863, 2.960484>\n",
        "xxxxxx\n",
        "xS   x\n",
        "x    x\n",
        "x  A x\n",
        "xxxxxx\n",
        "In goal: False\n",
        "In pit: False\n",
        "In puddle: False"
       ]
      },
      {
       "output_type": "stream",
       "stream": "stdout",
       "text": [
        "\n",
        "********************************************************************************\n",
        "State: <1.000000, 1.000000>\n",
        "xxxxxx\n",
        "xA   x\n",
        "x    x\n",
        "x  G x\n",
        "xxxxxx\n",
        "In goal: False\n",
        "In pit: False\n",
        "In puddle: False\n",
        "Action: 1\n",
        "New state: <1.008638, 1.391501>\n",
        "Reward: -1\n",
        "State: <1.008638, 1.391501>\n",
        "xxxxxx\n",
        "xA   x\n",
        "x    x\n",
        "x  G x\n",
        "xxxxxx\n",
        "In goal: False\n",
        "In pit: False\n",
        "In puddle: False"
       ]
      },
      {
       "output_type": "stream",
       "stream": "stdout",
       "text": [
        "\n",
        "Action: 2\n",
        "New state: <1.401016, 1.384639>\n",
        "Reward: -1\n",
        "State: <1.401016, 1.384639>\n",
        "xxxxxx\n",
        "xA   x\n",
        "x    x\n",
        "x  G x\n",
        "xxxxxx\n",
        "In goal: False\n",
        "In pit: False\n",
        "In puddle: False"
       ]
      },
      {
       "output_type": "stream",
       "stream": "stdout",
       "text": [
        "\n",
        "Action: 2\n",
        "New state: <1.798912, 1.382841>\n",
        "Reward: -1\n",
        "State: <1.798912, 1.382841>\n",
        "xxxxxx\n",
        "xS   x\n",
        "xA   x\n",
        "x  G x\n",
        "xxxxxx\n",
        "In goal: False\n",
        "In pit: False\n",
        "In puddle: False"
       ]
      },
      {
       "output_type": "stream",
       "stream": "stdout",
       "text": [
        "\n",
        "Action: 2\n",
        "New state: <2.195416, 1.397421>\n",
        "Reward: -1\n",
        "State: <2.195416, 1.397421>\n",
        "xxxxxx\n",
        "xS   x\n",
        "xA   x\n",
        "x  G x\n",
        "xxxxxx\n",
        "In goal: False\n",
        "In pit: False\n",
        "In puddle: False"
       ]
      },
      {
       "output_type": "stream",
       "stream": "stdout",
       "text": [
        "\n",
        "Action: 2\n",
        "New state: <2.590881, 1.406927>\n",
        "Reward: -1\n",
        "State: <2.590881, 1.406927>\n",
        "xxxxxx\n",
        "xS   x\n",
        "x    x\n",
        "xA G x\n",
        "xxxxxx\n",
        "In goal: False\n",
        "In pit: False\n",
        "In puddle: False"
       ]
      },
      {
       "output_type": "stream",
       "stream": "stdout",
       "text": [
        "\n",
        "Action: 2\n",
        "New state: <2.985683, 1.396014>\n",
        "Reward: -1\n",
        "State: <2.985683, 1.396014>\n",
        "xxxxxx\n",
        "xS   x\n",
        "x    x\n",
        "xA G x\n",
        "xxxxxx\n",
        "In goal: False\n",
        "In pit: False\n",
        "In puddle: False"
       ]
      },
      {
       "output_type": "stream",
       "stream": "stdout",
       "text": [
        "\n",
        "Action: 1\n",
        "New state: <2.978959, 1.804718>\n",
        "Reward: -1\n",
        "State: <2.978959, 1.804718>\n",
        "xxxxxx\n",
        "xS   x\n",
        "x    x\n",
        "x AG x\n",
        "xxxxxx\n",
        "In goal: False\n",
        "In pit: False\n",
        "In puddle: False"
       ]
      },
      {
       "output_type": "stream",
       "stream": "stdout",
       "text": [
        "\n",
        "Action: 3\n",
        "New state: <2.990475, 1.402300>\n",
        "Reward: -1\n",
        "State: <2.990475, 1.402300>\n",
        "xxxxxx\n",
        "xS   x\n",
        "x    x\n",
        "xA G x\n",
        "xxxxxx\n",
        "In goal: False\n",
        "In pit: False\n",
        "In puddle: False"
       ]
      },
      {
       "output_type": "stream",
       "stream": "stdout",
       "text": [
        "\n",
        "Action: 1\n",
        "New state: <2.979151, 1.806139>\n",
        "Reward: -1\n",
        "State: <2.979151, 1.806139>\n",
        "xxxxxx\n",
        "xS   x\n",
        "x    x\n",
        "x AG x\n",
        "xxxxxx\n",
        "In goal: False\n",
        "In pit: False\n",
        "In puddle: False"
       ]
      },
      {
       "output_type": "stream",
       "stream": "stdout",
       "text": [
        "\n",
        "Action: 2\n",
        "New state: <3.382918, 1.806129>\n",
        "Reward: -1\n",
        "State: <3.382918, 1.806129>\n",
        "xxxxxx\n",
        "xS   x\n",
        "x    x\n",
        "x AG x\n",
        "xxxxxx\n",
        "In goal: False\n",
        "In pit: False\n",
        "In puddle: False"
       ]
      },
      {
       "output_type": "stream",
       "stream": "stdout",
       "text": [
        "\n",
        "Action: 1\n",
        "New state: <3.381255, 2.185615>\n",
        "Reward: -1\n",
        "State: <3.381255, 2.185615>\n",
        "xxxxxx\n",
        "xS   x\n",
        "x    x\n",
        "x AG x\n",
        "xxxxxx\n",
        "In goal: False\n",
        "In pit: False\n",
        "In puddle: False"
       ]
      },
      {
       "output_type": "stream",
       "stream": "stdout",
       "text": [
        "\n",
        "Action: 1\n",
        "New state: <3.387770, 2.587213>\n",
        "Reward: -1\n",
        "State: <3.387770, 2.587213>\n",
        "xxxxxx\n",
        "xS   x\n",
        "x    x\n",
        "x  A x\n",
        "xxxxxx\n",
        "In goal: False\n",
        "In pit: False\n",
        "In puddle: False"
       ]
      },
      {
       "output_type": "stream",
       "stream": "stdout",
       "text": [
        "\n",
        "Action: 1\n",
        "New state: <3.386221, 2.992801>\n",
        "Reward: 0\n",
        "State: <3.386221, 2.992801>\n",
        "xxxxxx\n",
        "xS   x\n",
        "x    x\n",
        "x  A x\n",
        "xxxxxx\n",
        "In goal: False\n",
        "In pit: False\n",
        "In puddle: False"
       ]
      },
      {
       "output_type": "stream",
       "stream": "stdout",
       "text": [
        "\n",
        "Action: 2\n",
        "New state: <3.386221, 2.992801>\n",
        "Reward: 0\n",
        "State: <3.386221, 2.992801>\n",
        "xxxxxx\n",
        "xS   x\n",
        "x    x\n",
        "x  A x\n",
        "xxxxxx\n",
        "In goal: False\n",
        "In pit: False\n",
        "In puddle: False"
       ]
      },
      {
       "output_type": "stream",
       "stream": "stdout",
       "text": [
        "\n",
        "Action: 2\n",
        "New state: <3.386221, 2.992801>\n",
        "Reward: 0\n",
        "State: <3.386221, 2.992801>\n",
        "xxxxxx\n",
        "xS   x\n",
        "x    x\n",
        "x  A x\n",
        "xxxxxx\n",
        "In goal: False\n",
        "In pit: False\n",
        "In puddle: False"
       ]
      },
      {
       "output_type": "stream",
       "stream": "stdout",
       "text": [
        "\n",
        "Action: 2\n",
        "New state: <3.386221, 2.992801>\n",
        "Reward: 0\n",
        "State: <3.386221, 2.992801>\n",
        "xxxxxx\n",
        "xS   x\n",
        "x    x\n",
        "x  A x\n",
        "xxxxxx\n",
        "In goal: False\n",
        "In pit: False\n",
        "In puddle: False"
       ]
      },
      {
       "output_type": "stream",
       "stream": "stdout",
       "text": [
        "\n",
        "Action: 2\n",
        "New state: <3.386221, 2.992801>\n",
        "Reward: 0\n",
        "State: <3.386221, 2.992801>\n",
        "xxxxxx\n",
        "xS   x\n",
        "x    x\n",
        "x  A x\n",
        "xxxxxx\n",
        "In goal: False\n",
        "In pit: False\n",
        "In puddle: False"
       ]
      },
      {
       "output_type": "stream",
       "stream": "stdout",
       "text": [
        "\n",
        "Action: 2\n",
        "New state: <3.386221, 2.992801>\n",
        "Reward: 0\n",
        "State: <3.386221, 2.992801>\n",
        "xxxxxx\n",
        "xS   x\n",
        "x    x\n",
        "x  A x\n",
        "xxxxxx\n",
        "In goal: False\n",
        "In pit: False\n",
        "In puddle: False"
       ]
      },
      {
       "output_type": "stream",
       "stream": "stdout",
       "text": [
        "\n",
        "Action: 2\n",
        "New state: <3.386221, 2.992801>\n",
        "Reward: 0\n",
        "State: <3.386221, 2.992801>\n",
        "xxxxxx\n",
        "xS   x\n",
        "x    x\n",
        "x  A x\n",
        "xxxxxx\n",
        "In goal: False\n",
        "In pit: False\n",
        "In puddle: False"
       ]
      },
      {
       "output_type": "stream",
       "stream": "stdout",
       "text": [
        "\n",
        "Action: 2\n",
        "New state: <3.386221, 2.992801>\n",
        "Reward: 0\n",
        "State: <3.386221, 2.992801>\n",
        "xxxxxx\n",
        "xS   x\n",
        "x    x\n",
        "x  A x\n",
        "xxxxxx\n",
        "In goal: False\n",
        "In pit: False\n",
        "In puddle: False"
       ]
      },
      {
       "output_type": "stream",
       "stream": "stdout",
       "text": [
        "\n",
        "Action: 2\n",
        "New state: <3.386221, 2.992801>\n",
        "Reward: 0\n",
        "State: <3.386221, 2.992801>\n",
        "xxxxxx\n",
        "xS   x\n",
        "x    x\n",
        "x  A x\n",
        "xxxxxx\n",
        "In goal: False\n",
        "In pit: False\n",
        "In puddle: False"
       ]
      },
      {
       "output_type": "stream",
       "stream": "stdout",
       "text": [
        "\n",
        "Action: 2\n",
        "New state: <3.386221, 2.992801>\n",
        "Reward: 0\n",
        "State: <3.386221, 2.992801>\n",
        "xxxxxx\n",
        "xS   x\n",
        "x    x\n",
        "x  A x\n",
        "xxxxxx\n",
        "In goal: False\n",
        "In pit: False\n",
        "In puddle: False"
       ]
      },
      {
       "output_type": "stream",
       "stream": "stdout",
       "text": [
        "\n",
        "Action: 2\n",
        "New state: <3.386221, 2.992801>\n",
        "Reward: 0\n",
        "State: <3.386221, 2.992801>\n",
        "xxxxxx\n",
        "xS   x\n",
        "x    x\n",
        "x  A x\n",
        "xxxxxx\n",
        "In goal: False\n",
        "In pit: False\n",
        "In puddle: False"
       ]
      },
      {
       "output_type": "stream",
       "stream": "stdout",
       "text": [
        "\n",
        "Action: 2\n",
        "New state: <3.386221, 2.992801>\n",
        "Reward: 0\n",
        "State: <3.386221, 2.992801>\n",
        "xxxxxx\n",
        "xS   x\n",
        "x    x\n",
        "x  A x\n",
        "xxxxxx\n",
        "In goal: False\n",
        "In pit: False\n",
        "In puddle: False"
       ]
      },
      {
       "output_type": "stream",
       "stream": "stdout",
       "text": [
        "\n",
        "Action: 2\n",
        "New state: <3.386221, 2.992801>\n",
        "Reward: 0\n",
        "State: <3.386221, 2.992801>\n",
        "xxxxxx\n",
        "xS   x\n",
        "x    x\n",
        "x  A x\n",
        "xxxxxx\n",
        "In goal: False\n",
        "In pit: False\n",
        "In puddle: False"
       ]
      },
      {
       "output_type": "stream",
       "stream": "stdout",
       "text": [
        "\n",
        "Action: 2\n",
        "New state: <3.386221, 2.992801>\n",
        "Reward: 0\n",
        "State: <3.386221, 2.992801>\n",
        "xxxxxx\n",
        "xS   x\n",
        "x    x\n",
        "x  A x\n",
        "xxxxxx\n",
        "In goal: False\n",
        "In pit: False\n",
        "In puddle: False"
       ]
      },
      {
       "output_type": "stream",
       "stream": "stdout",
       "text": [
        "\n",
        "Action: 2\n",
        "New state: <3.386221, 2.992801>\n",
        "Reward: 0\n",
        "State: <3.386221, 2.992801>\n",
        "xxxxxx\n",
        "xS   x\n",
        "x    x\n",
        "x  A x\n",
        "xxxxxx\n",
        "In goal: False\n",
        "In pit: False\n",
        "In puddle: False"
       ]
      },
      {
       "output_type": "stream",
       "stream": "stdout",
       "text": [
        "\n",
        "Action: 2\n",
        "New state: <3.386221, 2.992801>\n",
        "Reward: 0\n",
        "State: <3.386221, 2.992801>\n",
        "xxxxxx\n",
        "xS   x\n",
        "x    x\n",
        "x  A x\n",
        "xxxxxx\n",
        "In goal: False\n",
        "In pit: False\n",
        "In puddle: False"
       ]
      },
      {
       "output_type": "stream",
       "stream": "stdout",
       "text": [
        "\n",
        "Action: 2\n",
        "New state: <3.386221, 2.992801>\n",
        "Reward: 0\n",
        "State: <3.386221, 2.992801>\n",
        "xxxxxx\n",
        "xS   x\n",
        "x    x\n",
        "x  A x\n",
        "xxxxxx\n",
        "In goal: False\n",
        "In pit: False\n",
        "In puddle: False"
       ]
      },
      {
       "output_type": "stream",
       "stream": "stdout",
       "text": [
        "\n",
        "Action: 2\n",
        "New state: <3.386221, 2.992801>\n",
        "Reward: 0\n",
        "State: <3.386221, 2.992801>\n",
        "xxxxxx\n",
        "xS   x\n",
        "x    x\n",
        "x  A x\n",
        "xxxxxx\n",
        "In goal: False\n",
        "In pit: False\n",
        "In puddle: False"
       ]
      },
      {
       "output_type": "stream",
       "stream": "stdout",
       "text": [
        "\n",
        "********************************************************************************\n",
        "State: <1.000000, 1.000000>\n",
        "xxxxxx\n",
        "xA   x\n",
        "x    x\n",
        "x  G x\n",
        "xxxxxx\n",
        "In goal: False\n",
        "In pit: False\n",
        "In puddle: False\n",
        "Action: 2\n",
        "New state: <1.407284, 1.006207>\n",
        "Reward: -1\n",
        "State: <1.407284, 1.006207>\n",
        "xxxxxx\n",
        "xA   x\n",
        "x    x\n",
        "x  G x\n",
        "xxxxxx\n",
        "In goal: False\n",
        "In pit: False\n",
        "In puddle: False"
       ]
      },
      {
       "output_type": "stream",
       "stream": "stdout",
       "text": [
        "\n",
        "Action: 2\n",
        "New state: <1.802343, 1.026977>\n",
        "Reward: -1\n",
        "State: <1.802343, 1.026977>\n",
        "xxxxxx\n",
        "xS   x\n",
        "xA   x\n",
        "x  G x\n",
        "xxxxxx\n",
        "In goal: False\n",
        "In pit: False\n",
        "In puddle: False"
       ]
      },
      {
       "output_type": "stream",
       "stream": "stdout",
       "text": [
        "\n",
        "Action: 1\n",
        "New state: <1.784336, 1.414103>\n",
        "Reward: -1\n",
        "State: <1.784336, 1.414103>\n",
        "xxxxxx\n",
        "xS   x\n",
        "xA   x\n",
        "x  G x\n",
        "xxxxxx\n",
        "In goal: False\n",
        "In pit: False\n",
        "In puddle: False"
       ]
      },
      {
       "output_type": "stream",
       "stream": "stdout",
       "text": [
        "\n",
        "Action: 2\n",
        "New state: <2.165446, 1.397196>\n",
        "Reward: -1\n",
        "State: <2.165446, 1.397196>\n",
        "xxxxxx\n",
        "xS   x\n",
        "xA   x\n",
        "x  G x\n",
        "xxxxxx\n",
        "In goal: False\n",
        "In pit: False\n",
        "In puddle: False"
       ]
      },
      {
       "output_type": "stream",
       "stream": "stdout",
       "text": [
        "\n",
        "Action: 3\n",
        "New state: <2.178483, 0.997861>\n",
        "Reward: -1\n",
        "State: <2.178483, 0.997861>\n",
        "xxxxxx\n",
        "xS   x\n",
        "xA   x\n",
        "x  G x\n",
        "xxxxxx\n",
        "In goal: False\n",
        "In pit: False\n",
        "In puddle: False"
       ]
      },
      {
       "output_type": "stream",
       "stream": "stdout",
       "text": [
        "\n",
        "Action: 1\n",
        "New state: <2.166101, 1.404915>\n",
        "Reward: -1\n",
        "State: <2.166101, 1.404915>\n",
        "xxxxxx\n",
        "xS   x\n",
        "xA   x\n",
        "x  G x\n",
        "xxxxxx\n",
        "In goal: False\n",
        "In pit: False\n",
        "In puddle: False"
       ]
      },
      {
       "output_type": "stream",
       "stream": "stdout",
       "text": [
        "\n",
        "Action: 2\n",
        "New state: <2.565168, 1.398678>\n",
        "Reward: -1\n",
        "State: <2.565168, 1.398678>\n",
        "xxxxxx\n",
        "xS   x\n",
        "x    x\n",
        "xA G x\n",
        "xxxxxx\n",
        "In goal: False\n",
        "In pit: False\n",
        "In puddle: False"
       ]
      },
      {
       "output_type": "stream",
       "stream": "stdout",
       "text": [
        "\n",
        "Action: 2\n",
        "New state: <2.951309, 1.396116>\n",
        "Reward: -1\n",
        "State: <2.951309, 1.396116>\n",
        "xxxxxx\n",
        "xS   x\n",
        "x    x\n",
        "xA G x\n",
        "xxxxxx\n",
        "In goal: False\n",
        "In pit: False\n",
        "In puddle: False"
       ]
      },
      {
       "output_type": "stream",
       "stream": "stdout",
       "text": [
        "\n",
        "Action: 1\n",
        "New state: <2.942911, 1.782531>\n",
        "Reward: -1\n",
        "State: <2.942911, 1.782531>\n",
        "xxxxxx\n",
        "xS   x\n",
        "x    x\n",
        "x AG x\n",
        "xxxxxx\n",
        "In goal: False\n",
        "In pit: False\n",
        "In puddle: False"
       ]
      },
      {
       "output_type": "stream",
       "stream": "stdout",
       "text": [
        "\n",
        "Action: 2\n",
        "New state: <3.352549, 1.783708>\n",
        "Reward: -1\n",
        "State: <3.352549, 1.783708>\n",
        "xxxxxx\n",
        "xS   x\n",
        "x    x\n",
        "x AG x\n",
        "xxxxxx\n",
        "In goal: False\n",
        "In pit: False\n",
        "In puddle: False"
       ]
      },
      {
       "output_type": "stream",
       "stream": "stdout",
       "text": [
        "\n",
        "Action: 1\n",
        "New state: <3.351739, 2.185201>\n",
        "Reward: -1\n",
        "State: <3.351739, 2.185201>\n",
        "xxxxxx\n",
        "xS   x\n",
        "x    x\n",
        "x AG x\n",
        "xxxxxx\n",
        "In goal: False\n",
        "In pit: False\n",
        "In puddle: False"
       ]
      },
      {
       "output_type": "stream",
       "stream": "stdout",
       "text": [
        "\n",
        "Action: 2\n",
        "New state: <3.351739, 2.185201>\n",
        "Reward: -1\n",
        "State: <3.351739, 2.185201>\n",
        "xxxxxx\n",
        "xS   x\n",
        "x    x\n",
        "x AG x\n",
        "xxxxxx\n",
        "In goal: False\n",
        "In pit: False\n",
        "In puddle: False"
       ]
      },
      {
       "output_type": "stream",
       "stream": "stdout",
       "text": [
        "\n",
        "Action: 1\n",
        "New state: <3.352297, 2.580896>\n",
        "Reward: -1\n",
        "State: <3.352297, 2.580896>\n",
        "xxxxxx\n",
        "xS   x\n",
        "x    x\n",
        "x  A x\n",
        "xxxxxx\n",
        "In goal: False\n",
        "In pit: False\n",
        "In puddle: False"
       ]
      },
      {
       "output_type": "stream",
       "stream": "stdout",
       "text": [
        "\n",
        "Action: 2\n",
        "New state: <3.352297, 2.580896>\n",
        "Reward: -1\n",
        "State: <3.352297, 2.580896>\n",
        "xxxxxx\n",
        "xS   x\n",
        "x    x\n",
        "x  A x\n",
        "xxxxxx\n",
        "In goal: False\n",
        "In pit: False\n",
        "In puddle: False"
       ]
      },
      {
       "output_type": "stream",
       "stream": "stdout",
       "text": [
        "\n",
        "Action: 1\n",
        "New state: <3.348313, 2.979662>\n",
        "Reward: 0\n",
        "State: <3.348313, 2.979662>\n",
        "xxxxxx\n",
        "xS   x\n",
        "x    x\n",
        "x  A x\n",
        "xxxxxx\n",
        "In goal: False\n",
        "In pit: False\n",
        "In puddle: False"
       ]
      },
      {
       "output_type": "stream",
       "stream": "stdout",
       "text": [
        "\n",
        "Action: 2\n",
        "New state: <3.348313, 2.979662>\n",
        "Reward: 0\n",
        "State: <3.348313, 2.979662>\n",
        "xxxxxx\n",
        "xS   x\n",
        "x    x\n",
        "x  A x\n",
        "xxxxxx\n",
        "In goal: False\n",
        "In pit: False\n",
        "In puddle: False"
       ]
      },
      {
       "output_type": "stream",
       "stream": "stdout",
       "text": [
        "\n",
        "Action: 2\n",
        "New state: <3.348313, 2.979662>\n",
        "Reward: 0\n",
        "State: <3.348313, 2.979662>\n",
        "xxxxxx\n",
        "xS   x\n",
        "x    x\n",
        "x  A x\n",
        "xxxxxx\n",
        "In goal: False\n",
        "In pit: False\n",
        "In puddle: False"
       ]
      },
      {
       "output_type": "stream",
       "stream": "stdout",
       "text": [
        "\n",
        "Action: 0\n",
        "New state: <2.940416, 2.999613>\n",
        "Reward: 0\n",
        "State: <2.940416, 2.999613>\n",
        "xxxxxx\n",
        "xS   x\n",
        "x    x\n",
        "x  A x\n",
        "xxxxxx\n",
        "In goal: False\n",
        "In pit: False\n",
        "In puddle: False"
       ]
      },
      {
       "output_type": "stream",
       "stream": "stdout",
       "text": [
        "\n",
        "Action: 2\n",
        "New state: <3.333930, 3.012478>\n",
        "Reward: 0\n",
        "State: <3.333930, 3.012478>\n",
        "xxxxxx\n",
        "xS   x\n",
        "x    x\n",
        "x  A x\n",
        "xxxxxx\n",
        "In goal: False\n",
        "In pit: False\n",
        "In puddle: False"
       ]
      },
      {
       "output_type": "stream",
       "stream": "stdout",
       "text": [
        "\n",
        "Action: 2\n",
        "New state: <3.333930, 3.012478>\n",
        "Reward: 0\n",
        "State: <3.333930, 3.012478>\n",
        "xxxxxx\n",
        "xS   x\n",
        "x    x\n",
        "x  A x\n",
        "xxxxxx\n",
        "In goal: False\n",
        "In pit: False\n",
        "In puddle: False"
       ]
      },
      {
       "output_type": "stream",
       "stream": "stdout",
       "text": [
        "\n",
        "Action: 2\n",
        "New state: <3.333930, 3.012478>\n",
        "Reward: 0\n",
        "State: <3.333930, 3.012478>\n",
        "xxxxxx\n",
        "xS   x\n",
        "x    x\n",
        "x  A x\n",
        "xxxxxx\n",
        "In goal: False\n",
        "In pit: False\n",
        "In puddle: False"
       ]
      },
      {
       "output_type": "stream",
       "stream": "stdout",
       "text": [
        "\n",
        "Action: 2\n",
        "New state: <3.333930, 3.012478>\n",
        "Reward: 0\n",
        "State: <3.333930, 3.012478>\n",
        "xxxxxx\n",
        "xS   x\n",
        "x    x\n",
        "x  A x\n",
        "xxxxxx\n",
        "In goal: False\n",
        "In pit: False\n",
        "In puddle: False"
       ]
      },
      {
       "output_type": "stream",
       "stream": "stdout",
       "text": [
        "\n",
        "Action: 2\n",
        "New state: <3.333930, 3.012478>\n",
        "Reward: 0\n",
        "State: <3.333930, 3.012478>\n",
        "xxxxxx\n",
        "xS   x\n",
        "x    x\n",
        "x  A x\n",
        "xxxxxx\n",
        "In goal: False\n",
        "In pit: False\n",
        "In puddle: False"
       ]
      },
      {
       "output_type": "stream",
       "stream": "stdout",
       "text": [
        "\n",
        "Action: 2\n",
        "New state: <3.333930, 3.012478>\n",
        "Reward: 0\n",
        "State: <3.333930, 3.012478>\n",
        "xxxxxx\n",
        "xS   x\n",
        "x    x\n",
        "x  A x\n",
        "xxxxxx\n",
        "In goal: False\n",
        "In pit: False\n",
        "In puddle: False"
       ]
      },
      {
       "output_type": "stream",
       "stream": "stdout",
       "text": [
        "\n",
        "Action: 2\n",
        "New state: <3.333930, 3.012478>\n",
        "Reward: 0\n",
        "State: <3.333930, 3.012478>\n",
        "xxxxxx\n",
        "xS   x\n",
        "x    x\n",
        "x  A x\n",
        "xxxxxx\n",
        "In goal: False\n",
        "In pit: False\n",
        "In puddle: False"
       ]
      },
      {
       "output_type": "stream",
       "stream": "stdout",
       "text": [
        "\n",
        "Action: 2\n",
        "New state: <3.333930, 3.012478>\n",
        "Reward: 0\n",
        "State: <3.333930, 3.012478>\n",
        "xxxxxx\n",
        "xS   x\n",
        "x    x\n",
        "x  A x\n",
        "xxxxxx\n",
        "In goal: False\n",
        "In pit: False\n",
        "In puddle: False"
       ]
      },
      {
       "output_type": "stream",
       "stream": "stdout",
       "text": [
        "\n",
        "Action: 2\n",
        "New state: <3.333930, 3.012478>\n",
        "Reward: 0\n",
        "State: <3.333930, 3.012478>\n",
        "xxxxxx\n",
        "xS   x\n",
        "x    x\n",
        "x  A x\n",
        "xxxxxx\n",
        "In goal: False\n",
        "In pit: False\n",
        "In puddle: False"
       ]
      },
      {
       "output_type": "stream",
       "stream": "stdout",
       "text": [
        "\n",
        "Action: 2\n",
        "New state: <3.333930, 3.012478>\n",
        "Reward: 0\n",
        "State: <3.333930, 3.012478>\n",
        "xxxxxx\n",
        "xS   x\n",
        "x    x\n",
        "x  A x\n",
        "xxxxxx\n",
        "In goal: False\n",
        "In pit: False\n",
        "In puddle: False"
       ]
      },
      {
       "output_type": "stream",
       "stream": "stdout",
       "text": [
        "\n",
        "Action: 2\n",
        "New state: <3.333930, 3.012478>\n",
        "Reward: 0\n",
        "State: <3.333930, 3.012478>\n",
        "xxxxxx\n",
        "xS   x\n",
        "x    x\n",
        "x  A x\n",
        "xxxxxx\n",
        "In goal: False\n",
        "In pit: False\n",
        "In puddle: False"
       ]
      },
      {
       "output_type": "stream",
       "stream": "stdout",
       "text": [
        "\n",
        "Action: 2\n",
        "New state: <3.333930, 3.012478>\n",
        "Reward: 0\n",
        "State: <3.333930, 3.012478>\n",
        "xxxxxx\n",
        "xS   x\n",
        "x    x\n",
        "x  A x\n",
        "xxxxxx\n",
        "In goal: False\n",
        "In pit: False\n",
        "In puddle: False"
       ]
      },
      {
       "output_type": "stream",
       "stream": "stdout",
       "text": [
        "\n",
        "********************************************************************************\n",
        "State: <1.000000, 1.000000>\n",
        "xxxxxx\n",
        "xA   x\n",
        "x    x\n",
        "x  G x\n",
        "xxxxxx\n",
        "In goal: False\n",
        "In pit: False\n",
        "In puddle: False\n",
        "Action: 3\n",
        "New state: <1.003163, 0.604336>\n",
        "Reward: -1\n",
        "State: <1.003163, 0.604336>\n",
        "xxxxxx\n",
        "xA   x\n",
        "x    x\n",
        "x  G x\n",
        "xxxxxx\n",
        "In goal: False\n",
        "In pit: False\n",
        "In puddle: False"
       ]
      },
      {
       "output_type": "stream",
       "stream": "stdout",
       "text": [
        "\n",
        "Action: 1\n",
        "New state: <1.007183, 0.984449>\n",
        "Reward: -1\n",
        "State: <1.007183, 0.984449>\n",
        "xxxxxx\n",
        "xA   x\n",
        "x    x\n",
        "x  G x\n",
        "xxxxxx\n",
        "In goal: False\n",
        "In pit: False\n",
        "In puddle: False"
       ]
      },
      {
       "output_type": "stream",
       "stream": "stdout",
       "text": [
        "\n",
        "Action: 2\n",
        "New state: <1.415401, 0.989827>\n",
        "Reward: -1\n",
        "State: <1.415401, 0.989827>\n",
        "xxxxxx\n",
        "xA   x\n",
        "x    x\n",
        "x  G x\n",
        "xxxxxx\n",
        "In goal: False\n",
        "In pit: False\n",
        "In puddle: False"
       ]
      },
      {
       "output_type": "stream",
       "stream": "stdout",
       "text": [
        "\n",
        "Action: 2\n",
        "New state: <1.815223, 0.992843>\n",
        "Reward: -1\n",
        "State: <1.815223, 0.992843>\n",
        "xxxxxx\n",
        "xS   x\n",
        "xA   x\n",
        "x  G x\n",
        "xxxxxx\n",
        "In goal: False\n",
        "In pit: False\n",
        "In puddle: False"
       ]
      },
      {
       "output_type": "stream",
       "stream": "stdout",
       "text": [
        "\n",
        "Action: 2\n",
        "New state: <2.218174, 0.994941>\n",
        "Reward: -1\n",
        "State: <2.218174, 0.994941>\n",
        "xxxxxx\n",
        "xS   x\n",
        "xA   x\n",
        "x  G x\n",
        "xxxxxx\n",
        "In goal: False\n",
        "In pit: False\n",
        "In puddle: False"
       ]
      },
      {
       "output_type": "stream",
       "stream": "stdout",
       "text": [
        "\n",
        "Action: 1\n",
        "New state: <2.220192, 1.390633>\n",
        "Reward: -1\n",
        "State: <2.220192, 1.390633>\n",
        "xxxxxx\n",
        "xS   x\n",
        "xA   x\n",
        "x  G x\n",
        "xxxxxx\n",
        "In goal: False\n",
        "In pit: False\n",
        "In puddle: False"
       ]
      },
      {
       "output_type": "stream",
       "stream": "stdout",
       "text": [
        "\n",
        "Action: 1\n",
        "New state: <2.236152, 1.786626>\n",
        "Reward: -1\n",
        "State: <2.236152, 1.786626>\n",
        "xxxxxx\n",
        "xS   x\n",
        "x A  x\n",
        "x  G x\n",
        "xxxxxx\n",
        "In goal: False\n",
        "In pit: False\n",
        "In puddle: False"
       ]
      },
      {
       "output_type": "stream",
       "stream": "stdout",
       "text": [
        "\n",
        "Action: 2\n",
        "New state: <2.619748, 1.785073>\n",
        "Reward: -1\n",
        "State: <2.619748, 1.785073>\n",
        "xxxxxx\n",
        "xS   x\n",
        "x    x\n",
        "x AG x\n",
        "xxxxxx\n",
        "In goal: False\n",
        "In pit: False\n",
        "In puddle: False"
       ]
      },
      {
       "output_type": "stream",
       "stream": "stdout",
       "text": [
        "\n",
        "Action: 2\n",
        "New state: <3.033923, 1.787909>\n",
        "Reward: -1\n",
        "State: <3.033923, 1.787909>\n",
        "xxxxxx\n",
        "xS   x\n",
        "x    x\n",
        "x AG x\n",
        "xxxxxx\n",
        "In goal: False\n",
        "In pit: False\n",
        "In puddle: False"
       ]
      },
      {
       "output_type": "stream",
       "stream": "stdout",
       "text": [
        "\n",
        "Action: 3\n",
        "New state: <3.034324, 1.378956>\n",
        "Reward: -1\n",
        "State: <3.034324, 1.378956>\n",
        "xxxxxx\n",
        "xS   x\n",
        "x    x\n",
        "xA G x\n",
        "xxxxxx\n",
        "In goal: False\n",
        "In pit: False\n",
        "In puddle: False"
       ]
      },
      {
       "output_type": "stream",
       "stream": "stdout",
       "text": [
        "\n",
        "Action: 1\n",
        "New state: <3.030025, 1.770482>\n",
        "Reward: -1\n",
        "State: <3.030025, 1.770482>\n",
        "xxxxxx\n",
        "xS   x\n",
        "x    x\n",
        "x AG x\n",
        "xxxxxx\n",
        "In goal: False\n",
        "In pit: False\n",
        "In puddle: False"
       ]
      },
      {
       "output_type": "stream",
       "stream": "stdout",
       "text": [
        "\n",
        "Action: 1\n",
        "New state: <3.019811, 2.162922>\n",
        "Reward: -1\n",
        "State: <3.019811, 2.162922>\n",
        "xxxxxx\n",
        "xS   x\n",
        "x    x\n",
        "x AG x\n",
        "xxxxxx\n",
        "In goal: False\n",
        "In pit: False\n",
        "In puddle: False"
       ]
      },
      {
       "output_type": "stream",
       "stream": "stdout",
       "text": [
        "\n",
        "Action: 1\n",
        "New state: <3.019286, 2.556454>\n",
        "Reward: 0\n",
        "State: <3.019286, 2.556454>\n",
        "xxxxxx\n",
        "xS   x\n",
        "x    x\n",
        "x  A x\n",
        "xxxxxx\n",
        "In goal: False\n",
        "In pit: False\n",
        "In puddle: False"
       ]
      },
      {
       "output_type": "stream",
       "stream": "stdout",
       "text": [
        "\n",
        "Action: 1\n",
        "New state: <3.022551, 2.959753>\n",
        "Reward: 0\n",
        "State: <3.022551, 2.959753>\n",
        "xxxxxx\n",
        "xS   x\n",
        "x    x\n",
        "x  A x\n",
        "xxxxxx\n",
        "In goal: False\n",
        "In pit: False\n",
        "In puddle: False"
       ]
      },
      {
       "output_type": "stream",
       "stream": "stdout",
       "text": [
        "\n",
        "Action: 1\n",
        "New state: <3.028356, 3.352657>\n",
        "Reward: 0\n",
        "State: <3.028356, 3.352657>\n",
        "xxxxxx\n",
        "xS   x\n",
        "x    x\n",
        "x  A x\n",
        "xxxxxx\n",
        "In goal: False\n",
        "In pit: False\n",
        "In puddle: False"
       ]
      },
      {
       "output_type": "stream",
       "stream": "stdout",
       "text": [
        "\n",
        "Action: 3\n",
        "New state: <3.044040, 2.967308>\n",
        "Reward: 0\n",
        "State: <3.044040, 2.967308>\n",
        "xxxxxx\n",
        "xS   x\n",
        "x    x\n",
        "x  A x\n",
        "xxxxxx\n",
        "In goal: False\n",
        "In pit: False\n",
        "In puddle: False"
       ]
      },
      {
       "output_type": "stream",
       "stream": "stdout",
       "text": [
        "\n",
        "Action: 2\n",
        "New state: <3.444197, 2.982518>\n",
        "Reward: 0\n",
        "State: <3.444197, 2.982518>\n",
        "xxxxxx\n",
        "xS   x\n",
        "x    x\n",
        "x  A x\n",
        "xxxxxx\n",
        "In goal: False\n",
        "In pit: False\n",
        "In puddle: False"
       ]
      },
      {
       "output_type": "stream",
       "stream": "stdout",
       "text": [
        "\n",
        "Action: 2\n",
        "New state: <3.444197, 2.982518>\n",
        "Reward: 0\n",
        "State: <3.444197, 2.982518>\n",
        "xxxxxx\n",
        "xS   x\n",
        "x    x\n",
        "x  A x\n",
        "xxxxxx\n",
        "In goal: False\n",
        "In pit: False\n",
        "In puddle: False"
       ]
      },
      {
       "output_type": "stream",
       "stream": "stdout",
       "text": [
        "\n",
        "Action: 2\n",
        "New state: <3.444197, 2.982518>\n",
        "Reward: 0\n",
        "State: <3.444197, 2.982518>\n",
        "xxxxxx\n",
        "xS   x\n",
        "x    x\n",
        "x  A x\n",
        "xxxxxx\n",
        "In goal: False\n",
        "In pit: False\n",
        "In puddle: False"
       ]
      },
      {
       "output_type": "stream",
       "stream": "stdout",
       "text": [
        "\n",
        "Action: 2\n",
        "New state: <3.444197, 2.982518>\n",
        "Reward: 0\n",
        "State: <3.444197, 2.982518>\n",
        "xxxxxx\n",
        "xS   x\n",
        "x    x\n",
        "x  A x\n",
        "xxxxxx\n",
        "In goal: False\n",
        "In pit: False\n",
        "In puddle: False"
       ]
      },
      {
       "output_type": "stream",
       "stream": "stdout",
       "text": [
        "\n",
        "Action: 3\n",
        "New state: <3.444150, 2.584652>\n",
        "Reward: -1\n",
        "State: <3.444150, 2.584652>\n",
        "xxxxxx\n",
        "xS   x\n",
        "x    x\n",
        "x  A x\n",
        "xxxxxx\n",
        "In goal: False\n",
        "In pit: False\n",
        "In puddle: False"
       ]
      },
      {
       "output_type": "stream",
       "stream": "stdout",
       "text": [
        "\n",
        "Action: 1\n",
        "New state: <3.438219, 2.993613>\n",
        "Reward: 0\n",
        "State: <3.438219, 2.993613>\n",
        "xxxxxx\n",
        "xS   x\n",
        "x    x\n",
        "x  A x\n",
        "xxxxxx\n",
        "In goal: False\n",
        "In pit: False\n",
        "In puddle: False"
       ]
      },
      {
       "output_type": "stream",
       "stream": "stdout",
       "text": [
        "\n",
        "Action: 2\n",
        "New state: <3.438219, 2.993613>\n",
        "Reward: 0\n",
        "State: <3.438219, 2.993613>\n",
        "xxxxxx\n",
        "xS   x\n",
        "x    x\n",
        "x  A x\n",
        "xxxxxx\n",
        "In goal: False\n",
        "In pit: False\n",
        "In puddle: False"
       ]
      },
      {
       "output_type": "stream",
       "stream": "stdout",
       "text": [
        "\n",
        "Action: 3\n",
        "New state: <3.445486, 2.605001>\n",
        "Reward: -1\n",
        "State: <3.445486, 2.605001>\n",
        "xxxxxx\n",
        "xS   x\n",
        "x    x\n",
        "x  A x\n",
        "xxxxxx\n",
        "In goal: False\n",
        "In pit: False\n",
        "In puddle: False"
       ]
      },
      {
       "output_type": "stream",
       "stream": "stdout",
       "text": [
        "\n",
        "Action: 2\n",
        "New state: <3.445486, 2.605001>\n",
        "Reward: -1\n",
        "State: <3.445486, 2.605001>\n",
        "xxxxxx\n",
        "xS   x\n",
        "x    x\n",
        "x  A x\n",
        "xxxxxx\n",
        "In goal: False\n",
        "In pit: False\n",
        "In puddle: False"
       ]
      },
      {
       "output_type": "stream",
       "stream": "stdout",
       "text": [
        "\n",
        "Action: 2\n",
        "New state: <3.445486, 2.605001>\n",
        "Reward: -1\n",
        "State: <3.445486, 2.605001>\n",
        "xxxxxx\n",
        "xS   x\n",
        "x    x\n",
        "x  A x\n",
        "xxxxxx\n",
        "In goal: False\n",
        "In pit: False\n",
        "In puddle: False"
       ]
      },
      {
       "output_type": "stream",
       "stream": "stdout",
       "text": [
        "\n",
        "Action: 0\n",
        "New state: <3.033137, 2.601647>\n",
        "Reward: 0\n",
        "State: <3.033137, 2.601647>\n",
        "xxxxxx\n",
        "xS   x\n",
        "x    x\n",
        "x  A x\n",
        "xxxxxx\n",
        "In goal: False\n",
        "In pit: False\n",
        "In puddle: False"
       ]
      },
      {
       "output_type": "stream",
       "stream": "stdout",
       "text": [
        "\n",
        "Action: 2\n",
        "New state: <3.424572, 2.611166>\n",
        "Reward: -1\n",
        "State: <3.424572, 2.611166>\n",
        "xxxxxx\n",
        "xS   x\n",
        "x    x\n",
        "x  A x\n",
        "xxxxxx\n",
        "In goal: False\n",
        "In pit: False\n",
        "In puddle: False"
       ]
      },
      {
       "output_type": "stream",
       "stream": "stdout",
       "text": [
        "\n",
        "Action: 2\n",
        "New state: <3.424572, 2.611166>\n",
        "Reward: -1\n",
        "State: <3.424572, 2.611166>\n",
        "xxxxxx\n",
        "xS   x\n",
        "x    x\n",
        "x  A x\n",
        "xxxxxx\n",
        "In goal: False\n",
        "In pit: False\n",
        "In puddle: False"
       ]
      },
      {
       "output_type": "stream",
       "stream": "stdout",
       "text": [
        "\n",
        "Action: 1\n",
        "New state: <3.415314, 3.003344>\n",
        "Reward: 0\n",
        "State: <3.415314, 3.003344>\n",
        "xxxxxx\n",
        "xS   x\n",
        "x    x\n",
        "x  A x\n",
        "xxxxxx\n",
        "In goal: False\n",
        "In pit: False\n",
        "In puddle: False"
       ]
      },
      {
       "output_type": "stream",
       "stream": "stdout",
       "text": [
        "\n"
       ]
      }
     ],
     "prompt_number": 18
    },
    {
     "cell_type": "code",
     "collapsed": false,
     "input": [
      "# test agent in original env\n",
      "average_return = 0.0\n",
      "count = 10\n",
      "for i in range(count):\n",
      "    tau = mdp.sample_trajectory(agent, horizon, reset=True)\n",
      "    average_return += sum(r for (_, _, r) in tau)\n",
      "average_return /= count\n",
      "    \n",
      "print \"Average return by agent in original environment: %d\" % average_return"
     ],
     "language": "python",
     "metadata": {},
     "outputs": [
      {
       "output_type": "stream",
       "stream": "stdout",
       "text": [
        "Average return by agent in original environment: -13\n"
       ]
      }
     ],
     "prompt_number": 30
    },
    {
     "cell_type": "code",
     "collapsed": false,
     "input": [],
     "language": "python",
     "metadata": {},
     "outputs": []
    }
   ],
   "metadata": {}
  }
 ]
}