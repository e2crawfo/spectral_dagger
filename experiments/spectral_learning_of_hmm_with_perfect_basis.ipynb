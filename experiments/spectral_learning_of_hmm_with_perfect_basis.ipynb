{
 "cells": [
  {
   "cell_type": "code",
   "execution_count": 32,
   "metadata": {
    "collapsed": true
   },
   "outputs": [],
   "source": [
    "import numpy as np\n",
    "import pandas as pd\n",
    "import matplotlib.pyplot as plt\n",
    "from sklearn.utils.extmath import randomized_svd\n",
    "\n",
    "from spectral_dagger.spectral.hankel import single_obs_basis, top_k_basis\n",
    "from spectral_dagger.utils.math import normalize\n",
    "from spectral_dagger.hmm import HMM\n",
    "from spectral_dagger.spectral import SpectralPSR\n",
    "from spectral_dagger.spectral import hankel"
   ]
  },
  {
   "cell_type": "code",
   "execution_count": 43,
   "metadata": {
    "collapsed": false
   },
   "outputs": [
    {
     "name": "stdout",
     "output_type": "stream",
     "text": [
      "[[ 0.49999976  0.          0.          0.49999976  0.        ]]\n",
      "[[ 0.99999905]]\n",
      "[0, 3, 3, 3, 0, 3, 3, 0, 0, 0]\n"
     ]
    }
   ],
   "source": [
    "model_seed = np.random.randint(10000)\n",
    "data_seed = np.random.randint(10000)\n",
    "np.random.seed(model_seed)\n",
    "\n",
    "n_states = 1\n",
    "n_obs = 5\n",
    "\n",
    "observations = range(n_obs)\n",
    "states = range(n_states)\n",
    "\n",
    "O = np.random.binomial(1, 0.5, (n_states, n_obs))\n",
    "for row in O:\n",
    "    if sum(row) == 0:\n",
    "        row[:] = 1.0\n",
    "\n",
    "O = normalize(O, ord=1, conservative=True)\n",
    "print(O)\n",
    "\n",
    "T = np.random.binomial(1, 0.5, (n_states, n_states))\n",
    "for row in T:\n",
    "    if sum(row) == 0:\n",
    "        row[:] = 1.0\n",
    "\n",
    "T = normalize(T, ord=1, conservative=True)\n",
    "print(T)\n",
    "\n",
    "init_dist = normalize(np.ones(n_states), ord=1, conservative=True)\n",
    "\n",
    "hmm = HMM(observations, states, T, O, init_dist)\n",
    "\n",
    "np.random.seed(data_seed)\n",
    "print(hmm.sample_trajectory(10))\n",
    "\n",
    "horizon = 3\n",
    "n_samples = 100"
   ]
  },
  {
   "cell_type": "code",
   "execution_count": 46,
   "metadata": {
    "collapsed": true
   },
   "outputs": [],
   "source": [
    "def scan_n_states(training_data, testing_data, dimension_seq, e):\n",
    "    results = []\n",
    "    \n",
    "    for m in dimension_seq:\n",
    "        if e == 'single':\n",
    "            basis = single_obs_basis(hmm.observations, True)\n",
    "            e = 'substring'\n",
    "        else:\n",
    "            basis = top_k_basis(training_data, np.inf, e)\n",
    "\n",
    "        psr = SpectralPSR(hmm.observations)\n",
    "        psr.fit(training_data, m, e, basis=basis)\n",
    "\n",
    "        llh = psr.get_log_likelihood(testing_data, base=2)\n",
    "        perplexity = 2**(-llh)\n",
    "        \n",
    "        results.append((psr, m, perplexity))\n",
    "    \n",
    "    return min(results, key=lambda x: x[2])\n",
    "\n",
    "def scan_n_states_true(training_data, testing_data, dimension_seq, e):\n",
    "    results = []\n",
    "    \n",
    "    for m in dimension_seq:\n",
    "        if e == 'single':\n",
    "            basis = single_obs_basis(hmm.observations, True)\n",
    "            e = 'substring'\n",
    "        else:\n",
    "            basis = top_k_basis(training_data, np.inf, e)\n",
    "\n",
    "        psr = SpectralPSR(hmm.observations)\n",
    "        \n",
    "        true_hankel = hankel.true_hankel_for_hmm(hmm, basis, horizon, e)\n",
    "\n",
    "        n_oversamples = 10\n",
    "        n_iter = 5\n",
    "        max_dim = 80\n",
    "\n",
    "        svd = randomized_svd(true_hankel, max_dim, n_oversamples, n_iter)\n",
    "        psr.fit(training_data, m, e, basis=basis, svd=svd)\n",
    "\n",
    "        llh = psr.get_log_likelihood(testing_data, base=2)\n",
    "        perplexity = 2**(-llh)\n",
    "        \n",
    "        results.append((psr, m, perplexity))\n",
    "    \n",
    "    return min(results, key=lambda x: x[2])\n"
   ]
  },
  {
   "cell_type": "code",
   "execution_count": 47,
   "metadata": {
    "collapsed": false
   },
   "outputs": [
    {
     "name": "stdout",
     "output_type": "stream",
     "text": [
      "^^^^^^^^^^^^^^^^^^^^^^^^^^^^^^^^^^^^^^^^\n",
      "Estimated SVD with estimator string\n",
      "Dimension:  1\n",
      "Perplexity:  4.65785958405e+44\n",
      "^^^^^^^^^^^^^^^^^^^^^^^^^^^^^^^^^^^^^^^^\n",
      "^^^^^^^^^^^^^^^^^^^^^^^^^^^^^^^^^^^^^^^^\n",
      "Estimated SVD with estimator prefix\n",
      "Dimension:  1\n",
      "Perplexity:  11.0044343935\n",
      "^^^^^^^^^^^^^^^^^^^^^^^^^^^^^^^^^^^^^^^^\n",
      "^^^^^^^^^^^^^^^^^^^^^^^^^^^^^^^^^^^^^^^^\n",
      "Estimated SVD with estimator substring\n",
      "Dimension:  2\n",
      "Perplexity:  12.2071948741\n",
      "^^^^^^^^^^^^^^^^^^^^^^^^^^^^^^^^^^^^^^^^\n",
      "^^^^^^^^^^^^^^^^^^^^^^^^^^^^^^^^^^^^^^^^\n",
      "Estimated SVD with estimator single\n",
      "Dimension:  2\n",
      "Perplexity:  12.2071948741\n",
      "^^^^^^^^^^^^^^^^^^^^^^^^^^^^^^^^^^^^^^^^\n",
      "@@@@@@@@@@@@@@@@@@@@@@@@@@@@@@@@@@@@@@@@\n",
      "True SVD with estimator string\n",
      "Dimension:  2\n",
      "Perplexity:  3.19273084812e+16\n",
      "@@@@@@@@@@@@@@@@@@@@@@@@@@@@@@@@@@@@@@@@\n",
      "@@@@@@@@@@@@@@@@@@@@@@@@@@@@@@@@@@@@@@@@\n",
      "True SVD with estimator prefix\n",
      "Dimension:  1\n",
      "Perplexity:  10.8317123547\n",
      "@@@@@@@@@@@@@@@@@@@@@@@@@@@@@@@@@@@@@@@@\n",
      "@@@@@@@@@@@@@@@@@@@@@@@@@@@@@@@@@@@@@@@@\n",
      "True SVD with estimator substring\n",
      "Dimension:  2\n",
      "Perplexity:  11.9798606023\n",
      "@@@@@@@@@@@@@@@@@@@@@@@@@@@@@@@@@@@@@@@@\n",
      "@@@@@@@@@@@@@@@@@@@@@@@@@@@@@@@@@@@@@@@@\n",
      "True SVD with estimator single\n",
      "Dimension:  2\n",
      "Perplexity:  11.9798606023\n",
      "@@@@@@@@@@@@@@@@@@@@@@@@@@@@@@@@@@@@@@@@\n"
     ]
    }
   ],
   "source": [
    "training_samples = [hmm.sample_trajectory(horizon) for i in range(n_samples)]\n",
    "testing_samples = [hmm.sample_trajectory(horizon) for i in range(10)]\n",
    "\n",
    "dimension_seq = range(n_states, 2*n_states+1)\n",
    "\n",
    "# Do vanilla spectral learning\n",
    "for e in ['string', 'prefix', 'substring', 'single']:\n",
    "    model, n, perplexity = scan_n_states(training_samples, testing_samples, dimension_seq, e)\n",
    "    \n",
    "    print \"^\" * 40\n",
    "    print \"Estimated SVD with estimator %s\" % e\n",
    "    print \"Dimension: \", n\n",
    "    print \"Perplexity: \", perplexity\n",
    "    print \"^\" * 40\n",
    "    \n",
    "# Do spectral learning with true U, S, V\n",
    "for e in ['string', 'prefix', 'substring', 'single']:\n",
    "    model, n, perplexity = scan_n_states_true(training_samples, testing_samples, dimension_seq, e)\n",
    "    \n",
    "    print \"@\" * 40\n",
    "    print \"True SVD with estimator %s\" % e\n",
    "    print \"Dimension: \", n\n",
    "    print \"Perplexity: \", perplexity\n",
    "    print \"@\" * 40"
   ]
  },
  {
   "cell_type": "code",
   "execution_count": null,
   "metadata": {
    "collapsed": true
   },
   "outputs": [],
   "source": []
  }
 ],
 "metadata": {
  "kernelspec": {
   "display_name": "Python 2",
   "language": "python",
   "name": "python2"
  },
  "language_info": {
   "codemirror_mode": {
    "name": "ipython",
    "version": 2
   },
   "file_extension": ".py",
   "mimetype": "text/x-python",
   "name": "python",
   "nbconvert_exporter": "python",
   "pygments_lexer": "ipython2",
   "version": "2.7.9"
  }
 },
 "nbformat": 4,
 "nbformat_minor": 0
}
